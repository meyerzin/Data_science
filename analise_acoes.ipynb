{
 "cells": [
  {
   "cell_type": "code",
   "execution_count": null,
   "metadata": {},
   "outputs": [],
   "source": [
    "\n"
   ]
  },
  {
   "cell_type": "code",
   "execution_count": null,
   "metadata": {},
   "outputs": [],
   "source": [
    "import pandas as pd\n",
    "import numpy as np\n",
    "import matplotlib.pyplot as plt\n",
    "import seaborn as sns\n",
    "\n",
    "# import streamlit as st"
   ]
  },
  {
   "cell_type": "code",
   "execution_count": null,
   "metadata": {},
   "outputs": [],
   "source": [
    "df_precos = pd.read_excel('Case Dados - Analise de Ações.xlsx', sheet_name='PREÇOS')\n",
    "df_setor = pd.read_excel('Case Dados - Analise de Ações.xlsx', sheet_name='SETOR')\n",
    "df_macro = pd.read_excel('Case Dados - Analise de Ações.xlsx', sheet_name='MACRO')"
   ]
  },
  {
   "cell_type": "code",
   "execution_count": null,
   "metadata": {},
   "outputs": [],
   "source": [
    "df_setor.head(10)\n"
   ]
  },
  {
   "cell_type": "code",
   "execution_count": null,
   "metadata": {},
   "outputs": [],
   "source": [
    "df_precos.head(10)"
   ]
  },
  {
   "cell_type": "code",
   "execution_count": null,
   "metadata": {},
   "outputs": [],
   "source": [
    "df_macro.head(10)"
   ]
  },
  {
   "cell_type": "code",
   "execution_count": null,
   "metadata": {},
   "outputs": [],
   "source": [
    "df_precos.info()\n",
    "df_setor.info()\n",
    "df_macro.info()"
   ]
  },
  {
   "cell_type": "code",
   "execution_count": null,
   "metadata": {},
   "outputs": [],
   "source": [
    "df_macro[df_macro.isna().any(axis=1)]\n",
    "df_precos[df_precos.isna().any(axis=1)]\n",
    "df_setor[df_setor.isna().any(axis=1)]\n",
    "df_precos[(df_precos['NOME'].isna() | df_precos['PAPEL'].isna() | df_precos['PREÇO (R$)'].isna() | df_precos['DATA'].isna())]"
   ]
  },
  {
   "cell_type": "code",
   "execution_count": null,
   "metadata": {},
   "outputs": [],
   "source": [
    "df_macro.isna().sum()"
   ]
  },
  {
   "cell_type": "code",
   "execution_count": null,
   "metadata": {},
   "outputs": [],
   "source": [
    "df_macro.isna().sum() / len(df_macro)"
   ]
  },
  {
   "cell_type": "markdown",
   "metadata": {},
   "source": [
    "# Transformando/ juntando os dados"
   ]
  },
  {
   "cell_type": "code",
   "execution_count": null,
   "metadata": {},
   "outputs": [],
   "source": [
    "df_precos_setor = pd.merge(df_precos, df_setor, how='outer', on='PAPEL')\n",
    "df_precos_setor_macro12 = pd.merge(df_precos_setor, df_macro, how='right', on='DATA').fillna('macro')\n",
    "df_precos_setor_macro6 = pd.merge(df_precos_setor, df_macro, how='left', on='DATA').fillna('macro')"
   ]
  },
  {
   "cell_type": "markdown",
   "metadata": {},
   "source": [
    "# Criando colunas com os retornos"
   ]
  },
  {
   "cell_type": "code",
   "execution_count": null,
   "metadata": {},
   "outputs": [],
   "source": []
  },
  {
   "cell_type": "code",
   "execution_count": null,
   "metadata": {},
   "outputs": [],
   "source": [
    "\n",
    "df_precos_setor_macro12['RETORNOS_SIMPLES'] = df_precos_setor_macro12.groupby(df_precos_setor_macro12.index)['PREÇO (R$)'].pct_change()\n",
    "df_precos_setor_macro12['RETORNOS_ACUMULADOS'] = df_precos_setor_macro12.groupby(df_precos_setor_macro12.index)['RETORNOS_SIMPLES'].transform(lambda x : ((x + 1).cumprod() - 1))\n"
   ]
  },
  {
   "cell_type": "code",
   "execution_count": null,
   "metadata": {},
   "outputs": [],
   "source": [
    "df_precos_setor_macro6.set_index('PAPEL', drop=True, inplace=True)"
   ]
  },
  {
   "cell_type": "code",
   "execution_count": null,
   "metadata": {},
   "outputs": [],
   "source": [
    "df_precos_setor_macro6['RETORNOS_SIMPLES'] = df_precos_setor_macro6.groupby(df_precos_setor_macro6.index)['PREÇO (R$)'].pct_change()\n",
    "df_precos_setor_macro6['RETORNOS_LOGARITIMOS'] = np.log(df_precos_setor_macro6.groupby(df_precos_setor_macro6.index)['PREÇO (R$)'].pct_change() + 1)\n",
    "\n",
    "df_precos_setor_macro6['RETORNOS_ACUMULADOS'] = df_precos_setor_macro6.groupby(df_precos_setor_macro6.index)['RETORNOS_SIMPLES'].transform(lambda x : ((x + 1).cumprod() - 1))\n",
    "df_precos_setor_macro6.head(15)\n"
   ]
  },
  {
   "cell_type": "markdown",
   "metadata": {},
   "source": [
    "# pivotando a tabela simples para plotar fgrafico de performance"
   ]
  },
  {
   "cell_type": "code",
   "execution_count": null,
   "metadata": {},
   "outputs": [],
   "source": [
    "df_precos_pivotada = df_precos.pivot_table(index='DATA', columns='PAPEL', values='PREÇO (R$)')\n",
    "df_precos_pivotada"
   ]
  },
  {
   "cell_type": "markdown",
   "metadata": {},
   "source": [
    "# normalizando os preços"
   ]
  },
  {
   "cell_type": "code",
   "execution_count": null,
   "metadata": {},
   "outputs": [],
   "source": [
    "df_precos_pivotada_normalizada = df_precos_pivotada / df_precos_pivotada.iloc[0]\n",
    "df_precos_pivotada_normalizada"
   ]
  },
  {
   "cell_type": "markdown",
   "metadata": {},
   "source": [
    "#### ----"
   ]
  },
  {
   "cell_type": "markdown",
   "metadata": {},
   "source": [
    "### com o PX"
   ]
  },
  {
   "cell_type": "markdown",
   "metadata": {},
   "source": [
    "#### ----"
   ]
  },
  {
   "cell_type": "markdown",
   "metadata": {},
   "source": [
    "# TOP Maiores retornos / menores retornos"
   ]
  },
  {
   "cell_type": "code",
   "execution_count": null,
   "metadata": {},
   "outputs": [],
   "source": [
    "df_precos_setor_macro6.head(10)"
   ]
  },
  {
   "cell_type": "code",
   "execution_count": null,
   "metadata": {},
   "outputs": [],
   "source": [
    "primeira_cotacao = df_precos_setor_macro6.groupby(df_precos_setor_macro6.index)['PREÇO (R$)'].first()\n",
    "primeira_cotacao.head(6)"
   ]
  },
  {
   "cell_type": "code",
   "execution_count": null,
   "metadata": {},
   "outputs": [],
   "source": [
    "ultima_cotacao = df_precos_setor_macro6.groupby(df_precos_setor_macro6.index)['PREÇO (R$)'].last()\n",
    "ultima_cotacao.head(6)"
   ]
  },
  {
   "cell_type": "code",
   "execution_count": null,
   "metadata": {},
   "outputs": [],
   "source": [
    "top_valorizadas = ((ultima_cotacao - primeira_cotacao) / primeira_cotacao).sort_values(ascending=False)\n",
    "# df_precos_setor_macro6[['RETORNOS_ACUMULADOS']].groupby(df_precos_setor_macro6.index).last()"
   ]
  },
  {
   "cell_type": "code",
   "execution_count": null,
   "metadata": {},
   "outputs": [],
   "source": [
    "top_desvalorizadas = ((ultima_cotacao - primeira_cotacao) / primeira_cotacao).sort_values(ascending=True)"
   ]
  },
  {
   "cell_type": "markdown",
   "metadata": {},
   "source": [
    "### Calculando Rentabilidade BRUTA em R$"
   ]
  },
  {
   "cell_type": "code",
   "execution_count": null,
   "metadata": {},
   "outputs": [],
   "source": [
    "ganho_reais = ultima_cotacao - primeira_cotacao\n",
    "ganho_reais"
   ]
  },
  {
   "cell_type": "markdown",
   "metadata": {},
   "source": [
    "# Calculando o risco / volatilidade da ação no periodo analisado"
   ]
  },
  {
   "cell_type": "markdown",
   "metadata": {},
   "source": [
    "### calculo do desvio padrao mensal"
   ]
  },
  {
   "cell_type": "code",
   "execution_count": null,
   "metadata": {},
   "outputs": [],
   "source": [
    "volatilidade = df_precos_setor_macro6['RETORNOS_SIMPLES'].dropna().groupby(df_precos_setor_macro6.dropna().index).std(ddof=1) #ddof=1 amostral e populacional = 0\n",
    "volatilidade\n",
    "# maiores_volatilidades = volatilidade"
   ]
  },
  {
   "cell_type": "code",
   "execution_count": null,
   "metadata": {},
   "outputs": [],
   "source": [
    "df_precos_pivotada['IPCA'] = df_precos_setor_macro6['IPCA'][0:6].values\n",
    "df_precos_pivotada['SELIC'] = df_precos_setor_macro6['SELIC'][0:6].values\n",
    "df_precos_pivotada['SELIC_acumulada'] = df_precos_setor_macro6['SELIC'][0:6].values.cumsum()\n",
    "df_precos_pivotada['IPCA_acumulado'] = df_precos_setor_macro6['IPCA'][0:6].values.cumsum()\n",
    "\n",
    "df_precos_pivotada['USD'] = df_precos_setor_macro6['USD'][0:6].values\n",
    "\n",
    "df_precos_pivotada"
   ]
  },
  {
   "cell_type": "code",
   "execution_count": null,
   "metadata": {},
   "outputs": [],
   "source": [
    "df_precos_setor_macro6['IPCA'][0:6].values"
   ]
  },
  {
   "cell_type": "markdown",
   "metadata": {},
   "source": [
    "# Calculando o indice de sharpe\n",
    "- Supondo que retorno livre de risco +- 4,5%"
   ]
  },
  {
   "cell_type": "code",
   "execution_count": null,
   "metadata": {},
   "outputs": [],
   "source": [
    "risco_free = 0.045\n",
    "sharpe = (top_valorizadas.sort_index() - risco_free) / volatilidade.sort_index()\n",
    "sharpe.head(40)"
   ]
  },
  {
   "cell_type": "markdown",
   "metadata": {},
   "source": [
    "# Max Drowndown calculando:"
   ]
  },
  {
   "cell_type": "code",
   "execution_count": null,
   "metadata": {},
   "outputs": [],
   "source": [
    "precos_max_dd = df_precos_setor_macro6.groupby(df_precos_setor_macro6.index)['PREÇO (R$)'].cummax()\n",
    "# precos = df_precos_setor_macro6.groupby(df_precos_setor_macro6)[['PREÇO (R$)']]\n",
    "\n",
    "precos_max_dd.head(6)"
   ]
  },
  {
   "cell_type": "code",
   "execution_count": null,
   "metadata": {},
   "outputs": [],
   "source": [
    "precos = df_precos_setor_macro6['PREÇO (R$)']\n",
    "precos.head(6)"
   ]
  },
  {
   "cell_type": "code",
   "execution_count": null,
   "metadata": {},
   "outputs": [],
   "source": [
    "drowdowns = ((precos_max_dd - precos) / precos_max_dd)\n",
    "drowdowns.head(60)\n",
    "drowdowns_neg = ((precos - precos_max_dd ) / precos_max_dd)\n",
    "drowdowns_neg.head(60)"
   ]
  },
  {
   "cell_type": "markdown",
   "metadata": {},
   "source": [
    "### Maiore DD's"
   ]
  },
  {
   "cell_type": "code",
   "execution_count": null,
   "metadata": {},
   "outputs": [],
   "source": [
    "max_dd = drowdowns_neg.groupby(drowdowns.index).min()\n",
    "max_dd.sort_values().head(40)\n"
   ]
  },
  {
   "cell_type": "code",
   "execution_count": null,
   "metadata": {},
   "outputs": [],
   "source": [
    "lista_piores_dd = list(max_dd.sort_values().index)\n",
    "lista_piores_dd"
   ]
  },
  {
   "cell_type": "markdown",
   "metadata": {},
   "source": [
    "## calculando os valores brutos"
   ]
  },
  {
   "cell_type": "code",
   "execution_count": null,
   "metadata": {},
   "outputs": [],
   "source": [
    "drowdowns_bruto = precos_max_dd - precos\n",
    "drowdowns_neg_bruto = precos - precos_max_dd\n",
    "\n",
    "max_dd_bruto = drowdowns_neg_bruto.groupby(drowdowns_bruto.index).min()\n",
    "max_dd_bruto.sort_values().head(40)"
   ]
  },
  {
   "cell_type": "code",
   "execution_count": null,
   "metadata": {},
   "outputs": [],
   "source": [
    "lista_piores_dd_bruto = list(max_dd_bruto.sort_values().index)\n",
    "lista_piores_dd_bruto"
   ]
  },
  {
   "cell_type": "code",
   "execution_count": null,
   "metadata": {},
   "outputs": [],
   "source": [
    "df_media = df_precos_setor_macro6.groupby(df_precos_setor_macro6.index)['PREÇO (R$)'].mean().sort_values(ascending=False)\n",
    "df_media.head(20)"
   ]
  },
  {
   "cell_type": "markdown",
   "metadata": {},
   "source": [
    "# Juntando todos dados no DF"
   ]
  },
  {
   "cell_type": "code",
   "execution_count": null,
   "metadata": {},
   "outputs": [],
   "source": [
    "df_completo = df_precos_setor_macro6.copy(deep=True)\n",
    "df_completo"
   ]
  },
  {
   "cell_type": "markdown",
   "metadata": {},
   "source": [
    "#### JUNTANDO SHARPE"
   ]
  },
  {
   "cell_type": "code",
   "execution_count": null,
   "metadata": {},
   "outputs": [],
   "source": [
    "t1 = pd.merge(df_completo, sharpe.to_frame(name='SHARPE'), right_index=True,left_index=True, how='outer')\n",
    "t1"
   ]
  },
  {
   "cell_type": "markdown",
   "metadata": {},
   "source": [
    "#### JUNTANDO MEDIA"
   ]
  },
  {
   "cell_type": "code",
   "execution_count": null,
   "metadata": {},
   "outputs": [],
   "source": [
    "t2 = pd.merge(t1, df_media.to_frame(name='MÉDIA'), right_index=True,left_index=True, how='outer')\n",
    "t2"
   ]
  },
  {
   "cell_type": "markdown",
   "metadata": {},
   "source": [
    "#### JUNTANDO MAX DROW DOWN"
   ]
  },
  {
   "cell_type": "code",
   "execution_count": null,
   "metadata": {},
   "outputs": [],
   "source": [
    "t3 = pd.merge(t2,max_dd.to_frame(name='MÁXIMO DROW DOWN'), right_index=True,left_index=True, how='outer')\n",
    "t3"
   ]
  },
  {
   "cell_type": "markdown",
   "metadata": {},
   "source": [
    "#### JUNTANDO MAXIMO DROW DOWN BRUTO"
   ]
  },
  {
   "cell_type": "code",
   "execution_count": null,
   "metadata": {},
   "outputs": [],
   "source": [
    "t4 = pd.merge(t3,max_dd_bruto.to_frame(name='MÁXIMO DROW DOWN bruto'), right_index=True,left_index=True, how='outer')\n",
    "t4"
   ]
  },
  {
   "cell_type": "markdown",
   "metadata": {},
   "source": [
    "#### JUNTANDO VOLATILIDADE"
   ]
  },
  {
   "cell_type": "code",
   "execution_count": null,
   "metadata": {},
   "outputs": [],
   "source": [
    "t5 = pd.merge(t4,volatilidade.to_frame(name='VOLATILIDADE'), right_index=True,left_index=True, how='outer')\n",
    "t5"
   ]
  },
  {
   "cell_type": "markdown",
   "metadata": {},
   "source": [
    "#### JUNTANDO RETORNO DO PERIODO"
   ]
  },
  {
   "cell_type": "code",
   "execution_count": null,
   "metadata": {},
   "outputs": [],
   "source": [
    "t6 = pd.merge(t5,top_valorizadas.to_frame(name='RENTABILIDADE'), right_index=True,left_index=True, how='outer')\n",
    "t6"
   ]
  },
  {
   "cell_type": "markdown",
   "metadata": {},
   "source": [
    "#### JUNTANDO RENTABILIDADE BRUTA DO PERIODO"
   ]
  },
  {
   "cell_type": "code",
   "execution_count": null,
   "metadata": {},
   "outputs": [],
   "source": [
    "t7 = pd.merge(t6,ganho_reais.to_frame(name='GANHO BRUTO R$'), right_index=True,left_index=True, how='outer')\n",
    "t7"
   ]
  },
  {
   "cell_type": "code",
   "execution_count": 211,
   "metadata": {},
   "outputs": [
    {
     "data": {
      "text/html": [
       "<div>\n",
       "<style scoped>\n",
       "    .dataframe tbody tr th:only-of-type {\n",
       "        vertical-align: middle;\n",
       "    }\n",
       "\n",
       "    .dataframe tbody tr th {\n",
       "        vertical-align: top;\n",
       "    }\n",
       "\n",
       "    .dataframe thead th {\n",
       "        text-align: right;\n",
       "    }\n",
       "</style>\n",
       "<table border=\"1\" class=\"dataframe\">\n",
       "  <thead>\n",
       "    <tr style=\"text-align: right;\">\n",
       "      <th></th>\n",
       "      <th>DATA</th>\n",
       "      <th>NOME</th>\n",
       "      <th>PREÇO (R$)</th>\n",
       "      <th>SETOR ECONÔMICO</th>\n",
       "      <th>SUBSETOR</th>\n",
       "      <th>SEGMENTO</th>\n",
       "      <th>IPCA</th>\n",
       "      <th>SELIC</th>\n",
       "      <th>USD</th>\n",
       "      <th>RETORNOS_SIMPLES</th>\n",
       "      <th>RETORNOS_LOGARITIMOS</th>\n",
       "      <th>RETORNOS_ACUMULADOS</th>\n",
       "      <th>SHARPE</th>\n",
       "      <th>MÉDIA</th>\n",
       "      <th>MÁXIMO DROW DOWN</th>\n",
       "      <th>MÁXIMO DROW DOWN bruto</th>\n",
       "      <th>VOLATILIDADE</th>\n",
       "      <th>RENTABILIDADE</th>\n",
       "      <th>GANHO BRUTO R$</th>\n",
       "    </tr>\n",
       "    <tr>\n",
       "      <th>PAPEL</th>\n",
       "      <th></th>\n",
       "      <th></th>\n",
       "      <th></th>\n",
       "      <th></th>\n",
       "      <th></th>\n",
       "      <th></th>\n",
       "      <th></th>\n",
       "      <th></th>\n",
       "      <th></th>\n",
       "      <th></th>\n",
       "      <th></th>\n",
       "      <th></th>\n",
       "      <th></th>\n",
       "      <th></th>\n",
       "      <th></th>\n",
       "      <th></th>\n",
       "      <th></th>\n",
       "      <th></th>\n",
       "      <th></th>\n",
       "    </tr>\n",
       "  </thead>\n",
       "  <tbody>\n",
       "    <tr>\n",
       "      <th>ABEV3</th>\n",
       "      <td>2023-01-31</td>\n",
       "      <td>AMBEV S/A</td>\n",
       "      <td>13.66</td>\n",
       "      <td>Consumo não Cíclico</td>\n",
       "      <td>Bebidas</td>\n",
       "      <td>Cervejas e Refrigerantes</td>\n",
       "      <td>0.0053</td>\n",
       "      <td>0.0112</td>\n",
       "      <td>5.0987</td>\n",
       "      <td>NaN</td>\n",
       "      <td>NaN</td>\n",
       "      <td>NaN</td>\n",
       "      <td>1.928270</td>\n",
       "      <td>14.226667</td>\n",
       "      <td>-0.019766</td>\n",
       "      <td>-0.27</td>\n",
       "      <td>0.043101</td>\n",
       "      <td>0.128111</td>\n",
       "      <td>1.75</td>\n",
       "    </tr>\n",
       "    <tr>\n",
       "      <th>ABEV3</th>\n",
       "      <td>2023-02-28</td>\n",
       "      <td>AMBEV S/A</td>\n",
       "      <td>13.39</td>\n",
       "      <td>Consumo não Cíclico</td>\n",
       "      <td>Bebidas</td>\n",
       "      <td>Cervejas e Refrigerantes</td>\n",
       "      <td>0.0084</td>\n",
       "      <td>0.0092</td>\n",
       "      <td>5.2072</td>\n",
       "      <td>-0.019766</td>\n",
       "      <td>-0.019964</td>\n",
       "      <td>-0.019766</td>\n",
       "      <td>1.928270</td>\n",
       "      <td>14.226667</td>\n",
       "      <td>-0.019766</td>\n",
       "      <td>-0.27</td>\n",
       "      <td>0.043101</td>\n",
       "      <td>0.128111</td>\n",
       "      <td>1.75</td>\n",
       "    </tr>\n",
       "    <tr>\n",
       "      <th>ABEV3</th>\n",
       "      <td>2023-03-31</td>\n",
       "      <td>AMBEV S/A</td>\n",
       "      <td>14.33</td>\n",
       "      <td>Consumo não Cíclico</td>\n",
       "      <td>Bebidas</td>\n",
       "      <td>Cervejas e Refrigerantes</td>\n",
       "      <td>0.0071</td>\n",
       "      <td>0.0117</td>\n",
       "      <td>5.0798</td>\n",
       "      <td>0.070202</td>\n",
       "      <td>0.067847</td>\n",
       "      <td>0.049048</td>\n",
       "      <td>1.928270</td>\n",
       "      <td>14.226667</td>\n",
       "      <td>-0.019766</td>\n",
       "      <td>-0.27</td>\n",
       "      <td>0.043101</td>\n",
       "      <td>0.128111</td>\n",
       "      <td>1.75</td>\n",
       "    </tr>\n",
       "    <tr>\n",
       "      <th>ABEV3</th>\n",
       "      <td>2023-04-30</td>\n",
       "      <td>AMBEV S/A</td>\n",
       "      <td>14.16</td>\n",
       "      <td>Consumo não Cíclico</td>\n",
       "      <td>Bebidas</td>\n",
       "      <td>Cervejas e Refrigerantes</td>\n",
       "      <td>0.0061</td>\n",
       "      <td>0.0092</td>\n",
       "      <td>5.0001</td>\n",
       "      <td>-0.011863</td>\n",
       "      <td>-0.011934</td>\n",
       "      <td>0.036603</td>\n",
       "      <td>1.928270</td>\n",
       "      <td>14.226667</td>\n",
       "      <td>-0.019766</td>\n",
       "      <td>-0.27</td>\n",
       "      <td>0.043101</td>\n",
       "      <td>0.128111</td>\n",
       "      <td>1.75</td>\n",
       "    </tr>\n",
       "    <tr>\n",
       "      <th>ABEV3</th>\n",
       "      <td>2023-05-31</td>\n",
       "      <td>AMBEV S/A</td>\n",
       "      <td>14.41</td>\n",
       "      <td>Consumo não Cíclico</td>\n",
       "      <td>Bebidas</td>\n",
       "      <td>Cervejas e Refrigerantes</td>\n",
       "      <td>0.0023</td>\n",
       "      <td>0.0112</td>\n",
       "      <td>5.0953</td>\n",
       "      <td>0.017655</td>\n",
       "      <td>0.017501</td>\n",
       "      <td>0.054905</td>\n",
       "      <td>1.928270</td>\n",
       "      <td>14.226667</td>\n",
       "      <td>-0.019766</td>\n",
       "      <td>-0.27</td>\n",
       "      <td>0.043101</td>\n",
       "      <td>0.128111</td>\n",
       "      <td>1.75</td>\n",
       "    </tr>\n",
       "    <tr>\n",
       "      <th>...</th>\n",
       "      <td>...</td>\n",
       "      <td>...</td>\n",
       "      <td>...</td>\n",
       "      <td>...</td>\n",
       "      <td>...</td>\n",
       "      <td>...</td>\n",
       "      <td>...</td>\n",
       "      <td>...</td>\n",
       "      <td>...</td>\n",
       "      <td>...</td>\n",
       "      <td>...</td>\n",
       "      <td>...</td>\n",
       "      <td>...</td>\n",
       "      <td>...</td>\n",
       "      <td>...</td>\n",
       "      <td>...</td>\n",
       "      <td>...</td>\n",
       "      <td>...</td>\n",
       "      <td>...</td>\n",
       "    </tr>\n",
       "    <tr>\n",
       "      <th>YDUQ3</th>\n",
       "      <td>2023-02-28</td>\n",
       "      <td>YDUQS PART</td>\n",
       "      <td>7.05</td>\n",
       "      <td>Consumo Cíclico</td>\n",
       "      <td>Diversos</td>\n",
       "      <td>Serviços Educacionais</td>\n",
       "      <td>0.0084</td>\n",
       "      <td>0.0092</td>\n",
       "      <td>5.2072</td>\n",
       "      <td>-0.317522</td>\n",
       "      <td>-0.382025</td>\n",
       "      <td>-0.317522</td>\n",
       "      <td>2.188639</td>\n",
       "      <td>11.073333</td>\n",
       "      <td>-0.317522</td>\n",
       "      <td>-3.28</td>\n",
       "      <td>0.399190</td>\n",
       "      <td>0.918683</td>\n",
       "      <td>9.49</td>\n",
       "    </tr>\n",
       "    <tr>\n",
       "      <th>YDUQ3</th>\n",
       "      <td>2023-03-31</td>\n",
       "      <td>YDUQS PART</td>\n",
       "      <td>7.05</td>\n",
       "      <td>Consumo Cíclico</td>\n",
       "      <td>Diversos</td>\n",
       "      <td>Serviços Educacionais</td>\n",
       "      <td>0.0071</td>\n",
       "      <td>0.0117</td>\n",
       "      <td>5.0798</td>\n",
       "      <td>0.000000</td>\n",
       "      <td>0.000000</td>\n",
       "      <td>-0.317522</td>\n",
       "      <td>2.188639</td>\n",
       "      <td>11.073333</td>\n",
       "      <td>-0.317522</td>\n",
       "      <td>-3.28</td>\n",
       "      <td>0.399190</td>\n",
       "      <td>0.918683</td>\n",
       "      <td>9.49</td>\n",
       "    </tr>\n",
       "    <tr>\n",
       "      <th>YDUQ3</th>\n",
       "      <td>2023-04-30</td>\n",
       "      <td>YDUQS PART</td>\n",
       "      <td>8.12</td>\n",
       "      <td>Consumo Cíclico</td>\n",
       "      <td>Diversos</td>\n",
       "      <td>Serviços Educacionais</td>\n",
       "      <td>0.0061</td>\n",
       "      <td>0.0092</td>\n",
       "      <td>5.0001</td>\n",
       "      <td>0.151773</td>\n",
       "      <td>0.141303</td>\n",
       "      <td>-0.213940</td>\n",
       "      <td>2.188639</td>\n",
       "      <td>11.073333</td>\n",
       "      <td>-0.317522</td>\n",
       "      <td>-3.28</td>\n",
       "      <td>0.399190</td>\n",
       "      <td>0.918683</td>\n",
       "      <td>9.49</td>\n",
       "    </tr>\n",
       "    <tr>\n",
       "      <th>YDUQ3</th>\n",
       "      <td>2023-05-31</td>\n",
       "      <td>YDUQS PART</td>\n",
       "      <td>14.07</td>\n",
       "      <td>Consumo Cíclico</td>\n",
       "      <td>Diversos</td>\n",
       "      <td>Serviços Educacionais</td>\n",
       "      <td>0.0023</td>\n",
       "      <td>0.0112</td>\n",
       "      <td>5.0953</td>\n",
       "      <td>0.732759</td>\n",
       "      <td>0.549715</td>\n",
       "      <td>0.362052</td>\n",
       "      <td>2.188639</td>\n",
       "      <td>11.073333</td>\n",
       "      <td>-0.317522</td>\n",
       "      <td>-3.28</td>\n",
       "      <td>0.399190</td>\n",
       "      <td>0.918683</td>\n",
       "      <td>9.49</td>\n",
       "    </tr>\n",
       "    <tr>\n",
       "      <th>YDUQ3</th>\n",
       "      <td>2023-06-30</td>\n",
       "      <td>YDUQS PART</td>\n",
       "      <td>19.82</td>\n",
       "      <td>Consumo Cíclico</td>\n",
       "      <td>Diversos</td>\n",
       "      <td>Serviços Educacionais</td>\n",
       "      <td>-0.0008</td>\n",
       "      <td>0.0107</td>\n",
       "      <td>4.8186</td>\n",
       "      <td>0.408671</td>\n",
       "      <td>0.342647</td>\n",
       "      <td>0.918683</td>\n",
       "      <td>2.188639</td>\n",
       "      <td>11.073333</td>\n",
       "      <td>-0.317522</td>\n",
       "      <td>-3.28</td>\n",
       "      <td>0.399190</td>\n",
       "      <td>0.918683</td>\n",
       "      <td>9.49</td>\n",
       "    </tr>\n",
       "  </tbody>\n",
       "</table>\n",
       "<p>528 rows × 19 columns</p>\n",
       "</div>"
      ],
      "text/plain": [
       "            DATA        NOME  PREÇO (R$)      SETOR ECONÔMICO  SUBSETOR  \\\n",
       "PAPEL                                                                     \n",
       "ABEV3 2023-01-31   AMBEV S/A       13.66  Consumo não Cíclico   Bebidas   \n",
       "ABEV3 2023-02-28   AMBEV S/A       13.39  Consumo não Cíclico   Bebidas   \n",
       "ABEV3 2023-03-31   AMBEV S/A       14.33  Consumo não Cíclico   Bebidas   \n",
       "ABEV3 2023-04-30   AMBEV S/A       14.16  Consumo não Cíclico   Bebidas   \n",
       "ABEV3 2023-05-31   AMBEV S/A       14.41  Consumo não Cíclico   Bebidas   \n",
       "...          ...         ...         ...                  ...       ...   \n",
       "YDUQ3 2023-02-28  YDUQS PART        7.05      Consumo Cíclico  Diversos   \n",
       "YDUQ3 2023-03-31  YDUQS PART        7.05      Consumo Cíclico  Diversos   \n",
       "YDUQ3 2023-04-30  YDUQS PART        8.12      Consumo Cíclico  Diversos   \n",
       "YDUQ3 2023-05-31  YDUQS PART       14.07      Consumo Cíclico  Diversos   \n",
       "YDUQ3 2023-06-30  YDUQS PART       19.82      Consumo Cíclico  Diversos   \n",
       "\n",
       "                       SEGMENTO    IPCA   SELIC     USD  RETORNOS_SIMPLES  \\\n",
       "PAPEL                                                                       \n",
       "ABEV3  Cervejas e Refrigerantes  0.0053  0.0112  5.0987               NaN   \n",
       "ABEV3  Cervejas e Refrigerantes  0.0084  0.0092  5.2072         -0.019766   \n",
       "ABEV3  Cervejas e Refrigerantes  0.0071  0.0117  5.0798          0.070202   \n",
       "ABEV3  Cervejas e Refrigerantes  0.0061  0.0092  5.0001         -0.011863   \n",
       "ABEV3  Cervejas e Refrigerantes  0.0023  0.0112  5.0953          0.017655   \n",
       "...                         ...     ...     ...     ...               ...   \n",
       "YDUQ3     Serviços Educacionais  0.0084  0.0092  5.2072         -0.317522   \n",
       "YDUQ3     Serviços Educacionais  0.0071  0.0117  5.0798          0.000000   \n",
       "YDUQ3     Serviços Educacionais  0.0061  0.0092  5.0001          0.151773   \n",
       "YDUQ3     Serviços Educacionais  0.0023  0.0112  5.0953          0.732759   \n",
       "YDUQ3     Serviços Educacionais -0.0008  0.0107  4.8186          0.408671   \n",
       "\n",
       "       RETORNOS_LOGARITIMOS  RETORNOS_ACUMULADOS    SHARPE      MÉDIA  \\\n",
       "PAPEL                                                                   \n",
       "ABEV3                   NaN                  NaN  1.928270  14.226667   \n",
       "ABEV3             -0.019964            -0.019766  1.928270  14.226667   \n",
       "ABEV3              0.067847             0.049048  1.928270  14.226667   \n",
       "ABEV3             -0.011934             0.036603  1.928270  14.226667   \n",
       "ABEV3              0.017501             0.054905  1.928270  14.226667   \n",
       "...                     ...                  ...       ...        ...   \n",
       "YDUQ3             -0.382025            -0.317522  2.188639  11.073333   \n",
       "YDUQ3              0.000000            -0.317522  2.188639  11.073333   \n",
       "YDUQ3              0.141303            -0.213940  2.188639  11.073333   \n",
       "YDUQ3              0.549715             0.362052  2.188639  11.073333   \n",
       "YDUQ3              0.342647             0.918683  2.188639  11.073333   \n",
       "\n",
       "       MÁXIMO DROW DOWN  MÁXIMO DROW DOWN bruto  VOLATILIDADE  RENTABILIDADE  \\\n",
       "PAPEL                                                                          \n",
       "ABEV3         -0.019766                   -0.27      0.043101       0.128111   \n",
       "ABEV3         -0.019766                   -0.27      0.043101       0.128111   \n",
       "ABEV3         -0.019766                   -0.27      0.043101       0.128111   \n",
       "ABEV3         -0.019766                   -0.27      0.043101       0.128111   \n",
       "ABEV3         -0.019766                   -0.27      0.043101       0.128111   \n",
       "...                 ...                     ...           ...            ...   \n",
       "YDUQ3         -0.317522                   -3.28      0.399190       0.918683   \n",
       "YDUQ3         -0.317522                   -3.28      0.399190       0.918683   \n",
       "YDUQ3         -0.317522                   -3.28      0.399190       0.918683   \n",
       "YDUQ3         -0.317522                   -3.28      0.399190       0.918683   \n",
       "YDUQ3         -0.317522                   -3.28      0.399190       0.918683   \n",
       "\n",
       "       GANHO BRUTO R$  \n",
       "PAPEL                  \n",
       "ABEV3            1.75  \n",
       "ABEV3            1.75  \n",
       "ABEV3            1.75  \n",
       "ABEV3            1.75  \n",
       "ABEV3            1.75  \n",
       "...               ...  \n",
       "YDUQ3            9.49  \n",
       "YDUQ3            9.49  \n",
       "YDUQ3            9.49  \n",
       "YDUQ3            9.49  \n",
       "YDUQ3            9.49  \n",
       "\n",
       "[528 rows x 19 columns]"
      ]
     },
     "execution_count": 211,
     "metadata": {},
     "output_type": "execute_result"
    }
   ],
   "source": [
    "df = t7.copy(deep=True)\n",
    "df"
   ]
  },
  {
   "cell_type": "markdown",
   "metadata": {},
   "source": [
    "# Começando as analises e plot de graficos"
   ]
  },
  {
   "cell_type": "code",
   "execution_count": null,
   "metadata": {},
   "outputs": [],
   "source": [
    "from plotly import graph_objects as go\n",
    "from plotly.subplots import make_subplots\n"
   ]
  },
  {
   "cell_type": "code",
   "execution_count": null,
   "metadata": {},
   "outputs": [],
   "source": [
    "df.info()"
   ]
  },
  {
   "cell_type": "markdown",
   "metadata": {},
   "source": [
    "# PLOT TODAS AÇÕES PARA VIZUALIZAÇÃO BASICA"
   ]
  },
  {
   "cell_type": "code",
   "execution_count": null,
   "metadata": {},
   "outputs": [],
   "source": [
    "import plotly.express as px\n",
    "\n",
    "fig = px.line(df_precos_pivotada, x=df_precos_pivotada.index, y=df_precos_pivotada.columns, title='Evolução do Preço das Ações ao Longo do Tempo', markers='marker')#height=6000)\n",
    "\n",
    "fig.update_layout(\n",
    "    title='Evolução do Preço das Ações ao Longo do Tempo SEM NORMALIZAR',\n",
    "    legend_title_text='TICKER',\n",
    "    xaxis_title='Data',\n",
    "    yaxis_title='Preço'\n",
    ")\n",
    "\n",
    "fig.update_xaxes(title_text='Data') # ALTERNATIVA\n",
    "fig.update_yaxes(title_text='Preço') # ALTERNATIVA\n",
    "\n",
    "fig.show()"
   ]
  },
  {
   "cell_type": "markdown",
   "metadata": {},
   "source": [
    "# Plot de grafico acoes com retornos positivos NO FINAL DO PERIODO DE 6 MESES"
   ]
  },
  {
   "cell_type": "code",
   "execution_count": null,
   "metadata": {},
   "outputs": [],
   "source": [
    "ret_maiores_que_1 = df_precos_pivotada_normalizada.loc[:, df_precos_pivotada_normalizada.loc[df_precos_pivotada_normalizada.index[-1]] >= 1]\n",
    "ret_maiores_que_1\n",
    "\n",
    "figura = go.Figure()\n",
    "\n",
    "for col in ret_maiores_que_1.columns:\n",
    "    trace = go.Scatter(x=ret_maiores_que_1.index, y=ret_maiores_que_1[col], mode='lines+markers', name=col)\n",
    "    figura.add_trace(trace)\n",
    "\n",
    "figura.update_layout(title='Evolução do Preço das Ações ao Longo do Tempo')\n",
    "figura.update_layout(legend_title_text='TICKER')\n",
    "\n",
    "figura.update_layout(\n",
    "    title='Evolução do Preço das Ações ao Longo do Tempo',\n",
    "    legend_title_text='TICKER',\n",
    "    xaxis_title='Data',\n",
    "    yaxis_title='Preço',\n",
    "    height=1000\n",
    ")\n",
    "\n",
    "figura.show()"
   ]
  },
  {
   "cell_type": "markdown",
   "metadata": {},
   "source": [
    "# Plot de grafico acoes com retornos negativos NO FINAL DO PERIODO DE 6 MESES"
   ]
  },
  {
   "cell_type": "code",
   "execution_count": null,
   "metadata": {},
   "outputs": [],
   "source": [
    "ret_menores_que_1 = df_precos_pivotada_normalizada.loc[:, df_precos_pivotada_normalizada.loc[df_precos_pivotada_normalizada.index[-1]] <= 1]\n",
    "ret_menores_que_1\n",
    "\n",
    "figura = go.Figure()\n",
    "\n",
    "for col in ret_menores_que_1.columns:\n",
    "    trace = go.Scatter(x=ret_menores_que_1.index, y=ret_menores_que_1[col], mode='lines+markers', name=col)\n",
    "    figura.add_trace(trace)\n",
    "\n",
    "figura.update_layout(title='Evolução do Preço das Ações ao Longo do Tempo COM RENTABILIDADE RUIM')\n",
    "figura.update_layout(legend_title_text='TICKER')\n",
    "\n",
    "figura.update_layout(\n",
    "    title='Evolução do Preço das Ações ao Longo do Tempo',\n",
    "    legend_title_text='TICKER',\n",
    "    xaxis_title='Data',\n",
    "    yaxis_title='Preço',\n",
    "    height=1000\n",
    ")\n",
    "\n",
    "figura.show()"
   ]
  },
  {
   "cell_type": "markdown",
   "metadata": {},
   "source": [
    "# ANÁLISESSSSSS @@@@@@@@@@@@@@@@@"
   ]
  },
  {
   "cell_type": "code",
   "execution_count": null,
   "metadata": {},
   "outputs": [],
   "source": [
    "import streamlit as st "
   ]
  },
  {
   "cell_type": "code",
   "execution_count": null,
   "metadata": {},
   "outputs": [],
   "source": [
    "df.to_excel('df_completo.xlsx')"
   ]
  },
  {
   "cell_type": "code",
   "execution_count": null,
   "metadata": {},
   "outputs": [],
   "source": [
    "df.head()"
   ]
  },
  {
   "cell_type": "markdown",
   "metadata": {},
   "source": [
    "## Por SETOR ECONOMICO"
   ]
  },
  {
   "cell_type": "code",
   "execution_count": null,
   "metadata": {},
   "outputs": [],
   "source": [
    "df.groupby('SETOR ECONÔMICO')['PREÇO (R$)'].mean().sort_values(ascending=False)"
   ]
  },
  {
   "cell_type": "code",
   "execution_count": null,
   "metadata": {},
   "outputs": [],
   "source": [
    "df.groupby('SETOR ECONÔMICO')['SHARPE'].mean().sort_values(ascending=False)\n"
   ]
  },
  {
   "cell_type": "code",
   "execution_count": null,
   "metadata": {},
   "outputs": [],
   "source": [
    "df.groupby('SETOR ECONÔMICO')['VOLATILIDADE'].mean().sort_values(ascending=True)\n"
   ]
  },
  {
   "cell_type": "code",
   "execution_count": null,
   "metadata": {},
   "outputs": [],
   "source": [
    "df.groupby('SETOR ECONÔMICO')['VOLATILIDADE'].mean().sort_values(ascending=True)\n"
   ]
  },
  {
   "cell_type": "code",
   "execution_count": null,
   "metadata": {},
   "outputs": [],
   "source": []
  },
  {
   "cell_type": "code",
   "execution_count": null,
   "metadata": {},
   "outputs": [],
   "source": []
  },
  {
   "cell_type": "code",
   "execution_count": null,
   "metadata": {},
   "outputs": [],
   "source": [
    "df[df.index == 'POMO4']"
   ]
  },
  {
   "cell_type": "code",
   "execution_count": null,
   "metadata": {},
   "outputs": [],
   "source": [
    "df.groupby(['SETOR ECONÔMICO', 'SUBSETOR'])['SHARPE'].mean()"
   ]
  },
  {
   "cell_type": "code",
   "execution_count": null,
   "metadata": {},
   "outputs": [],
   "source": [
    "df['SEGMENTO'].value_counts()\n"
   ]
  },
  {
   "cell_type": "code",
   "execution_count": null,
   "metadata": {},
   "outputs": [],
   "source": [
    "df['SEGMENTO'].value_counts(normalize=True)"
   ]
  },
  {
   "cell_type": "code",
   "execution_count": null,
   "metadata": {},
   "outputs": [],
   "source": []
  },
  {
   "cell_type": "markdown",
   "metadata": {},
   "source": [
    "## Por SUB SETOR "
   ]
  },
  {
   "cell_type": "code",
   "execution_count": null,
   "metadata": {},
   "outputs": [],
   "source": [
    "df.groupby('SUBSETOR')['PREÇO (R$)'].mean().sort_values(ascending=False)"
   ]
  },
  {
   "cell_type": "markdown",
   "metadata": {},
   "source": [
    "# TESTES GRAFICO DE BARRAS"
   ]
  },
  {
   "cell_type": "code",
   "execution_count": null,
   "metadata": {},
   "outputs": [],
   "source": []
  },
  {
   "cell_type": "code",
   "execution_count": null,
   "metadata": {},
   "outputs": [],
   "source": []
  },
  {
   "cell_type": "code",
   "execution_count": null,
   "metadata": {},
   "outputs": [],
   "source": []
  },
  {
   "cell_type": "code",
   "execution_count": null,
   "metadata": {},
   "outputs": [],
   "source": []
  },
  {
   "cell_type": "code",
   "execution_count": 66,
   "metadata": {},
   "outputs": [],
   "source": [
    "tickers = ['ABEV3', 'YDUQ3','AZUL4']\n",
    "best_tickers = df.loc[: , ['MÉDIA' ,'SHARPE', 'MÁXIMO DROW DOWN', 'MÁXIMO DROW DOWN bruto', 'VOLATILIDADE', 'RENTABILIDADE', 'GANHO BRUTO R$']].idxmax().values\n",
    "\n",
    "max_values = df.loc[: , ['MÉDIA' ,'SHARPE', 'MÁXIMO DROW DOWN', 'MÁXIMO DROW DOWN bruto', 'VOLATILIDADE', 'RENTABILIDADE', 'GANHO BRUTO R$']].max().values\n",
    "info = df.loc[: , ['MÉDIA' ,'SHARPE', 'MÁXIMO DROW DOWN', 'MÁXIMO DROW DOWN bruto', 'VOLATILIDADE', 'RENTABILIDADE', 'GANHO BRUTO R$']].max().index.values\n"
   ]
  },
  {
   "cell_type": "code",
   "execution_count": 67,
   "metadata": {},
   "outputs": [
    {
     "data": {
      "text/plain": [
       "(array(['VALE3', 'POMO4', 'POMO4', 'POMO4', 'AZUL4', 'YDUQ3', 'AZUL4'],\n",
       "       dtype=object),\n",
       " array(['MÉDIA', 'SHARPE', 'MÁXIMO DROW DOWN', 'MÁXIMO DROW DOWN bruto',\n",
       "        'VOLATILIDADE', 'RENTABILIDADE', 'GANHO BRUTO R$'], dtype=object),\n",
       " array([76.75833333,  6.3193426 ,  0.        ,  0.        ,  0.45179676,\n",
       "         0.91868345, 10.01      ]))"
      ]
     },
     "execution_count": 67,
     "metadata": {},
     "output_type": "execute_result"
    }
   ],
   "source": [
    "best_tickers, info, max_values"
   ]
  },
  {
   "cell_type": "code",
   "execution_count": 68,
   "metadata": {},
   "outputs": [],
   "source": [
    "tudu_juntu = zip(best_tickers, info, max_values)\n",
    "lista_tudu_junto = list(tudu_juntu)"
   ]
  },
  {
   "cell_type": "code",
   "execution_count": 69,
   "metadata": {},
   "outputs": [
    {
     "data": {
      "text/plain": [
       "[('VALE3', 'MÉDIA', 76.75833333333334),\n",
       " ('POMO4', 'SHARPE', 6.3193426033136655),\n",
       " ('POMO4', 'MÁXIMO DROW DOWN', 0.0),\n",
       " ('POMO4', 'MÁXIMO DROW DOWN bruto', 0.0),\n",
       " ('AZUL4', 'VOLATILIDADE', 0.45179675954297854),\n",
       " ('YDUQ3', 'RENTABILIDADE', 0.9186834462729913),\n",
       " ('AZUL4', 'GANHO BRUTO R$', 10.01)]"
      ]
     },
     "execution_count": 69,
     "metadata": {},
     "output_type": "execute_result"
    }
   ],
   "source": [
    "ltj = lista_tudu_junto\n",
    "ltj"
   ]
  },
  {
   "cell_type": "code",
   "execution_count": 158,
   "metadata": {},
   "outputs": [],
   "source": [
    "lista_acoes = ['AESB3', 'ABEV3']"
   ]
  },
  {
   "cell_type": "code",
   "execution_count": 171,
   "metadata": {},
   "outputs": [
    {
     "data": {
      "text/html": [
       "<div>\n",
       "<style scoped>\n",
       "    .dataframe tbody tr th:only-of-type {\n",
       "        vertical-align: middle;\n",
       "    }\n",
       "\n",
       "    .dataframe tbody tr th {\n",
       "        vertical-align: top;\n",
       "    }\n",
       "\n",
       "    .dataframe thead th {\n",
       "        text-align: right;\n",
       "    }\n",
       "</style>\n",
       "<table border=\"1\" class=\"dataframe\">\n",
       "  <thead>\n",
       "    <tr style=\"text-align: right;\">\n",
       "      <th></th>\n",
       "      <th>MÉDIA</th>\n",
       "      <th>SHARPE</th>\n",
       "      <th>MÁXIMO DROW DOWN</th>\n",
       "      <th>MÁXIMO DROW DOWN bruto</th>\n",
       "      <th>VOLATILIDADE</th>\n",
       "      <th>RENTABILIDADE</th>\n",
       "      <th>GANHO BRUTO R$</th>\n",
       "    </tr>\n",
       "    <tr>\n",
       "      <th>PAPEL</th>\n",
       "      <th></th>\n",
       "      <th></th>\n",
       "      <th></th>\n",
       "      <th></th>\n",
       "      <th></th>\n",
       "      <th></th>\n",
       "      <th></th>\n",
       "    </tr>\n",
       "  </thead>\n",
       "  <tbody>\n",
       "    <tr>\n",
       "      <th>ABEV3</th>\n",
       "      <td>14.226667</td>\n",
       "      <td>1.92827</td>\n",
       "      <td>-0.019766</td>\n",
       "      <td>-0.27</td>\n",
       "      <td>0.043101</td>\n",
       "      <td>0.128111</td>\n",
       "      <td>1.75</td>\n",
       "    </tr>\n",
       "    <tr>\n",
       "      <th>ABEV3</th>\n",
       "      <td>14.226667</td>\n",
       "      <td>1.92827</td>\n",
       "      <td>-0.019766</td>\n",
       "      <td>-0.27</td>\n",
       "      <td>0.043101</td>\n",
       "      <td>0.128111</td>\n",
       "      <td>1.75</td>\n",
       "    </tr>\n",
       "    <tr>\n",
       "      <th>ABEV3</th>\n",
       "      <td>14.226667</td>\n",
       "      <td>1.92827</td>\n",
       "      <td>-0.019766</td>\n",
       "      <td>-0.27</td>\n",
       "      <td>0.043101</td>\n",
       "      <td>0.128111</td>\n",
       "      <td>1.75</td>\n",
       "    </tr>\n",
       "    <tr>\n",
       "      <th>ABEV3</th>\n",
       "      <td>14.226667</td>\n",
       "      <td>1.92827</td>\n",
       "      <td>-0.019766</td>\n",
       "      <td>-0.27</td>\n",
       "      <td>0.043101</td>\n",
       "      <td>0.128111</td>\n",
       "      <td>1.75</td>\n",
       "    </tr>\n",
       "    <tr>\n",
       "      <th>ABEV3</th>\n",
       "      <td>14.226667</td>\n",
       "      <td>1.92827</td>\n",
       "      <td>-0.019766</td>\n",
       "      <td>-0.27</td>\n",
       "      <td>0.043101</td>\n",
       "      <td>0.128111</td>\n",
       "      <td>1.75</td>\n",
       "    </tr>\n",
       "    <tr>\n",
       "      <th>ABEV3</th>\n",
       "      <td>14.226667</td>\n",
       "      <td>1.92827</td>\n",
       "      <td>-0.019766</td>\n",
       "      <td>-0.27</td>\n",
       "      <td>0.043101</td>\n",
       "      <td>0.128111</td>\n",
       "      <td>1.75</td>\n",
       "    </tr>\n",
       "  </tbody>\n",
       "</table>\n",
       "</div>"
      ],
      "text/plain": [
       "           MÉDIA   SHARPE  MÁXIMO DROW DOWN  MÁXIMO DROW DOWN bruto  \\\n",
       "PAPEL                                                                 \n",
       "ABEV3  14.226667  1.92827         -0.019766                   -0.27   \n",
       "ABEV3  14.226667  1.92827         -0.019766                   -0.27   \n",
       "ABEV3  14.226667  1.92827         -0.019766                   -0.27   \n",
       "ABEV3  14.226667  1.92827         -0.019766                   -0.27   \n",
       "ABEV3  14.226667  1.92827         -0.019766                   -0.27   \n",
       "ABEV3  14.226667  1.92827         -0.019766                   -0.27   \n",
       "\n",
       "       VOLATILIDADE  RENTABILIDADE  GANHO BRUTO R$  \n",
       "PAPEL                                               \n",
       "ABEV3      0.043101       0.128111            1.75  \n",
       "ABEV3      0.043101       0.128111            1.75  \n",
       "ABEV3      0.043101       0.128111            1.75  \n",
       "ABEV3      0.043101       0.128111            1.75  \n",
       "ABEV3      0.043101       0.128111            1.75  \n",
       "ABEV3      0.043101       0.128111            1.75  "
      ]
     },
     "execution_count": 171,
     "metadata": {},
     "output_type": "execute_result"
    }
   ],
   "source": [
    "df.loc[df.index == 'ABEV3', info]"
   ]
  },
  {
   "cell_type": "code",
   "execution_count": 180,
   "metadata": {},
   "outputs": [
    {
     "data": {
      "application/vnd.plotly.v1+json": {
       "config": {
        "plotlyServerURL": "https://plot.ly"
       },
       "data": [
        {
         "marker": {
          "color": "blue"
         },
         "name": "AESB3",
         "type": "bar",
         "x": [
          "MÉDIA",
          "SHARPE",
          "MÁXIMO DROW DOWN",
          "MÁXIMO DROW DOWN bruto",
          "VOLATILIDADE",
          "RENTABILIDADE",
          "GANHO BRUTO R$"
         ],
         "y": [
          [
           10.84,
           2.56,
           -0.02,
           -0.18,
           0.07,
           0.21,
           2.15
          ],
          [
           10.84,
           2.56,
           -0.02,
           -0.18,
           0.07,
           0.21,
           2.15
          ],
          [
           10.84,
           2.56,
           -0.02,
           -0.18,
           0.07,
           0.21,
           2.15
          ],
          [
           10.84,
           2.56,
           -0.02,
           -0.18,
           0.07,
           0.21,
           2.15
          ],
          [
           10.84,
           2.56,
           -0.02,
           -0.18,
           0.07,
           0.21,
           2.15
          ],
          [
           10.84,
           2.56,
           -0.02,
           -0.18,
           0.07,
           0.21,
           2.15
          ]
         ]
        },
        {
         "marker": {
          "color": "blue"
         },
         "name": "ABEV3",
         "type": "bar",
         "x": [
          "MÉDIA",
          "SHARPE",
          "MÁXIMO DROW DOWN",
          "MÁXIMO DROW DOWN bruto",
          "VOLATILIDADE",
          "RENTABILIDADE",
          "GANHO BRUTO R$"
         ],
         "y": [
          [
           14.23,
           1.93,
           -0.02,
           -0.27,
           0.04,
           0.13,
           1.75
          ],
          [
           14.23,
           1.93,
           -0.02,
           -0.27,
           0.04,
           0.13,
           1.75
          ],
          [
           14.23,
           1.93,
           -0.02,
           -0.27,
           0.04,
           0.13,
           1.75
          ],
          [
           14.23,
           1.93,
           -0.02,
           -0.27,
           0.04,
           0.13,
           1.75
          ],
          [
           14.23,
           1.93,
           -0.02,
           -0.27,
           0.04,
           0.13,
           1.75
          ],
          [
           14.23,
           1.93,
           -0.02,
           -0.27,
           0.04,
           0.13,
           1.75
          ]
         ]
        }
       ],
       "layout": {
        "barmode": "group",
        "template": {
         "data": {
          "candlestick": [
           {
            "decreasing": {
             "line": {
              "color": "#000033"
             }
            },
            "increasing": {
             "line": {
              "color": "#000032"
             }
            },
            "type": "candlestick"
           }
          ],
          "contour": [
           {
            "colorscale": [
             [
              0,
              "#000011"
             ],
             [
              0.1111111111111111,
              "#000012"
             ],
             [
              0.2222222222222222,
              "#000013"
             ],
             [
              0.3333333333333333,
              "#000014"
             ],
             [
              0.4444444444444444,
              "#000015"
             ],
             [
              0.5555555555555556,
              "#000016"
             ],
             [
              0.6666666666666666,
              "#000017"
             ],
             [
              0.7777777777777778,
              "#000018"
             ],
             [
              0.8888888888888888,
              "#000019"
             ],
             [
              1,
              "#000020"
             ]
            ],
            "type": "contour"
           }
          ],
          "contourcarpet": [
           {
            "colorscale": [
             [
              0,
              "#000011"
             ],
             [
              0.1111111111111111,
              "#000012"
             ],
             [
              0.2222222222222222,
              "#000013"
             ],
             [
              0.3333333333333333,
              "#000014"
             ],
             [
              0.4444444444444444,
              "#000015"
             ],
             [
              0.5555555555555556,
              "#000016"
             ],
             [
              0.6666666666666666,
              "#000017"
             ],
             [
              0.7777777777777778,
              "#000018"
             ],
             [
              0.8888888888888888,
              "#000019"
             ],
             [
              1,
              "#000020"
             ]
            ],
            "type": "contourcarpet"
           }
          ],
          "heatmap": [
           {
            "colorscale": [
             [
              0,
              "#000011"
             ],
             [
              0.1111111111111111,
              "#000012"
             ],
             [
              0.2222222222222222,
              "#000013"
             ],
             [
              0.3333333333333333,
              "#000014"
             ],
             [
              0.4444444444444444,
              "#000015"
             ],
             [
              0.5555555555555556,
              "#000016"
             ],
             [
              0.6666666666666666,
              "#000017"
             ],
             [
              0.7777777777777778,
              "#000018"
             ],
             [
              0.8888888888888888,
              "#000019"
             ],
             [
              1,
              "#000020"
             ]
            ],
            "type": "heatmap"
           }
          ],
          "histogram2d": [
           {
            "colorscale": [
             [
              0,
              "#000011"
             ],
             [
              0.1111111111111111,
              "#000012"
             ],
             [
              0.2222222222222222,
              "#000013"
             ],
             [
              0.3333333333333333,
              "#000014"
             ],
             [
              0.4444444444444444,
              "#000015"
             ],
             [
              0.5555555555555556,
              "#000016"
             ],
             [
              0.6666666666666666,
              "#000017"
             ],
             [
              0.7777777777777778,
              "#000018"
             ],
             [
              0.8888888888888888,
              "#000019"
             ],
             [
              1,
              "#000020"
             ]
            ],
            "type": "histogram2d"
           }
          ],
          "icicle": [
           {
            "textfont": {
             "color": "white"
            },
            "type": "icicle"
           }
          ],
          "sankey": [
           {
            "textfont": {
             "color": "#000036"
            },
            "type": "sankey"
           }
          ],
          "scatter": [
           {
            "marker": {
             "line": {
              "width": 0
             }
            },
            "type": "scatter"
           }
          ],
          "table": [
           {
            "cells": {
             "fill": {
              "color": "#000038"
             },
             "font": {
              "color": "#000037"
             },
             "line": {
              "color": "#000039"
             }
            },
            "header": {
             "fill": {
              "color": "#000040"
             },
             "font": {
              "color": "#000036"
             },
             "line": {
              "color": "#000039"
             }
            },
            "type": "table"
           }
          ],
          "waterfall": [
           {
            "connector": {
             "line": {
              "color": "#000036",
              "width": 2
             }
            },
            "decreasing": {
             "marker": {
              "color": "#000033"
             }
            },
            "increasing": {
             "marker": {
              "color": "#000032"
             }
            },
            "totals": {
             "marker": {
              "color": "#000034"
             }
            },
            "type": "waterfall"
           }
          ]
         },
         "layout": {
          "coloraxis": {
           "colorscale": [
            [
             0,
             "#000011"
            ],
            [
             0.1111111111111111,
             "#000012"
            ],
            [
             0.2222222222222222,
             "#000013"
            ],
            [
             0.3333333333333333,
             "#000014"
            ],
            [
             0.4444444444444444,
             "#000015"
            ],
            [
             0.5555555555555556,
             "#000016"
            ],
            [
             0.6666666666666666,
             "#000017"
            ],
            [
             0.7777777777777778,
             "#000018"
            ],
            [
             0.8888888888888888,
             "#000019"
            ],
            [
             1,
             "#000020"
            ]
           ]
          },
          "colorscale": {
           "diverging": [
            [
             0,
             "#000021"
            ],
            [
             0.1,
             "#000022"
            ],
            [
             0.2,
             "#000023"
            ],
            [
             0.3,
             "#000024"
            ],
            [
             0.4,
             "#000025"
            ],
            [
             0.5,
             "#000026"
            ],
            [
             0.6,
             "#000027"
            ],
            [
             0.7,
             "#000028"
            ],
            [
             0.8,
             "#000029"
            ],
            [
             0.9,
             "#000030"
            ],
            [
             1,
             "#000031"
            ]
           ],
           "sequential": [
            [
             0,
             "#000011"
            ],
            [
             0.1111111111111111,
             "#000012"
            ],
            [
             0.2222222222222222,
             "#000013"
            ],
            [
             0.3333333333333333,
             "#000014"
            ],
            [
             0.4444444444444444,
             "#000015"
            ],
            [
             0.5555555555555556,
             "#000016"
            ],
            [
             0.6666666666666666,
             "#000017"
            ],
            [
             0.7777777777777778,
             "#000018"
            ],
            [
             0.8888888888888888,
             "#000019"
            ],
            [
             1,
             "#000020"
            ]
           ],
           "sequentialminus": [
            [
             0,
             "#000011"
            ],
            [
             0.1111111111111111,
             "#000012"
            ],
            [
             0.2222222222222222,
             "#000013"
            ],
            [
             0.3333333333333333,
             "#000014"
            ],
            [
             0.4444444444444444,
             "#000015"
            ],
            [
             0.5555555555555556,
             "#000016"
            ],
            [
             0.6666666666666666,
             "#000017"
            ],
            [
             0.7777777777777778,
             "#000018"
            ],
            [
             0.8888888888888888,
             "#000019"
            ],
            [
             1,
             "#000020"
            ]
           ]
          },
          "colorway": [
           "#000001",
           "#000002",
           "#000003",
           "#000004",
           "#000005",
           "#000006",
           "#000007",
           "#000008",
           "#000009",
           "#000010"
          ]
         }
        },
        "title": {
         "text": "Valores Máximos por Indicador e Ação"
        },
        "xaxis": {
         "title": {
          "text": "Informações"
         }
        },
        "yaxis": {
         "title": {
          "text": "Valor"
         }
        }
       }
      }
     },
     "metadata": {},
     "output_type": "display_data"
    }
   ],
   "source": [
    "figura = go.Figure()\n",
    "\n",
    "# Adiciona barras para cada indicador\n",
    "for acao in lista_acoes:\n",
    "    figura.add_trace(go.Bar(name=acao, x=info, \n",
    "                            y=round(df.loc[df.index == acao, info],2),\n",
    "                            marker_color='blue',)\n",
    "                            )\n",
    "    \n",
    "    \n",
    "# Layout do gráfico\n",
    "figura.update_layout(barmode='group', title='Valores Máximos por Indicador e Ação',\n",
    "                     xaxis_title='Informações', yaxis_title='Valor',)\n",
    "figura.show()"
   ]
  },
  {
   "cell_type": "code",
   "execution_count": 152,
   "metadata": {},
   "outputs": [
    {
     "data": {
      "application/vnd.plotly.v1+json": {
       "config": {
        "plotlyServerURL": "https://plot.ly"
       },
       "data": [
        {
         "marker": {
          "color": "blue"
         },
         "name": "VALE3",
         "type": "bar",
         "x": [
          "MÉDIA"
         ],
         "y": [
          76.76
         ]
        },
        {
         "marker": {
          "color": "blue"
         },
         "name": "POMO4",
         "type": "bar",
         "x": [
          "SHARPE"
         ],
         "y": [
          6.32
         ]
        },
        {
         "marker": {
          "color": "blue"
         },
         "name": "POMO4",
         "type": "bar",
         "x": [
          "MÁXIMO DROW DOWN"
         ],
         "y": [
          0
         ]
        },
        {
         "marker": {
          "color": "blue"
         },
         "name": "POMO4",
         "type": "bar",
         "x": [
          "MÁXIMO DROW DOWN bruto"
         ],
         "y": [
          0
         ]
        },
        {
         "marker": {
          "color": "blue"
         },
         "name": "AZUL4",
         "type": "bar",
         "x": [
          "VOLATILIDADE"
         ],
         "y": [
          0.45
         ]
        },
        {
         "marker": {
          "color": "blue"
         },
         "name": "YDUQ3",
         "type": "bar",
         "x": [
          "RENTABILIDADE"
         ],
         "y": [
          0.92
         ]
        },
        {
         "marker": {
          "color": "blue"
         },
         "name": "AZUL4",
         "type": "bar",
         "x": [
          "GANHO BRUTO R$"
         ],
         "y": [
          10.01
         ]
        }
       ],
       "layout": {
        "barmode": "group",
        "template": {
         "data": {
          "candlestick": [
           {
            "decreasing": {
             "line": {
              "color": "#000033"
             }
            },
            "increasing": {
             "line": {
              "color": "#000032"
             }
            },
            "type": "candlestick"
           }
          ],
          "contour": [
           {
            "colorscale": [
             [
              0,
              "#000011"
             ],
             [
              0.1111111111111111,
              "#000012"
             ],
             [
              0.2222222222222222,
              "#000013"
             ],
             [
              0.3333333333333333,
              "#000014"
             ],
             [
              0.4444444444444444,
              "#000015"
             ],
             [
              0.5555555555555556,
              "#000016"
             ],
             [
              0.6666666666666666,
              "#000017"
             ],
             [
              0.7777777777777778,
              "#000018"
             ],
             [
              0.8888888888888888,
              "#000019"
             ],
             [
              1,
              "#000020"
             ]
            ],
            "type": "contour"
           }
          ],
          "contourcarpet": [
           {
            "colorscale": [
             [
              0,
              "#000011"
             ],
             [
              0.1111111111111111,
              "#000012"
             ],
             [
              0.2222222222222222,
              "#000013"
             ],
             [
              0.3333333333333333,
              "#000014"
             ],
             [
              0.4444444444444444,
              "#000015"
             ],
             [
              0.5555555555555556,
              "#000016"
             ],
             [
              0.6666666666666666,
              "#000017"
             ],
             [
              0.7777777777777778,
              "#000018"
             ],
             [
              0.8888888888888888,
              "#000019"
             ],
             [
              1,
              "#000020"
             ]
            ],
            "type": "contourcarpet"
           }
          ],
          "heatmap": [
           {
            "colorscale": [
             [
              0,
              "#000011"
             ],
             [
              0.1111111111111111,
              "#000012"
             ],
             [
              0.2222222222222222,
              "#000013"
             ],
             [
              0.3333333333333333,
              "#000014"
             ],
             [
              0.4444444444444444,
              "#000015"
             ],
             [
              0.5555555555555556,
              "#000016"
             ],
             [
              0.6666666666666666,
              "#000017"
             ],
             [
              0.7777777777777778,
              "#000018"
             ],
             [
              0.8888888888888888,
              "#000019"
             ],
             [
              1,
              "#000020"
             ]
            ],
            "type": "heatmap"
           }
          ],
          "histogram2d": [
           {
            "colorscale": [
             [
              0,
              "#000011"
             ],
             [
              0.1111111111111111,
              "#000012"
             ],
             [
              0.2222222222222222,
              "#000013"
             ],
             [
              0.3333333333333333,
              "#000014"
             ],
             [
              0.4444444444444444,
              "#000015"
             ],
             [
              0.5555555555555556,
              "#000016"
             ],
             [
              0.6666666666666666,
              "#000017"
             ],
             [
              0.7777777777777778,
              "#000018"
             ],
             [
              0.8888888888888888,
              "#000019"
             ],
             [
              1,
              "#000020"
             ]
            ],
            "type": "histogram2d"
           }
          ],
          "icicle": [
           {
            "textfont": {
             "color": "white"
            },
            "type": "icicle"
           }
          ],
          "sankey": [
           {
            "textfont": {
             "color": "#000036"
            },
            "type": "sankey"
           }
          ],
          "scatter": [
           {
            "marker": {
             "line": {
              "width": 0
             }
            },
            "type": "scatter"
           }
          ],
          "table": [
           {
            "cells": {
             "fill": {
              "color": "#000038"
             },
             "font": {
              "color": "#000037"
             },
             "line": {
              "color": "#000039"
             }
            },
            "header": {
             "fill": {
              "color": "#000040"
             },
             "font": {
              "color": "#000036"
             },
             "line": {
              "color": "#000039"
             }
            },
            "type": "table"
           }
          ],
          "waterfall": [
           {
            "connector": {
             "line": {
              "color": "#000036",
              "width": 2
             }
            },
            "decreasing": {
             "marker": {
              "color": "#000033"
             }
            },
            "increasing": {
             "marker": {
              "color": "#000032"
             }
            },
            "totals": {
             "marker": {
              "color": "#000034"
             }
            },
            "type": "waterfall"
           }
          ]
         },
         "layout": {
          "coloraxis": {
           "colorscale": [
            [
             0,
             "#000011"
            ],
            [
             0.1111111111111111,
             "#000012"
            ],
            [
             0.2222222222222222,
             "#000013"
            ],
            [
             0.3333333333333333,
             "#000014"
            ],
            [
             0.4444444444444444,
             "#000015"
            ],
            [
             0.5555555555555556,
             "#000016"
            ],
            [
             0.6666666666666666,
             "#000017"
            ],
            [
             0.7777777777777778,
             "#000018"
            ],
            [
             0.8888888888888888,
             "#000019"
            ],
            [
             1,
             "#000020"
            ]
           ]
          },
          "colorscale": {
           "diverging": [
            [
             0,
             "#000021"
            ],
            [
             0.1,
             "#000022"
            ],
            [
             0.2,
             "#000023"
            ],
            [
             0.3,
             "#000024"
            ],
            [
             0.4,
             "#000025"
            ],
            [
             0.5,
             "#000026"
            ],
            [
             0.6,
             "#000027"
            ],
            [
             0.7,
             "#000028"
            ],
            [
             0.8,
             "#000029"
            ],
            [
             0.9,
             "#000030"
            ],
            [
             1,
             "#000031"
            ]
           ],
           "sequential": [
            [
             0,
             "#000011"
            ],
            [
             0.1111111111111111,
             "#000012"
            ],
            [
             0.2222222222222222,
             "#000013"
            ],
            [
             0.3333333333333333,
             "#000014"
            ],
            [
             0.4444444444444444,
             "#000015"
            ],
            [
             0.5555555555555556,
             "#000016"
            ],
            [
             0.6666666666666666,
             "#000017"
            ],
            [
             0.7777777777777778,
             "#000018"
            ],
            [
             0.8888888888888888,
             "#000019"
            ],
            [
             1,
             "#000020"
            ]
           ],
           "sequentialminus": [
            [
             0,
             "#000011"
            ],
            [
             0.1111111111111111,
             "#000012"
            ],
            [
             0.2222222222222222,
             "#000013"
            ],
            [
             0.3333333333333333,
             "#000014"
            ],
            [
             0.4444444444444444,
             "#000015"
            ],
            [
             0.5555555555555556,
             "#000016"
            ],
            [
             0.6666666666666666,
             "#000017"
            ],
            [
             0.7777777777777778,
             "#000018"
            ],
            [
             0.8888888888888888,
             "#000019"
            ],
            [
             1,
             "#000020"
            ]
           ]
          },
          "colorway": [
           "#000001",
           "#000002",
           "#000003",
           "#000004",
           "#000005",
           "#000006",
           "#000007",
           "#000008",
           "#000009",
           "#000010"
          ]
         }
        },
        "title": {
         "text": "Valores Máximos por Indicador e Ação"
        },
        "xaxis": {
         "title": {
          "text": "Indicadores"
         }
        },
        "yaxis": {
         "title": {
          "text": "Valor"
         }
        }
       }
      }
     },
     "metadata": {},
     "output_type": "display_data"
    }
   ],
   "source": [
    "info = ['MÉDIA', 'SHARPE', 'MÁXIMO DROW DOWN', 'MÁXIMO DROW DOWN bruto', 'VOLATILIDADE', 'RENTABILIDADE', 'GANHO BRUTO R$']\n",
    "best_tickers = ['VALE3', 'POMO4', 'POMO4', 'POMO4', 'AZUL4', 'YDUQ3', 'AZUL4']\n",
    "max_values = [76.76, 6.32, 0.0, 0.0, 0.45, 0.92, 10.01]\n",
    "\n",
    "# Criação do gráfico de barras empilhadas\n",
    "figura = go.Figure()\n",
    "\n",
    "# Adiciona barras para cada indicador\n",
    "for i, informacao in enumerate(info):\n",
    "    # Use best_tickers[i] como o valor para o eixo x\n",
    "    text_values = [f\"{informacao}: {value}\" for value in max_values]\n",
    "    figura.add_trace(go.Bar(name=best_tickers[i], x=[informacao], y=[max_values[i]], marker_color='blue'))\n",
    "\n",
    "# Layout do gráfico\n",
    "# figura.update_traces(hoverinfo='text+y+x')\n",
    "figura.update_layout(barmode='group', title='Valores Máximos por Indicador e Ação',\n",
    "                     xaxis_title='Indicadores', yaxis_title='Valor')\n",
    "\n",
    "# Exibe o gráfico\n",
    "figura.show()"
   ]
  },
  {
   "cell_type": "code",
   "execution_count": 184,
   "metadata": {},
   "outputs": [
    {
     "data": {
      "application/vnd.plotly.v1+json": {
       "config": {
        "plotlyServerURL": "https://plot.ly"
       },
       "data": [
        {
         "marker": {
          "color": "blue"
         },
         "name": "ABEV3",
         "type": "bar",
         "x": [
          "MÉDIA",
          "SHARPE",
          "MÁXIMO DROW DOWN",
          "MÁXIMO DROW DOWN bruto",
          "VOLATILIDADE",
          "RENTABILIDADE",
          "GANHO BRUTO R$"
         ],
         "y": [
          [
           14.23,
           1.93,
           -0.02,
           -0.27,
           0.04,
           0.13,
           1.75
          ],
          [
           14.23,
           1.93,
           -0.02,
           -0.27,
           0.04,
           0.13,
           1.75
          ],
          [
           14.23,
           1.93,
           -0.02,
           -0.27,
           0.04,
           0.13,
           1.75
          ],
          [
           14.23,
           1.93,
           -0.02,
           -0.27,
           0.04,
           0.13,
           1.75
          ],
          [
           14.23,
           1.93,
           -0.02,
           -0.27,
           0.04,
           0.13,
           1.75
          ],
          [
           14.23,
           1.93,
           -0.02,
           -0.27,
           0.04,
           0.13,
           1.75
          ]
         ]
        },
        {
         "marker": {
          "color": "blue"
         },
         "name": "YDUQ3",
         "type": "bar",
         "x": [
          "MÉDIA",
          "SHARPE",
          "MÁXIMO DROW DOWN",
          "MÁXIMO DROW DOWN bruto",
          "VOLATILIDADE",
          "RENTABILIDADE",
          "GANHO BRUTO R$"
         ],
         "y": [
          [
           11.07,
           2.19,
           -0.32,
           -3.28,
           0.4,
           0.92,
           9.49
          ],
          [
           11.07,
           2.19,
           -0.32,
           -3.28,
           0.4,
           0.92,
           9.49
          ],
          [
           11.07,
           2.19,
           -0.32,
           -3.28,
           0.4,
           0.92,
           9.49
          ],
          [
           11.07,
           2.19,
           -0.32,
           -3.28,
           0.4,
           0.92,
           9.49
          ],
          [
           11.07,
           2.19,
           -0.32,
           -3.28,
           0.4,
           0.92,
           9.49
          ],
          [
           11.07,
           2.19,
           -0.32,
           -3.28,
           0.4,
           0.92,
           9.49
          ]
         ]
        },
        {
         "marker": {
          "color": "blue"
         },
         "name": "AZUL4",
         "type": "bar",
         "x": [
          "MÉDIA",
          "SHARPE",
          "MÁXIMO DROW DOWN",
          "MÁXIMO DROW DOWN bruto",
          "VOLATILIDADE",
          "RENTABILIDADE",
          "GANHO BRUTO R$"
         ],
         "y": [
          [
           13.43,
           1.77,
           -0.4,
           -4.72,
           0.45,
           0.84,
           10.01
          ],
          [
           13.43,
           1.77,
           -0.4,
           -4.72,
           0.45,
           0.84,
           10.01
          ],
          [
           13.43,
           1.77,
           -0.4,
           -4.72,
           0.45,
           0.84,
           10.01
          ],
          [
           13.43,
           1.77,
           -0.4,
           -4.72,
           0.45,
           0.84,
           10.01
          ],
          [
           13.43,
           1.77,
           -0.4,
           -4.72,
           0.45,
           0.84,
           10.01
          ],
          [
           13.43,
           1.77,
           -0.4,
           -4.72,
           0.45,
           0.84,
           10.01
          ]
         ]
        }
       ],
       "layout": {
        "barmode": "group",
        "template": {
         "data": {
          "candlestick": [
           {
            "decreasing": {
             "line": {
              "color": "#000033"
             }
            },
            "increasing": {
             "line": {
              "color": "#000032"
             }
            },
            "type": "candlestick"
           }
          ],
          "contour": [
           {
            "colorscale": [
             [
              0,
              "#000011"
             ],
             [
              0.1111111111111111,
              "#000012"
             ],
             [
              0.2222222222222222,
              "#000013"
             ],
             [
              0.3333333333333333,
              "#000014"
             ],
             [
              0.4444444444444444,
              "#000015"
             ],
             [
              0.5555555555555556,
              "#000016"
             ],
             [
              0.6666666666666666,
              "#000017"
             ],
             [
              0.7777777777777778,
              "#000018"
             ],
             [
              0.8888888888888888,
              "#000019"
             ],
             [
              1,
              "#000020"
             ]
            ],
            "type": "contour"
           }
          ],
          "contourcarpet": [
           {
            "colorscale": [
             [
              0,
              "#000011"
             ],
             [
              0.1111111111111111,
              "#000012"
             ],
             [
              0.2222222222222222,
              "#000013"
             ],
             [
              0.3333333333333333,
              "#000014"
             ],
             [
              0.4444444444444444,
              "#000015"
             ],
             [
              0.5555555555555556,
              "#000016"
             ],
             [
              0.6666666666666666,
              "#000017"
             ],
             [
              0.7777777777777778,
              "#000018"
             ],
             [
              0.8888888888888888,
              "#000019"
             ],
             [
              1,
              "#000020"
             ]
            ],
            "type": "contourcarpet"
           }
          ],
          "heatmap": [
           {
            "colorscale": [
             [
              0,
              "#000011"
             ],
             [
              0.1111111111111111,
              "#000012"
             ],
             [
              0.2222222222222222,
              "#000013"
             ],
             [
              0.3333333333333333,
              "#000014"
             ],
             [
              0.4444444444444444,
              "#000015"
             ],
             [
              0.5555555555555556,
              "#000016"
             ],
             [
              0.6666666666666666,
              "#000017"
             ],
             [
              0.7777777777777778,
              "#000018"
             ],
             [
              0.8888888888888888,
              "#000019"
             ],
             [
              1,
              "#000020"
             ]
            ],
            "type": "heatmap"
           }
          ],
          "histogram2d": [
           {
            "colorscale": [
             [
              0,
              "#000011"
             ],
             [
              0.1111111111111111,
              "#000012"
             ],
             [
              0.2222222222222222,
              "#000013"
             ],
             [
              0.3333333333333333,
              "#000014"
             ],
             [
              0.4444444444444444,
              "#000015"
             ],
             [
              0.5555555555555556,
              "#000016"
             ],
             [
              0.6666666666666666,
              "#000017"
             ],
             [
              0.7777777777777778,
              "#000018"
             ],
             [
              0.8888888888888888,
              "#000019"
             ],
             [
              1,
              "#000020"
             ]
            ],
            "type": "histogram2d"
           }
          ],
          "icicle": [
           {
            "textfont": {
             "color": "white"
            },
            "type": "icicle"
           }
          ],
          "sankey": [
           {
            "textfont": {
             "color": "#000036"
            },
            "type": "sankey"
           }
          ],
          "scatter": [
           {
            "marker": {
             "line": {
              "width": 0
             }
            },
            "type": "scatter"
           }
          ],
          "table": [
           {
            "cells": {
             "fill": {
              "color": "#000038"
             },
             "font": {
              "color": "#000037"
             },
             "line": {
              "color": "#000039"
             }
            },
            "header": {
             "fill": {
              "color": "#000040"
             },
             "font": {
              "color": "#000036"
             },
             "line": {
              "color": "#000039"
             }
            },
            "type": "table"
           }
          ],
          "waterfall": [
           {
            "connector": {
             "line": {
              "color": "#000036",
              "width": 2
             }
            },
            "decreasing": {
             "marker": {
              "color": "#000033"
             }
            },
            "increasing": {
             "marker": {
              "color": "#000032"
             }
            },
            "totals": {
             "marker": {
              "color": "#000034"
             }
            },
            "type": "waterfall"
           }
          ]
         },
         "layout": {
          "coloraxis": {
           "colorscale": [
            [
             0,
             "#000011"
            ],
            [
             0.1111111111111111,
             "#000012"
            ],
            [
             0.2222222222222222,
             "#000013"
            ],
            [
             0.3333333333333333,
             "#000014"
            ],
            [
             0.4444444444444444,
             "#000015"
            ],
            [
             0.5555555555555556,
             "#000016"
            ],
            [
             0.6666666666666666,
             "#000017"
            ],
            [
             0.7777777777777778,
             "#000018"
            ],
            [
             0.8888888888888888,
             "#000019"
            ],
            [
             1,
             "#000020"
            ]
           ]
          },
          "colorscale": {
           "diverging": [
            [
             0,
             "#000021"
            ],
            [
             0.1,
             "#000022"
            ],
            [
             0.2,
             "#000023"
            ],
            [
             0.3,
             "#000024"
            ],
            [
             0.4,
             "#000025"
            ],
            [
             0.5,
             "#000026"
            ],
            [
             0.6,
             "#000027"
            ],
            [
             0.7,
             "#000028"
            ],
            [
             0.8,
             "#000029"
            ],
            [
             0.9,
             "#000030"
            ],
            [
             1,
             "#000031"
            ]
           ],
           "sequential": [
            [
             0,
             "#000011"
            ],
            [
             0.1111111111111111,
             "#000012"
            ],
            [
             0.2222222222222222,
             "#000013"
            ],
            [
             0.3333333333333333,
             "#000014"
            ],
            [
             0.4444444444444444,
             "#000015"
            ],
            [
             0.5555555555555556,
             "#000016"
            ],
            [
             0.6666666666666666,
             "#000017"
            ],
            [
             0.7777777777777778,
             "#000018"
            ],
            [
             0.8888888888888888,
             "#000019"
            ],
            [
             1,
             "#000020"
            ]
           ],
           "sequentialminus": [
            [
             0,
             "#000011"
            ],
            [
             0.1111111111111111,
             "#000012"
            ],
            [
             0.2222222222222222,
             "#000013"
            ],
            [
             0.3333333333333333,
             "#000014"
            ],
            [
             0.4444444444444444,
             "#000015"
            ],
            [
             0.5555555555555556,
             "#000016"
            ],
            [
             0.6666666666666666,
             "#000017"
            ],
            [
             0.7777777777777778,
             "#000018"
            ],
            [
             0.8888888888888888,
             "#000019"
            ],
            [
             1,
             "#000020"
            ]
           ]
          },
          "colorway": [
           "#000001",
           "#000002",
           "#000003",
           "#000004",
           "#000005",
           "#000006",
           "#000007",
           "#000008",
           "#000009",
           "#000010"
          ]
         }
        },
        "title": {
         "text": "Valores Máximos por Indicador e Ação"
        },
        "xaxis": {
         "title": {
          "text": "Informações"
         }
        },
        "yaxis": {
         "title": {
          "text": "Valor"
         }
        }
       }
      }
     },
     "metadata": {},
     "output_type": "display_data"
    }
   ],
   "source": [
    "tickers = ['ABEV3', 'YDUQ3','AZUL4']\n",
    "best_tickers = df.loc[: , ['MÉDIA' ,'SHARPE', 'MÁXIMO DROW DOWN', 'MÁXIMO DROW DOWN bruto', 'VOLATILIDADE', 'RENTABILIDADE', 'GANHO BRUTO R$']].idxmax().values\n",
    "\n",
    "max_values = df.loc[: , ['MÉDIA' ,'SHARPE', 'MÁXIMO DROW DOWN', 'MÁXIMO DROW DOWN bruto', 'VOLATILIDADE', 'RENTABILIDADE', 'GANHO BRUTO R$']].max().values\n",
    "info = df.loc[: , ['MÉDIA' ,'SHARPE', 'MÁXIMO DROW DOWN', 'MÁXIMO DROW DOWN bruto', 'VOLATILIDADE', 'RENTABILIDADE', 'GANHO BRUTO R$']].max().index.values\n",
    "\n",
    "acoes_selecionadas = tickers\n",
    "acoes_selecionadas\n",
    "info\n",
    "figura = go.Figure()\n",
    "\n",
    "# Adiciona barras para cada indicador\n",
    "for acao in acoes_selecionadas:\n",
    "    figura.add_trace(go.Bar(name=acao, x=info, \n",
    "                            y=round(df.loc[df.index == acao, info],2),\n",
    "                            marker_color='blue',)\n",
    "                            )\n",
    "    \n",
    "    \n",
    "# Layout do gráfico\n",
    "figura.update_layout(barmode='group', title='Valores Máximos por Indicador e Ação',\n",
    "                    xaxis_title='Informações', yaxis_title='Valor',)\n",
    "# st.plotly_chart(figura)\n",
    "figura.show()"
   ]
  },
  {
   "cell_type": "code",
   "execution_count": null,
   "metadata": {},
   "outputs": [],
   "source": [
    "todos_tickers = df.index\n",
    "todos_tickers = todos_tickers.value_counts().index\n",
    "todos_tickers"
   ]
  },
  {
   "cell_type": "code",
   "execution_count": 210,
   "metadata": {},
   "outputs": [
    {
     "data": {
      "text/html": [
       "<div>\n",
       "<style scoped>\n",
       "    .dataframe tbody tr th:only-of-type {\n",
       "        vertical-align: middle;\n",
       "    }\n",
       "\n",
       "    .dataframe tbody tr th {\n",
       "        vertical-align: top;\n",
       "    }\n",
       "\n",
       "    .dataframe thead th {\n",
       "        text-align: right;\n",
       "    }\n",
       "</style>\n",
       "<table border=\"1\" class=\"dataframe\">\n",
       "  <thead>\n",
       "    <tr style=\"text-align: right;\">\n",
       "      <th></th>\n",
       "      <th>DATA</th>\n",
       "      <th>NOME</th>\n",
       "      <th>PREÇO (R$)</th>\n",
       "      <th>SETOR ECONÔMICO</th>\n",
       "      <th>SUBSETOR</th>\n",
       "      <th>SEGMENTO</th>\n",
       "      <th>IPCA</th>\n",
       "      <th>SELIC</th>\n",
       "      <th>USD</th>\n",
       "      <th>RETORNOS_SIMPLES</th>\n",
       "      <th>RETORNOS_LOGARITIMOS</th>\n",
       "      <th>RETORNOS_ACUMULADOS</th>\n",
       "    </tr>\n",
       "    <tr>\n",
       "      <th>PAPEL</th>\n",
       "      <th></th>\n",
       "      <th></th>\n",
       "      <th></th>\n",
       "      <th></th>\n",
       "      <th></th>\n",
       "      <th></th>\n",
       "      <th></th>\n",
       "      <th></th>\n",
       "      <th></th>\n",
       "      <th></th>\n",
       "      <th></th>\n",
       "      <th></th>\n",
       "    </tr>\n",
       "  </thead>\n",
       "  <tbody>\n",
       "    <tr>\n",
       "      <th>ABEV3</th>\n",
       "      <td>2023-01-31</td>\n",
       "      <td>AMBEV S/A</td>\n",
       "      <td>13.66</td>\n",
       "      <td>Consumo não Cíclico</td>\n",
       "      <td>Bebidas</td>\n",
       "      <td>Cervejas e Refrigerantes</td>\n",
       "      <td>0.0053</td>\n",
       "      <td>0.0112</td>\n",
       "      <td>5.0987</td>\n",
       "      <td>NaN</td>\n",
       "      <td>NaN</td>\n",
       "      <td>NaN</td>\n",
       "    </tr>\n",
       "    <tr>\n",
       "      <th>ABEV3</th>\n",
       "      <td>2023-02-28</td>\n",
       "      <td>AMBEV S/A</td>\n",
       "      <td>13.39</td>\n",
       "      <td>Consumo não Cíclico</td>\n",
       "      <td>Bebidas</td>\n",
       "      <td>Cervejas e Refrigerantes</td>\n",
       "      <td>0.0084</td>\n",
       "      <td>0.0092</td>\n",
       "      <td>5.2072</td>\n",
       "      <td>-0.019766</td>\n",
       "      <td>-0.019964</td>\n",
       "      <td>-0.019766</td>\n",
       "    </tr>\n",
       "    <tr>\n",
       "      <th>ABEV3</th>\n",
       "      <td>2023-03-31</td>\n",
       "      <td>AMBEV S/A</td>\n",
       "      <td>14.33</td>\n",
       "      <td>Consumo não Cíclico</td>\n",
       "      <td>Bebidas</td>\n",
       "      <td>Cervejas e Refrigerantes</td>\n",
       "      <td>0.0071</td>\n",
       "      <td>0.0117</td>\n",
       "      <td>5.0798</td>\n",
       "      <td>0.070202</td>\n",
       "      <td>0.067847</td>\n",
       "      <td>0.049048</td>\n",
       "    </tr>\n",
       "    <tr>\n",
       "      <th>ABEV3</th>\n",
       "      <td>2023-04-30</td>\n",
       "      <td>AMBEV S/A</td>\n",
       "      <td>14.16</td>\n",
       "      <td>Consumo não Cíclico</td>\n",
       "      <td>Bebidas</td>\n",
       "      <td>Cervejas e Refrigerantes</td>\n",
       "      <td>0.0061</td>\n",
       "      <td>0.0092</td>\n",
       "      <td>5.0001</td>\n",
       "      <td>-0.011863</td>\n",
       "      <td>-0.011934</td>\n",
       "      <td>0.036603</td>\n",
       "    </tr>\n",
       "    <tr>\n",
       "      <th>ABEV3</th>\n",
       "      <td>2023-05-31</td>\n",
       "      <td>AMBEV S/A</td>\n",
       "      <td>14.41</td>\n",
       "      <td>Consumo não Cíclico</td>\n",
       "      <td>Bebidas</td>\n",
       "      <td>Cervejas e Refrigerantes</td>\n",
       "      <td>0.0023</td>\n",
       "      <td>0.0112</td>\n",
       "      <td>5.0953</td>\n",
       "      <td>0.017655</td>\n",
       "      <td>0.017501</td>\n",
       "      <td>0.054905</td>\n",
       "    </tr>\n",
       "    <tr>\n",
       "      <th>...</th>\n",
       "      <td>...</td>\n",
       "      <td>...</td>\n",
       "      <td>...</td>\n",
       "      <td>...</td>\n",
       "      <td>...</td>\n",
       "      <td>...</td>\n",
       "      <td>...</td>\n",
       "      <td>...</td>\n",
       "      <td>...</td>\n",
       "      <td>...</td>\n",
       "      <td>...</td>\n",
       "      <td>...</td>\n",
       "    </tr>\n",
       "    <tr>\n",
       "      <th>YDUQ3</th>\n",
       "      <td>2023-02-28</td>\n",
       "      <td>YDUQS PART</td>\n",
       "      <td>7.05</td>\n",
       "      <td>Consumo Cíclico</td>\n",
       "      <td>Diversos</td>\n",
       "      <td>Serviços Educacionais</td>\n",
       "      <td>0.0084</td>\n",
       "      <td>0.0092</td>\n",
       "      <td>5.2072</td>\n",
       "      <td>-0.317522</td>\n",
       "      <td>-0.382025</td>\n",
       "      <td>-0.317522</td>\n",
       "    </tr>\n",
       "    <tr>\n",
       "      <th>YDUQ3</th>\n",
       "      <td>2023-03-31</td>\n",
       "      <td>YDUQS PART</td>\n",
       "      <td>7.05</td>\n",
       "      <td>Consumo Cíclico</td>\n",
       "      <td>Diversos</td>\n",
       "      <td>Serviços Educacionais</td>\n",
       "      <td>0.0071</td>\n",
       "      <td>0.0117</td>\n",
       "      <td>5.0798</td>\n",
       "      <td>0.000000</td>\n",
       "      <td>0.000000</td>\n",
       "      <td>-0.317522</td>\n",
       "    </tr>\n",
       "    <tr>\n",
       "      <th>YDUQ3</th>\n",
       "      <td>2023-04-30</td>\n",
       "      <td>YDUQS PART</td>\n",
       "      <td>8.12</td>\n",
       "      <td>Consumo Cíclico</td>\n",
       "      <td>Diversos</td>\n",
       "      <td>Serviços Educacionais</td>\n",
       "      <td>0.0061</td>\n",
       "      <td>0.0092</td>\n",
       "      <td>5.0001</td>\n",
       "      <td>0.151773</td>\n",
       "      <td>0.141303</td>\n",
       "      <td>-0.213940</td>\n",
       "    </tr>\n",
       "    <tr>\n",
       "      <th>YDUQ3</th>\n",
       "      <td>2023-05-31</td>\n",
       "      <td>YDUQS PART</td>\n",
       "      <td>14.07</td>\n",
       "      <td>Consumo Cíclico</td>\n",
       "      <td>Diversos</td>\n",
       "      <td>Serviços Educacionais</td>\n",
       "      <td>0.0023</td>\n",
       "      <td>0.0112</td>\n",
       "      <td>5.0953</td>\n",
       "      <td>0.732759</td>\n",
       "      <td>0.549715</td>\n",
       "      <td>0.362052</td>\n",
       "    </tr>\n",
       "    <tr>\n",
       "      <th>YDUQ3</th>\n",
       "      <td>2023-06-30</td>\n",
       "      <td>YDUQS PART</td>\n",
       "      <td>19.82</td>\n",
       "      <td>Consumo Cíclico</td>\n",
       "      <td>Diversos</td>\n",
       "      <td>Serviços Educacionais</td>\n",
       "      <td>-0.0008</td>\n",
       "      <td>0.0107</td>\n",
       "      <td>4.8186</td>\n",
       "      <td>0.408671</td>\n",
       "      <td>0.342647</td>\n",
       "      <td>0.918683</td>\n",
       "    </tr>\n",
       "  </tbody>\n",
       "</table>\n",
       "<p>528 rows × 12 columns</p>\n",
       "</div>"
      ],
      "text/plain": [
       "            DATA        NOME  PREÇO (R$)      SETOR ECONÔMICO  SUBSETOR  \\\n",
       "PAPEL                                                                     \n",
       "ABEV3 2023-01-31   AMBEV S/A       13.66  Consumo não Cíclico   Bebidas   \n",
       "ABEV3 2023-02-28   AMBEV S/A       13.39  Consumo não Cíclico   Bebidas   \n",
       "ABEV3 2023-03-31   AMBEV S/A       14.33  Consumo não Cíclico   Bebidas   \n",
       "ABEV3 2023-04-30   AMBEV S/A       14.16  Consumo não Cíclico   Bebidas   \n",
       "ABEV3 2023-05-31   AMBEV S/A       14.41  Consumo não Cíclico   Bebidas   \n",
       "...          ...         ...         ...                  ...       ...   \n",
       "YDUQ3 2023-02-28  YDUQS PART        7.05      Consumo Cíclico  Diversos   \n",
       "YDUQ3 2023-03-31  YDUQS PART        7.05      Consumo Cíclico  Diversos   \n",
       "YDUQ3 2023-04-30  YDUQS PART        8.12      Consumo Cíclico  Diversos   \n",
       "YDUQ3 2023-05-31  YDUQS PART       14.07      Consumo Cíclico  Diversos   \n",
       "YDUQ3 2023-06-30  YDUQS PART       19.82      Consumo Cíclico  Diversos   \n",
       "\n",
       "                       SEGMENTO    IPCA   SELIC     USD  RETORNOS_SIMPLES  \\\n",
       "PAPEL                                                                       \n",
       "ABEV3  Cervejas e Refrigerantes  0.0053  0.0112  5.0987               NaN   \n",
       "ABEV3  Cervejas e Refrigerantes  0.0084  0.0092  5.2072         -0.019766   \n",
       "ABEV3  Cervejas e Refrigerantes  0.0071  0.0117  5.0798          0.070202   \n",
       "ABEV3  Cervejas e Refrigerantes  0.0061  0.0092  5.0001         -0.011863   \n",
       "ABEV3  Cervejas e Refrigerantes  0.0023  0.0112  5.0953          0.017655   \n",
       "...                         ...     ...     ...     ...               ...   \n",
       "YDUQ3     Serviços Educacionais  0.0084  0.0092  5.2072         -0.317522   \n",
       "YDUQ3     Serviços Educacionais  0.0071  0.0117  5.0798          0.000000   \n",
       "YDUQ3     Serviços Educacionais  0.0061  0.0092  5.0001          0.151773   \n",
       "YDUQ3     Serviços Educacionais  0.0023  0.0112  5.0953          0.732759   \n",
       "YDUQ3     Serviços Educacionais -0.0008  0.0107  4.8186          0.408671   \n",
       "\n",
       "       RETORNOS_LOGARITIMOS  RETORNOS_ACUMULADOS  \n",
       "PAPEL                                             \n",
       "ABEV3                   NaN                  NaN  \n",
       "ABEV3             -0.019964            -0.019766  \n",
       "ABEV3              0.067847             0.049048  \n",
       "ABEV3             -0.011934             0.036603  \n",
       "ABEV3              0.017501             0.054905  \n",
       "...                     ...                  ...  \n",
       "YDUQ3             -0.382025            -0.317522  \n",
       "YDUQ3              0.000000            -0.317522  \n",
       "YDUQ3              0.141303            -0.213940  \n",
       "YDUQ3              0.549715             0.362052  \n",
       "YDUQ3              0.342647             0.918683  \n",
       "\n",
       "[528 rows x 12 columns]"
      ]
     },
     "execution_count": 210,
     "metadata": {},
     "output_type": "execute_result"
    }
   ],
   "source": [
    "df_completo"
   ]
  },
  {
   "cell_type": "code",
   "execution_count": 223,
   "metadata": {},
   "outputs": [
    {
     "data": {
      "application/vnd.plotly.v1+json": {
       "config": {
        "plotlyServerURL": "https://plot.ly"
       },
       "data": [
        {
         "name": "gold",
         "type": "bar",
         "x": [
          "South Korea",
          "China",
          "Canada"
         ],
         "y": [
          24,
          10,
          9
         ]
        },
        {
         "name": "silver",
         "type": "bar",
         "x": [
          "South Korea",
          "China",
          "Canada"
         ],
         "y": [
          13,
          15,
          12
         ]
        },
        {
         "name": "bronze",
         "type": "bar",
         "x": [
          "South Korea",
          "China",
          "Canada"
         ],
         "y": [
          11,
          8,
          12
         ]
        }
       ],
       "layout": {
        "barcornerradius": 15,
        "template": {
         "data": {
          "candlestick": [
           {
            "decreasing": {
             "line": {
              "color": "#000033"
             }
            },
            "increasing": {
             "line": {
              "color": "#000032"
             }
            },
            "type": "candlestick"
           }
          ],
          "contour": [
           {
            "colorscale": [
             [
              0,
              "#000011"
             ],
             [
              0.1111111111111111,
              "#000012"
             ],
             [
              0.2222222222222222,
              "#000013"
             ],
             [
              0.3333333333333333,
              "#000014"
             ],
             [
              0.4444444444444444,
              "#000015"
             ],
             [
              0.5555555555555556,
              "#000016"
             ],
             [
              0.6666666666666666,
              "#000017"
             ],
             [
              0.7777777777777778,
              "#000018"
             ],
             [
              0.8888888888888888,
              "#000019"
             ],
             [
              1,
              "#000020"
             ]
            ],
            "type": "contour"
           }
          ],
          "contourcarpet": [
           {
            "colorscale": [
             [
              0,
              "#000011"
             ],
             [
              0.1111111111111111,
              "#000012"
             ],
             [
              0.2222222222222222,
              "#000013"
             ],
             [
              0.3333333333333333,
              "#000014"
             ],
             [
              0.4444444444444444,
              "#000015"
             ],
             [
              0.5555555555555556,
              "#000016"
             ],
             [
              0.6666666666666666,
              "#000017"
             ],
             [
              0.7777777777777778,
              "#000018"
             ],
             [
              0.8888888888888888,
              "#000019"
             ],
             [
              1,
              "#000020"
             ]
            ],
            "type": "contourcarpet"
           }
          ],
          "heatmap": [
           {
            "colorscale": [
             [
              0,
              "#000011"
             ],
             [
              0.1111111111111111,
              "#000012"
             ],
             [
              0.2222222222222222,
              "#000013"
             ],
             [
              0.3333333333333333,
              "#000014"
             ],
             [
              0.4444444444444444,
              "#000015"
             ],
             [
              0.5555555555555556,
              "#000016"
             ],
             [
              0.6666666666666666,
              "#000017"
             ],
             [
              0.7777777777777778,
              "#000018"
             ],
             [
              0.8888888888888888,
              "#000019"
             ],
             [
              1,
              "#000020"
             ]
            ],
            "type": "heatmap"
           }
          ],
          "histogram2d": [
           {
            "colorscale": [
             [
              0,
              "#000011"
             ],
             [
              0.1111111111111111,
              "#000012"
             ],
             [
              0.2222222222222222,
              "#000013"
             ],
             [
              0.3333333333333333,
              "#000014"
             ],
             [
              0.4444444444444444,
              "#000015"
             ],
             [
              0.5555555555555556,
              "#000016"
             ],
             [
              0.6666666666666666,
              "#000017"
             ],
             [
              0.7777777777777778,
              "#000018"
             ],
             [
              0.8888888888888888,
              "#000019"
             ],
             [
              1,
              "#000020"
             ]
            ],
            "type": "histogram2d"
           }
          ],
          "icicle": [
           {
            "textfont": {
             "color": "white"
            },
            "type": "icicle"
           }
          ],
          "sankey": [
           {
            "textfont": {
             "color": "#000036"
            },
            "type": "sankey"
           }
          ],
          "scatter": [
           {
            "marker": {
             "line": {
              "width": 0
             }
            },
            "type": "scatter"
           }
          ],
          "table": [
           {
            "cells": {
             "fill": {
              "color": "#000038"
             },
             "font": {
              "color": "#000037"
             },
             "line": {
              "color": "#000039"
             }
            },
            "header": {
             "fill": {
              "color": "#000040"
             },
             "font": {
              "color": "#000036"
             },
             "line": {
              "color": "#000039"
             }
            },
            "type": "table"
           }
          ],
          "waterfall": [
           {
            "connector": {
             "line": {
              "color": "#000036",
              "width": 2
             }
            },
            "decreasing": {
             "marker": {
              "color": "#000033"
             }
            },
            "increasing": {
             "marker": {
              "color": "#000032"
             }
            },
            "totals": {
             "marker": {
              "color": "#000034"
             }
            },
            "type": "waterfall"
           }
          ]
         },
         "layout": {
          "coloraxis": {
           "colorscale": [
            [
             0,
             "#000011"
            ],
            [
             0.1111111111111111,
             "#000012"
            ],
            [
             0.2222222222222222,
             "#000013"
            ],
            [
             0.3333333333333333,
             "#000014"
            ],
            [
             0.4444444444444444,
             "#000015"
            ],
            [
             0.5555555555555556,
             "#000016"
            ],
            [
             0.6666666666666666,
             "#000017"
            ],
            [
             0.7777777777777778,
             "#000018"
            ],
            [
             0.8888888888888888,
             "#000019"
            ],
            [
             1,
             "#000020"
            ]
           ]
          },
          "colorscale": {
           "diverging": [
            [
             0,
             "#000021"
            ],
            [
             0.1,
             "#000022"
            ],
            [
             0.2,
             "#000023"
            ],
            [
             0.3,
             "#000024"
            ],
            [
             0.4,
             "#000025"
            ],
            [
             0.5,
             "#000026"
            ],
            [
             0.6,
             "#000027"
            ],
            [
             0.7,
             "#000028"
            ],
            [
             0.8,
             "#000029"
            ],
            [
             0.9,
             "#000030"
            ],
            [
             1,
             "#000031"
            ]
           ],
           "sequential": [
            [
             0,
             "#000011"
            ],
            [
             0.1111111111111111,
             "#000012"
            ],
            [
             0.2222222222222222,
             "#000013"
            ],
            [
             0.3333333333333333,
             "#000014"
            ],
            [
             0.4444444444444444,
             "#000015"
            ],
            [
             0.5555555555555556,
             "#000016"
            ],
            [
             0.6666666666666666,
             "#000017"
            ],
            [
             0.7777777777777778,
             "#000018"
            ],
            [
             0.8888888888888888,
             "#000019"
            ],
            [
             1,
             "#000020"
            ]
           ],
           "sequentialminus": [
            [
             0,
             "#000011"
            ],
            [
             0.1111111111111111,
             "#000012"
            ],
            [
             0.2222222222222222,
             "#000013"
            ],
            [
             0.3333333333333333,
             "#000014"
            ],
            [
             0.4444444444444444,
             "#000015"
            ],
            [
             0.5555555555555556,
             "#000016"
            ],
            [
             0.6666666666666666,
             "#000017"
            ],
            [
             0.7777777777777778,
             "#000018"
            ],
            [
             0.8888888888888888,
             "#000019"
            ],
            [
             1,
             "#000020"
            ]
           ]
          },
          "colorway": [
           "#000001",
           "#000002",
           "#000003",
           "#000004",
           "#000005",
           "#000006",
           "#000007",
           "#000008",
           "#000009",
           "#000010"
          ]
         }
        }
       }
      }
     },
     "metadata": {},
     "output_type": "display_data"
    }
   ],
   "source": [
    "import plotly.graph_objects as go\n",
    "from plotly import data\n",
    "\n",
    "df_teste = data.medals_wide()\n",
    "\n",
    "fig = go.Figure()\n",
    "\n",
    "# Iterar sobre as colunas do DataFrame\n",
    "for col in ['gold', 'silver', 'bronze']:\n",
    "    fig.add_trace(go.Bar(x=df_teste.nation, y=df_teste[col], name=col))\n",
    "\n",
    "fig.update_layout(barcornerradius=15)\n",
    "fig.show()"
   ]
  },
  {
   "cell_type": "code",
   "execution_count": 285,
   "metadata": {},
   "outputs": [
    {
     "data": {
      "text/html": [
       "<div>\n",
       "<style scoped>\n",
       "    .dataframe tbody tr th:only-of-type {\n",
       "        vertical-align: middle;\n",
       "    }\n",
       "\n",
       "    .dataframe tbody tr th {\n",
       "        vertical-align: top;\n",
       "    }\n",
       "\n",
       "    .dataframe thead th {\n",
       "        text-align: right;\n",
       "    }\n",
       "</style>\n",
       "<table border=\"1\" class=\"dataframe\">\n",
       "  <thead>\n",
       "    <tr style=\"text-align: right;\">\n",
       "      <th></th>\n",
       "      <th>PAPEL</th>\n",
       "      <th>DATA</th>\n",
       "      <th>NOME</th>\n",
       "      <th>PREÇO (R$)</th>\n",
       "      <th>SETOR ECONÔMICO</th>\n",
       "      <th>SUBSETOR</th>\n",
       "      <th>SEGMENTO</th>\n",
       "      <th>IPCA</th>\n",
       "      <th>SELIC</th>\n",
       "      <th>USD</th>\n",
       "      <th>RETORNOS_SIMPLES</th>\n",
       "      <th>RETORNOS_LOGARITIMOS</th>\n",
       "      <th>RETORNOS_ACUMULADOS</th>\n",
       "      <th>SHARPE</th>\n",
       "      <th>MÉDIA</th>\n",
       "      <th>MÁXIMO DROW DOWN</th>\n",
       "      <th>MÁXIMO DROW DOWN bruto</th>\n",
       "      <th>VOLATILIDADE</th>\n",
       "      <th>RENTABILIDADE</th>\n",
       "      <th>GANHO BRUTO R$</th>\n",
       "    </tr>\n",
       "  </thead>\n",
       "  <tbody>\n",
       "    <tr>\n",
       "      <th>0</th>\n",
       "      <td>ABEV3</td>\n",
       "      <td>2023-01-31</td>\n",
       "      <td>AMBEV S/A</td>\n",
       "      <td>13.66</td>\n",
       "      <td>Consumo não Cíclico</td>\n",
       "      <td>Bebidas</td>\n",
       "      <td>Cervejas e Refrigerantes</td>\n",
       "      <td>0.0053</td>\n",
       "      <td>0.0112</td>\n",
       "      <td>5.0987</td>\n",
       "      <td>NaN</td>\n",
       "      <td>NaN</td>\n",
       "      <td>NaN</td>\n",
       "      <td>1.928270</td>\n",
       "      <td>14.226667</td>\n",
       "      <td>-0.019766</td>\n",
       "      <td>-0.27</td>\n",
       "      <td>0.043101</td>\n",
       "      <td>0.128111</td>\n",
       "      <td>1.75</td>\n",
       "    </tr>\n",
       "    <tr>\n",
       "      <th>1</th>\n",
       "      <td>ABEV3</td>\n",
       "      <td>2023-02-28</td>\n",
       "      <td>AMBEV S/A</td>\n",
       "      <td>13.39</td>\n",
       "      <td>Consumo não Cíclico</td>\n",
       "      <td>Bebidas</td>\n",
       "      <td>Cervejas e Refrigerantes</td>\n",
       "      <td>0.0084</td>\n",
       "      <td>0.0092</td>\n",
       "      <td>5.2072</td>\n",
       "      <td>-0.019766</td>\n",
       "      <td>-0.019964</td>\n",
       "      <td>-0.019766</td>\n",
       "      <td>1.928270</td>\n",
       "      <td>14.226667</td>\n",
       "      <td>-0.019766</td>\n",
       "      <td>-0.27</td>\n",
       "      <td>0.043101</td>\n",
       "      <td>0.128111</td>\n",
       "      <td>1.75</td>\n",
       "    </tr>\n",
       "    <tr>\n",
       "      <th>2</th>\n",
       "      <td>ABEV3</td>\n",
       "      <td>2023-03-31</td>\n",
       "      <td>AMBEV S/A</td>\n",
       "      <td>14.33</td>\n",
       "      <td>Consumo não Cíclico</td>\n",
       "      <td>Bebidas</td>\n",
       "      <td>Cervejas e Refrigerantes</td>\n",
       "      <td>0.0071</td>\n",
       "      <td>0.0117</td>\n",
       "      <td>5.0798</td>\n",
       "      <td>0.070202</td>\n",
       "      <td>0.067847</td>\n",
       "      <td>0.049048</td>\n",
       "      <td>1.928270</td>\n",
       "      <td>14.226667</td>\n",
       "      <td>-0.019766</td>\n",
       "      <td>-0.27</td>\n",
       "      <td>0.043101</td>\n",
       "      <td>0.128111</td>\n",
       "      <td>1.75</td>\n",
       "    </tr>\n",
       "    <tr>\n",
       "      <th>3</th>\n",
       "      <td>ABEV3</td>\n",
       "      <td>2023-04-30</td>\n",
       "      <td>AMBEV S/A</td>\n",
       "      <td>14.16</td>\n",
       "      <td>Consumo não Cíclico</td>\n",
       "      <td>Bebidas</td>\n",
       "      <td>Cervejas e Refrigerantes</td>\n",
       "      <td>0.0061</td>\n",
       "      <td>0.0092</td>\n",
       "      <td>5.0001</td>\n",
       "      <td>-0.011863</td>\n",
       "      <td>-0.011934</td>\n",
       "      <td>0.036603</td>\n",
       "      <td>1.928270</td>\n",
       "      <td>14.226667</td>\n",
       "      <td>-0.019766</td>\n",
       "      <td>-0.27</td>\n",
       "      <td>0.043101</td>\n",
       "      <td>0.128111</td>\n",
       "      <td>1.75</td>\n",
       "    </tr>\n",
       "    <tr>\n",
       "      <th>4</th>\n",
       "      <td>ABEV3</td>\n",
       "      <td>2023-05-31</td>\n",
       "      <td>AMBEV S/A</td>\n",
       "      <td>14.41</td>\n",
       "      <td>Consumo não Cíclico</td>\n",
       "      <td>Bebidas</td>\n",
       "      <td>Cervejas e Refrigerantes</td>\n",
       "      <td>0.0023</td>\n",
       "      <td>0.0112</td>\n",
       "      <td>5.0953</td>\n",
       "      <td>0.017655</td>\n",
       "      <td>0.017501</td>\n",
       "      <td>0.054905</td>\n",
       "      <td>1.928270</td>\n",
       "      <td>14.226667</td>\n",
       "      <td>-0.019766</td>\n",
       "      <td>-0.27</td>\n",
       "      <td>0.043101</td>\n",
       "      <td>0.128111</td>\n",
       "      <td>1.75</td>\n",
       "    </tr>\n",
       "    <tr>\n",
       "      <th>...</th>\n",
       "      <td>...</td>\n",
       "      <td>...</td>\n",
       "      <td>...</td>\n",
       "      <td>...</td>\n",
       "      <td>...</td>\n",
       "      <td>...</td>\n",
       "      <td>...</td>\n",
       "      <td>...</td>\n",
       "      <td>...</td>\n",
       "      <td>...</td>\n",
       "      <td>...</td>\n",
       "      <td>...</td>\n",
       "      <td>...</td>\n",
       "      <td>...</td>\n",
       "      <td>...</td>\n",
       "      <td>...</td>\n",
       "      <td>...</td>\n",
       "      <td>...</td>\n",
       "      <td>...</td>\n",
       "      <td>...</td>\n",
       "    </tr>\n",
       "    <tr>\n",
       "      <th>523</th>\n",
       "      <td>YDUQ3</td>\n",
       "      <td>2023-02-28</td>\n",
       "      <td>YDUQS PART</td>\n",
       "      <td>7.05</td>\n",
       "      <td>Consumo Cíclico</td>\n",
       "      <td>Diversos</td>\n",
       "      <td>Serviços Educacionais</td>\n",
       "      <td>0.0084</td>\n",
       "      <td>0.0092</td>\n",
       "      <td>5.2072</td>\n",
       "      <td>-0.317522</td>\n",
       "      <td>-0.382025</td>\n",
       "      <td>-0.317522</td>\n",
       "      <td>2.188639</td>\n",
       "      <td>11.073333</td>\n",
       "      <td>-0.317522</td>\n",
       "      <td>-3.28</td>\n",
       "      <td>0.399190</td>\n",
       "      <td>0.918683</td>\n",
       "      <td>9.49</td>\n",
       "    </tr>\n",
       "    <tr>\n",
       "      <th>524</th>\n",
       "      <td>YDUQ3</td>\n",
       "      <td>2023-03-31</td>\n",
       "      <td>YDUQS PART</td>\n",
       "      <td>7.05</td>\n",
       "      <td>Consumo Cíclico</td>\n",
       "      <td>Diversos</td>\n",
       "      <td>Serviços Educacionais</td>\n",
       "      <td>0.0071</td>\n",
       "      <td>0.0117</td>\n",
       "      <td>5.0798</td>\n",
       "      <td>0.000000</td>\n",
       "      <td>0.000000</td>\n",
       "      <td>-0.317522</td>\n",
       "      <td>2.188639</td>\n",
       "      <td>11.073333</td>\n",
       "      <td>-0.317522</td>\n",
       "      <td>-3.28</td>\n",
       "      <td>0.399190</td>\n",
       "      <td>0.918683</td>\n",
       "      <td>9.49</td>\n",
       "    </tr>\n",
       "    <tr>\n",
       "      <th>525</th>\n",
       "      <td>YDUQ3</td>\n",
       "      <td>2023-04-30</td>\n",
       "      <td>YDUQS PART</td>\n",
       "      <td>8.12</td>\n",
       "      <td>Consumo Cíclico</td>\n",
       "      <td>Diversos</td>\n",
       "      <td>Serviços Educacionais</td>\n",
       "      <td>0.0061</td>\n",
       "      <td>0.0092</td>\n",
       "      <td>5.0001</td>\n",
       "      <td>0.151773</td>\n",
       "      <td>0.141303</td>\n",
       "      <td>-0.213940</td>\n",
       "      <td>2.188639</td>\n",
       "      <td>11.073333</td>\n",
       "      <td>-0.317522</td>\n",
       "      <td>-3.28</td>\n",
       "      <td>0.399190</td>\n",
       "      <td>0.918683</td>\n",
       "      <td>9.49</td>\n",
       "    </tr>\n",
       "    <tr>\n",
       "      <th>526</th>\n",
       "      <td>YDUQ3</td>\n",
       "      <td>2023-05-31</td>\n",
       "      <td>YDUQS PART</td>\n",
       "      <td>14.07</td>\n",
       "      <td>Consumo Cíclico</td>\n",
       "      <td>Diversos</td>\n",
       "      <td>Serviços Educacionais</td>\n",
       "      <td>0.0023</td>\n",
       "      <td>0.0112</td>\n",
       "      <td>5.0953</td>\n",
       "      <td>0.732759</td>\n",
       "      <td>0.549715</td>\n",
       "      <td>0.362052</td>\n",
       "      <td>2.188639</td>\n",
       "      <td>11.073333</td>\n",
       "      <td>-0.317522</td>\n",
       "      <td>-3.28</td>\n",
       "      <td>0.399190</td>\n",
       "      <td>0.918683</td>\n",
       "      <td>9.49</td>\n",
       "    </tr>\n",
       "    <tr>\n",
       "      <th>527</th>\n",
       "      <td>YDUQ3</td>\n",
       "      <td>2023-06-30</td>\n",
       "      <td>YDUQS PART</td>\n",
       "      <td>19.82</td>\n",
       "      <td>Consumo Cíclico</td>\n",
       "      <td>Diversos</td>\n",
       "      <td>Serviços Educacionais</td>\n",
       "      <td>-0.0008</td>\n",
       "      <td>0.0107</td>\n",
       "      <td>4.8186</td>\n",
       "      <td>0.408671</td>\n",
       "      <td>0.342647</td>\n",
       "      <td>0.918683</td>\n",
       "      <td>2.188639</td>\n",
       "      <td>11.073333</td>\n",
       "      <td>-0.317522</td>\n",
       "      <td>-3.28</td>\n",
       "      <td>0.399190</td>\n",
       "      <td>0.918683</td>\n",
       "      <td>9.49</td>\n",
       "    </tr>\n",
       "  </tbody>\n",
       "</table>\n",
       "<p>528 rows × 20 columns</p>\n",
       "</div>"
      ],
      "text/plain": [
       "     PAPEL       DATA        NOME  PREÇO (R$)      SETOR ECONÔMICO  SUBSETOR  \\\n",
       "0    ABEV3 2023-01-31   AMBEV S/A       13.66  Consumo não Cíclico   Bebidas   \n",
       "1    ABEV3 2023-02-28   AMBEV S/A       13.39  Consumo não Cíclico   Bebidas   \n",
       "2    ABEV3 2023-03-31   AMBEV S/A       14.33  Consumo não Cíclico   Bebidas   \n",
       "3    ABEV3 2023-04-30   AMBEV S/A       14.16  Consumo não Cíclico   Bebidas   \n",
       "4    ABEV3 2023-05-31   AMBEV S/A       14.41  Consumo não Cíclico   Bebidas   \n",
       "..     ...        ...         ...         ...                  ...       ...   \n",
       "523  YDUQ3 2023-02-28  YDUQS PART        7.05      Consumo Cíclico  Diversos   \n",
       "524  YDUQ3 2023-03-31  YDUQS PART        7.05      Consumo Cíclico  Diversos   \n",
       "525  YDUQ3 2023-04-30  YDUQS PART        8.12      Consumo Cíclico  Diversos   \n",
       "526  YDUQ3 2023-05-31  YDUQS PART       14.07      Consumo Cíclico  Diversos   \n",
       "527  YDUQ3 2023-06-30  YDUQS PART       19.82      Consumo Cíclico  Diversos   \n",
       "\n",
       "                     SEGMENTO    IPCA   SELIC     USD  RETORNOS_SIMPLES  \\\n",
       "0    Cervejas e Refrigerantes  0.0053  0.0112  5.0987               NaN   \n",
       "1    Cervejas e Refrigerantes  0.0084  0.0092  5.2072         -0.019766   \n",
       "2    Cervejas e Refrigerantes  0.0071  0.0117  5.0798          0.070202   \n",
       "3    Cervejas e Refrigerantes  0.0061  0.0092  5.0001         -0.011863   \n",
       "4    Cervejas e Refrigerantes  0.0023  0.0112  5.0953          0.017655   \n",
       "..                        ...     ...     ...     ...               ...   \n",
       "523     Serviços Educacionais  0.0084  0.0092  5.2072         -0.317522   \n",
       "524     Serviços Educacionais  0.0071  0.0117  5.0798          0.000000   \n",
       "525     Serviços Educacionais  0.0061  0.0092  5.0001          0.151773   \n",
       "526     Serviços Educacionais  0.0023  0.0112  5.0953          0.732759   \n",
       "527     Serviços Educacionais -0.0008  0.0107  4.8186          0.408671   \n",
       "\n",
       "     RETORNOS_LOGARITIMOS  RETORNOS_ACUMULADOS    SHARPE      MÉDIA  \\\n",
       "0                     NaN                  NaN  1.928270  14.226667   \n",
       "1               -0.019964            -0.019766  1.928270  14.226667   \n",
       "2                0.067847             0.049048  1.928270  14.226667   \n",
       "3               -0.011934             0.036603  1.928270  14.226667   \n",
       "4                0.017501             0.054905  1.928270  14.226667   \n",
       "..                    ...                  ...       ...        ...   \n",
       "523             -0.382025            -0.317522  2.188639  11.073333   \n",
       "524              0.000000            -0.317522  2.188639  11.073333   \n",
       "525              0.141303            -0.213940  2.188639  11.073333   \n",
       "526              0.549715             0.362052  2.188639  11.073333   \n",
       "527              0.342647             0.918683  2.188639  11.073333   \n",
       "\n",
       "     MÁXIMO DROW DOWN  MÁXIMO DROW DOWN bruto  VOLATILIDADE  RENTABILIDADE  \\\n",
       "0           -0.019766                   -0.27      0.043101       0.128111   \n",
       "1           -0.019766                   -0.27      0.043101       0.128111   \n",
       "2           -0.019766                   -0.27      0.043101       0.128111   \n",
       "3           -0.019766                   -0.27      0.043101       0.128111   \n",
       "4           -0.019766                   -0.27      0.043101       0.128111   \n",
       "..                ...                     ...           ...            ...   \n",
       "523         -0.317522                   -3.28      0.399190       0.918683   \n",
       "524         -0.317522                   -3.28      0.399190       0.918683   \n",
       "525         -0.317522                   -3.28      0.399190       0.918683   \n",
       "526         -0.317522                   -3.28      0.399190       0.918683   \n",
       "527         -0.317522                   -3.28      0.399190       0.918683   \n",
       "\n",
       "     GANHO BRUTO R$  \n",
       "0              1.75  \n",
       "1              1.75  \n",
       "2              1.75  \n",
       "3              1.75  \n",
       "4              1.75  \n",
       "..              ...  \n",
       "523            9.49  \n",
       "524            9.49  \n",
       "525            9.49  \n",
       "526            9.49  \n",
       "527            9.49  \n",
       "\n",
       "[528 rows x 20 columns]"
      ]
     },
     "execution_count": 285,
     "metadata": {},
     "output_type": "execute_result"
    }
   ],
   "source": [
    "df = t7.copy(deep=True)\n",
    "df.reset_index(inplace=True)\n",
    "df"
   ]
  },
  {
   "cell_type": "code",
   "execution_count": 264,
   "metadata": {},
   "outputs": [],
   "source": [
    "import time"
   ]
  },
  {
   "cell_type": "code",
   "execution_count": 322,
   "metadata": {},
   "outputs": [
    {
     "data": {
      "text/plain": [
       "array(['MÉDIA', 'SHARPE', 'MÁXIMO DROW DOWN', 'MÁXIMO DROW DOWN bruto',\n",
       "       'VOLATILIDADE', 'RENTABILIDADE', 'GANHO BRUTO R$'], dtype=object)"
      ]
     },
     "execution_count": 322,
     "metadata": {},
     "output_type": "execute_result"
    }
   ],
   "source": [
    "info"
   ]
  },
  {
   "cell_type": "code",
   "execution_count": 344,
   "metadata": {},
   "outputs": [
    {
     "data": {
      "text/html": [
       "<div>\n",
       "<style scoped>\n",
       "    .dataframe tbody tr th:only-of-type {\n",
       "        vertical-align: middle;\n",
       "    }\n",
       "\n",
       "    .dataframe tbody tr th {\n",
       "        vertical-align: top;\n",
       "    }\n",
       "\n",
       "    .dataframe thead th {\n",
       "        text-align: right;\n",
       "    }\n",
       "</style>\n",
       "<table border=\"1\" class=\"dataframe\">\n",
       "  <thead>\n",
       "    <tr style=\"text-align: right;\">\n",
       "      <th></th>\n",
       "      <th>PAPEL</th>\n",
       "      <th>DATA</th>\n",
       "      <th>NOME</th>\n",
       "      <th>PREÇO (R$)</th>\n",
       "      <th>SETOR ECONÔMICO</th>\n",
       "      <th>SUBSETOR</th>\n",
       "      <th>SEGMENTO</th>\n",
       "      <th>IPCA</th>\n",
       "      <th>SELIC</th>\n",
       "      <th>USD</th>\n",
       "      <th>RETORNOS_SIMPLES</th>\n",
       "      <th>RETORNOS_LOGARITIMOS</th>\n",
       "      <th>RETORNOS_ACUMULADOS</th>\n",
       "      <th>SHARPE</th>\n",
       "      <th>MÉDIA</th>\n",
       "      <th>MÁXIMO DROW DOWN</th>\n",
       "      <th>MÁXIMO DROW DOWN bruto</th>\n",
       "      <th>VOLATILIDADE</th>\n",
       "      <th>RENTABILIDADE</th>\n",
       "      <th>GANHO BRUTO R$</th>\n",
       "    </tr>\n",
       "  </thead>\n",
       "  <tbody>\n",
       "    <tr>\n",
       "      <th>0</th>\n",
       "      <td>ABEV3</td>\n",
       "      <td>2023-01-31</td>\n",
       "      <td>AMBEV S/A</td>\n",
       "      <td>13.66</td>\n",
       "      <td>Consumo não Cíclico</td>\n",
       "      <td>Bebidas</td>\n",
       "      <td>Cervejas e Refrigerantes</td>\n",
       "      <td>0.0053</td>\n",
       "      <td>0.0112</td>\n",
       "      <td>5.0987</td>\n",
       "      <td>NaN</td>\n",
       "      <td>NaN</td>\n",
       "      <td>NaN</td>\n",
       "      <td>1.928270</td>\n",
       "      <td>14.226667</td>\n",
       "      <td>-0.019766</td>\n",
       "      <td>-0.27</td>\n",
       "      <td>0.043101</td>\n",
       "      <td>0.128111</td>\n",
       "      <td>1.75</td>\n",
       "    </tr>\n",
       "    <tr>\n",
       "      <th>1</th>\n",
       "      <td>ABEV3</td>\n",
       "      <td>2023-02-28</td>\n",
       "      <td>AMBEV S/A</td>\n",
       "      <td>13.39</td>\n",
       "      <td>Consumo não Cíclico</td>\n",
       "      <td>Bebidas</td>\n",
       "      <td>Cervejas e Refrigerantes</td>\n",
       "      <td>0.0084</td>\n",
       "      <td>0.0092</td>\n",
       "      <td>5.2072</td>\n",
       "      <td>-0.019766</td>\n",
       "      <td>-0.019964</td>\n",
       "      <td>-0.019766</td>\n",
       "      <td>1.928270</td>\n",
       "      <td>14.226667</td>\n",
       "      <td>-0.019766</td>\n",
       "      <td>-0.27</td>\n",
       "      <td>0.043101</td>\n",
       "      <td>0.128111</td>\n",
       "      <td>1.75</td>\n",
       "    </tr>\n",
       "    <tr>\n",
       "      <th>2</th>\n",
       "      <td>ABEV3</td>\n",
       "      <td>2023-03-31</td>\n",
       "      <td>AMBEV S/A</td>\n",
       "      <td>14.33</td>\n",
       "      <td>Consumo não Cíclico</td>\n",
       "      <td>Bebidas</td>\n",
       "      <td>Cervejas e Refrigerantes</td>\n",
       "      <td>0.0071</td>\n",
       "      <td>0.0117</td>\n",
       "      <td>5.0798</td>\n",
       "      <td>0.070202</td>\n",
       "      <td>0.067847</td>\n",
       "      <td>0.049048</td>\n",
       "      <td>1.928270</td>\n",
       "      <td>14.226667</td>\n",
       "      <td>-0.019766</td>\n",
       "      <td>-0.27</td>\n",
       "      <td>0.043101</td>\n",
       "      <td>0.128111</td>\n",
       "      <td>1.75</td>\n",
       "    </tr>\n",
       "    <tr>\n",
       "      <th>3</th>\n",
       "      <td>ABEV3</td>\n",
       "      <td>2023-04-30</td>\n",
       "      <td>AMBEV S/A</td>\n",
       "      <td>14.16</td>\n",
       "      <td>Consumo não Cíclico</td>\n",
       "      <td>Bebidas</td>\n",
       "      <td>Cervejas e Refrigerantes</td>\n",
       "      <td>0.0061</td>\n",
       "      <td>0.0092</td>\n",
       "      <td>5.0001</td>\n",
       "      <td>-0.011863</td>\n",
       "      <td>-0.011934</td>\n",
       "      <td>0.036603</td>\n",
       "      <td>1.928270</td>\n",
       "      <td>14.226667</td>\n",
       "      <td>-0.019766</td>\n",
       "      <td>-0.27</td>\n",
       "      <td>0.043101</td>\n",
       "      <td>0.128111</td>\n",
       "      <td>1.75</td>\n",
       "    </tr>\n",
       "    <tr>\n",
       "      <th>4</th>\n",
       "      <td>ABEV3</td>\n",
       "      <td>2023-05-31</td>\n",
       "      <td>AMBEV S/A</td>\n",
       "      <td>14.41</td>\n",
       "      <td>Consumo não Cíclico</td>\n",
       "      <td>Bebidas</td>\n",
       "      <td>Cervejas e Refrigerantes</td>\n",
       "      <td>0.0023</td>\n",
       "      <td>0.0112</td>\n",
       "      <td>5.0953</td>\n",
       "      <td>0.017655</td>\n",
       "      <td>0.017501</td>\n",
       "      <td>0.054905</td>\n",
       "      <td>1.928270</td>\n",
       "      <td>14.226667</td>\n",
       "      <td>-0.019766</td>\n",
       "      <td>-0.27</td>\n",
       "      <td>0.043101</td>\n",
       "      <td>0.128111</td>\n",
       "      <td>1.75</td>\n",
       "    </tr>\n",
       "    <tr>\n",
       "      <th>...</th>\n",
       "      <td>...</td>\n",
       "      <td>...</td>\n",
       "      <td>...</td>\n",
       "      <td>...</td>\n",
       "      <td>...</td>\n",
       "      <td>...</td>\n",
       "      <td>...</td>\n",
       "      <td>...</td>\n",
       "      <td>...</td>\n",
       "      <td>...</td>\n",
       "      <td>...</td>\n",
       "      <td>...</td>\n",
       "      <td>...</td>\n",
       "      <td>...</td>\n",
       "      <td>...</td>\n",
       "      <td>...</td>\n",
       "      <td>...</td>\n",
       "      <td>...</td>\n",
       "      <td>...</td>\n",
       "      <td>...</td>\n",
       "    </tr>\n",
       "    <tr>\n",
       "      <th>523</th>\n",
       "      <td>YDUQ3</td>\n",
       "      <td>2023-02-28</td>\n",
       "      <td>YDUQS PART</td>\n",
       "      <td>7.05</td>\n",
       "      <td>Consumo Cíclico</td>\n",
       "      <td>Diversos</td>\n",
       "      <td>Serviços Educacionais</td>\n",
       "      <td>0.0084</td>\n",
       "      <td>0.0092</td>\n",
       "      <td>5.2072</td>\n",
       "      <td>-0.317522</td>\n",
       "      <td>-0.382025</td>\n",
       "      <td>-0.317522</td>\n",
       "      <td>2.188639</td>\n",
       "      <td>11.073333</td>\n",
       "      <td>-0.317522</td>\n",
       "      <td>-3.28</td>\n",
       "      <td>0.399190</td>\n",
       "      <td>0.918683</td>\n",
       "      <td>9.49</td>\n",
       "    </tr>\n",
       "    <tr>\n",
       "      <th>524</th>\n",
       "      <td>YDUQ3</td>\n",
       "      <td>2023-03-31</td>\n",
       "      <td>YDUQS PART</td>\n",
       "      <td>7.05</td>\n",
       "      <td>Consumo Cíclico</td>\n",
       "      <td>Diversos</td>\n",
       "      <td>Serviços Educacionais</td>\n",
       "      <td>0.0071</td>\n",
       "      <td>0.0117</td>\n",
       "      <td>5.0798</td>\n",
       "      <td>0.000000</td>\n",
       "      <td>0.000000</td>\n",
       "      <td>-0.317522</td>\n",
       "      <td>2.188639</td>\n",
       "      <td>11.073333</td>\n",
       "      <td>-0.317522</td>\n",
       "      <td>-3.28</td>\n",
       "      <td>0.399190</td>\n",
       "      <td>0.918683</td>\n",
       "      <td>9.49</td>\n",
       "    </tr>\n",
       "    <tr>\n",
       "      <th>525</th>\n",
       "      <td>YDUQ3</td>\n",
       "      <td>2023-04-30</td>\n",
       "      <td>YDUQS PART</td>\n",
       "      <td>8.12</td>\n",
       "      <td>Consumo Cíclico</td>\n",
       "      <td>Diversos</td>\n",
       "      <td>Serviços Educacionais</td>\n",
       "      <td>0.0061</td>\n",
       "      <td>0.0092</td>\n",
       "      <td>5.0001</td>\n",
       "      <td>0.151773</td>\n",
       "      <td>0.141303</td>\n",
       "      <td>-0.213940</td>\n",
       "      <td>2.188639</td>\n",
       "      <td>11.073333</td>\n",
       "      <td>-0.317522</td>\n",
       "      <td>-3.28</td>\n",
       "      <td>0.399190</td>\n",
       "      <td>0.918683</td>\n",
       "      <td>9.49</td>\n",
       "    </tr>\n",
       "    <tr>\n",
       "      <th>526</th>\n",
       "      <td>YDUQ3</td>\n",
       "      <td>2023-05-31</td>\n",
       "      <td>YDUQS PART</td>\n",
       "      <td>14.07</td>\n",
       "      <td>Consumo Cíclico</td>\n",
       "      <td>Diversos</td>\n",
       "      <td>Serviços Educacionais</td>\n",
       "      <td>0.0023</td>\n",
       "      <td>0.0112</td>\n",
       "      <td>5.0953</td>\n",
       "      <td>0.732759</td>\n",
       "      <td>0.549715</td>\n",
       "      <td>0.362052</td>\n",
       "      <td>2.188639</td>\n",
       "      <td>11.073333</td>\n",
       "      <td>-0.317522</td>\n",
       "      <td>-3.28</td>\n",
       "      <td>0.399190</td>\n",
       "      <td>0.918683</td>\n",
       "      <td>9.49</td>\n",
       "    </tr>\n",
       "    <tr>\n",
       "      <th>527</th>\n",
       "      <td>YDUQ3</td>\n",
       "      <td>2023-06-30</td>\n",
       "      <td>YDUQS PART</td>\n",
       "      <td>19.82</td>\n",
       "      <td>Consumo Cíclico</td>\n",
       "      <td>Diversos</td>\n",
       "      <td>Serviços Educacionais</td>\n",
       "      <td>-0.0008</td>\n",
       "      <td>0.0107</td>\n",
       "      <td>4.8186</td>\n",
       "      <td>0.408671</td>\n",
       "      <td>0.342647</td>\n",
       "      <td>0.918683</td>\n",
       "      <td>2.188639</td>\n",
       "      <td>11.073333</td>\n",
       "      <td>-0.317522</td>\n",
       "      <td>-3.28</td>\n",
       "      <td>0.399190</td>\n",
       "      <td>0.918683</td>\n",
       "      <td>9.49</td>\n",
       "    </tr>\n",
       "  </tbody>\n",
       "</table>\n",
       "<p>528 rows × 20 columns</p>\n",
       "</div>"
      ],
      "text/plain": [
       "     PAPEL       DATA        NOME  PREÇO (R$)      SETOR ECONÔMICO  SUBSETOR  \\\n",
       "0    ABEV3 2023-01-31   AMBEV S/A       13.66  Consumo não Cíclico   Bebidas   \n",
       "1    ABEV3 2023-02-28   AMBEV S/A       13.39  Consumo não Cíclico   Bebidas   \n",
       "2    ABEV3 2023-03-31   AMBEV S/A       14.33  Consumo não Cíclico   Bebidas   \n",
       "3    ABEV3 2023-04-30   AMBEV S/A       14.16  Consumo não Cíclico   Bebidas   \n",
       "4    ABEV3 2023-05-31   AMBEV S/A       14.41  Consumo não Cíclico   Bebidas   \n",
       "..     ...        ...         ...         ...                  ...       ...   \n",
       "523  YDUQ3 2023-02-28  YDUQS PART        7.05      Consumo Cíclico  Diversos   \n",
       "524  YDUQ3 2023-03-31  YDUQS PART        7.05      Consumo Cíclico  Diversos   \n",
       "525  YDUQ3 2023-04-30  YDUQS PART        8.12      Consumo Cíclico  Diversos   \n",
       "526  YDUQ3 2023-05-31  YDUQS PART       14.07      Consumo Cíclico  Diversos   \n",
       "527  YDUQ3 2023-06-30  YDUQS PART       19.82      Consumo Cíclico  Diversos   \n",
       "\n",
       "                     SEGMENTO    IPCA   SELIC     USD  RETORNOS_SIMPLES  \\\n",
       "0    Cervejas e Refrigerantes  0.0053  0.0112  5.0987               NaN   \n",
       "1    Cervejas e Refrigerantes  0.0084  0.0092  5.2072         -0.019766   \n",
       "2    Cervejas e Refrigerantes  0.0071  0.0117  5.0798          0.070202   \n",
       "3    Cervejas e Refrigerantes  0.0061  0.0092  5.0001         -0.011863   \n",
       "4    Cervejas e Refrigerantes  0.0023  0.0112  5.0953          0.017655   \n",
       "..                        ...     ...     ...     ...               ...   \n",
       "523     Serviços Educacionais  0.0084  0.0092  5.2072         -0.317522   \n",
       "524     Serviços Educacionais  0.0071  0.0117  5.0798          0.000000   \n",
       "525     Serviços Educacionais  0.0061  0.0092  5.0001          0.151773   \n",
       "526     Serviços Educacionais  0.0023  0.0112  5.0953          0.732759   \n",
       "527     Serviços Educacionais -0.0008  0.0107  4.8186          0.408671   \n",
       "\n",
       "     RETORNOS_LOGARITIMOS  RETORNOS_ACUMULADOS    SHARPE      MÉDIA  \\\n",
       "0                     NaN                  NaN  1.928270  14.226667   \n",
       "1               -0.019964            -0.019766  1.928270  14.226667   \n",
       "2                0.067847             0.049048  1.928270  14.226667   \n",
       "3               -0.011934             0.036603  1.928270  14.226667   \n",
       "4                0.017501             0.054905  1.928270  14.226667   \n",
       "..                    ...                  ...       ...        ...   \n",
       "523             -0.382025            -0.317522  2.188639  11.073333   \n",
       "524              0.000000            -0.317522  2.188639  11.073333   \n",
       "525              0.141303            -0.213940  2.188639  11.073333   \n",
       "526              0.549715             0.362052  2.188639  11.073333   \n",
       "527              0.342647             0.918683  2.188639  11.073333   \n",
       "\n",
       "     MÁXIMO DROW DOWN  MÁXIMO DROW DOWN bruto  VOLATILIDADE  RENTABILIDADE  \\\n",
       "0           -0.019766                   -0.27      0.043101       0.128111   \n",
       "1           -0.019766                   -0.27      0.043101       0.128111   \n",
       "2           -0.019766                   -0.27      0.043101       0.128111   \n",
       "3           -0.019766                   -0.27      0.043101       0.128111   \n",
       "4           -0.019766                   -0.27      0.043101       0.128111   \n",
       "..                ...                     ...           ...            ...   \n",
       "523         -0.317522                   -3.28      0.399190       0.918683   \n",
       "524         -0.317522                   -3.28      0.399190       0.918683   \n",
       "525         -0.317522                   -3.28      0.399190       0.918683   \n",
       "526         -0.317522                   -3.28      0.399190       0.918683   \n",
       "527         -0.317522                   -3.28      0.399190       0.918683   \n",
       "\n",
       "     GANHO BRUTO R$  \n",
       "0              1.75  \n",
       "1              1.75  \n",
       "2              1.75  \n",
       "3              1.75  \n",
       "4              1.75  \n",
       "..              ...  \n",
       "523            9.49  \n",
       "524            9.49  \n",
       "525            9.49  \n",
       "526            9.49  \n",
       "527            9.49  \n",
       "\n",
       "[528 rows x 20 columns]"
      ]
     },
     "execution_count": 344,
     "metadata": {},
     "output_type": "execute_result"
    }
   ],
   "source": [
    "df"
   ]
  },
  {
   "cell_type": "code",
   "execution_count": 342,
   "metadata": {},
   "outputs": [
    {
     "data": {
      "application/vnd.plotly.v1+json": {
       "config": {
        "plotlyServerURL": "https://plot.ly"
       },
       "data": [
        {
         "name": "gold",
         "type": "bar",
         "x": [
          "South Korea",
          "China",
          "Canada"
         ],
         "y": [
          24,
          10,
          9
         ]
        },
        {
         "name": "silver",
         "type": "bar",
         "x": [
          "South Korea",
          "China",
          "Canada"
         ],
         "y": [
          13,
          15,
          12
         ]
        },
        {
         "name": "bronze",
         "type": "bar",
         "x": [
          "South Korea",
          "China",
          "Canada"
         ],
         "y": [
          11,
          8,
          12
         ]
        }
       ],
       "layout": {
        "barcornerradius": 15,
        "template": {
         "data": {
          "candlestick": [
           {
            "decreasing": {
             "line": {
              "color": "#000033"
             }
            },
            "increasing": {
             "line": {
              "color": "#000032"
             }
            },
            "type": "candlestick"
           }
          ],
          "contour": [
           {
            "colorscale": [
             [
              0,
              "#000011"
             ],
             [
              0.1111111111111111,
              "#000012"
             ],
             [
              0.2222222222222222,
              "#000013"
             ],
             [
              0.3333333333333333,
              "#000014"
             ],
             [
              0.4444444444444444,
              "#000015"
             ],
             [
              0.5555555555555556,
              "#000016"
             ],
             [
              0.6666666666666666,
              "#000017"
             ],
             [
              0.7777777777777778,
              "#000018"
             ],
             [
              0.8888888888888888,
              "#000019"
             ],
             [
              1,
              "#000020"
             ]
            ],
            "type": "contour"
           }
          ],
          "contourcarpet": [
           {
            "colorscale": [
             [
              0,
              "#000011"
             ],
             [
              0.1111111111111111,
              "#000012"
             ],
             [
              0.2222222222222222,
              "#000013"
             ],
             [
              0.3333333333333333,
              "#000014"
             ],
             [
              0.4444444444444444,
              "#000015"
             ],
             [
              0.5555555555555556,
              "#000016"
             ],
             [
              0.6666666666666666,
              "#000017"
             ],
             [
              0.7777777777777778,
              "#000018"
             ],
             [
              0.8888888888888888,
              "#000019"
             ],
             [
              1,
              "#000020"
             ]
            ],
            "type": "contourcarpet"
           }
          ],
          "heatmap": [
           {
            "colorscale": [
             [
              0,
              "#000011"
             ],
             [
              0.1111111111111111,
              "#000012"
             ],
             [
              0.2222222222222222,
              "#000013"
             ],
             [
              0.3333333333333333,
              "#000014"
             ],
             [
              0.4444444444444444,
              "#000015"
             ],
             [
              0.5555555555555556,
              "#000016"
             ],
             [
              0.6666666666666666,
              "#000017"
             ],
             [
              0.7777777777777778,
              "#000018"
             ],
             [
              0.8888888888888888,
              "#000019"
             ],
             [
              1,
              "#000020"
             ]
            ],
            "type": "heatmap"
           }
          ],
          "histogram2d": [
           {
            "colorscale": [
             [
              0,
              "#000011"
             ],
             [
              0.1111111111111111,
              "#000012"
             ],
             [
              0.2222222222222222,
              "#000013"
             ],
             [
              0.3333333333333333,
              "#000014"
             ],
             [
              0.4444444444444444,
              "#000015"
             ],
             [
              0.5555555555555556,
              "#000016"
             ],
             [
              0.6666666666666666,
              "#000017"
             ],
             [
              0.7777777777777778,
              "#000018"
             ],
             [
              0.8888888888888888,
              "#000019"
             ],
             [
              1,
              "#000020"
             ]
            ],
            "type": "histogram2d"
           }
          ],
          "icicle": [
           {
            "textfont": {
             "color": "white"
            },
            "type": "icicle"
           }
          ],
          "sankey": [
           {
            "textfont": {
             "color": "#000036"
            },
            "type": "sankey"
           }
          ],
          "scatter": [
           {
            "marker": {
             "line": {
              "width": 0
             }
            },
            "type": "scatter"
           }
          ],
          "table": [
           {
            "cells": {
             "fill": {
              "color": "#000038"
             },
             "font": {
              "color": "#000037"
             },
             "line": {
              "color": "#000039"
             }
            },
            "header": {
             "fill": {
              "color": "#000040"
             },
             "font": {
              "color": "#000036"
             },
             "line": {
              "color": "#000039"
             }
            },
            "type": "table"
           }
          ],
          "waterfall": [
           {
            "connector": {
             "line": {
              "color": "#000036",
              "width": 2
             }
            },
            "decreasing": {
             "marker": {
              "color": "#000033"
             }
            },
            "increasing": {
             "marker": {
              "color": "#000032"
             }
            },
            "totals": {
             "marker": {
              "color": "#000034"
             }
            },
            "type": "waterfall"
           }
          ]
         },
         "layout": {
          "coloraxis": {
           "colorscale": [
            [
             0,
             "#000011"
            ],
            [
             0.1111111111111111,
             "#000012"
            ],
            [
             0.2222222222222222,
             "#000013"
            ],
            [
             0.3333333333333333,
             "#000014"
            ],
            [
             0.4444444444444444,
             "#000015"
            ],
            [
             0.5555555555555556,
             "#000016"
            ],
            [
             0.6666666666666666,
             "#000017"
            ],
            [
             0.7777777777777778,
             "#000018"
            ],
            [
             0.8888888888888888,
             "#000019"
            ],
            [
             1,
             "#000020"
            ]
           ]
          },
          "colorscale": {
           "diverging": [
            [
             0,
             "#000021"
            ],
            [
             0.1,
             "#000022"
            ],
            [
             0.2,
             "#000023"
            ],
            [
             0.3,
             "#000024"
            ],
            [
             0.4,
             "#000025"
            ],
            [
             0.5,
             "#000026"
            ],
            [
             0.6,
             "#000027"
            ],
            [
             0.7,
             "#000028"
            ],
            [
             0.8,
             "#000029"
            ],
            [
             0.9,
             "#000030"
            ],
            [
             1,
             "#000031"
            ]
           ],
           "sequential": [
            [
             0,
             "#000011"
            ],
            [
             0.1111111111111111,
             "#000012"
            ],
            [
             0.2222222222222222,
             "#000013"
            ],
            [
             0.3333333333333333,
             "#000014"
            ],
            [
             0.4444444444444444,
             "#000015"
            ],
            [
             0.5555555555555556,
             "#000016"
            ],
            [
             0.6666666666666666,
             "#000017"
            ],
            [
             0.7777777777777778,
             "#000018"
            ],
            [
             0.8888888888888888,
             "#000019"
            ],
            [
             1,
             "#000020"
            ]
           ],
           "sequentialminus": [
            [
             0,
             "#000011"
            ],
            [
             0.1111111111111111,
             "#000012"
            ],
            [
             0.2222222222222222,
             "#000013"
            ],
            [
             0.3333333333333333,
             "#000014"
            ],
            [
             0.4444444444444444,
             "#000015"
            ],
            [
             0.5555555555555556,
             "#000016"
            ],
            [
             0.6666666666666666,
             "#000017"
            ],
            [
             0.7777777777777778,
             "#000018"
            ],
            [
             0.8888888888888888,
             "#000019"
            ],
            [
             1,
             "#000020"
            ]
           ]
          },
          "colorway": [
           "#000001",
           "#000002",
           "#000003",
           "#000004",
           "#000005",
           "#000006",
           "#000007",
           "#000008",
           "#000009",
           "#000010"
          ]
         }
        }
       }
      }
     },
     "metadata": {},
     "output_type": "display_data"
    }
   ],
   "source": [
    "fig = go.Figure()\n",
    "\n",
    "# Iterar sobre as colunas do DataFrame\n",
    "for col in ['gold', 'silver', 'bronze']:\n",
    "    fig.add_trace(go.Bar(x=df_teste.nation, y=df_teste[col], name=col))\n",
    "\n",
    "fig.update_layout(barcornerradius=15)\n",
    "fig.show()"
   ]
  },
  {
   "cell_type": "code",
   "execution_count": 288,
   "metadata": {},
   "outputs": [
    {
     "data": {
      "application/vnd.plotly.v1+json": {
       "config": {
        "plotlyServerURL": "https://plot.ly"
       },
       "data": [
        {
         "name": "gold",
         "type": "bar",
         "x": [
          "South Korea",
          "China",
          "Canada"
         ],
         "xaxis": "x",
         "y": [
          24,
          10,
          9
         ],
         "yaxis": "y"
        },
        {
         "name": "silver",
         "type": "bar",
         "x": [
          "South Korea",
          "China",
          "Canada"
         ],
         "xaxis": "x2",
         "y": [
          13,
          15,
          12
         ],
         "yaxis": "y2"
        },
        {
         "name": "bronze",
         "type": "bar",
         "x": [
          "South Korea",
          "China",
          "Canada"
         ],
         "xaxis": "x3",
         "y": [
          11,
          8,
          12
         ],
         "yaxis": "y3"
        }
       ],
       "layout": {
        "template": {
         "data": {
          "candlestick": [
           {
            "decreasing": {
             "line": {
              "color": "#000033"
             }
            },
            "increasing": {
             "line": {
              "color": "#000032"
             }
            },
            "type": "candlestick"
           }
          ],
          "contour": [
           {
            "colorscale": [
             [
              0,
              "#000011"
             ],
             [
              0.1111111111111111,
              "#000012"
             ],
             [
              0.2222222222222222,
              "#000013"
             ],
             [
              0.3333333333333333,
              "#000014"
             ],
             [
              0.4444444444444444,
              "#000015"
             ],
             [
              0.5555555555555556,
              "#000016"
             ],
             [
              0.6666666666666666,
              "#000017"
             ],
             [
              0.7777777777777778,
              "#000018"
             ],
             [
              0.8888888888888888,
              "#000019"
             ],
             [
              1,
              "#000020"
             ]
            ],
            "type": "contour"
           }
          ],
          "contourcarpet": [
           {
            "colorscale": [
             [
              0,
              "#000011"
             ],
             [
              0.1111111111111111,
              "#000012"
             ],
             [
              0.2222222222222222,
              "#000013"
             ],
             [
              0.3333333333333333,
              "#000014"
             ],
             [
              0.4444444444444444,
              "#000015"
             ],
             [
              0.5555555555555556,
              "#000016"
             ],
             [
              0.6666666666666666,
              "#000017"
             ],
             [
              0.7777777777777778,
              "#000018"
             ],
             [
              0.8888888888888888,
              "#000019"
             ],
             [
              1,
              "#000020"
             ]
            ],
            "type": "contourcarpet"
           }
          ],
          "heatmap": [
           {
            "colorscale": [
             [
              0,
              "#000011"
             ],
             [
              0.1111111111111111,
              "#000012"
             ],
             [
              0.2222222222222222,
              "#000013"
             ],
             [
              0.3333333333333333,
              "#000014"
             ],
             [
              0.4444444444444444,
              "#000015"
             ],
             [
              0.5555555555555556,
              "#000016"
             ],
             [
              0.6666666666666666,
              "#000017"
             ],
             [
              0.7777777777777778,
              "#000018"
             ],
             [
              0.8888888888888888,
              "#000019"
             ],
             [
              1,
              "#000020"
             ]
            ],
            "type": "heatmap"
           }
          ],
          "histogram2d": [
           {
            "colorscale": [
             [
              0,
              "#000011"
             ],
             [
              0.1111111111111111,
              "#000012"
             ],
             [
              0.2222222222222222,
              "#000013"
             ],
             [
              0.3333333333333333,
              "#000014"
             ],
             [
              0.4444444444444444,
              "#000015"
             ],
             [
              0.5555555555555556,
              "#000016"
             ],
             [
              0.6666666666666666,
              "#000017"
             ],
             [
              0.7777777777777778,
              "#000018"
             ],
             [
              0.8888888888888888,
              "#000019"
             ],
             [
              1,
              "#000020"
             ]
            ],
            "type": "histogram2d"
           }
          ],
          "icicle": [
           {
            "textfont": {
             "color": "white"
            },
            "type": "icicle"
           }
          ],
          "sankey": [
           {
            "textfont": {
             "color": "#000036"
            },
            "type": "sankey"
           }
          ],
          "scatter": [
           {
            "marker": {
             "line": {
              "width": 0
             }
            },
            "type": "scatter"
           }
          ],
          "table": [
           {
            "cells": {
             "fill": {
              "color": "#000038"
             },
             "font": {
              "color": "#000037"
             },
             "line": {
              "color": "#000039"
             }
            },
            "header": {
             "fill": {
              "color": "#000040"
             },
             "font": {
              "color": "#000036"
             },
             "line": {
              "color": "#000039"
             }
            },
            "type": "table"
           }
          ],
          "waterfall": [
           {
            "connector": {
             "line": {
              "color": "#000036",
              "width": 2
             }
            },
            "decreasing": {
             "marker": {
              "color": "#000033"
             }
            },
            "increasing": {
             "marker": {
              "color": "#000032"
             }
            },
            "totals": {
             "marker": {
              "color": "#000034"
             }
            },
            "type": "waterfall"
           }
          ]
         },
         "layout": {
          "coloraxis": {
           "colorscale": [
            [
             0,
             "#000011"
            ],
            [
             0.1111111111111111,
             "#000012"
            ],
            [
             0.2222222222222222,
             "#000013"
            ],
            [
             0.3333333333333333,
             "#000014"
            ],
            [
             0.4444444444444444,
             "#000015"
            ],
            [
             0.5555555555555556,
             "#000016"
            ],
            [
             0.6666666666666666,
             "#000017"
            ],
            [
             0.7777777777777778,
             "#000018"
            ],
            [
             0.8888888888888888,
             "#000019"
            ],
            [
             1,
             "#000020"
            ]
           ]
          },
          "colorscale": {
           "diverging": [
            [
             0,
             "#000021"
            ],
            [
             0.1,
             "#000022"
            ],
            [
             0.2,
             "#000023"
            ],
            [
             0.3,
             "#000024"
            ],
            [
             0.4,
             "#000025"
            ],
            [
             0.5,
             "#000026"
            ],
            [
             0.6,
             "#000027"
            ],
            [
             0.7,
             "#000028"
            ],
            [
             0.8,
             "#000029"
            ],
            [
             0.9,
             "#000030"
            ],
            [
             1,
             "#000031"
            ]
           ],
           "sequential": [
            [
             0,
             "#000011"
            ],
            [
             0.1111111111111111,
             "#000012"
            ],
            [
             0.2222222222222222,
             "#000013"
            ],
            [
             0.3333333333333333,
             "#000014"
            ],
            [
             0.4444444444444444,
             "#000015"
            ],
            [
             0.5555555555555556,
             "#000016"
            ],
            [
             0.6666666666666666,
             "#000017"
            ],
            [
             0.7777777777777778,
             "#000018"
            ],
            [
             0.8888888888888888,
             "#000019"
            ],
            [
             1,
             "#000020"
            ]
           ],
           "sequentialminus": [
            [
             0,
             "#000011"
            ],
            [
             0.1111111111111111,
             "#000012"
            ],
            [
             0.2222222222222222,
             "#000013"
            ],
            [
             0.3333333333333333,
             "#000014"
            ],
            [
             0.4444444444444444,
             "#000015"
            ],
            [
             0.5555555555555556,
             "#000016"
            ],
            [
             0.6666666666666666,
             "#000017"
            ],
            [
             0.7777777777777778,
             "#000018"
            ],
            [
             0.8888888888888888,
             "#000019"
            ],
            [
             1,
             "#000020"
            ]
           ]
          },
          "colorway": [
           "#000001",
           "#000002",
           "#000003",
           "#000004",
           "#000005",
           "#000006",
           "#000007",
           "#000008",
           "#000009",
           "#000010"
          ]
         }
        },
        "xaxis": {
         "anchor": "y",
         "domain": [
          0,
          0.2888888888888889
         ]
        },
        "xaxis2": {
         "anchor": "y2",
         "domain": [
          0.35555555555555557,
          0.6444444444444445
         ]
        },
        "xaxis3": {
         "anchor": "y3",
         "domain": [
          0.7111111111111111,
          1
         ]
        },
        "yaxis": {
         "anchor": "x",
         "domain": [
          0,
          1
         ]
        },
        "yaxis2": {
         "anchor": "x2",
         "domain": [
          0,
          1
         ],
         "matches": "y",
         "showticklabels": false
        },
        "yaxis3": {
         "anchor": "x3",
         "domain": [
          0,
          1
         ],
         "matches": "y",
         "showticklabels": false
        }
       }
      }
     },
     "metadata": {},
     "output_type": "display_data"
    }
   ],
   "source": [
    "df_teste = data.medals_wide()\n",
    "\n",
    "fig = make_subplots(rows=1, cols=len(acoes_selecionadas), shared_yaxes=True)\n",
    "\n",
    "\n",
    "# Iterar sobre as colunas do DataFrame\n",
    "for i, col in enumerate(df_teste.columns[1:], start=1):\n",
    "    fig.add_trace(\n",
    "        go.Bar(x=df_teste.nation, y=df_teste[col], name=col, ),\n",
    "        row=1, col=i\n",
    "    )\n",
    "\n",
    "fig.show()"
   ]
  }
 ],
 "metadata": {
  "kernelspec": {
   "display_name": "base",
   "language": "python",
   "name": "python3"
  },
  "language_info": {
   "codemirror_mode": {
    "name": "ipython",
    "version": 3
   },
   "file_extension": ".py",
   "mimetype": "text/x-python",
   "name": "python",
   "nbconvert_exporter": "python",
   "pygments_lexer": "ipython3",
   "version": "3.11.3"
  }
 },
 "nbformat": 4,
 "nbformat_minor": 2
}

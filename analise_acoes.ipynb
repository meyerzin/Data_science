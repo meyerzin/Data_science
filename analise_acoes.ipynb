{
 "cells": [
  {
   "cell_type": "code",
   "execution_count": null,
   "metadata": {},
   "outputs": [],
   "source": [
    "\n"
   ]
  },
  {
   "cell_type": "code",
   "execution_count": 171,
   "metadata": {},
   "outputs": [],
   "source": [
    "import pandas as pd\n",
    "import numpy as np\n",
    "import matplotlib.pyplot as plt\n",
    "import seaborn as sns\n",
    "\n",
    "# import streamlit as st"
   ]
  },
  {
   "cell_type": "code",
   "execution_count": 172,
   "metadata": {},
   "outputs": [],
   "source": [
    "df_precos = pd.read_excel('Case Dados - Analise de Ações.xlsx', sheet_name='PREÇOS')\n",
    "df_setor = pd.read_excel('Case Dados - Analise de Ações.xlsx', sheet_name='SETOR')\n",
    "df_macro = pd.read_excel('Case Dados - Analise de Ações.xlsx', sheet_name='MACRO')"
   ]
  },
  {
   "cell_type": "code",
   "execution_count": 173,
   "metadata": {},
   "outputs": [
    {
     "data": {
      "text/html": [
       "<div>\n",
       "<style scoped>\n",
       "    .dataframe tbody tr th:only-of-type {\n",
       "        vertical-align: middle;\n",
       "    }\n",
       "\n",
       "    .dataframe tbody tr th {\n",
       "        vertical-align: top;\n",
       "    }\n",
       "\n",
       "    .dataframe thead th {\n",
       "        text-align: right;\n",
       "    }\n",
       "</style>\n",
       "<table border=\"1\" class=\"dataframe\">\n",
       "  <thead>\n",
       "    <tr style=\"text-align: right;\">\n",
       "      <th></th>\n",
       "      <th>SETOR ECONÔMICO</th>\n",
       "      <th>SUBSETOR</th>\n",
       "      <th>SEGMENTO</th>\n",
       "      <th>PAPEL</th>\n",
       "    </tr>\n",
       "  </thead>\n",
       "  <tbody>\n",
       "    <tr>\n",
       "      <th>0</th>\n",
       "      <td>Bens Industriais</td>\n",
       "      <td>Máquinas e Equipamentos</td>\n",
       "      <td>Motores e Compressores e Outros</td>\n",
       "      <td>WEGE3</td>\n",
       "    </tr>\n",
       "    <tr>\n",
       "      <th>1</th>\n",
       "      <td>Bens Industriais</td>\n",
       "      <td>Material de Transporte</td>\n",
       "      <td>Material Aeronáutico e de Defesa</td>\n",
       "      <td>EMBR3</td>\n",
       "    </tr>\n",
       "    <tr>\n",
       "      <th>2</th>\n",
       "      <td>Bens Industriais</td>\n",
       "      <td>Material de Transporte</td>\n",
       "      <td>Material Rodoviário</td>\n",
       "      <td>POMO4</td>\n",
       "    </tr>\n",
       "    <tr>\n",
       "      <th>3</th>\n",
       "      <td>Bens Industriais</td>\n",
       "      <td>Transporte</td>\n",
       "      <td>Exploração de Rodovias</td>\n",
       "      <td>CCRO3</td>\n",
       "    </tr>\n",
       "    <tr>\n",
       "      <th>4</th>\n",
       "      <td>Bens Industriais</td>\n",
       "      <td>Transporte</td>\n",
       "      <td>Exploração de Rodovias</td>\n",
       "      <td>ECOR3</td>\n",
       "    </tr>\n",
       "    <tr>\n",
       "      <th>5</th>\n",
       "      <td>Bens Industriais</td>\n",
       "      <td>Transporte</td>\n",
       "      <td>Serviços de Apoio e Armazenagem</td>\n",
       "      <td>STBP3</td>\n",
       "    </tr>\n",
       "    <tr>\n",
       "      <th>6</th>\n",
       "      <td>Bens Industriais</td>\n",
       "      <td>Transporte</td>\n",
       "      <td>Transporte Aéreo</td>\n",
       "      <td>AZUL4</td>\n",
       "    </tr>\n",
       "    <tr>\n",
       "      <th>7</th>\n",
       "      <td>Bens Industriais</td>\n",
       "      <td>Transporte</td>\n",
       "      <td>Transporte Aéreo</td>\n",
       "      <td>GOLL4</td>\n",
       "    </tr>\n",
       "    <tr>\n",
       "      <th>8</th>\n",
       "      <td>Bens Industriais</td>\n",
       "      <td>Transporte</td>\n",
       "      <td>Transporte Ferroviário</td>\n",
       "      <td>RAIL3</td>\n",
       "    </tr>\n",
       "    <tr>\n",
       "      <th>9</th>\n",
       "      <td>Comunicações</td>\n",
       "      <td>Telecomunicações</td>\n",
       "      <td>Telecomunicações</td>\n",
       "      <td>TIMS3</td>\n",
       "    </tr>\n",
       "  </tbody>\n",
       "</table>\n",
       "</div>"
      ],
      "text/plain": [
       "    SETOR ECONÔMICO                 SUBSETOR  \\\n",
       "0  Bens Industriais  Máquinas e Equipamentos   \n",
       "1  Bens Industriais   Material de Transporte   \n",
       "2  Bens Industriais   Material de Transporte   \n",
       "3  Bens Industriais               Transporte   \n",
       "4  Bens Industriais               Transporte   \n",
       "5  Bens Industriais               Transporte   \n",
       "6  Bens Industriais               Transporte   \n",
       "7  Bens Industriais               Transporte   \n",
       "8  Bens Industriais               Transporte   \n",
       "9      Comunicações         Telecomunicações   \n",
       "\n",
       "                           SEGMENTO  PAPEL  \n",
       "0   Motores e Compressores e Outros  WEGE3  \n",
       "1  Material Aeronáutico e de Defesa  EMBR3  \n",
       "2               Material Rodoviário  POMO4  \n",
       "3            Exploração de Rodovias  CCRO3  \n",
       "4            Exploração de Rodovias  ECOR3  \n",
       "5   Serviços de Apoio e Armazenagem  STBP3  \n",
       "6                  Transporte Aéreo  AZUL4  \n",
       "7                  Transporte Aéreo  GOLL4  \n",
       "8            Transporte Ferroviário  RAIL3  \n",
       "9                  Telecomunicações  TIMS3  "
      ]
     },
     "execution_count": 173,
     "metadata": {},
     "output_type": "execute_result"
    }
   ],
   "source": [
    "df_setor.head(10)\n"
   ]
  },
  {
   "cell_type": "code",
   "execution_count": 174,
   "metadata": {},
   "outputs": [
    {
     "data": {
      "text/html": [
       "<div>\n",
       "<style scoped>\n",
       "    .dataframe tbody tr th:only-of-type {\n",
       "        vertical-align: middle;\n",
       "    }\n",
       "\n",
       "    .dataframe tbody tr th {\n",
       "        vertical-align: top;\n",
       "    }\n",
       "\n",
       "    .dataframe thead th {\n",
       "        text-align: right;\n",
       "    }\n",
       "</style>\n",
       "<table border=\"1\" class=\"dataframe\">\n",
       "  <thead>\n",
       "    <tr style=\"text-align: right;\">\n",
       "      <th></th>\n",
       "      <th>DATA</th>\n",
       "      <th>PAPEL</th>\n",
       "      <th>NOME</th>\n",
       "      <th>PREÇO (R$)</th>\n",
       "    </tr>\n",
       "  </thead>\n",
       "  <tbody>\n",
       "    <tr>\n",
       "      <th>0</th>\n",
       "      <td>2023-01-31</td>\n",
       "      <td>ABEV3</td>\n",
       "      <td>AMBEV S/A</td>\n",
       "      <td>13.66</td>\n",
       "    </tr>\n",
       "    <tr>\n",
       "      <th>1</th>\n",
       "      <td>2023-02-28</td>\n",
       "      <td>ABEV3</td>\n",
       "      <td>AMBEV S/A</td>\n",
       "      <td>13.39</td>\n",
       "    </tr>\n",
       "    <tr>\n",
       "      <th>2</th>\n",
       "      <td>2023-03-31</td>\n",
       "      <td>ABEV3</td>\n",
       "      <td>AMBEV S/A</td>\n",
       "      <td>14.33</td>\n",
       "    </tr>\n",
       "    <tr>\n",
       "      <th>3</th>\n",
       "      <td>2023-04-30</td>\n",
       "      <td>ABEV3</td>\n",
       "      <td>AMBEV S/A</td>\n",
       "      <td>14.16</td>\n",
       "    </tr>\n",
       "    <tr>\n",
       "      <th>4</th>\n",
       "      <td>2023-05-31</td>\n",
       "      <td>ABEV3</td>\n",
       "      <td>AMBEV S/A</td>\n",
       "      <td>14.41</td>\n",
       "    </tr>\n",
       "    <tr>\n",
       "      <th>5</th>\n",
       "      <td>2023-06-30</td>\n",
       "      <td>ABEV3</td>\n",
       "      <td>AMBEV S/A</td>\n",
       "      <td>15.41</td>\n",
       "    </tr>\n",
       "    <tr>\n",
       "      <th>6</th>\n",
       "      <td>2023-01-31</td>\n",
       "      <td>AESB3</td>\n",
       "      <td>AES BRASIL</td>\n",
       "      <td>10.10</td>\n",
       "    </tr>\n",
       "    <tr>\n",
       "      <th>7</th>\n",
       "      <td>2023-02-28</td>\n",
       "      <td>AESB3</td>\n",
       "      <td>AES BRASIL</td>\n",
       "      <td>9.92</td>\n",
       "    </tr>\n",
       "    <tr>\n",
       "      <th>8</th>\n",
       "      <td>2023-03-31</td>\n",
       "      <td>AESB3</td>\n",
       "      <td>AES BRASIL</td>\n",
       "      <td>9.94</td>\n",
       "    </tr>\n",
       "    <tr>\n",
       "      <th>9</th>\n",
       "      <td>2023-04-30</td>\n",
       "      <td>AESB3</td>\n",
       "      <td>AES BRASIL</td>\n",
       "      <td>10.68</td>\n",
       "    </tr>\n",
       "  </tbody>\n",
       "</table>\n",
       "</div>"
      ],
      "text/plain": [
       "        DATA  PAPEL        NOME  PREÇO (R$)\n",
       "0 2023-01-31  ABEV3   AMBEV S/A       13.66\n",
       "1 2023-02-28  ABEV3   AMBEV S/A       13.39\n",
       "2 2023-03-31  ABEV3   AMBEV S/A       14.33\n",
       "3 2023-04-30  ABEV3   AMBEV S/A       14.16\n",
       "4 2023-05-31  ABEV3   AMBEV S/A       14.41\n",
       "5 2023-06-30  ABEV3   AMBEV S/A       15.41\n",
       "6 2023-01-31  AESB3  AES BRASIL       10.10\n",
       "7 2023-02-28  AESB3  AES BRASIL        9.92\n",
       "8 2023-03-31  AESB3  AES BRASIL        9.94\n",
       "9 2023-04-30  AESB3  AES BRASIL       10.68"
      ]
     },
     "execution_count": 174,
     "metadata": {},
     "output_type": "execute_result"
    }
   ],
   "source": [
    "df_precos.head(10)"
   ]
  },
  {
   "cell_type": "code",
   "execution_count": 175,
   "metadata": {},
   "outputs": [
    {
     "data": {
      "text/html": [
       "<div>\n",
       "<style scoped>\n",
       "    .dataframe tbody tr th:only-of-type {\n",
       "        vertical-align: middle;\n",
       "    }\n",
       "\n",
       "    .dataframe tbody tr th {\n",
       "        vertical-align: top;\n",
       "    }\n",
       "\n",
       "    .dataframe thead th {\n",
       "        text-align: right;\n",
       "    }\n",
       "</style>\n",
       "<table border=\"1\" class=\"dataframe\">\n",
       "  <thead>\n",
       "    <tr style=\"text-align: right;\">\n",
       "      <th></th>\n",
       "      <th>DATA</th>\n",
       "      <th>IPCA</th>\n",
       "      <th>SELIC</th>\n",
       "      <th>USD</th>\n",
       "    </tr>\n",
       "  </thead>\n",
       "  <tbody>\n",
       "    <tr>\n",
       "      <th>0</th>\n",
       "      <td>2023-01-31</td>\n",
       "      <td>0.0053</td>\n",
       "      <td>0.0112</td>\n",
       "      <td>5.0987</td>\n",
       "    </tr>\n",
       "    <tr>\n",
       "      <th>1</th>\n",
       "      <td>2023-02-28</td>\n",
       "      <td>0.0084</td>\n",
       "      <td>0.0092</td>\n",
       "      <td>5.2072</td>\n",
       "    </tr>\n",
       "    <tr>\n",
       "      <th>2</th>\n",
       "      <td>2023-03-31</td>\n",
       "      <td>0.0071</td>\n",
       "      <td>0.0117</td>\n",
       "      <td>5.0798</td>\n",
       "    </tr>\n",
       "    <tr>\n",
       "      <th>3</th>\n",
       "      <td>2023-04-30</td>\n",
       "      <td>0.0061</td>\n",
       "      <td>0.0092</td>\n",
       "      <td>5.0001</td>\n",
       "    </tr>\n",
       "    <tr>\n",
       "      <th>4</th>\n",
       "      <td>2023-05-31</td>\n",
       "      <td>0.0023</td>\n",
       "      <td>0.0112</td>\n",
       "      <td>5.0953</td>\n",
       "    </tr>\n",
       "    <tr>\n",
       "      <th>5</th>\n",
       "      <td>2023-06-30</td>\n",
       "      <td>-0.0008</td>\n",
       "      <td>0.0107</td>\n",
       "      <td>4.8186</td>\n",
       "    </tr>\n",
       "    <tr>\n",
       "      <th>6</th>\n",
       "      <td>2023-07-31</td>\n",
       "      <td>0.0012</td>\n",
       "      <td>0.0107</td>\n",
       "      <td>4.7409</td>\n",
       "    </tr>\n",
       "    <tr>\n",
       "      <th>7</th>\n",
       "      <td>2023-08-31</td>\n",
       "      <td>0.0023</td>\n",
       "      <td>0.0114</td>\n",
       "      <td>4.9213</td>\n",
       "    </tr>\n",
       "    <tr>\n",
       "      <th>8</th>\n",
       "      <td>2023-09-30</td>\n",
       "      <td>0.0026</td>\n",
       "      <td>0.0097</td>\n",
       "      <td>5.0070</td>\n",
       "    </tr>\n",
       "    <tr>\n",
       "      <th>9</th>\n",
       "      <td>2023-10-31</td>\n",
       "      <td>0.0024</td>\n",
       "      <td>0.0100</td>\n",
       "      <td>5.0569</td>\n",
       "    </tr>\n",
       "  </tbody>\n",
       "</table>\n",
       "</div>"
      ],
      "text/plain": [
       "        DATA    IPCA   SELIC     USD\n",
       "0 2023-01-31  0.0053  0.0112  5.0987\n",
       "1 2023-02-28  0.0084  0.0092  5.2072\n",
       "2 2023-03-31  0.0071  0.0117  5.0798\n",
       "3 2023-04-30  0.0061  0.0092  5.0001\n",
       "4 2023-05-31  0.0023  0.0112  5.0953\n",
       "5 2023-06-30 -0.0008  0.0107  4.8186\n",
       "6 2023-07-31  0.0012  0.0107  4.7409\n",
       "7 2023-08-31  0.0023  0.0114  4.9213\n",
       "8 2023-09-30  0.0026  0.0097  5.0070\n",
       "9 2023-10-31  0.0024  0.0100  5.0569"
      ]
     },
     "execution_count": 175,
     "metadata": {},
     "output_type": "execute_result"
    }
   ],
   "source": [
    "df_macro.head(10)"
   ]
  },
  {
   "cell_type": "code",
   "execution_count": 176,
   "metadata": {},
   "outputs": [
    {
     "name": "stdout",
     "output_type": "stream",
     "text": [
      "<class 'pandas.core.frame.DataFrame'>\n",
      "RangeIndex: 528 entries, 0 to 527\n",
      "Data columns (total 4 columns):\n",
      " #   Column      Non-Null Count  Dtype         \n",
      "---  ------      --------------  -----         \n",
      " 0   DATA        528 non-null    datetime64[ns]\n",
      " 1   PAPEL       528 non-null    object        \n",
      " 2   NOME        528 non-null    object        \n",
      " 3   PREÇO (R$)  528 non-null    float64       \n",
      "dtypes: datetime64[ns](1), float64(1), object(2)\n",
      "memory usage: 16.6+ KB\n",
      "<class 'pandas.core.frame.DataFrame'>\n",
      "RangeIndex: 88 entries, 0 to 87\n",
      "Data columns (total 4 columns):\n",
      " #   Column           Non-Null Count  Dtype \n",
      "---  ------           --------------  ----- \n",
      " 0   SETOR ECONÔMICO  88 non-null     object\n",
      " 1   SUBSETOR         88 non-null     object\n",
      " 2   SEGMENTO         88 non-null     object\n",
      " 3   PAPEL            88 non-null     object\n",
      "dtypes: object(4)\n",
      "memory usage: 2.9+ KB\n",
      "<class 'pandas.core.frame.DataFrame'>\n",
      "RangeIndex: 12 entries, 0 to 11\n",
      "Data columns (total 4 columns):\n",
      " #   Column  Non-Null Count  Dtype         \n",
      "---  ------  --------------  -----         \n",
      " 0   DATA    12 non-null     datetime64[ns]\n",
      " 1   IPCA    12 non-null     float64       \n",
      " 2   SELIC   12 non-null     float64       \n",
      " 3   USD     12 non-null     float64       \n",
      "dtypes: datetime64[ns](1), float64(3)\n",
      "memory usage: 516.0 bytes\n"
     ]
    }
   ],
   "source": [
    "df_precos.info()\n",
    "df_setor.info()\n",
    "df_macro.info()"
   ]
  },
  {
   "cell_type": "code",
   "execution_count": 177,
   "metadata": {},
   "outputs": [
    {
     "data": {
      "text/html": [
       "<div>\n",
       "<style scoped>\n",
       "    .dataframe tbody tr th:only-of-type {\n",
       "        vertical-align: middle;\n",
       "    }\n",
       "\n",
       "    .dataframe tbody tr th {\n",
       "        vertical-align: top;\n",
       "    }\n",
       "\n",
       "    .dataframe thead th {\n",
       "        text-align: right;\n",
       "    }\n",
       "</style>\n",
       "<table border=\"1\" class=\"dataframe\">\n",
       "  <thead>\n",
       "    <tr style=\"text-align: right;\">\n",
       "      <th></th>\n",
       "      <th>DATA</th>\n",
       "      <th>PAPEL</th>\n",
       "      <th>NOME</th>\n",
       "      <th>PREÇO (R$)</th>\n",
       "    </tr>\n",
       "  </thead>\n",
       "  <tbody>\n",
       "  </tbody>\n",
       "</table>\n",
       "</div>"
      ],
      "text/plain": [
       "Empty DataFrame\n",
       "Columns: [DATA, PAPEL, NOME, PREÇO (R$)]\n",
       "Index: []"
      ]
     },
     "execution_count": 177,
     "metadata": {},
     "output_type": "execute_result"
    }
   ],
   "source": [
    "df_macro[df_macro.isna().any(axis=1)]\n",
    "df_precos[df_precos.isna().any(axis=1)]\n",
    "df_setor[df_setor.isna().any(axis=1)]\n",
    "df_precos[(df_precos['NOME'].isna() | df_precos['PAPEL'].isna() | df_precos['PREÇO (R$)'].isna() | df_precos['DATA'].isna())]"
   ]
  },
  {
   "cell_type": "code",
   "execution_count": 178,
   "metadata": {},
   "outputs": [
    {
     "data": {
      "text/plain": [
       "DATA     0\n",
       "IPCA     0\n",
       "SELIC    0\n",
       "USD      0\n",
       "dtype: int64"
      ]
     },
     "execution_count": 178,
     "metadata": {},
     "output_type": "execute_result"
    }
   ],
   "source": [
    "df_macro.isna().sum()"
   ]
  },
  {
   "cell_type": "code",
   "execution_count": 179,
   "metadata": {},
   "outputs": [
    {
     "data": {
      "text/plain": [
       "DATA     0.0\n",
       "IPCA     0.0\n",
       "SELIC    0.0\n",
       "USD      0.0\n",
       "dtype: float64"
      ]
     },
     "execution_count": 179,
     "metadata": {},
     "output_type": "execute_result"
    }
   ],
   "source": [
    "df_macro.isna().sum() / len(df_macro)"
   ]
  },
  {
   "cell_type": "markdown",
   "metadata": {},
   "source": [
    "# Transformando/ juntando os dados"
   ]
  },
  {
   "cell_type": "code",
   "execution_count": 180,
   "metadata": {},
   "outputs": [],
   "source": [
    "df_precos_setor = pd.merge(df_precos, df_setor, how='outer', on='PAPEL')\n",
    "df_precos_setor_macro12 = pd.merge(df_precos_setor, df_macro, how='right', on='DATA').fillna('macro')\n",
    "df_precos_setor_macro6 = pd.merge(df_precos_setor, df_macro, how='left', on='DATA').fillna('macro')"
   ]
  },
  {
   "cell_type": "markdown",
   "metadata": {},
   "source": [
    "# Criando colunas com os retornos"
   ]
  },
  {
   "cell_type": "code",
   "execution_count": null,
   "metadata": {},
   "outputs": [],
   "source": []
  },
  {
   "cell_type": "code",
   "execution_count": 181,
   "metadata": {},
   "outputs": [],
   "source": [
    "\n",
    "df_precos_setor_macro12['RETORNOS_SIMPLES'] = df_precos_setor_macro12.groupby(df_precos_setor_macro12.index)['PREÇO (R$)'].pct_change()\n",
    "df_precos_setor_macro12['RETORNOS_ACUMULADOS'] = df_precos_setor_macro12.groupby(df_precos_setor_macro12.index)['RETORNOS_SIMPLES'].transform(lambda x : ((x + 1).cumprod() - 1))\n"
   ]
  },
  {
   "cell_type": "code",
   "execution_count": 182,
   "metadata": {},
   "outputs": [],
   "source": [
    "df_precos_setor_macro6.set_index('PAPEL', drop=True, inplace=True)"
   ]
  },
  {
   "cell_type": "code",
   "execution_count": 183,
   "metadata": {},
   "outputs": [
    {
     "data": {
      "text/html": [
       "<div>\n",
       "<style scoped>\n",
       "    .dataframe tbody tr th:only-of-type {\n",
       "        vertical-align: middle;\n",
       "    }\n",
       "\n",
       "    .dataframe tbody tr th {\n",
       "        vertical-align: top;\n",
       "    }\n",
       "\n",
       "    .dataframe thead th {\n",
       "        text-align: right;\n",
       "    }\n",
       "</style>\n",
       "<table border=\"1\" class=\"dataframe\">\n",
       "  <thead>\n",
       "    <tr style=\"text-align: right;\">\n",
       "      <th></th>\n",
       "      <th>DATA</th>\n",
       "      <th>NOME</th>\n",
       "      <th>PREÇO (R$)</th>\n",
       "      <th>SETOR ECONÔMICO</th>\n",
       "      <th>SUBSETOR</th>\n",
       "      <th>SEGMENTO</th>\n",
       "      <th>IPCA</th>\n",
       "      <th>SELIC</th>\n",
       "      <th>USD</th>\n",
       "      <th>RETORNOS_SIMPLES</th>\n",
       "      <th>RETORNOS_LOGARITIMOS</th>\n",
       "      <th>RETORNOS_ACUMULADOS</th>\n",
       "    </tr>\n",
       "    <tr>\n",
       "      <th>PAPEL</th>\n",
       "      <th></th>\n",
       "      <th></th>\n",
       "      <th></th>\n",
       "      <th></th>\n",
       "      <th></th>\n",
       "      <th></th>\n",
       "      <th></th>\n",
       "      <th></th>\n",
       "      <th></th>\n",
       "      <th></th>\n",
       "      <th></th>\n",
       "      <th></th>\n",
       "    </tr>\n",
       "  </thead>\n",
       "  <tbody>\n",
       "    <tr>\n",
       "      <th>ABEV3</th>\n",
       "      <td>2023-01-31</td>\n",
       "      <td>AMBEV S/A</td>\n",
       "      <td>13.66</td>\n",
       "      <td>Consumo não Cíclico</td>\n",
       "      <td>Bebidas</td>\n",
       "      <td>Cervejas e Refrigerantes</td>\n",
       "      <td>0.0053</td>\n",
       "      <td>0.0112</td>\n",
       "      <td>5.0987</td>\n",
       "      <td>NaN</td>\n",
       "      <td>NaN</td>\n",
       "      <td>NaN</td>\n",
       "    </tr>\n",
       "    <tr>\n",
       "      <th>ABEV3</th>\n",
       "      <td>2023-02-28</td>\n",
       "      <td>AMBEV S/A</td>\n",
       "      <td>13.39</td>\n",
       "      <td>Consumo não Cíclico</td>\n",
       "      <td>Bebidas</td>\n",
       "      <td>Cervejas e Refrigerantes</td>\n",
       "      <td>0.0084</td>\n",
       "      <td>0.0092</td>\n",
       "      <td>5.2072</td>\n",
       "      <td>-0.019766</td>\n",
       "      <td>-0.019964</td>\n",
       "      <td>-0.019766</td>\n",
       "    </tr>\n",
       "    <tr>\n",
       "      <th>ABEV3</th>\n",
       "      <td>2023-03-31</td>\n",
       "      <td>AMBEV S/A</td>\n",
       "      <td>14.33</td>\n",
       "      <td>Consumo não Cíclico</td>\n",
       "      <td>Bebidas</td>\n",
       "      <td>Cervejas e Refrigerantes</td>\n",
       "      <td>0.0071</td>\n",
       "      <td>0.0117</td>\n",
       "      <td>5.0798</td>\n",
       "      <td>0.070202</td>\n",
       "      <td>0.067847</td>\n",
       "      <td>0.049048</td>\n",
       "    </tr>\n",
       "    <tr>\n",
       "      <th>ABEV3</th>\n",
       "      <td>2023-04-30</td>\n",
       "      <td>AMBEV S/A</td>\n",
       "      <td>14.16</td>\n",
       "      <td>Consumo não Cíclico</td>\n",
       "      <td>Bebidas</td>\n",
       "      <td>Cervejas e Refrigerantes</td>\n",
       "      <td>0.0061</td>\n",
       "      <td>0.0092</td>\n",
       "      <td>5.0001</td>\n",
       "      <td>-0.011863</td>\n",
       "      <td>-0.011934</td>\n",
       "      <td>0.036603</td>\n",
       "    </tr>\n",
       "    <tr>\n",
       "      <th>ABEV3</th>\n",
       "      <td>2023-05-31</td>\n",
       "      <td>AMBEV S/A</td>\n",
       "      <td>14.41</td>\n",
       "      <td>Consumo não Cíclico</td>\n",
       "      <td>Bebidas</td>\n",
       "      <td>Cervejas e Refrigerantes</td>\n",
       "      <td>0.0023</td>\n",
       "      <td>0.0112</td>\n",
       "      <td>5.0953</td>\n",
       "      <td>0.017655</td>\n",
       "      <td>0.017501</td>\n",
       "      <td>0.054905</td>\n",
       "    </tr>\n",
       "    <tr>\n",
       "      <th>ABEV3</th>\n",
       "      <td>2023-06-30</td>\n",
       "      <td>AMBEV S/A</td>\n",
       "      <td>15.41</td>\n",
       "      <td>Consumo não Cíclico</td>\n",
       "      <td>Bebidas</td>\n",
       "      <td>Cervejas e Refrigerantes</td>\n",
       "      <td>-0.0008</td>\n",
       "      <td>0.0107</td>\n",
       "      <td>4.8186</td>\n",
       "      <td>0.069396</td>\n",
       "      <td>0.067094</td>\n",
       "      <td>0.128111</td>\n",
       "    </tr>\n",
       "    <tr>\n",
       "      <th>AESB3</th>\n",
       "      <td>2023-01-31</td>\n",
       "      <td>AES BRASIL</td>\n",
       "      <td>10.10</td>\n",
       "      <td>Utilidade Pública</td>\n",
       "      <td>Energia Elétrica</td>\n",
       "      <td>Energia Elétrica</td>\n",
       "      <td>0.0053</td>\n",
       "      <td>0.0112</td>\n",
       "      <td>5.0987</td>\n",
       "      <td>NaN</td>\n",
       "      <td>NaN</td>\n",
       "      <td>NaN</td>\n",
       "    </tr>\n",
       "    <tr>\n",
       "      <th>AESB3</th>\n",
       "      <td>2023-02-28</td>\n",
       "      <td>AES BRASIL</td>\n",
       "      <td>9.92</td>\n",
       "      <td>Utilidade Pública</td>\n",
       "      <td>Energia Elétrica</td>\n",
       "      <td>Energia Elétrica</td>\n",
       "      <td>0.0084</td>\n",
       "      <td>0.0092</td>\n",
       "      <td>5.2072</td>\n",
       "      <td>-0.017822</td>\n",
       "      <td>-0.017983</td>\n",
       "      <td>-0.017822</td>\n",
       "    </tr>\n",
       "    <tr>\n",
       "      <th>AESB3</th>\n",
       "      <td>2023-03-31</td>\n",
       "      <td>AES BRASIL</td>\n",
       "      <td>9.94</td>\n",
       "      <td>Utilidade Pública</td>\n",
       "      <td>Energia Elétrica</td>\n",
       "      <td>Energia Elétrica</td>\n",
       "      <td>0.0071</td>\n",
       "      <td>0.0117</td>\n",
       "      <td>5.0798</td>\n",
       "      <td>0.002016</td>\n",
       "      <td>0.002014</td>\n",
       "      <td>-0.015842</td>\n",
       "    </tr>\n",
       "    <tr>\n",
       "      <th>AESB3</th>\n",
       "      <td>2023-04-30</td>\n",
       "      <td>AES BRASIL</td>\n",
       "      <td>10.68</td>\n",
       "      <td>Utilidade Pública</td>\n",
       "      <td>Energia Elétrica</td>\n",
       "      <td>Energia Elétrica</td>\n",
       "      <td>0.0061</td>\n",
       "      <td>0.0092</td>\n",
       "      <td>5.0001</td>\n",
       "      <td>0.074447</td>\n",
       "      <td>0.071806</td>\n",
       "      <td>0.057426</td>\n",
       "    </tr>\n",
       "    <tr>\n",
       "      <th>AESB3</th>\n",
       "      <td>2023-05-31</td>\n",
       "      <td>AES BRASIL</td>\n",
       "      <td>12.18</td>\n",
       "      <td>Utilidade Pública</td>\n",
       "      <td>Energia Elétrica</td>\n",
       "      <td>Energia Elétrica</td>\n",
       "      <td>0.0023</td>\n",
       "      <td>0.0112</td>\n",
       "      <td>5.0953</td>\n",
       "      <td>0.140449</td>\n",
       "      <td>0.131422</td>\n",
       "      <td>0.205941</td>\n",
       "    </tr>\n",
       "    <tr>\n",
       "      <th>AESB3</th>\n",
       "      <td>2023-06-30</td>\n",
       "      <td>AES BRASIL</td>\n",
       "      <td>12.25</td>\n",
       "      <td>Utilidade Pública</td>\n",
       "      <td>Energia Elétrica</td>\n",
       "      <td>Energia Elétrica</td>\n",
       "      <td>-0.0008</td>\n",
       "      <td>0.0107</td>\n",
       "      <td>4.8186</td>\n",
       "      <td>0.005747</td>\n",
       "      <td>0.005731</td>\n",
       "      <td>0.212871</td>\n",
       "    </tr>\n",
       "    <tr>\n",
       "      <th>ALPA4</th>\n",
       "      <td>2023-01-31</td>\n",
       "      <td>ALPARGATAS</td>\n",
       "      <td>13.61</td>\n",
       "      <td>Consumo Cíclico</td>\n",
       "      <td>Tecidos e Vestuário e Calçados</td>\n",
       "      <td>Calçados</td>\n",
       "      <td>0.0053</td>\n",
       "      <td>0.0112</td>\n",
       "      <td>5.0987</td>\n",
       "      <td>NaN</td>\n",
       "      <td>NaN</td>\n",
       "      <td>NaN</td>\n",
       "    </tr>\n",
       "    <tr>\n",
       "      <th>ALPA4</th>\n",
       "      <td>2023-02-28</td>\n",
       "      <td>ALPARGATAS</td>\n",
       "      <td>9.43</td>\n",
       "      <td>Consumo Cíclico</td>\n",
       "      <td>Tecidos e Vestuário e Calçados</td>\n",
       "      <td>Calçados</td>\n",
       "      <td>0.0084</td>\n",
       "      <td>0.0092</td>\n",
       "      <td>5.2072</td>\n",
       "      <td>-0.307127</td>\n",
       "      <td>-0.366909</td>\n",
       "      <td>-0.307127</td>\n",
       "    </tr>\n",
       "    <tr>\n",
       "      <th>ALPA4</th>\n",
       "      <td>2023-03-31</td>\n",
       "      <td>ALPARGATAS</td>\n",
       "      <td>8.15</td>\n",
       "      <td>Consumo Cíclico</td>\n",
       "      <td>Tecidos e Vestuário e Calçados</td>\n",
       "      <td>Calçados</td>\n",
       "      <td>0.0071</td>\n",
       "      <td>0.0117</td>\n",
       "      <td>5.0798</td>\n",
       "      <td>-0.135737</td>\n",
       "      <td>-0.145878</td>\n",
       "      <td>-0.401176</td>\n",
       "    </tr>\n",
       "  </tbody>\n",
       "</table>\n",
       "</div>"
      ],
      "text/plain": [
       "            DATA        NOME  PREÇO (R$)      SETOR ECONÔMICO  \\\n",
       "PAPEL                                                           \n",
       "ABEV3 2023-01-31   AMBEV S/A       13.66  Consumo não Cíclico   \n",
       "ABEV3 2023-02-28   AMBEV S/A       13.39  Consumo não Cíclico   \n",
       "ABEV3 2023-03-31   AMBEV S/A       14.33  Consumo não Cíclico   \n",
       "ABEV3 2023-04-30   AMBEV S/A       14.16  Consumo não Cíclico   \n",
       "ABEV3 2023-05-31   AMBEV S/A       14.41  Consumo não Cíclico   \n",
       "ABEV3 2023-06-30   AMBEV S/A       15.41  Consumo não Cíclico   \n",
       "AESB3 2023-01-31  AES BRASIL       10.10    Utilidade Pública   \n",
       "AESB3 2023-02-28  AES BRASIL        9.92    Utilidade Pública   \n",
       "AESB3 2023-03-31  AES BRASIL        9.94    Utilidade Pública   \n",
       "AESB3 2023-04-30  AES BRASIL       10.68    Utilidade Pública   \n",
       "AESB3 2023-05-31  AES BRASIL       12.18    Utilidade Pública   \n",
       "AESB3 2023-06-30  AES BRASIL       12.25    Utilidade Pública   \n",
       "ALPA4 2023-01-31  ALPARGATAS       13.61      Consumo Cíclico   \n",
       "ALPA4 2023-02-28  ALPARGATAS        9.43      Consumo Cíclico   \n",
       "ALPA4 2023-03-31  ALPARGATAS        8.15      Consumo Cíclico   \n",
       "\n",
       "                             SUBSETOR                  SEGMENTO    IPCA  \\\n",
       "PAPEL                                                                     \n",
       "ABEV3                         Bebidas  Cervejas e Refrigerantes  0.0053   \n",
       "ABEV3                         Bebidas  Cervejas e Refrigerantes  0.0084   \n",
       "ABEV3                         Bebidas  Cervejas e Refrigerantes  0.0071   \n",
       "ABEV3                         Bebidas  Cervejas e Refrigerantes  0.0061   \n",
       "ABEV3                         Bebidas  Cervejas e Refrigerantes  0.0023   \n",
       "ABEV3                         Bebidas  Cervejas e Refrigerantes -0.0008   \n",
       "AESB3                Energia Elétrica          Energia Elétrica  0.0053   \n",
       "AESB3                Energia Elétrica          Energia Elétrica  0.0084   \n",
       "AESB3                Energia Elétrica          Energia Elétrica  0.0071   \n",
       "AESB3                Energia Elétrica          Energia Elétrica  0.0061   \n",
       "AESB3                Energia Elétrica          Energia Elétrica  0.0023   \n",
       "AESB3                Energia Elétrica          Energia Elétrica -0.0008   \n",
       "ALPA4  Tecidos e Vestuário e Calçados                  Calçados  0.0053   \n",
       "ALPA4  Tecidos e Vestuário e Calçados                  Calçados  0.0084   \n",
       "ALPA4  Tecidos e Vestuário e Calçados                  Calçados  0.0071   \n",
       "\n",
       "        SELIC     USD  RETORNOS_SIMPLES  RETORNOS_LOGARITIMOS  \\\n",
       "PAPEL                                                           \n",
       "ABEV3  0.0112  5.0987               NaN                   NaN   \n",
       "ABEV3  0.0092  5.2072         -0.019766             -0.019964   \n",
       "ABEV3  0.0117  5.0798          0.070202              0.067847   \n",
       "ABEV3  0.0092  5.0001         -0.011863             -0.011934   \n",
       "ABEV3  0.0112  5.0953          0.017655              0.017501   \n",
       "ABEV3  0.0107  4.8186          0.069396              0.067094   \n",
       "AESB3  0.0112  5.0987               NaN                   NaN   \n",
       "AESB3  0.0092  5.2072         -0.017822             -0.017983   \n",
       "AESB3  0.0117  5.0798          0.002016              0.002014   \n",
       "AESB3  0.0092  5.0001          0.074447              0.071806   \n",
       "AESB3  0.0112  5.0953          0.140449              0.131422   \n",
       "AESB3  0.0107  4.8186          0.005747              0.005731   \n",
       "ALPA4  0.0112  5.0987               NaN                   NaN   \n",
       "ALPA4  0.0092  5.2072         -0.307127             -0.366909   \n",
       "ALPA4  0.0117  5.0798         -0.135737             -0.145878   \n",
       "\n",
       "       RETORNOS_ACUMULADOS  \n",
       "PAPEL                       \n",
       "ABEV3                  NaN  \n",
       "ABEV3            -0.019766  \n",
       "ABEV3             0.049048  \n",
       "ABEV3             0.036603  \n",
       "ABEV3             0.054905  \n",
       "ABEV3             0.128111  \n",
       "AESB3                  NaN  \n",
       "AESB3            -0.017822  \n",
       "AESB3            -0.015842  \n",
       "AESB3             0.057426  \n",
       "AESB3             0.205941  \n",
       "AESB3             0.212871  \n",
       "ALPA4                  NaN  \n",
       "ALPA4            -0.307127  \n",
       "ALPA4            -0.401176  "
      ]
     },
     "execution_count": 183,
     "metadata": {},
     "output_type": "execute_result"
    }
   ],
   "source": [
    "df_precos_setor_macro6['RETORNOS_SIMPLES'] = df_precos_setor_macro6.groupby(df_precos_setor_macro6.index)['PREÇO (R$)'].pct_change()\n",
    "df_precos_setor_macro6['RETORNOS_LOGARITIMOS'] = np.log(df_precos_setor_macro6.groupby(df_precos_setor_macro6.index)['PREÇO (R$)'].pct_change() + 1)\n",
    "\n",
    "df_precos_setor_macro6['RETORNOS_ACUMULADOS'] = df_precos_setor_macro6.groupby(df_precos_setor_macro6.index)['RETORNOS_SIMPLES'].transform(lambda x : ((x + 1).cumprod() - 1))\n",
    "df_precos_setor_macro6.head(15)\n"
   ]
  },
  {
   "cell_type": "markdown",
   "metadata": {},
   "source": [
    "# pivotando a tabela simples para plotar fgrafico de performance"
   ]
  },
  {
   "cell_type": "code",
   "execution_count": 184,
   "metadata": {},
   "outputs": [
    {
     "data": {
      "text/html": [
       "<div>\n",
       "<style scoped>\n",
       "    .dataframe tbody tr th:only-of-type {\n",
       "        vertical-align: middle;\n",
       "    }\n",
       "\n",
       "    .dataframe tbody tr th {\n",
       "        vertical-align: top;\n",
       "    }\n",
       "\n",
       "    .dataframe thead th {\n",
       "        text-align: right;\n",
       "    }\n",
       "</style>\n",
       "<table border=\"1\" class=\"dataframe\">\n",
       "  <thead>\n",
       "    <tr style=\"text-align: right;\">\n",
       "      <th>PAPEL</th>\n",
       "      <th>ABEV3</th>\n",
       "      <th>AESB3</th>\n",
       "      <th>ALPA4</th>\n",
       "      <th>ALSO3</th>\n",
       "      <th>ANIM3</th>\n",
       "      <th>ASAI3</th>\n",
       "      <th>AZUL4</th>\n",
       "      <th>B3SA3</th>\n",
       "      <th>BBSE3</th>\n",
       "      <th>BEEF3</th>\n",
       "      <th>...</th>\n",
       "      <th>TIMS3</th>\n",
       "      <th>TOTS3</th>\n",
       "      <th>TRPL4</th>\n",
       "      <th>UGPA3</th>\n",
       "      <th>USIM5</th>\n",
       "      <th>VALE3</th>\n",
       "      <th>VAMO3</th>\n",
       "      <th>VIVT3</th>\n",
       "      <th>WEGE3</th>\n",
       "      <th>YDUQ3</th>\n",
       "    </tr>\n",
       "    <tr>\n",
       "      <th>DATA</th>\n",
       "      <th></th>\n",
       "      <th></th>\n",
       "      <th></th>\n",
       "      <th></th>\n",
       "      <th></th>\n",
       "      <th></th>\n",
       "      <th></th>\n",
       "      <th></th>\n",
       "      <th></th>\n",
       "      <th></th>\n",
       "      <th></th>\n",
       "      <th></th>\n",
       "      <th></th>\n",
       "      <th></th>\n",
       "      <th></th>\n",
       "      <th></th>\n",
       "      <th></th>\n",
       "      <th></th>\n",
       "      <th></th>\n",
       "      <th></th>\n",
       "      <th></th>\n",
       "    </tr>\n",
       "  </thead>\n",
       "  <tbody>\n",
       "    <tr>\n",
       "      <th>2023-01-31</th>\n",
       "      <td>13.66</td>\n",
       "      <td>10.10</td>\n",
       "      <td>13.61</td>\n",
       "      <td>18.01</td>\n",
       "      <td>4.42</td>\n",
       "      <td>19.65</td>\n",
       "      <td>11.85</td>\n",
       "      <td>12.96</td>\n",
       "      <td>37.78</td>\n",
       "      <td>13.99</td>\n",
       "      <td>...</td>\n",
       "      <td>11.79</td>\n",
       "      <td>30.07</td>\n",
       "      <td>22.87</td>\n",
       "      <td>13.19</td>\n",
       "      <td>8.53</td>\n",
       "      <td>94.51</td>\n",
       "      <td>14.62</td>\n",
       "      <td>41.82</td>\n",
       "      <td>38.24</td>\n",
       "      <td>10.33</td>\n",
       "    </tr>\n",
       "    <tr>\n",
       "      <th>2023-02-28</th>\n",
       "      <td>13.39</td>\n",
       "      <td>9.92</td>\n",
       "      <td>9.43</td>\n",
       "      <td>17.08</td>\n",
       "      <td>3.19</td>\n",
       "      <td>18.14</td>\n",
       "      <td>7.13</td>\n",
       "      <td>10.55</td>\n",
       "      <td>34.21</td>\n",
       "      <td>11.33</td>\n",
       "      <td>...</td>\n",
       "      <td>12.26</td>\n",
       "      <td>27.29</td>\n",
       "      <td>21.76</td>\n",
       "      <td>13.18</td>\n",
       "      <td>6.83</td>\n",
       "      <td>85.32</td>\n",
       "      <td>13.28</td>\n",
       "      <td>38.94</td>\n",
       "      <td>39.16</td>\n",
       "      <td>7.05</td>\n",
       "    </tr>\n",
       "    <tr>\n",
       "      <th>2023-03-31</th>\n",
       "      <td>14.33</td>\n",
       "      <td>9.94</td>\n",
       "      <td>8.15</td>\n",
       "      <td>17.60</td>\n",
       "      <td>2.51</td>\n",
       "      <td>15.54</td>\n",
       "      <td>12.03</td>\n",
       "      <td>10.35</td>\n",
       "      <td>32.51</td>\n",
       "      <td>10.54</td>\n",
       "      <td>...</td>\n",
       "      <td>12.58</td>\n",
       "      <td>28.16</td>\n",
       "      <td>21.67</td>\n",
       "      <td>13.96</td>\n",
       "      <td>7.29</td>\n",
       "      <td>80.29</td>\n",
       "      <td>13.35</td>\n",
       "      <td>38.66</td>\n",
       "      <td>40.55</td>\n",
       "      <td>7.05</td>\n",
       "    </tr>\n",
       "    <tr>\n",
       "      <th>2023-04-30</th>\n",
       "      <td>14.16</td>\n",
       "      <td>10.68</td>\n",
       "      <td>7.41</td>\n",
       "      <td>18.64</td>\n",
       "      <td>2.31</td>\n",
       "      <td>12.29</td>\n",
       "      <td>10.86</td>\n",
       "      <td>11.68</td>\n",
       "      <td>34.31</td>\n",
       "      <td>8.55</td>\n",
       "      <td>...</td>\n",
       "      <td>14.00</td>\n",
       "      <td>25.66</td>\n",
       "      <td>23.05</td>\n",
       "      <td>14.44</td>\n",
       "      <td>7.20</td>\n",
       "      <td>72.40</td>\n",
       "      <td>12.22</td>\n",
       "      <td>41.12</td>\n",
       "      <td>41.12</td>\n",
       "      <td>8.12</td>\n",
       "    </tr>\n",
       "    <tr>\n",
       "      <th>2023-05-31</th>\n",
       "      <td>14.41</td>\n",
       "      <td>12.18</td>\n",
       "      <td>10.44</td>\n",
       "      <td>21.67</td>\n",
       "      <td>2.99</td>\n",
       "      <td>10.75</td>\n",
       "      <td>16.85</td>\n",
       "      <td>13.32</td>\n",
       "      <td>30.93</td>\n",
       "      <td>10.22</td>\n",
       "      <td>...</td>\n",
       "      <td>13.96</td>\n",
       "      <td>28.76</td>\n",
       "      <td>24.40</td>\n",
       "      <td>16.93</td>\n",
       "      <td>7.02</td>\n",
       "      <td>63.81</td>\n",
       "      <td>12.87</td>\n",
       "      <td>40.00</td>\n",
       "      <td>37.61</td>\n",
       "      <td>14.07</td>\n",
       "    </tr>\n",
       "    <tr>\n",
       "      <th>2023-06-30</th>\n",
       "      <td>15.41</td>\n",
       "      <td>12.25</td>\n",
       "      <td>9.30</td>\n",
       "      <td>24.65</td>\n",
       "      <td>4.19</td>\n",
       "      <td>13.75</td>\n",
       "      <td>21.86</td>\n",
       "      <td>14.61</td>\n",
       "      <td>30.77</td>\n",
       "      <td>10.63</td>\n",
       "      <td>...</td>\n",
       "      <td>14.62</td>\n",
       "      <td>29.98</td>\n",
       "      <td>25.36</td>\n",
       "      <td>18.89</td>\n",
       "      <td>7.07</td>\n",
       "      <td>64.22</td>\n",
       "      <td>12.11</td>\n",
       "      <td>43.27</td>\n",
       "      <td>37.75</td>\n",
       "      <td>19.82</td>\n",
       "    </tr>\n",
       "  </tbody>\n",
       "</table>\n",
       "<p>6 rows × 88 columns</p>\n",
       "</div>"
      ],
      "text/plain": [
       "PAPEL       ABEV3  AESB3  ALPA4  ALSO3  ANIM3  ASAI3  AZUL4  B3SA3  BBSE3  \\\n",
       "DATA                                                                        \n",
       "2023-01-31  13.66  10.10  13.61  18.01   4.42  19.65  11.85  12.96  37.78   \n",
       "2023-02-28  13.39   9.92   9.43  17.08   3.19  18.14   7.13  10.55  34.21   \n",
       "2023-03-31  14.33   9.94   8.15  17.60   2.51  15.54  12.03  10.35  32.51   \n",
       "2023-04-30  14.16  10.68   7.41  18.64   2.31  12.29  10.86  11.68  34.31   \n",
       "2023-05-31  14.41  12.18  10.44  21.67   2.99  10.75  16.85  13.32  30.93   \n",
       "2023-06-30  15.41  12.25   9.30  24.65   4.19  13.75  21.86  14.61  30.77   \n",
       "\n",
       "PAPEL       BEEF3  ...  TIMS3  TOTS3  TRPL4  UGPA3  USIM5  VALE3  VAMO3  \\\n",
       "DATA               ...                                                    \n",
       "2023-01-31  13.99  ...  11.79  30.07  22.87  13.19   8.53  94.51  14.62   \n",
       "2023-02-28  11.33  ...  12.26  27.29  21.76  13.18   6.83  85.32  13.28   \n",
       "2023-03-31  10.54  ...  12.58  28.16  21.67  13.96   7.29  80.29  13.35   \n",
       "2023-04-30   8.55  ...  14.00  25.66  23.05  14.44   7.20  72.40  12.22   \n",
       "2023-05-31  10.22  ...  13.96  28.76  24.40  16.93   7.02  63.81  12.87   \n",
       "2023-06-30  10.63  ...  14.62  29.98  25.36  18.89   7.07  64.22  12.11   \n",
       "\n",
       "PAPEL       VIVT3  WEGE3  YDUQ3  \n",
       "DATA                             \n",
       "2023-01-31  41.82  38.24  10.33  \n",
       "2023-02-28  38.94  39.16   7.05  \n",
       "2023-03-31  38.66  40.55   7.05  \n",
       "2023-04-30  41.12  41.12   8.12  \n",
       "2023-05-31  40.00  37.61  14.07  \n",
       "2023-06-30  43.27  37.75  19.82  \n",
       "\n",
       "[6 rows x 88 columns]"
      ]
     },
     "execution_count": 184,
     "metadata": {},
     "output_type": "execute_result"
    }
   ],
   "source": [
    "df_precos_pivotada = df_precos.pivot_table(index='DATA', columns='PAPEL', values='PREÇO (R$)')\n",
    "df_precos_pivotada"
   ]
  },
  {
   "cell_type": "markdown",
   "metadata": {},
   "source": [
    "# normalizando os preços"
   ]
  },
  {
   "cell_type": "code",
   "execution_count": 185,
   "metadata": {},
   "outputs": [
    {
     "data": {
      "text/html": [
       "<div>\n",
       "<style scoped>\n",
       "    .dataframe tbody tr th:only-of-type {\n",
       "        vertical-align: middle;\n",
       "    }\n",
       "\n",
       "    .dataframe tbody tr th {\n",
       "        vertical-align: top;\n",
       "    }\n",
       "\n",
       "    .dataframe thead th {\n",
       "        text-align: right;\n",
       "    }\n",
       "</style>\n",
       "<table border=\"1\" class=\"dataframe\">\n",
       "  <thead>\n",
       "    <tr style=\"text-align: right;\">\n",
       "      <th>PAPEL</th>\n",
       "      <th>ABEV3</th>\n",
       "      <th>AESB3</th>\n",
       "      <th>ALPA4</th>\n",
       "      <th>ALSO3</th>\n",
       "      <th>ANIM3</th>\n",
       "      <th>ASAI3</th>\n",
       "      <th>AZUL4</th>\n",
       "      <th>B3SA3</th>\n",
       "      <th>BBSE3</th>\n",
       "      <th>BEEF3</th>\n",
       "      <th>...</th>\n",
       "      <th>TIMS3</th>\n",
       "      <th>TOTS3</th>\n",
       "      <th>TRPL4</th>\n",
       "      <th>UGPA3</th>\n",
       "      <th>USIM5</th>\n",
       "      <th>VALE3</th>\n",
       "      <th>VAMO3</th>\n",
       "      <th>VIVT3</th>\n",
       "      <th>WEGE3</th>\n",
       "      <th>YDUQ3</th>\n",
       "    </tr>\n",
       "    <tr>\n",
       "      <th>DATA</th>\n",
       "      <th></th>\n",
       "      <th></th>\n",
       "      <th></th>\n",
       "      <th></th>\n",
       "      <th></th>\n",
       "      <th></th>\n",
       "      <th></th>\n",
       "      <th></th>\n",
       "      <th></th>\n",
       "      <th></th>\n",
       "      <th></th>\n",
       "      <th></th>\n",
       "      <th></th>\n",
       "      <th></th>\n",
       "      <th></th>\n",
       "      <th></th>\n",
       "      <th></th>\n",
       "      <th></th>\n",
       "      <th></th>\n",
       "      <th></th>\n",
       "      <th></th>\n",
       "    </tr>\n",
       "  </thead>\n",
       "  <tbody>\n",
       "    <tr>\n",
       "      <th>2023-01-31</th>\n",
       "      <td>1.000000</td>\n",
       "      <td>1.000000</td>\n",
       "      <td>1.000000</td>\n",
       "      <td>1.000000</td>\n",
       "      <td>1.000000</td>\n",
       "      <td>1.000000</td>\n",
       "      <td>1.000000</td>\n",
       "      <td>1.000000</td>\n",
       "      <td>1.000000</td>\n",
       "      <td>1.000000</td>\n",
       "      <td>...</td>\n",
       "      <td>1.000000</td>\n",
       "      <td>1.000000</td>\n",
       "      <td>1.000000</td>\n",
       "      <td>1.000000</td>\n",
       "      <td>1.000000</td>\n",
       "      <td>1.000000</td>\n",
       "      <td>1.000000</td>\n",
       "      <td>1.000000</td>\n",
       "      <td>1.000000</td>\n",
       "      <td>1.000000</td>\n",
       "    </tr>\n",
       "    <tr>\n",
       "      <th>2023-02-28</th>\n",
       "      <td>0.980234</td>\n",
       "      <td>0.982178</td>\n",
       "      <td>0.692873</td>\n",
       "      <td>0.948362</td>\n",
       "      <td>0.721719</td>\n",
       "      <td>0.923155</td>\n",
       "      <td>0.601688</td>\n",
       "      <td>0.814043</td>\n",
       "      <td>0.905506</td>\n",
       "      <td>0.809864</td>\n",
       "      <td>...</td>\n",
       "      <td>1.039864</td>\n",
       "      <td>0.907549</td>\n",
       "      <td>0.951465</td>\n",
       "      <td>0.999242</td>\n",
       "      <td>0.800703</td>\n",
       "      <td>0.902762</td>\n",
       "      <td>0.908345</td>\n",
       "      <td>0.931133</td>\n",
       "      <td>1.024059</td>\n",
       "      <td>0.682478</td>\n",
       "    </tr>\n",
       "    <tr>\n",
       "      <th>2023-03-31</th>\n",
       "      <td>1.049048</td>\n",
       "      <td>0.984158</td>\n",
       "      <td>0.598824</td>\n",
       "      <td>0.977235</td>\n",
       "      <td>0.567873</td>\n",
       "      <td>0.790840</td>\n",
       "      <td>1.015190</td>\n",
       "      <td>0.798611</td>\n",
       "      <td>0.860508</td>\n",
       "      <td>0.753395</td>\n",
       "      <td>...</td>\n",
       "      <td>1.067006</td>\n",
       "      <td>0.936482</td>\n",
       "      <td>0.947530</td>\n",
       "      <td>1.058378</td>\n",
       "      <td>0.854631</td>\n",
       "      <td>0.849540</td>\n",
       "      <td>0.913133</td>\n",
       "      <td>0.924438</td>\n",
       "      <td>1.060408</td>\n",
       "      <td>0.682478</td>\n",
       "    </tr>\n",
       "    <tr>\n",
       "      <th>2023-04-30</th>\n",
       "      <td>1.036603</td>\n",
       "      <td>1.057426</td>\n",
       "      <td>0.544453</td>\n",
       "      <td>1.034981</td>\n",
       "      <td>0.522624</td>\n",
       "      <td>0.625445</td>\n",
       "      <td>0.916456</td>\n",
       "      <td>0.901235</td>\n",
       "      <td>0.908152</td>\n",
       "      <td>0.611151</td>\n",
       "      <td>...</td>\n",
       "      <td>1.187447</td>\n",
       "      <td>0.853342</td>\n",
       "      <td>1.007871</td>\n",
       "      <td>1.094769</td>\n",
       "      <td>0.844080</td>\n",
       "      <td>0.766057</td>\n",
       "      <td>0.835841</td>\n",
       "      <td>0.983262</td>\n",
       "      <td>1.075314</td>\n",
       "      <td>0.786060</td>\n",
       "    </tr>\n",
       "    <tr>\n",
       "      <th>2023-05-31</th>\n",
       "      <td>1.054905</td>\n",
       "      <td>1.205941</td>\n",
       "      <td>0.767083</td>\n",
       "      <td>1.203220</td>\n",
       "      <td>0.676471</td>\n",
       "      <td>0.547074</td>\n",
       "      <td>1.421941</td>\n",
       "      <td>1.027778</td>\n",
       "      <td>0.818687</td>\n",
       "      <td>0.730522</td>\n",
       "      <td>...</td>\n",
       "      <td>1.184054</td>\n",
       "      <td>0.956435</td>\n",
       "      <td>1.066900</td>\n",
       "      <td>1.283548</td>\n",
       "      <td>0.822978</td>\n",
       "      <td>0.675167</td>\n",
       "      <td>0.880301</td>\n",
       "      <td>0.956480</td>\n",
       "      <td>0.983525</td>\n",
       "      <td>1.362052</td>\n",
       "    </tr>\n",
       "    <tr>\n",
       "      <th>2023-06-30</th>\n",
       "      <td>1.128111</td>\n",
       "      <td>1.212871</td>\n",
       "      <td>0.683321</td>\n",
       "      <td>1.368684</td>\n",
       "      <td>0.947964</td>\n",
       "      <td>0.699746</td>\n",
       "      <td>1.844726</td>\n",
       "      <td>1.127315</td>\n",
       "      <td>0.814452</td>\n",
       "      <td>0.759828</td>\n",
       "      <td>...</td>\n",
       "      <td>1.240034</td>\n",
       "      <td>0.997007</td>\n",
       "      <td>1.108876</td>\n",
       "      <td>1.432146</td>\n",
       "      <td>0.828839</td>\n",
       "      <td>0.679505</td>\n",
       "      <td>0.828317</td>\n",
       "      <td>1.034672</td>\n",
       "      <td>0.987186</td>\n",
       "      <td>1.918683</td>\n",
       "    </tr>\n",
       "  </tbody>\n",
       "</table>\n",
       "<p>6 rows × 88 columns</p>\n",
       "</div>"
      ],
      "text/plain": [
       "PAPEL          ABEV3     AESB3     ALPA4     ALSO3     ANIM3     ASAI3  \\\n",
       "DATA                                                                     \n",
       "2023-01-31  1.000000  1.000000  1.000000  1.000000  1.000000  1.000000   \n",
       "2023-02-28  0.980234  0.982178  0.692873  0.948362  0.721719  0.923155   \n",
       "2023-03-31  1.049048  0.984158  0.598824  0.977235  0.567873  0.790840   \n",
       "2023-04-30  1.036603  1.057426  0.544453  1.034981  0.522624  0.625445   \n",
       "2023-05-31  1.054905  1.205941  0.767083  1.203220  0.676471  0.547074   \n",
       "2023-06-30  1.128111  1.212871  0.683321  1.368684  0.947964  0.699746   \n",
       "\n",
       "PAPEL          AZUL4     B3SA3     BBSE3     BEEF3  ...     TIMS3     TOTS3  \\\n",
       "DATA                                                ...                       \n",
       "2023-01-31  1.000000  1.000000  1.000000  1.000000  ...  1.000000  1.000000   \n",
       "2023-02-28  0.601688  0.814043  0.905506  0.809864  ...  1.039864  0.907549   \n",
       "2023-03-31  1.015190  0.798611  0.860508  0.753395  ...  1.067006  0.936482   \n",
       "2023-04-30  0.916456  0.901235  0.908152  0.611151  ...  1.187447  0.853342   \n",
       "2023-05-31  1.421941  1.027778  0.818687  0.730522  ...  1.184054  0.956435   \n",
       "2023-06-30  1.844726  1.127315  0.814452  0.759828  ...  1.240034  0.997007   \n",
       "\n",
       "PAPEL          TRPL4     UGPA3     USIM5     VALE3     VAMO3     VIVT3  \\\n",
       "DATA                                                                     \n",
       "2023-01-31  1.000000  1.000000  1.000000  1.000000  1.000000  1.000000   \n",
       "2023-02-28  0.951465  0.999242  0.800703  0.902762  0.908345  0.931133   \n",
       "2023-03-31  0.947530  1.058378  0.854631  0.849540  0.913133  0.924438   \n",
       "2023-04-30  1.007871  1.094769  0.844080  0.766057  0.835841  0.983262   \n",
       "2023-05-31  1.066900  1.283548  0.822978  0.675167  0.880301  0.956480   \n",
       "2023-06-30  1.108876  1.432146  0.828839  0.679505  0.828317  1.034672   \n",
       "\n",
       "PAPEL          WEGE3     YDUQ3  \n",
       "DATA                            \n",
       "2023-01-31  1.000000  1.000000  \n",
       "2023-02-28  1.024059  0.682478  \n",
       "2023-03-31  1.060408  0.682478  \n",
       "2023-04-30  1.075314  0.786060  \n",
       "2023-05-31  0.983525  1.362052  \n",
       "2023-06-30  0.987186  1.918683  \n",
       "\n",
       "[6 rows x 88 columns]"
      ]
     },
     "execution_count": 185,
     "metadata": {},
     "output_type": "execute_result"
    }
   ],
   "source": [
    "df_precos_pivotada_normalizada = df_precos_pivotada / df_precos_pivotada.iloc[0]\n",
    "df_precos_pivotada_normalizada"
   ]
  },
  {
   "cell_type": "markdown",
   "metadata": {},
   "source": [
    "#### ----"
   ]
  },
  {
   "cell_type": "markdown",
   "metadata": {},
   "source": [
    "### com o PX"
   ]
  },
  {
   "cell_type": "markdown",
   "metadata": {},
   "source": [
    "#### ----"
   ]
  },
  {
   "cell_type": "markdown",
   "metadata": {},
   "source": [
    "# TOP Maiores retornos / menores retornos"
   ]
  },
  {
   "cell_type": "code",
   "execution_count": 186,
   "metadata": {},
   "outputs": [
    {
     "data": {
      "text/html": [
       "<div>\n",
       "<style scoped>\n",
       "    .dataframe tbody tr th:only-of-type {\n",
       "        vertical-align: middle;\n",
       "    }\n",
       "\n",
       "    .dataframe tbody tr th {\n",
       "        vertical-align: top;\n",
       "    }\n",
       "\n",
       "    .dataframe thead th {\n",
       "        text-align: right;\n",
       "    }\n",
       "</style>\n",
       "<table border=\"1\" class=\"dataframe\">\n",
       "  <thead>\n",
       "    <tr style=\"text-align: right;\">\n",
       "      <th></th>\n",
       "      <th>DATA</th>\n",
       "      <th>NOME</th>\n",
       "      <th>PREÇO (R$)</th>\n",
       "      <th>SETOR ECONÔMICO</th>\n",
       "      <th>SUBSETOR</th>\n",
       "      <th>SEGMENTO</th>\n",
       "      <th>IPCA</th>\n",
       "      <th>SELIC</th>\n",
       "      <th>USD</th>\n",
       "      <th>RETORNOS_SIMPLES</th>\n",
       "      <th>RETORNOS_LOGARITIMOS</th>\n",
       "      <th>RETORNOS_ACUMULADOS</th>\n",
       "    </tr>\n",
       "    <tr>\n",
       "      <th>PAPEL</th>\n",
       "      <th></th>\n",
       "      <th></th>\n",
       "      <th></th>\n",
       "      <th></th>\n",
       "      <th></th>\n",
       "      <th></th>\n",
       "      <th></th>\n",
       "      <th></th>\n",
       "      <th></th>\n",
       "      <th></th>\n",
       "      <th></th>\n",
       "      <th></th>\n",
       "    </tr>\n",
       "  </thead>\n",
       "  <tbody>\n",
       "    <tr>\n",
       "      <th>ABEV3</th>\n",
       "      <td>2023-01-31</td>\n",
       "      <td>AMBEV S/A</td>\n",
       "      <td>13.66</td>\n",
       "      <td>Consumo não Cíclico</td>\n",
       "      <td>Bebidas</td>\n",
       "      <td>Cervejas e Refrigerantes</td>\n",
       "      <td>0.0053</td>\n",
       "      <td>0.0112</td>\n",
       "      <td>5.0987</td>\n",
       "      <td>NaN</td>\n",
       "      <td>NaN</td>\n",
       "      <td>NaN</td>\n",
       "    </tr>\n",
       "    <tr>\n",
       "      <th>ABEV3</th>\n",
       "      <td>2023-02-28</td>\n",
       "      <td>AMBEV S/A</td>\n",
       "      <td>13.39</td>\n",
       "      <td>Consumo não Cíclico</td>\n",
       "      <td>Bebidas</td>\n",
       "      <td>Cervejas e Refrigerantes</td>\n",
       "      <td>0.0084</td>\n",
       "      <td>0.0092</td>\n",
       "      <td>5.2072</td>\n",
       "      <td>-0.019766</td>\n",
       "      <td>-0.019964</td>\n",
       "      <td>-0.019766</td>\n",
       "    </tr>\n",
       "    <tr>\n",
       "      <th>ABEV3</th>\n",
       "      <td>2023-03-31</td>\n",
       "      <td>AMBEV S/A</td>\n",
       "      <td>14.33</td>\n",
       "      <td>Consumo não Cíclico</td>\n",
       "      <td>Bebidas</td>\n",
       "      <td>Cervejas e Refrigerantes</td>\n",
       "      <td>0.0071</td>\n",
       "      <td>0.0117</td>\n",
       "      <td>5.0798</td>\n",
       "      <td>0.070202</td>\n",
       "      <td>0.067847</td>\n",
       "      <td>0.049048</td>\n",
       "    </tr>\n",
       "    <tr>\n",
       "      <th>ABEV3</th>\n",
       "      <td>2023-04-30</td>\n",
       "      <td>AMBEV S/A</td>\n",
       "      <td>14.16</td>\n",
       "      <td>Consumo não Cíclico</td>\n",
       "      <td>Bebidas</td>\n",
       "      <td>Cervejas e Refrigerantes</td>\n",
       "      <td>0.0061</td>\n",
       "      <td>0.0092</td>\n",
       "      <td>5.0001</td>\n",
       "      <td>-0.011863</td>\n",
       "      <td>-0.011934</td>\n",
       "      <td>0.036603</td>\n",
       "    </tr>\n",
       "    <tr>\n",
       "      <th>ABEV3</th>\n",
       "      <td>2023-05-31</td>\n",
       "      <td>AMBEV S/A</td>\n",
       "      <td>14.41</td>\n",
       "      <td>Consumo não Cíclico</td>\n",
       "      <td>Bebidas</td>\n",
       "      <td>Cervejas e Refrigerantes</td>\n",
       "      <td>0.0023</td>\n",
       "      <td>0.0112</td>\n",
       "      <td>5.0953</td>\n",
       "      <td>0.017655</td>\n",
       "      <td>0.017501</td>\n",
       "      <td>0.054905</td>\n",
       "    </tr>\n",
       "    <tr>\n",
       "      <th>ABEV3</th>\n",
       "      <td>2023-06-30</td>\n",
       "      <td>AMBEV S/A</td>\n",
       "      <td>15.41</td>\n",
       "      <td>Consumo não Cíclico</td>\n",
       "      <td>Bebidas</td>\n",
       "      <td>Cervejas e Refrigerantes</td>\n",
       "      <td>-0.0008</td>\n",
       "      <td>0.0107</td>\n",
       "      <td>4.8186</td>\n",
       "      <td>0.069396</td>\n",
       "      <td>0.067094</td>\n",
       "      <td>0.128111</td>\n",
       "    </tr>\n",
       "    <tr>\n",
       "      <th>AESB3</th>\n",
       "      <td>2023-01-31</td>\n",
       "      <td>AES BRASIL</td>\n",
       "      <td>10.10</td>\n",
       "      <td>Utilidade Pública</td>\n",
       "      <td>Energia Elétrica</td>\n",
       "      <td>Energia Elétrica</td>\n",
       "      <td>0.0053</td>\n",
       "      <td>0.0112</td>\n",
       "      <td>5.0987</td>\n",
       "      <td>NaN</td>\n",
       "      <td>NaN</td>\n",
       "      <td>NaN</td>\n",
       "    </tr>\n",
       "    <tr>\n",
       "      <th>AESB3</th>\n",
       "      <td>2023-02-28</td>\n",
       "      <td>AES BRASIL</td>\n",
       "      <td>9.92</td>\n",
       "      <td>Utilidade Pública</td>\n",
       "      <td>Energia Elétrica</td>\n",
       "      <td>Energia Elétrica</td>\n",
       "      <td>0.0084</td>\n",
       "      <td>0.0092</td>\n",
       "      <td>5.2072</td>\n",
       "      <td>-0.017822</td>\n",
       "      <td>-0.017983</td>\n",
       "      <td>-0.017822</td>\n",
       "    </tr>\n",
       "    <tr>\n",
       "      <th>AESB3</th>\n",
       "      <td>2023-03-31</td>\n",
       "      <td>AES BRASIL</td>\n",
       "      <td>9.94</td>\n",
       "      <td>Utilidade Pública</td>\n",
       "      <td>Energia Elétrica</td>\n",
       "      <td>Energia Elétrica</td>\n",
       "      <td>0.0071</td>\n",
       "      <td>0.0117</td>\n",
       "      <td>5.0798</td>\n",
       "      <td>0.002016</td>\n",
       "      <td>0.002014</td>\n",
       "      <td>-0.015842</td>\n",
       "    </tr>\n",
       "    <tr>\n",
       "      <th>AESB3</th>\n",
       "      <td>2023-04-30</td>\n",
       "      <td>AES BRASIL</td>\n",
       "      <td>10.68</td>\n",
       "      <td>Utilidade Pública</td>\n",
       "      <td>Energia Elétrica</td>\n",
       "      <td>Energia Elétrica</td>\n",
       "      <td>0.0061</td>\n",
       "      <td>0.0092</td>\n",
       "      <td>5.0001</td>\n",
       "      <td>0.074447</td>\n",
       "      <td>0.071806</td>\n",
       "      <td>0.057426</td>\n",
       "    </tr>\n",
       "  </tbody>\n",
       "</table>\n",
       "</div>"
      ],
      "text/plain": [
       "            DATA        NOME  PREÇO (R$)      SETOR ECONÔMICO  \\\n",
       "PAPEL                                                           \n",
       "ABEV3 2023-01-31   AMBEV S/A       13.66  Consumo não Cíclico   \n",
       "ABEV3 2023-02-28   AMBEV S/A       13.39  Consumo não Cíclico   \n",
       "ABEV3 2023-03-31   AMBEV S/A       14.33  Consumo não Cíclico   \n",
       "ABEV3 2023-04-30   AMBEV S/A       14.16  Consumo não Cíclico   \n",
       "ABEV3 2023-05-31   AMBEV S/A       14.41  Consumo não Cíclico   \n",
       "ABEV3 2023-06-30   AMBEV S/A       15.41  Consumo não Cíclico   \n",
       "AESB3 2023-01-31  AES BRASIL       10.10    Utilidade Pública   \n",
       "AESB3 2023-02-28  AES BRASIL        9.92    Utilidade Pública   \n",
       "AESB3 2023-03-31  AES BRASIL        9.94    Utilidade Pública   \n",
       "AESB3 2023-04-30  AES BRASIL       10.68    Utilidade Pública   \n",
       "\n",
       "               SUBSETOR                  SEGMENTO    IPCA   SELIC     USD  \\\n",
       "PAPEL                                                                       \n",
       "ABEV3           Bebidas  Cervejas e Refrigerantes  0.0053  0.0112  5.0987   \n",
       "ABEV3           Bebidas  Cervejas e Refrigerantes  0.0084  0.0092  5.2072   \n",
       "ABEV3           Bebidas  Cervejas e Refrigerantes  0.0071  0.0117  5.0798   \n",
       "ABEV3           Bebidas  Cervejas e Refrigerantes  0.0061  0.0092  5.0001   \n",
       "ABEV3           Bebidas  Cervejas e Refrigerantes  0.0023  0.0112  5.0953   \n",
       "ABEV3           Bebidas  Cervejas e Refrigerantes -0.0008  0.0107  4.8186   \n",
       "AESB3  Energia Elétrica          Energia Elétrica  0.0053  0.0112  5.0987   \n",
       "AESB3  Energia Elétrica          Energia Elétrica  0.0084  0.0092  5.2072   \n",
       "AESB3  Energia Elétrica          Energia Elétrica  0.0071  0.0117  5.0798   \n",
       "AESB3  Energia Elétrica          Energia Elétrica  0.0061  0.0092  5.0001   \n",
       "\n",
       "       RETORNOS_SIMPLES  RETORNOS_LOGARITIMOS  RETORNOS_ACUMULADOS  \n",
       "PAPEL                                                               \n",
       "ABEV3               NaN                   NaN                  NaN  \n",
       "ABEV3         -0.019766             -0.019964            -0.019766  \n",
       "ABEV3          0.070202              0.067847             0.049048  \n",
       "ABEV3         -0.011863             -0.011934             0.036603  \n",
       "ABEV3          0.017655              0.017501             0.054905  \n",
       "ABEV3          0.069396              0.067094             0.128111  \n",
       "AESB3               NaN                   NaN                  NaN  \n",
       "AESB3         -0.017822             -0.017983            -0.017822  \n",
       "AESB3          0.002016              0.002014            -0.015842  \n",
       "AESB3          0.074447              0.071806             0.057426  "
      ]
     },
     "execution_count": 186,
     "metadata": {},
     "output_type": "execute_result"
    }
   ],
   "source": [
    "df_precos_setor_macro6.head(10)"
   ]
  },
  {
   "cell_type": "code",
   "execution_count": 187,
   "metadata": {},
   "outputs": [
    {
     "data": {
      "text/plain": [
       "PAPEL\n",
       "ABEV3    13.66\n",
       "AESB3    10.10\n",
       "ALPA4    13.61\n",
       "ALSO3    18.01\n",
       "ANIM3     4.42\n",
       "ASAI3    19.65\n",
       "Name: PREÇO (R$), dtype: float64"
      ]
     },
     "execution_count": 187,
     "metadata": {},
     "output_type": "execute_result"
    }
   ],
   "source": [
    "primeira_cotacao = df_precos_setor_macro6.groupby(df_precos_setor_macro6.index)['PREÇO (R$)'].first()\n",
    "primeira_cotacao.head(6)"
   ]
  },
  {
   "cell_type": "code",
   "execution_count": 188,
   "metadata": {},
   "outputs": [
    {
     "data": {
      "text/plain": [
       "PAPEL\n",
       "ABEV3    15.41\n",
       "AESB3    12.25\n",
       "ALPA4     9.30\n",
       "ALSO3    24.65\n",
       "ANIM3     4.19\n",
       "ASAI3    13.75\n",
       "Name: PREÇO (R$), dtype: float64"
      ]
     },
     "execution_count": 188,
     "metadata": {},
     "output_type": "execute_result"
    }
   ],
   "source": [
    "ultima_cotacao = df_precos_setor_macro6.groupby(df_precos_setor_macro6.index)['PREÇO (R$)'].last()\n",
    "ultima_cotacao.head(6)"
   ]
  },
  {
   "cell_type": "code",
   "execution_count": 189,
   "metadata": {},
   "outputs": [],
   "source": [
    "top_valorizadas = ((ultima_cotacao - primeira_cotacao) / primeira_cotacao).sort_values(ascending=False)\n",
    "# df_precos_setor_macro6[['RETORNOS_ACUMULADOS']].groupby(df_precos_setor_macro6.index).last()"
   ]
  },
  {
   "cell_type": "code",
   "execution_count": 190,
   "metadata": {},
   "outputs": [],
   "source": [
    "top_desvalorizadas = ((ultima_cotacao - primeira_cotacao) / primeira_cotacao).sort_values(ascending=True)"
   ]
  },
  {
   "cell_type": "markdown",
   "metadata": {},
   "source": [
    "### Calculando Rentabilidade BRUTA em R$"
   ]
  },
  {
   "cell_type": "code",
   "execution_count": 191,
   "metadata": {},
   "outputs": [
    {
     "data": {
      "text/plain": [
       "PAPEL\n",
       "ABEV3     1.75\n",
       "AESB3     2.15\n",
       "ALPA4    -4.31\n",
       "ALSO3     6.64\n",
       "ANIM3    -0.23\n",
       "         ...  \n",
       "VALE3   -30.29\n",
       "VAMO3    -2.51\n",
       "VIVT3     1.45\n",
       "WEGE3    -0.49\n",
       "YDUQ3     9.49\n",
       "Name: PREÇO (R$), Length: 88, dtype: float64"
      ]
     },
     "execution_count": 191,
     "metadata": {},
     "output_type": "execute_result"
    }
   ],
   "source": [
    "ganho_reais = ultima_cotacao - primeira_cotacao\n",
    "ganho_reais"
   ]
  },
  {
   "cell_type": "markdown",
   "metadata": {},
   "source": [
    "# Calculando o risco / volatilidade da ação no periodo analisado"
   ]
  },
  {
   "cell_type": "markdown",
   "metadata": {},
   "source": [
    "### calculo do desvio padrao mensal"
   ]
  },
  {
   "cell_type": "code",
   "execution_count": 192,
   "metadata": {},
   "outputs": [
    {
     "data": {
      "text/plain": [
       "PAPEL\n",
       "ABEV3    0.043101\n",
       "AESB3    0.065634\n",
       "ALPA4    0.268876\n",
       "ALSO3    0.085987\n",
       "ANIM3    0.305717\n",
       "           ...   \n",
       "VALE3    0.049535\n",
       "VAMO3    0.062553\n",
       "VIVT3    0.063075\n",
       "WEGE3    0.048279\n",
       "YDUQ3    0.399190\n",
       "Name: RETORNOS_SIMPLES, Length: 88, dtype: float64"
      ]
     },
     "execution_count": 192,
     "metadata": {},
     "output_type": "execute_result"
    }
   ],
   "source": [
    "volatilidade = df_precos_setor_macro6['RETORNOS_SIMPLES'].dropna().groupby(df_precos_setor_macro6.dropna().index).std(ddof=1) #ddof=1 amostral e populacional = 0\n",
    "volatilidade\n",
    "# maiores_volatilidades = volatilidade"
   ]
  },
  {
   "cell_type": "code",
   "execution_count": 193,
   "metadata": {},
   "outputs": [
    {
     "data": {
      "text/html": [
       "<div>\n",
       "<style scoped>\n",
       "    .dataframe tbody tr th:only-of-type {\n",
       "        vertical-align: middle;\n",
       "    }\n",
       "\n",
       "    .dataframe tbody tr th {\n",
       "        vertical-align: top;\n",
       "    }\n",
       "\n",
       "    .dataframe thead th {\n",
       "        text-align: right;\n",
       "    }\n",
       "</style>\n",
       "<table border=\"1\" class=\"dataframe\">\n",
       "  <thead>\n",
       "    <tr style=\"text-align: right;\">\n",
       "      <th>PAPEL</th>\n",
       "      <th>ABEV3</th>\n",
       "      <th>AESB3</th>\n",
       "      <th>ALPA4</th>\n",
       "      <th>ALSO3</th>\n",
       "      <th>ANIM3</th>\n",
       "      <th>ASAI3</th>\n",
       "      <th>AZUL4</th>\n",
       "      <th>B3SA3</th>\n",
       "      <th>BBSE3</th>\n",
       "      <th>BEEF3</th>\n",
       "      <th>...</th>\n",
       "      <th>VALE3</th>\n",
       "      <th>VAMO3</th>\n",
       "      <th>VIVT3</th>\n",
       "      <th>WEGE3</th>\n",
       "      <th>YDUQ3</th>\n",
       "      <th>IPCA</th>\n",
       "      <th>SELIC</th>\n",
       "      <th>SELIC_acumulada</th>\n",
       "      <th>IPCA_acumulado</th>\n",
       "      <th>USD</th>\n",
       "    </tr>\n",
       "    <tr>\n",
       "      <th>DATA</th>\n",
       "      <th></th>\n",
       "      <th></th>\n",
       "      <th></th>\n",
       "      <th></th>\n",
       "      <th></th>\n",
       "      <th></th>\n",
       "      <th></th>\n",
       "      <th></th>\n",
       "      <th></th>\n",
       "      <th></th>\n",
       "      <th></th>\n",
       "      <th></th>\n",
       "      <th></th>\n",
       "      <th></th>\n",
       "      <th></th>\n",
       "      <th></th>\n",
       "      <th></th>\n",
       "      <th></th>\n",
       "      <th></th>\n",
       "      <th></th>\n",
       "      <th></th>\n",
       "    </tr>\n",
       "  </thead>\n",
       "  <tbody>\n",
       "    <tr>\n",
       "      <th>2023-01-31</th>\n",
       "      <td>13.66</td>\n",
       "      <td>10.10</td>\n",
       "      <td>13.61</td>\n",
       "      <td>18.01</td>\n",
       "      <td>4.42</td>\n",
       "      <td>19.65</td>\n",
       "      <td>11.85</td>\n",
       "      <td>12.96</td>\n",
       "      <td>37.78</td>\n",
       "      <td>13.99</td>\n",
       "      <td>...</td>\n",
       "      <td>94.51</td>\n",
       "      <td>14.62</td>\n",
       "      <td>41.82</td>\n",
       "      <td>38.24</td>\n",
       "      <td>10.33</td>\n",
       "      <td>0.0053</td>\n",
       "      <td>0.0112</td>\n",
       "      <td>0.0112</td>\n",
       "      <td>0.0053</td>\n",
       "      <td>5.0987</td>\n",
       "    </tr>\n",
       "    <tr>\n",
       "      <th>2023-02-28</th>\n",
       "      <td>13.39</td>\n",
       "      <td>9.92</td>\n",
       "      <td>9.43</td>\n",
       "      <td>17.08</td>\n",
       "      <td>3.19</td>\n",
       "      <td>18.14</td>\n",
       "      <td>7.13</td>\n",
       "      <td>10.55</td>\n",
       "      <td>34.21</td>\n",
       "      <td>11.33</td>\n",
       "      <td>...</td>\n",
       "      <td>85.32</td>\n",
       "      <td>13.28</td>\n",
       "      <td>38.94</td>\n",
       "      <td>39.16</td>\n",
       "      <td>7.05</td>\n",
       "      <td>0.0084</td>\n",
       "      <td>0.0092</td>\n",
       "      <td>0.0204</td>\n",
       "      <td>0.0137</td>\n",
       "      <td>5.2072</td>\n",
       "    </tr>\n",
       "    <tr>\n",
       "      <th>2023-03-31</th>\n",
       "      <td>14.33</td>\n",
       "      <td>9.94</td>\n",
       "      <td>8.15</td>\n",
       "      <td>17.60</td>\n",
       "      <td>2.51</td>\n",
       "      <td>15.54</td>\n",
       "      <td>12.03</td>\n",
       "      <td>10.35</td>\n",
       "      <td>32.51</td>\n",
       "      <td>10.54</td>\n",
       "      <td>...</td>\n",
       "      <td>80.29</td>\n",
       "      <td>13.35</td>\n",
       "      <td>38.66</td>\n",
       "      <td>40.55</td>\n",
       "      <td>7.05</td>\n",
       "      <td>0.0071</td>\n",
       "      <td>0.0117</td>\n",
       "      <td>0.0321</td>\n",
       "      <td>0.0208</td>\n",
       "      <td>5.0798</td>\n",
       "    </tr>\n",
       "    <tr>\n",
       "      <th>2023-04-30</th>\n",
       "      <td>14.16</td>\n",
       "      <td>10.68</td>\n",
       "      <td>7.41</td>\n",
       "      <td>18.64</td>\n",
       "      <td>2.31</td>\n",
       "      <td>12.29</td>\n",
       "      <td>10.86</td>\n",
       "      <td>11.68</td>\n",
       "      <td>34.31</td>\n",
       "      <td>8.55</td>\n",
       "      <td>...</td>\n",
       "      <td>72.40</td>\n",
       "      <td>12.22</td>\n",
       "      <td>41.12</td>\n",
       "      <td>41.12</td>\n",
       "      <td>8.12</td>\n",
       "      <td>0.0061</td>\n",
       "      <td>0.0092</td>\n",
       "      <td>0.0413</td>\n",
       "      <td>0.0269</td>\n",
       "      <td>5.0001</td>\n",
       "    </tr>\n",
       "    <tr>\n",
       "      <th>2023-05-31</th>\n",
       "      <td>14.41</td>\n",
       "      <td>12.18</td>\n",
       "      <td>10.44</td>\n",
       "      <td>21.67</td>\n",
       "      <td>2.99</td>\n",
       "      <td>10.75</td>\n",
       "      <td>16.85</td>\n",
       "      <td>13.32</td>\n",
       "      <td>30.93</td>\n",
       "      <td>10.22</td>\n",
       "      <td>...</td>\n",
       "      <td>63.81</td>\n",
       "      <td>12.87</td>\n",
       "      <td>40.00</td>\n",
       "      <td>37.61</td>\n",
       "      <td>14.07</td>\n",
       "      <td>0.0023</td>\n",
       "      <td>0.0112</td>\n",
       "      <td>0.0525</td>\n",
       "      <td>0.0292</td>\n",
       "      <td>5.0953</td>\n",
       "    </tr>\n",
       "    <tr>\n",
       "      <th>2023-06-30</th>\n",
       "      <td>15.41</td>\n",
       "      <td>12.25</td>\n",
       "      <td>9.30</td>\n",
       "      <td>24.65</td>\n",
       "      <td>4.19</td>\n",
       "      <td>13.75</td>\n",
       "      <td>21.86</td>\n",
       "      <td>14.61</td>\n",
       "      <td>30.77</td>\n",
       "      <td>10.63</td>\n",
       "      <td>...</td>\n",
       "      <td>64.22</td>\n",
       "      <td>12.11</td>\n",
       "      <td>43.27</td>\n",
       "      <td>37.75</td>\n",
       "      <td>19.82</td>\n",
       "      <td>-0.0008</td>\n",
       "      <td>0.0107</td>\n",
       "      <td>0.0632</td>\n",
       "      <td>0.0284</td>\n",
       "      <td>4.8186</td>\n",
       "    </tr>\n",
       "  </tbody>\n",
       "</table>\n",
       "<p>6 rows × 93 columns</p>\n",
       "</div>"
      ],
      "text/plain": [
       "PAPEL       ABEV3  AESB3  ALPA4  ALSO3  ANIM3  ASAI3  AZUL4  B3SA3  BBSE3  \\\n",
       "DATA                                                                        \n",
       "2023-01-31  13.66  10.10  13.61  18.01   4.42  19.65  11.85  12.96  37.78   \n",
       "2023-02-28  13.39   9.92   9.43  17.08   3.19  18.14   7.13  10.55  34.21   \n",
       "2023-03-31  14.33   9.94   8.15  17.60   2.51  15.54  12.03  10.35  32.51   \n",
       "2023-04-30  14.16  10.68   7.41  18.64   2.31  12.29  10.86  11.68  34.31   \n",
       "2023-05-31  14.41  12.18  10.44  21.67   2.99  10.75  16.85  13.32  30.93   \n",
       "2023-06-30  15.41  12.25   9.30  24.65   4.19  13.75  21.86  14.61  30.77   \n",
       "\n",
       "PAPEL       BEEF3  ...  VALE3  VAMO3  VIVT3  WEGE3  YDUQ3    IPCA   SELIC  \\\n",
       "DATA               ...                                                      \n",
       "2023-01-31  13.99  ...  94.51  14.62  41.82  38.24  10.33  0.0053  0.0112   \n",
       "2023-02-28  11.33  ...  85.32  13.28  38.94  39.16   7.05  0.0084  0.0092   \n",
       "2023-03-31  10.54  ...  80.29  13.35  38.66  40.55   7.05  0.0071  0.0117   \n",
       "2023-04-30   8.55  ...  72.40  12.22  41.12  41.12   8.12  0.0061  0.0092   \n",
       "2023-05-31  10.22  ...  63.81  12.87  40.00  37.61  14.07  0.0023  0.0112   \n",
       "2023-06-30  10.63  ...  64.22  12.11  43.27  37.75  19.82 -0.0008  0.0107   \n",
       "\n",
       "PAPEL       SELIC_acumulada  IPCA_acumulado     USD  \n",
       "DATA                                                 \n",
       "2023-01-31           0.0112          0.0053  5.0987  \n",
       "2023-02-28           0.0204          0.0137  5.2072  \n",
       "2023-03-31           0.0321          0.0208  5.0798  \n",
       "2023-04-30           0.0413          0.0269  5.0001  \n",
       "2023-05-31           0.0525          0.0292  5.0953  \n",
       "2023-06-30           0.0632          0.0284  4.8186  \n",
       "\n",
       "[6 rows x 93 columns]"
      ]
     },
     "execution_count": 193,
     "metadata": {},
     "output_type": "execute_result"
    }
   ],
   "source": [
    "df_precos_pivotada['IPCA'] = df_precos_setor_macro6['IPCA'][0:6].values\n",
    "df_precos_pivotada['SELIC'] = df_precos_setor_macro6['SELIC'][0:6].values\n",
    "df_precos_pivotada['SELIC_acumulada'] = df_precos_setor_macro6['SELIC'][0:6].values.cumsum()\n",
    "df_precos_pivotada['IPCA_acumulado'] = df_precos_setor_macro6['IPCA'][0:6].values.cumsum()\n",
    "\n",
    "df_precos_pivotada['USD'] = df_precos_setor_macro6['USD'][0:6].values\n",
    "\n",
    "df_precos_pivotada"
   ]
  },
  {
   "cell_type": "code",
   "execution_count": 194,
   "metadata": {},
   "outputs": [
    {
     "data": {
      "text/plain": [
       "array([ 0.0053,  0.0084,  0.0071,  0.0061,  0.0023, -0.0008])"
      ]
     },
     "execution_count": 194,
     "metadata": {},
     "output_type": "execute_result"
    }
   ],
   "source": [
    "df_precos_setor_macro6['IPCA'][0:6].values"
   ]
  },
  {
   "cell_type": "markdown",
   "metadata": {},
   "source": [
    "# Calculando o indice de sharpe\n",
    "- Supondo que retorno livre de risco +- 4,5%"
   ]
  },
  {
   "cell_type": "code",
   "execution_count": 195,
   "metadata": {},
   "outputs": [
    {
     "data": {
      "text/plain": [
       "PAPEL\n",
       "ABEV3     1.928270\n",
       "AESB3     2.557681\n",
       "ALPA4    -1.345150\n",
       "ALSO3     3.764327\n",
       "ANIM3    -0.317405\n",
       "ASAI3    -1.791367\n",
       "AZUL4     1.770101\n",
       "B3SA3     0.599655\n",
       "BBSE3    -3.559116\n",
       "BEEF3    -1.740929\n",
       "BPAC11    3.333036\n",
       "BRFS3     0.406214\n",
       "BRKM5     1.011555\n",
       "CBAV3    -4.854580\n",
       "CCRO3     1.767746\n",
       "CEAB3     2.092709\n",
       "CIEL3    -1.321789\n",
       "CMIG4     0.874571\n",
       "CMIN3    -4.456727\n",
       "COGN3     1.478318\n",
       "CPFE3    -0.120056\n",
       "CPLE6     0.194583\n",
       "CRFB3    -2.531472\n",
       "CSAN3     0.229391\n",
       "CSMG3     5.515623\n",
       "CSNA3    -7.507624\n",
       "CVCB3    -1.251618\n",
       "CYRE3     2.690102\n",
       "DIRR3     2.528185\n",
       "ECOR3     2.680841\n",
       "EGIE3     3.483511\n",
       "EMBR3     0.698618\n",
       "ENEV3    -0.307875\n",
       "ENGI11    1.790497\n",
       "EQTL3     1.208495\n",
       "EZTC3     1.426052\n",
       "FLRY3    -0.141223\n",
       "GGBR4    -3.815287\n",
       "GMAT3     0.614043\n",
       "GOLL4     2.108912\n",
       "dtype: float64"
      ]
     },
     "execution_count": 195,
     "metadata": {},
     "output_type": "execute_result"
    }
   ],
   "source": [
    "risco_free = 0.045\n",
    "sharpe = (top_valorizadas.sort_index() - risco_free) / volatilidade.sort_index()\n",
    "sharpe.head(40)"
   ]
  },
  {
   "cell_type": "markdown",
   "metadata": {},
   "source": [
    "# Max Drowndown calculando:"
   ]
  },
  {
   "cell_type": "code",
   "execution_count": 196,
   "metadata": {},
   "outputs": [
    {
     "data": {
      "text/plain": [
       "PAPEL\n",
       "ABEV3    13.66\n",
       "ABEV3    13.66\n",
       "ABEV3    14.33\n",
       "ABEV3    14.33\n",
       "ABEV3    14.41\n",
       "ABEV3    15.41\n",
       "Name: PREÇO (R$), dtype: float64"
      ]
     },
     "execution_count": 196,
     "metadata": {},
     "output_type": "execute_result"
    }
   ],
   "source": [
    "precos_max_dd = df_precos_setor_macro6.groupby(df_precos_setor_macro6.index)['PREÇO (R$)'].cummax()\n",
    "# precos = df_precos_setor_macro6.groupby(df_precos_setor_macro6)[['PREÇO (R$)']]\n",
    "\n",
    "precos_max_dd.head(6)"
   ]
  },
  {
   "cell_type": "code",
   "execution_count": 197,
   "metadata": {},
   "outputs": [
    {
     "data": {
      "text/plain": [
       "PAPEL\n",
       "ABEV3    13.66\n",
       "ABEV3    13.39\n",
       "ABEV3    14.33\n",
       "ABEV3    14.16\n",
       "ABEV3    14.41\n",
       "ABEV3    15.41\n",
       "Name: PREÇO (R$), dtype: float64"
      ]
     },
     "execution_count": 197,
     "metadata": {},
     "output_type": "execute_result"
    }
   ],
   "source": [
    "precos = df_precos_setor_macro6['PREÇO (R$)']\n",
    "precos.head(6)"
   ]
  },
  {
   "cell_type": "code",
   "execution_count": 198,
   "metadata": {},
   "outputs": [
    {
     "data": {
      "text/plain": [
       "PAPEL\n",
       "ABEV3    0.000000\n",
       "ABEV3   -0.019766\n",
       "ABEV3    0.000000\n",
       "ABEV3   -0.011863\n",
       "ABEV3    0.000000\n",
       "ABEV3    0.000000\n",
       "AESB3    0.000000\n",
       "AESB3   -0.017822\n",
       "AESB3   -0.015842\n",
       "AESB3    0.000000\n",
       "AESB3    0.000000\n",
       "AESB3    0.000000\n",
       "ALPA4    0.000000\n",
       "ALPA4   -0.307127\n",
       "ALPA4   -0.401176\n",
       "ALPA4   -0.455547\n",
       "ALPA4   -0.232917\n",
       "ALPA4   -0.316679\n",
       "ALSO3    0.000000\n",
       "ALSO3   -0.051638\n",
       "ALSO3   -0.022765\n",
       "ALSO3    0.000000\n",
       "ALSO3    0.000000\n",
       "ALSO3    0.000000\n",
       "ANIM3    0.000000\n",
       "ANIM3   -0.278281\n",
       "ANIM3   -0.432127\n",
       "ANIM3   -0.477376\n",
       "ANIM3   -0.323529\n",
       "ANIM3   -0.052036\n",
       "ASAI3    0.000000\n",
       "ASAI3   -0.076845\n",
       "ASAI3   -0.209160\n",
       "ASAI3   -0.374555\n",
       "ASAI3   -0.452926\n",
       "ASAI3   -0.300254\n",
       "AZUL4    0.000000\n",
       "AZUL4   -0.398312\n",
       "AZUL4    0.000000\n",
       "AZUL4   -0.097257\n",
       "AZUL4    0.000000\n",
       "AZUL4    0.000000\n",
       "B3SA3    0.000000\n",
       "B3SA3   -0.185957\n",
       "B3SA3   -0.201389\n",
       "B3SA3   -0.098765\n",
       "B3SA3    0.000000\n",
       "B3SA3    0.000000\n",
       "BBSE3    0.000000\n",
       "BBSE3   -0.094494\n",
       "BBSE3   -0.139492\n",
       "BBSE3   -0.091848\n",
       "BBSE3   -0.181313\n",
       "BBSE3   -0.185548\n",
       "BEEF3    0.000000\n",
       "BEEF3   -0.190136\n",
       "BEEF3   -0.246605\n",
       "BEEF3   -0.388849\n",
       "BEEF3   -0.269478\n",
       "BEEF3   -0.240172\n",
       "Name: PREÇO (R$), dtype: float64"
      ]
     },
     "execution_count": 198,
     "metadata": {},
     "output_type": "execute_result"
    }
   ],
   "source": [
    "drowdowns = ((precos_max_dd - precos) / precos_max_dd)\n",
    "drowdowns.head(60)\n",
    "drowdowns_neg = ((precos - precos_max_dd ) / precos_max_dd)\n",
    "drowdowns_neg.head(60)"
   ]
  },
  {
   "cell_type": "markdown",
   "metadata": {},
   "source": [
    "### Maiore DD's"
   ]
  },
  {
   "cell_type": "code",
   "execution_count": 199,
   "metadata": {},
   "outputs": [
    {
     "data": {
      "text/plain": [
       "PAPEL\n",
       "CBAV3   -0.603150\n",
       "MLAS3   -0.591045\n",
       "HAPV3   -0.491262\n",
       "ANIM3   -0.477376\n",
       "ALPA4   -0.455547\n",
       "RECV3   -0.454402\n",
       "ASAI3   -0.452926\n",
       "CRFB3   -0.424316\n",
       "QUAL3   -0.416799\n",
       "AZUL4   -0.398312\n",
       "CVCB3   -0.395556\n",
       "BEEF3   -0.388849\n",
       "CSNA3   -0.344324\n",
       "RRRP3   -0.342628\n",
       "RDOR3   -0.334169\n",
       "VALE3   -0.324833\n",
       "CEAB3   -0.322148\n",
       "YDUQ3   -0.317522\n",
       "PCAR3   -0.289093\n",
       "NTCO3   -0.278068\n",
       "GOLL4   -0.278068\n",
       "GGBR4   -0.267868\n",
       "LREN3   -0.267684\n",
       "PRIO3   -0.259145\n",
       "MGLU3   -0.252822\n",
       "LWSA3   -0.252730\n",
       "SOMA3   -0.227619\n",
       "BRFS3   -0.226131\n",
       "CMIN3   -0.217228\n",
       "COGN3   -0.214286\n",
       "B3SA3   -0.201389\n",
       "USIM5   -0.199297\n",
       "HYPE3   -0.197198\n",
       "GMAT3   -0.194444\n",
       "BBSE3   -0.185548\n",
       "MRFG3   -0.172727\n",
       "VAMO3   -0.171683\n",
       "SBSP3   -0.171218\n",
       "BRKM5   -0.170167\n",
       "EZTC3   -0.168601\n",
       "Name: PREÇO (R$), dtype: float64"
      ]
     },
     "execution_count": 199,
     "metadata": {},
     "output_type": "execute_result"
    }
   ],
   "source": [
    "max_dd = drowdowns_neg.groupby(drowdowns.index).min()\n",
    "max_dd.sort_values().head(40)\n"
   ]
  },
  {
   "cell_type": "code",
   "execution_count": 200,
   "metadata": {},
   "outputs": [
    {
     "data": {
      "text/plain": [
       "['CBAV3',\n",
       " 'MLAS3',\n",
       " 'HAPV3',\n",
       " 'ANIM3',\n",
       " 'ALPA4',\n",
       " 'RECV3',\n",
       " 'ASAI3',\n",
       " 'CRFB3',\n",
       " 'QUAL3',\n",
       " 'AZUL4',\n",
       " 'CVCB3',\n",
       " 'BEEF3',\n",
       " 'CSNA3',\n",
       " 'RRRP3',\n",
       " 'RDOR3',\n",
       " 'VALE3',\n",
       " 'CEAB3',\n",
       " 'YDUQ3',\n",
       " 'PCAR3',\n",
       " 'NTCO3',\n",
       " 'GOLL4',\n",
       " 'GGBR4',\n",
       " 'LREN3',\n",
       " 'PRIO3',\n",
       " 'MGLU3',\n",
       " 'LWSA3',\n",
       " 'SOMA3',\n",
       " 'BRFS3',\n",
       " 'CMIN3',\n",
       " 'COGN3',\n",
       " 'B3SA3',\n",
       " 'USIM5',\n",
       " 'HYPE3',\n",
       " 'GMAT3',\n",
       " 'BBSE3',\n",
       " 'MRFG3',\n",
       " 'VAMO3',\n",
       " 'SBSP3',\n",
       " 'BRKM5',\n",
       " 'EZTC3',\n",
       " 'SUZB3',\n",
       " 'JBSS3',\n",
       " 'MRVE3',\n",
       " 'CIEL3',\n",
       " 'PETZ3',\n",
       " 'TOTS3',\n",
       " 'RAIZ4',\n",
       " 'ODPV3',\n",
       " 'MOVI3',\n",
       " 'ENEV3',\n",
       " 'PSSA3',\n",
       " 'EMBR3',\n",
       " 'CPLE6',\n",
       " 'CSAN3',\n",
       " 'PETR4',\n",
       " 'RENT3',\n",
       " 'ECOR3',\n",
       " 'EQTL3',\n",
       " 'BPAC11',\n",
       " 'STBP3',\n",
       " 'CPFE3',\n",
       " 'RADL3',\n",
       " 'CMIG4',\n",
       " 'WEGE3',\n",
       " 'ENGI11',\n",
       " 'FLRY3',\n",
       " 'SIMH3',\n",
       " 'VIVT3',\n",
       " 'SANB11',\n",
       " 'CYRE3',\n",
       " 'KLBN11',\n",
       " 'CCRO3',\n",
       " 'TAEE11',\n",
       " 'SMTO3',\n",
       " 'TRPL4',\n",
       " 'ALSO3',\n",
       " 'ITSA4',\n",
       " 'DIRR3',\n",
       " 'CSMG3',\n",
       " 'ITUB4',\n",
       " 'RAIL3',\n",
       " 'MULT3',\n",
       " 'ABEV3',\n",
       " 'AESB3',\n",
       " 'TIMS3',\n",
       " 'EGIE3',\n",
       " 'UGPA3',\n",
       " 'POMO4']"
      ]
     },
     "execution_count": 200,
     "metadata": {},
     "output_type": "execute_result"
    }
   ],
   "source": [
    "lista_piores_dd = list(max_dd.sort_values().index)\n",
    "lista_piores_dd"
   ]
  },
  {
   "cell_type": "markdown",
   "metadata": {},
   "source": [
    "## calculando os valores brutos"
   ]
  },
  {
   "cell_type": "code",
   "execution_count": 201,
   "metadata": {},
   "outputs": [
    {
     "data": {
      "text/plain": [
       "PAPEL\n",
       "VALE3    -30.70\n",
       "RRRP3    -15.36\n",
       "RECV3    -14.35\n",
       "PRIO3    -10.91\n",
       "RDOR3    -10.66\n",
       "SBSP3     -9.53\n",
       "HYPE3     -9.15\n",
       "ASAI3     -8.90\n",
       "GGBR4     -8.77\n",
       "SUZB3     -7.94\n",
       "CBAV3     -7.66\n",
       "BBSE3     -7.01\n",
       "CRFB3     -6.98\n",
       "CSNA3     -6.37\n",
       "ALPA4     -6.20\n",
       "PCAR3     -5.99\n",
       "RENT3     -5.81\n",
       "LREN3     -5.79\n",
       "BEEF3     -5.44\n",
       "AZUL4     -4.72\n",
       "TOTS3     -4.41\n",
       "NTCO3     -4.26\n",
       "BRKM5     -3.97\n",
       "ENGI11    -3.56\n",
       "WEGE3     -3.51\n",
       "YDUQ3     -3.28\n",
       "JBSS3     -3.28\n",
       "VIVT3     -3.16\n",
       "CPFE3     -3.00\n",
       "PSSA3     -2.95\n",
       "QUAL3     -2.63\n",
       "PETR4     -2.62\n",
       "B3SA3     -2.61\n",
       "EQTL3     -2.59\n",
       "HAPV3     -2.53\n",
       "VAMO3     -2.51\n",
       "EZTC3     -2.47\n",
       "SOMA3     -2.39\n",
       "EMBR3     -2.25\n",
       "TAEE11    -2.23\n",
       "Name: PREÇO (R$), dtype: float64"
      ]
     },
     "execution_count": 201,
     "metadata": {},
     "output_type": "execute_result"
    }
   ],
   "source": [
    "drowdowns_bruto = precos_max_dd - precos\n",
    "drowdowns_neg_bruto = precos - precos_max_dd\n",
    "\n",
    "max_dd_bruto = drowdowns_neg_bruto.groupby(drowdowns_bruto.index).min()\n",
    "max_dd_bruto.sort_values().head(40)"
   ]
  },
  {
   "cell_type": "code",
   "execution_count": 202,
   "metadata": {},
   "outputs": [
    {
     "data": {
      "text/plain": [
       "['VALE3',\n",
       " 'RRRP3',\n",
       " 'RECV3',\n",
       " 'PRIO3',\n",
       " 'RDOR3',\n",
       " 'SBSP3',\n",
       " 'HYPE3',\n",
       " 'ASAI3',\n",
       " 'GGBR4',\n",
       " 'SUZB3',\n",
       " 'CBAV3',\n",
       " 'BBSE3',\n",
       " 'CRFB3',\n",
       " 'CSNA3',\n",
       " 'ALPA4',\n",
       " 'PCAR3',\n",
       " 'RENT3',\n",
       " 'LREN3',\n",
       " 'BEEF3',\n",
       " 'AZUL4',\n",
       " 'TOTS3',\n",
       " 'NTCO3',\n",
       " 'BRKM5',\n",
       " 'ENGI11',\n",
       " 'WEGE3',\n",
       " 'YDUQ3',\n",
       " 'JBSS3',\n",
       " 'VIVT3',\n",
       " 'CPFE3',\n",
       " 'PSSA3',\n",
       " 'QUAL3',\n",
       " 'PETR4',\n",
       " 'B3SA3',\n",
       " 'EQTL3',\n",
       " 'HAPV3',\n",
       " 'VAMO3',\n",
       " 'EZTC3',\n",
       " 'SOMA3',\n",
       " 'EMBR3',\n",
       " 'TAEE11',\n",
       " 'RADL3',\n",
       " 'SANB11',\n",
       " 'GOLL4',\n",
       " 'ANIM3',\n",
       " 'SMTO3',\n",
       " 'MLAS3',\n",
       " 'BPAC11',\n",
       " 'BRFS3',\n",
       " 'CVCB3',\n",
       " 'CSAN3',\n",
       " 'USIM5',\n",
       " 'LWSA3',\n",
       " 'ODPV3',\n",
       " 'ENEV3',\n",
       " 'KLBN11',\n",
       " 'MRFG3',\n",
       " 'GMAT3',\n",
       " 'FLRY3',\n",
       " 'TRPL4',\n",
       " 'CMIN3',\n",
       " 'MGLU3',\n",
       " 'MRVE3',\n",
       " 'CYRE3',\n",
       " 'PETZ3',\n",
       " 'CMIG4',\n",
       " 'MOVI3',\n",
       " 'CEAB3',\n",
       " 'ALSO3',\n",
       " 'CIEL3',\n",
       " 'CPLE6',\n",
       " 'STBP3',\n",
       " 'CCRO3',\n",
       " 'ITUB4',\n",
       " 'SIMH3',\n",
       " 'DIRR3',\n",
       " 'MULT3',\n",
       " 'COGN3',\n",
       " 'ECOR3',\n",
       " 'RAIZ4',\n",
       " 'CSMG3',\n",
       " 'RAIL3',\n",
       " 'ITSA4',\n",
       " 'ABEV3',\n",
       " 'AESB3',\n",
       " 'EGIE3',\n",
       " 'TIMS3',\n",
       " 'UGPA3',\n",
       " 'POMO4']"
      ]
     },
     "execution_count": 202,
     "metadata": {},
     "output_type": "execute_result"
    }
   ],
   "source": [
    "lista_piores_dd_bruto = list(max_dd_bruto.sort_values().index)\n",
    "lista_piores_dd_bruto"
   ]
  },
  {
   "cell_type": "code",
   "execution_count": 203,
   "metadata": {},
   "outputs": [
    {
     "data": {
      "text/plain": [
       "PAPEL\n",
       "VALE3     76.758333\n",
       "RENT3     59.441667\n",
       "SBSP3     52.211667\n",
       "SUZB3     44.083333\n",
       "ENGI11    42.860000\n",
       "HYPE3     41.638333\n",
       "EGIE3     41.291667\n",
       "VIVT3     40.635000\n",
       "WEGE3     39.071667\n",
       "TAEE11    36.401667\n",
       "PRIO3     35.501667\n",
       "RRRP3     33.756667\n",
       "BBSE3     33.418333\n",
       "CPFE3     32.171667\n",
       "SMTO3     30.158333\n",
       "SANB11    28.363333\n",
       "TOTS3     28.320000\n",
       "EQTL3     28.008333\n",
       "RDOR3     27.246667\n",
       "GGBR4     26.813333\n",
       "Name: PREÇO (R$), dtype: float64"
      ]
     },
     "execution_count": 203,
     "metadata": {},
     "output_type": "execute_result"
    }
   ],
   "source": [
    "df_media = df_precos_setor_macro6.groupby(df_precos_setor_macro6.index)['PREÇO (R$)'].mean().sort_values(ascending=False)\n",
    "df_media.head(20)"
   ]
  },
  {
   "cell_type": "markdown",
   "metadata": {},
   "source": [
    "# Juntando todos dados no DF"
   ]
  },
  {
   "cell_type": "code",
   "execution_count": 204,
   "metadata": {},
   "outputs": [
    {
     "data": {
      "text/html": [
       "<div>\n",
       "<style scoped>\n",
       "    .dataframe tbody tr th:only-of-type {\n",
       "        vertical-align: middle;\n",
       "    }\n",
       "\n",
       "    .dataframe tbody tr th {\n",
       "        vertical-align: top;\n",
       "    }\n",
       "\n",
       "    .dataframe thead th {\n",
       "        text-align: right;\n",
       "    }\n",
       "</style>\n",
       "<table border=\"1\" class=\"dataframe\">\n",
       "  <thead>\n",
       "    <tr style=\"text-align: right;\">\n",
       "      <th></th>\n",
       "      <th>DATA</th>\n",
       "      <th>NOME</th>\n",
       "      <th>PREÇO (R$)</th>\n",
       "      <th>SETOR ECONÔMICO</th>\n",
       "      <th>SUBSETOR</th>\n",
       "      <th>SEGMENTO</th>\n",
       "      <th>IPCA</th>\n",
       "      <th>SELIC</th>\n",
       "      <th>USD</th>\n",
       "      <th>RETORNOS_SIMPLES</th>\n",
       "      <th>RETORNOS_LOGARITIMOS</th>\n",
       "      <th>RETORNOS_ACUMULADOS</th>\n",
       "    </tr>\n",
       "    <tr>\n",
       "      <th>PAPEL</th>\n",
       "      <th></th>\n",
       "      <th></th>\n",
       "      <th></th>\n",
       "      <th></th>\n",
       "      <th></th>\n",
       "      <th></th>\n",
       "      <th></th>\n",
       "      <th></th>\n",
       "      <th></th>\n",
       "      <th></th>\n",
       "      <th></th>\n",
       "      <th></th>\n",
       "    </tr>\n",
       "  </thead>\n",
       "  <tbody>\n",
       "    <tr>\n",
       "      <th>ABEV3</th>\n",
       "      <td>2023-01-31</td>\n",
       "      <td>AMBEV S/A</td>\n",
       "      <td>13.66</td>\n",
       "      <td>Consumo não Cíclico</td>\n",
       "      <td>Bebidas</td>\n",
       "      <td>Cervejas e Refrigerantes</td>\n",
       "      <td>0.0053</td>\n",
       "      <td>0.0112</td>\n",
       "      <td>5.0987</td>\n",
       "      <td>NaN</td>\n",
       "      <td>NaN</td>\n",
       "      <td>NaN</td>\n",
       "    </tr>\n",
       "    <tr>\n",
       "      <th>ABEV3</th>\n",
       "      <td>2023-02-28</td>\n",
       "      <td>AMBEV S/A</td>\n",
       "      <td>13.39</td>\n",
       "      <td>Consumo não Cíclico</td>\n",
       "      <td>Bebidas</td>\n",
       "      <td>Cervejas e Refrigerantes</td>\n",
       "      <td>0.0084</td>\n",
       "      <td>0.0092</td>\n",
       "      <td>5.2072</td>\n",
       "      <td>-0.019766</td>\n",
       "      <td>-0.019964</td>\n",
       "      <td>-0.019766</td>\n",
       "    </tr>\n",
       "    <tr>\n",
       "      <th>ABEV3</th>\n",
       "      <td>2023-03-31</td>\n",
       "      <td>AMBEV S/A</td>\n",
       "      <td>14.33</td>\n",
       "      <td>Consumo não Cíclico</td>\n",
       "      <td>Bebidas</td>\n",
       "      <td>Cervejas e Refrigerantes</td>\n",
       "      <td>0.0071</td>\n",
       "      <td>0.0117</td>\n",
       "      <td>5.0798</td>\n",
       "      <td>0.070202</td>\n",
       "      <td>0.067847</td>\n",
       "      <td>0.049048</td>\n",
       "    </tr>\n",
       "    <tr>\n",
       "      <th>ABEV3</th>\n",
       "      <td>2023-04-30</td>\n",
       "      <td>AMBEV S/A</td>\n",
       "      <td>14.16</td>\n",
       "      <td>Consumo não Cíclico</td>\n",
       "      <td>Bebidas</td>\n",
       "      <td>Cervejas e Refrigerantes</td>\n",
       "      <td>0.0061</td>\n",
       "      <td>0.0092</td>\n",
       "      <td>5.0001</td>\n",
       "      <td>-0.011863</td>\n",
       "      <td>-0.011934</td>\n",
       "      <td>0.036603</td>\n",
       "    </tr>\n",
       "    <tr>\n",
       "      <th>ABEV3</th>\n",
       "      <td>2023-05-31</td>\n",
       "      <td>AMBEV S/A</td>\n",
       "      <td>14.41</td>\n",
       "      <td>Consumo não Cíclico</td>\n",
       "      <td>Bebidas</td>\n",
       "      <td>Cervejas e Refrigerantes</td>\n",
       "      <td>0.0023</td>\n",
       "      <td>0.0112</td>\n",
       "      <td>5.0953</td>\n",
       "      <td>0.017655</td>\n",
       "      <td>0.017501</td>\n",
       "      <td>0.054905</td>\n",
       "    </tr>\n",
       "    <tr>\n",
       "      <th>...</th>\n",
       "      <td>...</td>\n",
       "      <td>...</td>\n",
       "      <td>...</td>\n",
       "      <td>...</td>\n",
       "      <td>...</td>\n",
       "      <td>...</td>\n",
       "      <td>...</td>\n",
       "      <td>...</td>\n",
       "      <td>...</td>\n",
       "      <td>...</td>\n",
       "      <td>...</td>\n",
       "      <td>...</td>\n",
       "    </tr>\n",
       "    <tr>\n",
       "      <th>YDUQ3</th>\n",
       "      <td>2023-02-28</td>\n",
       "      <td>YDUQS PART</td>\n",
       "      <td>7.05</td>\n",
       "      <td>Consumo Cíclico</td>\n",
       "      <td>Diversos</td>\n",
       "      <td>Serviços Educacionais</td>\n",
       "      <td>0.0084</td>\n",
       "      <td>0.0092</td>\n",
       "      <td>5.2072</td>\n",
       "      <td>-0.317522</td>\n",
       "      <td>-0.382025</td>\n",
       "      <td>-0.317522</td>\n",
       "    </tr>\n",
       "    <tr>\n",
       "      <th>YDUQ3</th>\n",
       "      <td>2023-03-31</td>\n",
       "      <td>YDUQS PART</td>\n",
       "      <td>7.05</td>\n",
       "      <td>Consumo Cíclico</td>\n",
       "      <td>Diversos</td>\n",
       "      <td>Serviços Educacionais</td>\n",
       "      <td>0.0071</td>\n",
       "      <td>0.0117</td>\n",
       "      <td>5.0798</td>\n",
       "      <td>0.000000</td>\n",
       "      <td>0.000000</td>\n",
       "      <td>-0.317522</td>\n",
       "    </tr>\n",
       "    <tr>\n",
       "      <th>YDUQ3</th>\n",
       "      <td>2023-04-30</td>\n",
       "      <td>YDUQS PART</td>\n",
       "      <td>8.12</td>\n",
       "      <td>Consumo Cíclico</td>\n",
       "      <td>Diversos</td>\n",
       "      <td>Serviços Educacionais</td>\n",
       "      <td>0.0061</td>\n",
       "      <td>0.0092</td>\n",
       "      <td>5.0001</td>\n",
       "      <td>0.151773</td>\n",
       "      <td>0.141303</td>\n",
       "      <td>-0.213940</td>\n",
       "    </tr>\n",
       "    <tr>\n",
       "      <th>YDUQ3</th>\n",
       "      <td>2023-05-31</td>\n",
       "      <td>YDUQS PART</td>\n",
       "      <td>14.07</td>\n",
       "      <td>Consumo Cíclico</td>\n",
       "      <td>Diversos</td>\n",
       "      <td>Serviços Educacionais</td>\n",
       "      <td>0.0023</td>\n",
       "      <td>0.0112</td>\n",
       "      <td>5.0953</td>\n",
       "      <td>0.732759</td>\n",
       "      <td>0.549715</td>\n",
       "      <td>0.362052</td>\n",
       "    </tr>\n",
       "    <tr>\n",
       "      <th>YDUQ3</th>\n",
       "      <td>2023-06-30</td>\n",
       "      <td>YDUQS PART</td>\n",
       "      <td>19.82</td>\n",
       "      <td>Consumo Cíclico</td>\n",
       "      <td>Diversos</td>\n",
       "      <td>Serviços Educacionais</td>\n",
       "      <td>-0.0008</td>\n",
       "      <td>0.0107</td>\n",
       "      <td>4.8186</td>\n",
       "      <td>0.408671</td>\n",
       "      <td>0.342647</td>\n",
       "      <td>0.918683</td>\n",
       "    </tr>\n",
       "  </tbody>\n",
       "</table>\n",
       "<p>528 rows × 12 columns</p>\n",
       "</div>"
      ],
      "text/plain": [
       "            DATA        NOME  PREÇO (R$)      SETOR ECONÔMICO  SUBSETOR  \\\n",
       "PAPEL                                                                     \n",
       "ABEV3 2023-01-31   AMBEV S/A       13.66  Consumo não Cíclico   Bebidas   \n",
       "ABEV3 2023-02-28   AMBEV S/A       13.39  Consumo não Cíclico   Bebidas   \n",
       "ABEV3 2023-03-31   AMBEV S/A       14.33  Consumo não Cíclico   Bebidas   \n",
       "ABEV3 2023-04-30   AMBEV S/A       14.16  Consumo não Cíclico   Bebidas   \n",
       "ABEV3 2023-05-31   AMBEV S/A       14.41  Consumo não Cíclico   Bebidas   \n",
       "...          ...         ...         ...                  ...       ...   \n",
       "YDUQ3 2023-02-28  YDUQS PART        7.05      Consumo Cíclico  Diversos   \n",
       "YDUQ3 2023-03-31  YDUQS PART        7.05      Consumo Cíclico  Diversos   \n",
       "YDUQ3 2023-04-30  YDUQS PART        8.12      Consumo Cíclico  Diversos   \n",
       "YDUQ3 2023-05-31  YDUQS PART       14.07      Consumo Cíclico  Diversos   \n",
       "YDUQ3 2023-06-30  YDUQS PART       19.82      Consumo Cíclico  Diversos   \n",
       "\n",
       "                       SEGMENTO    IPCA   SELIC     USD  RETORNOS_SIMPLES  \\\n",
       "PAPEL                                                                       \n",
       "ABEV3  Cervejas e Refrigerantes  0.0053  0.0112  5.0987               NaN   \n",
       "ABEV3  Cervejas e Refrigerantes  0.0084  0.0092  5.2072         -0.019766   \n",
       "ABEV3  Cervejas e Refrigerantes  0.0071  0.0117  5.0798          0.070202   \n",
       "ABEV3  Cervejas e Refrigerantes  0.0061  0.0092  5.0001         -0.011863   \n",
       "ABEV3  Cervejas e Refrigerantes  0.0023  0.0112  5.0953          0.017655   \n",
       "...                         ...     ...     ...     ...               ...   \n",
       "YDUQ3     Serviços Educacionais  0.0084  0.0092  5.2072         -0.317522   \n",
       "YDUQ3     Serviços Educacionais  0.0071  0.0117  5.0798          0.000000   \n",
       "YDUQ3     Serviços Educacionais  0.0061  0.0092  5.0001          0.151773   \n",
       "YDUQ3     Serviços Educacionais  0.0023  0.0112  5.0953          0.732759   \n",
       "YDUQ3     Serviços Educacionais -0.0008  0.0107  4.8186          0.408671   \n",
       "\n",
       "       RETORNOS_LOGARITIMOS  RETORNOS_ACUMULADOS  \n",
       "PAPEL                                             \n",
       "ABEV3                   NaN                  NaN  \n",
       "ABEV3             -0.019964            -0.019766  \n",
       "ABEV3              0.067847             0.049048  \n",
       "ABEV3             -0.011934             0.036603  \n",
       "ABEV3              0.017501             0.054905  \n",
       "...                     ...                  ...  \n",
       "YDUQ3             -0.382025            -0.317522  \n",
       "YDUQ3              0.000000            -0.317522  \n",
       "YDUQ3              0.141303            -0.213940  \n",
       "YDUQ3              0.549715             0.362052  \n",
       "YDUQ3              0.342647             0.918683  \n",
       "\n",
       "[528 rows x 12 columns]"
      ]
     },
     "execution_count": 204,
     "metadata": {},
     "output_type": "execute_result"
    }
   ],
   "source": [
    "df_completo = df_precos_setor_macro6.copy(deep=True)\n",
    "df_completo"
   ]
  },
  {
   "cell_type": "markdown",
   "metadata": {},
   "source": [
    "#### JUNTANDO SHARPE"
   ]
  },
  {
   "cell_type": "code",
   "execution_count": 205,
   "metadata": {},
   "outputs": [
    {
     "data": {
      "text/html": [
       "<div>\n",
       "<style scoped>\n",
       "    .dataframe tbody tr th:only-of-type {\n",
       "        vertical-align: middle;\n",
       "    }\n",
       "\n",
       "    .dataframe tbody tr th {\n",
       "        vertical-align: top;\n",
       "    }\n",
       "\n",
       "    .dataframe thead th {\n",
       "        text-align: right;\n",
       "    }\n",
       "</style>\n",
       "<table border=\"1\" class=\"dataframe\">\n",
       "  <thead>\n",
       "    <tr style=\"text-align: right;\">\n",
       "      <th></th>\n",
       "      <th>DATA</th>\n",
       "      <th>NOME</th>\n",
       "      <th>PREÇO (R$)</th>\n",
       "      <th>SETOR ECONÔMICO</th>\n",
       "      <th>SUBSETOR</th>\n",
       "      <th>SEGMENTO</th>\n",
       "      <th>IPCA</th>\n",
       "      <th>SELIC</th>\n",
       "      <th>USD</th>\n",
       "      <th>RETORNOS_SIMPLES</th>\n",
       "      <th>RETORNOS_LOGARITIMOS</th>\n",
       "      <th>RETORNOS_ACUMULADOS</th>\n",
       "      <th>SHARPE</th>\n",
       "    </tr>\n",
       "    <tr>\n",
       "      <th>PAPEL</th>\n",
       "      <th></th>\n",
       "      <th></th>\n",
       "      <th></th>\n",
       "      <th></th>\n",
       "      <th></th>\n",
       "      <th></th>\n",
       "      <th></th>\n",
       "      <th></th>\n",
       "      <th></th>\n",
       "      <th></th>\n",
       "      <th></th>\n",
       "      <th></th>\n",
       "      <th></th>\n",
       "    </tr>\n",
       "  </thead>\n",
       "  <tbody>\n",
       "    <tr>\n",
       "      <th>ABEV3</th>\n",
       "      <td>2023-01-31</td>\n",
       "      <td>AMBEV S/A</td>\n",
       "      <td>13.66</td>\n",
       "      <td>Consumo não Cíclico</td>\n",
       "      <td>Bebidas</td>\n",
       "      <td>Cervejas e Refrigerantes</td>\n",
       "      <td>0.0053</td>\n",
       "      <td>0.0112</td>\n",
       "      <td>5.0987</td>\n",
       "      <td>NaN</td>\n",
       "      <td>NaN</td>\n",
       "      <td>NaN</td>\n",
       "      <td>1.928270</td>\n",
       "    </tr>\n",
       "    <tr>\n",
       "      <th>ABEV3</th>\n",
       "      <td>2023-02-28</td>\n",
       "      <td>AMBEV S/A</td>\n",
       "      <td>13.39</td>\n",
       "      <td>Consumo não Cíclico</td>\n",
       "      <td>Bebidas</td>\n",
       "      <td>Cervejas e Refrigerantes</td>\n",
       "      <td>0.0084</td>\n",
       "      <td>0.0092</td>\n",
       "      <td>5.2072</td>\n",
       "      <td>-0.019766</td>\n",
       "      <td>-0.019964</td>\n",
       "      <td>-0.019766</td>\n",
       "      <td>1.928270</td>\n",
       "    </tr>\n",
       "    <tr>\n",
       "      <th>ABEV3</th>\n",
       "      <td>2023-03-31</td>\n",
       "      <td>AMBEV S/A</td>\n",
       "      <td>14.33</td>\n",
       "      <td>Consumo não Cíclico</td>\n",
       "      <td>Bebidas</td>\n",
       "      <td>Cervejas e Refrigerantes</td>\n",
       "      <td>0.0071</td>\n",
       "      <td>0.0117</td>\n",
       "      <td>5.0798</td>\n",
       "      <td>0.070202</td>\n",
       "      <td>0.067847</td>\n",
       "      <td>0.049048</td>\n",
       "      <td>1.928270</td>\n",
       "    </tr>\n",
       "    <tr>\n",
       "      <th>ABEV3</th>\n",
       "      <td>2023-04-30</td>\n",
       "      <td>AMBEV S/A</td>\n",
       "      <td>14.16</td>\n",
       "      <td>Consumo não Cíclico</td>\n",
       "      <td>Bebidas</td>\n",
       "      <td>Cervejas e Refrigerantes</td>\n",
       "      <td>0.0061</td>\n",
       "      <td>0.0092</td>\n",
       "      <td>5.0001</td>\n",
       "      <td>-0.011863</td>\n",
       "      <td>-0.011934</td>\n",
       "      <td>0.036603</td>\n",
       "      <td>1.928270</td>\n",
       "    </tr>\n",
       "    <tr>\n",
       "      <th>ABEV3</th>\n",
       "      <td>2023-05-31</td>\n",
       "      <td>AMBEV S/A</td>\n",
       "      <td>14.41</td>\n",
       "      <td>Consumo não Cíclico</td>\n",
       "      <td>Bebidas</td>\n",
       "      <td>Cervejas e Refrigerantes</td>\n",
       "      <td>0.0023</td>\n",
       "      <td>0.0112</td>\n",
       "      <td>5.0953</td>\n",
       "      <td>0.017655</td>\n",
       "      <td>0.017501</td>\n",
       "      <td>0.054905</td>\n",
       "      <td>1.928270</td>\n",
       "    </tr>\n",
       "    <tr>\n",
       "      <th>...</th>\n",
       "      <td>...</td>\n",
       "      <td>...</td>\n",
       "      <td>...</td>\n",
       "      <td>...</td>\n",
       "      <td>...</td>\n",
       "      <td>...</td>\n",
       "      <td>...</td>\n",
       "      <td>...</td>\n",
       "      <td>...</td>\n",
       "      <td>...</td>\n",
       "      <td>...</td>\n",
       "      <td>...</td>\n",
       "      <td>...</td>\n",
       "    </tr>\n",
       "    <tr>\n",
       "      <th>YDUQ3</th>\n",
       "      <td>2023-02-28</td>\n",
       "      <td>YDUQS PART</td>\n",
       "      <td>7.05</td>\n",
       "      <td>Consumo Cíclico</td>\n",
       "      <td>Diversos</td>\n",
       "      <td>Serviços Educacionais</td>\n",
       "      <td>0.0084</td>\n",
       "      <td>0.0092</td>\n",
       "      <td>5.2072</td>\n",
       "      <td>-0.317522</td>\n",
       "      <td>-0.382025</td>\n",
       "      <td>-0.317522</td>\n",
       "      <td>2.188639</td>\n",
       "    </tr>\n",
       "    <tr>\n",
       "      <th>YDUQ3</th>\n",
       "      <td>2023-03-31</td>\n",
       "      <td>YDUQS PART</td>\n",
       "      <td>7.05</td>\n",
       "      <td>Consumo Cíclico</td>\n",
       "      <td>Diversos</td>\n",
       "      <td>Serviços Educacionais</td>\n",
       "      <td>0.0071</td>\n",
       "      <td>0.0117</td>\n",
       "      <td>5.0798</td>\n",
       "      <td>0.000000</td>\n",
       "      <td>0.000000</td>\n",
       "      <td>-0.317522</td>\n",
       "      <td>2.188639</td>\n",
       "    </tr>\n",
       "    <tr>\n",
       "      <th>YDUQ3</th>\n",
       "      <td>2023-04-30</td>\n",
       "      <td>YDUQS PART</td>\n",
       "      <td>8.12</td>\n",
       "      <td>Consumo Cíclico</td>\n",
       "      <td>Diversos</td>\n",
       "      <td>Serviços Educacionais</td>\n",
       "      <td>0.0061</td>\n",
       "      <td>0.0092</td>\n",
       "      <td>5.0001</td>\n",
       "      <td>0.151773</td>\n",
       "      <td>0.141303</td>\n",
       "      <td>-0.213940</td>\n",
       "      <td>2.188639</td>\n",
       "    </tr>\n",
       "    <tr>\n",
       "      <th>YDUQ3</th>\n",
       "      <td>2023-05-31</td>\n",
       "      <td>YDUQS PART</td>\n",
       "      <td>14.07</td>\n",
       "      <td>Consumo Cíclico</td>\n",
       "      <td>Diversos</td>\n",
       "      <td>Serviços Educacionais</td>\n",
       "      <td>0.0023</td>\n",
       "      <td>0.0112</td>\n",
       "      <td>5.0953</td>\n",
       "      <td>0.732759</td>\n",
       "      <td>0.549715</td>\n",
       "      <td>0.362052</td>\n",
       "      <td>2.188639</td>\n",
       "    </tr>\n",
       "    <tr>\n",
       "      <th>YDUQ3</th>\n",
       "      <td>2023-06-30</td>\n",
       "      <td>YDUQS PART</td>\n",
       "      <td>19.82</td>\n",
       "      <td>Consumo Cíclico</td>\n",
       "      <td>Diversos</td>\n",
       "      <td>Serviços Educacionais</td>\n",
       "      <td>-0.0008</td>\n",
       "      <td>0.0107</td>\n",
       "      <td>4.8186</td>\n",
       "      <td>0.408671</td>\n",
       "      <td>0.342647</td>\n",
       "      <td>0.918683</td>\n",
       "      <td>2.188639</td>\n",
       "    </tr>\n",
       "  </tbody>\n",
       "</table>\n",
       "<p>528 rows × 13 columns</p>\n",
       "</div>"
      ],
      "text/plain": [
       "            DATA        NOME  PREÇO (R$)      SETOR ECONÔMICO  SUBSETOR  \\\n",
       "PAPEL                                                                     \n",
       "ABEV3 2023-01-31   AMBEV S/A       13.66  Consumo não Cíclico   Bebidas   \n",
       "ABEV3 2023-02-28   AMBEV S/A       13.39  Consumo não Cíclico   Bebidas   \n",
       "ABEV3 2023-03-31   AMBEV S/A       14.33  Consumo não Cíclico   Bebidas   \n",
       "ABEV3 2023-04-30   AMBEV S/A       14.16  Consumo não Cíclico   Bebidas   \n",
       "ABEV3 2023-05-31   AMBEV S/A       14.41  Consumo não Cíclico   Bebidas   \n",
       "...          ...         ...         ...                  ...       ...   \n",
       "YDUQ3 2023-02-28  YDUQS PART        7.05      Consumo Cíclico  Diversos   \n",
       "YDUQ3 2023-03-31  YDUQS PART        7.05      Consumo Cíclico  Diversos   \n",
       "YDUQ3 2023-04-30  YDUQS PART        8.12      Consumo Cíclico  Diversos   \n",
       "YDUQ3 2023-05-31  YDUQS PART       14.07      Consumo Cíclico  Diversos   \n",
       "YDUQ3 2023-06-30  YDUQS PART       19.82      Consumo Cíclico  Diversos   \n",
       "\n",
       "                       SEGMENTO    IPCA   SELIC     USD  RETORNOS_SIMPLES  \\\n",
       "PAPEL                                                                       \n",
       "ABEV3  Cervejas e Refrigerantes  0.0053  0.0112  5.0987               NaN   \n",
       "ABEV3  Cervejas e Refrigerantes  0.0084  0.0092  5.2072         -0.019766   \n",
       "ABEV3  Cervejas e Refrigerantes  0.0071  0.0117  5.0798          0.070202   \n",
       "ABEV3  Cervejas e Refrigerantes  0.0061  0.0092  5.0001         -0.011863   \n",
       "ABEV3  Cervejas e Refrigerantes  0.0023  0.0112  5.0953          0.017655   \n",
       "...                         ...     ...     ...     ...               ...   \n",
       "YDUQ3     Serviços Educacionais  0.0084  0.0092  5.2072         -0.317522   \n",
       "YDUQ3     Serviços Educacionais  0.0071  0.0117  5.0798          0.000000   \n",
       "YDUQ3     Serviços Educacionais  0.0061  0.0092  5.0001          0.151773   \n",
       "YDUQ3     Serviços Educacionais  0.0023  0.0112  5.0953          0.732759   \n",
       "YDUQ3     Serviços Educacionais -0.0008  0.0107  4.8186          0.408671   \n",
       "\n",
       "       RETORNOS_LOGARITIMOS  RETORNOS_ACUMULADOS    SHARPE  \n",
       "PAPEL                                                       \n",
       "ABEV3                   NaN                  NaN  1.928270  \n",
       "ABEV3             -0.019964            -0.019766  1.928270  \n",
       "ABEV3              0.067847             0.049048  1.928270  \n",
       "ABEV3             -0.011934             0.036603  1.928270  \n",
       "ABEV3              0.017501             0.054905  1.928270  \n",
       "...                     ...                  ...       ...  \n",
       "YDUQ3             -0.382025            -0.317522  2.188639  \n",
       "YDUQ3              0.000000            -0.317522  2.188639  \n",
       "YDUQ3              0.141303            -0.213940  2.188639  \n",
       "YDUQ3              0.549715             0.362052  2.188639  \n",
       "YDUQ3              0.342647             0.918683  2.188639  \n",
       "\n",
       "[528 rows x 13 columns]"
      ]
     },
     "execution_count": 205,
     "metadata": {},
     "output_type": "execute_result"
    }
   ],
   "source": [
    "t1 = pd.merge(df_completo, sharpe.to_frame(name='SHARPE'), right_index=True,left_index=True, how='outer')\n",
    "t1"
   ]
  },
  {
   "cell_type": "markdown",
   "metadata": {},
   "source": [
    "#### JUNTANDO MEDIA"
   ]
  },
  {
   "cell_type": "code",
   "execution_count": 206,
   "metadata": {},
   "outputs": [
    {
     "data": {
      "text/html": [
       "<div>\n",
       "<style scoped>\n",
       "    .dataframe tbody tr th:only-of-type {\n",
       "        vertical-align: middle;\n",
       "    }\n",
       "\n",
       "    .dataframe tbody tr th {\n",
       "        vertical-align: top;\n",
       "    }\n",
       "\n",
       "    .dataframe thead th {\n",
       "        text-align: right;\n",
       "    }\n",
       "</style>\n",
       "<table border=\"1\" class=\"dataframe\">\n",
       "  <thead>\n",
       "    <tr style=\"text-align: right;\">\n",
       "      <th></th>\n",
       "      <th>DATA</th>\n",
       "      <th>NOME</th>\n",
       "      <th>PREÇO (R$)</th>\n",
       "      <th>SETOR ECONÔMICO</th>\n",
       "      <th>SUBSETOR</th>\n",
       "      <th>SEGMENTO</th>\n",
       "      <th>IPCA</th>\n",
       "      <th>SELIC</th>\n",
       "      <th>USD</th>\n",
       "      <th>RETORNOS_SIMPLES</th>\n",
       "      <th>RETORNOS_LOGARITIMOS</th>\n",
       "      <th>RETORNOS_ACUMULADOS</th>\n",
       "      <th>SHARPE</th>\n",
       "      <th>MÉDIA</th>\n",
       "    </tr>\n",
       "    <tr>\n",
       "      <th>PAPEL</th>\n",
       "      <th></th>\n",
       "      <th></th>\n",
       "      <th></th>\n",
       "      <th></th>\n",
       "      <th></th>\n",
       "      <th></th>\n",
       "      <th></th>\n",
       "      <th></th>\n",
       "      <th></th>\n",
       "      <th></th>\n",
       "      <th></th>\n",
       "      <th></th>\n",
       "      <th></th>\n",
       "      <th></th>\n",
       "    </tr>\n",
       "  </thead>\n",
       "  <tbody>\n",
       "    <tr>\n",
       "      <th>ABEV3</th>\n",
       "      <td>2023-01-31</td>\n",
       "      <td>AMBEV S/A</td>\n",
       "      <td>13.66</td>\n",
       "      <td>Consumo não Cíclico</td>\n",
       "      <td>Bebidas</td>\n",
       "      <td>Cervejas e Refrigerantes</td>\n",
       "      <td>0.0053</td>\n",
       "      <td>0.0112</td>\n",
       "      <td>5.0987</td>\n",
       "      <td>NaN</td>\n",
       "      <td>NaN</td>\n",
       "      <td>NaN</td>\n",
       "      <td>1.928270</td>\n",
       "      <td>14.226667</td>\n",
       "    </tr>\n",
       "    <tr>\n",
       "      <th>ABEV3</th>\n",
       "      <td>2023-02-28</td>\n",
       "      <td>AMBEV S/A</td>\n",
       "      <td>13.39</td>\n",
       "      <td>Consumo não Cíclico</td>\n",
       "      <td>Bebidas</td>\n",
       "      <td>Cervejas e Refrigerantes</td>\n",
       "      <td>0.0084</td>\n",
       "      <td>0.0092</td>\n",
       "      <td>5.2072</td>\n",
       "      <td>-0.019766</td>\n",
       "      <td>-0.019964</td>\n",
       "      <td>-0.019766</td>\n",
       "      <td>1.928270</td>\n",
       "      <td>14.226667</td>\n",
       "    </tr>\n",
       "    <tr>\n",
       "      <th>ABEV3</th>\n",
       "      <td>2023-03-31</td>\n",
       "      <td>AMBEV S/A</td>\n",
       "      <td>14.33</td>\n",
       "      <td>Consumo não Cíclico</td>\n",
       "      <td>Bebidas</td>\n",
       "      <td>Cervejas e Refrigerantes</td>\n",
       "      <td>0.0071</td>\n",
       "      <td>0.0117</td>\n",
       "      <td>5.0798</td>\n",
       "      <td>0.070202</td>\n",
       "      <td>0.067847</td>\n",
       "      <td>0.049048</td>\n",
       "      <td>1.928270</td>\n",
       "      <td>14.226667</td>\n",
       "    </tr>\n",
       "    <tr>\n",
       "      <th>ABEV3</th>\n",
       "      <td>2023-04-30</td>\n",
       "      <td>AMBEV S/A</td>\n",
       "      <td>14.16</td>\n",
       "      <td>Consumo não Cíclico</td>\n",
       "      <td>Bebidas</td>\n",
       "      <td>Cervejas e Refrigerantes</td>\n",
       "      <td>0.0061</td>\n",
       "      <td>0.0092</td>\n",
       "      <td>5.0001</td>\n",
       "      <td>-0.011863</td>\n",
       "      <td>-0.011934</td>\n",
       "      <td>0.036603</td>\n",
       "      <td>1.928270</td>\n",
       "      <td>14.226667</td>\n",
       "    </tr>\n",
       "    <tr>\n",
       "      <th>ABEV3</th>\n",
       "      <td>2023-05-31</td>\n",
       "      <td>AMBEV S/A</td>\n",
       "      <td>14.41</td>\n",
       "      <td>Consumo não Cíclico</td>\n",
       "      <td>Bebidas</td>\n",
       "      <td>Cervejas e Refrigerantes</td>\n",
       "      <td>0.0023</td>\n",
       "      <td>0.0112</td>\n",
       "      <td>5.0953</td>\n",
       "      <td>0.017655</td>\n",
       "      <td>0.017501</td>\n",
       "      <td>0.054905</td>\n",
       "      <td>1.928270</td>\n",
       "      <td>14.226667</td>\n",
       "    </tr>\n",
       "    <tr>\n",
       "      <th>...</th>\n",
       "      <td>...</td>\n",
       "      <td>...</td>\n",
       "      <td>...</td>\n",
       "      <td>...</td>\n",
       "      <td>...</td>\n",
       "      <td>...</td>\n",
       "      <td>...</td>\n",
       "      <td>...</td>\n",
       "      <td>...</td>\n",
       "      <td>...</td>\n",
       "      <td>...</td>\n",
       "      <td>...</td>\n",
       "      <td>...</td>\n",
       "      <td>...</td>\n",
       "    </tr>\n",
       "    <tr>\n",
       "      <th>YDUQ3</th>\n",
       "      <td>2023-02-28</td>\n",
       "      <td>YDUQS PART</td>\n",
       "      <td>7.05</td>\n",
       "      <td>Consumo Cíclico</td>\n",
       "      <td>Diversos</td>\n",
       "      <td>Serviços Educacionais</td>\n",
       "      <td>0.0084</td>\n",
       "      <td>0.0092</td>\n",
       "      <td>5.2072</td>\n",
       "      <td>-0.317522</td>\n",
       "      <td>-0.382025</td>\n",
       "      <td>-0.317522</td>\n",
       "      <td>2.188639</td>\n",
       "      <td>11.073333</td>\n",
       "    </tr>\n",
       "    <tr>\n",
       "      <th>YDUQ3</th>\n",
       "      <td>2023-03-31</td>\n",
       "      <td>YDUQS PART</td>\n",
       "      <td>7.05</td>\n",
       "      <td>Consumo Cíclico</td>\n",
       "      <td>Diversos</td>\n",
       "      <td>Serviços Educacionais</td>\n",
       "      <td>0.0071</td>\n",
       "      <td>0.0117</td>\n",
       "      <td>5.0798</td>\n",
       "      <td>0.000000</td>\n",
       "      <td>0.000000</td>\n",
       "      <td>-0.317522</td>\n",
       "      <td>2.188639</td>\n",
       "      <td>11.073333</td>\n",
       "    </tr>\n",
       "    <tr>\n",
       "      <th>YDUQ3</th>\n",
       "      <td>2023-04-30</td>\n",
       "      <td>YDUQS PART</td>\n",
       "      <td>8.12</td>\n",
       "      <td>Consumo Cíclico</td>\n",
       "      <td>Diversos</td>\n",
       "      <td>Serviços Educacionais</td>\n",
       "      <td>0.0061</td>\n",
       "      <td>0.0092</td>\n",
       "      <td>5.0001</td>\n",
       "      <td>0.151773</td>\n",
       "      <td>0.141303</td>\n",
       "      <td>-0.213940</td>\n",
       "      <td>2.188639</td>\n",
       "      <td>11.073333</td>\n",
       "    </tr>\n",
       "    <tr>\n",
       "      <th>YDUQ3</th>\n",
       "      <td>2023-05-31</td>\n",
       "      <td>YDUQS PART</td>\n",
       "      <td>14.07</td>\n",
       "      <td>Consumo Cíclico</td>\n",
       "      <td>Diversos</td>\n",
       "      <td>Serviços Educacionais</td>\n",
       "      <td>0.0023</td>\n",
       "      <td>0.0112</td>\n",
       "      <td>5.0953</td>\n",
       "      <td>0.732759</td>\n",
       "      <td>0.549715</td>\n",
       "      <td>0.362052</td>\n",
       "      <td>2.188639</td>\n",
       "      <td>11.073333</td>\n",
       "    </tr>\n",
       "    <tr>\n",
       "      <th>YDUQ3</th>\n",
       "      <td>2023-06-30</td>\n",
       "      <td>YDUQS PART</td>\n",
       "      <td>19.82</td>\n",
       "      <td>Consumo Cíclico</td>\n",
       "      <td>Diversos</td>\n",
       "      <td>Serviços Educacionais</td>\n",
       "      <td>-0.0008</td>\n",
       "      <td>0.0107</td>\n",
       "      <td>4.8186</td>\n",
       "      <td>0.408671</td>\n",
       "      <td>0.342647</td>\n",
       "      <td>0.918683</td>\n",
       "      <td>2.188639</td>\n",
       "      <td>11.073333</td>\n",
       "    </tr>\n",
       "  </tbody>\n",
       "</table>\n",
       "<p>528 rows × 14 columns</p>\n",
       "</div>"
      ],
      "text/plain": [
       "            DATA        NOME  PREÇO (R$)      SETOR ECONÔMICO  SUBSETOR  \\\n",
       "PAPEL                                                                     \n",
       "ABEV3 2023-01-31   AMBEV S/A       13.66  Consumo não Cíclico   Bebidas   \n",
       "ABEV3 2023-02-28   AMBEV S/A       13.39  Consumo não Cíclico   Bebidas   \n",
       "ABEV3 2023-03-31   AMBEV S/A       14.33  Consumo não Cíclico   Bebidas   \n",
       "ABEV3 2023-04-30   AMBEV S/A       14.16  Consumo não Cíclico   Bebidas   \n",
       "ABEV3 2023-05-31   AMBEV S/A       14.41  Consumo não Cíclico   Bebidas   \n",
       "...          ...         ...         ...                  ...       ...   \n",
       "YDUQ3 2023-02-28  YDUQS PART        7.05      Consumo Cíclico  Diversos   \n",
       "YDUQ3 2023-03-31  YDUQS PART        7.05      Consumo Cíclico  Diversos   \n",
       "YDUQ3 2023-04-30  YDUQS PART        8.12      Consumo Cíclico  Diversos   \n",
       "YDUQ3 2023-05-31  YDUQS PART       14.07      Consumo Cíclico  Diversos   \n",
       "YDUQ3 2023-06-30  YDUQS PART       19.82      Consumo Cíclico  Diversos   \n",
       "\n",
       "                       SEGMENTO    IPCA   SELIC     USD  RETORNOS_SIMPLES  \\\n",
       "PAPEL                                                                       \n",
       "ABEV3  Cervejas e Refrigerantes  0.0053  0.0112  5.0987               NaN   \n",
       "ABEV3  Cervejas e Refrigerantes  0.0084  0.0092  5.2072         -0.019766   \n",
       "ABEV3  Cervejas e Refrigerantes  0.0071  0.0117  5.0798          0.070202   \n",
       "ABEV3  Cervejas e Refrigerantes  0.0061  0.0092  5.0001         -0.011863   \n",
       "ABEV3  Cervejas e Refrigerantes  0.0023  0.0112  5.0953          0.017655   \n",
       "...                         ...     ...     ...     ...               ...   \n",
       "YDUQ3     Serviços Educacionais  0.0084  0.0092  5.2072         -0.317522   \n",
       "YDUQ3     Serviços Educacionais  0.0071  0.0117  5.0798          0.000000   \n",
       "YDUQ3     Serviços Educacionais  0.0061  0.0092  5.0001          0.151773   \n",
       "YDUQ3     Serviços Educacionais  0.0023  0.0112  5.0953          0.732759   \n",
       "YDUQ3     Serviços Educacionais -0.0008  0.0107  4.8186          0.408671   \n",
       "\n",
       "       RETORNOS_LOGARITIMOS  RETORNOS_ACUMULADOS    SHARPE      MÉDIA  \n",
       "PAPEL                                                                  \n",
       "ABEV3                   NaN                  NaN  1.928270  14.226667  \n",
       "ABEV3             -0.019964            -0.019766  1.928270  14.226667  \n",
       "ABEV3              0.067847             0.049048  1.928270  14.226667  \n",
       "ABEV3             -0.011934             0.036603  1.928270  14.226667  \n",
       "ABEV3              0.017501             0.054905  1.928270  14.226667  \n",
       "...                     ...                  ...       ...        ...  \n",
       "YDUQ3             -0.382025            -0.317522  2.188639  11.073333  \n",
       "YDUQ3              0.000000            -0.317522  2.188639  11.073333  \n",
       "YDUQ3              0.141303            -0.213940  2.188639  11.073333  \n",
       "YDUQ3              0.549715             0.362052  2.188639  11.073333  \n",
       "YDUQ3              0.342647             0.918683  2.188639  11.073333  \n",
       "\n",
       "[528 rows x 14 columns]"
      ]
     },
     "execution_count": 206,
     "metadata": {},
     "output_type": "execute_result"
    }
   ],
   "source": [
    "t2 = pd.merge(t1, df_media.to_frame(name='MÉDIA'), right_index=True,left_index=True, how='outer')\n",
    "t2"
   ]
  },
  {
   "cell_type": "markdown",
   "metadata": {},
   "source": [
    "#### JUNTANDO MAX DROW DOWN"
   ]
  },
  {
   "cell_type": "code",
   "execution_count": 207,
   "metadata": {},
   "outputs": [
    {
     "data": {
      "text/html": [
       "<div>\n",
       "<style scoped>\n",
       "    .dataframe tbody tr th:only-of-type {\n",
       "        vertical-align: middle;\n",
       "    }\n",
       "\n",
       "    .dataframe tbody tr th {\n",
       "        vertical-align: top;\n",
       "    }\n",
       "\n",
       "    .dataframe thead th {\n",
       "        text-align: right;\n",
       "    }\n",
       "</style>\n",
       "<table border=\"1\" class=\"dataframe\">\n",
       "  <thead>\n",
       "    <tr style=\"text-align: right;\">\n",
       "      <th></th>\n",
       "      <th>DATA</th>\n",
       "      <th>NOME</th>\n",
       "      <th>PREÇO (R$)</th>\n",
       "      <th>SETOR ECONÔMICO</th>\n",
       "      <th>SUBSETOR</th>\n",
       "      <th>SEGMENTO</th>\n",
       "      <th>IPCA</th>\n",
       "      <th>SELIC</th>\n",
       "      <th>USD</th>\n",
       "      <th>RETORNOS_SIMPLES</th>\n",
       "      <th>RETORNOS_LOGARITIMOS</th>\n",
       "      <th>RETORNOS_ACUMULADOS</th>\n",
       "      <th>SHARPE</th>\n",
       "      <th>MÉDIA</th>\n",
       "      <th>MÁXIMO DROW DOWN</th>\n",
       "    </tr>\n",
       "    <tr>\n",
       "      <th>PAPEL</th>\n",
       "      <th></th>\n",
       "      <th></th>\n",
       "      <th></th>\n",
       "      <th></th>\n",
       "      <th></th>\n",
       "      <th></th>\n",
       "      <th></th>\n",
       "      <th></th>\n",
       "      <th></th>\n",
       "      <th></th>\n",
       "      <th></th>\n",
       "      <th></th>\n",
       "      <th></th>\n",
       "      <th></th>\n",
       "      <th></th>\n",
       "    </tr>\n",
       "  </thead>\n",
       "  <tbody>\n",
       "    <tr>\n",
       "      <th>ABEV3</th>\n",
       "      <td>2023-01-31</td>\n",
       "      <td>AMBEV S/A</td>\n",
       "      <td>13.66</td>\n",
       "      <td>Consumo não Cíclico</td>\n",
       "      <td>Bebidas</td>\n",
       "      <td>Cervejas e Refrigerantes</td>\n",
       "      <td>0.0053</td>\n",
       "      <td>0.0112</td>\n",
       "      <td>5.0987</td>\n",
       "      <td>NaN</td>\n",
       "      <td>NaN</td>\n",
       "      <td>NaN</td>\n",
       "      <td>1.928270</td>\n",
       "      <td>14.226667</td>\n",
       "      <td>-0.019766</td>\n",
       "    </tr>\n",
       "    <tr>\n",
       "      <th>ABEV3</th>\n",
       "      <td>2023-02-28</td>\n",
       "      <td>AMBEV S/A</td>\n",
       "      <td>13.39</td>\n",
       "      <td>Consumo não Cíclico</td>\n",
       "      <td>Bebidas</td>\n",
       "      <td>Cervejas e Refrigerantes</td>\n",
       "      <td>0.0084</td>\n",
       "      <td>0.0092</td>\n",
       "      <td>5.2072</td>\n",
       "      <td>-0.019766</td>\n",
       "      <td>-0.019964</td>\n",
       "      <td>-0.019766</td>\n",
       "      <td>1.928270</td>\n",
       "      <td>14.226667</td>\n",
       "      <td>-0.019766</td>\n",
       "    </tr>\n",
       "    <tr>\n",
       "      <th>ABEV3</th>\n",
       "      <td>2023-03-31</td>\n",
       "      <td>AMBEV S/A</td>\n",
       "      <td>14.33</td>\n",
       "      <td>Consumo não Cíclico</td>\n",
       "      <td>Bebidas</td>\n",
       "      <td>Cervejas e Refrigerantes</td>\n",
       "      <td>0.0071</td>\n",
       "      <td>0.0117</td>\n",
       "      <td>5.0798</td>\n",
       "      <td>0.070202</td>\n",
       "      <td>0.067847</td>\n",
       "      <td>0.049048</td>\n",
       "      <td>1.928270</td>\n",
       "      <td>14.226667</td>\n",
       "      <td>-0.019766</td>\n",
       "    </tr>\n",
       "    <tr>\n",
       "      <th>ABEV3</th>\n",
       "      <td>2023-04-30</td>\n",
       "      <td>AMBEV S/A</td>\n",
       "      <td>14.16</td>\n",
       "      <td>Consumo não Cíclico</td>\n",
       "      <td>Bebidas</td>\n",
       "      <td>Cervejas e Refrigerantes</td>\n",
       "      <td>0.0061</td>\n",
       "      <td>0.0092</td>\n",
       "      <td>5.0001</td>\n",
       "      <td>-0.011863</td>\n",
       "      <td>-0.011934</td>\n",
       "      <td>0.036603</td>\n",
       "      <td>1.928270</td>\n",
       "      <td>14.226667</td>\n",
       "      <td>-0.019766</td>\n",
       "    </tr>\n",
       "    <tr>\n",
       "      <th>ABEV3</th>\n",
       "      <td>2023-05-31</td>\n",
       "      <td>AMBEV S/A</td>\n",
       "      <td>14.41</td>\n",
       "      <td>Consumo não Cíclico</td>\n",
       "      <td>Bebidas</td>\n",
       "      <td>Cervejas e Refrigerantes</td>\n",
       "      <td>0.0023</td>\n",
       "      <td>0.0112</td>\n",
       "      <td>5.0953</td>\n",
       "      <td>0.017655</td>\n",
       "      <td>0.017501</td>\n",
       "      <td>0.054905</td>\n",
       "      <td>1.928270</td>\n",
       "      <td>14.226667</td>\n",
       "      <td>-0.019766</td>\n",
       "    </tr>\n",
       "    <tr>\n",
       "      <th>...</th>\n",
       "      <td>...</td>\n",
       "      <td>...</td>\n",
       "      <td>...</td>\n",
       "      <td>...</td>\n",
       "      <td>...</td>\n",
       "      <td>...</td>\n",
       "      <td>...</td>\n",
       "      <td>...</td>\n",
       "      <td>...</td>\n",
       "      <td>...</td>\n",
       "      <td>...</td>\n",
       "      <td>...</td>\n",
       "      <td>...</td>\n",
       "      <td>...</td>\n",
       "      <td>...</td>\n",
       "    </tr>\n",
       "    <tr>\n",
       "      <th>YDUQ3</th>\n",
       "      <td>2023-02-28</td>\n",
       "      <td>YDUQS PART</td>\n",
       "      <td>7.05</td>\n",
       "      <td>Consumo Cíclico</td>\n",
       "      <td>Diversos</td>\n",
       "      <td>Serviços Educacionais</td>\n",
       "      <td>0.0084</td>\n",
       "      <td>0.0092</td>\n",
       "      <td>5.2072</td>\n",
       "      <td>-0.317522</td>\n",
       "      <td>-0.382025</td>\n",
       "      <td>-0.317522</td>\n",
       "      <td>2.188639</td>\n",
       "      <td>11.073333</td>\n",
       "      <td>-0.317522</td>\n",
       "    </tr>\n",
       "    <tr>\n",
       "      <th>YDUQ3</th>\n",
       "      <td>2023-03-31</td>\n",
       "      <td>YDUQS PART</td>\n",
       "      <td>7.05</td>\n",
       "      <td>Consumo Cíclico</td>\n",
       "      <td>Diversos</td>\n",
       "      <td>Serviços Educacionais</td>\n",
       "      <td>0.0071</td>\n",
       "      <td>0.0117</td>\n",
       "      <td>5.0798</td>\n",
       "      <td>0.000000</td>\n",
       "      <td>0.000000</td>\n",
       "      <td>-0.317522</td>\n",
       "      <td>2.188639</td>\n",
       "      <td>11.073333</td>\n",
       "      <td>-0.317522</td>\n",
       "    </tr>\n",
       "    <tr>\n",
       "      <th>YDUQ3</th>\n",
       "      <td>2023-04-30</td>\n",
       "      <td>YDUQS PART</td>\n",
       "      <td>8.12</td>\n",
       "      <td>Consumo Cíclico</td>\n",
       "      <td>Diversos</td>\n",
       "      <td>Serviços Educacionais</td>\n",
       "      <td>0.0061</td>\n",
       "      <td>0.0092</td>\n",
       "      <td>5.0001</td>\n",
       "      <td>0.151773</td>\n",
       "      <td>0.141303</td>\n",
       "      <td>-0.213940</td>\n",
       "      <td>2.188639</td>\n",
       "      <td>11.073333</td>\n",
       "      <td>-0.317522</td>\n",
       "    </tr>\n",
       "    <tr>\n",
       "      <th>YDUQ3</th>\n",
       "      <td>2023-05-31</td>\n",
       "      <td>YDUQS PART</td>\n",
       "      <td>14.07</td>\n",
       "      <td>Consumo Cíclico</td>\n",
       "      <td>Diversos</td>\n",
       "      <td>Serviços Educacionais</td>\n",
       "      <td>0.0023</td>\n",
       "      <td>0.0112</td>\n",
       "      <td>5.0953</td>\n",
       "      <td>0.732759</td>\n",
       "      <td>0.549715</td>\n",
       "      <td>0.362052</td>\n",
       "      <td>2.188639</td>\n",
       "      <td>11.073333</td>\n",
       "      <td>-0.317522</td>\n",
       "    </tr>\n",
       "    <tr>\n",
       "      <th>YDUQ3</th>\n",
       "      <td>2023-06-30</td>\n",
       "      <td>YDUQS PART</td>\n",
       "      <td>19.82</td>\n",
       "      <td>Consumo Cíclico</td>\n",
       "      <td>Diversos</td>\n",
       "      <td>Serviços Educacionais</td>\n",
       "      <td>-0.0008</td>\n",
       "      <td>0.0107</td>\n",
       "      <td>4.8186</td>\n",
       "      <td>0.408671</td>\n",
       "      <td>0.342647</td>\n",
       "      <td>0.918683</td>\n",
       "      <td>2.188639</td>\n",
       "      <td>11.073333</td>\n",
       "      <td>-0.317522</td>\n",
       "    </tr>\n",
       "  </tbody>\n",
       "</table>\n",
       "<p>528 rows × 15 columns</p>\n",
       "</div>"
      ],
      "text/plain": [
       "            DATA        NOME  PREÇO (R$)      SETOR ECONÔMICO  SUBSETOR  \\\n",
       "PAPEL                                                                     \n",
       "ABEV3 2023-01-31   AMBEV S/A       13.66  Consumo não Cíclico   Bebidas   \n",
       "ABEV3 2023-02-28   AMBEV S/A       13.39  Consumo não Cíclico   Bebidas   \n",
       "ABEV3 2023-03-31   AMBEV S/A       14.33  Consumo não Cíclico   Bebidas   \n",
       "ABEV3 2023-04-30   AMBEV S/A       14.16  Consumo não Cíclico   Bebidas   \n",
       "ABEV3 2023-05-31   AMBEV S/A       14.41  Consumo não Cíclico   Bebidas   \n",
       "...          ...         ...         ...                  ...       ...   \n",
       "YDUQ3 2023-02-28  YDUQS PART        7.05      Consumo Cíclico  Diversos   \n",
       "YDUQ3 2023-03-31  YDUQS PART        7.05      Consumo Cíclico  Diversos   \n",
       "YDUQ3 2023-04-30  YDUQS PART        8.12      Consumo Cíclico  Diversos   \n",
       "YDUQ3 2023-05-31  YDUQS PART       14.07      Consumo Cíclico  Diversos   \n",
       "YDUQ3 2023-06-30  YDUQS PART       19.82      Consumo Cíclico  Diversos   \n",
       "\n",
       "                       SEGMENTO    IPCA   SELIC     USD  RETORNOS_SIMPLES  \\\n",
       "PAPEL                                                                       \n",
       "ABEV3  Cervejas e Refrigerantes  0.0053  0.0112  5.0987               NaN   \n",
       "ABEV3  Cervejas e Refrigerantes  0.0084  0.0092  5.2072         -0.019766   \n",
       "ABEV3  Cervejas e Refrigerantes  0.0071  0.0117  5.0798          0.070202   \n",
       "ABEV3  Cervejas e Refrigerantes  0.0061  0.0092  5.0001         -0.011863   \n",
       "ABEV3  Cervejas e Refrigerantes  0.0023  0.0112  5.0953          0.017655   \n",
       "...                         ...     ...     ...     ...               ...   \n",
       "YDUQ3     Serviços Educacionais  0.0084  0.0092  5.2072         -0.317522   \n",
       "YDUQ3     Serviços Educacionais  0.0071  0.0117  5.0798          0.000000   \n",
       "YDUQ3     Serviços Educacionais  0.0061  0.0092  5.0001          0.151773   \n",
       "YDUQ3     Serviços Educacionais  0.0023  0.0112  5.0953          0.732759   \n",
       "YDUQ3     Serviços Educacionais -0.0008  0.0107  4.8186          0.408671   \n",
       "\n",
       "       RETORNOS_LOGARITIMOS  RETORNOS_ACUMULADOS    SHARPE      MÉDIA  \\\n",
       "PAPEL                                                                   \n",
       "ABEV3                   NaN                  NaN  1.928270  14.226667   \n",
       "ABEV3             -0.019964            -0.019766  1.928270  14.226667   \n",
       "ABEV3              0.067847             0.049048  1.928270  14.226667   \n",
       "ABEV3             -0.011934             0.036603  1.928270  14.226667   \n",
       "ABEV3              0.017501             0.054905  1.928270  14.226667   \n",
       "...                     ...                  ...       ...        ...   \n",
       "YDUQ3             -0.382025            -0.317522  2.188639  11.073333   \n",
       "YDUQ3              0.000000            -0.317522  2.188639  11.073333   \n",
       "YDUQ3              0.141303            -0.213940  2.188639  11.073333   \n",
       "YDUQ3              0.549715             0.362052  2.188639  11.073333   \n",
       "YDUQ3              0.342647             0.918683  2.188639  11.073333   \n",
       "\n",
       "       MÁXIMO DROW DOWN  \n",
       "PAPEL                    \n",
       "ABEV3         -0.019766  \n",
       "ABEV3         -0.019766  \n",
       "ABEV3         -0.019766  \n",
       "ABEV3         -0.019766  \n",
       "ABEV3         -0.019766  \n",
       "...                 ...  \n",
       "YDUQ3         -0.317522  \n",
       "YDUQ3         -0.317522  \n",
       "YDUQ3         -0.317522  \n",
       "YDUQ3         -0.317522  \n",
       "YDUQ3         -0.317522  \n",
       "\n",
       "[528 rows x 15 columns]"
      ]
     },
     "execution_count": 207,
     "metadata": {},
     "output_type": "execute_result"
    }
   ],
   "source": [
    "t3 = pd.merge(t2,max_dd.to_frame(name='MÁXIMO DROW DOWN'), right_index=True,left_index=True, how='outer')\n",
    "t3"
   ]
  },
  {
   "cell_type": "markdown",
   "metadata": {},
   "source": [
    "#### JUNTANDO MAXIMO DROW DOWN BRUTO"
   ]
  },
  {
   "cell_type": "code",
   "execution_count": 208,
   "metadata": {},
   "outputs": [
    {
     "data": {
      "text/plain": [
       "PAPEL\n",
       "ABEV3    -0.27\n",
       "AESB3    -0.18\n",
       "ALPA4    -6.20\n",
       "ALSO3    -0.93\n",
       "ANIM3    -2.11\n",
       "         ...  \n",
       "VALE3   -30.70\n",
       "VAMO3    -2.51\n",
       "VIVT3    -3.16\n",
       "WEGE3    -3.51\n",
       "YDUQ3    -3.28\n",
       "Name: PREÇO (R$), Length: 88, dtype: float64"
      ]
     },
     "execution_count": 208,
     "metadata": {},
     "output_type": "execute_result"
    }
   ],
   "source": [
    "max_dd_bruto"
   ]
  },
  {
   "cell_type": "code",
   "execution_count": 209,
   "metadata": {},
   "outputs": [
    {
     "data": {
      "text/html": [
       "<div>\n",
       "<style scoped>\n",
       "    .dataframe tbody tr th:only-of-type {\n",
       "        vertical-align: middle;\n",
       "    }\n",
       "\n",
       "    .dataframe tbody tr th {\n",
       "        vertical-align: top;\n",
       "    }\n",
       "\n",
       "    .dataframe thead th {\n",
       "        text-align: right;\n",
       "    }\n",
       "</style>\n",
       "<table border=\"1\" class=\"dataframe\">\n",
       "  <thead>\n",
       "    <tr style=\"text-align: right;\">\n",
       "      <th></th>\n",
       "      <th>DATA</th>\n",
       "      <th>NOME</th>\n",
       "      <th>PREÇO (R$)</th>\n",
       "      <th>SETOR ECONÔMICO</th>\n",
       "      <th>SUBSETOR</th>\n",
       "      <th>SEGMENTO</th>\n",
       "      <th>IPCA</th>\n",
       "      <th>SELIC</th>\n",
       "      <th>USD</th>\n",
       "      <th>RETORNOS_SIMPLES</th>\n",
       "      <th>RETORNOS_LOGARITIMOS</th>\n",
       "      <th>RETORNOS_ACUMULADOS</th>\n",
       "      <th>SHARPE</th>\n",
       "      <th>MÉDIA</th>\n",
       "      <th>MÁXIMO DROW DOWN</th>\n",
       "      <th>MÁXIMO DROW DOWN bruto</th>\n",
       "    </tr>\n",
       "    <tr>\n",
       "      <th>PAPEL</th>\n",
       "      <th></th>\n",
       "      <th></th>\n",
       "      <th></th>\n",
       "      <th></th>\n",
       "      <th></th>\n",
       "      <th></th>\n",
       "      <th></th>\n",
       "      <th></th>\n",
       "      <th></th>\n",
       "      <th></th>\n",
       "      <th></th>\n",
       "      <th></th>\n",
       "      <th></th>\n",
       "      <th></th>\n",
       "      <th></th>\n",
       "      <th></th>\n",
       "    </tr>\n",
       "  </thead>\n",
       "  <tbody>\n",
       "    <tr>\n",
       "      <th>ABEV3</th>\n",
       "      <td>2023-01-31</td>\n",
       "      <td>AMBEV S/A</td>\n",
       "      <td>13.66</td>\n",
       "      <td>Consumo não Cíclico</td>\n",
       "      <td>Bebidas</td>\n",
       "      <td>Cervejas e Refrigerantes</td>\n",
       "      <td>0.0053</td>\n",
       "      <td>0.0112</td>\n",
       "      <td>5.0987</td>\n",
       "      <td>NaN</td>\n",
       "      <td>NaN</td>\n",
       "      <td>NaN</td>\n",
       "      <td>1.928270</td>\n",
       "      <td>14.226667</td>\n",
       "      <td>-0.019766</td>\n",
       "      <td>-0.27</td>\n",
       "    </tr>\n",
       "    <tr>\n",
       "      <th>ABEV3</th>\n",
       "      <td>2023-02-28</td>\n",
       "      <td>AMBEV S/A</td>\n",
       "      <td>13.39</td>\n",
       "      <td>Consumo não Cíclico</td>\n",
       "      <td>Bebidas</td>\n",
       "      <td>Cervejas e Refrigerantes</td>\n",
       "      <td>0.0084</td>\n",
       "      <td>0.0092</td>\n",
       "      <td>5.2072</td>\n",
       "      <td>-0.019766</td>\n",
       "      <td>-0.019964</td>\n",
       "      <td>-0.019766</td>\n",
       "      <td>1.928270</td>\n",
       "      <td>14.226667</td>\n",
       "      <td>-0.019766</td>\n",
       "      <td>-0.27</td>\n",
       "    </tr>\n",
       "    <tr>\n",
       "      <th>ABEV3</th>\n",
       "      <td>2023-03-31</td>\n",
       "      <td>AMBEV S/A</td>\n",
       "      <td>14.33</td>\n",
       "      <td>Consumo não Cíclico</td>\n",
       "      <td>Bebidas</td>\n",
       "      <td>Cervejas e Refrigerantes</td>\n",
       "      <td>0.0071</td>\n",
       "      <td>0.0117</td>\n",
       "      <td>5.0798</td>\n",
       "      <td>0.070202</td>\n",
       "      <td>0.067847</td>\n",
       "      <td>0.049048</td>\n",
       "      <td>1.928270</td>\n",
       "      <td>14.226667</td>\n",
       "      <td>-0.019766</td>\n",
       "      <td>-0.27</td>\n",
       "    </tr>\n",
       "    <tr>\n",
       "      <th>ABEV3</th>\n",
       "      <td>2023-04-30</td>\n",
       "      <td>AMBEV S/A</td>\n",
       "      <td>14.16</td>\n",
       "      <td>Consumo não Cíclico</td>\n",
       "      <td>Bebidas</td>\n",
       "      <td>Cervejas e Refrigerantes</td>\n",
       "      <td>0.0061</td>\n",
       "      <td>0.0092</td>\n",
       "      <td>5.0001</td>\n",
       "      <td>-0.011863</td>\n",
       "      <td>-0.011934</td>\n",
       "      <td>0.036603</td>\n",
       "      <td>1.928270</td>\n",
       "      <td>14.226667</td>\n",
       "      <td>-0.019766</td>\n",
       "      <td>-0.27</td>\n",
       "    </tr>\n",
       "    <tr>\n",
       "      <th>ABEV3</th>\n",
       "      <td>2023-05-31</td>\n",
       "      <td>AMBEV S/A</td>\n",
       "      <td>14.41</td>\n",
       "      <td>Consumo não Cíclico</td>\n",
       "      <td>Bebidas</td>\n",
       "      <td>Cervejas e Refrigerantes</td>\n",
       "      <td>0.0023</td>\n",
       "      <td>0.0112</td>\n",
       "      <td>5.0953</td>\n",
       "      <td>0.017655</td>\n",
       "      <td>0.017501</td>\n",
       "      <td>0.054905</td>\n",
       "      <td>1.928270</td>\n",
       "      <td>14.226667</td>\n",
       "      <td>-0.019766</td>\n",
       "      <td>-0.27</td>\n",
       "    </tr>\n",
       "    <tr>\n",
       "      <th>...</th>\n",
       "      <td>...</td>\n",
       "      <td>...</td>\n",
       "      <td>...</td>\n",
       "      <td>...</td>\n",
       "      <td>...</td>\n",
       "      <td>...</td>\n",
       "      <td>...</td>\n",
       "      <td>...</td>\n",
       "      <td>...</td>\n",
       "      <td>...</td>\n",
       "      <td>...</td>\n",
       "      <td>...</td>\n",
       "      <td>...</td>\n",
       "      <td>...</td>\n",
       "      <td>...</td>\n",
       "      <td>...</td>\n",
       "    </tr>\n",
       "    <tr>\n",
       "      <th>YDUQ3</th>\n",
       "      <td>2023-02-28</td>\n",
       "      <td>YDUQS PART</td>\n",
       "      <td>7.05</td>\n",
       "      <td>Consumo Cíclico</td>\n",
       "      <td>Diversos</td>\n",
       "      <td>Serviços Educacionais</td>\n",
       "      <td>0.0084</td>\n",
       "      <td>0.0092</td>\n",
       "      <td>5.2072</td>\n",
       "      <td>-0.317522</td>\n",
       "      <td>-0.382025</td>\n",
       "      <td>-0.317522</td>\n",
       "      <td>2.188639</td>\n",
       "      <td>11.073333</td>\n",
       "      <td>-0.317522</td>\n",
       "      <td>-3.28</td>\n",
       "    </tr>\n",
       "    <tr>\n",
       "      <th>YDUQ3</th>\n",
       "      <td>2023-03-31</td>\n",
       "      <td>YDUQS PART</td>\n",
       "      <td>7.05</td>\n",
       "      <td>Consumo Cíclico</td>\n",
       "      <td>Diversos</td>\n",
       "      <td>Serviços Educacionais</td>\n",
       "      <td>0.0071</td>\n",
       "      <td>0.0117</td>\n",
       "      <td>5.0798</td>\n",
       "      <td>0.000000</td>\n",
       "      <td>0.000000</td>\n",
       "      <td>-0.317522</td>\n",
       "      <td>2.188639</td>\n",
       "      <td>11.073333</td>\n",
       "      <td>-0.317522</td>\n",
       "      <td>-3.28</td>\n",
       "    </tr>\n",
       "    <tr>\n",
       "      <th>YDUQ3</th>\n",
       "      <td>2023-04-30</td>\n",
       "      <td>YDUQS PART</td>\n",
       "      <td>8.12</td>\n",
       "      <td>Consumo Cíclico</td>\n",
       "      <td>Diversos</td>\n",
       "      <td>Serviços Educacionais</td>\n",
       "      <td>0.0061</td>\n",
       "      <td>0.0092</td>\n",
       "      <td>5.0001</td>\n",
       "      <td>0.151773</td>\n",
       "      <td>0.141303</td>\n",
       "      <td>-0.213940</td>\n",
       "      <td>2.188639</td>\n",
       "      <td>11.073333</td>\n",
       "      <td>-0.317522</td>\n",
       "      <td>-3.28</td>\n",
       "    </tr>\n",
       "    <tr>\n",
       "      <th>YDUQ3</th>\n",
       "      <td>2023-05-31</td>\n",
       "      <td>YDUQS PART</td>\n",
       "      <td>14.07</td>\n",
       "      <td>Consumo Cíclico</td>\n",
       "      <td>Diversos</td>\n",
       "      <td>Serviços Educacionais</td>\n",
       "      <td>0.0023</td>\n",
       "      <td>0.0112</td>\n",
       "      <td>5.0953</td>\n",
       "      <td>0.732759</td>\n",
       "      <td>0.549715</td>\n",
       "      <td>0.362052</td>\n",
       "      <td>2.188639</td>\n",
       "      <td>11.073333</td>\n",
       "      <td>-0.317522</td>\n",
       "      <td>-3.28</td>\n",
       "    </tr>\n",
       "    <tr>\n",
       "      <th>YDUQ3</th>\n",
       "      <td>2023-06-30</td>\n",
       "      <td>YDUQS PART</td>\n",
       "      <td>19.82</td>\n",
       "      <td>Consumo Cíclico</td>\n",
       "      <td>Diversos</td>\n",
       "      <td>Serviços Educacionais</td>\n",
       "      <td>-0.0008</td>\n",
       "      <td>0.0107</td>\n",
       "      <td>4.8186</td>\n",
       "      <td>0.408671</td>\n",
       "      <td>0.342647</td>\n",
       "      <td>0.918683</td>\n",
       "      <td>2.188639</td>\n",
       "      <td>11.073333</td>\n",
       "      <td>-0.317522</td>\n",
       "      <td>-3.28</td>\n",
       "    </tr>\n",
       "  </tbody>\n",
       "</table>\n",
       "<p>528 rows × 16 columns</p>\n",
       "</div>"
      ],
      "text/plain": [
       "            DATA        NOME  PREÇO (R$)      SETOR ECONÔMICO  SUBSETOR  \\\n",
       "PAPEL                                                                     \n",
       "ABEV3 2023-01-31   AMBEV S/A       13.66  Consumo não Cíclico   Bebidas   \n",
       "ABEV3 2023-02-28   AMBEV S/A       13.39  Consumo não Cíclico   Bebidas   \n",
       "ABEV3 2023-03-31   AMBEV S/A       14.33  Consumo não Cíclico   Bebidas   \n",
       "ABEV3 2023-04-30   AMBEV S/A       14.16  Consumo não Cíclico   Bebidas   \n",
       "ABEV3 2023-05-31   AMBEV S/A       14.41  Consumo não Cíclico   Bebidas   \n",
       "...          ...         ...         ...                  ...       ...   \n",
       "YDUQ3 2023-02-28  YDUQS PART        7.05      Consumo Cíclico  Diversos   \n",
       "YDUQ3 2023-03-31  YDUQS PART        7.05      Consumo Cíclico  Diversos   \n",
       "YDUQ3 2023-04-30  YDUQS PART        8.12      Consumo Cíclico  Diversos   \n",
       "YDUQ3 2023-05-31  YDUQS PART       14.07      Consumo Cíclico  Diversos   \n",
       "YDUQ3 2023-06-30  YDUQS PART       19.82      Consumo Cíclico  Diversos   \n",
       "\n",
       "                       SEGMENTO    IPCA   SELIC     USD  RETORNOS_SIMPLES  \\\n",
       "PAPEL                                                                       \n",
       "ABEV3  Cervejas e Refrigerantes  0.0053  0.0112  5.0987               NaN   \n",
       "ABEV3  Cervejas e Refrigerantes  0.0084  0.0092  5.2072         -0.019766   \n",
       "ABEV3  Cervejas e Refrigerantes  0.0071  0.0117  5.0798          0.070202   \n",
       "ABEV3  Cervejas e Refrigerantes  0.0061  0.0092  5.0001         -0.011863   \n",
       "ABEV3  Cervejas e Refrigerantes  0.0023  0.0112  5.0953          0.017655   \n",
       "...                         ...     ...     ...     ...               ...   \n",
       "YDUQ3     Serviços Educacionais  0.0084  0.0092  5.2072         -0.317522   \n",
       "YDUQ3     Serviços Educacionais  0.0071  0.0117  5.0798          0.000000   \n",
       "YDUQ3     Serviços Educacionais  0.0061  0.0092  5.0001          0.151773   \n",
       "YDUQ3     Serviços Educacionais  0.0023  0.0112  5.0953          0.732759   \n",
       "YDUQ3     Serviços Educacionais -0.0008  0.0107  4.8186          0.408671   \n",
       "\n",
       "       RETORNOS_LOGARITIMOS  RETORNOS_ACUMULADOS    SHARPE      MÉDIA  \\\n",
       "PAPEL                                                                   \n",
       "ABEV3                   NaN                  NaN  1.928270  14.226667   \n",
       "ABEV3             -0.019964            -0.019766  1.928270  14.226667   \n",
       "ABEV3              0.067847             0.049048  1.928270  14.226667   \n",
       "ABEV3             -0.011934             0.036603  1.928270  14.226667   \n",
       "ABEV3              0.017501             0.054905  1.928270  14.226667   \n",
       "...                     ...                  ...       ...        ...   \n",
       "YDUQ3             -0.382025            -0.317522  2.188639  11.073333   \n",
       "YDUQ3              0.000000            -0.317522  2.188639  11.073333   \n",
       "YDUQ3              0.141303            -0.213940  2.188639  11.073333   \n",
       "YDUQ3              0.549715             0.362052  2.188639  11.073333   \n",
       "YDUQ3              0.342647             0.918683  2.188639  11.073333   \n",
       "\n",
       "       MÁXIMO DROW DOWN  MÁXIMO DROW DOWN bruto  \n",
       "PAPEL                                            \n",
       "ABEV3         -0.019766                   -0.27  \n",
       "ABEV3         -0.019766                   -0.27  \n",
       "ABEV3         -0.019766                   -0.27  \n",
       "ABEV3         -0.019766                   -0.27  \n",
       "ABEV3         -0.019766                   -0.27  \n",
       "...                 ...                     ...  \n",
       "YDUQ3         -0.317522                   -3.28  \n",
       "YDUQ3         -0.317522                   -3.28  \n",
       "YDUQ3         -0.317522                   -3.28  \n",
       "YDUQ3         -0.317522                   -3.28  \n",
       "YDUQ3         -0.317522                   -3.28  \n",
       "\n",
       "[528 rows x 16 columns]"
      ]
     },
     "execution_count": 209,
     "metadata": {},
     "output_type": "execute_result"
    }
   ],
   "source": [
    "t4 = pd.merge(t3,max_dd_bruto.to_frame(name='MÁXIMO DROW DOWN bruto'), right_index=True,left_index=True, how='outer')\n",
    "t4"
   ]
  },
  {
   "cell_type": "markdown",
   "metadata": {},
   "source": [
    "#### JUNTANDO VOLATILIDADE"
   ]
  },
  {
   "cell_type": "code",
   "execution_count": 210,
   "metadata": {},
   "outputs": [
    {
     "data": {
      "text/html": [
       "<div>\n",
       "<style scoped>\n",
       "    .dataframe tbody tr th:only-of-type {\n",
       "        vertical-align: middle;\n",
       "    }\n",
       "\n",
       "    .dataframe tbody tr th {\n",
       "        vertical-align: top;\n",
       "    }\n",
       "\n",
       "    .dataframe thead th {\n",
       "        text-align: right;\n",
       "    }\n",
       "</style>\n",
       "<table border=\"1\" class=\"dataframe\">\n",
       "  <thead>\n",
       "    <tr style=\"text-align: right;\">\n",
       "      <th></th>\n",
       "      <th>DATA</th>\n",
       "      <th>NOME</th>\n",
       "      <th>PREÇO (R$)</th>\n",
       "      <th>SETOR ECONÔMICO</th>\n",
       "      <th>SUBSETOR</th>\n",
       "      <th>SEGMENTO</th>\n",
       "      <th>IPCA</th>\n",
       "      <th>SELIC</th>\n",
       "      <th>USD</th>\n",
       "      <th>RETORNOS_SIMPLES</th>\n",
       "      <th>RETORNOS_LOGARITIMOS</th>\n",
       "      <th>RETORNOS_ACUMULADOS</th>\n",
       "      <th>SHARPE</th>\n",
       "      <th>MÉDIA</th>\n",
       "      <th>MÁXIMO DROW DOWN</th>\n",
       "      <th>MÁXIMO DROW DOWN bruto</th>\n",
       "      <th>VOLATILIDADE</th>\n",
       "    </tr>\n",
       "    <tr>\n",
       "      <th>PAPEL</th>\n",
       "      <th></th>\n",
       "      <th></th>\n",
       "      <th></th>\n",
       "      <th></th>\n",
       "      <th></th>\n",
       "      <th></th>\n",
       "      <th></th>\n",
       "      <th></th>\n",
       "      <th></th>\n",
       "      <th></th>\n",
       "      <th></th>\n",
       "      <th></th>\n",
       "      <th></th>\n",
       "      <th></th>\n",
       "      <th></th>\n",
       "      <th></th>\n",
       "      <th></th>\n",
       "    </tr>\n",
       "  </thead>\n",
       "  <tbody>\n",
       "    <tr>\n",
       "      <th>ABEV3</th>\n",
       "      <td>2023-01-31</td>\n",
       "      <td>AMBEV S/A</td>\n",
       "      <td>13.66</td>\n",
       "      <td>Consumo não Cíclico</td>\n",
       "      <td>Bebidas</td>\n",
       "      <td>Cervejas e Refrigerantes</td>\n",
       "      <td>0.0053</td>\n",
       "      <td>0.0112</td>\n",
       "      <td>5.0987</td>\n",
       "      <td>NaN</td>\n",
       "      <td>NaN</td>\n",
       "      <td>NaN</td>\n",
       "      <td>1.928270</td>\n",
       "      <td>14.226667</td>\n",
       "      <td>-0.019766</td>\n",
       "      <td>-0.27</td>\n",
       "      <td>0.043101</td>\n",
       "    </tr>\n",
       "    <tr>\n",
       "      <th>ABEV3</th>\n",
       "      <td>2023-02-28</td>\n",
       "      <td>AMBEV S/A</td>\n",
       "      <td>13.39</td>\n",
       "      <td>Consumo não Cíclico</td>\n",
       "      <td>Bebidas</td>\n",
       "      <td>Cervejas e Refrigerantes</td>\n",
       "      <td>0.0084</td>\n",
       "      <td>0.0092</td>\n",
       "      <td>5.2072</td>\n",
       "      <td>-0.019766</td>\n",
       "      <td>-0.019964</td>\n",
       "      <td>-0.019766</td>\n",
       "      <td>1.928270</td>\n",
       "      <td>14.226667</td>\n",
       "      <td>-0.019766</td>\n",
       "      <td>-0.27</td>\n",
       "      <td>0.043101</td>\n",
       "    </tr>\n",
       "    <tr>\n",
       "      <th>ABEV3</th>\n",
       "      <td>2023-03-31</td>\n",
       "      <td>AMBEV S/A</td>\n",
       "      <td>14.33</td>\n",
       "      <td>Consumo não Cíclico</td>\n",
       "      <td>Bebidas</td>\n",
       "      <td>Cervejas e Refrigerantes</td>\n",
       "      <td>0.0071</td>\n",
       "      <td>0.0117</td>\n",
       "      <td>5.0798</td>\n",
       "      <td>0.070202</td>\n",
       "      <td>0.067847</td>\n",
       "      <td>0.049048</td>\n",
       "      <td>1.928270</td>\n",
       "      <td>14.226667</td>\n",
       "      <td>-0.019766</td>\n",
       "      <td>-0.27</td>\n",
       "      <td>0.043101</td>\n",
       "    </tr>\n",
       "    <tr>\n",
       "      <th>ABEV3</th>\n",
       "      <td>2023-04-30</td>\n",
       "      <td>AMBEV S/A</td>\n",
       "      <td>14.16</td>\n",
       "      <td>Consumo não Cíclico</td>\n",
       "      <td>Bebidas</td>\n",
       "      <td>Cervejas e Refrigerantes</td>\n",
       "      <td>0.0061</td>\n",
       "      <td>0.0092</td>\n",
       "      <td>5.0001</td>\n",
       "      <td>-0.011863</td>\n",
       "      <td>-0.011934</td>\n",
       "      <td>0.036603</td>\n",
       "      <td>1.928270</td>\n",
       "      <td>14.226667</td>\n",
       "      <td>-0.019766</td>\n",
       "      <td>-0.27</td>\n",
       "      <td>0.043101</td>\n",
       "    </tr>\n",
       "    <tr>\n",
       "      <th>ABEV3</th>\n",
       "      <td>2023-05-31</td>\n",
       "      <td>AMBEV S/A</td>\n",
       "      <td>14.41</td>\n",
       "      <td>Consumo não Cíclico</td>\n",
       "      <td>Bebidas</td>\n",
       "      <td>Cervejas e Refrigerantes</td>\n",
       "      <td>0.0023</td>\n",
       "      <td>0.0112</td>\n",
       "      <td>5.0953</td>\n",
       "      <td>0.017655</td>\n",
       "      <td>0.017501</td>\n",
       "      <td>0.054905</td>\n",
       "      <td>1.928270</td>\n",
       "      <td>14.226667</td>\n",
       "      <td>-0.019766</td>\n",
       "      <td>-0.27</td>\n",
       "      <td>0.043101</td>\n",
       "    </tr>\n",
       "    <tr>\n",
       "      <th>...</th>\n",
       "      <td>...</td>\n",
       "      <td>...</td>\n",
       "      <td>...</td>\n",
       "      <td>...</td>\n",
       "      <td>...</td>\n",
       "      <td>...</td>\n",
       "      <td>...</td>\n",
       "      <td>...</td>\n",
       "      <td>...</td>\n",
       "      <td>...</td>\n",
       "      <td>...</td>\n",
       "      <td>...</td>\n",
       "      <td>...</td>\n",
       "      <td>...</td>\n",
       "      <td>...</td>\n",
       "      <td>...</td>\n",
       "      <td>...</td>\n",
       "    </tr>\n",
       "    <tr>\n",
       "      <th>YDUQ3</th>\n",
       "      <td>2023-02-28</td>\n",
       "      <td>YDUQS PART</td>\n",
       "      <td>7.05</td>\n",
       "      <td>Consumo Cíclico</td>\n",
       "      <td>Diversos</td>\n",
       "      <td>Serviços Educacionais</td>\n",
       "      <td>0.0084</td>\n",
       "      <td>0.0092</td>\n",
       "      <td>5.2072</td>\n",
       "      <td>-0.317522</td>\n",
       "      <td>-0.382025</td>\n",
       "      <td>-0.317522</td>\n",
       "      <td>2.188639</td>\n",
       "      <td>11.073333</td>\n",
       "      <td>-0.317522</td>\n",
       "      <td>-3.28</td>\n",
       "      <td>0.399190</td>\n",
       "    </tr>\n",
       "    <tr>\n",
       "      <th>YDUQ3</th>\n",
       "      <td>2023-03-31</td>\n",
       "      <td>YDUQS PART</td>\n",
       "      <td>7.05</td>\n",
       "      <td>Consumo Cíclico</td>\n",
       "      <td>Diversos</td>\n",
       "      <td>Serviços Educacionais</td>\n",
       "      <td>0.0071</td>\n",
       "      <td>0.0117</td>\n",
       "      <td>5.0798</td>\n",
       "      <td>0.000000</td>\n",
       "      <td>0.000000</td>\n",
       "      <td>-0.317522</td>\n",
       "      <td>2.188639</td>\n",
       "      <td>11.073333</td>\n",
       "      <td>-0.317522</td>\n",
       "      <td>-3.28</td>\n",
       "      <td>0.399190</td>\n",
       "    </tr>\n",
       "    <tr>\n",
       "      <th>YDUQ3</th>\n",
       "      <td>2023-04-30</td>\n",
       "      <td>YDUQS PART</td>\n",
       "      <td>8.12</td>\n",
       "      <td>Consumo Cíclico</td>\n",
       "      <td>Diversos</td>\n",
       "      <td>Serviços Educacionais</td>\n",
       "      <td>0.0061</td>\n",
       "      <td>0.0092</td>\n",
       "      <td>5.0001</td>\n",
       "      <td>0.151773</td>\n",
       "      <td>0.141303</td>\n",
       "      <td>-0.213940</td>\n",
       "      <td>2.188639</td>\n",
       "      <td>11.073333</td>\n",
       "      <td>-0.317522</td>\n",
       "      <td>-3.28</td>\n",
       "      <td>0.399190</td>\n",
       "    </tr>\n",
       "    <tr>\n",
       "      <th>YDUQ3</th>\n",
       "      <td>2023-05-31</td>\n",
       "      <td>YDUQS PART</td>\n",
       "      <td>14.07</td>\n",
       "      <td>Consumo Cíclico</td>\n",
       "      <td>Diversos</td>\n",
       "      <td>Serviços Educacionais</td>\n",
       "      <td>0.0023</td>\n",
       "      <td>0.0112</td>\n",
       "      <td>5.0953</td>\n",
       "      <td>0.732759</td>\n",
       "      <td>0.549715</td>\n",
       "      <td>0.362052</td>\n",
       "      <td>2.188639</td>\n",
       "      <td>11.073333</td>\n",
       "      <td>-0.317522</td>\n",
       "      <td>-3.28</td>\n",
       "      <td>0.399190</td>\n",
       "    </tr>\n",
       "    <tr>\n",
       "      <th>YDUQ3</th>\n",
       "      <td>2023-06-30</td>\n",
       "      <td>YDUQS PART</td>\n",
       "      <td>19.82</td>\n",
       "      <td>Consumo Cíclico</td>\n",
       "      <td>Diversos</td>\n",
       "      <td>Serviços Educacionais</td>\n",
       "      <td>-0.0008</td>\n",
       "      <td>0.0107</td>\n",
       "      <td>4.8186</td>\n",
       "      <td>0.408671</td>\n",
       "      <td>0.342647</td>\n",
       "      <td>0.918683</td>\n",
       "      <td>2.188639</td>\n",
       "      <td>11.073333</td>\n",
       "      <td>-0.317522</td>\n",
       "      <td>-3.28</td>\n",
       "      <td>0.399190</td>\n",
       "    </tr>\n",
       "  </tbody>\n",
       "</table>\n",
       "<p>528 rows × 17 columns</p>\n",
       "</div>"
      ],
      "text/plain": [
       "            DATA        NOME  PREÇO (R$)      SETOR ECONÔMICO  SUBSETOR  \\\n",
       "PAPEL                                                                     \n",
       "ABEV3 2023-01-31   AMBEV S/A       13.66  Consumo não Cíclico   Bebidas   \n",
       "ABEV3 2023-02-28   AMBEV S/A       13.39  Consumo não Cíclico   Bebidas   \n",
       "ABEV3 2023-03-31   AMBEV S/A       14.33  Consumo não Cíclico   Bebidas   \n",
       "ABEV3 2023-04-30   AMBEV S/A       14.16  Consumo não Cíclico   Bebidas   \n",
       "ABEV3 2023-05-31   AMBEV S/A       14.41  Consumo não Cíclico   Bebidas   \n",
       "...          ...         ...         ...                  ...       ...   \n",
       "YDUQ3 2023-02-28  YDUQS PART        7.05      Consumo Cíclico  Diversos   \n",
       "YDUQ3 2023-03-31  YDUQS PART        7.05      Consumo Cíclico  Diversos   \n",
       "YDUQ3 2023-04-30  YDUQS PART        8.12      Consumo Cíclico  Diversos   \n",
       "YDUQ3 2023-05-31  YDUQS PART       14.07      Consumo Cíclico  Diversos   \n",
       "YDUQ3 2023-06-30  YDUQS PART       19.82      Consumo Cíclico  Diversos   \n",
       "\n",
       "                       SEGMENTO    IPCA   SELIC     USD  RETORNOS_SIMPLES  \\\n",
       "PAPEL                                                                       \n",
       "ABEV3  Cervejas e Refrigerantes  0.0053  0.0112  5.0987               NaN   \n",
       "ABEV3  Cervejas e Refrigerantes  0.0084  0.0092  5.2072         -0.019766   \n",
       "ABEV3  Cervejas e Refrigerantes  0.0071  0.0117  5.0798          0.070202   \n",
       "ABEV3  Cervejas e Refrigerantes  0.0061  0.0092  5.0001         -0.011863   \n",
       "ABEV3  Cervejas e Refrigerantes  0.0023  0.0112  5.0953          0.017655   \n",
       "...                         ...     ...     ...     ...               ...   \n",
       "YDUQ3     Serviços Educacionais  0.0084  0.0092  5.2072         -0.317522   \n",
       "YDUQ3     Serviços Educacionais  0.0071  0.0117  5.0798          0.000000   \n",
       "YDUQ3     Serviços Educacionais  0.0061  0.0092  5.0001          0.151773   \n",
       "YDUQ3     Serviços Educacionais  0.0023  0.0112  5.0953          0.732759   \n",
       "YDUQ3     Serviços Educacionais -0.0008  0.0107  4.8186          0.408671   \n",
       "\n",
       "       RETORNOS_LOGARITIMOS  RETORNOS_ACUMULADOS    SHARPE      MÉDIA  \\\n",
       "PAPEL                                                                   \n",
       "ABEV3                   NaN                  NaN  1.928270  14.226667   \n",
       "ABEV3             -0.019964            -0.019766  1.928270  14.226667   \n",
       "ABEV3              0.067847             0.049048  1.928270  14.226667   \n",
       "ABEV3             -0.011934             0.036603  1.928270  14.226667   \n",
       "ABEV3              0.017501             0.054905  1.928270  14.226667   \n",
       "...                     ...                  ...       ...        ...   \n",
       "YDUQ3             -0.382025            -0.317522  2.188639  11.073333   \n",
       "YDUQ3              0.000000            -0.317522  2.188639  11.073333   \n",
       "YDUQ3              0.141303            -0.213940  2.188639  11.073333   \n",
       "YDUQ3              0.549715             0.362052  2.188639  11.073333   \n",
       "YDUQ3              0.342647             0.918683  2.188639  11.073333   \n",
       "\n",
       "       MÁXIMO DROW DOWN  MÁXIMO DROW DOWN bruto  VOLATILIDADE  \n",
       "PAPEL                                                          \n",
       "ABEV3         -0.019766                   -0.27      0.043101  \n",
       "ABEV3         -0.019766                   -0.27      0.043101  \n",
       "ABEV3         -0.019766                   -0.27      0.043101  \n",
       "ABEV3         -0.019766                   -0.27      0.043101  \n",
       "ABEV3         -0.019766                   -0.27      0.043101  \n",
       "...                 ...                     ...           ...  \n",
       "YDUQ3         -0.317522                   -3.28      0.399190  \n",
       "YDUQ3         -0.317522                   -3.28      0.399190  \n",
       "YDUQ3         -0.317522                   -3.28      0.399190  \n",
       "YDUQ3         -0.317522                   -3.28      0.399190  \n",
       "YDUQ3         -0.317522                   -3.28      0.399190  \n",
       "\n",
       "[528 rows x 17 columns]"
      ]
     },
     "execution_count": 210,
     "metadata": {},
     "output_type": "execute_result"
    }
   ],
   "source": [
    "t5 = pd.merge(t4,volatilidade.to_frame(name='VOLATILIDADE'), right_index=True,left_index=True, how='outer')\n",
    "t5"
   ]
  },
  {
   "cell_type": "markdown",
   "metadata": {},
   "source": [
    "#### JUNTANDO RETORNO DO PERIODO"
   ]
  },
  {
   "cell_type": "code",
   "execution_count": 211,
   "metadata": {},
   "outputs": [
    {
     "data": {
      "text/html": [
       "<div>\n",
       "<style scoped>\n",
       "    .dataframe tbody tr th:only-of-type {\n",
       "        vertical-align: middle;\n",
       "    }\n",
       "\n",
       "    .dataframe tbody tr th {\n",
       "        vertical-align: top;\n",
       "    }\n",
       "\n",
       "    .dataframe thead th {\n",
       "        text-align: right;\n",
       "    }\n",
       "</style>\n",
       "<table border=\"1\" class=\"dataframe\">\n",
       "  <thead>\n",
       "    <tr style=\"text-align: right;\">\n",
       "      <th></th>\n",
       "      <th>DATA</th>\n",
       "      <th>NOME</th>\n",
       "      <th>PREÇO (R$)</th>\n",
       "      <th>SETOR ECONÔMICO</th>\n",
       "      <th>SUBSETOR</th>\n",
       "      <th>SEGMENTO</th>\n",
       "      <th>IPCA</th>\n",
       "      <th>SELIC</th>\n",
       "      <th>USD</th>\n",
       "      <th>RETORNOS_SIMPLES</th>\n",
       "      <th>RETORNOS_LOGARITIMOS</th>\n",
       "      <th>RETORNOS_ACUMULADOS</th>\n",
       "      <th>SHARPE</th>\n",
       "      <th>MÉDIA</th>\n",
       "      <th>MÁXIMO DROW DOWN</th>\n",
       "      <th>MÁXIMO DROW DOWN bruto</th>\n",
       "      <th>VOLATILIDADE</th>\n",
       "      <th>RENTABILIDADE</th>\n",
       "    </tr>\n",
       "    <tr>\n",
       "      <th>PAPEL</th>\n",
       "      <th></th>\n",
       "      <th></th>\n",
       "      <th></th>\n",
       "      <th></th>\n",
       "      <th></th>\n",
       "      <th></th>\n",
       "      <th></th>\n",
       "      <th></th>\n",
       "      <th></th>\n",
       "      <th></th>\n",
       "      <th></th>\n",
       "      <th></th>\n",
       "      <th></th>\n",
       "      <th></th>\n",
       "      <th></th>\n",
       "      <th></th>\n",
       "      <th></th>\n",
       "      <th></th>\n",
       "    </tr>\n",
       "  </thead>\n",
       "  <tbody>\n",
       "    <tr>\n",
       "      <th>ABEV3</th>\n",
       "      <td>2023-01-31</td>\n",
       "      <td>AMBEV S/A</td>\n",
       "      <td>13.66</td>\n",
       "      <td>Consumo não Cíclico</td>\n",
       "      <td>Bebidas</td>\n",
       "      <td>Cervejas e Refrigerantes</td>\n",
       "      <td>0.0053</td>\n",
       "      <td>0.0112</td>\n",
       "      <td>5.0987</td>\n",
       "      <td>NaN</td>\n",
       "      <td>NaN</td>\n",
       "      <td>NaN</td>\n",
       "      <td>1.928270</td>\n",
       "      <td>14.226667</td>\n",
       "      <td>-0.019766</td>\n",
       "      <td>-0.27</td>\n",
       "      <td>0.043101</td>\n",
       "      <td>0.128111</td>\n",
       "    </tr>\n",
       "    <tr>\n",
       "      <th>ABEV3</th>\n",
       "      <td>2023-02-28</td>\n",
       "      <td>AMBEV S/A</td>\n",
       "      <td>13.39</td>\n",
       "      <td>Consumo não Cíclico</td>\n",
       "      <td>Bebidas</td>\n",
       "      <td>Cervejas e Refrigerantes</td>\n",
       "      <td>0.0084</td>\n",
       "      <td>0.0092</td>\n",
       "      <td>5.2072</td>\n",
       "      <td>-0.019766</td>\n",
       "      <td>-0.019964</td>\n",
       "      <td>-0.019766</td>\n",
       "      <td>1.928270</td>\n",
       "      <td>14.226667</td>\n",
       "      <td>-0.019766</td>\n",
       "      <td>-0.27</td>\n",
       "      <td>0.043101</td>\n",
       "      <td>0.128111</td>\n",
       "    </tr>\n",
       "    <tr>\n",
       "      <th>ABEV3</th>\n",
       "      <td>2023-03-31</td>\n",
       "      <td>AMBEV S/A</td>\n",
       "      <td>14.33</td>\n",
       "      <td>Consumo não Cíclico</td>\n",
       "      <td>Bebidas</td>\n",
       "      <td>Cervejas e Refrigerantes</td>\n",
       "      <td>0.0071</td>\n",
       "      <td>0.0117</td>\n",
       "      <td>5.0798</td>\n",
       "      <td>0.070202</td>\n",
       "      <td>0.067847</td>\n",
       "      <td>0.049048</td>\n",
       "      <td>1.928270</td>\n",
       "      <td>14.226667</td>\n",
       "      <td>-0.019766</td>\n",
       "      <td>-0.27</td>\n",
       "      <td>0.043101</td>\n",
       "      <td>0.128111</td>\n",
       "    </tr>\n",
       "    <tr>\n",
       "      <th>ABEV3</th>\n",
       "      <td>2023-04-30</td>\n",
       "      <td>AMBEV S/A</td>\n",
       "      <td>14.16</td>\n",
       "      <td>Consumo não Cíclico</td>\n",
       "      <td>Bebidas</td>\n",
       "      <td>Cervejas e Refrigerantes</td>\n",
       "      <td>0.0061</td>\n",
       "      <td>0.0092</td>\n",
       "      <td>5.0001</td>\n",
       "      <td>-0.011863</td>\n",
       "      <td>-0.011934</td>\n",
       "      <td>0.036603</td>\n",
       "      <td>1.928270</td>\n",
       "      <td>14.226667</td>\n",
       "      <td>-0.019766</td>\n",
       "      <td>-0.27</td>\n",
       "      <td>0.043101</td>\n",
       "      <td>0.128111</td>\n",
       "    </tr>\n",
       "    <tr>\n",
       "      <th>ABEV3</th>\n",
       "      <td>2023-05-31</td>\n",
       "      <td>AMBEV S/A</td>\n",
       "      <td>14.41</td>\n",
       "      <td>Consumo não Cíclico</td>\n",
       "      <td>Bebidas</td>\n",
       "      <td>Cervejas e Refrigerantes</td>\n",
       "      <td>0.0023</td>\n",
       "      <td>0.0112</td>\n",
       "      <td>5.0953</td>\n",
       "      <td>0.017655</td>\n",
       "      <td>0.017501</td>\n",
       "      <td>0.054905</td>\n",
       "      <td>1.928270</td>\n",
       "      <td>14.226667</td>\n",
       "      <td>-0.019766</td>\n",
       "      <td>-0.27</td>\n",
       "      <td>0.043101</td>\n",
       "      <td>0.128111</td>\n",
       "    </tr>\n",
       "    <tr>\n",
       "      <th>...</th>\n",
       "      <td>...</td>\n",
       "      <td>...</td>\n",
       "      <td>...</td>\n",
       "      <td>...</td>\n",
       "      <td>...</td>\n",
       "      <td>...</td>\n",
       "      <td>...</td>\n",
       "      <td>...</td>\n",
       "      <td>...</td>\n",
       "      <td>...</td>\n",
       "      <td>...</td>\n",
       "      <td>...</td>\n",
       "      <td>...</td>\n",
       "      <td>...</td>\n",
       "      <td>...</td>\n",
       "      <td>...</td>\n",
       "      <td>...</td>\n",
       "      <td>...</td>\n",
       "    </tr>\n",
       "    <tr>\n",
       "      <th>YDUQ3</th>\n",
       "      <td>2023-02-28</td>\n",
       "      <td>YDUQS PART</td>\n",
       "      <td>7.05</td>\n",
       "      <td>Consumo Cíclico</td>\n",
       "      <td>Diversos</td>\n",
       "      <td>Serviços Educacionais</td>\n",
       "      <td>0.0084</td>\n",
       "      <td>0.0092</td>\n",
       "      <td>5.2072</td>\n",
       "      <td>-0.317522</td>\n",
       "      <td>-0.382025</td>\n",
       "      <td>-0.317522</td>\n",
       "      <td>2.188639</td>\n",
       "      <td>11.073333</td>\n",
       "      <td>-0.317522</td>\n",
       "      <td>-3.28</td>\n",
       "      <td>0.399190</td>\n",
       "      <td>0.918683</td>\n",
       "    </tr>\n",
       "    <tr>\n",
       "      <th>YDUQ3</th>\n",
       "      <td>2023-03-31</td>\n",
       "      <td>YDUQS PART</td>\n",
       "      <td>7.05</td>\n",
       "      <td>Consumo Cíclico</td>\n",
       "      <td>Diversos</td>\n",
       "      <td>Serviços Educacionais</td>\n",
       "      <td>0.0071</td>\n",
       "      <td>0.0117</td>\n",
       "      <td>5.0798</td>\n",
       "      <td>0.000000</td>\n",
       "      <td>0.000000</td>\n",
       "      <td>-0.317522</td>\n",
       "      <td>2.188639</td>\n",
       "      <td>11.073333</td>\n",
       "      <td>-0.317522</td>\n",
       "      <td>-3.28</td>\n",
       "      <td>0.399190</td>\n",
       "      <td>0.918683</td>\n",
       "    </tr>\n",
       "    <tr>\n",
       "      <th>YDUQ3</th>\n",
       "      <td>2023-04-30</td>\n",
       "      <td>YDUQS PART</td>\n",
       "      <td>8.12</td>\n",
       "      <td>Consumo Cíclico</td>\n",
       "      <td>Diversos</td>\n",
       "      <td>Serviços Educacionais</td>\n",
       "      <td>0.0061</td>\n",
       "      <td>0.0092</td>\n",
       "      <td>5.0001</td>\n",
       "      <td>0.151773</td>\n",
       "      <td>0.141303</td>\n",
       "      <td>-0.213940</td>\n",
       "      <td>2.188639</td>\n",
       "      <td>11.073333</td>\n",
       "      <td>-0.317522</td>\n",
       "      <td>-3.28</td>\n",
       "      <td>0.399190</td>\n",
       "      <td>0.918683</td>\n",
       "    </tr>\n",
       "    <tr>\n",
       "      <th>YDUQ3</th>\n",
       "      <td>2023-05-31</td>\n",
       "      <td>YDUQS PART</td>\n",
       "      <td>14.07</td>\n",
       "      <td>Consumo Cíclico</td>\n",
       "      <td>Diversos</td>\n",
       "      <td>Serviços Educacionais</td>\n",
       "      <td>0.0023</td>\n",
       "      <td>0.0112</td>\n",
       "      <td>5.0953</td>\n",
       "      <td>0.732759</td>\n",
       "      <td>0.549715</td>\n",
       "      <td>0.362052</td>\n",
       "      <td>2.188639</td>\n",
       "      <td>11.073333</td>\n",
       "      <td>-0.317522</td>\n",
       "      <td>-3.28</td>\n",
       "      <td>0.399190</td>\n",
       "      <td>0.918683</td>\n",
       "    </tr>\n",
       "    <tr>\n",
       "      <th>YDUQ3</th>\n",
       "      <td>2023-06-30</td>\n",
       "      <td>YDUQS PART</td>\n",
       "      <td>19.82</td>\n",
       "      <td>Consumo Cíclico</td>\n",
       "      <td>Diversos</td>\n",
       "      <td>Serviços Educacionais</td>\n",
       "      <td>-0.0008</td>\n",
       "      <td>0.0107</td>\n",
       "      <td>4.8186</td>\n",
       "      <td>0.408671</td>\n",
       "      <td>0.342647</td>\n",
       "      <td>0.918683</td>\n",
       "      <td>2.188639</td>\n",
       "      <td>11.073333</td>\n",
       "      <td>-0.317522</td>\n",
       "      <td>-3.28</td>\n",
       "      <td>0.399190</td>\n",
       "      <td>0.918683</td>\n",
       "    </tr>\n",
       "  </tbody>\n",
       "</table>\n",
       "<p>528 rows × 18 columns</p>\n",
       "</div>"
      ],
      "text/plain": [
       "            DATA        NOME  PREÇO (R$)      SETOR ECONÔMICO  SUBSETOR  \\\n",
       "PAPEL                                                                     \n",
       "ABEV3 2023-01-31   AMBEV S/A       13.66  Consumo não Cíclico   Bebidas   \n",
       "ABEV3 2023-02-28   AMBEV S/A       13.39  Consumo não Cíclico   Bebidas   \n",
       "ABEV3 2023-03-31   AMBEV S/A       14.33  Consumo não Cíclico   Bebidas   \n",
       "ABEV3 2023-04-30   AMBEV S/A       14.16  Consumo não Cíclico   Bebidas   \n",
       "ABEV3 2023-05-31   AMBEV S/A       14.41  Consumo não Cíclico   Bebidas   \n",
       "...          ...         ...         ...                  ...       ...   \n",
       "YDUQ3 2023-02-28  YDUQS PART        7.05      Consumo Cíclico  Diversos   \n",
       "YDUQ3 2023-03-31  YDUQS PART        7.05      Consumo Cíclico  Diversos   \n",
       "YDUQ3 2023-04-30  YDUQS PART        8.12      Consumo Cíclico  Diversos   \n",
       "YDUQ3 2023-05-31  YDUQS PART       14.07      Consumo Cíclico  Diversos   \n",
       "YDUQ3 2023-06-30  YDUQS PART       19.82      Consumo Cíclico  Diversos   \n",
       "\n",
       "                       SEGMENTO    IPCA   SELIC     USD  RETORNOS_SIMPLES  \\\n",
       "PAPEL                                                                       \n",
       "ABEV3  Cervejas e Refrigerantes  0.0053  0.0112  5.0987               NaN   \n",
       "ABEV3  Cervejas e Refrigerantes  0.0084  0.0092  5.2072         -0.019766   \n",
       "ABEV3  Cervejas e Refrigerantes  0.0071  0.0117  5.0798          0.070202   \n",
       "ABEV3  Cervejas e Refrigerantes  0.0061  0.0092  5.0001         -0.011863   \n",
       "ABEV3  Cervejas e Refrigerantes  0.0023  0.0112  5.0953          0.017655   \n",
       "...                         ...     ...     ...     ...               ...   \n",
       "YDUQ3     Serviços Educacionais  0.0084  0.0092  5.2072         -0.317522   \n",
       "YDUQ3     Serviços Educacionais  0.0071  0.0117  5.0798          0.000000   \n",
       "YDUQ3     Serviços Educacionais  0.0061  0.0092  5.0001          0.151773   \n",
       "YDUQ3     Serviços Educacionais  0.0023  0.0112  5.0953          0.732759   \n",
       "YDUQ3     Serviços Educacionais -0.0008  0.0107  4.8186          0.408671   \n",
       "\n",
       "       RETORNOS_LOGARITIMOS  RETORNOS_ACUMULADOS    SHARPE      MÉDIA  \\\n",
       "PAPEL                                                                   \n",
       "ABEV3                   NaN                  NaN  1.928270  14.226667   \n",
       "ABEV3             -0.019964            -0.019766  1.928270  14.226667   \n",
       "ABEV3              0.067847             0.049048  1.928270  14.226667   \n",
       "ABEV3             -0.011934             0.036603  1.928270  14.226667   \n",
       "ABEV3              0.017501             0.054905  1.928270  14.226667   \n",
       "...                     ...                  ...       ...        ...   \n",
       "YDUQ3             -0.382025            -0.317522  2.188639  11.073333   \n",
       "YDUQ3              0.000000            -0.317522  2.188639  11.073333   \n",
       "YDUQ3              0.141303            -0.213940  2.188639  11.073333   \n",
       "YDUQ3              0.549715             0.362052  2.188639  11.073333   \n",
       "YDUQ3              0.342647             0.918683  2.188639  11.073333   \n",
       "\n",
       "       MÁXIMO DROW DOWN  MÁXIMO DROW DOWN bruto  VOLATILIDADE  RENTABILIDADE  \n",
       "PAPEL                                                                         \n",
       "ABEV3         -0.019766                   -0.27      0.043101       0.128111  \n",
       "ABEV3         -0.019766                   -0.27      0.043101       0.128111  \n",
       "ABEV3         -0.019766                   -0.27      0.043101       0.128111  \n",
       "ABEV3         -0.019766                   -0.27      0.043101       0.128111  \n",
       "ABEV3         -0.019766                   -0.27      0.043101       0.128111  \n",
       "...                 ...                     ...           ...            ...  \n",
       "YDUQ3         -0.317522                   -3.28      0.399190       0.918683  \n",
       "YDUQ3         -0.317522                   -3.28      0.399190       0.918683  \n",
       "YDUQ3         -0.317522                   -3.28      0.399190       0.918683  \n",
       "YDUQ3         -0.317522                   -3.28      0.399190       0.918683  \n",
       "YDUQ3         -0.317522                   -3.28      0.399190       0.918683  \n",
       "\n",
       "[528 rows x 18 columns]"
      ]
     },
     "execution_count": 211,
     "metadata": {},
     "output_type": "execute_result"
    }
   ],
   "source": [
    "t6 = pd.merge(t5,top_valorizadas.to_frame(name='RENTABILIDADE'), right_index=True,left_index=True, how='outer')\n",
    "t6"
   ]
  },
  {
   "cell_type": "markdown",
   "metadata": {},
   "source": [
    "#### JUNTANDO RENTABILIDADE BRUTA DO PERIODO"
   ]
  },
  {
   "cell_type": "code",
   "execution_count": 212,
   "metadata": {},
   "outputs": [
    {
     "data": {
      "text/html": [
       "<div>\n",
       "<style scoped>\n",
       "    .dataframe tbody tr th:only-of-type {\n",
       "        vertical-align: middle;\n",
       "    }\n",
       "\n",
       "    .dataframe tbody tr th {\n",
       "        vertical-align: top;\n",
       "    }\n",
       "\n",
       "    .dataframe thead th {\n",
       "        text-align: right;\n",
       "    }\n",
       "</style>\n",
       "<table border=\"1\" class=\"dataframe\">\n",
       "  <thead>\n",
       "    <tr style=\"text-align: right;\">\n",
       "      <th></th>\n",
       "      <th>DATA</th>\n",
       "      <th>NOME</th>\n",
       "      <th>PREÇO (R$)</th>\n",
       "      <th>SETOR ECONÔMICO</th>\n",
       "      <th>SUBSETOR</th>\n",
       "      <th>SEGMENTO</th>\n",
       "      <th>IPCA</th>\n",
       "      <th>SELIC</th>\n",
       "      <th>USD</th>\n",
       "      <th>RETORNOS_SIMPLES</th>\n",
       "      <th>RETORNOS_LOGARITIMOS</th>\n",
       "      <th>RETORNOS_ACUMULADOS</th>\n",
       "      <th>SHARPE</th>\n",
       "      <th>MÉDIA</th>\n",
       "      <th>MÁXIMO DROW DOWN</th>\n",
       "      <th>MÁXIMO DROW DOWN bruto</th>\n",
       "      <th>VOLATILIDADE</th>\n",
       "      <th>RENTABILIDADE</th>\n",
       "      <th>GANHO BRUTO R$</th>\n",
       "    </tr>\n",
       "    <tr>\n",
       "      <th>PAPEL</th>\n",
       "      <th></th>\n",
       "      <th></th>\n",
       "      <th></th>\n",
       "      <th></th>\n",
       "      <th></th>\n",
       "      <th></th>\n",
       "      <th></th>\n",
       "      <th></th>\n",
       "      <th></th>\n",
       "      <th></th>\n",
       "      <th></th>\n",
       "      <th></th>\n",
       "      <th></th>\n",
       "      <th></th>\n",
       "      <th></th>\n",
       "      <th></th>\n",
       "      <th></th>\n",
       "      <th></th>\n",
       "      <th></th>\n",
       "    </tr>\n",
       "  </thead>\n",
       "  <tbody>\n",
       "    <tr>\n",
       "      <th>ABEV3</th>\n",
       "      <td>2023-01-31</td>\n",
       "      <td>AMBEV S/A</td>\n",
       "      <td>13.66</td>\n",
       "      <td>Consumo não Cíclico</td>\n",
       "      <td>Bebidas</td>\n",
       "      <td>Cervejas e Refrigerantes</td>\n",
       "      <td>0.0053</td>\n",
       "      <td>0.0112</td>\n",
       "      <td>5.0987</td>\n",
       "      <td>NaN</td>\n",
       "      <td>NaN</td>\n",
       "      <td>NaN</td>\n",
       "      <td>1.928270</td>\n",
       "      <td>14.226667</td>\n",
       "      <td>-0.019766</td>\n",
       "      <td>-0.27</td>\n",
       "      <td>0.043101</td>\n",
       "      <td>0.128111</td>\n",
       "      <td>1.75</td>\n",
       "    </tr>\n",
       "    <tr>\n",
       "      <th>ABEV3</th>\n",
       "      <td>2023-02-28</td>\n",
       "      <td>AMBEV S/A</td>\n",
       "      <td>13.39</td>\n",
       "      <td>Consumo não Cíclico</td>\n",
       "      <td>Bebidas</td>\n",
       "      <td>Cervejas e Refrigerantes</td>\n",
       "      <td>0.0084</td>\n",
       "      <td>0.0092</td>\n",
       "      <td>5.2072</td>\n",
       "      <td>-0.019766</td>\n",
       "      <td>-0.019964</td>\n",
       "      <td>-0.019766</td>\n",
       "      <td>1.928270</td>\n",
       "      <td>14.226667</td>\n",
       "      <td>-0.019766</td>\n",
       "      <td>-0.27</td>\n",
       "      <td>0.043101</td>\n",
       "      <td>0.128111</td>\n",
       "      <td>1.75</td>\n",
       "    </tr>\n",
       "    <tr>\n",
       "      <th>ABEV3</th>\n",
       "      <td>2023-03-31</td>\n",
       "      <td>AMBEV S/A</td>\n",
       "      <td>14.33</td>\n",
       "      <td>Consumo não Cíclico</td>\n",
       "      <td>Bebidas</td>\n",
       "      <td>Cervejas e Refrigerantes</td>\n",
       "      <td>0.0071</td>\n",
       "      <td>0.0117</td>\n",
       "      <td>5.0798</td>\n",
       "      <td>0.070202</td>\n",
       "      <td>0.067847</td>\n",
       "      <td>0.049048</td>\n",
       "      <td>1.928270</td>\n",
       "      <td>14.226667</td>\n",
       "      <td>-0.019766</td>\n",
       "      <td>-0.27</td>\n",
       "      <td>0.043101</td>\n",
       "      <td>0.128111</td>\n",
       "      <td>1.75</td>\n",
       "    </tr>\n",
       "    <tr>\n",
       "      <th>ABEV3</th>\n",
       "      <td>2023-04-30</td>\n",
       "      <td>AMBEV S/A</td>\n",
       "      <td>14.16</td>\n",
       "      <td>Consumo não Cíclico</td>\n",
       "      <td>Bebidas</td>\n",
       "      <td>Cervejas e Refrigerantes</td>\n",
       "      <td>0.0061</td>\n",
       "      <td>0.0092</td>\n",
       "      <td>5.0001</td>\n",
       "      <td>-0.011863</td>\n",
       "      <td>-0.011934</td>\n",
       "      <td>0.036603</td>\n",
       "      <td>1.928270</td>\n",
       "      <td>14.226667</td>\n",
       "      <td>-0.019766</td>\n",
       "      <td>-0.27</td>\n",
       "      <td>0.043101</td>\n",
       "      <td>0.128111</td>\n",
       "      <td>1.75</td>\n",
       "    </tr>\n",
       "    <tr>\n",
       "      <th>ABEV3</th>\n",
       "      <td>2023-05-31</td>\n",
       "      <td>AMBEV S/A</td>\n",
       "      <td>14.41</td>\n",
       "      <td>Consumo não Cíclico</td>\n",
       "      <td>Bebidas</td>\n",
       "      <td>Cervejas e Refrigerantes</td>\n",
       "      <td>0.0023</td>\n",
       "      <td>0.0112</td>\n",
       "      <td>5.0953</td>\n",
       "      <td>0.017655</td>\n",
       "      <td>0.017501</td>\n",
       "      <td>0.054905</td>\n",
       "      <td>1.928270</td>\n",
       "      <td>14.226667</td>\n",
       "      <td>-0.019766</td>\n",
       "      <td>-0.27</td>\n",
       "      <td>0.043101</td>\n",
       "      <td>0.128111</td>\n",
       "      <td>1.75</td>\n",
       "    </tr>\n",
       "    <tr>\n",
       "      <th>...</th>\n",
       "      <td>...</td>\n",
       "      <td>...</td>\n",
       "      <td>...</td>\n",
       "      <td>...</td>\n",
       "      <td>...</td>\n",
       "      <td>...</td>\n",
       "      <td>...</td>\n",
       "      <td>...</td>\n",
       "      <td>...</td>\n",
       "      <td>...</td>\n",
       "      <td>...</td>\n",
       "      <td>...</td>\n",
       "      <td>...</td>\n",
       "      <td>...</td>\n",
       "      <td>...</td>\n",
       "      <td>...</td>\n",
       "      <td>...</td>\n",
       "      <td>...</td>\n",
       "      <td>...</td>\n",
       "    </tr>\n",
       "    <tr>\n",
       "      <th>YDUQ3</th>\n",
       "      <td>2023-02-28</td>\n",
       "      <td>YDUQS PART</td>\n",
       "      <td>7.05</td>\n",
       "      <td>Consumo Cíclico</td>\n",
       "      <td>Diversos</td>\n",
       "      <td>Serviços Educacionais</td>\n",
       "      <td>0.0084</td>\n",
       "      <td>0.0092</td>\n",
       "      <td>5.2072</td>\n",
       "      <td>-0.317522</td>\n",
       "      <td>-0.382025</td>\n",
       "      <td>-0.317522</td>\n",
       "      <td>2.188639</td>\n",
       "      <td>11.073333</td>\n",
       "      <td>-0.317522</td>\n",
       "      <td>-3.28</td>\n",
       "      <td>0.399190</td>\n",
       "      <td>0.918683</td>\n",
       "      <td>9.49</td>\n",
       "    </tr>\n",
       "    <tr>\n",
       "      <th>YDUQ3</th>\n",
       "      <td>2023-03-31</td>\n",
       "      <td>YDUQS PART</td>\n",
       "      <td>7.05</td>\n",
       "      <td>Consumo Cíclico</td>\n",
       "      <td>Diversos</td>\n",
       "      <td>Serviços Educacionais</td>\n",
       "      <td>0.0071</td>\n",
       "      <td>0.0117</td>\n",
       "      <td>5.0798</td>\n",
       "      <td>0.000000</td>\n",
       "      <td>0.000000</td>\n",
       "      <td>-0.317522</td>\n",
       "      <td>2.188639</td>\n",
       "      <td>11.073333</td>\n",
       "      <td>-0.317522</td>\n",
       "      <td>-3.28</td>\n",
       "      <td>0.399190</td>\n",
       "      <td>0.918683</td>\n",
       "      <td>9.49</td>\n",
       "    </tr>\n",
       "    <tr>\n",
       "      <th>YDUQ3</th>\n",
       "      <td>2023-04-30</td>\n",
       "      <td>YDUQS PART</td>\n",
       "      <td>8.12</td>\n",
       "      <td>Consumo Cíclico</td>\n",
       "      <td>Diversos</td>\n",
       "      <td>Serviços Educacionais</td>\n",
       "      <td>0.0061</td>\n",
       "      <td>0.0092</td>\n",
       "      <td>5.0001</td>\n",
       "      <td>0.151773</td>\n",
       "      <td>0.141303</td>\n",
       "      <td>-0.213940</td>\n",
       "      <td>2.188639</td>\n",
       "      <td>11.073333</td>\n",
       "      <td>-0.317522</td>\n",
       "      <td>-3.28</td>\n",
       "      <td>0.399190</td>\n",
       "      <td>0.918683</td>\n",
       "      <td>9.49</td>\n",
       "    </tr>\n",
       "    <tr>\n",
       "      <th>YDUQ3</th>\n",
       "      <td>2023-05-31</td>\n",
       "      <td>YDUQS PART</td>\n",
       "      <td>14.07</td>\n",
       "      <td>Consumo Cíclico</td>\n",
       "      <td>Diversos</td>\n",
       "      <td>Serviços Educacionais</td>\n",
       "      <td>0.0023</td>\n",
       "      <td>0.0112</td>\n",
       "      <td>5.0953</td>\n",
       "      <td>0.732759</td>\n",
       "      <td>0.549715</td>\n",
       "      <td>0.362052</td>\n",
       "      <td>2.188639</td>\n",
       "      <td>11.073333</td>\n",
       "      <td>-0.317522</td>\n",
       "      <td>-3.28</td>\n",
       "      <td>0.399190</td>\n",
       "      <td>0.918683</td>\n",
       "      <td>9.49</td>\n",
       "    </tr>\n",
       "    <tr>\n",
       "      <th>YDUQ3</th>\n",
       "      <td>2023-06-30</td>\n",
       "      <td>YDUQS PART</td>\n",
       "      <td>19.82</td>\n",
       "      <td>Consumo Cíclico</td>\n",
       "      <td>Diversos</td>\n",
       "      <td>Serviços Educacionais</td>\n",
       "      <td>-0.0008</td>\n",
       "      <td>0.0107</td>\n",
       "      <td>4.8186</td>\n",
       "      <td>0.408671</td>\n",
       "      <td>0.342647</td>\n",
       "      <td>0.918683</td>\n",
       "      <td>2.188639</td>\n",
       "      <td>11.073333</td>\n",
       "      <td>-0.317522</td>\n",
       "      <td>-3.28</td>\n",
       "      <td>0.399190</td>\n",
       "      <td>0.918683</td>\n",
       "      <td>9.49</td>\n",
       "    </tr>\n",
       "  </tbody>\n",
       "</table>\n",
       "<p>528 rows × 19 columns</p>\n",
       "</div>"
      ],
      "text/plain": [
       "            DATA        NOME  PREÇO (R$)      SETOR ECONÔMICO  SUBSETOR  \\\n",
       "PAPEL                                                                     \n",
       "ABEV3 2023-01-31   AMBEV S/A       13.66  Consumo não Cíclico   Bebidas   \n",
       "ABEV3 2023-02-28   AMBEV S/A       13.39  Consumo não Cíclico   Bebidas   \n",
       "ABEV3 2023-03-31   AMBEV S/A       14.33  Consumo não Cíclico   Bebidas   \n",
       "ABEV3 2023-04-30   AMBEV S/A       14.16  Consumo não Cíclico   Bebidas   \n",
       "ABEV3 2023-05-31   AMBEV S/A       14.41  Consumo não Cíclico   Bebidas   \n",
       "...          ...         ...         ...                  ...       ...   \n",
       "YDUQ3 2023-02-28  YDUQS PART        7.05      Consumo Cíclico  Diversos   \n",
       "YDUQ3 2023-03-31  YDUQS PART        7.05      Consumo Cíclico  Diversos   \n",
       "YDUQ3 2023-04-30  YDUQS PART        8.12      Consumo Cíclico  Diversos   \n",
       "YDUQ3 2023-05-31  YDUQS PART       14.07      Consumo Cíclico  Diversos   \n",
       "YDUQ3 2023-06-30  YDUQS PART       19.82      Consumo Cíclico  Diversos   \n",
       "\n",
       "                       SEGMENTO    IPCA   SELIC     USD  RETORNOS_SIMPLES  \\\n",
       "PAPEL                                                                       \n",
       "ABEV3  Cervejas e Refrigerantes  0.0053  0.0112  5.0987               NaN   \n",
       "ABEV3  Cervejas e Refrigerantes  0.0084  0.0092  5.2072         -0.019766   \n",
       "ABEV3  Cervejas e Refrigerantes  0.0071  0.0117  5.0798          0.070202   \n",
       "ABEV3  Cervejas e Refrigerantes  0.0061  0.0092  5.0001         -0.011863   \n",
       "ABEV3  Cervejas e Refrigerantes  0.0023  0.0112  5.0953          0.017655   \n",
       "...                         ...     ...     ...     ...               ...   \n",
       "YDUQ3     Serviços Educacionais  0.0084  0.0092  5.2072         -0.317522   \n",
       "YDUQ3     Serviços Educacionais  0.0071  0.0117  5.0798          0.000000   \n",
       "YDUQ3     Serviços Educacionais  0.0061  0.0092  5.0001          0.151773   \n",
       "YDUQ3     Serviços Educacionais  0.0023  0.0112  5.0953          0.732759   \n",
       "YDUQ3     Serviços Educacionais -0.0008  0.0107  4.8186          0.408671   \n",
       "\n",
       "       RETORNOS_LOGARITIMOS  RETORNOS_ACUMULADOS    SHARPE      MÉDIA  \\\n",
       "PAPEL                                                                   \n",
       "ABEV3                   NaN                  NaN  1.928270  14.226667   \n",
       "ABEV3             -0.019964            -0.019766  1.928270  14.226667   \n",
       "ABEV3              0.067847             0.049048  1.928270  14.226667   \n",
       "ABEV3             -0.011934             0.036603  1.928270  14.226667   \n",
       "ABEV3              0.017501             0.054905  1.928270  14.226667   \n",
       "...                     ...                  ...       ...        ...   \n",
       "YDUQ3             -0.382025            -0.317522  2.188639  11.073333   \n",
       "YDUQ3              0.000000            -0.317522  2.188639  11.073333   \n",
       "YDUQ3              0.141303            -0.213940  2.188639  11.073333   \n",
       "YDUQ3              0.549715             0.362052  2.188639  11.073333   \n",
       "YDUQ3              0.342647             0.918683  2.188639  11.073333   \n",
       "\n",
       "       MÁXIMO DROW DOWN  MÁXIMO DROW DOWN bruto  VOLATILIDADE  RENTABILIDADE  \\\n",
       "PAPEL                                                                          \n",
       "ABEV3         -0.019766                   -0.27      0.043101       0.128111   \n",
       "ABEV3         -0.019766                   -0.27      0.043101       0.128111   \n",
       "ABEV3         -0.019766                   -0.27      0.043101       0.128111   \n",
       "ABEV3         -0.019766                   -0.27      0.043101       0.128111   \n",
       "ABEV3         -0.019766                   -0.27      0.043101       0.128111   \n",
       "...                 ...                     ...           ...            ...   \n",
       "YDUQ3         -0.317522                   -3.28      0.399190       0.918683   \n",
       "YDUQ3         -0.317522                   -3.28      0.399190       0.918683   \n",
       "YDUQ3         -0.317522                   -3.28      0.399190       0.918683   \n",
       "YDUQ3         -0.317522                   -3.28      0.399190       0.918683   \n",
       "YDUQ3         -0.317522                   -3.28      0.399190       0.918683   \n",
       "\n",
       "       GANHO BRUTO R$  \n",
       "PAPEL                  \n",
       "ABEV3            1.75  \n",
       "ABEV3            1.75  \n",
       "ABEV3            1.75  \n",
       "ABEV3            1.75  \n",
       "ABEV3            1.75  \n",
       "...               ...  \n",
       "YDUQ3            9.49  \n",
       "YDUQ3            9.49  \n",
       "YDUQ3            9.49  \n",
       "YDUQ3            9.49  \n",
       "YDUQ3            9.49  \n",
       "\n",
       "[528 rows x 19 columns]"
      ]
     },
     "execution_count": 212,
     "metadata": {},
     "output_type": "execute_result"
    }
   ],
   "source": [
    "t7 = pd.merge(t6,ganho_reais.to_frame(name='GANHO BRUTO R$'), right_index=True,left_index=True, how='outer')\n",
    "t7"
   ]
  },
  {
   "cell_type": "code",
   "execution_count": 285,
   "metadata": {},
   "outputs": [
    {
     "data": {
      "text/html": [
       "<div>\n",
       "<style scoped>\n",
       "    .dataframe tbody tr th:only-of-type {\n",
       "        vertical-align: middle;\n",
       "    }\n",
       "\n",
       "    .dataframe tbody tr th {\n",
       "        vertical-align: top;\n",
       "    }\n",
       "\n",
       "    .dataframe thead th {\n",
       "        text-align: right;\n",
       "    }\n",
       "</style>\n",
       "<table border=\"1\" class=\"dataframe\">\n",
       "  <thead>\n",
       "    <tr style=\"text-align: right;\">\n",
       "      <th></th>\n",
       "      <th>DATA</th>\n",
       "      <th>NOME</th>\n",
       "      <th>PREÇO (R$)</th>\n",
       "      <th>SETOR ECONÔMICO</th>\n",
       "      <th>SUBSETOR</th>\n",
       "      <th>SEGMENTO</th>\n",
       "      <th>IPCA</th>\n",
       "      <th>SELIC</th>\n",
       "      <th>USD</th>\n",
       "      <th>RETORNOS_SIMPLES</th>\n",
       "      <th>RETORNOS_LOGARITIMOS</th>\n",
       "      <th>RETORNOS_ACUMULADOS</th>\n",
       "      <th>SHARPE</th>\n",
       "      <th>MÉDIA</th>\n",
       "      <th>MÁXIMO DROW DOWN</th>\n",
       "      <th>MÁXIMO DROW DOWN bruto</th>\n",
       "      <th>VOLATILIDADE</th>\n",
       "      <th>RENTABILIDADE</th>\n",
       "      <th>GANHO BRUTO R$</th>\n",
       "    </tr>\n",
       "    <tr>\n",
       "      <th>PAPEL</th>\n",
       "      <th></th>\n",
       "      <th></th>\n",
       "      <th></th>\n",
       "      <th></th>\n",
       "      <th></th>\n",
       "      <th></th>\n",
       "      <th></th>\n",
       "      <th></th>\n",
       "      <th></th>\n",
       "      <th></th>\n",
       "      <th></th>\n",
       "      <th></th>\n",
       "      <th></th>\n",
       "      <th></th>\n",
       "      <th></th>\n",
       "      <th></th>\n",
       "      <th></th>\n",
       "      <th></th>\n",
       "      <th></th>\n",
       "    </tr>\n",
       "  </thead>\n",
       "  <tbody>\n",
       "    <tr>\n",
       "      <th>ABEV3</th>\n",
       "      <td>2023-01-31</td>\n",
       "      <td>AMBEV S/A</td>\n",
       "      <td>13.66</td>\n",
       "      <td>Consumo não Cíclico</td>\n",
       "      <td>Bebidas</td>\n",
       "      <td>Cervejas e Refrigerantes</td>\n",
       "      <td>0.0053</td>\n",
       "      <td>0.0112</td>\n",
       "      <td>5.0987</td>\n",
       "      <td>NaN</td>\n",
       "      <td>NaN</td>\n",
       "      <td>NaN</td>\n",
       "      <td>1.928270</td>\n",
       "      <td>14.226667</td>\n",
       "      <td>-0.019766</td>\n",
       "      <td>-0.27</td>\n",
       "      <td>0.043101</td>\n",
       "      <td>0.128111</td>\n",
       "      <td>1.75</td>\n",
       "    </tr>\n",
       "    <tr>\n",
       "      <th>ABEV3</th>\n",
       "      <td>2023-02-28</td>\n",
       "      <td>AMBEV S/A</td>\n",
       "      <td>13.39</td>\n",
       "      <td>Consumo não Cíclico</td>\n",
       "      <td>Bebidas</td>\n",
       "      <td>Cervejas e Refrigerantes</td>\n",
       "      <td>0.0084</td>\n",
       "      <td>0.0092</td>\n",
       "      <td>5.2072</td>\n",
       "      <td>-0.019766</td>\n",
       "      <td>-0.019964</td>\n",
       "      <td>-0.019766</td>\n",
       "      <td>1.928270</td>\n",
       "      <td>14.226667</td>\n",
       "      <td>-0.019766</td>\n",
       "      <td>-0.27</td>\n",
       "      <td>0.043101</td>\n",
       "      <td>0.128111</td>\n",
       "      <td>1.75</td>\n",
       "    </tr>\n",
       "    <tr>\n",
       "      <th>ABEV3</th>\n",
       "      <td>2023-03-31</td>\n",
       "      <td>AMBEV S/A</td>\n",
       "      <td>14.33</td>\n",
       "      <td>Consumo não Cíclico</td>\n",
       "      <td>Bebidas</td>\n",
       "      <td>Cervejas e Refrigerantes</td>\n",
       "      <td>0.0071</td>\n",
       "      <td>0.0117</td>\n",
       "      <td>5.0798</td>\n",
       "      <td>0.070202</td>\n",
       "      <td>0.067847</td>\n",
       "      <td>0.049048</td>\n",
       "      <td>1.928270</td>\n",
       "      <td>14.226667</td>\n",
       "      <td>-0.019766</td>\n",
       "      <td>-0.27</td>\n",
       "      <td>0.043101</td>\n",
       "      <td>0.128111</td>\n",
       "      <td>1.75</td>\n",
       "    </tr>\n",
       "    <tr>\n",
       "      <th>ABEV3</th>\n",
       "      <td>2023-04-30</td>\n",
       "      <td>AMBEV S/A</td>\n",
       "      <td>14.16</td>\n",
       "      <td>Consumo não Cíclico</td>\n",
       "      <td>Bebidas</td>\n",
       "      <td>Cervejas e Refrigerantes</td>\n",
       "      <td>0.0061</td>\n",
       "      <td>0.0092</td>\n",
       "      <td>5.0001</td>\n",
       "      <td>-0.011863</td>\n",
       "      <td>-0.011934</td>\n",
       "      <td>0.036603</td>\n",
       "      <td>1.928270</td>\n",
       "      <td>14.226667</td>\n",
       "      <td>-0.019766</td>\n",
       "      <td>-0.27</td>\n",
       "      <td>0.043101</td>\n",
       "      <td>0.128111</td>\n",
       "      <td>1.75</td>\n",
       "    </tr>\n",
       "    <tr>\n",
       "      <th>ABEV3</th>\n",
       "      <td>2023-05-31</td>\n",
       "      <td>AMBEV S/A</td>\n",
       "      <td>14.41</td>\n",
       "      <td>Consumo não Cíclico</td>\n",
       "      <td>Bebidas</td>\n",
       "      <td>Cervejas e Refrigerantes</td>\n",
       "      <td>0.0023</td>\n",
       "      <td>0.0112</td>\n",
       "      <td>5.0953</td>\n",
       "      <td>0.017655</td>\n",
       "      <td>0.017501</td>\n",
       "      <td>0.054905</td>\n",
       "      <td>1.928270</td>\n",
       "      <td>14.226667</td>\n",
       "      <td>-0.019766</td>\n",
       "      <td>-0.27</td>\n",
       "      <td>0.043101</td>\n",
       "      <td>0.128111</td>\n",
       "      <td>1.75</td>\n",
       "    </tr>\n",
       "    <tr>\n",
       "      <th>...</th>\n",
       "      <td>...</td>\n",
       "      <td>...</td>\n",
       "      <td>...</td>\n",
       "      <td>...</td>\n",
       "      <td>...</td>\n",
       "      <td>...</td>\n",
       "      <td>...</td>\n",
       "      <td>...</td>\n",
       "      <td>...</td>\n",
       "      <td>...</td>\n",
       "      <td>...</td>\n",
       "      <td>...</td>\n",
       "      <td>...</td>\n",
       "      <td>...</td>\n",
       "      <td>...</td>\n",
       "      <td>...</td>\n",
       "      <td>...</td>\n",
       "      <td>...</td>\n",
       "      <td>...</td>\n",
       "    </tr>\n",
       "    <tr>\n",
       "      <th>YDUQ3</th>\n",
       "      <td>2023-02-28</td>\n",
       "      <td>YDUQS PART</td>\n",
       "      <td>7.05</td>\n",
       "      <td>Consumo Cíclico</td>\n",
       "      <td>Diversos</td>\n",
       "      <td>Serviços Educacionais</td>\n",
       "      <td>0.0084</td>\n",
       "      <td>0.0092</td>\n",
       "      <td>5.2072</td>\n",
       "      <td>-0.317522</td>\n",
       "      <td>-0.382025</td>\n",
       "      <td>-0.317522</td>\n",
       "      <td>2.188639</td>\n",
       "      <td>11.073333</td>\n",
       "      <td>-0.317522</td>\n",
       "      <td>-3.28</td>\n",
       "      <td>0.399190</td>\n",
       "      <td>0.918683</td>\n",
       "      <td>9.49</td>\n",
       "    </tr>\n",
       "    <tr>\n",
       "      <th>YDUQ3</th>\n",
       "      <td>2023-03-31</td>\n",
       "      <td>YDUQS PART</td>\n",
       "      <td>7.05</td>\n",
       "      <td>Consumo Cíclico</td>\n",
       "      <td>Diversos</td>\n",
       "      <td>Serviços Educacionais</td>\n",
       "      <td>0.0071</td>\n",
       "      <td>0.0117</td>\n",
       "      <td>5.0798</td>\n",
       "      <td>0.000000</td>\n",
       "      <td>0.000000</td>\n",
       "      <td>-0.317522</td>\n",
       "      <td>2.188639</td>\n",
       "      <td>11.073333</td>\n",
       "      <td>-0.317522</td>\n",
       "      <td>-3.28</td>\n",
       "      <td>0.399190</td>\n",
       "      <td>0.918683</td>\n",
       "      <td>9.49</td>\n",
       "    </tr>\n",
       "    <tr>\n",
       "      <th>YDUQ3</th>\n",
       "      <td>2023-04-30</td>\n",
       "      <td>YDUQS PART</td>\n",
       "      <td>8.12</td>\n",
       "      <td>Consumo Cíclico</td>\n",
       "      <td>Diversos</td>\n",
       "      <td>Serviços Educacionais</td>\n",
       "      <td>0.0061</td>\n",
       "      <td>0.0092</td>\n",
       "      <td>5.0001</td>\n",
       "      <td>0.151773</td>\n",
       "      <td>0.141303</td>\n",
       "      <td>-0.213940</td>\n",
       "      <td>2.188639</td>\n",
       "      <td>11.073333</td>\n",
       "      <td>-0.317522</td>\n",
       "      <td>-3.28</td>\n",
       "      <td>0.399190</td>\n",
       "      <td>0.918683</td>\n",
       "      <td>9.49</td>\n",
       "    </tr>\n",
       "    <tr>\n",
       "      <th>YDUQ3</th>\n",
       "      <td>2023-05-31</td>\n",
       "      <td>YDUQS PART</td>\n",
       "      <td>14.07</td>\n",
       "      <td>Consumo Cíclico</td>\n",
       "      <td>Diversos</td>\n",
       "      <td>Serviços Educacionais</td>\n",
       "      <td>0.0023</td>\n",
       "      <td>0.0112</td>\n",
       "      <td>5.0953</td>\n",
       "      <td>0.732759</td>\n",
       "      <td>0.549715</td>\n",
       "      <td>0.362052</td>\n",
       "      <td>2.188639</td>\n",
       "      <td>11.073333</td>\n",
       "      <td>-0.317522</td>\n",
       "      <td>-3.28</td>\n",
       "      <td>0.399190</td>\n",
       "      <td>0.918683</td>\n",
       "      <td>9.49</td>\n",
       "    </tr>\n",
       "    <tr>\n",
       "      <th>YDUQ3</th>\n",
       "      <td>2023-06-30</td>\n",
       "      <td>YDUQS PART</td>\n",
       "      <td>19.82</td>\n",
       "      <td>Consumo Cíclico</td>\n",
       "      <td>Diversos</td>\n",
       "      <td>Serviços Educacionais</td>\n",
       "      <td>-0.0008</td>\n",
       "      <td>0.0107</td>\n",
       "      <td>4.8186</td>\n",
       "      <td>0.408671</td>\n",
       "      <td>0.342647</td>\n",
       "      <td>0.918683</td>\n",
       "      <td>2.188639</td>\n",
       "      <td>11.073333</td>\n",
       "      <td>-0.317522</td>\n",
       "      <td>-3.28</td>\n",
       "      <td>0.399190</td>\n",
       "      <td>0.918683</td>\n",
       "      <td>9.49</td>\n",
       "    </tr>\n",
       "  </tbody>\n",
       "</table>\n",
       "<p>528 rows × 19 columns</p>\n",
       "</div>"
      ],
      "text/plain": [
       "            DATA        NOME  PREÇO (R$)      SETOR ECONÔMICO  SUBSETOR  \\\n",
       "PAPEL                                                                     \n",
       "ABEV3 2023-01-31   AMBEV S/A       13.66  Consumo não Cíclico   Bebidas   \n",
       "ABEV3 2023-02-28   AMBEV S/A       13.39  Consumo não Cíclico   Bebidas   \n",
       "ABEV3 2023-03-31   AMBEV S/A       14.33  Consumo não Cíclico   Bebidas   \n",
       "ABEV3 2023-04-30   AMBEV S/A       14.16  Consumo não Cíclico   Bebidas   \n",
       "ABEV3 2023-05-31   AMBEV S/A       14.41  Consumo não Cíclico   Bebidas   \n",
       "...          ...         ...         ...                  ...       ...   \n",
       "YDUQ3 2023-02-28  YDUQS PART        7.05      Consumo Cíclico  Diversos   \n",
       "YDUQ3 2023-03-31  YDUQS PART        7.05      Consumo Cíclico  Diversos   \n",
       "YDUQ3 2023-04-30  YDUQS PART        8.12      Consumo Cíclico  Diversos   \n",
       "YDUQ3 2023-05-31  YDUQS PART       14.07      Consumo Cíclico  Diversos   \n",
       "YDUQ3 2023-06-30  YDUQS PART       19.82      Consumo Cíclico  Diversos   \n",
       "\n",
       "                       SEGMENTO    IPCA   SELIC     USD  RETORNOS_SIMPLES  \\\n",
       "PAPEL                                                                       \n",
       "ABEV3  Cervejas e Refrigerantes  0.0053  0.0112  5.0987               NaN   \n",
       "ABEV3  Cervejas e Refrigerantes  0.0084  0.0092  5.2072         -0.019766   \n",
       "ABEV3  Cervejas e Refrigerantes  0.0071  0.0117  5.0798          0.070202   \n",
       "ABEV3  Cervejas e Refrigerantes  0.0061  0.0092  5.0001         -0.011863   \n",
       "ABEV3  Cervejas e Refrigerantes  0.0023  0.0112  5.0953          0.017655   \n",
       "...                         ...     ...     ...     ...               ...   \n",
       "YDUQ3     Serviços Educacionais  0.0084  0.0092  5.2072         -0.317522   \n",
       "YDUQ3     Serviços Educacionais  0.0071  0.0117  5.0798          0.000000   \n",
       "YDUQ3     Serviços Educacionais  0.0061  0.0092  5.0001          0.151773   \n",
       "YDUQ3     Serviços Educacionais  0.0023  0.0112  5.0953          0.732759   \n",
       "YDUQ3     Serviços Educacionais -0.0008  0.0107  4.8186          0.408671   \n",
       "\n",
       "       RETORNOS_LOGARITIMOS  RETORNOS_ACUMULADOS    SHARPE      MÉDIA  \\\n",
       "PAPEL                                                                   \n",
       "ABEV3                   NaN                  NaN  1.928270  14.226667   \n",
       "ABEV3             -0.019964            -0.019766  1.928270  14.226667   \n",
       "ABEV3              0.067847             0.049048  1.928270  14.226667   \n",
       "ABEV3             -0.011934             0.036603  1.928270  14.226667   \n",
       "ABEV3              0.017501             0.054905  1.928270  14.226667   \n",
       "...                     ...                  ...       ...        ...   \n",
       "YDUQ3             -0.382025            -0.317522  2.188639  11.073333   \n",
       "YDUQ3              0.000000            -0.317522  2.188639  11.073333   \n",
       "YDUQ3              0.141303            -0.213940  2.188639  11.073333   \n",
       "YDUQ3              0.549715             0.362052  2.188639  11.073333   \n",
       "YDUQ3              0.342647             0.918683  2.188639  11.073333   \n",
       "\n",
       "       MÁXIMO DROW DOWN  MÁXIMO DROW DOWN bruto  VOLATILIDADE  RENTABILIDADE  \\\n",
       "PAPEL                                                                          \n",
       "ABEV3         -0.019766                   -0.27      0.043101       0.128111   \n",
       "ABEV3         -0.019766                   -0.27      0.043101       0.128111   \n",
       "ABEV3         -0.019766                   -0.27      0.043101       0.128111   \n",
       "ABEV3         -0.019766                   -0.27      0.043101       0.128111   \n",
       "ABEV3         -0.019766                   -0.27      0.043101       0.128111   \n",
       "...                 ...                     ...           ...            ...   \n",
       "YDUQ3         -0.317522                   -3.28      0.399190       0.918683   \n",
       "YDUQ3         -0.317522                   -3.28      0.399190       0.918683   \n",
       "YDUQ3         -0.317522                   -3.28      0.399190       0.918683   \n",
       "YDUQ3         -0.317522                   -3.28      0.399190       0.918683   \n",
       "YDUQ3         -0.317522                   -3.28      0.399190       0.918683   \n",
       "\n",
       "       GANHO BRUTO R$  \n",
       "PAPEL                  \n",
       "ABEV3            1.75  \n",
       "ABEV3            1.75  \n",
       "ABEV3            1.75  \n",
       "ABEV3            1.75  \n",
       "ABEV3            1.75  \n",
       "...               ...  \n",
       "YDUQ3            9.49  \n",
       "YDUQ3            9.49  \n",
       "YDUQ3            9.49  \n",
       "YDUQ3            9.49  \n",
       "YDUQ3            9.49  \n",
       "\n",
       "[528 rows x 19 columns]"
      ]
     },
     "execution_count": 285,
     "metadata": {},
     "output_type": "execute_result"
    }
   ],
   "source": [
    "df = t7.copy(deep=True)\n",
    "df"
   ]
  },
  {
   "cell_type": "markdown",
   "metadata": {},
   "source": [
    "# Começando as analises e plot de graficos"
   ]
  },
  {
   "cell_type": "code",
   "execution_count": 214,
   "metadata": {},
   "outputs": [],
   "source": [
    "from plotly import graph_objects as go\n",
    "from plotly.subplots import make_subplots\n"
   ]
  },
  {
   "cell_type": "code",
   "execution_count": 216,
   "metadata": {},
   "outputs": [
    {
     "data": {
      "text/html": [
       "<div>\n",
       "<style scoped>\n",
       "    .dataframe tbody tr th:only-of-type {\n",
       "        vertical-align: middle;\n",
       "    }\n",
       "\n",
       "    .dataframe tbody tr th {\n",
       "        vertical-align: top;\n",
       "    }\n",
       "\n",
       "    .dataframe thead th {\n",
       "        text-align: right;\n",
       "    }\n",
       "</style>\n",
       "<table border=\"1\" class=\"dataframe\">\n",
       "  <thead>\n",
       "    <tr style=\"text-align: right;\">\n",
       "      <th></th>\n",
       "      <th>DATA</th>\n",
       "      <th>NOME</th>\n",
       "      <th>PREÇO (R$)</th>\n",
       "      <th>SETOR ECONÔMICO</th>\n",
       "      <th>SUBSETOR</th>\n",
       "      <th>SEGMENTO</th>\n",
       "      <th>IPCA</th>\n",
       "      <th>SELIC</th>\n",
       "      <th>USD</th>\n",
       "      <th>RETORNOS_SIMPLES</th>\n",
       "      <th>RETORNOS_LOGARITIMOS</th>\n",
       "      <th>RETORNOS_ACUMULADOS</th>\n",
       "      <th>SHARPE</th>\n",
       "      <th>MÉDIA</th>\n",
       "      <th>MÁXIMO DROW DOWN</th>\n",
       "      <th>MÁXIMO DROW DOWN bruto</th>\n",
       "      <th>VOLATILIDADE</th>\n",
       "      <th>RENTABILIDADE</th>\n",
       "      <th>GANHO BRUTO R$</th>\n",
       "    </tr>\n",
       "    <tr>\n",
       "      <th>PAPEL</th>\n",
       "      <th></th>\n",
       "      <th></th>\n",
       "      <th></th>\n",
       "      <th></th>\n",
       "      <th></th>\n",
       "      <th></th>\n",
       "      <th></th>\n",
       "      <th></th>\n",
       "      <th></th>\n",
       "      <th></th>\n",
       "      <th></th>\n",
       "      <th></th>\n",
       "      <th></th>\n",
       "      <th></th>\n",
       "      <th></th>\n",
       "      <th></th>\n",
       "      <th></th>\n",
       "      <th></th>\n",
       "      <th></th>\n",
       "    </tr>\n",
       "  </thead>\n",
       "  <tbody>\n",
       "    <tr>\n",
       "      <th>ABEV3</th>\n",
       "      <td>2023-01-31</td>\n",
       "      <td>AMBEV S/A</td>\n",
       "      <td>13.66</td>\n",
       "      <td>Consumo não Cíclico</td>\n",
       "      <td>Bebidas</td>\n",
       "      <td>Cervejas e Refrigerantes</td>\n",
       "      <td>0.0053</td>\n",
       "      <td>0.0112</td>\n",
       "      <td>5.0987</td>\n",
       "      <td>NaN</td>\n",
       "      <td>NaN</td>\n",
       "      <td>NaN</td>\n",
       "      <td>1.928270</td>\n",
       "      <td>14.226667</td>\n",
       "      <td>-0.019766</td>\n",
       "      <td>-0.27</td>\n",
       "      <td>0.043101</td>\n",
       "      <td>0.128111</td>\n",
       "      <td>1.75</td>\n",
       "    </tr>\n",
       "    <tr>\n",
       "      <th>ABEV3</th>\n",
       "      <td>2023-02-28</td>\n",
       "      <td>AMBEV S/A</td>\n",
       "      <td>13.39</td>\n",
       "      <td>Consumo não Cíclico</td>\n",
       "      <td>Bebidas</td>\n",
       "      <td>Cervejas e Refrigerantes</td>\n",
       "      <td>0.0084</td>\n",
       "      <td>0.0092</td>\n",
       "      <td>5.2072</td>\n",
       "      <td>-0.019766</td>\n",
       "      <td>-0.019964</td>\n",
       "      <td>-0.019766</td>\n",
       "      <td>1.928270</td>\n",
       "      <td>14.226667</td>\n",
       "      <td>-0.019766</td>\n",
       "      <td>-0.27</td>\n",
       "      <td>0.043101</td>\n",
       "      <td>0.128111</td>\n",
       "      <td>1.75</td>\n",
       "    </tr>\n",
       "    <tr>\n",
       "      <th>ABEV3</th>\n",
       "      <td>2023-03-31</td>\n",
       "      <td>AMBEV S/A</td>\n",
       "      <td>14.33</td>\n",
       "      <td>Consumo não Cíclico</td>\n",
       "      <td>Bebidas</td>\n",
       "      <td>Cervejas e Refrigerantes</td>\n",
       "      <td>0.0071</td>\n",
       "      <td>0.0117</td>\n",
       "      <td>5.0798</td>\n",
       "      <td>0.070202</td>\n",
       "      <td>0.067847</td>\n",
       "      <td>0.049048</td>\n",
       "      <td>1.928270</td>\n",
       "      <td>14.226667</td>\n",
       "      <td>-0.019766</td>\n",
       "      <td>-0.27</td>\n",
       "      <td>0.043101</td>\n",
       "      <td>0.128111</td>\n",
       "      <td>1.75</td>\n",
       "    </tr>\n",
       "    <tr>\n",
       "      <th>ABEV3</th>\n",
       "      <td>2023-04-30</td>\n",
       "      <td>AMBEV S/A</td>\n",
       "      <td>14.16</td>\n",
       "      <td>Consumo não Cíclico</td>\n",
       "      <td>Bebidas</td>\n",
       "      <td>Cervejas e Refrigerantes</td>\n",
       "      <td>0.0061</td>\n",
       "      <td>0.0092</td>\n",
       "      <td>5.0001</td>\n",
       "      <td>-0.011863</td>\n",
       "      <td>-0.011934</td>\n",
       "      <td>0.036603</td>\n",
       "      <td>1.928270</td>\n",
       "      <td>14.226667</td>\n",
       "      <td>-0.019766</td>\n",
       "      <td>-0.27</td>\n",
       "      <td>0.043101</td>\n",
       "      <td>0.128111</td>\n",
       "      <td>1.75</td>\n",
       "    </tr>\n",
       "    <tr>\n",
       "      <th>ABEV3</th>\n",
       "      <td>2023-05-31</td>\n",
       "      <td>AMBEV S/A</td>\n",
       "      <td>14.41</td>\n",
       "      <td>Consumo não Cíclico</td>\n",
       "      <td>Bebidas</td>\n",
       "      <td>Cervejas e Refrigerantes</td>\n",
       "      <td>0.0023</td>\n",
       "      <td>0.0112</td>\n",
       "      <td>5.0953</td>\n",
       "      <td>0.017655</td>\n",
       "      <td>0.017501</td>\n",
       "      <td>0.054905</td>\n",
       "      <td>1.928270</td>\n",
       "      <td>14.226667</td>\n",
       "      <td>-0.019766</td>\n",
       "      <td>-0.27</td>\n",
       "      <td>0.043101</td>\n",
       "      <td>0.128111</td>\n",
       "      <td>1.75</td>\n",
       "    </tr>\n",
       "    <tr>\n",
       "      <th>...</th>\n",
       "      <td>...</td>\n",
       "      <td>...</td>\n",
       "      <td>...</td>\n",
       "      <td>...</td>\n",
       "      <td>...</td>\n",
       "      <td>...</td>\n",
       "      <td>...</td>\n",
       "      <td>...</td>\n",
       "      <td>...</td>\n",
       "      <td>...</td>\n",
       "      <td>...</td>\n",
       "      <td>...</td>\n",
       "      <td>...</td>\n",
       "      <td>...</td>\n",
       "      <td>...</td>\n",
       "      <td>...</td>\n",
       "      <td>...</td>\n",
       "      <td>...</td>\n",
       "      <td>...</td>\n",
       "    </tr>\n",
       "    <tr>\n",
       "      <th>YDUQ3</th>\n",
       "      <td>2023-02-28</td>\n",
       "      <td>YDUQS PART</td>\n",
       "      <td>7.05</td>\n",
       "      <td>Consumo Cíclico</td>\n",
       "      <td>Diversos</td>\n",
       "      <td>Serviços Educacionais</td>\n",
       "      <td>0.0084</td>\n",
       "      <td>0.0092</td>\n",
       "      <td>5.2072</td>\n",
       "      <td>-0.317522</td>\n",
       "      <td>-0.382025</td>\n",
       "      <td>-0.317522</td>\n",
       "      <td>2.188639</td>\n",
       "      <td>11.073333</td>\n",
       "      <td>-0.317522</td>\n",
       "      <td>-3.28</td>\n",
       "      <td>0.399190</td>\n",
       "      <td>0.918683</td>\n",
       "      <td>9.49</td>\n",
       "    </tr>\n",
       "    <tr>\n",
       "      <th>YDUQ3</th>\n",
       "      <td>2023-03-31</td>\n",
       "      <td>YDUQS PART</td>\n",
       "      <td>7.05</td>\n",
       "      <td>Consumo Cíclico</td>\n",
       "      <td>Diversos</td>\n",
       "      <td>Serviços Educacionais</td>\n",
       "      <td>0.0071</td>\n",
       "      <td>0.0117</td>\n",
       "      <td>5.0798</td>\n",
       "      <td>0.000000</td>\n",
       "      <td>0.000000</td>\n",
       "      <td>-0.317522</td>\n",
       "      <td>2.188639</td>\n",
       "      <td>11.073333</td>\n",
       "      <td>-0.317522</td>\n",
       "      <td>-3.28</td>\n",
       "      <td>0.399190</td>\n",
       "      <td>0.918683</td>\n",
       "      <td>9.49</td>\n",
       "    </tr>\n",
       "    <tr>\n",
       "      <th>YDUQ3</th>\n",
       "      <td>2023-04-30</td>\n",
       "      <td>YDUQS PART</td>\n",
       "      <td>8.12</td>\n",
       "      <td>Consumo Cíclico</td>\n",
       "      <td>Diversos</td>\n",
       "      <td>Serviços Educacionais</td>\n",
       "      <td>0.0061</td>\n",
       "      <td>0.0092</td>\n",
       "      <td>5.0001</td>\n",
       "      <td>0.151773</td>\n",
       "      <td>0.141303</td>\n",
       "      <td>-0.213940</td>\n",
       "      <td>2.188639</td>\n",
       "      <td>11.073333</td>\n",
       "      <td>-0.317522</td>\n",
       "      <td>-3.28</td>\n",
       "      <td>0.399190</td>\n",
       "      <td>0.918683</td>\n",
       "      <td>9.49</td>\n",
       "    </tr>\n",
       "    <tr>\n",
       "      <th>YDUQ3</th>\n",
       "      <td>2023-05-31</td>\n",
       "      <td>YDUQS PART</td>\n",
       "      <td>14.07</td>\n",
       "      <td>Consumo Cíclico</td>\n",
       "      <td>Diversos</td>\n",
       "      <td>Serviços Educacionais</td>\n",
       "      <td>0.0023</td>\n",
       "      <td>0.0112</td>\n",
       "      <td>5.0953</td>\n",
       "      <td>0.732759</td>\n",
       "      <td>0.549715</td>\n",
       "      <td>0.362052</td>\n",
       "      <td>2.188639</td>\n",
       "      <td>11.073333</td>\n",
       "      <td>-0.317522</td>\n",
       "      <td>-3.28</td>\n",
       "      <td>0.399190</td>\n",
       "      <td>0.918683</td>\n",
       "      <td>9.49</td>\n",
       "    </tr>\n",
       "    <tr>\n",
       "      <th>YDUQ3</th>\n",
       "      <td>2023-06-30</td>\n",
       "      <td>YDUQS PART</td>\n",
       "      <td>19.82</td>\n",
       "      <td>Consumo Cíclico</td>\n",
       "      <td>Diversos</td>\n",
       "      <td>Serviços Educacionais</td>\n",
       "      <td>-0.0008</td>\n",
       "      <td>0.0107</td>\n",
       "      <td>4.8186</td>\n",
       "      <td>0.408671</td>\n",
       "      <td>0.342647</td>\n",
       "      <td>0.918683</td>\n",
       "      <td>2.188639</td>\n",
       "      <td>11.073333</td>\n",
       "      <td>-0.317522</td>\n",
       "      <td>-3.28</td>\n",
       "      <td>0.399190</td>\n",
       "      <td>0.918683</td>\n",
       "      <td>9.49</td>\n",
       "    </tr>\n",
       "  </tbody>\n",
       "</table>\n",
       "<p>528 rows × 19 columns</p>\n",
       "</div>"
      ],
      "text/plain": [
       "            DATA        NOME  PREÇO (R$)      SETOR ECONÔMICO  SUBSETOR  \\\n",
       "PAPEL                                                                     \n",
       "ABEV3 2023-01-31   AMBEV S/A       13.66  Consumo não Cíclico   Bebidas   \n",
       "ABEV3 2023-02-28   AMBEV S/A       13.39  Consumo não Cíclico   Bebidas   \n",
       "ABEV3 2023-03-31   AMBEV S/A       14.33  Consumo não Cíclico   Bebidas   \n",
       "ABEV3 2023-04-30   AMBEV S/A       14.16  Consumo não Cíclico   Bebidas   \n",
       "ABEV3 2023-05-31   AMBEV S/A       14.41  Consumo não Cíclico   Bebidas   \n",
       "...          ...         ...         ...                  ...       ...   \n",
       "YDUQ3 2023-02-28  YDUQS PART        7.05      Consumo Cíclico  Diversos   \n",
       "YDUQ3 2023-03-31  YDUQS PART        7.05      Consumo Cíclico  Diversos   \n",
       "YDUQ3 2023-04-30  YDUQS PART        8.12      Consumo Cíclico  Diversos   \n",
       "YDUQ3 2023-05-31  YDUQS PART       14.07      Consumo Cíclico  Diversos   \n",
       "YDUQ3 2023-06-30  YDUQS PART       19.82      Consumo Cíclico  Diversos   \n",
       "\n",
       "                       SEGMENTO    IPCA   SELIC     USD  RETORNOS_SIMPLES  \\\n",
       "PAPEL                                                                       \n",
       "ABEV3  Cervejas e Refrigerantes  0.0053  0.0112  5.0987               NaN   \n",
       "ABEV3  Cervejas e Refrigerantes  0.0084  0.0092  5.2072         -0.019766   \n",
       "ABEV3  Cervejas e Refrigerantes  0.0071  0.0117  5.0798          0.070202   \n",
       "ABEV3  Cervejas e Refrigerantes  0.0061  0.0092  5.0001         -0.011863   \n",
       "ABEV3  Cervejas e Refrigerantes  0.0023  0.0112  5.0953          0.017655   \n",
       "...                         ...     ...     ...     ...               ...   \n",
       "YDUQ3     Serviços Educacionais  0.0084  0.0092  5.2072         -0.317522   \n",
       "YDUQ3     Serviços Educacionais  0.0071  0.0117  5.0798          0.000000   \n",
       "YDUQ3     Serviços Educacionais  0.0061  0.0092  5.0001          0.151773   \n",
       "YDUQ3     Serviços Educacionais  0.0023  0.0112  5.0953          0.732759   \n",
       "YDUQ3     Serviços Educacionais -0.0008  0.0107  4.8186          0.408671   \n",
       "\n",
       "       RETORNOS_LOGARITIMOS  RETORNOS_ACUMULADOS    SHARPE      MÉDIA  \\\n",
       "PAPEL                                                                   \n",
       "ABEV3                   NaN                  NaN  1.928270  14.226667   \n",
       "ABEV3             -0.019964            -0.019766  1.928270  14.226667   \n",
       "ABEV3              0.067847             0.049048  1.928270  14.226667   \n",
       "ABEV3             -0.011934             0.036603  1.928270  14.226667   \n",
       "ABEV3              0.017501             0.054905  1.928270  14.226667   \n",
       "...                     ...                  ...       ...        ...   \n",
       "YDUQ3             -0.382025            -0.317522  2.188639  11.073333   \n",
       "YDUQ3              0.000000            -0.317522  2.188639  11.073333   \n",
       "YDUQ3              0.141303            -0.213940  2.188639  11.073333   \n",
       "YDUQ3              0.549715             0.362052  2.188639  11.073333   \n",
       "YDUQ3              0.342647             0.918683  2.188639  11.073333   \n",
       "\n",
       "       MÁXIMO DROW DOWN  MÁXIMO DROW DOWN bruto  VOLATILIDADE  RENTABILIDADE  \\\n",
       "PAPEL                                                                          \n",
       "ABEV3         -0.019766                   -0.27      0.043101       0.128111   \n",
       "ABEV3         -0.019766                   -0.27      0.043101       0.128111   \n",
       "ABEV3         -0.019766                   -0.27      0.043101       0.128111   \n",
       "ABEV3         -0.019766                   -0.27      0.043101       0.128111   \n",
       "ABEV3         -0.019766                   -0.27      0.043101       0.128111   \n",
       "...                 ...                     ...           ...            ...   \n",
       "YDUQ3         -0.317522                   -3.28      0.399190       0.918683   \n",
       "YDUQ3         -0.317522                   -3.28      0.399190       0.918683   \n",
       "YDUQ3         -0.317522                   -3.28      0.399190       0.918683   \n",
       "YDUQ3         -0.317522                   -3.28      0.399190       0.918683   \n",
       "YDUQ3         -0.317522                   -3.28      0.399190       0.918683   \n",
       "\n",
       "       GANHO BRUTO R$  \n",
       "PAPEL                  \n",
       "ABEV3            1.75  \n",
       "ABEV3            1.75  \n",
       "ABEV3            1.75  \n",
       "ABEV3            1.75  \n",
       "ABEV3            1.75  \n",
       "...               ...  \n",
       "YDUQ3            9.49  \n",
       "YDUQ3            9.49  \n",
       "YDUQ3            9.49  \n",
       "YDUQ3            9.49  \n",
       "YDUQ3            9.49  \n",
       "\n",
       "[528 rows x 19 columns]"
      ]
     },
     "execution_count": 216,
     "metadata": {},
     "output_type": "execute_result"
    }
   ],
   "source": [
    "df"
   ]
  },
  {
   "cell_type": "code",
   "execution_count": 215,
   "metadata": {},
   "outputs": [
    {
     "name": "stdout",
     "output_type": "stream",
     "text": [
      "<class 'pandas.core.frame.DataFrame'>\n",
      "Index: 528 entries, ABEV3 to YDUQ3\n",
      "Data columns (total 19 columns):\n",
      " #   Column                  Non-Null Count  Dtype         \n",
      "---  ------                  --------------  -----         \n",
      " 0   DATA                    528 non-null    datetime64[ns]\n",
      " 1   NOME                    528 non-null    object        \n",
      " 2   PREÇO (R$)              528 non-null    float64       \n",
      " 3   SETOR ECONÔMICO         528 non-null    object        \n",
      " 4   SUBSETOR                528 non-null    object        \n",
      " 5   SEGMENTO                528 non-null    object        \n",
      " 6   IPCA                    528 non-null    float64       \n",
      " 7   SELIC                   528 non-null    float64       \n",
      " 8   USD                     528 non-null    float64       \n",
      " 9   RETORNOS_SIMPLES        440 non-null    float64       \n",
      " 10  RETORNOS_LOGARITIMOS    440 non-null    float64       \n",
      " 11  RETORNOS_ACUMULADOS     440 non-null    float64       \n",
      " 12  SHARPE                  528 non-null    float64       \n",
      " 13  MÉDIA                   528 non-null    float64       \n",
      " 14  MÁXIMO DROW DOWN        528 non-null    float64       \n",
      " 15  MÁXIMO DROW DOWN bruto  528 non-null    float64       \n",
      " 16  VOLATILIDADE            528 non-null    float64       \n",
      " 17  RENTABILIDADE           528 non-null    float64       \n",
      " 18  GANHO BRUTO R$          528 non-null    float64       \n",
      "dtypes: datetime64[ns](1), float64(14), object(4)\n",
      "memory usage: 82.5+ KB\n"
     ]
    }
   ],
   "source": [
    "df.info()"
   ]
  },
  {
   "cell_type": "markdown",
   "metadata": {},
   "source": [
    "# PLOT TODAS AÇÕES PARA VIZUALIZAÇÃO BASICA"
   ]
  },
  {
   "cell_type": "code",
   "execution_count": 217,
   "metadata": {},
   "outputs": [
    {
     "data": {
      "application/vnd.plotly.v1+json": {
       "config": {
        "plotlyServerURL": "https://plot.ly"
       },
       "data": [
        {
         "hovertemplate": "PAPEL=ABEV3<br>DATA=%{x}<br>value=%{y}<extra></extra>",
         "legendgroup": "ABEV3",
         "line": {
          "color": "#636efa",
          "dash": "solid"
         },
         "marker": {
          "symbol": "circle"
         },
         "mode": "lines+markers",
         "name": "ABEV3",
         "orientation": "v",
         "showlegend": true,
         "type": "scatter",
         "x": [
          "2023-01-31T00:00:00",
          "2023-02-28T00:00:00",
          "2023-03-31T00:00:00",
          "2023-04-30T00:00:00",
          "2023-05-31T00:00:00",
          "2023-06-30T00:00:00"
         ],
         "xaxis": "x",
         "y": [
          13.66,
          13.39,
          14.33,
          14.16,
          14.41,
          15.41
         ],
         "yaxis": "y"
        },
        {
         "hovertemplate": "PAPEL=AESB3<br>DATA=%{x}<br>value=%{y}<extra></extra>",
         "legendgroup": "AESB3",
         "line": {
          "color": "#EF553B",
          "dash": "solid"
         },
         "marker": {
          "symbol": "circle"
         },
         "mode": "lines+markers",
         "name": "AESB3",
         "orientation": "v",
         "showlegend": true,
         "type": "scatter",
         "x": [
          "2023-01-31T00:00:00",
          "2023-02-28T00:00:00",
          "2023-03-31T00:00:00",
          "2023-04-30T00:00:00",
          "2023-05-31T00:00:00",
          "2023-06-30T00:00:00"
         ],
         "xaxis": "x",
         "y": [
          10.1,
          9.92,
          9.94,
          10.68,
          12.18,
          12.25
         ],
         "yaxis": "y"
        },
        {
         "hovertemplate": "PAPEL=ALPA4<br>DATA=%{x}<br>value=%{y}<extra></extra>",
         "legendgroup": "ALPA4",
         "line": {
          "color": "#00cc96",
          "dash": "solid"
         },
         "marker": {
          "symbol": "circle"
         },
         "mode": "lines+markers",
         "name": "ALPA4",
         "orientation": "v",
         "showlegend": true,
         "type": "scatter",
         "x": [
          "2023-01-31T00:00:00",
          "2023-02-28T00:00:00",
          "2023-03-31T00:00:00",
          "2023-04-30T00:00:00",
          "2023-05-31T00:00:00",
          "2023-06-30T00:00:00"
         ],
         "xaxis": "x",
         "y": [
          13.61,
          9.43,
          8.15,
          7.41,
          10.44,
          9.3
         ],
         "yaxis": "y"
        },
        {
         "hovertemplate": "PAPEL=ALSO3<br>DATA=%{x}<br>value=%{y}<extra></extra>",
         "legendgroup": "ALSO3",
         "line": {
          "color": "#ab63fa",
          "dash": "solid"
         },
         "marker": {
          "symbol": "circle"
         },
         "mode": "lines+markers",
         "name": "ALSO3",
         "orientation": "v",
         "showlegend": true,
         "type": "scatter",
         "x": [
          "2023-01-31T00:00:00",
          "2023-02-28T00:00:00",
          "2023-03-31T00:00:00",
          "2023-04-30T00:00:00",
          "2023-05-31T00:00:00",
          "2023-06-30T00:00:00"
         ],
         "xaxis": "x",
         "y": [
          18.01,
          17.08,
          17.6,
          18.64,
          21.67,
          24.65
         ],
         "yaxis": "y"
        },
        {
         "hovertemplate": "PAPEL=ANIM3<br>DATA=%{x}<br>value=%{y}<extra></extra>",
         "legendgroup": "ANIM3",
         "line": {
          "color": "#FFA15A",
          "dash": "solid"
         },
         "marker": {
          "symbol": "circle"
         },
         "mode": "lines+markers",
         "name": "ANIM3",
         "orientation": "v",
         "showlegend": true,
         "type": "scatter",
         "x": [
          "2023-01-31T00:00:00",
          "2023-02-28T00:00:00",
          "2023-03-31T00:00:00",
          "2023-04-30T00:00:00",
          "2023-05-31T00:00:00",
          "2023-06-30T00:00:00"
         ],
         "xaxis": "x",
         "y": [
          4.42,
          3.19,
          2.51,
          2.31,
          2.99,
          4.19
         ],
         "yaxis": "y"
        },
        {
         "hovertemplate": "PAPEL=ASAI3<br>DATA=%{x}<br>value=%{y}<extra></extra>",
         "legendgroup": "ASAI3",
         "line": {
          "color": "#19d3f3",
          "dash": "solid"
         },
         "marker": {
          "symbol": "circle"
         },
         "mode": "lines+markers",
         "name": "ASAI3",
         "orientation": "v",
         "showlegend": true,
         "type": "scatter",
         "x": [
          "2023-01-31T00:00:00",
          "2023-02-28T00:00:00",
          "2023-03-31T00:00:00",
          "2023-04-30T00:00:00",
          "2023-05-31T00:00:00",
          "2023-06-30T00:00:00"
         ],
         "xaxis": "x",
         "y": [
          19.65,
          18.14,
          15.54,
          12.29,
          10.75,
          13.75
         ],
         "yaxis": "y"
        },
        {
         "hovertemplate": "PAPEL=AZUL4<br>DATA=%{x}<br>value=%{y}<extra></extra>",
         "legendgroup": "AZUL4",
         "line": {
          "color": "#FF6692",
          "dash": "solid"
         },
         "marker": {
          "symbol": "circle"
         },
         "mode": "lines+markers",
         "name": "AZUL4",
         "orientation": "v",
         "showlegend": true,
         "type": "scatter",
         "x": [
          "2023-01-31T00:00:00",
          "2023-02-28T00:00:00",
          "2023-03-31T00:00:00",
          "2023-04-30T00:00:00",
          "2023-05-31T00:00:00",
          "2023-06-30T00:00:00"
         ],
         "xaxis": "x",
         "y": [
          11.85,
          7.13,
          12.03,
          10.86,
          16.85,
          21.86
         ],
         "yaxis": "y"
        },
        {
         "hovertemplate": "PAPEL=B3SA3<br>DATA=%{x}<br>value=%{y}<extra></extra>",
         "legendgroup": "B3SA3",
         "line": {
          "color": "#B6E880",
          "dash": "solid"
         },
         "marker": {
          "symbol": "circle"
         },
         "mode": "lines+markers",
         "name": "B3SA3",
         "orientation": "v",
         "showlegend": true,
         "type": "scatter",
         "x": [
          "2023-01-31T00:00:00",
          "2023-02-28T00:00:00",
          "2023-03-31T00:00:00",
          "2023-04-30T00:00:00",
          "2023-05-31T00:00:00",
          "2023-06-30T00:00:00"
         ],
         "xaxis": "x",
         "y": [
          12.96,
          10.55,
          10.35,
          11.68,
          13.32,
          14.61
         ],
         "yaxis": "y"
        },
        {
         "hovertemplate": "PAPEL=BBSE3<br>DATA=%{x}<br>value=%{y}<extra></extra>",
         "legendgroup": "BBSE3",
         "line": {
          "color": "#FF97FF",
          "dash": "solid"
         },
         "marker": {
          "symbol": "circle"
         },
         "mode": "lines+markers",
         "name": "BBSE3",
         "orientation": "v",
         "showlegend": true,
         "type": "scatter",
         "x": [
          "2023-01-31T00:00:00",
          "2023-02-28T00:00:00",
          "2023-03-31T00:00:00",
          "2023-04-30T00:00:00",
          "2023-05-31T00:00:00",
          "2023-06-30T00:00:00"
         ],
         "xaxis": "x",
         "y": [
          37.78,
          34.21,
          32.51,
          34.31,
          30.93,
          30.77
         ],
         "yaxis": "y"
        },
        {
         "hovertemplate": "PAPEL=BEEF3<br>DATA=%{x}<br>value=%{y}<extra></extra>",
         "legendgroup": "BEEF3",
         "line": {
          "color": "#FECB52",
          "dash": "solid"
         },
         "marker": {
          "symbol": "circle"
         },
         "mode": "lines+markers",
         "name": "BEEF3",
         "orientation": "v",
         "showlegend": true,
         "type": "scatter",
         "x": [
          "2023-01-31T00:00:00",
          "2023-02-28T00:00:00",
          "2023-03-31T00:00:00",
          "2023-04-30T00:00:00",
          "2023-05-31T00:00:00",
          "2023-06-30T00:00:00"
         ],
         "xaxis": "x",
         "y": [
          13.99,
          11.33,
          10.54,
          8.55,
          10.22,
          10.63
         ],
         "yaxis": "y"
        },
        {
         "hovertemplate": "PAPEL=BPAC11<br>DATA=%{x}<br>value=%{y}<extra></extra>",
         "legendgroup": "BPAC11",
         "line": {
          "color": "#636efa",
          "dash": "solid"
         },
         "marker": {
          "symbol": "circle"
         },
         "mode": "lines+markers",
         "name": "BPAC11",
         "orientation": "v",
         "showlegend": true,
         "type": "scatter",
         "x": [
          "2023-01-31T00:00:00",
          "2023-02-28T00:00:00",
          "2023-03-31T00:00:00",
          "2023-04-30T00:00:00",
          "2023-05-31T00:00:00",
          "2023-06-30T00:00:00"
         ],
         "xaxis": "x",
         "y": [
          21.62,
          20.2,
          19.65,
          23.42,
          26.3,
          31.45
         ],
         "yaxis": "y"
        },
        {
         "hovertemplate": "PAPEL=BRFS3<br>DATA=%{x}<br>value=%{y}<extra></extra>",
         "legendgroup": "BRFS3",
         "line": {
          "color": "#EF553B",
          "dash": "solid"
         },
         "marker": {
          "symbol": "circle"
         },
         "mode": "lines+markers",
         "name": "BRFS3",
         "orientation": "v",
         "showlegend": true,
         "type": "scatter",
         "x": [
          "2023-01-31T00:00:00",
          "2023-02-28T00:00:00",
          "2023-03-31T00:00:00",
          "2023-04-30T00:00:00",
          "2023-05-31T00:00:00",
          "2023-06-30T00:00:00"
         ],
         "xaxis": "x",
         "y": [
          7.96,
          6.16,
          6.21,
          6.34,
          8.13,
          8.91
         ],
         "yaxis": "y"
        },
        {
         "hovertemplate": "PAPEL=BRKM5<br>DATA=%{x}<br>value=%{y}<extra></extra>",
         "legendgroup": "BRKM5",
         "line": {
          "color": "#00cc96",
          "dash": "solid"
         },
         "marker": {
          "symbol": "circle"
         },
         "mode": "lines+markers",
         "name": "BRKM5",
         "orientation": "v",
         "showlegend": true,
         "type": "scatter",
         "x": [
          "2023-01-31T00:00:00",
          "2023-02-28T00:00:00",
          "2023-03-31T00:00:00",
          "2023-04-30T00:00:00",
          "2023-05-31T00:00:00",
          "2023-06-30T00:00:00"
         ],
         "xaxis": "x",
         "y": [
          23.33,
          20.12,
          19.36,
          19.79,
          22.46,
          27.86
         ],
         "yaxis": "y"
        },
        {
         "hovertemplate": "PAPEL=CBAV3<br>DATA=%{x}<br>value=%{y}<extra></extra>",
         "legendgroup": "CBAV3",
         "line": {
          "color": "#ab63fa",
          "dash": "solid"
         },
         "marker": {
          "symbol": "circle"
         },
         "mode": "lines+markers",
         "name": "CBAV3",
         "orientation": "v",
         "showlegend": true,
         "type": "scatter",
         "x": [
          "2023-01-31T00:00:00",
          "2023-02-28T00:00:00",
          "2023-03-31T00:00:00",
          "2023-04-30T00:00:00",
          "2023-05-31T00:00:00",
          "2023-06-30T00:00:00"
         ],
         "xaxis": "x",
         "y": [
          12.7,
          10.42,
          7.58,
          5.28,
          5.2,
          5.04
         ],
         "yaxis": "y"
        },
        {
         "hovertemplate": "PAPEL=CCRO3<br>DATA=%{x}<br>value=%{y}<extra></extra>",
         "legendgroup": "CCRO3",
         "line": {
          "color": "#FFA15A",
          "dash": "solid"
         },
         "marker": {
          "symbol": "circle"
         },
         "mode": "lines+markers",
         "name": "CCRO3",
         "orientation": "v",
         "showlegend": true,
         "type": "scatter",
         "x": [
          "2023-01-31T00:00:00",
          "2023-02-28T00:00:00",
          "2023-03-31T00:00:00",
          "2023-04-30T00:00:00",
          "2023-05-31T00:00:00",
          "2023-06-30T00:00:00"
         ],
         "xaxis": "x",
         "y": [
          11.76,
          10.99,
          12.8,
          13.57,
          13.57,
          14.05
         ],
         "yaxis": "y"
        },
        {
         "hovertemplate": "PAPEL=CEAB3<br>DATA=%{x}<br>value=%{y}<extra></extra>",
         "legendgroup": "CEAB3",
         "line": {
          "color": "#19d3f3",
          "dash": "solid"
         },
         "marker": {
          "symbol": "circle"
         },
         "mode": "lines+markers",
         "name": "CEAB3",
         "orientation": "v",
         "showlegend": true,
         "type": "scatter",
         "x": [
          "2023-01-31T00:00:00",
          "2023-02-28T00:00:00",
          "2023-03-31T00:00:00",
          "2023-04-30T00:00:00",
          "2023-05-31T00:00:00",
          "2023-06-30T00:00:00"
         ],
         "xaxis": "x",
         "y": [
          2.98,
          2.02,
          2.79,
          2.78,
          4.6,
          5.43
         ],
         "yaxis": "y"
        },
        {
         "hovertemplate": "PAPEL=CIEL3<br>DATA=%{x}<br>value=%{y}<extra></extra>",
         "legendgroup": "CIEL3",
         "line": {
          "color": "#FF6692",
          "dash": "solid"
         },
         "marker": {
          "symbol": "circle"
         },
         "mode": "lines+markers",
         "name": "CIEL3",
         "orientation": "v",
         "showlegend": true,
         "type": "scatter",
         "x": [
          "2023-01-31T00:00:00",
          "2023-02-28T00:00:00",
          "2023-03-31T00:00:00",
          "2023-04-30T00:00:00",
          "2023-05-31T00:00:00",
          "2023-06-30T00:00:00"
         ],
         "xaxis": "x",
         "y": [
          5.01,
          4.8,
          4.85,
          5.46,
          4.67,
          4.59
         ],
         "yaxis": "y"
        },
        {
         "hovertemplate": "PAPEL=CMIG4<br>DATA=%{x}<br>value=%{y}<extra></extra>",
         "legendgroup": "CMIG4",
         "line": {
          "color": "#B6E880",
          "dash": "solid"
         },
         "marker": {
          "symbol": "circle"
         },
         "mode": "lines+markers",
         "name": "CMIG4",
         "orientation": "v",
         "showlegend": true,
         "type": "scatter",
         "x": [
          "2023-01-31T00:00:00",
          "2023-02-28T00:00:00",
          "2023-03-31T00:00:00",
          "2023-04-30T00:00:00",
          "2023-05-31T00:00:00",
          "2023-06-30T00:00:00"
         ],
         "xaxis": "x",
         "y": [
          11.46,
          10.48,
          11.44,
          12.35,
          11.7,
          12.86
         ],
         "yaxis": "y"
        },
        {
         "hovertemplate": "PAPEL=CMIN3<br>DATA=%{x}<br>value=%{y}<extra></extra>",
         "legendgroup": "CMIN3",
         "line": {
          "color": "#FF97FF",
          "dash": "solid"
         },
         "marker": {
          "symbol": "circle"
         },
         "mode": "lines+markers",
         "name": "CMIN3",
         "orientation": "v",
         "showlegend": true,
         "type": "scatter",
         "x": [
          "2023-01-31T00:00:00",
          "2023-02-28T00:00:00",
          "2023-03-31T00:00:00",
          "2023-04-30T00:00:00",
          "2023-05-31T00:00:00",
          "2023-06-30T00:00:00"
         ],
         "xaxis": "x",
         "y": [
          5.34,
          4.66,
          4.84,
          4.64,
          4.4,
          4.18
         ],
         "yaxis": "y"
        },
        {
         "hovertemplate": "PAPEL=COGN3<br>DATA=%{x}<br>value=%{y}<extra></extra>",
         "legendgroup": "COGN3",
         "line": {
          "color": "#FECB52",
          "dash": "solid"
         },
         "marker": {
          "symbol": "circle"
         },
         "mode": "lines+markers",
         "name": "COGN3",
         "orientation": "v",
         "showlegend": true,
         "type": "scatter",
         "x": [
          "2023-01-31T00:00:00",
          "2023-02-28T00:00:00",
          "2023-03-31T00:00:00",
          "2023-04-30T00:00:00",
          "2023-05-31T00:00:00",
          "2023-06-30T00:00:00"
         ],
         "xaxis": "x",
         "y": [
          2.38,
          2.02,
          1.87,
          2.04,
          2.89,
          3.26
         ],
         "yaxis": "y"
        },
        {
         "hovertemplate": "PAPEL=CPFE3<br>DATA=%{x}<br>value=%{y}<extra></extra>",
         "legendgroup": "CPFE3",
         "line": {
          "color": "#636efa",
          "dash": "solid"
         },
         "marker": {
          "symbol": "circle"
         },
         "mode": "lines+markers",
         "name": "CPFE3",
         "orientation": "v",
         "showlegend": true,
         "type": "scatter",
         "x": [
          "2023-01-31T00:00:00",
          "2023-02-28T00:00:00",
          "2023-03-31T00:00:00",
          "2023-04-30T00:00:00",
          "2023-05-31T00:00:00",
          "2023-06-30T00:00:00"
         ],
         "xaxis": "x",
         "y": [
          33.28,
          30.29,
          31.65,
          33.14,
          30.28,
          34.39
         ],
         "yaxis": "y"
        },
        {
         "hovertemplate": "PAPEL=CPLE6<br>DATA=%{x}<br>value=%{y}<extra></extra>",
         "legendgroup": "CPLE6",
         "line": {
          "color": "#EF553B",
          "dash": "solid"
         },
         "marker": {
          "symbol": "circle"
         },
         "mode": "lines+markers",
         "name": "CPLE6",
         "orientation": "v",
         "showlegend": true,
         "type": "scatter",
         "x": [
          "2023-01-31T00:00:00",
          "2023-02-28T00:00:00",
          "2023-03-31T00:00:00",
          "2023-04-30T00:00:00",
          "2023-05-31T00:00:00",
          "2023-06-30T00:00:00"
         ],
         "xaxis": "x",
         "y": [
          7.77,
          7.05,
          6.94,
          8.02,
          7.42,
          8.29
         ],
         "yaxis": "y"
        },
        {
         "hovertemplate": "PAPEL=CRFB3<br>DATA=%{x}<br>value=%{y}<extra></extra>",
         "legendgroup": "CRFB3",
         "line": {
          "color": "#00cc96",
          "dash": "solid"
         },
         "marker": {
          "symbol": "circle"
         },
         "mode": "lines+markers",
         "name": "CRFB3",
         "orientation": "v",
         "showlegend": true,
         "type": "scatter",
         "x": [
          "2023-01-31T00:00:00",
          "2023-02-28T00:00:00",
          "2023-03-31T00:00:00",
          "2023-04-30T00:00:00",
          "2023-05-31T00:00:00",
          "2023-06-30T00:00:00"
         ],
         "xaxis": "x",
         "y": [
          16.45,
          13.45,
          12.39,
          10.75,
          9.47,
          11.2
         ],
         "yaxis": "y"
        },
        {
         "hovertemplate": "PAPEL=CSAN3<br>DATA=%{x}<br>value=%{y}<extra></extra>",
         "legendgroup": "CSAN3",
         "line": {
          "color": "#ab63fa",
          "dash": "solid"
         },
         "marker": {
          "symbol": "circle"
         },
         "mode": "lines+markers",
         "name": "CSAN3",
         "orientation": "v",
         "showlegend": true,
         "type": "scatter",
         "x": [
          "2023-01-31T00:00:00",
          "2023-02-28T00:00:00",
          "2023-03-31T00:00:00",
          "2023-04-30T00:00:00",
          "2023-05-31T00:00:00",
          "2023-06-30T00:00:00"
         ],
         "xaxis": "x",
         "y": [
          16.7,
          14.98,
          15.09,
          14.98,
          15,
          17.86
         ],
         "yaxis": "y"
        },
        {
         "hovertemplate": "PAPEL=CSMG3<br>DATA=%{x}<br>value=%{y}<extra></extra>",
         "legendgroup": "CSMG3",
         "line": {
          "color": "#FFA15A",
          "dash": "solid"
         },
         "marker": {
          "symbol": "circle"
         },
         "mode": "lines+markers",
         "name": "CSMG3",
         "orientation": "v",
         "showlegend": true,
         "type": "scatter",
         "x": [
          "2023-01-31T00:00:00",
          "2023-02-28T00:00:00",
          "2023-03-31T00:00:00",
          "2023-04-30T00:00:00",
          "2023-05-31T00:00:00",
          "2023-06-30T00:00:00"
         ],
         "xaxis": "x",
         "y": [
          14.64,
          14.22,
          15.73,
          17.04,
          19.94,
          21.15
         ],
         "yaxis": "y"
        },
        {
         "hovertemplate": "PAPEL=CSNA3<br>DATA=%{x}<br>value=%{y}<extra></extra>",
         "legendgroup": "CSNA3",
         "line": {
          "color": "#19d3f3",
          "dash": "solid"
         },
         "marker": {
          "symbol": "circle"
         },
         "mode": "lines+markers",
         "name": "CSNA3",
         "orientation": "v",
         "showlegend": true,
         "type": "scatter",
         "x": [
          "2023-01-31T00:00:00",
          "2023-02-28T00:00:00",
          "2023-03-31T00:00:00",
          "2023-04-30T00:00:00",
          "2023-05-31T00:00:00",
          "2023-06-30T00:00:00"
         ],
         "xaxis": "x",
         "y": [
          18.5,
          16.67,
          15.44,
          14.21,
          12.15,
          12.13
         ],
         "yaxis": "y"
        },
        {
         "hovertemplate": "PAPEL=CVCB3<br>DATA=%{x}<br>value=%{y}<extra></extra>",
         "legendgroup": "CVCB3",
         "line": {
          "color": "#FF6692",
          "dash": "solid"
         },
         "marker": {
          "symbol": "circle"
         },
         "mode": "lines+markers",
         "name": "CVCB3",
         "orientation": "v",
         "showlegend": true,
         "type": "scatter",
         "x": [
          "2023-01-31T00:00:00",
          "2023-02-28T00:00:00",
          "2023-03-31T00:00:00",
          "2023-04-30T00:00:00",
          "2023-05-31T00:00:00",
          "2023-06-30T00:00:00"
         ],
         "xaxis": "x",
         "y": [
          4.5,
          3.03,
          3.11,
          2.72,
          3.38,
          3.51
         ],
         "yaxis": "y"
        },
        {
         "hovertemplate": "PAPEL=CYRE3<br>DATA=%{x}<br>value=%{y}<extra></extra>",
         "legendgroup": "CYRE3",
         "line": {
          "color": "#B6E880",
          "dash": "solid"
         },
         "marker": {
          "symbol": "circle"
         },
         "mode": "lines+markers",
         "name": "CYRE3",
         "orientation": "v",
         "showlegend": true,
         "type": "scatter",
         "x": [
          "2023-01-31T00:00:00",
          "2023-02-28T00:00:00",
          "2023-03-31T00:00:00",
          "2023-04-30T00:00:00",
          "2023-05-31T00:00:00",
          "2023-06-30T00:00:00"
         ],
         "xaxis": "x",
         "y": [
          15.18,
          14.98,
          14.08,
          15.45,
          18.68,
          20.13
         ],
         "yaxis": "y"
        },
        {
         "hovertemplate": "PAPEL=DIRR3<br>DATA=%{x}<br>value=%{y}<extra></extra>",
         "legendgroup": "DIRR3",
         "line": {
          "color": "#FF97FF",
          "dash": "solid"
         },
         "marker": {
          "symbol": "circle"
         },
         "mode": "lines+markers",
         "name": "DIRR3",
         "orientation": "v",
         "showlegend": true,
         "type": "scatter",
         "x": [
          "2023-01-31T00:00:00",
          "2023-02-28T00:00:00",
          "2023-03-31T00:00:00",
          "2023-04-30T00:00:00",
          "2023-05-31T00:00:00",
          "2023-06-30T00:00:00"
         ],
         "xaxis": "x",
         "y": [
          15.97,
          15.39,
          15.98,
          15.7,
          17.47,
          19.65
         ],
         "yaxis": "y"
        },
        {
         "hovertemplate": "PAPEL=ECOR3<br>DATA=%{x}<br>value=%{y}<extra></extra>",
         "legendgroup": "ECOR3",
         "line": {
          "color": "#FECB52",
          "dash": "solid"
         },
         "marker": {
          "symbol": "circle"
         },
         "mode": "lines+markers",
         "name": "ECOR3",
         "orientation": "v",
         "showlegend": true,
         "type": "scatter",
         "x": [
          "2023-01-31T00:00:00",
          "2023-02-28T00:00:00",
          "2023-03-31T00:00:00",
          "2023-04-30T00:00:00",
          "2023-05-31T00:00:00",
          "2023-06-30T00:00:00"
         ],
         "xaxis": "x",
         "y": [
          4.54,
          4.1,
          5.18,
          6.17,
          6.4,
          6.5
         ],
         "yaxis": "y"
        },
        {
         "hovertemplate": "PAPEL=EGIE3<br>DATA=%{x}<br>value=%{y}<extra></extra>",
         "legendgroup": "EGIE3",
         "line": {
          "color": "#636efa",
          "dash": "solid"
         },
         "marker": {
          "symbol": "circle"
         },
         "mode": "lines+markers",
         "name": "EGIE3",
         "orientation": "v",
         "showlegend": true,
         "type": "scatter",
         "x": [
          "2023-01-31T00:00:00",
          "2023-02-28T00:00:00",
          "2023-03-31T00:00:00",
          "2023-04-30T00:00:00",
          "2023-05-31T00:00:00",
          "2023-06-30T00:00:00"
         ],
         "xaxis": "x",
         "y": [
          39.35,
          39.28,
          40.17,
          41.23,
          42.03,
          45.69
         ],
         "yaxis": "y"
        },
        {
         "hovertemplate": "PAPEL=EMBR3<br>DATA=%{x}<br>value=%{y}<extra></extra>",
         "legendgroup": "EMBR3",
         "line": {
          "color": "#EF553B",
          "dash": "solid"
         },
         "marker": {
          "symbol": "circle"
         },
         "mode": "lines+markers",
         "name": "EMBR3",
         "orientation": "v",
         "showlegend": true,
         "type": "scatter",
         "x": [
          "2023-01-31T00:00:00",
          "2023-02-28T00:00:00",
          "2023-03-31T00:00:00",
          "2023-04-30T00:00:00",
          "2023-05-31T00:00:00",
          "2023-06-30T00:00:00"
         ],
         "xaxis": "x",
         "y": [
          16.35,
          16.59,
          20.79,
          19.42,
          19.02,
          18.54
         ],
         "yaxis": "y"
        },
        {
         "hovertemplate": "PAPEL=ENEV3<br>DATA=%{x}<br>value=%{y}<extra></extra>",
         "legendgroup": "ENEV3",
         "line": {
          "color": "#00cc96",
          "dash": "solid"
         },
         "marker": {
          "symbol": "circle"
         },
         "mode": "lines+markers",
         "name": "ENEV3",
         "orientation": "v",
         "showlegend": true,
         "type": "scatter",
         "x": [
          "2023-01-31T00:00:00",
          "2023-02-28T00:00:00",
          "2023-03-31T00:00:00",
          "2023-04-30T00:00:00",
          "2023-05-31T00:00:00",
          "2023-06-30T00:00:00"
         ],
         "xaxis": "x",
         "y": [
          12,
          11.43,
          10.47,
          11.35,
          11.45,
          12.27
         ],
         "yaxis": "y"
        },
        {
         "hovertemplate": "PAPEL=ENGI11<br>DATA=%{x}<br>value=%{y}<extra></extra>",
         "legendgroup": "ENGI11",
         "line": {
          "color": "#ab63fa",
          "dash": "solid"
         },
         "marker": {
          "symbol": "circle"
         },
         "mode": "lines+markers",
         "name": "ENGI11",
         "orientation": "v",
         "showlegend": true,
         "type": "scatter",
         "x": [
          "2023-01-31T00:00:00",
          "2023-02-28T00:00:00",
          "2023-03-31T00:00:00",
          "2023-04-30T00:00:00",
          "2023-05-31T00:00:00",
          "2023-06-30T00:00:00"
         ],
         "xaxis": "x",
         "y": [
          42.25,
          38.69,
          40.18,
          41.8,
          44.04,
          50.2
         ],
         "yaxis": "y"
        },
        {
         "hovertemplate": "PAPEL=EQTL3<br>DATA=%{x}<br>value=%{y}<extra></extra>",
         "legendgroup": "EQTL3",
         "line": {
          "color": "#FFA15A",
          "dash": "solid"
         },
         "marker": {
          "symbol": "circle"
         },
         "mode": "lines+markers",
         "name": "EQTL3",
         "orientation": "v",
         "showlegend": true,
         "type": "scatter",
         "x": [
          "2023-01-31T00:00:00",
          "2023-02-28T00:00:00",
          "2023-03-31T00:00:00",
          "2023-04-30T00:00:00",
          "2023-05-31T00:00:00",
          "2023-06-30T00:00:00"
         ],
         "xaxis": "x",
         "y": [
          28.02,
          25.43,
          26.96,
          27.34,
          28.15,
          32.15
         ],
         "yaxis": "y"
        },
        {
         "hovertemplate": "PAPEL=EZTC3<br>DATA=%{x}<br>value=%{y}<extra></extra>",
         "legendgroup": "EZTC3",
         "line": {
          "color": "#19d3f3",
          "dash": "solid"
         },
         "marker": {
          "symbol": "circle"
         },
         "mode": "lines+markers",
         "name": "EZTC3",
         "orientation": "v",
         "showlegend": true,
         "type": "scatter",
         "x": [
          "2023-01-31T00:00:00",
          "2023-02-28T00:00:00",
          "2023-03-31T00:00:00",
          "2023-04-30T00:00:00",
          "2023-05-31T00:00:00",
          "2023-06-30T00:00:00"
         ],
         "xaxis": "x",
         "y": [
          14.65,
          12.71,
          12.18,
          14.53,
          17.63,
          18.42
         ],
         "yaxis": "y"
        },
        {
         "hovertemplate": "PAPEL=FLRY3<br>DATA=%{x}<br>value=%{y}<extra></extra>",
         "legendgroup": "FLRY3",
         "line": {
          "color": "#FF6692",
          "dash": "solid"
         },
         "marker": {
          "symbol": "circle"
         },
         "mode": "lines+markers",
         "name": "FLRY3",
         "orientation": "v",
         "showlegend": true,
         "type": "scatter",
         "x": [
          "2023-01-31T00:00:00",
          "2023-02-28T00:00:00",
          "2023-03-31T00:00:00",
          "2023-04-30T00:00:00",
          "2023-05-31T00:00:00",
          "2023-06-30T00:00:00"
         ],
         "xaxis": "x",
         "y": [
          15.48,
          14.19,
          14.52,
          14.52,
          15.59,
          16.05
         ],
         "yaxis": "y"
        },
        {
         "hovertemplate": "PAPEL=GGBR4<br>DATA=%{x}<br>value=%{y}<extra></extra>",
         "legendgroup": "GGBR4",
         "line": {
          "color": "#B6E880",
          "dash": "solid"
         },
         "marker": {
          "symbol": "circle"
         },
         "mode": "lines+markers",
         "name": "GGBR4",
         "orientation": "v",
         "showlegend": true,
         "type": "scatter",
         "x": [
          "2023-01-31T00:00:00",
          "2023-02-28T00:00:00",
          "2023-03-31T00:00:00",
          "2023-04-30T00:00:00",
          "2023-05-31T00:00:00",
          "2023-06-30T00:00:00"
         ],
         "xaxis": "x",
         "y": [
          32.74,
          28.63,
          25.29,
          25.18,
          23.97,
          25.07
         ],
         "yaxis": "y"
        },
        {
         "hovertemplate": "PAPEL=GMAT3<br>DATA=%{x}<br>value=%{y}<extra></extra>",
         "legendgroup": "GMAT3",
         "line": {
          "color": "#FF97FF",
          "dash": "solid"
         },
         "marker": {
          "symbol": "circle"
         },
         "mode": "lines+markers",
         "name": "GMAT3",
         "orientation": "v",
         "showlegend": true,
         "type": "scatter",
         "x": [
          "2023-01-31T00:00:00",
          "2023-02-28T00:00:00",
          "2023-03-31T00:00:00",
          "2023-04-30T00:00:00",
          "2023-05-31T00:00:00",
          "2023-06-30T00:00:00"
         ],
         "xaxis": "x",
         "y": [
          6.84,
          5.64,
          5.72,
          5.51,
          7.29,
          7.92
         ],
         "yaxis": "y"
        },
        {
         "hovertemplate": "PAPEL=GOLL4<br>DATA=%{x}<br>value=%{y}<extra></extra>",
         "legendgroup": "GOLL4",
         "line": {
          "color": "#FECB52",
          "dash": "solid"
         },
         "marker": {
          "symbol": "circle"
         },
         "mode": "lines+markers",
         "name": "GOLL4",
         "orientation": "v",
         "showlegend": true,
         "type": "scatter",
         "x": [
          "2023-01-31T00:00:00",
          "2023-02-28T00:00:00",
          "2023-03-31T00:00:00",
          "2023-04-30T00:00:00",
          "2023-05-31T00:00:00",
          "2023-06-30T00:00:00"
         ],
         "xaxis": "x",
         "y": [
          7.66,
          5.53,
          6.68,
          6.64,
          8.32,
          13.17
         ],
         "yaxis": "y"
        },
        {
         "hovertemplate": "PAPEL=HAPV3<br>DATA=%{x}<br>value=%{y}<extra></extra>",
         "legendgroup": "HAPV3",
         "line": {
          "color": "#636efa",
          "dash": "solid"
         },
         "marker": {
          "symbol": "circle"
         },
         "mode": "lines+markers",
         "name": "HAPV3",
         "orientation": "v",
         "showlegend": true,
         "type": "scatter",
         "x": [
          "2023-01-31T00:00:00",
          "2023-02-28T00:00:00",
          "2023-03-31T00:00:00",
          "2023-04-30T00:00:00",
          "2023-05-31T00:00:00",
          "2023-06-30T00:00:00"
         ],
         "xaxis": "x",
         "y": [
          5.15,
          4.49,
          2.62,
          2.76,
          3.99,
          4.38
         ],
         "yaxis": "y"
        },
        {
         "hovertemplate": "PAPEL=HYPE3<br>DATA=%{x}<br>value=%{y}<extra></extra>",
         "legendgroup": "HYPE3",
         "line": {
          "color": "#EF553B",
          "dash": "solid"
         },
         "marker": {
          "symbol": "circle"
         },
         "mode": "lines+markers",
         "name": "HYPE3",
         "orientation": "v",
         "showlegend": true,
         "type": "scatter",
         "x": [
          "2023-01-31T00:00:00",
          "2023-02-28T00:00:00",
          "2023-03-31T00:00:00",
          "2023-04-30T00:00:00",
          "2023-05-31T00:00:00",
          "2023-06-30T00:00:00"
         ],
         "xaxis": "x",
         "y": [
          46.4,
          41.65,
          37.7,
          37.25,
          40.82,
          46.01
         ],
         "yaxis": "y"
        },
        {
         "hovertemplate": "PAPEL=ITSA4<br>DATA=%{x}<br>value=%{y}<extra></extra>",
         "legendgroup": "ITSA4",
         "line": {
          "color": "#00cc96",
          "dash": "solid"
         },
         "marker": {
          "symbol": "circle"
         },
         "mode": "lines+markers",
         "name": "ITSA4",
         "orientation": "v",
         "showlegend": true,
         "type": "scatter",
         "x": [
          "2023-01-31T00:00:00",
          "2023-02-28T00:00:00",
          "2023-03-31T00:00:00",
          "2023-04-30T00:00:00",
          "2023-05-31T00:00:00",
          "2023-06-30T00:00:00"
         ],
         "xaxis": "x",
         "y": [
          8.53,
          8.23,
          8.22,
          8.68,
          8.78,
          9.64
         ],
         "yaxis": "y"
        },
        {
         "hovertemplate": "PAPEL=ITUB4<br>DATA=%{x}<br>value=%{y}<extra></extra>",
         "legendgroup": "ITUB4",
         "line": {
          "color": "#ab63fa",
          "dash": "solid"
         },
         "marker": {
          "symbol": "circle"
         },
         "mode": "lines+markers",
         "name": "ITUB4",
         "orientation": "v",
         "showlegend": true,
         "type": "scatter",
         "x": [
          "2023-01-31T00:00:00",
          "2023-02-28T00:00:00",
          "2023-03-31T00:00:00",
          "2023-04-30T00:00:00",
          "2023-05-31T00:00:00",
          "2023-06-30T00:00:00"
         ],
         "xaxis": "x",
         "y": [
          25.33,
          25.43,
          24.74,
          25.92,
          26.33,
          28.42
         ],
         "yaxis": "y"
        },
        {
         "hovertemplate": "PAPEL=JBSS3<br>DATA=%{x}<br>value=%{y}<extra></extra>",
         "legendgroup": "JBSS3",
         "line": {
          "color": "#FFA15A",
          "dash": "solid"
         },
         "marker": {
          "symbol": "circle"
         },
         "mode": "lines+markers",
         "name": "JBSS3",
         "orientation": "v",
         "showlegend": true,
         "type": "scatter",
         "x": [
          "2023-01-31T00:00:00",
          "2023-02-28T00:00:00",
          "2023-03-31T00:00:00",
          "2023-04-30T00:00:00",
          "2023-05-31T00:00:00",
          "2023-06-30T00:00:00"
         ],
         "xaxis": "x",
         "y": [
          20.08,
          19.19,
          17.85,
          17.9,
          16.8,
          17.46
         ],
         "yaxis": "y"
        },
        {
         "hovertemplate": "PAPEL=KLBN11<br>DATA=%{x}<br>value=%{y}<extra></extra>",
         "legendgroup": "KLBN11",
         "line": {
          "color": "#19d3f3",
          "dash": "solid"
         },
         "marker": {
          "symbol": "circle"
         },
         "mode": "lines+markers",
         "name": "KLBN11",
         "orientation": "v",
         "showlegend": true,
         "type": "scatter",
         "x": [
          "2023-01-31T00:00:00",
          "2023-02-28T00:00:00",
          "2023-03-31T00:00:00",
          "2023-04-30T00:00:00",
          "2023-05-31T00:00:00",
          "2023-06-30T00:00:00"
         ],
         "xaxis": "x",
         "y": [
          19.34,
          19.46,
          18.09,
          19.13,
          20.98,
          21.77
         ],
         "yaxis": "y"
        },
        {
         "hovertemplate": "PAPEL=LREN3<br>DATA=%{x}<br>value=%{y}<extra></extra>",
         "legendgroup": "LREN3",
         "line": {
          "color": "#FF6692",
          "dash": "solid"
         },
         "marker": {
          "symbol": "circle"
         },
         "mode": "lines+markers",
         "name": "LREN3",
         "orientation": "v",
         "showlegend": true,
         "type": "scatter",
         "x": [
          "2023-01-31T00:00:00",
          "2023-02-28T00:00:00",
          "2023-03-31T00:00:00",
          "2023-04-30T00:00:00",
          "2023-05-31T00:00:00",
          "2023-06-30T00:00:00"
         ],
         "xaxis": "x",
         "y": [
          21.63,
          18.65,
          16.57,
          15.84,
          19.45,
          20
         ],
         "yaxis": "y"
        },
        {
         "hovertemplate": "PAPEL=LWSA3<br>DATA=%{x}<br>value=%{y}<extra></extra>",
         "legendgroup": "LWSA3",
         "line": {
          "color": "#B6E880",
          "dash": "solid"
         },
         "marker": {
          "symbol": "circle"
         },
         "mode": "lines+markers",
         "name": "LWSA3",
         "orientation": "v",
         "showlegend": true,
         "type": "scatter",
         "x": [
          "2023-01-31T00:00:00",
          "2023-02-28T00:00:00",
          "2023-03-31T00:00:00",
          "2023-04-30T00:00:00",
          "2023-05-31T00:00:00",
          "2023-06-30T00:00:00"
         ],
         "xaxis": "x",
         "y": [
          6.41,
          4.89,
          4.79,
          5.26,
          7.66,
          8.58
         ],
         "yaxis": "y"
        },
        {
         "hovertemplate": "PAPEL=MGLU3<br>DATA=%{x}<br>value=%{y}<extra></extra>",
         "legendgroup": "MGLU3",
         "line": {
          "color": "#FF97FF",
          "dash": "solid"
         },
         "marker": {
          "symbol": "circle"
         },
         "mode": "lines+markers",
         "name": "MGLU3",
         "orientation": "v",
         "showlegend": true,
         "type": "scatter",
         "x": [
          "2023-01-31T00:00:00",
          "2023-02-28T00:00:00",
          "2023-03-31T00:00:00",
          "2023-04-30T00:00:00",
          "2023-05-31T00:00:00",
          "2023-06-30T00:00:00"
         ],
         "xaxis": "x",
         "y": [
          4.43,
          3.59,
          3.31,
          3.34,
          3.8,
          3.37
         ],
         "yaxis": "y"
        },
        {
         "hovertemplate": "PAPEL=MLAS3<br>DATA=%{x}<br>value=%{y}<extra></extra>",
         "legendgroup": "MLAS3",
         "line": {
          "color": "#FECB52",
          "dash": "solid"
         },
         "marker": {
          "symbol": "circle"
         },
         "mode": "lines+markers",
         "name": "MLAS3",
         "orientation": "v",
         "showlegend": true,
         "type": "scatter",
         "x": [
          "2023-01-31T00:00:00",
          "2023-02-28T00:00:00",
          "2023-03-31T00:00:00",
          "2023-04-30T00:00:00",
          "2023-05-31T00:00:00",
          "2023-06-30T00:00:00"
         ],
         "xaxis": "x",
         "y": [
          3.35,
          2.3,
          1.37,
          1.99,
          2.5,
          2.49
         ],
         "yaxis": "y"
        },
        {
         "hovertemplate": "PAPEL=MOVI3<br>DATA=%{x}<br>value=%{y}<extra></extra>",
         "legendgroup": "MOVI3",
         "line": {
          "color": "#636efa",
          "dash": "solid"
         },
         "marker": {
          "symbol": "circle"
         },
         "mode": "lines+markers",
         "name": "MOVI3",
         "orientation": "v",
         "showlegend": true,
         "type": "scatter",
         "x": [
          "2023-01-31T00:00:00",
          "2023-02-28T00:00:00",
          "2023-03-31T00:00:00",
          "2023-04-30T00:00:00",
          "2023-05-31T00:00:00",
          "2023-06-30T00:00:00"
         ],
         "xaxis": "x",
         "y": [
          7.55,
          6.58,
          8.09,
          8.61,
          10.21,
          10.53
         ],
         "yaxis": "y"
        },
        {
         "hovertemplate": "PAPEL=MRFG3<br>DATA=%{x}<br>value=%{y}<extra></extra>",
         "legendgroup": "MRFG3",
         "line": {
          "color": "#EF553B",
          "dash": "solid"
         },
         "marker": {
          "symbol": "circle"
         },
         "mode": "lines+markers",
         "name": "MRFG3",
         "orientation": "v",
         "showlegend": true,
         "type": "scatter",
         "x": [
          "2023-01-31T00:00:00",
          "2023-02-28T00:00:00",
          "2023-03-31T00:00:00",
          "2023-04-30T00:00:00",
          "2023-05-31T00:00:00",
          "2023-06-30T00:00:00"
         ],
         "xaxis": "x",
         "y": [
          7.7,
          6.37,
          6.64,
          6.51,
          6.64,
          7.27
         ],
         "yaxis": "y"
        },
        {
         "hovertemplate": "PAPEL=MRVE3<br>DATA=%{x}<br>value=%{y}<extra></extra>",
         "legendgroup": "MRVE3",
         "line": {
          "color": "#00cc96",
          "dash": "solid"
         },
         "marker": {
          "symbol": "circle"
         },
         "mode": "lines+markers",
         "name": "MRVE3",
         "orientation": "v",
         "showlegend": true,
         "type": "scatter",
         "x": [
          "2023-01-31T00:00:00",
          "2023-02-28T00:00:00",
          "2023-03-31T00:00:00",
          "2023-04-30T00:00:00",
          "2023-05-31T00:00:00",
          "2023-06-30T00:00:00"
         ],
         "xaxis": "x",
         "y": [
          7.02,
          5.9,
          6.38,
          7.2,
          10.08,
          11.57
         ],
         "yaxis": "y"
        },
        {
         "hovertemplate": "PAPEL=MULT3<br>DATA=%{x}<br>value=%{y}<extra></extra>",
         "legendgroup": "MULT3",
         "line": {
          "color": "#ab63fa",
          "dash": "solid"
         },
         "marker": {
          "symbol": "circle"
         },
         "mode": "lines+markers",
         "name": "MULT3",
         "orientation": "v",
         "showlegend": true,
         "type": "scatter",
         "x": [
          "2023-01-31T00:00:00",
          "2023-02-28T00:00:00",
          "2023-03-31T00:00:00",
          "2023-04-30T00:00:00",
          "2023-05-31T00:00:00",
          "2023-06-30T00:00:00"
         ],
         "xaxis": "x",
         "y": [
          23.79,
          25.17,
          24.64,
          25.9,
          26.53,
          27.67
         ],
         "yaxis": "y"
        },
        {
         "hovertemplate": "PAPEL=NTCO3<br>DATA=%{x}<br>value=%{y}<extra></extra>",
         "legendgroup": "NTCO3",
         "line": {
          "color": "#FFA15A",
          "dash": "solid"
         },
         "marker": {
          "symbol": "circle"
         },
         "mode": "lines+markers",
         "name": "NTCO3",
         "orientation": "v",
         "showlegend": true,
         "type": "scatter",
         "x": [
          "2023-01-31T00:00:00",
          "2023-02-28T00:00:00",
          "2023-03-31T00:00:00",
          "2023-04-30T00:00:00",
          "2023-05-31T00:00:00",
          "2023-06-30T00:00:00"
         ],
         "xaxis": "x",
         "y": [
          14.55,
          15.32,
          13.2,
          11.06,
          13.89,
          16.74
         ],
         "yaxis": "y"
        },
        {
         "hovertemplate": "PAPEL=ODPV3<br>DATA=%{x}<br>value=%{y}<extra></extra>",
         "legendgroup": "ODPV3",
         "line": {
          "color": "#19d3f3",
          "dash": "solid"
         },
         "marker": {
          "symbol": "circle"
         },
         "mode": "lines+markers",
         "name": "ODPV3",
         "orientation": "v",
         "showlegend": true,
         "type": "scatter",
         "x": [
          "2023-01-31T00:00:00",
          "2023-02-28T00:00:00",
          "2023-03-31T00:00:00",
          "2023-04-30T00:00:00",
          "2023-05-31T00:00:00",
          "2023-06-30T00:00:00"
         ],
         "xaxis": "x",
         "y": [
          11.38,
          11.54,
          11,
          10,
          10.63,
          12.55
         ],
         "yaxis": "y"
        },
        {
         "hovertemplate": "PAPEL=PCAR3<br>DATA=%{x}<br>value=%{y}<extra></extra>",
         "legendgroup": "PCAR3",
         "line": {
          "color": "#FF6692",
          "dash": "solid"
         },
         "marker": {
          "symbol": "circle"
         },
         "mode": "lines+markers",
         "name": "PCAR3",
         "orientation": "v",
         "showlegend": true,
         "type": "scatter",
         "x": [
          "2023-01-31T00:00:00",
          "2023-02-28T00:00:00",
          "2023-03-31T00:00:00",
          "2023-04-30T00:00:00",
          "2023-05-31T00:00:00",
          "2023-06-30T00:00:00"
         ],
         "xaxis": "x",
         "y": [
          20.72,
          15.54,
          14.73,
          15,
          16.28,
          18.71
         ],
         "yaxis": "y"
        },
        {
         "hovertemplate": "PAPEL=PETR4<br>DATA=%{x}<br>value=%{y}<extra></extra>",
         "legendgroup": "PETR4",
         "line": {
          "color": "#B6E880",
          "dash": "solid"
         },
         "marker": {
          "symbol": "circle"
         },
         "mode": "lines+markers",
         "name": "PETR4",
         "orientation": "v",
         "showlegend": true,
         "type": "scatter",
         "x": [
          "2023-01-31T00:00:00",
          "2023-02-28T00:00:00",
          "2023-03-31T00:00:00",
          "2023-04-30T00:00:00",
          "2023-05-31T00:00:00",
          "2023-06-30T00:00:00"
         ],
         "xaxis": "x",
         "y": [
          26.07,
          25.24,
          23.45,
          23.7,
          26.12,
          29.53
         ],
         "yaxis": "y"
        },
        {
         "hovertemplate": "PAPEL=PETZ3<br>DATA=%{x}<br>value=%{y}<extra></extra>",
         "legendgroup": "PETZ3",
         "line": {
          "color": "#FF97FF",
          "dash": "solid"
         },
         "marker": {
          "symbol": "circle"
         },
         "mode": "lines+markers",
         "name": "PETZ3",
         "orientation": "v",
         "showlegend": true,
         "type": "scatter",
         "x": [
          "2023-01-31T00:00:00",
          "2023-02-28T00:00:00",
          "2023-03-31T00:00:00",
          "2023-04-30T00:00:00",
          "2023-05-31T00:00:00",
          "2023-06-30T00:00:00"
         ],
         "xaxis": "x",
         "y": [
          7.24,
          6.45,
          6.2,
          6.17,
          7.25,
          6.58
         ],
         "yaxis": "y"
        },
        {
         "hovertemplate": "PAPEL=POMO4<br>DATA=%{x}<br>value=%{y}<extra></extra>",
         "legendgroup": "POMO4",
         "line": {
          "color": "#FECB52",
          "dash": "solid"
         },
         "marker": {
          "symbol": "circle"
         },
         "mode": "lines+markers",
         "name": "POMO4",
         "orientation": "v",
         "showlegend": true,
         "type": "scatter",
         "x": [
          "2023-01-31T00:00:00",
          "2023-02-28T00:00:00",
          "2023-03-31T00:00:00",
          "2023-04-30T00:00:00",
          "2023-05-31T00:00:00",
          "2023-06-30T00:00:00"
         ],
         "xaxis": "x",
         "y": [
          3.02,
          3.16,
          3.18,
          3.59,
          4.62,
          5.21
         ],
         "yaxis": "y"
        },
        {
         "hovertemplate": "PAPEL=PRIO3<br>DATA=%{x}<br>value=%{y}<extra></extra>",
         "legendgroup": "PRIO3",
         "line": {
          "color": "#636efa",
          "dash": "solid"
         },
         "marker": {
          "symbol": "circle"
         },
         "mode": "lines+markers",
         "name": "PRIO3",
         "orientation": "v",
         "showlegend": true,
         "type": "scatter",
         "x": [
          "2023-01-31T00:00:00",
          "2023-02-28T00:00:00",
          "2023-03-31T00:00:00",
          "2023-04-30T00:00:00",
          "2023-05-31T00:00:00",
          "2023-06-30T00:00:00"
         ],
         "xaxis": "x",
         "y": [
          42.1,
          33.7,
          31.19,
          34.75,
          34.19,
          37.08
         ],
         "yaxis": "y"
        },
        {
         "hovertemplate": "PAPEL=PSSA3<br>DATA=%{x}<br>value=%{y}<extra></extra>",
         "legendgroup": "PSSA3",
         "line": {
          "color": "#EF553B",
          "dash": "solid"
         },
         "marker": {
          "symbol": "circle"
         },
         "mode": "lines+markers",
         "name": "PSSA3",
         "orientation": "v",
         "showlegend": true,
         "type": "scatter",
         "x": [
          "2023-01-31T00:00:00",
          "2023-02-28T00:00:00",
          "2023-03-31T00:00:00",
          "2023-04-30T00:00:00",
          "2023-05-31T00:00:00",
          "2023-06-30T00:00:00"
         ],
         "xaxis": "x",
         "y": [
          25.9,
          26.47,
          23.52,
          25.13,
          23.91,
          28.12
         ],
         "yaxis": "y"
        },
        {
         "hovertemplate": "PAPEL=QUAL3<br>DATA=%{x}<br>value=%{y}<extra></extra>",
         "legendgroup": "QUAL3",
         "line": {
          "color": "#00cc96",
          "dash": "solid"
         },
         "marker": {
          "symbol": "circle"
         },
         "mode": "lines+markers",
         "name": "QUAL3",
         "orientation": "v",
         "showlegend": true,
         "type": "scatter",
         "x": [
          "2023-01-31T00:00:00",
          "2023-02-28T00:00:00",
          "2023-03-31T00:00:00",
          "2023-04-30T00:00:00",
          "2023-05-31T00:00:00",
          "2023-06-30T00:00:00"
         ],
         "xaxis": "x",
         "y": [
          6.31,
          4.67,
          3.68,
          3.97,
          4.35,
          4.84
         ],
         "yaxis": "y"
        },
        {
         "hovertemplate": "PAPEL=RADL3<br>DATA=%{x}<br>value=%{y}<extra></extra>",
         "legendgroup": "RADL3",
         "line": {
          "color": "#ab63fa",
          "dash": "solid"
         },
         "marker": {
          "symbol": "circle"
         },
         "mode": "lines+markers",
         "name": "RADL3",
         "orientation": "v",
         "showlegend": true,
         "type": "scatter",
         "x": [
          "2023-01-31T00:00:00",
          "2023-02-28T00:00:00",
          "2023-03-31T00:00:00",
          "2023-04-30T00:00:00",
          "2023-05-31T00:00:00",
          "2023-06-30T00:00:00"
         ],
         "xaxis": "x",
         "y": [
          24.83,
          22.68,
          24.45,
          26.28,
          28.33,
          29.6
         ],
         "yaxis": "y"
        },
        {
         "hovertemplate": "PAPEL=RAIL3<br>DATA=%{x}<br>value=%{y}<extra></extra>",
         "legendgroup": "RAIL3",
         "line": {
          "color": "#FFA15A",
          "dash": "solid"
         },
         "marker": {
          "symbol": "circle"
         },
         "mode": "lines+markers",
         "name": "RAIL3",
         "orientation": "v",
         "showlegend": true,
         "type": "scatter",
         "x": [
          "2023-01-31T00:00:00",
          "2023-02-28T00:00:00",
          "2023-03-31T00:00:00",
          "2023-04-30T00:00:00",
          "2023-05-31T00:00:00",
          "2023-06-30T00:00:00"
         ],
         "xaxis": "x",
         "y": [
          18.38,
          17.96,
          18.85,
          19.7,
          20.82,
          22.2
         ],
         "yaxis": "y"
        },
        {
         "hovertemplate": "PAPEL=RAIZ4<br>DATA=%{x}<br>value=%{y}<extra></extra>",
         "legendgroup": "RAIZ4",
         "line": {
          "color": "#19d3f3",
          "dash": "solid"
         },
         "marker": {
          "symbol": "circle"
         },
         "mode": "lines+markers",
         "name": "RAIZ4",
         "orientation": "v",
         "showlegend": true,
         "type": "scatter",
         "x": [
          "2023-01-31T00:00:00",
          "2023-02-28T00:00:00",
          "2023-03-31T00:00:00",
          "2023-04-30T00:00:00",
          "2023-05-31T00:00:00",
          "2023-06-30T00:00:00"
         ],
         "xaxis": "x",
         "y": [
          3.29,
          3.08,
          2.85,
          3.19,
          3.63,
          4.4
         ],
         "yaxis": "y"
        },
        {
         "hovertemplate": "PAPEL=RDOR3<br>DATA=%{x}<br>value=%{y}<extra></extra>",
         "legendgroup": "RDOR3",
         "line": {
          "color": "#FF6692",
          "dash": "solid"
         },
         "marker": {
          "symbol": "circle"
         },
         "mode": "lines+markers",
         "name": "RDOR3",
         "orientation": "v",
         "showlegend": true,
         "type": "scatter",
         "x": [
          "2023-01-31T00:00:00",
          "2023-02-28T00:00:00",
          "2023-03-31T00:00:00",
          "2023-04-30T00:00:00",
          "2023-05-31T00:00:00",
          "2023-06-30T00:00:00"
         ],
         "xaxis": "x",
         "y": [
          31.9,
          25.55,
          21.24,
          22.87,
          29,
          32.92
         ],
         "yaxis": "y"
        },
        {
         "hovertemplate": "PAPEL=RECV3<br>DATA=%{x}<br>value=%{y}<extra></extra>",
         "legendgroup": "RECV3",
         "line": {
          "color": "#B6E880",
          "dash": "solid"
         },
         "marker": {
          "symbol": "circle"
         },
         "mode": "lines+markers",
         "name": "RECV3",
         "orientation": "v",
         "showlegend": true,
         "type": "scatter",
         "x": [
          "2023-01-31T00:00:00",
          "2023-02-28T00:00:00",
          "2023-03-31T00:00:00",
          "2023-04-30T00:00:00",
          "2023-05-31T00:00:00",
          "2023-06-30T00:00:00"
         ],
         "xaxis": "x",
         "y": [
          31.58,
          28.3,
          20.33,
          19.68,
          17.23,
          19.17
         ],
         "yaxis": "y"
        },
        {
         "hovertemplate": "PAPEL=RENT3<br>DATA=%{x}<br>value=%{y}<extra></extra>",
         "legendgroup": "RENT3",
         "line": {
          "color": "#FF97FF",
          "dash": "solid"
         },
         "marker": {
          "symbol": "circle"
         },
         "mode": "lines+markers",
         "name": "RENT3",
         "orientation": "v",
         "showlegend": true,
         "type": "scatter",
         "x": [
          "2023-01-31T00:00:00",
          "2023-02-28T00:00:00",
          "2023-03-31T00:00:00",
          "2023-04-30T00:00:00",
          "2023-05-31T00:00:00",
          "2023-06-30T00:00:00"
         ],
         "xaxis": "x",
         "y": [
          59.21,
          55.49,
          53.4,
          58.01,
          62.04,
          68.5
         ],
         "yaxis": "y"
        },
        {
         "hovertemplate": "PAPEL=RRRP3<br>DATA=%{x}<br>value=%{y}<extra></extra>",
         "legendgroup": "RRRP3",
         "line": {
          "color": "#FECB52",
          "dash": "solid"
         },
         "marker": {
          "symbol": "circle"
         },
         "mode": "lines+markers",
         "name": "RRRP3",
         "orientation": "v",
         "showlegend": true,
         "type": "scatter",
         "x": [
          "2023-01-31T00:00:00",
          "2023-02-28T00:00:00",
          "2023-03-31T00:00:00",
          "2023-04-30T00:00:00",
          "2023-05-31T00:00:00",
          "2023-06-30T00:00:00"
         ],
         "xaxis": "x",
         "y": [
          44.83,
          36.41,
          29.47,
          31.67,
          30.31,
          29.85
         ],
         "yaxis": "y"
        },
        {
         "hovertemplate": "PAPEL=SANB11<br>DATA=%{x}<br>value=%{y}<extra></extra>",
         "legendgroup": "SANB11",
         "line": {
          "color": "#636efa",
          "dash": "solid"
         },
         "marker": {
          "symbol": "circle"
         },
         "mode": "lines+markers",
         "name": "SANB11",
         "orientation": "v",
         "showlegend": true,
         "type": "scatter",
         "x": [
          "2023-01-31T00:00:00",
          "2023-02-28T00:00:00",
          "2023-03-31T00:00:00",
          "2023-04-30T00:00:00",
          "2023-05-31T00:00:00",
          "2023-06-30T00:00:00"
         ],
         "xaxis": "x",
         "y": [
          28.95,
          28.33,
          26.8,
          26.87,
          28.6,
          30.63
         ],
         "yaxis": "y"
        },
        {
         "hovertemplate": "PAPEL=SBSP3<br>DATA=%{x}<br>value=%{y}<extra></extra>",
         "legendgroup": "SBSP3",
         "line": {
          "color": "#EF553B",
          "dash": "solid"
         },
         "marker": {
          "symbol": "circle"
         },
         "mode": "lines+markers",
         "name": "SBSP3",
         "orientation": "v",
         "showlegend": true,
         "type": "scatter",
         "x": [
          "2023-01-31T00:00:00",
          "2023-02-28T00:00:00",
          "2023-03-31T00:00:00",
          "2023-04-30T00:00:00",
          "2023-05-31T00:00:00",
          "2023-06-30T00:00:00"
         ],
         "xaxis": "x",
         "y": [
          55.66,
          51.75,
          50.61,
          46.13,
          52.55,
          56.57
         ],
         "yaxis": "y"
        },
        {
         "hovertemplate": "PAPEL=SIMH3<br>DATA=%{x}<br>value=%{y}<extra></extra>",
         "legendgroup": "SIMH3",
         "line": {
          "color": "#00cc96",
          "dash": "solid"
         },
         "marker": {
          "symbol": "circle"
         },
         "mode": "lines+markers",
         "name": "SIMH3",
         "orientation": "v",
         "showlegend": true,
         "type": "scatter",
         "x": [
          "2023-01-31T00:00:00",
          "2023-02-28T00:00:00",
          "2023-03-31T00:00:00",
          "2023-04-30T00:00:00",
          "2023-05-31T00:00:00",
          "2023-06-30T00:00:00"
         ],
         "xaxis": "x",
         "y": [
          7.77,
          7.18,
          7.48,
          7.67,
          9.24,
          8.99
         ],
         "yaxis": "y"
        },
        {
         "hovertemplate": "PAPEL=SMTO3<br>DATA=%{x}<br>value=%{y}<extra></extra>",
         "legendgroup": "SMTO3",
         "line": {
          "color": "#ab63fa",
          "dash": "solid"
         },
         "marker": {
          "symbol": "circle"
         },
         "mode": "lines+markers",
         "name": "SMTO3",
         "orientation": "v",
         "showlegend": true,
         "type": "scatter",
         "x": [
          "2023-01-31T00:00:00",
          "2023-02-28T00:00:00",
          "2023-03-31T00:00:00",
          "2023-04-30T00:00:00",
          "2023-05-31T00:00:00",
          "2023-06-30T00:00:00"
         ],
         "xaxis": "x",
         "y": [
          25.01,
          27.2,
          27.02,
          31.4,
          36.17,
          34.15
         ],
         "yaxis": "y"
        },
        {
         "hovertemplate": "PAPEL=SOMA3<br>DATA=%{x}<br>value=%{y}<extra></extra>",
         "legendgroup": "SOMA3",
         "line": {
          "color": "#FFA15A",
          "dash": "solid"
         },
         "marker": {
          "symbol": "circle"
         },
         "mode": "lines+markers",
         "name": "SOMA3",
         "orientation": "v",
         "showlegend": true,
         "type": "scatter",
         "x": [
          "2023-01-31T00:00:00",
          "2023-02-28T00:00:00",
          "2023-03-31T00:00:00",
          "2023-04-30T00:00:00",
          "2023-05-31T00:00:00",
          "2023-06-30T00:00:00"
         ],
         "xaxis": "x",
         "y": [
          10.5,
          8.78,
          8.11,
          8.4,
          10.35,
          12
         ],
         "yaxis": "y"
        },
        {
         "hovertemplate": "PAPEL=STBP3<br>DATA=%{x}<br>value=%{y}<extra></extra>",
         "legendgroup": "STBP3",
         "line": {
          "color": "#19d3f3",
          "dash": "solid"
         },
         "marker": {
          "symbol": "circle"
         },
         "mode": "lines+markers",
         "name": "STBP3",
         "orientation": "v",
         "showlegend": true,
         "type": "scatter",
         "x": [
          "2023-01-31T00:00:00",
          "2023-02-28T00:00:00",
          "2023-03-31T00:00:00",
          "2023-04-30T00:00:00",
          "2023-05-31T00:00:00",
          "2023-06-30T00:00:00"
         ],
         "xaxis": "x",
         "y": [
          8.81,
          8.01,
          8.12,
          8.46,
          9.95,
          10.16
         ],
         "yaxis": "y"
        },
        {
         "hovertemplate": "PAPEL=SUZB3<br>DATA=%{x}<br>value=%{y}<extra></extra>",
         "legendgroup": "SUZB3",
         "line": {
          "color": "#FF6692",
          "dash": "solid"
         },
         "marker": {
          "symbol": "circle"
         },
         "mode": "lines+markers",
         "name": "SUZB3",
         "orientation": "v",
         "showlegend": true,
         "type": "scatter",
         "x": [
          "2023-01-31T00:00:00",
          "2023-02-28T00:00:00",
          "2023-03-31T00:00:00",
          "2023-04-30T00:00:00",
          "2023-05-31T00:00:00",
          "2023-06-30T00:00:00"
         ],
         "xaxis": "x",
         "y": [
          46.36,
          47.74,
          41.6,
          39.8,
          44.78,
          44.22
         ],
         "yaxis": "y"
        },
        {
         "hovertemplate": "PAPEL=TAEE11<br>DATA=%{x}<br>value=%{y}<extra></extra>",
         "legendgroup": "TAEE11",
         "line": {
          "color": "#B6E880",
          "dash": "solid"
         },
         "marker": {
          "symbol": "circle"
         },
         "mode": "lines+markers",
         "name": "TAEE11",
         "orientation": "v",
         "showlegend": true,
         "type": "scatter",
         "x": [
          "2023-01-31T00:00:00",
          "2023-02-28T00:00:00",
          "2023-03-31T00:00:00",
          "2023-04-30T00:00:00",
          "2023-05-31T00:00:00",
          "2023-06-30T00:00:00"
         ],
         "xaxis": "x",
         "y": [
          37.06,
          35.49,
          34.83,
          36.47,
          36.92,
          37.64
         ],
         "yaxis": "y"
        },
        {
         "hovertemplate": "PAPEL=TIMS3<br>DATA=%{x}<br>value=%{y}<extra></extra>",
         "legendgroup": "TIMS3",
         "line": {
          "color": "#FF97FF",
          "dash": "solid"
         },
         "marker": {
          "symbol": "circle"
         },
         "mode": "lines+markers",
         "name": "TIMS3",
         "orientation": "v",
         "showlegend": true,
         "type": "scatter",
         "x": [
          "2023-01-31T00:00:00",
          "2023-02-28T00:00:00",
          "2023-03-31T00:00:00",
          "2023-04-30T00:00:00",
          "2023-05-31T00:00:00",
          "2023-06-30T00:00:00"
         ],
         "xaxis": "x",
         "y": [
          11.79,
          12.26,
          12.58,
          14,
          13.96,
          14.62
         ],
         "yaxis": "y"
        },
        {
         "hovertemplate": "PAPEL=TOTS3<br>DATA=%{x}<br>value=%{y}<extra></extra>",
         "legendgroup": "TOTS3",
         "line": {
          "color": "#FECB52",
          "dash": "solid"
         },
         "marker": {
          "symbol": "circle"
         },
         "mode": "lines+markers",
         "name": "TOTS3",
         "orientation": "v",
         "showlegend": true,
         "type": "scatter",
         "x": [
          "2023-01-31T00:00:00",
          "2023-02-28T00:00:00",
          "2023-03-31T00:00:00",
          "2023-04-30T00:00:00",
          "2023-05-31T00:00:00",
          "2023-06-30T00:00:00"
         ],
         "xaxis": "x",
         "y": [
          30.07,
          27.29,
          28.16,
          25.66,
          28.76,
          29.98
         ],
         "yaxis": "y"
        },
        {
         "hovertemplate": "PAPEL=TRPL4<br>DATA=%{x}<br>value=%{y}<extra></extra>",
         "legendgroup": "TRPL4",
         "line": {
          "color": "#636efa",
          "dash": "solid"
         },
         "marker": {
          "symbol": "circle"
         },
         "mode": "lines+markers",
         "name": "TRPL4",
         "orientation": "v",
         "showlegend": true,
         "type": "scatter",
         "x": [
          "2023-01-31T00:00:00",
          "2023-02-28T00:00:00",
          "2023-03-31T00:00:00",
          "2023-04-30T00:00:00",
          "2023-05-31T00:00:00",
          "2023-06-30T00:00:00"
         ],
         "xaxis": "x",
         "y": [
          22.87,
          21.76,
          21.67,
          23.05,
          24.4,
          25.36
         ],
         "yaxis": "y"
        },
        {
         "hovertemplate": "PAPEL=UGPA3<br>DATA=%{x}<br>value=%{y}<extra></extra>",
         "legendgroup": "UGPA3",
         "line": {
          "color": "#EF553B",
          "dash": "solid"
         },
         "marker": {
          "symbol": "circle"
         },
         "mode": "lines+markers",
         "name": "UGPA3",
         "orientation": "v",
         "showlegend": true,
         "type": "scatter",
         "x": [
          "2023-01-31T00:00:00",
          "2023-02-28T00:00:00",
          "2023-03-31T00:00:00",
          "2023-04-30T00:00:00",
          "2023-05-31T00:00:00",
          "2023-06-30T00:00:00"
         ],
         "xaxis": "x",
         "y": [
          13.19,
          13.18,
          13.96,
          14.44,
          16.93,
          18.89
         ],
         "yaxis": "y"
        },
        {
         "hovertemplate": "PAPEL=USIM5<br>DATA=%{x}<br>value=%{y}<extra></extra>",
         "legendgroup": "USIM5",
         "line": {
          "color": "#00cc96",
          "dash": "solid"
         },
         "marker": {
          "symbol": "circle"
         },
         "mode": "lines+markers",
         "name": "USIM5",
         "orientation": "v",
         "showlegend": true,
         "type": "scatter",
         "x": [
          "2023-01-31T00:00:00",
          "2023-02-28T00:00:00",
          "2023-03-31T00:00:00",
          "2023-04-30T00:00:00",
          "2023-05-31T00:00:00",
          "2023-06-30T00:00:00"
         ],
         "xaxis": "x",
         "y": [
          8.53,
          6.83,
          7.29,
          7.2,
          7.02,
          7.07
         ],
         "yaxis": "y"
        },
        {
         "hovertemplate": "PAPEL=VALE3<br>DATA=%{x}<br>value=%{y}<extra></extra>",
         "legendgroup": "VALE3",
         "line": {
          "color": "#ab63fa",
          "dash": "solid"
         },
         "marker": {
          "symbol": "circle"
         },
         "mode": "lines+markers",
         "name": "VALE3",
         "orientation": "v",
         "showlegend": true,
         "type": "scatter",
         "x": [
          "2023-01-31T00:00:00",
          "2023-02-28T00:00:00",
          "2023-03-31T00:00:00",
          "2023-04-30T00:00:00",
          "2023-05-31T00:00:00",
          "2023-06-30T00:00:00"
         ],
         "xaxis": "x",
         "y": [
          94.51,
          85.32,
          80.29,
          72.4,
          63.81,
          64.22
         ],
         "yaxis": "y"
        },
        {
         "hovertemplate": "PAPEL=VAMO3<br>DATA=%{x}<br>value=%{y}<extra></extra>",
         "legendgroup": "VAMO3",
         "line": {
          "color": "#FFA15A",
          "dash": "solid"
         },
         "marker": {
          "symbol": "circle"
         },
         "mode": "lines+markers",
         "name": "VAMO3",
         "orientation": "v",
         "showlegend": true,
         "type": "scatter",
         "x": [
          "2023-01-31T00:00:00",
          "2023-02-28T00:00:00",
          "2023-03-31T00:00:00",
          "2023-04-30T00:00:00",
          "2023-05-31T00:00:00",
          "2023-06-30T00:00:00"
         ],
         "xaxis": "x",
         "y": [
          14.62,
          13.28,
          13.35,
          12.22,
          12.87,
          12.11
         ],
         "yaxis": "y"
        },
        {
         "hovertemplate": "PAPEL=VIVT3<br>DATA=%{x}<br>value=%{y}<extra></extra>",
         "legendgroup": "VIVT3",
         "line": {
          "color": "#19d3f3",
          "dash": "solid"
         },
         "marker": {
          "symbol": "circle"
         },
         "mode": "lines+markers",
         "name": "VIVT3",
         "orientation": "v",
         "showlegend": true,
         "type": "scatter",
         "x": [
          "2023-01-31T00:00:00",
          "2023-02-28T00:00:00",
          "2023-03-31T00:00:00",
          "2023-04-30T00:00:00",
          "2023-05-31T00:00:00",
          "2023-06-30T00:00:00"
         ],
         "xaxis": "x",
         "y": [
          41.82,
          38.94,
          38.66,
          41.12,
          40,
          43.27
         ],
         "yaxis": "y"
        },
        {
         "hovertemplate": "PAPEL=WEGE3<br>DATA=%{x}<br>value=%{y}<extra></extra>",
         "legendgroup": "WEGE3",
         "line": {
          "color": "#FF6692",
          "dash": "solid"
         },
         "marker": {
          "symbol": "circle"
         },
         "mode": "lines+markers",
         "name": "WEGE3",
         "orientation": "v",
         "showlegend": true,
         "type": "scatter",
         "x": [
          "2023-01-31T00:00:00",
          "2023-02-28T00:00:00",
          "2023-03-31T00:00:00",
          "2023-04-30T00:00:00",
          "2023-05-31T00:00:00",
          "2023-06-30T00:00:00"
         ],
         "xaxis": "x",
         "y": [
          38.24,
          39.16,
          40.55,
          41.12,
          37.61,
          37.75
         ],
         "yaxis": "y"
        },
        {
         "hovertemplate": "PAPEL=YDUQ3<br>DATA=%{x}<br>value=%{y}<extra></extra>",
         "legendgroup": "YDUQ3",
         "line": {
          "color": "#B6E880",
          "dash": "solid"
         },
         "marker": {
          "symbol": "circle"
         },
         "mode": "lines+markers",
         "name": "YDUQ3",
         "orientation": "v",
         "showlegend": true,
         "type": "scatter",
         "x": [
          "2023-01-31T00:00:00",
          "2023-02-28T00:00:00",
          "2023-03-31T00:00:00",
          "2023-04-30T00:00:00",
          "2023-05-31T00:00:00",
          "2023-06-30T00:00:00"
         ],
         "xaxis": "x",
         "y": [
          10.33,
          7.05,
          7.05,
          8.12,
          14.07,
          19.82
         ],
         "yaxis": "y"
        },
        {
         "hovertemplate": "PAPEL=IPCA<br>DATA=%{x}<br>value=%{y}<extra></extra>",
         "legendgroup": "IPCA",
         "line": {
          "color": "#FF97FF",
          "dash": "solid"
         },
         "marker": {
          "symbol": "circle"
         },
         "mode": "lines+markers",
         "name": "IPCA",
         "orientation": "v",
         "showlegend": true,
         "type": "scatter",
         "x": [
          "2023-01-31T00:00:00",
          "2023-02-28T00:00:00",
          "2023-03-31T00:00:00",
          "2023-04-30T00:00:00",
          "2023-05-31T00:00:00",
          "2023-06-30T00:00:00"
         ],
         "xaxis": "x",
         "y": [
          0.0053,
          0.0084,
          0.0071,
          0.0061,
          0.0023,
          -0.0008
         ],
         "yaxis": "y"
        },
        {
         "hovertemplate": "PAPEL=SELIC<br>DATA=%{x}<br>value=%{y}<extra></extra>",
         "legendgroup": "SELIC",
         "line": {
          "color": "#FECB52",
          "dash": "solid"
         },
         "marker": {
          "symbol": "circle"
         },
         "mode": "lines+markers",
         "name": "SELIC",
         "orientation": "v",
         "showlegend": true,
         "type": "scatter",
         "x": [
          "2023-01-31T00:00:00",
          "2023-02-28T00:00:00",
          "2023-03-31T00:00:00",
          "2023-04-30T00:00:00",
          "2023-05-31T00:00:00",
          "2023-06-30T00:00:00"
         ],
         "xaxis": "x",
         "y": [
          0.0112,
          0.0092,
          0.0117,
          0.0092,
          0.0112,
          0.0107
         ],
         "yaxis": "y"
        },
        {
         "hovertemplate": "PAPEL=SELIC_acumulada<br>DATA=%{x}<br>value=%{y}<extra></extra>",
         "legendgroup": "SELIC_acumulada",
         "line": {
          "color": "#636efa",
          "dash": "solid"
         },
         "marker": {
          "symbol": "circle"
         },
         "mode": "lines+markers",
         "name": "SELIC_acumulada",
         "orientation": "v",
         "showlegend": true,
         "type": "scatter",
         "x": [
          "2023-01-31T00:00:00",
          "2023-02-28T00:00:00",
          "2023-03-31T00:00:00",
          "2023-04-30T00:00:00",
          "2023-05-31T00:00:00",
          "2023-06-30T00:00:00"
         ],
         "xaxis": "x",
         "y": [
          0.0112,
          0.0204,
          0.032100000000000004,
          0.0413,
          0.052500000000000005,
          0.0632
         ],
         "yaxis": "y"
        },
        {
         "hovertemplate": "PAPEL=IPCA_acumulado<br>DATA=%{x}<br>value=%{y}<extra></extra>",
         "legendgroup": "IPCA_acumulado",
         "line": {
          "color": "#EF553B",
          "dash": "solid"
         },
         "marker": {
          "symbol": "circle"
         },
         "mode": "lines+markers",
         "name": "IPCA_acumulado",
         "orientation": "v",
         "showlegend": true,
         "type": "scatter",
         "x": [
          "2023-01-31T00:00:00",
          "2023-02-28T00:00:00",
          "2023-03-31T00:00:00",
          "2023-04-30T00:00:00",
          "2023-05-31T00:00:00",
          "2023-06-30T00:00:00"
         ],
         "xaxis": "x",
         "y": [
          0.0053,
          0.0137,
          0.0208,
          0.0269,
          0.0292,
          0.0284
         ],
         "yaxis": "y"
        },
        {
         "hovertemplate": "PAPEL=USD<br>DATA=%{x}<br>value=%{y}<extra></extra>",
         "legendgroup": "USD",
         "line": {
          "color": "#00cc96",
          "dash": "solid"
         },
         "marker": {
          "symbol": "circle"
         },
         "mode": "lines+markers",
         "name": "USD",
         "orientation": "v",
         "showlegend": true,
         "type": "scatter",
         "x": [
          "2023-01-31T00:00:00",
          "2023-02-28T00:00:00",
          "2023-03-31T00:00:00",
          "2023-04-30T00:00:00",
          "2023-05-31T00:00:00",
          "2023-06-30T00:00:00"
         ],
         "xaxis": "x",
         "y": [
          5.0987,
          5.2072,
          5.0798,
          5.0001,
          5.0953,
          4.8186
         ],
         "yaxis": "y"
        }
       ],
       "layout": {
        "legend": {
         "title": {
          "text": "TICKER"
         },
         "tracegroupgap": 0
        },
        "template": {
         "data": {
          "bar": [
           {
            "error_x": {
             "color": "#2a3f5f"
            },
            "error_y": {
             "color": "#2a3f5f"
            },
            "marker": {
             "line": {
              "color": "#E5ECF6",
              "width": 0.5
             },
             "pattern": {
              "fillmode": "overlay",
              "size": 10,
              "solidity": 0.2
             }
            },
            "type": "bar"
           }
          ],
          "barpolar": [
           {
            "marker": {
             "line": {
              "color": "#E5ECF6",
              "width": 0.5
             },
             "pattern": {
              "fillmode": "overlay",
              "size": 10,
              "solidity": 0.2
             }
            },
            "type": "barpolar"
           }
          ],
          "carpet": [
           {
            "aaxis": {
             "endlinecolor": "#2a3f5f",
             "gridcolor": "white",
             "linecolor": "white",
             "minorgridcolor": "white",
             "startlinecolor": "#2a3f5f"
            },
            "baxis": {
             "endlinecolor": "#2a3f5f",
             "gridcolor": "white",
             "linecolor": "white",
             "minorgridcolor": "white",
             "startlinecolor": "#2a3f5f"
            },
            "type": "carpet"
           }
          ],
          "choropleth": [
           {
            "colorbar": {
             "outlinewidth": 0,
             "ticks": ""
            },
            "type": "choropleth"
           }
          ],
          "contour": [
           {
            "colorbar": {
             "outlinewidth": 0,
             "ticks": ""
            },
            "colorscale": [
             [
              0,
              "#0d0887"
             ],
             [
              0.1111111111111111,
              "#46039f"
             ],
             [
              0.2222222222222222,
              "#7201a8"
             ],
             [
              0.3333333333333333,
              "#9c179e"
             ],
             [
              0.4444444444444444,
              "#bd3786"
             ],
             [
              0.5555555555555556,
              "#d8576b"
             ],
             [
              0.6666666666666666,
              "#ed7953"
             ],
             [
              0.7777777777777778,
              "#fb9f3a"
             ],
             [
              0.8888888888888888,
              "#fdca26"
             ],
             [
              1,
              "#f0f921"
             ]
            ],
            "type": "contour"
           }
          ],
          "contourcarpet": [
           {
            "colorbar": {
             "outlinewidth": 0,
             "ticks": ""
            },
            "type": "contourcarpet"
           }
          ],
          "heatmap": [
           {
            "colorbar": {
             "outlinewidth": 0,
             "ticks": ""
            },
            "colorscale": [
             [
              0,
              "#0d0887"
             ],
             [
              0.1111111111111111,
              "#46039f"
             ],
             [
              0.2222222222222222,
              "#7201a8"
             ],
             [
              0.3333333333333333,
              "#9c179e"
             ],
             [
              0.4444444444444444,
              "#bd3786"
             ],
             [
              0.5555555555555556,
              "#d8576b"
             ],
             [
              0.6666666666666666,
              "#ed7953"
             ],
             [
              0.7777777777777778,
              "#fb9f3a"
             ],
             [
              0.8888888888888888,
              "#fdca26"
             ],
             [
              1,
              "#f0f921"
             ]
            ],
            "type": "heatmap"
           }
          ],
          "heatmapgl": [
           {
            "colorbar": {
             "outlinewidth": 0,
             "ticks": ""
            },
            "colorscale": [
             [
              0,
              "#0d0887"
             ],
             [
              0.1111111111111111,
              "#46039f"
             ],
             [
              0.2222222222222222,
              "#7201a8"
             ],
             [
              0.3333333333333333,
              "#9c179e"
             ],
             [
              0.4444444444444444,
              "#bd3786"
             ],
             [
              0.5555555555555556,
              "#d8576b"
             ],
             [
              0.6666666666666666,
              "#ed7953"
             ],
             [
              0.7777777777777778,
              "#fb9f3a"
             ],
             [
              0.8888888888888888,
              "#fdca26"
             ],
             [
              1,
              "#f0f921"
             ]
            ],
            "type": "heatmapgl"
           }
          ],
          "histogram": [
           {
            "marker": {
             "pattern": {
              "fillmode": "overlay",
              "size": 10,
              "solidity": 0.2
             }
            },
            "type": "histogram"
           }
          ],
          "histogram2d": [
           {
            "colorbar": {
             "outlinewidth": 0,
             "ticks": ""
            },
            "colorscale": [
             [
              0,
              "#0d0887"
             ],
             [
              0.1111111111111111,
              "#46039f"
             ],
             [
              0.2222222222222222,
              "#7201a8"
             ],
             [
              0.3333333333333333,
              "#9c179e"
             ],
             [
              0.4444444444444444,
              "#bd3786"
             ],
             [
              0.5555555555555556,
              "#d8576b"
             ],
             [
              0.6666666666666666,
              "#ed7953"
             ],
             [
              0.7777777777777778,
              "#fb9f3a"
             ],
             [
              0.8888888888888888,
              "#fdca26"
             ],
             [
              1,
              "#f0f921"
             ]
            ],
            "type": "histogram2d"
           }
          ],
          "histogram2dcontour": [
           {
            "colorbar": {
             "outlinewidth": 0,
             "ticks": ""
            },
            "colorscale": [
             [
              0,
              "#0d0887"
             ],
             [
              0.1111111111111111,
              "#46039f"
             ],
             [
              0.2222222222222222,
              "#7201a8"
             ],
             [
              0.3333333333333333,
              "#9c179e"
             ],
             [
              0.4444444444444444,
              "#bd3786"
             ],
             [
              0.5555555555555556,
              "#d8576b"
             ],
             [
              0.6666666666666666,
              "#ed7953"
             ],
             [
              0.7777777777777778,
              "#fb9f3a"
             ],
             [
              0.8888888888888888,
              "#fdca26"
             ],
             [
              1,
              "#f0f921"
             ]
            ],
            "type": "histogram2dcontour"
           }
          ],
          "mesh3d": [
           {
            "colorbar": {
             "outlinewidth": 0,
             "ticks": ""
            },
            "type": "mesh3d"
           }
          ],
          "parcoords": [
           {
            "line": {
             "colorbar": {
              "outlinewidth": 0,
              "ticks": ""
             }
            },
            "type": "parcoords"
           }
          ],
          "pie": [
           {
            "automargin": true,
            "type": "pie"
           }
          ],
          "scatter": [
           {
            "fillpattern": {
             "fillmode": "overlay",
             "size": 10,
             "solidity": 0.2
            },
            "type": "scatter"
           }
          ],
          "scatter3d": [
           {
            "line": {
             "colorbar": {
              "outlinewidth": 0,
              "ticks": ""
             }
            },
            "marker": {
             "colorbar": {
              "outlinewidth": 0,
              "ticks": ""
             }
            },
            "type": "scatter3d"
           }
          ],
          "scattercarpet": [
           {
            "marker": {
             "colorbar": {
              "outlinewidth": 0,
              "ticks": ""
             }
            },
            "type": "scattercarpet"
           }
          ],
          "scattergeo": [
           {
            "marker": {
             "colorbar": {
              "outlinewidth": 0,
              "ticks": ""
             }
            },
            "type": "scattergeo"
           }
          ],
          "scattergl": [
           {
            "marker": {
             "colorbar": {
              "outlinewidth": 0,
              "ticks": ""
             }
            },
            "type": "scattergl"
           }
          ],
          "scattermapbox": [
           {
            "marker": {
             "colorbar": {
              "outlinewidth": 0,
              "ticks": ""
             }
            },
            "type": "scattermapbox"
           }
          ],
          "scatterpolar": [
           {
            "marker": {
             "colorbar": {
              "outlinewidth": 0,
              "ticks": ""
             }
            },
            "type": "scatterpolar"
           }
          ],
          "scatterpolargl": [
           {
            "marker": {
             "colorbar": {
              "outlinewidth": 0,
              "ticks": ""
             }
            },
            "type": "scatterpolargl"
           }
          ],
          "scatterternary": [
           {
            "marker": {
             "colorbar": {
              "outlinewidth": 0,
              "ticks": ""
             }
            },
            "type": "scatterternary"
           }
          ],
          "surface": [
           {
            "colorbar": {
             "outlinewidth": 0,
             "ticks": ""
            },
            "colorscale": [
             [
              0,
              "#0d0887"
             ],
             [
              0.1111111111111111,
              "#46039f"
             ],
             [
              0.2222222222222222,
              "#7201a8"
             ],
             [
              0.3333333333333333,
              "#9c179e"
             ],
             [
              0.4444444444444444,
              "#bd3786"
             ],
             [
              0.5555555555555556,
              "#d8576b"
             ],
             [
              0.6666666666666666,
              "#ed7953"
             ],
             [
              0.7777777777777778,
              "#fb9f3a"
             ],
             [
              0.8888888888888888,
              "#fdca26"
             ],
             [
              1,
              "#f0f921"
             ]
            ],
            "type": "surface"
           }
          ],
          "table": [
           {
            "cells": {
             "fill": {
              "color": "#EBF0F8"
             },
             "line": {
              "color": "white"
             }
            },
            "header": {
             "fill": {
              "color": "#C8D4E3"
             },
             "line": {
              "color": "white"
             }
            },
            "type": "table"
           }
          ]
         },
         "layout": {
          "annotationdefaults": {
           "arrowcolor": "#2a3f5f",
           "arrowhead": 0,
           "arrowwidth": 1
          },
          "autotypenumbers": "strict",
          "coloraxis": {
           "colorbar": {
            "outlinewidth": 0,
            "ticks": ""
           }
          },
          "colorscale": {
           "diverging": [
            [
             0,
             "#8e0152"
            ],
            [
             0.1,
             "#c51b7d"
            ],
            [
             0.2,
             "#de77ae"
            ],
            [
             0.3,
             "#f1b6da"
            ],
            [
             0.4,
             "#fde0ef"
            ],
            [
             0.5,
             "#f7f7f7"
            ],
            [
             0.6,
             "#e6f5d0"
            ],
            [
             0.7,
             "#b8e186"
            ],
            [
             0.8,
             "#7fbc41"
            ],
            [
             0.9,
             "#4d9221"
            ],
            [
             1,
             "#276419"
            ]
           ],
           "sequential": [
            [
             0,
             "#0d0887"
            ],
            [
             0.1111111111111111,
             "#46039f"
            ],
            [
             0.2222222222222222,
             "#7201a8"
            ],
            [
             0.3333333333333333,
             "#9c179e"
            ],
            [
             0.4444444444444444,
             "#bd3786"
            ],
            [
             0.5555555555555556,
             "#d8576b"
            ],
            [
             0.6666666666666666,
             "#ed7953"
            ],
            [
             0.7777777777777778,
             "#fb9f3a"
            ],
            [
             0.8888888888888888,
             "#fdca26"
            ],
            [
             1,
             "#f0f921"
            ]
           ],
           "sequentialminus": [
            [
             0,
             "#0d0887"
            ],
            [
             0.1111111111111111,
             "#46039f"
            ],
            [
             0.2222222222222222,
             "#7201a8"
            ],
            [
             0.3333333333333333,
             "#9c179e"
            ],
            [
             0.4444444444444444,
             "#bd3786"
            ],
            [
             0.5555555555555556,
             "#d8576b"
            ],
            [
             0.6666666666666666,
             "#ed7953"
            ],
            [
             0.7777777777777778,
             "#fb9f3a"
            ],
            [
             0.8888888888888888,
             "#fdca26"
            ],
            [
             1,
             "#f0f921"
            ]
           ]
          },
          "colorway": [
           "#636efa",
           "#EF553B",
           "#00cc96",
           "#ab63fa",
           "#FFA15A",
           "#19d3f3",
           "#FF6692",
           "#B6E880",
           "#FF97FF",
           "#FECB52"
          ],
          "font": {
           "color": "#2a3f5f"
          },
          "geo": {
           "bgcolor": "white",
           "lakecolor": "white",
           "landcolor": "#E5ECF6",
           "showlakes": true,
           "showland": true,
           "subunitcolor": "white"
          },
          "hoverlabel": {
           "align": "left"
          },
          "hovermode": "closest",
          "mapbox": {
           "style": "light"
          },
          "paper_bgcolor": "white",
          "plot_bgcolor": "#E5ECF6",
          "polar": {
           "angularaxis": {
            "gridcolor": "white",
            "linecolor": "white",
            "ticks": ""
           },
           "bgcolor": "#E5ECF6",
           "radialaxis": {
            "gridcolor": "white",
            "linecolor": "white",
            "ticks": ""
           }
          },
          "scene": {
           "xaxis": {
            "backgroundcolor": "#E5ECF6",
            "gridcolor": "white",
            "gridwidth": 2,
            "linecolor": "white",
            "showbackground": true,
            "ticks": "",
            "zerolinecolor": "white"
           },
           "yaxis": {
            "backgroundcolor": "#E5ECF6",
            "gridcolor": "white",
            "gridwidth": 2,
            "linecolor": "white",
            "showbackground": true,
            "ticks": "",
            "zerolinecolor": "white"
           },
           "zaxis": {
            "backgroundcolor": "#E5ECF6",
            "gridcolor": "white",
            "gridwidth": 2,
            "linecolor": "white",
            "showbackground": true,
            "ticks": "",
            "zerolinecolor": "white"
           }
          },
          "shapedefaults": {
           "line": {
            "color": "#2a3f5f"
           }
          },
          "ternary": {
           "aaxis": {
            "gridcolor": "white",
            "linecolor": "white",
            "ticks": ""
           },
           "baxis": {
            "gridcolor": "white",
            "linecolor": "white",
            "ticks": ""
           },
           "bgcolor": "#E5ECF6",
           "caxis": {
            "gridcolor": "white",
            "linecolor": "white",
            "ticks": ""
           }
          },
          "title": {
           "x": 0.05
          },
          "xaxis": {
           "automargin": true,
           "gridcolor": "white",
           "linecolor": "white",
           "ticks": "",
           "title": {
            "standoff": 15
           },
           "zerolinecolor": "white",
           "zerolinewidth": 2
          },
          "yaxis": {
           "automargin": true,
           "gridcolor": "white",
           "linecolor": "white",
           "ticks": "",
           "title": {
            "standoff": 15
           },
           "zerolinecolor": "white",
           "zerolinewidth": 2
          }
         }
        },
        "title": {
         "text": "Evolução do Preço das Ações ao Longo do Tempo SEM NORMALIZAR"
        },
        "xaxis": {
         "anchor": "y",
         "domain": [
          0,
          1
         ],
         "title": {
          "text": "Data"
         }
        },
        "yaxis": {
         "anchor": "x",
         "domain": [
          0,
          1
         ],
         "title": {
          "text": "Preço"
         }
        }
       }
      }
     },
     "metadata": {},
     "output_type": "display_data"
    }
   ],
   "source": [
    "import plotly.express as px\n",
    "\n",
    "fig = px.line(df_precos_pivotada, x=df_precos_pivotada.index, y=df_precos_pivotada.columns, title='Evolução do Preço das Ações ao Longo do Tempo', markers='marker')#height=6000)\n",
    "\n",
    "fig.update_layout(\n",
    "    title='Evolução do Preço das Ações ao Longo do Tempo SEM NORMALIZAR',\n",
    "    legend_title_text='TICKER',\n",
    "    xaxis_title='Data',\n",
    "    yaxis_title='Preço'\n",
    ")\n",
    "\n",
    "fig.update_xaxes(title_text='Data') # ALTERNATIVA\n",
    "fig.update_yaxes(title_text='Preço') # ALTERNATIVA\n",
    "\n",
    "fig.show()"
   ]
  },
  {
   "cell_type": "markdown",
   "metadata": {},
   "source": [
    "# Plot de grafico acoes com retornos positivos NO FINAL DO PERIODO DE 6 MESES"
   ]
  },
  {
   "cell_type": "code",
   "execution_count": 218,
   "metadata": {},
   "outputs": [
    {
     "data": {
      "application/vnd.plotly.v1+json": {
       "config": {
        "plotlyServerURL": "https://plot.ly"
       },
       "data": [
        {
         "mode": "lines+markers",
         "name": "ABEV3",
         "type": "scatter",
         "x": [
          "2023-01-31T00:00:00",
          "2023-02-28T00:00:00",
          "2023-03-31T00:00:00",
          "2023-04-30T00:00:00",
          "2023-05-31T00:00:00",
          "2023-06-30T00:00:00"
         ],
         "y": [
          1,
          0.9802342606149341,
          1.0490483162518303,
          1.0366032210834553,
          1.054904831625183,
          1.1281112737920937
         ]
        },
        {
         "mode": "lines+markers",
         "name": "AESB3",
         "type": "scatter",
         "x": [
          "2023-01-31T00:00:00",
          "2023-02-28T00:00:00",
          "2023-03-31T00:00:00",
          "2023-04-30T00:00:00",
          "2023-05-31T00:00:00",
          "2023-06-30T00:00:00"
         ],
         "y": [
          1,
          0.9821782178217822,
          0.9841584158415841,
          1.0574257425742575,
          1.205940594059406,
          1.2128712871287128
         ]
        },
        {
         "mode": "lines+markers",
         "name": "ALSO3",
         "type": "scatter",
         "x": [
          "2023-01-31T00:00:00",
          "2023-02-28T00:00:00",
          "2023-03-31T00:00:00",
          "2023-04-30T00:00:00",
          "2023-05-31T00:00:00",
          "2023-06-30T00:00:00"
         ],
         "y": [
          1,
          0.948362021099389,
          0.9772348695169351,
          1.0349805663520266,
          1.2032204330927263,
          1.3686840644086617
         ]
        },
        {
         "mode": "lines+markers",
         "name": "AZUL4",
         "type": "scatter",
         "x": [
          "2023-01-31T00:00:00",
          "2023-02-28T00:00:00",
          "2023-03-31T00:00:00",
          "2023-04-30T00:00:00",
          "2023-05-31T00:00:00",
          "2023-06-30T00:00:00"
         ],
         "y": [
          1,
          0.6016877637130802,
          1.0151898734177216,
          0.9164556962025316,
          1.4219409282700424,
          1.8447257383966245
         ]
        },
        {
         "mode": "lines+markers",
         "name": "B3SA3",
         "type": "scatter",
         "x": [
          "2023-01-31T00:00:00",
          "2023-02-28T00:00:00",
          "2023-03-31T00:00:00",
          "2023-04-30T00:00:00",
          "2023-05-31T00:00:00",
          "2023-06-30T00:00:00"
         ],
         "y": [
          1,
          0.8140432098765432,
          0.798611111111111,
          0.9012345679012345,
          1.0277777777777777,
          1.1273148148148147
         ]
        },
        {
         "mode": "lines+markers",
         "name": "BPAC11",
         "type": "scatter",
         "x": [
          "2023-01-31T00:00:00",
          "2023-02-28T00:00:00",
          "2023-03-31T00:00:00",
          "2023-04-30T00:00:00",
          "2023-05-31T00:00:00",
          "2023-06-30T00:00:00"
         ],
         "y": [
          1,
          0.9343200740055504,
          0.9088806660499537,
          1.0832562442183165,
          1.2164662349676225,
          1.4546716003700277
         ]
        },
        {
         "mode": "lines+markers",
         "name": "BRFS3",
         "type": "scatter",
         "x": [
          "2023-01-31T00:00:00",
          "2023-02-28T00:00:00",
          "2023-03-31T00:00:00",
          "2023-04-30T00:00:00",
          "2023-05-31T00:00:00",
          "2023-06-30T00:00:00"
         ],
         "y": [
          1,
          0.7738693467336684,
          0.7801507537688442,
          0.7964824120603015,
          1.021356783919598,
          1.1193467336683418
         ]
        },
        {
         "mode": "lines+markers",
         "name": "BRKM5",
         "type": "scatter",
         "x": [
          "2023-01-31T00:00:00",
          "2023-02-28T00:00:00",
          "2023-03-31T00:00:00",
          "2023-04-30T00:00:00",
          "2023-05-31T00:00:00",
          "2023-06-30T00:00:00"
         ],
         "y": [
          1,
          0.8624089155593657,
          0.8298328332618946,
          0.8482640377196743,
          0.9627089584226319,
          1.1941705957994
         ]
        },
        {
         "mode": "lines+markers",
         "name": "CCRO3",
         "type": "scatter",
         "x": [
          "2023-01-31T00:00:00",
          "2023-02-28T00:00:00",
          "2023-03-31T00:00:00",
          "2023-04-30T00:00:00",
          "2023-05-31T00:00:00",
          "2023-06-30T00:00:00"
         ],
         "y": [
          1,
          0.9345238095238095,
          1.08843537414966,
          1.1539115646258504,
          1.1539115646258504,
          1.1947278911564627
         ]
        },
        {
         "mode": "lines+markers",
         "name": "CEAB3",
         "type": "scatter",
         "x": [
          "2023-01-31T00:00:00",
          "2023-02-28T00:00:00",
          "2023-03-31T00:00:00",
          "2023-04-30T00:00:00",
          "2023-05-31T00:00:00",
          "2023-06-30T00:00:00"
         ],
         "y": [
          1,
          0.6778523489932886,
          0.9362416107382551,
          0.9328859060402684,
          1.5436241610738255,
          1.8221476510067114
         ]
        },
        {
         "mode": "lines+markers",
         "name": "CMIG4",
         "type": "scatter",
         "x": [
          "2023-01-31T00:00:00",
          "2023-02-28T00:00:00",
          "2023-03-31T00:00:00",
          "2023-04-30T00:00:00",
          "2023-05-31T00:00:00",
          "2023-06-30T00:00:00"
         ],
         "y": [
          1,
          0.9144851657940662,
          0.9982547993019196,
          1.0776614310645722,
          1.0209424083769632,
          1.1221640488656195
         ]
        },
        {
         "mode": "lines+markers",
         "name": "COGN3",
         "type": "scatter",
         "x": [
          "2023-01-31T00:00:00",
          "2023-02-28T00:00:00",
          "2023-03-31T00:00:00",
          "2023-04-30T00:00:00",
          "2023-05-31T00:00:00",
          "2023-06-30T00:00:00"
         ],
         "y": [
          1,
          0.8487394957983194,
          0.7857142857142858,
          0.8571428571428572,
          1.2142857142857144,
          1.3697478991596639
         ]
        },
        {
         "mode": "lines+markers",
         "name": "CPFE3",
         "type": "scatter",
         "x": [
          "2023-01-31T00:00:00",
          "2023-02-28T00:00:00",
          "2023-03-31T00:00:00",
          "2023-04-30T00:00:00",
          "2023-05-31T00:00:00",
          "2023-06-30T00:00:00"
         ],
         "y": [
          1,
          0.9101562499999999,
          0.9510216346153846,
          0.9957932692307692,
          0.9098557692307693,
          1.0333533653846154
         ]
        },
        {
         "mode": "lines+markers",
         "name": "CPLE6",
         "type": "scatter",
         "x": [
          "2023-01-31T00:00:00",
          "2023-02-28T00:00:00",
          "2023-03-31T00:00:00",
          "2023-04-30T00:00:00",
          "2023-05-31T00:00:00",
          "2023-06-30T00:00:00"
         ],
         "y": [
          1,
          0.9073359073359074,
          0.8931788931788933,
          1.0321750321750323,
          0.954954954954955,
          1.066924066924067
         ]
        },
        {
         "mode": "lines+markers",
         "name": "CSAN3",
         "type": "scatter",
         "x": [
          "2023-01-31T00:00:00",
          "2023-02-28T00:00:00",
          "2023-03-31T00:00:00",
          "2023-04-30T00:00:00",
          "2023-05-31T00:00:00",
          "2023-06-30T00:00:00"
         ],
         "y": [
          1,
          0.8970059880239521,
          0.9035928143712575,
          0.8970059880239521,
          0.8982035928143713,
          1.0694610778443114
         ]
        },
        {
         "mode": "lines+markers",
         "name": "CSMG3",
         "type": "scatter",
         "x": [
          "2023-01-31T00:00:00",
          "2023-02-28T00:00:00",
          "2023-03-31T00:00:00",
          "2023-04-30T00:00:00",
          "2023-05-31T00:00:00",
          "2023-06-30T00:00:00"
         ],
         "y": [
          1,
          0.9713114754098361,
          1.0744535519125682,
          1.1639344262295082,
          1.3620218579234973,
          1.4446721311475408
         ]
        },
        {
         "mode": "lines+markers",
         "name": "CYRE3",
         "type": "scatter",
         "x": [
          "2023-01-31T00:00:00",
          "2023-02-28T00:00:00",
          "2023-03-31T00:00:00",
          "2023-04-30T00:00:00",
          "2023-05-31T00:00:00",
          "2023-06-30T00:00:00"
         ],
         "y": [
          1,
          0.9868247694334651,
          0.927536231884058,
          1.017786561264822,
          1.230566534914361,
          1.326086956521739
         ]
        },
        {
         "mode": "lines+markers",
         "name": "DIRR3",
         "type": "scatter",
         "x": [
          "2023-01-31T00:00:00",
          "2023-02-28T00:00:00",
          "2023-03-31T00:00:00",
          "2023-04-30T00:00:00",
          "2023-05-31T00:00:00",
          "2023-06-30T00:00:00"
         ],
         "y": [
          1,
          0.9636819035691923,
          1.0006261740763933,
          0.9830932999373825,
          1.0939261114589856,
          1.2304320601127112
         ]
        },
        {
         "mode": "lines+markers",
         "name": "ECOR3",
         "type": "scatter",
         "x": [
          "2023-01-31T00:00:00",
          "2023-02-28T00:00:00",
          "2023-03-31T00:00:00",
          "2023-04-30T00:00:00",
          "2023-05-31T00:00:00",
          "2023-06-30T00:00:00"
         ],
         "y": [
          1,
          0.9030837004405285,
          1.1409691629955947,
          1.3590308370044053,
          1.4096916299559472,
          1.4317180616740088
         ]
        },
        {
         "mode": "lines+markers",
         "name": "EGIE3",
         "type": "scatter",
         "x": [
          "2023-01-31T00:00:00",
          "2023-02-28T00:00:00",
          "2023-03-31T00:00:00",
          "2023-04-30T00:00:00",
          "2023-05-31T00:00:00",
          "2023-06-30T00:00:00"
         ],
         "y": [
          1,
          0.9982210927573062,
          1.0208386277001271,
          1.0477763659466326,
          1.0681067344345616,
          1.161118170266836
         ]
        },
        {
         "mode": "lines+markers",
         "name": "EMBR3",
         "type": "scatter",
         "x": [
          "2023-01-31T00:00:00",
          "2023-02-28T00:00:00",
          "2023-03-31T00:00:00",
          "2023-04-30T00:00:00",
          "2023-05-31T00:00:00",
          "2023-06-30T00:00:00"
         ],
         "y": [
          1,
          1.0146788990825688,
          1.2715596330275227,
          1.1877675840978594,
          1.163302752293578,
          1.1339449541284403
         ]
        },
        {
         "mode": "lines+markers",
         "name": "ENEV3",
         "type": "scatter",
         "x": [
          "2023-01-31T00:00:00",
          "2023-02-28T00:00:00",
          "2023-03-31T00:00:00",
          "2023-04-30T00:00:00",
          "2023-05-31T00:00:00",
          "2023-06-30T00:00:00"
         ],
         "y": [
          1,
          0.9525,
          0.8725,
          0.9458333333333333,
          0.9541666666666666,
          1.0225
         ]
        },
        {
         "mode": "lines+markers",
         "name": "ENGI11",
         "type": "scatter",
         "x": [
          "2023-01-31T00:00:00",
          "2023-02-28T00:00:00",
          "2023-03-31T00:00:00",
          "2023-04-30T00:00:00",
          "2023-05-31T00:00:00",
          "2023-06-30T00:00:00"
         ],
         "y": [
          1,
          0.9157396449704142,
          0.9510059171597633,
          0.9893491124260354,
          1.0423668639053254,
          1.188165680473373
         ]
        },
        {
         "mode": "lines+markers",
         "name": "EQTL3",
         "type": "scatter",
         "x": [
          "2023-01-31T00:00:00",
          "2023-02-28T00:00:00",
          "2023-03-31T00:00:00",
          "2023-04-30T00:00:00",
          "2023-05-31T00:00:00",
          "2023-06-30T00:00:00"
         ],
         "y": [
          1,
          0.9075660242683797,
          0.9621698786581014,
          0.9757316202712348,
          1.0046395431834403,
          1.1473947180585296
         ]
        },
        {
         "mode": "lines+markers",
         "name": "EZTC3",
         "type": "scatter",
         "x": [
          "2023-01-31T00:00:00",
          "2023-02-28T00:00:00",
          "2023-03-31T00:00:00",
          "2023-04-30T00:00:00",
          "2023-05-31T00:00:00",
          "2023-06-30T00:00:00"
         ],
         "y": [
          1,
          0.8675767918088737,
          0.8313993174061433,
          0.9918088737201365,
          1.2034129692832765,
          1.2573378839590446
         ]
        },
        {
         "mode": "lines+markers",
         "name": "FLRY3",
         "type": "scatter",
         "x": [
          "2023-01-31T00:00:00",
          "2023-02-28T00:00:00",
          "2023-03-31T00:00:00",
          "2023-04-30T00:00:00",
          "2023-05-31T00:00:00",
          "2023-06-30T00:00:00"
         ],
         "y": [
          1,
          0.9166666666666666,
          0.937984496124031,
          0.937984496124031,
          1.0071059431524547,
          1.0368217054263567
         ]
        },
        {
         "mode": "lines+markers",
         "name": "GMAT3",
         "type": "scatter",
         "x": [
          "2023-01-31T00:00:00",
          "2023-02-28T00:00:00",
          "2023-03-31T00:00:00",
          "2023-04-30T00:00:00",
          "2023-05-31T00:00:00",
          "2023-06-30T00:00:00"
         ],
         "y": [
          1,
          0.8245614035087719,
          0.8362573099415205,
          0.8055555555555556,
          1.0657894736842106,
          1.1578947368421053
         ]
        },
        {
         "mode": "lines+markers",
         "name": "GOLL4",
         "type": "scatter",
         "x": [
          "2023-01-31T00:00:00",
          "2023-02-28T00:00:00",
          "2023-03-31T00:00:00",
          "2023-04-30T00:00:00",
          "2023-05-31T00:00:00",
          "2023-06-30T00:00:00"
         ],
         "y": [
          1,
          0.7219321148825065,
          0.8720626631853785,
          0.866840731070496,
          1.0861618798955615,
          1.7193211488250653
         ]
        },
        {
         "mode": "lines+markers",
         "name": "ITSA4",
         "type": "scatter",
         "x": [
          "2023-01-31T00:00:00",
          "2023-02-28T00:00:00",
          "2023-03-31T00:00:00",
          "2023-04-30T00:00:00",
          "2023-05-31T00:00:00",
          "2023-06-30T00:00:00"
         ],
         "y": [
          1,
          0.9648300117233295,
          0.9636576787807739,
          1.0175849941383353,
          1.0293083235638922,
          1.1301289566236812
         ]
        },
        {
         "mode": "lines+markers",
         "name": "ITUB4",
         "type": "scatter",
         "x": [
          "2023-01-31T00:00:00",
          "2023-02-28T00:00:00",
          "2023-03-31T00:00:00",
          "2023-04-30T00:00:00",
          "2023-05-31T00:00:00",
          "2023-06-30T00:00:00"
         ],
         "y": [
          1,
          1.0039478878799843,
          0.9767074615080932,
          1.023292538491907,
          1.0394788787998421,
          1.1219897354915123
         ]
        },
        {
         "mode": "lines+markers",
         "name": "KLBN11",
         "type": "scatter",
         "x": [
          "2023-01-31T00:00:00",
          "2023-02-28T00:00:00",
          "2023-03-31T00:00:00",
          "2023-04-30T00:00:00",
          "2023-05-31T00:00:00",
          "2023-06-30T00:00:00"
         ],
         "y": [
          1,
          1.0062047569803516,
          0.9353671147880042,
          0.9891416752843847,
          1.0847983453981387,
          1.12564632885212
         ]
        },
        {
         "mode": "lines+markers",
         "name": "LWSA3",
         "type": "scatter",
         "x": [
          "2023-01-31T00:00:00",
          "2023-02-28T00:00:00",
          "2023-03-31T00:00:00",
          "2023-04-30T00:00:00",
          "2023-05-31T00:00:00",
          "2023-06-30T00:00:00"
         ],
         "y": [
          1,
          0.7628705148205928,
          0.7472698907956318,
          0.8205928237129485,
          1.1950078003120124,
          1.3385335413416537
         ]
        },
        {
         "mode": "lines+markers",
         "name": "MOVI3",
         "type": "scatter",
         "x": [
          "2023-01-31T00:00:00",
          "2023-02-28T00:00:00",
          "2023-03-31T00:00:00",
          "2023-04-30T00:00:00",
          "2023-05-31T00:00:00",
          "2023-06-30T00:00:00"
         ],
         "y": [
          1,
          0.871523178807947,
          1.0715231788079471,
          1.1403973509933774,
          1.352317880794702,
          1.3947019867549668
         ]
        },
        {
         "mode": "lines+markers",
         "name": "MRVE3",
         "type": "scatter",
         "x": [
          "2023-01-31T00:00:00",
          "2023-02-28T00:00:00",
          "2023-03-31T00:00:00",
          "2023-04-30T00:00:00",
          "2023-05-31T00:00:00",
          "2023-06-30T00:00:00"
         ],
         "y": [
          1,
          0.8404558404558405,
          0.9088319088319089,
          1.0256410256410258,
          1.435897435897436,
          1.6481481481481484
         ]
        },
        {
         "mode": "lines+markers",
         "name": "MULT3",
         "type": "scatter",
         "x": [
          "2023-01-31T00:00:00",
          "2023-02-28T00:00:00",
          "2023-03-31T00:00:00",
          "2023-04-30T00:00:00",
          "2023-05-31T00:00:00",
          "2023-06-30T00:00:00"
         ],
         "y": [
          1,
          1.0580075662042876,
          1.03572929802438,
          1.0886927280369902,
          1.1151744430432955,
          1.1630937368642287
         ]
        },
        {
         "mode": "lines+markers",
         "name": "NTCO3",
         "type": "scatter",
         "x": [
          "2023-01-31T00:00:00",
          "2023-02-28T00:00:00",
          "2023-03-31T00:00:00",
          "2023-04-30T00:00:00",
          "2023-05-31T00:00:00",
          "2023-06-30T00:00:00"
         ],
         "y": [
          1,
          1.0529209621993127,
          0.9072164948453607,
          0.7601374570446735,
          0.9546391752577319,
          1.1505154639175257
         ]
        },
        {
         "mode": "lines+markers",
         "name": "ODPV3",
         "type": "scatter",
         "x": [
          "2023-01-31T00:00:00",
          "2023-02-28T00:00:00",
          "2023-03-31T00:00:00",
          "2023-04-30T00:00:00",
          "2023-05-31T00:00:00",
          "2023-06-30T00:00:00"
         ],
         "y": [
          1,
          1.0140597539543057,
          0.9666080843585236,
          0.8787346221441125,
          0.9340949033391915,
          1.1028119507908611
         ]
        },
        {
         "mode": "lines+markers",
         "name": "PETR4",
         "type": "scatter",
         "x": [
          "2023-01-31T00:00:00",
          "2023-02-28T00:00:00",
          "2023-03-31T00:00:00",
          "2023-04-30T00:00:00",
          "2023-05-31T00:00:00",
          "2023-06-30T00:00:00"
         ],
         "y": [
          1,
          0.9681626390487149,
          0.8995013425393172,
          0.9090909090909091,
          1.0019179133103184,
          1.1327196010740315
         ]
        },
        {
         "mode": "lines+markers",
         "name": "POMO4",
         "type": "scatter",
         "x": [
          "2023-01-31T00:00:00",
          "2023-02-28T00:00:00",
          "2023-03-31T00:00:00",
          "2023-04-30T00:00:00",
          "2023-05-31T00:00:00",
          "2023-06-30T00:00:00"
         ],
         "y": [
          1,
          1.0463576158940397,
          1.0529801324503312,
          1.1887417218543046,
          1.5298013245033113,
          1.7251655629139073
         ]
        },
        {
         "mode": "lines+markers",
         "name": "PSSA3",
         "type": "scatter",
         "x": [
          "2023-01-31T00:00:00",
          "2023-02-28T00:00:00",
          "2023-03-31T00:00:00",
          "2023-04-30T00:00:00",
          "2023-05-31T00:00:00",
          "2023-06-30T00:00:00"
         ],
         "y": [
          1,
          1.022007722007722,
          0.9081081081081082,
          0.9702702702702702,
          0.9231660231660233,
          1.0857142857142859
         ]
        },
        {
         "mode": "lines+markers",
         "name": "RADL3",
         "type": "scatter",
         "x": [
          "2023-01-31T00:00:00",
          "2023-02-28T00:00:00",
          "2023-03-31T00:00:00",
          "2023-04-30T00:00:00",
          "2023-05-31T00:00:00",
          "2023-06-30T00:00:00"
         ],
         "y": [
          1,
          0.9134111961337092,
          0.9846959323399115,
          1.0583971002819172,
          1.1409585179218686,
          1.1921063229963755
         ]
        },
        {
         "mode": "lines+markers",
         "name": "RAIL3",
         "type": "scatter",
         "x": [
          "2023-01-31T00:00:00",
          "2023-02-28T00:00:00",
          "2023-03-31T00:00:00",
          "2023-04-30T00:00:00",
          "2023-05-31T00:00:00",
          "2023-06-30T00:00:00"
         ],
         "y": [
          1,
          0.9771490750816105,
          1.0255712731229598,
          1.071817192600653,
          1.132752992383025,
          1.2078346028291622
         ]
        },
        {
         "mode": "lines+markers",
         "name": "RAIZ4",
         "type": "scatter",
         "x": [
          "2023-01-31T00:00:00",
          "2023-02-28T00:00:00",
          "2023-03-31T00:00:00",
          "2023-04-30T00:00:00",
          "2023-05-31T00:00:00",
          "2023-06-30T00:00:00"
         ],
         "y": [
          1,
          0.9361702127659575,
          0.8662613981762918,
          0.9696048632218844,
          1.1033434650455927,
          1.3373860182370823
         ]
        },
        {
         "mode": "lines+markers",
         "name": "RDOR3",
         "type": "scatter",
         "x": [
          "2023-01-31T00:00:00",
          "2023-02-28T00:00:00",
          "2023-03-31T00:00:00",
          "2023-04-30T00:00:00",
          "2023-05-31T00:00:00",
          "2023-06-30T00:00:00"
         ],
         "y": [
          1,
          0.8009404388714734,
          0.6658307210031348,
          0.7169278996865205,
          0.9090909090909092,
          1.0319749216300942
         ]
        },
        {
         "mode": "lines+markers",
         "name": "RENT3",
         "type": "scatter",
         "x": [
          "2023-01-31T00:00:00",
          "2023-02-28T00:00:00",
          "2023-03-31T00:00:00",
          "2023-04-30T00:00:00",
          "2023-05-31T00:00:00",
          "2023-06-30T00:00:00"
         ],
         "y": [
          1,
          0.93717277486911,
          0.9018746833305185,
          0.9797331531835838,
          1.0477959804087147,
          1.1568991724370883
         ]
        },
        {
         "mode": "lines+markers",
         "name": "SANB11",
         "type": "scatter",
         "x": [
          "2023-01-31T00:00:00",
          "2023-02-28T00:00:00",
          "2023-03-31T00:00:00",
          "2023-04-30T00:00:00",
          "2023-05-31T00:00:00",
          "2023-06-30T00:00:00"
         ],
         "y": [
          1,
          0.9785837651122625,
          0.92573402417962,
          0.9281519861830744,
          0.987910189982729,
          1.0580310880829016
         ]
        },
        {
         "mode": "lines+markers",
         "name": "SBSP3",
         "type": "scatter",
         "x": [
          "2023-01-31T00:00:00",
          "2023-02-28T00:00:00",
          "2023-03-31T00:00:00",
          "2023-04-30T00:00:00",
          "2023-05-31T00:00:00",
          "2023-06-30T00:00:00"
         ],
         "y": [
          1,
          0.9297520661157025,
          0.9092705713259074,
          0.8287818900467123,
          0.9441250449155587,
          1.0163492633848366
         ]
        },
        {
         "mode": "lines+markers",
         "name": "SIMH3",
         "type": "scatter",
         "x": [
          "2023-01-31T00:00:00",
          "2023-02-28T00:00:00",
          "2023-03-31T00:00:00",
          "2023-04-30T00:00:00",
          "2023-05-31T00:00:00",
          "2023-06-30T00:00:00"
         ],
         "y": [
          1,
          0.924066924066924,
          0.9626769626769628,
          0.9871299871299872,
          1.1891891891891893,
          1.157014157014157
         ]
        },
        {
         "mode": "lines+markers",
         "name": "SMTO3",
         "type": "scatter",
         "x": [
          "2023-01-31T00:00:00",
          "2023-02-28T00:00:00",
          "2023-03-31T00:00:00",
          "2023-04-30T00:00:00",
          "2023-05-31T00:00:00",
          "2023-06-30T00:00:00"
         ],
         "y": [
          1,
          1.0875649740103956,
          1.0803678528588563,
          1.255497800879648,
          1.4462215113954418,
          1.3654538184726108
         ]
        },
        {
         "mode": "lines+markers",
         "name": "SOMA3",
         "type": "scatter",
         "x": [
          "2023-01-31T00:00:00",
          "2023-02-28T00:00:00",
          "2023-03-31T00:00:00",
          "2023-04-30T00:00:00",
          "2023-05-31T00:00:00",
          "2023-06-30T00:00:00"
         ],
         "y": [
          1,
          0.8361904761904762,
          0.7723809523809523,
          0.8,
          0.9857142857142857,
          1.1428571428571428
         ]
        },
        {
         "mode": "lines+markers",
         "name": "STBP3",
         "type": "scatter",
         "x": [
          "2023-01-31T00:00:00",
          "2023-02-28T00:00:00",
          "2023-03-31T00:00:00",
          "2023-04-30T00:00:00",
          "2023-05-31T00:00:00",
          "2023-06-30T00:00:00"
         ],
         "y": [
          1,
          0.909194097616345,
          0.9216799091940975,
          0.960272417707151,
          1.1293984108967081,
          1.1532349602724177
         ]
        },
        {
         "mode": "lines+markers",
         "name": "TAEE11",
         "type": "scatter",
         "x": [
          "2023-01-31T00:00:00",
          "2023-02-28T00:00:00",
          "2023-03-31T00:00:00",
          "2023-04-30T00:00:00",
          "2023-05-31T00:00:00",
          "2023-06-30T00:00:00"
         ],
         "y": [
          1,
          0.9576362655153805,
          0.9398273070696167,
          0.9840798704803021,
          0.9962223421478683,
          1.015650296815974
         ]
        },
        {
         "mode": "lines+markers",
         "name": "TIMS3",
         "type": "scatter",
         "x": [
          "2023-01-31T00:00:00",
          "2023-02-28T00:00:00",
          "2023-03-31T00:00:00",
          "2023-04-30T00:00:00",
          "2023-05-31T00:00:00",
          "2023-06-30T00:00:00"
         ],
         "y": [
          1,
          1.0398642917726888,
          1.067005937234945,
          1.1874469889737067,
          1.1840542832909247,
          1.240033927056828
         ]
        },
        {
         "mode": "lines+markers",
         "name": "TRPL4",
         "type": "scatter",
         "x": [
          "2023-01-31T00:00:00",
          "2023-02-28T00:00:00",
          "2023-03-31T00:00:00",
          "2023-04-30T00:00:00",
          "2023-05-31T00:00:00",
          "2023-06-30T00:00:00"
         ],
         "y": [
          1,
          0.9514648010494098,
          0.9475295146480105,
          1.0078705728027983,
          1.0668998688237865,
          1.108876257105378
         ]
        },
        {
         "mode": "lines+markers",
         "name": "UGPA3",
         "type": "scatter",
         "x": [
          "2023-01-31T00:00:00",
          "2023-02-28T00:00:00",
          "2023-03-31T00:00:00",
          "2023-04-30T00:00:00",
          "2023-05-31T00:00:00",
          "2023-06-30T00:00:00"
         ],
         "y": [
          1,
          0.9992418498862775,
          1.058377558756634,
          1.0947687642153145,
          1.2835481425322215,
          1.4321455648218349
         ]
        },
        {
         "mode": "lines+markers",
         "name": "VIVT3",
         "type": "scatter",
         "x": [
          "2023-01-31T00:00:00",
          "2023-02-28T00:00:00",
          "2023-03-31T00:00:00",
          "2023-04-30T00:00:00",
          "2023-05-31T00:00:00",
          "2023-06-30T00:00:00"
         ],
         "y": [
          1,
          0.9311334289813485,
          0.9244380679100908,
          0.9832615973218555,
          0.9564801530368244,
          1.0346724055475849
         ]
        },
        {
         "mode": "lines+markers",
         "name": "YDUQ3",
         "type": "scatter",
         "x": [
          "2023-01-31T00:00:00",
          "2023-02-28T00:00:00",
          "2023-03-31T00:00:00",
          "2023-04-30T00:00:00",
          "2023-05-31T00:00:00",
          "2023-06-30T00:00:00"
         ],
         "y": [
          1,
          0.6824782187802517,
          0.6824782187802517,
          0.7860600193610842,
          1.362052274927396,
          1.9186834462729914
         ]
        }
       ],
       "layout": {
        "height": 1000,
        "legend": {
         "title": {
          "text": "TICKER"
         }
        },
        "template": {
         "data": {
          "bar": [
           {
            "error_x": {
             "color": "#2a3f5f"
            },
            "error_y": {
             "color": "#2a3f5f"
            },
            "marker": {
             "line": {
              "color": "#E5ECF6",
              "width": 0.5
             },
             "pattern": {
              "fillmode": "overlay",
              "size": 10,
              "solidity": 0.2
             }
            },
            "type": "bar"
           }
          ],
          "barpolar": [
           {
            "marker": {
             "line": {
              "color": "#E5ECF6",
              "width": 0.5
             },
             "pattern": {
              "fillmode": "overlay",
              "size": 10,
              "solidity": 0.2
             }
            },
            "type": "barpolar"
           }
          ],
          "carpet": [
           {
            "aaxis": {
             "endlinecolor": "#2a3f5f",
             "gridcolor": "white",
             "linecolor": "white",
             "minorgridcolor": "white",
             "startlinecolor": "#2a3f5f"
            },
            "baxis": {
             "endlinecolor": "#2a3f5f",
             "gridcolor": "white",
             "linecolor": "white",
             "minorgridcolor": "white",
             "startlinecolor": "#2a3f5f"
            },
            "type": "carpet"
           }
          ],
          "choropleth": [
           {
            "colorbar": {
             "outlinewidth": 0,
             "ticks": ""
            },
            "type": "choropleth"
           }
          ],
          "contour": [
           {
            "colorbar": {
             "outlinewidth": 0,
             "ticks": ""
            },
            "colorscale": [
             [
              0,
              "#0d0887"
             ],
             [
              0.1111111111111111,
              "#46039f"
             ],
             [
              0.2222222222222222,
              "#7201a8"
             ],
             [
              0.3333333333333333,
              "#9c179e"
             ],
             [
              0.4444444444444444,
              "#bd3786"
             ],
             [
              0.5555555555555556,
              "#d8576b"
             ],
             [
              0.6666666666666666,
              "#ed7953"
             ],
             [
              0.7777777777777778,
              "#fb9f3a"
             ],
             [
              0.8888888888888888,
              "#fdca26"
             ],
             [
              1,
              "#f0f921"
             ]
            ],
            "type": "contour"
           }
          ],
          "contourcarpet": [
           {
            "colorbar": {
             "outlinewidth": 0,
             "ticks": ""
            },
            "type": "contourcarpet"
           }
          ],
          "heatmap": [
           {
            "colorbar": {
             "outlinewidth": 0,
             "ticks": ""
            },
            "colorscale": [
             [
              0,
              "#0d0887"
             ],
             [
              0.1111111111111111,
              "#46039f"
             ],
             [
              0.2222222222222222,
              "#7201a8"
             ],
             [
              0.3333333333333333,
              "#9c179e"
             ],
             [
              0.4444444444444444,
              "#bd3786"
             ],
             [
              0.5555555555555556,
              "#d8576b"
             ],
             [
              0.6666666666666666,
              "#ed7953"
             ],
             [
              0.7777777777777778,
              "#fb9f3a"
             ],
             [
              0.8888888888888888,
              "#fdca26"
             ],
             [
              1,
              "#f0f921"
             ]
            ],
            "type": "heatmap"
           }
          ],
          "heatmapgl": [
           {
            "colorbar": {
             "outlinewidth": 0,
             "ticks": ""
            },
            "colorscale": [
             [
              0,
              "#0d0887"
             ],
             [
              0.1111111111111111,
              "#46039f"
             ],
             [
              0.2222222222222222,
              "#7201a8"
             ],
             [
              0.3333333333333333,
              "#9c179e"
             ],
             [
              0.4444444444444444,
              "#bd3786"
             ],
             [
              0.5555555555555556,
              "#d8576b"
             ],
             [
              0.6666666666666666,
              "#ed7953"
             ],
             [
              0.7777777777777778,
              "#fb9f3a"
             ],
             [
              0.8888888888888888,
              "#fdca26"
             ],
             [
              1,
              "#f0f921"
             ]
            ],
            "type": "heatmapgl"
           }
          ],
          "histogram": [
           {
            "marker": {
             "pattern": {
              "fillmode": "overlay",
              "size": 10,
              "solidity": 0.2
             }
            },
            "type": "histogram"
           }
          ],
          "histogram2d": [
           {
            "colorbar": {
             "outlinewidth": 0,
             "ticks": ""
            },
            "colorscale": [
             [
              0,
              "#0d0887"
             ],
             [
              0.1111111111111111,
              "#46039f"
             ],
             [
              0.2222222222222222,
              "#7201a8"
             ],
             [
              0.3333333333333333,
              "#9c179e"
             ],
             [
              0.4444444444444444,
              "#bd3786"
             ],
             [
              0.5555555555555556,
              "#d8576b"
             ],
             [
              0.6666666666666666,
              "#ed7953"
             ],
             [
              0.7777777777777778,
              "#fb9f3a"
             ],
             [
              0.8888888888888888,
              "#fdca26"
             ],
             [
              1,
              "#f0f921"
             ]
            ],
            "type": "histogram2d"
           }
          ],
          "histogram2dcontour": [
           {
            "colorbar": {
             "outlinewidth": 0,
             "ticks": ""
            },
            "colorscale": [
             [
              0,
              "#0d0887"
             ],
             [
              0.1111111111111111,
              "#46039f"
             ],
             [
              0.2222222222222222,
              "#7201a8"
             ],
             [
              0.3333333333333333,
              "#9c179e"
             ],
             [
              0.4444444444444444,
              "#bd3786"
             ],
             [
              0.5555555555555556,
              "#d8576b"
             ],
             [
              0.6666666666666666,
              "#ed7953"
             ],
             [
              0.7777777777777778,
              "#fb9f3a"
             ],
             [
              0.8888888888888888,
              "#fdca26"
             ],
             [
              1,
              "#f0f921"
             ]
            ],
            "type": "histogram2dcontour"
           }
          ],
          "mesh3d": [
           {
            "colorbar": {
             "outlinewidth": 0,
             "ticks": ""
            },
            "type": "mesh3d"
           }
          ],
          "parcoords": [
           {
            "line": {
             "colorbar": {
              "outlinewidth": 0,
              "ticks": ""
             }
            },
            "type": "parcoords"
           }
          ],
          "pie": [
           {
            "automargin": true,
            "type": "pie"
           }
          ],
          "scatter": [
           {
            "fillpattern": {
             "fillmode": "overlay",
             "size": 10,
             "solidity": 0.2
            },
            "type": "scatter"
           }
          ],
          "scatter3d": [
           {
            "line": {
             "colorbar": {
              "outlinewidth": 0,
              "ticks": ""
             }
            },
            "marker": {
             "colorbar": {
              "outlinewidth": 0,
              "ticks": ""
             }
            },
            "type": "scatter3d"
           }
          ],
          "scattercarpet": [
           {
            "marker": {
             "colorbar": {
              "outlinewidth": 0,
              "ticks": ""
             }
            },
            "type": "scattercarpet"
           }
          ],
          "scattergeo": [
           {
            "marker": {
             "colorbar": {
              "outlinewidth": 0,
              "ticks": ""
             }
            },
            "type": "scattergeo"
           }
          ],
          "scattergl": [
           {
            "marker": {
             "colorbar": {
              "outlinewidth": 0,
              "ticks": ""
             }
            },
            "type": "scattergl"
           }
          ],
          "scattermapbox": [
           {
            "marker": {
             "colorbar": {
              "outlinewidth": 0,
              "ticks": ""
             }
            },
            "type": "scattermapbox"
           }
          ],
          "scatterpolar": [
           {
            "marker": {
             "colorbar": {
              "outlinewidth": 0,
              "ticks": ""
             }
            },
            "type": "scatterpolar"
           }
          ],
          "scatterpolargl": [
           {
            "marker": {
             "colorbar": {
              "outlinewidth": 0,
              "ticks": ""
             }
            },
            "type": "scatterpolargl"
           }
          ],
          "scatterternary": [
           {
            "marker": {
             "colorbar": {
              "outlinewidth": 0,
              "ticks": ""
             }
            },
            "type": "scatterternary"
           }
          ],
          "surface": [
           {
            "colorbar": {
             "outlinewidth": 0,
             "ticks": ""
            },
            "colorscale": [
             [
              0,
              "#0d0887"
             ],
             [
              0.1111111111111111,
              "#46039f"
             ],
             [
              0.2222222222222222,
              "#7201a8"
             ],
             [
              0.3333333333333333,
              "#9c179e"
             ],
             [
              0.4444444444444444,
              "#bd3786"
             ],
             [
              0.5555555555555556,
              "#d8576b"
             ],
             [
              0.6666666666666666,
              "#ed7953"
             ],
             [
              0.7777777777777778,
              "#fb9f3a"
             ],
             [
              0.8888888888888888,
              "#fdca26"
             ],
             [
              1,
              "#f0f921"
             ]
            ],
            "type": "surface"
           }
          ],
          "table": [
           {
            "cells": {
             "fill": {
              "color": "#EBF0F8"
             },
             "line": {
              "color": "white"
             }
            },
            "header": {
             "fill": {
              "color": "#C8D4E3"
             },
             "line": {
              "color": "white"
             }
            },
            "type": "table"
           }
          ]
         },
         "layout": {
          "annotationdefaults": {
           "arrowcolor": "#2a3f5f",
           "arrowhead": 0,
           "arrowwidth": 1
          },
          "autotypenumbers": "strict",
          "coloraxis": {
           "colorbar": {
            "outlinewidth": 0,
            "ticks": ""
           }
          },
          "colorscale": {
           "diverging": [
            [
             0,
             "#8e0152"
            ],
            [
             0.1,
             "#c51b7d"
            ],
            [
             0.2,
             "#de77ae"
            ],
            [
             0.3,
             "#f1b6da"
            ],
            [
             0.4,
             "#fde0ef"
            ],
            [
             0.5,
             "#f7f7f7"
            ],
            [
             0.6,
             "#e6f5d0"
            ],
            [
             0.7,
             "#b8e186"
            ],
            [
             0.8,
             "#7fbc41"
            ],
            [
             0.9,
             "#4d9221"
            ],
            [
             1,
             "#276419"
            ]
           ],
           "sequential": [
            [
             0,
             "#0d0887"
            ],
            [
             0.1111111111111111,
             "#46039f"
            ],
            [
             0.2222222222222222,
             "#7201a8"
            ],
            [
             0.3333333333333333,
             "#9c179e"
            ],
            [
             0.4444444444444444,
             "#bd3786"
            ],
            [
             0.5555555555555556,
             "#d8576b"
            ],
            [
             0.6666666666666666,
             "#ed7953"
            ],
            [
             0.7777777777777778,
             "#fb9f3a"
            ],
            [
             0.8888888888888888,
             "#fdca26"
            ],
            [
             1,
             "#f0f921"
            ]
           ],
           "sequentialminus": [
            [
             0,
             "#0d0887"
            ],
            [
             0.1111111111111111,
             "#46039f"
            ],
            [
             0.2222222222222222,
             "#7201a8"
            ],
            [
             0.3333333333333333,
             "#9c179e"
            ],
            [
             0.4444444444444444,
             "#bd3786"
            ],
            [
             0.5555555555555556,
             "#d8576b"
            ],
            [
             0.6666666666666666,
             "#ed7953"
            ],
            [
             0.7777777777777778,
             "#fb9f3a"
            ],
            [
             0.8888888888888888,
             "#fdca26"
            ],
            [
             1,
             "#f0f921"
            ]
           ]
          },
          "colorway": [
           "#636efa",
           "#EF553B",
           "#00cc96",
           "#ab63fa",
           "#FFA15A",
           "#19d3f3",
           "#FF6692",
           "#B6E880",
           "#FF97FF",
           "#FECB52"
          ],
          "font": {
           "color": "#2a3f5f"
          },
          "geo": {
           "bgcolor": "white",
           "lakecolor": "white",
           "landcolor": "#E5ECF6",
           "showlakes": true,
           "showland": true,
           "subunitcolor": "white"
          },
          "hoverlabel": {
           "align": "left"
          },
          "hovermode": "closest",
          "mapbox": {
           "style": "light"
          },
          "paper_bgcolor": "white",
          "plot_bgcolor": "#E5ECF6",
          "polar": {
           "angularaxis": {
            "gridcolor": "white",
            "linecolor": "white",
            "ticks": ""
           },
           "bgcolor": "#E5ECF6",
           "radialaxis": {
            "gridcolor": "white",
            "linecolor": "white",
            "ticks": ""
           }
          },
          "scene": {
           "xaxis": {
            "backgroundcolor": "#E5ECF6",
            "gridcolor": "white",
            "gridwidth": 2,
            "linecolor": "white",
            "showbackground": true,
            "ticks": "",
            "zerolinecolor": "white"
           },
           "yaxis": {
            "backgroundcolor": "#E5ECF6",
            "gridcolor": "white",
            "gridwidth": 2,
            "linecolor": "white",
            "showbackground": true,
            "ticks": "",
            "zerolinecolor": "white"
           },
           "zaxis": {
            "backgroundcolor": "#E5ECF6",
            "gridcolor": "white",
            "gridwidth": 2,
            "linecolor": "white",
            "showbackground": true,
            "ticks": "",
            "zerolinecolor": "white"
           }
          },
          "shapedefaults": {
           "line": {
            "color": "#2a3f5f"
           }
          },
          "ternary": {
           "aaxis": {
            "gridcolor": "white",
            "linecolor": "white",
            "ticks": ""
           },
           "baxis": {
            "gridcolor": "white",
            "linecolor": "white",
            "ticks": ""
           },
           "bgcolor": "#E5ECF6",
           "caxis": {
            "gridcolor": "white",
            "linecolor": "white",
            "ticks": ""
           }
          },
          "title": {
           "x": 0.05
          },
          "xaxis": {
           "automargin": true,
           "gridcolor": "white",
           "linecolor": "white",
           "ticks": "",
           "title": {
            "standoff": 15
           },
           "zerolinecolor": "white",
           "zerolinewidth": 2
          },
          "yaxis": {
           "automargin": true,
           "gridcolor": "white",
           "linecolor": "white",
           "ticks": "",
           "title": {
            "standoff": 15
           },
           "zerolinecolor": "white",
           "zerolinewidth": 2
          }
         }
        },
        "title": {
         "text": "Evolução do Preço das Ações ao Longo do Tempo"
        },
        "xaxis": {
         "title": {
          "text": "Data"
         }
        },
        "yaxis": {
         "title": {
          "text": "Preço"
         }
        }
       }
      }
     },
     "metadata": {},
     "output_type": "display_data"
    }
   ],
   "source": [
    "ret_maiores_que_1 = df_precos_pivotada_normalizada.loc[:, df_precos_pivotada_normalizada.loc[df_precos_pivotada_normalizada.index[-1]] >= 1]\n",
    "ret_maiores_que_1\n",
    "\n",
    "figura = go.Figure()\n",
    "\n",
    "for col in ret_maiores_que_1.columns:\n",
    "    trace = go.Scatter(x=ret_maiores_que_1.index, y=ret_maiores_que_1[col], mode='lines+markers', name=col)\n",
    "    figura.add_trace(trace)\n",
    "\n",
    "figura.update_layout(title='Evolução do Preço das Ações ao Longo do Tempo')\n",
    "figura.update_layout(legend_title_text='TICKER')\n",
    "\n",
    "figura.update_layout(\n",
    "    title='Evolução do Preço das Ações ao Longo do Tempo',\n",
    "    legend_title_text='TICKER',\n",
    "    xaxis_title='Data',\n",
    "    yaxis_title='Preço',\n",
    "    height=1000\n",
    ")\n",
    "\n",
    "figura.show()"
   ]
  },
  {
   "cell_type": "markdown",
   "metadata": {},
   "source": [
    "# Plot de grafico acoes com retornos negativos NO FINAL DO PERIODO DE 6 MESES"
   ]
  },
  {
   "cell_type": "code",
   "execution_count": 219,
   "metadata": {},
   "outputs": [
    {
     "data": {
      "application/vnd.plotly.v1+json": {
       "config": {
        "plotlyServerURL": "https://plot.ly"
       },
       "data": [
        {
         "mode": "lines+markers",
         "name": "ALPA4",
         "type": "scatter",
         "x": [
          "2023-01-31T00:00:00",
          "2023-02-28T00:00:00",
          "2023-03-31T00:00:00",
          "2023-04-30T00:00:00",
          "2023-05-31T00:00:00",
          "2023-06-30T00:00:00"
         ],
         "y": [
          1,
          0.6928728875826599,
          0.5988243938280676,
          0.544452608376194,
          0.7670830271858927,
          0.6833210874357091
         ]
        },
        {
         "mode": "lines+markers",
         "name": "ANIM3",
         "type": "scatter",
         "x": [
          "2023-01-31T00:00:00",
          "2023-02-28T00:00:00",
          "2023-03-31T00:00:00",
          "2023-04-30T00:00:00",
          "2023-05-31T00:00:00",
          "2023-06-30T00:00:00"
         ],
         "y": [
          1,
          0.7217194570135747,
          0.5678733031674208,
          0.5226244343891403,
          0.6764705882352942,
          0.9479638009049774
         ]
        },
        {
         "mode": "lines+markers",
         "name": "ASAI3",
         "type": "scatter",
         "x": [
          "2023-01-31T00:00:00",
          "2023-02-28T00:00:00",
          "2023-03-31T00:00:00",
          "2023-04-30T00:00:00",
          "2023-05-31T00:00:00",
          "2023-06-30T00:00:00"
         ],
         "y": [
          1,
          0.9231552162849874,
          0.7908396946564885,
          0.6254452926208651,
          0.5470737913486006,
          0.6997455470737914
         ]
        },
        {
         "mode": "lines+markers",
         "name": "BBSE3",
         "type": "scatter",
         "x": [
          "2023-01-31T00:00:00",
          "2023-02-28T00:00:00",
          "2023-03-31T00:00:00",
          "2023-04-30T00:00:00",
          "2023-05-31T00:00:00",
          "2023-06-30T00:00:00"
         ],
         "y": [
          1,
          0.905505558496559,
          0.8605082053996823,
          0.9081524616199047,
          0.8186871360508206,
          0.8144520910534674
         ]
        },
        {
         "mode": "lines+markers",
         "name": "BEEF3",
         "type": "scatter",
         "x": [
          "2023-01-31T00:00:00",
          "2023-02-28T00:00:00",
          "2023-03-31T00:00:00",
          "2023-04-30T00:00:00",
          "2023-05-31T00:00:00",
          "2023-06-30T00:00:00"
         ],
         "y": [
          1,
          0.8098641887062187,
          0.7533952823445318,
          0.6111508220157256,
          0.7305218012866334,
          0.7598284488920658
         ]
        },
        {
         "mode": "lines+markers",
         "name": "CBAV3",
         "type": "scatter",
         "x": [
          "2023-01-31T00:00:00",
          "2023-02-28T00:00:00",
          "2023-03-31T00:00:00",
          "2023-04-30T00:00:00",
          "2023-05-31T00:00:00",
          "2023-06-30T00:00:00"
         ],
         "y": [
          1,
          0.8204724409448819,
          0.5968503937007874,
          0.41574803149606304,
          0.40944881889763785,
          0.39685039370078745
         ]
        },
        {
         "mode": "lines+markers",
         "name": "CIEL3",
         "type": "scatter",
         "x": [
          "2023-01-31T00:00:00",
          "2023-02-28T00:00:00",
          "2023-03-31T00:00:00",
          "2023-04-30T00:00:00",
          "2023-05-31T00:00:00",
          "2023-06-30T00:00:00"
         ],
         "y": [
          1,
          0.9580838323353293,
          0.968063872255489,
          1.089820359281437,
          0.9321357285429142,
          0.9161676646706587
         ]
        },
        {
         "mode": "lines+markers",
         "name": "CMIN3",
         "type": "scatter",
         "x": [
          "2023-01-31T00:00:00",
          "2023-02-28T00:00:00",
          "2023-03-31T00:00:00",
          "2023-04-30T00:00:00",
          "2023-05-31T00:00:00",
          "2023-06-30T00:00:00"
         ],
         "y": [
          1,
          0.8726591760299626,
          0.9063670411985019,
          0.8689138576779026,
          0.8239700374531836,
          0.7827715355805243
         ]
        },
        {
         "mode": "lines+markers",
         "name": "CRFB3",
         "type": "scatter",
         "x": [
          "2023-01-31T00:00:00",
          "2023-02-28T00:00:00",
          "2023-03-31T00:00:00",
          "2023-04-30T00:00:00",
          "2023-05-31T00:00:00",
          "2023-06-30T00:00:00"
         ],
         "y": [
          1,
          0.817629179331307,
          0.7531914893617022,
          0.6534954407294833,
          0.5756838905775077,
          0.6808510638297872
         ]
        },
        {
         "mode": "lines+markers",
         "name": "CSNA3",
         "type": "scatter",
         "x": [
          "2023-01-31T00:00:00",
          "2023-02-28T00:00:00",
          "2023-03-31T00:00:00",
          "2023-04-30T00:00:00",
          "2023-05-31T00:00:00",
          "2023-06-30T00:00:00"
         ],
         "y": [
          1,
          0.9010810810810812,
          0.8345945945945946,
          0.7681081081081081,
          0.6567567567567568,
          0.6556756756756758
         ]
        },
        {
         "mode": "lines+markers",
         "name": "CVCB3",
         "type": "scatter",
         "x": [
          "2023-01-31T00:00:00",
          "2023-02-28T00:00:00",
          "2023-03-31T00:00:00",
          "2023-04-30T00:00:00",
          "2023-05-31T00:00:00",
          "2023-06-30T00:00:00"
         ],
         "y": [
          1,
          0.6733333333333333,
          0.6911111111111111,
          0.6044444444444445,
          0.7511111111111111,
          0.7799999999999999
         ]
        },
        {
         "mode": "lines+markers",
         "name": "GGBR4",
         "type": "scatter",
         "x": [
          "2023-01-31T00:00:00",
          "2023-02-28T00:00:00",
          "2023-03-31T00:00:00",
          "2023-04-30T00:00:00",
          "2023-05-31T00:00:00",
          "2023-06-30T00:00:00"
         ],
         "y": [
          1,
          0.8744654856444715,
          0.772449602932193,
          0.7690897984117288,
          0.7321319486866218,
          0.7657299938912645
         ]
        },
        {
         "mode": "lines+markers",
         "name": "HAPV3",
         "type": "scatter",
         "x": [
          "2023-01-31T00:00:00",
          "2023-02-28T00:00:00",
          "2023-03-31T00:00:00",
          "2023-04-30T00:00:00",
          "2023-05-31T00:00:00",
          "2023-06-30T00:00:00"
         ],
         "y": [
          1,
          0.8718446601941747,
          0.5087378640776699,
          0.5359223300970873,
          0.7747572815533981,
          0.8504854368932038
         ]
        },
        {
         "mode": "lines+markers",
         "name": "HYPE3",
         "type": "scatter",
         "x": [
          "2023-01-31T00:00:00",
          "2023-02-28T00:00:00",
          "2023-03-31T00:00:00",
          "2023-04-30T00:00:00",
          "2023-05-31T00:00:00",
          "2023-06-30T00:00:00"
         ],
         "y": [
          1,
          0.8976293103448276,
          0.8125000000000001,
          0.802801724137931,
          0.8797413793103449,
          0.9915948275862069
         ]
        },
        {
         "mode": "lines+markers",
         "name": "JBSS3",
         "type": "scatter",
         "x": [
          "2023-01-31T00:00:00",
          "2023-02-28T00:00:00",
          "2023-03-31T00:00:00",
          "2023-04-30T00:00:00",
          "2023-05-31T00:00:00",
          "2023-06-30T00:00:00"
         ],
         "y": [
          1,
          0.9556772908366535,
          0.8889442231075698,
          0.8914342629482072,
          0.8366533864541834,
          0.8695219123505977
         ]
        },
        {
         "mode": "lines+markers",
         "name": "LREN3",
         "type": "scatter",
         "x": [
          "2023-01-31T00:00:00",
          "2023-02-28T00:00:00",
          "2023-03-31T00:00:00",
          "2023-04-30T00:00:00",
          "2023-05-31T00:00:00",
          "2023-06-30T00:00:00"
         ],
         "y": [
          1,
          0.8622283865002311,
          0.7660656495607953,
          0.7323162274618585,
          0.8992140545538604,
          0.9246417013407305
         ]
        },
        {
         "mode": "lines+markers",
         "name": "MGLU3",
         "type": "scatter",
         "x": [
          "2023-01-31T00:00:00",
          "2023-02-28T00:00:00",
          "2023-03-31T00:00:00",
          "2023-04-30T00:00:00",
          "2023-05-31T00:00:00",
          "2023-06-30T00:00:00"
         ],
         "y": [
          1,
          0.8103837471783296,
          0.7471783295711062,
          0.7539503386004515,
          0.8577878103837472,
          0.760722347629797
         ]
        },
        {
         "mode": "lines+markers",
         "name": "MLAS3",
         "type": "scatter",
         "x": [
          "2023-01-31T00:00:00",
          "2023-02-28T00:00:00",
          "2023-03-31T00:00:00",
          "2023-04-30T00:00:00",
          "2023-05-31T00:00:00",
          "2023-06-30T00:00:00"
         ],
         "y": [
          1,
          0.6865671641791045,
          0.408955223880597,
          0.5940298507462687,
          0.7462686567164178,
          0.7432835820895523
         ]
        },
        {
         "mode": "lines+markers",
         "name": "MRFG3",
         "type": "scatter",
         "x": [
          "2023-01-31T00:00:00",
          "2023-02-28T00:00:00",
          "2023-03-31T00:00:00",
          "2023-04-30T00:00:00",
          "2023-05-31T00:00:00",
          "2023-06-30T00:00:00"
         ],
         "y": [
          1,
          0.8272727272727273,
          0.8623376623376623,
          0.8454545454545455,
          0.8623376623376623,
          0.9441558441558441
         ]
        },
        {
         "mode": "lines+markers",
         "name": "PCAR3",
         "type": "scatter",
         "x": [
          "2023-01-31T00:00:00",
          "2023-02-28T00:00:00",
          "2023-03-31T00:00:00",
          "2023-04-30T00:00:00",
          "2023-05-31T00:00:00",
          "2023-06-30T00:00:00"
         ],
         "y": [
          1,
          0.75,
          0.710907335907336,
          0.7239382239382239,
          0.7857142857142858,
          0.9029922779922781
         ]
        },
        {
         "mode": "lines+markers",
         "name": "PETZ3",
         "type": "scatter",
         "x": [
          "2023-01-31T00:00:00",
          "2023-02-28T00:00:00",
          "2023-03-31T00:00:00",
          "2023-04-30T00:00:00",
          "2023-05-31T00:00:00",
          "2023-06-30T00:00:00"
         ],
         "y": [
          1,
          0.8908839779005525,
          0.856353591160221,
          0.8522099447513812,
          1.0013812154696133,
          0.9088397790055248
         ]
        },
        {
         "mode": "lines+markers",
         "name": "PRIO3",
         "type": "scatter",
         "x": [
          "2023-01-31T00:00:00",
          "2023-02-28T00:00:00",
          "2023-03-31T00:00:00",
          "2023-04-30T00:00:00",
          "2023-05-31T00:00:00",
          "2023-06-30T00:00:00"
         ],
         "y": [
          1,
          0.8004750593824228,
          0.7408551068883611,
          0.8254156769596199,
          0.8121140142517814,
          0.8807600950118765
         ]
        },
        {
         "mode": "lines+markers",
         "name": "QUAL3",
         "type": "scatter",
         "x": [
          "2023-01-31T00:00:00",
          "2023-02-28T00:00:00",
          "2023-03-31T00:00:00",
          "2023-04-30T00:00:00",
          "2023-05-31T00:00:00",
          "2023-06-30T00:00:00"
         ],
         "y": [
          1,
          0.740095087163233,
          0.5832012678288432,
          0.6291600633914423,
          0.6893819334389857,
          0.7670364500792394
         ]
        },
        {
         "mode": "lines+markers",
         "name": "RECV3",
         "type": "scatter",
         "x": [
          "2023-01-31T00:00:00",
          "2023-02-28T00:00:00",
          "2023-03-31T00:00:00",
          "2023-04-30T00:00:00",
          "2023-05-31T00:00:00",
          "2023-06-30T00:00:00"
         ],
         "y": [
          1,
          0.896136795440152,
          0.6437618746041799,
          0.623179227359088,
          0.545598480050665,
          0.6070297656744776
         ]
        },
        {
         "mode": "lines+markers",
         "name": "RRRP3",
         "type": "scatter",
         "x": [
          "2023-01-31T00:00:00",
          "2023-02-28T00:00:00",
          "2023-03-31T00:00:00",
          "2023-04-30T00:00:00",
          "2023-05-31T00:00:00",
          "2023-06-30T00:00:00"
         ],
         "y": [
          1,
          0.812179344189159,
          0.6573722953379434,
          0.7064465759536026,
          0.6761097479366496,
          0.6658487619897391
         ]
        },
        {
         "mode": "lines+markers",
         "name": "SUZB3",
         "type": "scatter",
         "x": [
          "2023-01-31T00:00:00",
          "2023-02-28T00:00:00",
          "2023-03-31T00:00:00",
          "2023-04-30T00:00:00",
          "2023-05-31T00:00:00",
          "2023-06-30T00:00:00"
         ],
         "y": [
          1,
          1.0297670405522001,
          0.8973252804141502,
          0.8584987057808455,
          0.9659188955996549,
          0.953839516824849
         ]
        },
        {
         "mode": "lines+markers",
         "name": "TOTS3",
         "type": "scatter",
         "x": [
          "2023-01-31T00:00:00",
          "2023-02-28T00:00:00",
          "2023-03-31T00:00:00",
          "2023-04-30T00:00:00",
          "2023-05-31T00:00:00",
          "2023-06-30T00:00:00"
         ],
         "y": [
          1,
          0.9075490522115065,
          0.9364815430661789,
          0.8533422015297639,
          0.9564349850349185,
          0.9970069837046891
         ]
        },
        {
         "mode": "lines+markers",
         "name": "USIM5",
         "type": "scatter",
         "x": [
          "2023-01-31T00:00:00",
          "2023-02-28T00:00:00",
          "2023-03-31T00:00:00",
          "2023-04-30T00:00:00",
          "2023-05-31T00:00:00",
          "2023-06-30T00:00:00"
         ],
         "y": [
          1,
          0.8007033997655335,
          0.8546307151230951,
          0.8440797186400939,
          0.8229777256740914,
          0.8288393903868699
         ]
        },
        {
         "mode": "lines+markers",
         "name": "VALE3",
         "type": "scatter",
         "x": [
          "2023-01-31T00:00:00",
          "2023-02-28T00:00:00",
          "2023-03-31T00:00:00",
          "2023-04-30T00:00:00",
          "2023-05-31T00:00:00",
          "2023-06-30T00:00:00"
         ],
         "y": [
          1,
          0.9027616125277748,
          0.8495397312453709,
          0.7660565019574649,
          0.6751666490318484,
          0.6795048143053645
         ]
        },
        {
         "mode": "lines+markers",
         "name": "VAMO3",
         "type": "scatter",
         "x": [
          "2023-01-31T00:00:00",
          "2023-02-28T00:00:00",
          "2023-03-31T00:00:00",
          "2023-04-30T00:00:00",
          "2023-05-31T00:00:00",
          "2023-06-30T00:00:00"
         ],
         "y": [
          1,
          0.908344733242134,
          0.9131326949384405,
          0.835841313269494,
          0.8803009575923393,
          0.8283173734610123
         ]
        },
        {
         "mode": "lines+markers",
         "name": "WEGE3",
         "type": "scatter",
         "x": [
          "2023-01-31T00:00:00",
          "2023-02-28T00:00:00",
          "2023-03-31T00:00:00",
          "2023-04-30T00:00:00",
          "2023-05-31T00:00:00",
          "2023-06-30T00:00:00"
         ],
         "y": [
          1,
          1.0240585774058577,
          1.0604079497907948,
          1.0753138075313806,
          0.9835251046025104,
          0.9871861924686192
         ]
        }
       ],
       "layout": {
        "height": 1000,
        "legend": {
         "title": {
          "text": "TICKER"
         }
        },
        "template": {
         "data": {
          "bar": [
           {
            "error_x": {
             "color": "#2a3f5f"
            },
            "error_y": {
             "color": "#2a3f5f"
            },
            "marker": {
             "line": {
              "color": "#E5ECF6",
              "width": 0.5
             },
             "pattern": {
              "fillmode": "overlay",
              "size": 10,
              "solidity": 0.2
             }
            },
            "type": "bar"
           }
          ],
          "barpolar": [
           {
            "marker": {
             "line": {
              "color": "#E5ECF6",
              "width": 0.5
             },
             "pattern": {
              "fillmode": "overlay",
              "size": 10,
              "solidity": 0.2
             }
            },
            "type": "barpolar"
           }
          ],
          "carpet": [
           {
            "aaxis": {
             "endlinecolor": "#2a3f5f",
             "gridcolor": "white",
             "linecolor": "white",
             "minorgridcolor": "white",
             "startlinecolor": "#2a3f5f"
            },
            "baxis": {
             "endlinecolor": "#2a3f5f",
             "gridcolor": "white",
             "linecolor": "white",
             "minorgridcolor": "white",
             "startlinecolor": "#2a3f5f"
            },
            "type": "carpet"
           }
          ],
          "choropleth": [
           {
            "colorbar": {
             "outlinewidth": 0,
             "ticks": ""
            },
            "type": "choropleth"
           }
          ],
          "contour": [
           {
            "colorbar": {
             "outlinewidth": 0,
             "ticks": ""
            },
            "colorscale": [
             [
              0,
              "#0d0887"
             ],
             [
              0.1111111111111111,
              "#46039f"
             ],
             [
              0.2222222222222222,
              "#7201a8"
             ],
             [
              0.3333333333333333,
              "#9c179e"
             ],
             [
              0.4444444444444444,
              "#bd3786"
             ],
             [
              0.5555555555555556,
              "#d8576b"
             ],
             [
              0.6666666666666666,
              "#ed7953"
             ],
             [
              0.7777777777777778,
              "#fb9f3a"
             ],
             [
              0.8888888888888888,
              "#fdca26"
             ],
             [
              1,
              "#f0f921"
             ]
            ],
            "type": "contour"
           }
          ],
          "contourcarpet": [
           {
            "colorbar": {
             "outlinewidth": 0,
             "ticks": ""
            },
            "type": "contourcarpet"
           }
          ],
          "heatmap": [
           {
            "colorbar": {
             "outlinewidth": 0,
             "ticks": ""
            },
            "colorscale": [
             [
              0,
              "#0d0887"
             ],
             [
              0.1111111111111111,
              "#46039f"
             ],
             [
              0.2222222222222222,
              "#7201a8"
             ],
             [
              0.3333333333333333,
              "#9c179e"
             ],
             [
              0.4444444444444444,
              "#bd3786"
             ],
             [
              0.5555555555555556,
              "#d8576b"
             ],
             [
              0.6666666666666666,
              "#ed7953"
             ],
             [
              0.7777777777777778,
              "#fb9f3a"
             ],
             [
              0.8888888888888888,
              "#fdca26"
             ],
             [
              1,
              "#f0f921"
             ]
            ],
            "type": "heatmap"
           }
          ],
          "heatmapgl": [
           {
            "colorbar": {
             "outlinewidth": 0,
             "ticks": ""
            },
            "colorscale": [
             [
              0,
              "#0d0887"
             ],
             [
              0.1111111111111111,
              "#46039f"
             ],
             [
              0.2222222222222222,
              "#7201a8"
             ],
             [
              0.3333333333333333,
              "#9c179e"
             ],
             [
              0.4444444444444444,
              "#bd3786"
             ],
             [
              0.5555555555555556,
              "#d8576b"
             ],
             [
              0.6666666666666666,
              "#ed7953"
             ],
             [
              0.7777777777777778,
              "#fb9f3a"
             ],
             [
              0.8888888888888888,
              "#fdca26"
             ],
             [
              1,
              "#f0f921"
             ]
            ],
            "type": "heatmapgl"
           }
          ],
          "histogram": [
           {
            "marker": {
             "pattern": {
              "fillmode": "overlay",
              "size": 10,
              "solidity": 0.2
             }
            },
            "type": "histogram"
           }
          ],
          "histogram2d": [
           {
            "colorbar": {
             "outlinewidth": 0,
             "ticks": ""
            },
            "colorscale": [
             [
              0,
              "#0d0887"
             ],
             [
              0.1111111111111111,
              "#46039f"
             ],
             [
              0.2222222222222222,
              "#7201a8"
             ],
             [
              0.3333333333333333,
              "#9c179e"
             ],
             [
              0.4444444444444444,
              "#bd3786"
             ],
             [
              0.5555555555555556,
              "#d8576b"
             ],
             [
              0.6666666666666666,
              "#ed7953"
             ],
             [
              0.7777777777777778,
              "#fb9f3a"
             ],
             [
              0.8888888888888888,
              "#fdca26"
             ],
             [
              1,
              "#f0f921"
             ]
            ],
            "type": "histogram2d"
           }
          ],
          "histogram2dcontour": [
           {
            "colorbar": {
             "outlinewidth": 0,
             "ticks": ""
            },
            "colorscale": [
             [
              0,
              "#0d0887"
             ],
             [
              0.1111111111111111,
              "#46039f"
             ],
             [
              0.2222222222222222,
              "#7201a8"
             ],
             [
              0.3333333333333333,
              "#9c179e"
             ],
             [
              0.4444444444444444,
              "#bd3786"
             ],
             [
              0.5555555555555556,
              "#d8576b"
             ],
             [
              0.6666666666666666,
              "#ed7953"
             ],
             [
              0.7777777777777778,
              "#fb9f3a"
             ],
             [
              0.8888888888888888,
              "#fdca26"
             ],
             [
              1,
              "#f0f921"
             ]
            ],
            "type": "histogram2dcontour"
           }
          ],
          "mesh3d": [
           {
            "colorbar": {
             "outlinewidth": 0,
             "ticks": ""
            },
            "type": "mesh3d"
           }
          ],
          "parcoords": [
           {
            "line": {
             "colorbar": {
              "outlinewidth": 0,
              "ticks": ""
             }
            },
            "type": "parcoords"
           }
          ],
          "pie": [
           {
            "automargin": true,
            "type": "pie"
           }
          ],
          "scatter": [
           {
            "fillpattern": {
             "fillmode": "overlay",
             "size": 10,
             "solidity": 0.2
            },
            "type": "scatter"
           }
          ],
          "scatter3d": [
           {
            "line": {
             "colorbar": {
              "outlinewidth": 0,
              "ticks": ""
             }
            },
            "marker": {
             "colorbar": {
              "outlinewidth": 0,
              "ticks": ""
             }
            },
            "type": "scatter3d"
           }
          ],
          "scattercarpet": [
           {
            "marker": {
             "colorbar": {
              "outlinewidth": 0,
              "ticks": ""
             }
            },
            "type": "scattercarpet"
           }
          ],
          "scattergeo": [
           {
            "marker": {
             "colorbar": {
              "outlinewidth": 0,
              "ticks": ""
             }
            },
            "type": "scattergeo"
           }
          ],
          "scattergl": [
           {
            "marker": {
             "colorbar": {
              "outlinewidth": 0,
              "ticks": ""
             }
            },
            "type": "scattergl"
           }
          ],
          "scattermapbox": [
           {
            "marker": {
             "colorbar": {
              "outlinewidth": 0,
              "ticks": ""
             }
            },
            "type": "scattermapbox"
           }
          ],
          "scatterpolar": [
           {
            "marker": {
             "colorbar": {
              "outlinewidth": 0,
              "ticks": ""
             }
            },
            "type": "scatterpolar"
           }
          ],
          "scatterpolargl": [
           {
            "marker": {
             "colorbar": {
              "outlinewidth": 0,
              "ticks": ""
             }
            },
            "type": "scatterpolargl"
           }
          ],
          "scatterternary": [
           {
            "marker": {
             "colorbar": {
              "outlinewidth": 0,
              "ticks": ""
             }
            },
            "type": "scatterternary"
           }
          ],
          "surface": [
           {
            "colorbar": {
             "outlinewidth": 0,
             "ticks": ""
            },
            "colorscale": [
             [
              0,
              "#0d0887"
             ],
             [
              0.1111111111111111,
              "#46039f"
             ],
             [
              0.2222222222222222,
              "#7201a8"
             ],
             [
              0.3333333333333333,
              "#9c179e"
             ],
             [
              0.4444444444444444,
              "#bd3786"
             ],
             [
              0.5555555555555556,
              "#d8576b"
             ],
             [
              0.6666666666666666,
              "#ed7953"
             ],
             [
              0.7777777777777778,
              "#fb9f3a"
             ],
             [
              0.8888888888888888,
              "#fdca26"
             ],
             [
              1,
              "#f0f921"
             ]
            ],
            "type": "surface"
           }
          ],
          "table": [
           {
            "cells": {
             "fill": {
              "color": "#EBF0F8"
             },
             "line": {
              "color": "white"
             }
            },
            "header": {
             "fill": {
              "color": "#C8D4E3"
             },
             "line": {
              "color": "white"
             }
            },
            "type": "table"
           }
          ]
         },
         "layout": {
          "annotationdefaults": {
           "arrowcolor": "#2a3f5f",
           "arrowhead": 0,
           "arrowwidth": 1
          },
          "autotypenumbers": "strict",
          "coloraxis": {
           "colorbar": {
            "outlinewidth": 0,
            "ticks": ""
           }
          },
          "colorscale": {
           "diverging": [
            [
             0,
             "#8e0152"
            ],
            [
             0.1,
             "#c51b7d"
            ],
            [
             0.2,
             "#de77ae"
            ],
            [
             0.3,
             "#f1b6da"
            ],
            [
             0.4,
             "#fde0ef"
            ],
            [
             0.5,
             "#f7f7f7"
            ],
            [
             0.6,
             "#e6f5d0"
            ],
            [
             0.7,
             "#b8e186"
            ],
            [
             0.8,
             "#7fbc41"
            ],
            [
             0.9,
             "#4d9221"
            ],
            [
             1,
             "#276419"
            ]
           ],
           "sequential": [
            [
             0,
             "#0d0887"
            ],
            [
             0.1111111111111111,
             "#46039f"
            ],
            [
             0.2222222222222222,
             "#7201a8"
            ],
            [
             0.3333333333333333,
             "#9c179e"
            ],
            [
             0.4444444444444444,
             "#bd3786"
            ],
            [
             0.5555555555555556,
             "#d8576b"
            ],
            [
             0.6666666666666666,
             "#ed7953"
            ],
            [
             0.7777777777777778,
             "#fb9f3a"
            ],
            [
             0.8888888888888888,
             "#fdca26"
            ],
            [
             1,
             "#f0f921"
            ]
           ],
           "sequentialminus": [
            [
             0,
             "#0d0887"
            ],
            [
             0.1111111111111111,
             "#46039f"
            ],
            [
             0.2222222222222222,
             "#7201a8"
            ],
            [
             0.3333333333333333,
             "#9c179e"
            ],
            [
             0.4444444444444444,
             "#bd3786"
            ],
            [
             0.5555555555555556,
             "#d8576b"
            ],
            [
             0.6666666666666666,
             "#ed7953"
            ],
            [
             0.7777777777777778,
             "#fb9f3a"
            ],
            [
             0.8888888888888888,
             "#fdca26"
            ],
            [
             1,
             "#f0f921"
            ]
           ]
          },
          "colorway": [
           "#636efa",
           "#EF553B",
           "#00cc96",
           "#ab63fa",
           "#FFA15A",
           "#19d3f3",
           "#FF6692",
           "#B6E880",
           "#FF97FF",
           "#FECB52"
          ],
          "font": {
           "color": "#2a3f5f"
          },
          "geo": {
           "bgcolor": "white",
           "lakecolor": "white",
           "landcolor": "#E5ECF6",
           "showlakes": true,
           "showland": true,
           "subunitcolor": "white"
          },
          "hoverlabel": {
           "align": "left"
          },
          "hovermode": "closest",
          "mapbox": {
           "style": "light"
          },
          "paper_bgcolor": "white",
          "plot_bgcolor": "#E5ECF6",
          "polar": {
           "angularaxis": {
            "gridcolor": "white",
            "linecolor": "white",
            "ticks": ""
           },
           "bgcolor": "#E5ECF6",
           "radialaxis": {
            "gridcolor": "white",
            "linecolor": "white",
            "ticks": ""
           }
          },
          "scene": {
           "xaxis": {
            "backgroundcolor": "#E5ECF6",
            "gridcolor": "white",
            "gridwidth": 2,
            "linecolor": "white",
            "showbackground": true,
            "ticks": "",
            "zerolinecolor": "white"
           },
           "yaxis": {
            "backgroundcolor": "#E5ECF6",
            "gridcolor": "white",
            "gridwidth": 2,
            "linecolor": "white",
            "showbackground": true,
            "ticks": "",
            "zerolinecolor": "white"
           },
           "zaxis": {
            "backgroundcolor": "#E5ECF6",
            "gridcolor": "white",
            "gridwidth": 2,
            "linecolor": "white",
            "showbackground": true,
            "ticks": "",
            "zerolinecolor": "white"
           }
          },
          "shapedefaults": {
           "line": {
            "color": "#2a3f5f"
           }
          },
          "ternary": {
           "aaxis": {
            "gridcolor": "white",
            "linecolor": "white",
            "ticks": ""
           },
           "baxis": {
            "gridcolor": "white",
            "linecolor": "white",
            "ticks": ""
           },
           "bgcolor": "#E5ECF6",
           "caxis": {
            "gridcolor": "white",
            "linecolor": "white",
            "ticks": ""
           }
          },
          "title": {
           "x": 0.05
          },
          "xaxis": {
           "automargin": true,
           "gridcolor": "white",
           "linecolor": "white",
           "ticks": "",
           "title": {
            "standoff": 15
           },
           "zerolinecolor": "white",
           "zerolinewidth": 2
          },
          "yaxis": {
           "automargin": true,
           "gridcolor": "white",
           "linecolor": "white",
           "ticks": "",
           "title": {
            "standoff": 15
           },
           "zerolinecolor": "white",
           "zerolinewidth": 2
          }
         }
        },
        "title": {
         "text": "Evolução do Preço das Ações ao Longo do Tempo"
        },
        "xaxis": {
         "title": {
          "text": "Data"
         }
        },
        "yaxis": {
         "title": {
          "text": "Preço"
         }
        }
       }
      }
     },
     "metadata": {},
     "output_type": "display_data"
    }
   ],
   "source": [
    "ret_menores_que_1 = df_precos_pivotada_normalizada.loc[:, df_precos_pivotada_normalizada.loc[df_precos_pivotada_normalizada.index[-1]] <= 1]\n",
    "ret_menores_que_1\n",
    "\n",
    "figura = go.Figure()\n",
    "\n",
    "for col in ret_menores_que_1.columns:\n",
    "    trace = go.Scatter(x=ret_menores_que_1.index, y=ret_menores_que_1[col], mode='lines+markers', name=col)\n",
    "    figura.add_trace(trace)\n",
    "\n",
    "figura.update_layout(title='Evolução do Preço das Ações ao Longo do Tempo COM RENTABILIDADE RUIM')\n",
    "figura.update_layout(legend_title_text='TICKER')\n",
    "\n",
    "figura.update_layout(\n",
    "    title='Evolução do Preço das Ações ao Longo do Tempo',\n",
    "    legend_title_text='TICKER',\n",
    "    xaxis_title='Data',\n",
    "    yaxis_title='Preço',\n",
    "    height=1000\n",
    ")\n",
    "\n",
    "figura.show()"
   ]
  },
  {
   "cell_type": "markdown",
   "metadata": {},
   "source": [
    "# ANÁLISESSSSSS @@@@@@@@@@@@@@@@@"
   ]
  },
  {
   "cell_type": "code",
   "execution_count": 284,
   "metadata": {},
   "outputs": [
    {
     "data": {
      "text/html": [
       "<div>\n",
       "<style scoped>\n",
       "    .dataframe tbody tr th:only-of-type {\n",
       "        vertical-align: middle;\n",
       "    }\n",
       "\n",
       "    .dataframe tbody tr th {\n",
       "        vertical-align: top;\n",
       "    }\n",
       "\n",
       "    .dataframe thead th {\n",
       "        text-align: right;\n",
       "    }\n",
       "</style>\n",
       "<table border=\"1\" class=\"dataframe\">\n",
       "  <thead>\n",
       "    <tr style=\"text-align: right;\">\n",
       "      <th></th>\n",
       "      <th>DATA</th>\n",
       "      <th>NOME</th>\n",
       "      <th>PREÇO (R$)</th>\n",
       "      <th>SETOR ECONÔMICO</th>\n",
       "      <th>SUBSETOR</th>\n",
       "      <th>SEGMENTO</th>\n",
       "      <th>IPCA</th>\n",
       "      <th>SELIC</th>\n",
       "      <th>USD</th>\n",
       "      <th>RETORNOS_SIMPLES</th>\n",
       "      <th>...</th>\n",
       "      <th>MÁXIMO DROW DOWN</th>\n",
       "      <th>MÁXIMO DROW DOWN bruto</th>\n",
       "      <th>VOLATILIDADE</th>\n",
       "      <th>RENTABILIDADE</th>\n",
       "      <th>GANHO BRUTO R$</th>\n",
       "      <th>ACUM_GANHO BRUTO R$</th>\n",
       "      <th>ACUM_VOLATILIDADE</th>\n",
       "      <th>ACUM_MÉDIA</th>\n",
       "      <th>ACUM_RENTABILIDADE</th>\n",
       "      <th>DROW_DOWN</th>\n",
       "    </tr>\n",
       "    <tr>\n",
       "      <th>PAPEL</th>\n",
       "      <th></th>\n",
       "      <th></th>\n",
       "      <th></th>\n",
       "      <th></th>\n",
       "      <th></th>\n",
       "      <th></th>\n",
       "      <th></th>\n",
       "      <th></th>\n",
       "      <th></th>\n",
       "      <th></th>\n",
       "      <th></th>\n",
       "      <th></th>\n",
       "      <th></th>\n",
       "      <th></th>\n",
       "      <th></th>\n",
       "      <th></th>\n",
       "      <th></th>\n",
       "      <th></th>\n",
       "      <th></th>\n",
       "      <th></th>\n",
       "      <th></th>\n",
       "    </tr>\n",
       "  </thead>\n",
       "  <tbody>\n",
       "    <tr>\n",
       "      <th>ABEV3</th>\n",
       "      <td>Jan-2023</td>\n",
       "      <td>AMBEV S/A</td>\n",
       "      <td>13.66</td>\n",
       "      <td>Consumo não Cíclico</td>\n",
       "      <td>Bebidas</td>\n",
       "      <td>Cervejas e Refrigerantes</td>\n",
       "      <td>0.0053</td>\n",
       "      <td>0.0112</td>\n",
       "      <td>5.0987</td>\n",
       "      <td>NaN</td>\n",
       "      <td>...</td>\n",
       "      <td>-0.019766</td>\n",
       "      <td>-0.27</td>\n",
       "      <td>0.043101</td>\n",
       "      <td>0.128111</td>\n",
       "      <td>1.75</td>\n",
       "      <td>0.00</td>\n",
       "      <td>NaN</td>\n",
       "      <td>13.660000</td>\n",
       "      <td>NaN</td>\n",
       "      <td>0.000000</td>\n",
       "    </tr>\n",
       "    <tr>\n",
       "      <th>ABEV3</th>\n",
       "      <td>Feb-2023</td>\n",
       "      <td>AMBEV S/A</td>\n",
       "      <td>13.39</td>\n",
       "      <td>Consumo não Cíclico</td>\n",
       "      <td>Bebidas</td>\n",
       "      <td>Cervejas e Refrigerantes</td>\n",
       "      <td>0.0084</td>\n",
       "      <td>0.0092</td>\n",
       "      <td>5.2072</td>\n",
       "      <td>-0.019766</td>\n",
       "      <td>...</td>\n",
       "      <td>-0.019766</td>\n",
       "      <td>-0.27</td>\n",
       "      <td>0.043101</td>\n",
       "      <td>0.128111</td>\n",
       "      <td>1.75</td>\n",
       "      <td>-0.27</td>\n",
       "      <td>NaN</td>\n",
       "      <td>13.525000</td>\n",
       "      <td>-0.019766</td>\n",
       "      <td>-0.019766</td>\n",
       "    </tr>\n",
       "    <tr>\n",
       "      <th>ABEV3</th>\n",
       "      <td>Mar-2023</td>\n",
       "      <td>AMBEV S/A</td>\n",
       "      <td>14.33</td>\n",
       "      <td>Consumo não Cíclico</td>\n",
       "      <td>Bebidas</td>\n",
       "      <td>Cervejas e Refrigerantes</td>\n",
       "      <td>0.0071</td>\n",
       "      <td>0.0117</td>\n",
       "      <td>5.0798</td>\n",
       "      <td>0.070202</td>\n",
       "      <td>...</td>\n",
       "      <td>-0.019766</td>\n",
       "      <td>-0.27</td>\n",
       "      <td>0.043101</td>\n",
       "      <td>0.128111</td>\n",
       "      <td>1.75</td>\n",
       "      <td>0.67</td>\n",
       "      <td>0.063617</td>\n",
       "      <td>13.793333</td>\n",
       "      <td>0.049048</td>\n",
       "      <td>0.000000</td>\n",
       "    </tr>\n",
       "    <tr>\n",
       "      <th>ABEV3</th>\n",
       "      <td>Apr-2023</td>\n",
       "      <td>AMBEV S/A</td>\n",
       "      <td>14.16</td>\n",
       "      <td>Consumo não Cíclico</td>\n",
       "      <td>Bebidas</td>\n",
       "      <td>Cervejas e Refrigerantes</td>\n",
       "      <td>0.0061</td>\n",
       "      <td>0.0092</td>\n",
       "      <td>5.0001</td>\n",
       "      <td>-0.011863</td>\n",
       "      <td>...</td>\n",
       "      <td>-0.019766</td>\n",
       "      <td>-0.27</td>\n",
       "      <td>0.043101</td>\n",
       "      <td>0.128111</td>\n",
       "      <td>1.75</td>\n",
       "      <td>0.50</td>\n",
       "      <td>0.049818</td>\n",
       "      <td>13.885000</td>\n",
       "      <td>0.036603</td>\n",
       "      <td>-0.011863</td>\n",
       "    </tr>\n",
       "    <tr>\n",
       "      <th>ABEV3</th>\n",
       "      <td>May-2023</td>\n",
       "      <td>AMBEV S/A</td>\n",
       "      <td>14.41</td>\n",
       "      <td>Consumo não Cíclico</td>\n",
       "      <td>Bebidas</td>\n",
       "      <td>Cervejas e Refrigerantes</td>\n",
       "      <td>0.0023</td>\n",
       "      <td>0.0112</td>\n",
       "      <td>5.0953</td>\n",
       "      <td>0.017655</td>\n",
       "      <td>...</td>\n",
       "      <td>-0.019766</td>\n",
       "      <td>-0.27</td>\n",
       "      <td>0.043101</td>\n",
       "      <td>0.128111</td>\n",
       "      <td>1.75</td>\n",
       "      <td>0.75</td>\n",
       "      <td>0.040747</td>\n",
       "      <td>13.990000</td>\n",
       "      <td>0.054905</td>\n",
       "      <td>0.000000</td>\n",
       "    </tr>\n",
       "    <tr>\n",
       "      <th>...</th>\n",
       "      <td>...</td>\n",
       "      <td>...</td>\n",
       "      <td>...</td>\n",
       "      <td>...</td>\n",
       "      <td>...</td>\n",
       "      <td>...</td>\n",
       "      <td>...</td>\n",
       "      <td>...</td>\n",
       "      <td>...</td>\n",
       "      <td>...</td>\n",
       "      <td>...</td>\n",
       "      <td>...</td>\n",
       "      <td>...</td>\n",
       "      <td>...</td>\n",
       "      <td>...</td>\n",
       "      <td>...</td>\n",
       "      <td>...</td>\n",
       "      <td>...</td>\n",
       "      <td>...</td>\n",
       "      <td>...</td>\n",
       "      <td>...</td>\n",
       "    </tr>\n",
       "    <tr>\n",
       "      <th>YDUQ3</th>\n",
       "      <td>Feb-2023</td>\n",
       "      <td>YDUQS PART</td>\n",
       "      <td>7.05</td>\n",
       "      <td>Consumo Cíclico</td>\n",
       "      <td>Diversos</td>\n",
       "      <td>Serviços Educacionais</td>\n",
       "      <td>0.0084</td>\n",
       "      <td>0.0092</td>\n",
       "      <td>5.2072</td>\n",
       "      <td>-0.317522</td>\n",
       "      <td>...</td>\n",
       "      <td>-0.317522</td>\n",
       "      <td>-3.28</td>\n",
       "      <td>0.399190</td>\n",
       "      <td>0.918683</td>\n",
       "      <td>9.49</td>\n",
       "      <td>-3.28</td>\n",
       "      <td>NaN</td>\n",
       "      <td>8.690000</td>\n",
       "      <td>-0.317522</td>\n",
       "      <td>-0.317522</td>\n",
       "    </tr>\n",
       "    <tr>\n",
       "      <th>YDUQ3</th>\n",
       "      <td>Mar-2023</td>\n",
       "      <td>YDUQS PART</td>\n",
       "      <td>7.05</td>\n",
       "      <td>Consumo Cíclico</td>\n",
       "      <td>Diversos</td>\n",
       "      <td>Serviços Educacionais</td>\n",
       "      <td>0.0071</td>\n",
       "      <td>0.0117</td>\n",
       "      <td>5.0798</td>\n",
       "      <td>0.000000</td>\n",
       "      <td>...</td>\n",
       "      <td>-0.317522</td>\n",
       "      <td>-3.28</td>\n",
       "      <td>0.399190</td>\n",
       "      <td>0.918683</td>\n",
       "      <td>9.49</td>\n",
       "      <td>-3.28</td>\n",
       "      <td>0.224522</td>\n",
       "      <td>8.143333</td>\n",
       "      <td>-0.317522</td>\n",
       "      <td>-0.317522</td>\n",
       "    </tr>\n",
       "    <tr>\n",
       "      <th>YDUQ3</th>\n",
       "      <td>Apr-2023</td>\n",
       "      <td>YDUQS PART</td>\n",
       "      <td>8.12</td>\n",
       "      <td>Consumo Cíclico</td>\n",
       "      <td>Diversos</td>\n",
       "      <td>Serviços Educacionais</td>\n",
       "      <td>0.0061</td>\n",
       "      <td>0.0092</td>\n",
       "      <td>5.0001</td>\n",
       "      <td>0.151773</td>\n",
       "      <td>...</td>\n",
       "      <td>-0.317522</td>\n",
       "      <td>-3.28</td>\n",
       "      <td>0.399190</td>\n",
       "      <td>0.918683</td>\n",
       "      <td>9.49</td>\n",
       "      <td>-2.21</td>\n",
       "      <td>0.239476</td>\n",
       "      <td>8.137500</td>\n",
       "      <td>-0.213940</td>\n",
       "      <td>-0.213940</td>\n",
       "    </tr>\n",
       "    <tr>\n",
       "      <th>YDUQ3</th>\n",
       "      <td>May-2023</td>\n",
       "      <td>YDUQS PART</td>\n",
       "      <td>14.07</td>\n",
       "      <td>Consumo Cíclico</td>\n",
       "      <td>Diversos</td>\n",
       "      <td>Serviços Educacionais</td>\n",
       "      <td>0.0023</td>\n",
       "      <td>0.0112</td>\n",
       "      <td>5.0953</td>\n",
       "      <td>0.732759</td>\n",
       "      <td>...</td>\n",
       "      <td>-0.317522</td>\n",
       "      <td>-3.28</td>\n",
       "      <td>0.399190</td>\n",
       "      <td>0.918683</td>\n",
       "      <td>9.49</td>\n",
       "      <td>3.74</td>\n",
       "      <td>0.439854</td>\n",
       "      <td>9.324000</td>\n",
       "      <td>0.362052</td>\n",
       "      <td>0.000000</td>\n",
       "    </tr>\n",
       "    <tr>\n",
       "      <th>YDUQ3</th>\n",
       "      <td>Jun-2023</td>\n",
       "      <td>YDUQS PART</td>\n",
       "      <td>19.82</td>\n",
       "      <td>Consumo Cíclico</td>\n",
       "      <td>Diversos</td>\n",
       "      <td>Serviços Educacionais</td>\n",
       "      <td>-0.0008</td>\n",
       "      <td>0.0107</td>\n",
       "      <td>4.8186</td>\n",
       "      <td>0.408671</td>\n",
       "      <td>...</td>\n",
       "      <td>-0.317522</td>\n",
       "      <td>-3.28</td>\n",
       "      <td>0.399190</td>\n",
       "      <td>0.918683</td>\n",
       "      <td>9.49</td>\n",
       "      <td>9.49</td>\n",
       "      <td>0.399190</td>\n",
       "      <td>11.073333</td>\n",
       "      <td>0.918683</td>\n",
       "      <td>0.000000</td>\n",
       "    </tr>\n",
       "  </tbody>\n",
       "</table>\n",
       "<p>528 rows × 24 columns</p>\n",
       "</div>"
      ],
      "text/plain": [
       "           DATA        NOME  PREÇO (R$)      SETOR ECONÔMICO  SUBSETOR  \\\n",
       "PAPEL                                                                    \n",
       "ABEV3  Jan-2023   AMBEV S/A       13.66  Consumo não Cíclico   Bebidas   \n",
       "ABEV3  Feb-2023   AMBEV S/A       13.39  Consumo não Cíclico   Bebidas   \n",
       "ABEV3  Mar-2023   AMBEV S/A       14.33  Consumo não Cíclico   Bebidas   \n",
       "ABEV3  Apr-2023   AMBEV S/A       14.16  Consumo não Cíclico   Bebidas   \n",
       "ABEV3  May-2023   AMBEV S/A       14.41  Consumo não Cíclico   Bebidas   \n",
       "...         ...         ...         ...                  ...       ...   \n",
       "YDUQ3  Feb-2023  YDUQS PART        7.05      Consumo Cíclico  Diversos   \n",
       "YDUQ3  Mar-2023  YDUQS PART        7.05      Consumo Cíclico  Diversos   \n",
       "YDUQ3  Apr-2023  YDUQS PART        8.12      Consumo Cíclico  Diversos   \n",
       "YDUQ3  May-2023  YDUQS PART       14.07      Consumo Cíclico  Diversos   \n",
       "YDUQ3  Jun-2023  YDUQS PART       19.82      Consumo Cíclico  Diversos   \n",
       "\n",
       "                       SEGMENTO    IPCA   SELIC     USD  RETORNOS_SIMPLES  \\\n",
       "PAPEL                                                                       \n",
       "ABEV3  Cervejas e Refrigerantes  0.0053  0.0112  5.0987               NaN   \n",
       "ABEV3  Cervejas e Refrigerantes  0.0084  0.0092  5.2072         -0.019766   \n",
       "ABEV3  Cervejas e Refrigerantes  0.0071  0.0117  5.0798          0.070202   \n",
       "ABEV3  Cervejas e Refrigerantes  0.0061  0.0092  5.0001         -0.011863   \n",
       "ABEV3  Cervejas e Refrigerantes  0.0023  0.0112  5.0953          0.017655   \n",
       "...                         ...     ...     ...     ...               ...   \n",
       "YDUQ3     Serviços Educacionais  0.0084  0.0092  5.2072         -0.317522   \n",
       "YDUQ3     Serviços Educacionais  0.0071  0.0117  5.0798          0.000000   \n",
       "YDUQ3     Serviços Educacionais  0.0061  0.0092  5.0001          0.151773   \n",
       "YDUQ3     Serviços Educacionais  0.0023  0.0112  5.0953          0.732759   \n",
       "YDUQ3     Serviços Educacionais -0.0008  0.0107  4.8186          0.408671   \n",
       "\n",
       "       ...  MÁXIMO DROW DOWN  MÁXIMO DROW DOWN bruto  VOLATILIDADE  \\\n",
       "PAPEL  ...                                                           \n",
       "ABEV3  ...         -0.019766                   -0.27      0.043101   \n",
       "ABEV3  ...         -0.019766                   -0.27      0.043101   \n",
       "ABEV3  ...         -0.019766                   -0.27      0.043101   \n",
       "ABEV3  ...         -0.019766                   -0.27      0.043101   \n",
       "ABEV3  ...         -0.019766                   -0.27      0.043101   \n",
       "...    ...               ...                     ...           ...   \n",
       "YDUQ3  ...         -0.317522                   -3.28      0.399190   \n",
       "YDUQ3  ...         -0.317522                   -3.28      0.399190   \n",
       "YDUQ3  ...         -0.317522                   -3.28      0.399190   \n",
       "YDUQ3  ...         -0.317522                   -3.28      0.399190   \n",
       "YDUQ3  ...         -0.317522                   -3.28      0.399190   \n",
       "\n",
       "       RENTABILIDADE  GANHO BRUTO R$  ACUM_GANHO BRUTO R$  ACUM_VOLATILIDADE  \\\n",
       "PAPEL                                                                          \n",
       "ABEV3       0.128111            1.75                 0.00                NaN   \n",
       "ABEV3       0.128111            1.75                -0.27                NaN   \n",
       "ABEV3       0.128111            1.75                 0.67           0.063617   \n",
       "ABEV3       0.128111            1.75                 0.50           0.049818   \n",
       "ABEV3       0.128111            1.75                 0.75           0.040747   \n",
       "...              ...             ...                  ...                ...   \n",
       "YDUQ3       0.918683            9.49                -3.28                NaN   \n",
       "YDUQ3       0.918683            9.49                -3.28           0.224522   \n",
       "YDUQ3       0.918683            9.49                -2.21           0.239476   \n",
       "YDUQ3       0.918683            9.49                 3.74           0.439854   \n",
       "YDUQ3       0.918683            9.49                 9.49           0.399190   \n",
       "\n",
       "       ACUM_MÉDIA  ACUM_RENTABILIDADE  DROW_DOWN  \n",
       "PAPEL                                             \n",
       "ABEV3   13.660000                 NaN   0.000000  \n",
       "ABEV3   13.525000           -0.019766  -0.019766  \n",
       "ABEV3   13.793333            0.049048   0.000000  \n",
       "ABEV3   13.885000            0.036603  -0.011863  \n",
       "ABEV3   13.990000            0.054905   0.000000  \n",
       "...           ...                 ...        ...  \n",
       "YDUQ3    8.690000           -0.317522  -0.317522  \n",
       "YDUQ3    8.143333           -0.317522  -0.317522  \n",
       "YDUQ3    8.137500           -0.213940  -0.213940  \n",
       "YDUQ3    9.324000            0.362052   0.000000  \n",
       "YDUQ3   11.073333            0.918683   0.000000  \n",
       "\n",
       "[528 rows x 24 columns]"
      ]
     },
     "execution_count": 284,
     "metadata": {},
     "output_type": "execute_result"
    }
   ],
   "source": [
    "df"
   ]
  },
  {
   "cell_type": "code",
   "execution_count": null,
   "metadata": {},
   "outputs": [],
   "source": [
    "import streamlit as st "
   ]
  },
  {
   "cell_type": "markdown",
   "metadata": {},
   "source": [
    "# @@@@@@@@@@@@@@@@@@@@@@@@@@@@@@@@@@@@@@@"
   ]
  },
  {
   "cell_type": "code",
   "execution_count": 139,
   "metadata": {},
   "outputs": [],
   "source": [
    "# df.rename(columns={'MÁXIMO DROW DOWN': 'MAX DD (%)', 'MÁXIMO DROW DOWN bruto': 'MAX DD (R$)'}, inplace=True)"
   ]
  },
  {
   "cell_type": "code",
   "execution_count": 253,
   "metadata": {},
   "outputs": [
    {
     "data": {
      "text/plain": [
       "Index(['DATA', 'NOME', 'PREÇO (R$)', 'SETOR ECONÔMICO', 'SUBSETOR', 'SEGMENTO',\n",
       "       'IPCA', 'SELIC', 'USD', 'RETORNOS_SIMPLES', 'RETORNOS_LOGARITIMOS',\n",
       "       'RETORNOS_ACUMULADOS', 'SHARPE', 'MÉDIA', 'MÁXIMO DROW DOWN',\n",
       "       'MÁXIMO DROW DOWN bruto', 'VOLATILIDADE', 'RENTABILIDADE',\n",
       "       'GANHO BRUTO R$', 'ACUM_GANHO BRUTO R$', 'ACUM_VOLATILIDADE',\n",
       "       'ACUM_MÉDIA', 'ACUM_RENTABILIDADE', 'DROW_DOWN'],\n",
       "      dtype='object')"
      ]
     },
     "execution_count": 253,
     "metadata": {},
     "output_type": "execute_result"
    }
   ],
   "source": [
    "df.columns"
   ]
  },
  {
   "cell_type": "code",
   "execution_count": 257,
   "metadata": {},
   "outputs": [
    {
     "data": {
      "text/html": [
       "<div>\n",
       "<style scoped>\n",
       "    .dataframe tbody tr th:only-of-type {\n",
       "        vertical-align: middle;\n",
       "    }\n",
       "\n",
       "    .dataframe tbody tr th {\n",
       "        vertical-align: top;\n",
       "    }\n",
       "\n",
       "    .dataframe thead th {\n",
       "        text-align: right;\n",
       "    }\n",
       "</style>\n",
       "<table border=\"1\" class=\"dataframe\">\n",
       "  <thead>\n",
       "    <tr style=\"text-align: right;\">\n",
       "      <th></th>\n",
       "      <th>PAPEL</th>\n",
       "      <th>DATA</th>\n",
       "      <th>NOME</th>\n",
       "      <th>PREÇO (R$)</th>\n",
       "      <th>SETOR ECONÔMICO</th>\n",
       "      <th>SUBSETOR</th>\n",
       "      <th>SEGMENTO</th>\n",
       "      <th>IPCA</th>\n",
       "      <th>SELIC</th>\n",
       "      <th>USD</th>\n",
       "      <th>...</th>\n",
       "      <th>MÁXIMO DROW DOWN</th>\n",
       "      <th>MÁXIMO DROW DOWN bruto</th>\n",
       "      <th>VOLATILIDADE</th>\n",
       "      <th>RENTABILIDADE</th>\n",
       "      <th>GANHO BRUTO R$</th>\n",
       "      <th>ACUM_GANHO BRUTO R$</th>\n",
       "      <th>ACUM_VOLATILIDADE</th>\n",
       "      <th>ACUM_MÉDIA</th>\n",
       "      <th>ACUM_RENTABILIDADE</th>\n",
       "      <th>DROW_DOWN</th>\n",
       "    </tr>\n",
       "  </thead>\n",
       "  <tbody>\n",
       "    <tr>\n",
       "      <th>0</th>\n",
       "      <td>ABEV3</td>\n",
       "      <td>Jan-2023</td>\n",
       "      <td>AMBEV S/A</td>\n",
       "      <td>13.66</td>\n",
       "      <td>Consumo não Cíclico</td>\n",
       "      <td>Bebidas</td>\n",
       "      <td>Cervejas e Refrigerantes</td>\n",
       "      <td>0.0053</td>\n",
       "      <td>0.0112</td>\n",
       "      <td>5.0987</td>\n",
       "      <td>...</td>\n",
       "      <td>-0.019766</td>\n",
       "      <td>-0.27</td>\n",
       "      <td>0.043101</td>\n",
       "      <td>0.128111</td>\n",
       "      <td>1.75</td>\n",
       "      <td>0.00</td>\n",
       "      <td>NaN</td>\n",
       "      <td>13.660000</td>\n",
       "      <td>NaN</td>\n",
       "      <td>0.000000</td>\n",
       "    </tr>\n",
       "    <tr>\n",
       "      <th>1</th>\n",
       "      <td>ABEV3</td>\n",
       "      <td>Feb-2023</td>\n",
       "      <td>AMBEV S/A</td>\n",
       "      <td>13.39</td>\n",
       "      <td>Consumo não Cíclico</td>\n",
       "      <td>Bebidas</td>\n",
       "      <td>Cervejas e Refrigerantes</td>\n",
       "      <td>0.0084</td>\n",
       "      <td>0.0092</td>\n",
       "      <td>5.2072</td>\n",
       "      <td>...</td>\n",
       "      <td>-0.019766</td>\n",
       "      <td>-0.27</td>\n",
       "      <td>0.043101</td>\n",
       "      <td>0.128111</td>\n",
       "      <td>1.75</td>\n",
       "      <td>-0.27</td>\n",
       "      <td>NaN</td>\n",
       "      <td>13.525000</td>\n",
       "      <td>-0.019766</td>\n",
       "      <td>-0.019766</td>\n",
       "    </tr>\n",
       "    <tr>\n",
       "      <th>2</th>\n",
       "      <td>ABEV3</td>\n",
       "      <td>Mar-2023</td>\n",
       "      <td>AMBEV S/A</td>\n",
       "      <td>14.33</td>\n",
       "      <td>Consumo não Cíclico</td>\n",
       "      <td>Bebidas</td>\n",
       "      <td>Cervejas e Refrigerantes</td>\n",
       "      <td>0.0071</td>\n",
       "      <td>0.0117</td>\n",
       "      <td>5.0798</td>\n",
       "      <td>...</td>\n",
       "      <td>-0.019766</td>\n",
       "      <td>-0.27</td>\n",
       "      <td>0.043101</td>\n",
       "      <td>0.128111</td>\n",
       "      <td>1.75</td>\n",
       "      <td>0.67</td>\n",
       "      <td>0.063617</td>\n",
       "      <td>13.793333</td>\n",
       "      <td>0.049048</td>\n",
       "      <td>0.000000</td>\n",
       "    </tr>\n",
       "    <tr>\n",
       "      <th>3</th>\n",
       "      <td>ABEV3</td>\n",
       "      <td>Apr-2023</td>\n",
       "      <td>AMBEV S/A</td>\n",
       "      <td>14.16</td>\n",
       "      <td>Consumo não Cíclico</td>\n",
       "      <td>Bebidas</td>\n",
       "      <td>Cervejas e Refrigerantes</td>\n",
       "      <td>0.0061</td>\n",
       "      <td>0.0092</td>\n",
       "      <td>5.0001</td>\n",
       "      <td>...</td>\n",
       "      <td>-0.019766</td>\n",
       "      <td>-0.27</td>\n",
       "      <td>0.043101</td>\n",
       "      <td>0.128111</td>\n",
       "      <td>1.75</td>\n",
       "      <td>0.50</td>\n",
       "      <td>0.049818</td>\n",
       "      <td>13.885000</td>\n",
       "      <td>0.036603</td>\n",
       "      <td>-0.011863</td>\n",
       "    </tr>\n",
       "    <tr>\n",
       "      <th>4</th>\n",
       "      <td>ABEV3</td>\n",
       "      <td>May-2023</td>\n",
       "      <td>AMBEV S/A</td>\n",
       "      <td>14.41</td>\n",
       "      <td>Consumo não Cíclico</td>\n",
       "      <td>Bebidas</td>\n",
       "      <td>Cervejas e Refrigerantes</td>\n",
       "      <td>0.0023</td>\n",
       "      <td>0.0112</td>\n",
       "      <td>5.0953</td>\n",
       "      <td>...</td>\n",
       "      <td>-0.019766</td>\n",
       "      <td>-0.27</td>\n",
       "      <td>0.043101</td>\n",
       "      <td>0.128111</td>\n",
       "      <td>1.75</td>\n",
       "      <td>0.75</td>\n",
       "      <td>0.040747</td>\n",
       "      <td>13.990000</td>\n",
       "      <td>0.054905</td>\n",
       "      <td>0.000000</td>\n",
       "    </tr>\n",
       "    <tr>\n",
       "      <th>...</th>\n",
       "      <td>...</td>\n",
       "      <td>...</td>\n",
       "      <td>...</td>\n",
       "      <td>...</td>\n",
       "      <td>...</td>\n",
       "      <td>...</td>\n",
       "      <td>...</td>\n",
       "      <td>...</td>\n",
       "      <td>...</td>\n",
       "      <td>...</td>\n",
       "      <td>...</td>\n",
       "      <td>...</td>\n",
       "      <td>...</td>\n",
       "      <td>...</td>\n",
       "      <td>...</td>\n",
       "      <td>...</td>\n",
       "      <td>...</td>\n",
       "      <td>...</td>\n",
       "      <td>...</td>\n",
       "      <td>...</td>\n",
       "      <td>...</td>\n",
       "    </tr>\n",
       "    <tr>\n",
       "      <th>523</th>\n",
       "      <td>YDUQ3</td>\n",
       "      <td>Feb-2023</td>\n",
       "      <td>YDUQS PART</td>\n",
       "      <td>7.05</td>\n",
       "      <td>Consumo Cíclico</td>\n",
       "      <td>Diversos</td>\n",
       "      <td>Serviços Educacionais</td>\n",
       "      <td>0.0084</td>\n",
       "      <td>0.0092</td>\n",
       "      <td>5.2072</td>\n",
       "      <td>...</td>\n",
       "      <td>-0.317522</td>\n",
       "      <td>-3.28</td>\n",
       "      <td>0.399190</td>\n",
       "      <td>0.918683</td>\n",
       "      <td>9.49</td>\n",
       "      <td>-3.28</td>\n",
       "      <td>NaN</td>\n",
       "      <td>8.690000</td>\n",
       "      <td>-0.317522</td>\n",
       "      <td>-0.317522</td>\n",
       "    </tr>\n",
       "    <tr>\n",
       "      <th>524</th>\n",
       "      <td>YDUQ3</td>\n",
       "      <td>Mar-2023</td>\n",
       "      <td>YDUQS PART</td>\n",
       "      <td>7.05</td>\n",
       "      <td>Consumo Cíclico</td>\n",
       "      <td>Diversos</td>\n",
       "      <td>Serviços Educacionais</td>\n",
       "      <td>0.0071</td>\n",
       "      <td>0.0117</td>\n",
       "      <td>5.0798</td>\n",
       "      <td>...</td>\n",
       "      <td>-0.317522</td>\n",
       "      <td>-3.28</td>\n",
       "      <td>0.399190</td>\n",
       "      <td>0.918683</td>\n",
       "      <td>9.49</td>\n",
       "      <td>-3.28</td>\n",
       "      <td>0.224522</td>\n",
       "      <td>8.143333</td>\n",
       "      <td>-0.317522</td>\n",
       "      <td>-0.317522</td>\n",
       "    </tr>\n",
       "    <tr>\n",
       "      <th>525</th>\n",
       "      <td>YDUQ3</td>\n",
       "      <td>Apr-2023</td>\n",
       "      <td>YDUQS PART</td>\n",
       "      <td>8.12</td>\n",
       "      <td>Consumo Cíclico</td>\n",
       "      <td>Diversos</td>\n",
       "      <td>Serviços Educacionais</td>\n",
       "      <td>0.0061</td>\n",
       "      <td>0.0092</td>\n",
       "      <td>5.0001</td>\n",
       "      <td>...</td>\n",
       "      <td>-0.317522</td>\n",
       "      <td>-3.28</td>\n",
       "      <td>0.399190</td>\n",
       "      <td>0.918683</td>\n",
       "      <td>9.49</td>\n",
       "      <td>-2.21</td>\n",
       "      <td>0.239476</td>\n",
       "      <td>8.137500</td>\n",
       "      <td>-0.213940</td>\n",
       "      <td>-0.213940</td>\n",
       "    </tr>\n",
       "    <tr>\n",
       "      <th>526</th>\n",
       "      <td>YDUQ3</td>\n",
       "      <td>May-2023</td>\n",
       "      <td>YDUQS PART</td>\n",
       "      <td>14.07</td>\n",
       "      <td>Consumo Cíclico</td>\n",
       "      <td>Diversos</td>\n",
       "      <td>Serviços Educacionais</td>\n",
       "      <td>0.0023</td>\n",
       "      <td>0.0112</td>\n",
       "      <td>5.0953</td>\n",
       "      <td>...</td>\n",
       "      <td>-0.317522</td>\n",
       "      <td>-3.28</td>\n",
       "      <td>0.399190</td>\n",
       "      <td>0.918683</td>\n",
       "      <td>9.49</td>\n",
       "      <td>3.74</td>\n",
       "      <td>0.439854</td>\n",
       "      <td>9.324000</td>\n",
       "      <td>0.362052</td>\n",
       "      <td>0.000000</td>\n",
       "    </tr>\n",
       "    <tr>\n",
       "      <th>527</th>\n",
       "      <td>YDUQ3</td>\n",
       "      <td>Jun-2023</td>\n",
       "      <td>YDUQS PART</td>\n",
       "      <td>19.82</td>\n",
       "      <td>Consumo Cíclico</td>\n",
       "      <td>Diversos</td>\n",
       "      <td>Serviços Educacionais</td>\n",
       "      <td>-0.0008</td>\n",
       "      <td>0.0107</td>\n",
       "      <td>4.8186</td>\n",
       "      <td>...</td>\n",
       "      <td>-0.317522</td>\n",
       "      <td>-3.28</td>\n",
       "      <td>0.399190</td>\n",
       "      <td>0.918683</td>\n",
       "      <td>9.49</td>\n",
       "      <td>9.49</td>\n",
       "      <td>0.399190</td>\n",
       "      <td>11.073333</td>\n",
       "      <td>0.918683</td>\n",
       "      <td>0.000000</td>\n",
       "    </tr>\n",
       "  </tbody>\n",
       "</table>\n",
       "<p>528 rows × 25 columns</p>\n",
       "</div>"
      ],
      "text/plain": [
       "     PAPEL      DATA        NOME  PREÇO (R$)      SETOR ECONÔMICO  SUBSETOR  \\\n",
       "0    ABEV3  Jan-2023   AMBEV S/A       13.66  Consumo não Cíclico   Bebidas   \n",
       "1    ABEV3  Feb-2023   AMBEV S/A       13.39  Consumo não Cíclico   Bebidas   \n",
       "2    ABEV3  Mar-2023   AMBEV S/A       14.33  Consumo não Cíclico   Bebidas   \n",
       "3    ABEV3  Apr-2023   AMBEV S/A       14.16  Consumo não Cíclico   Bebidas   \n",
       "4    ABEV3  May-2023   AMBEV S/A       14.41  Consumo não Cíclico   Bebidas   \n",
       "..     ...       ...         ...         ...                  ...       ...   \n",
       "523  YDUQ3  Feb-2023  YDUQS PART        7.05      Consumo Cíclico  Diversos   \n",
       "524  YDUQ3  Mar-2023  YDUQS PART        7.05      Consumo Cíclico  Diversos   \n",
       "525  YDUQ3  Apr-2023  YDUQS PART        8.12      Consumo Cíclico  Diversos   \n",
       "526  YDUQ3  May-2023  YDUQS PART       14.07      Consumo Cíclico  Diversos   \n",
       "527  YDUQ3  Jun-2023  YDUQS PART       19.82      Consumo Cíclico  Diversos   \n",
       "\n",
       "                     SEGMENTO    IPCA   SELIC     USD  ...  MÁXIMO DROW DOWN  \\\n",
       "0    Cervejas e Refrigerantes  0.0053  0.0112  5.0987  ...         -0.019766   \n",
       "1    Cervejas e Refrigerantes  0.0084  0.0092  5.2072  ...         -0.019766   \n",
       "2    Cervejas e Refrigerantes  0.0071  0.0117  5.0798  ...         -0.019766   \n",
       "3    Cervejas e Refrigerantes  0.0061  0.0092  5.0001  ...         -0.019766   \n",
       "4    Cervejas e Refrigerantes  0.0023  0.0112  5.0953  ...         -0.019766   \n",
       "..                        ...     ...     ...     ...  ...               ...   \n",
       "523     Serviços Educacionais  0.0084  0.0092  5.2072  ...         -0.317522   \n",
       "524     Serviços Educacionais  0.0071  0.0117  5.0798  ...         -0.317522   \n",
       "525     Serviços Educacionais  0.0061  0.0092  5.0001  ...         -0.317522   \n",
       "526     Serviços Educacionais  0.0023  0.0112  5.0953  ...         -0.317522   \n",
       "527     Serviços Educacionais -0.0008  0.0107  4.8186  ...         -0.317522   \n",
       "\n",
       "     MÁXIMO DROW DOWN bruto  VOLATILIDADE  RENTABILIDADE  GANHO BRUTO R$  \\\n",
       "0                     -0.27      0.043101       0.128111            1.75   \n",
       "1                     -0.27      0.043101       0.128111            1.75   \n",
       "2                     -0.27      0.043101       0.128111            1.75   \n",
       "3                     -0.27      0.043101       0.128111            1.75   \n",
       "4                     -0.27      0.043101       0.128111            1.75   \n",
       "..                      ...           ...            ...             ...   \n",
       "523                   -3.28      0.399190       0.918683            9.49   \n",
       "524                   -3.28      0.399190       0.918683            9.49   \n",
       "525                   -3.28      0.399190       0.918683            9.49   \n",
       "526                   -3.28      0.399190       0.918683            9.49   \n",
       "527                   -3.28      0.399190       0.918683            9.49   \n",
       "\n",
       "     ACUM_GANHO BRUTO R$  ACUM_VOLATILIDADE  ACUM_MÉDIA  ACUM_RENTABILIDADE  \\\n",
       "0                   0.00                NaN   13.660000                 NaN   \n",
       "1                  -0.27                NaN   13.525000           -0.019766   \n",
       "2                   0.67           0.063617   13.793333            0.049048   \n",
       "3                   0.50           0.049818   13.885000            0.036603   \n",
       "4                   0.75           0.040747   13.990000            0.054905   \n",
       "..                   ...                ...         ...                 ...   \n",
       "523                -3.28                NaN    8.690000           -0.317522   \n",
       "524                -3.28           0.224522    8.143333           -0.317522   \n",
       "525                -2.21           0.239476    8.137500           -0.213940   \n",
       "526                 3.74           0.439854    9.324000            0.362052   \n",
       "527                 9.49           0.399190   11.073333            0.918683   \n",
       "\n",
       "     DROW_DOWN  \n",
       "0     0.000000  \n",
       "1    -0.019766  \n",
       "2     0.000000  \n",
       "3    -0.011863  \n",
       "4     0.000000  \n",
       "..         ...  \n",
       "523  -0.317522  \n",
       "524  -0.317522  \n",
       "525  -0.213940  \n",
       "526   0.000000  \n",
       "527   0.000000  \n",
       "\n",
       "[528 rows x 25 columns]"
      ]
     },
     "execution_count": 257,
     "metadata": {},
     "output_type": "execute_result"
    }
   ],
   "source": [
    "df.reset_index(inplace=True)"
   ]
  },
  {
   "cell_type": "code",
   "execution_count": 294,
   "metadata": {},
   "outputs": [
    {
     "data": {
      "text/plain": [
       "PAPEL\n",
       "ABEV3   2023-01-31\n",
       "ABEV3   2023-02-28\n",
       "ABEV3   2023-03-31\n",
       "ABEV3   2023-04-30\n",
       "ABEV3   2023-05-31\n",
       "           ...    \n",
       "YDUQ3   2023-02-28\n",
       "YDUQ3   2023-03-31\n",
       "YDUQ3   2023-04-30\n",
       "YDUQ3   2023-05-31\n",
       "YDUQ3   2023-06-30\n",
       "Name: DATA, Length: 528, dtype: datetime64[ns]"
      ]
     },
     "execution_count": 294,
     "metadata": {},
     "output_type": "execute_result"
    }
   ],
   "source": [
    "df['DATA']"
   ]
  },
  {
   "cell_type": "code",
   "execution_count": 298,
   "metadata": {},
   "outputs": [
    {
     "data": {
      "text/html": [
       "<div>\n",
       "<style scoped>\n",
       "    .dataframe tbody tr th:only-of-type {\n",
       "        vertical-align: middle;\n",
       "    }\n",
       "\n",
       "    .dataframe tbody tr th {\n",
       "        vertical-align: top;\n",
       "    }\n",
       "\n",
       "    .dataframe thead th {\n",
       "        text-align: right;\n",
       "    }\n",
       "</style>\n",
       "<table border=\"1\" class=\"dataframe\">\n",
       "  <thead>\n",
       "    <tr style=\"text-align: right;\">\n",
       "      <th></th>\n",
       "      <th>DATA</th>\n",
       "      <th>NOME</th>\n",
       "      <th>PREÇO (R$)</th>\n",
       "      <th>SETOR ECONÔMICO</th>\n",
       "      <th>SUBSETOR</th>\n",
       "      <th>SEGMENTO</th>\n",
       "      <th>IPCA</th>\n",
       "      <th>SELIC</th>\n",
       "      <th>USD</th>\n",
       "      <th>RETORNOS_SIMPLES</th>\n",
       "      <th>...</th>\n",
       "      <th>MÁXIMO DROW DOWN</th>\n",
       "      <th>MÁXIMO DROW DOWN bruto</th>\n",
       "      <th>VOLATILIDADE</th>\n",
       "      <th>RENTABILIDADE</th>\n",
       "      <th>GANHO BRUTO R$</th>\n",
       "      <th>ACUM_GANHO BRUTO R$</th>\n",
       "      <th>ACUM_VOLATILIDADE</th>\n",
       "      <th>ACUM_MÉDIA</th>\n",
       "      <th>ACUM_RENTABILIDADE</th>\n",
       "      <th>DROW_DOWN</th>\n",
       "    </tr>\n",
       "    <tr>\n",
       "      <th>PAPEL</th>\n",
       "      <th></th>\n",
       "      <th></th>\n",
       "      <th></th>\n",
       "      <th></th>\n",
       "      <th></th>\n",
       "      <th></th>\n",
       "      <th></th>\n",
       "      <th></th>\n",
       "      <th></th>\n",
       "      <th></th>\n",
       "      <th></th>\n",
       "      <th></th>\n",
       "      <th></th>\n",
       "      <th></th>\n",
       "      <th></th>\n",
       "      <th></th>\n",
       "      <th></th>\n",
       "      <th></th>\n",
       "      <th></th>\n",
       "      <th></th>\n",
       "      <th></th>\n",
       "    </tr>\n",
       "  </thead>\n",
       "  <tbody>\n",
       "    <tr>\n",
       "      <th>ABEV3</th>\n",
       "      <td>2023-01-31</td>\n",
       "      <td>AMBEV S/A</td>\n",
       "      <td>13.66</td>\n",
       "      <td>Consumo não Cíclico</td>\n",
       "      <td>Bebidas</td>\n",
       "      <td>Cervejas e Refrigerantes</td>\n",
       "      <td>0.0053</td>\n",
       "      <td>0.0112</td>\n",
       "      <td>5.0987</td>\n",
       "      <td>0.000000</td>\n",
       "      <td>...</td>\n",
       "      <td>-0.019766</td>\n",
       "      <td>-0.27</td>\n",
       "      <td>0.043101</td>\n",
       "      <td>0.128111</td>\n",
       "      <td>1.75</td>\n",
       "      <td>0.00</td>\n",
       "      <td>0.000000</td>\n",
       "      <td>13.660000</td>\n",
       "      <td>0.000000</td>\n",
       "      <td>0.000000</td>\n",
       "    </tr>\n",
       "    <tr>\n",
       "      <th>ABEV3</th>\n",
       "      <td>2023-02-28</td>\n",
       "      <td>AMBEV S/A</td>\n",
       "      <td>13.39</td>\n",
       "      <td>Consumo não Cíclico</td>\n",
       "      <td>Bebidas</td>\n",
       "      <td>Cervejas e Refrigerantes</td>\n",
       "      <td>0.0084</td>\n",
       "      <td>0.0092</td>\n",
       "      <td>5.2072</td>\n",
       "      <td>-0.019766</td>\n",
       "      <td>...</td>\n",
       "      <td>-0.019766</td>\n",
       "      <td>-0.27</td>\n",
       "      <td>0.043101</td>\n",
       "      <td>0.128111</td>\n",
       "      <td>1.75</td>\n",
       "      <td>-0.27</td>\n",
       "      <td>0.000000</td>\n",
       "      <td>13.525000</td>\n",
       "      <td>-0.019766</td>\n",
       "      <td>-0.019766</td>\n",
       "    </tr>\n",
       "    <tr>\n",
       "      <th>ABEV3</th>\n",
       "      <td>2023-03-31</td>\n",
       "      <td>AMBEV S/A</td>\n",
       "      <td>14.33</td>\n",
       "      <td>Consumo não Cíclico</td>\n",
       "      <td>Bebidas</td>\n",
       "      <td>Cervejas e Refrigerantes</td>\n",
       "      <td>0.0071</td>\n",
       "      <td>0.0117</td>\n",
       "      <td>5.0798</td>\n",
       "      <td>0.070202</td>\n",
       "      <td>...</td>\n",
       "      <td>-0.019766</td>\n",
       "      <td>-0.27</td>\n",
       "      <td>0.043101</td>\n",
       "      <td>0.128111</td>\n",
       "      <td>1.75</td>\n",
       "      <td>0.67</td>\n",
       "      <td>0.063617</td>\n",
       "      <td>13.793333</td>\n",
       "      <td>0.049048</td>\n",
       "      <td>0.000000</td>\n",
       "    </tr>\n",
       "    <tr>\n",
       "      <th>ABEV3</th>\n",
       "      <td>2023-04-30</td>\n",
       "      <td>AMBEV S/A</td>\n",
       "      <td>14.16</td>\n",
       "      <td>Consumo não Cíclico</td>\n",
       "      <td>Bebidas</td>\n",
       "      <td>Cervejas e Refrigerantes</td>\n",
       "      <td>0.0061</td>\n",
       "      <td>0.0092</td>\n",
       "      <td>5.0001</td>\n",
       "      <td>-0.011863</td>\n",
       "      <td>...</td>\n",
       "      <td>-0.019766</td>\n",
       "      <td>-0.27</td>\n",
       "      <td>0.043101</td>\n",
       "      <td>0.128111</td>\n",
       "      <td>1.75</td>\n",
       "      <td>0.50</td>\n",
       "      <td>0.049818</td>\n",
       "      <td>13.885000</td>\n",
       "      <td>0.036603</td>\n",
       "      <td>-0.011863</td>\n",
       "    </tr>\n",
       "    <tr>\n",
       "      <th>ABEV3</th>\n",
       "      <td>2023-05-31</td>\n",
       "      <td>AMBEV S/A</td>\n",
       "      <td>14.41</td>\n",
       "      <td>Consumo não Cíclico</td>\n",
       "      <td>Bebidas</td>\n",
       "      <td>Cervejas e Refrigerantes</td>\n",
       "      <td>0.0023</td>\n",
       "      <td>0.0112</td>\n",
       "      <td>5.0953</td>\n",
       "      <td>0.017655</td>\n",
       "      <td>...</td>\n",
       "      <td>-0.019766</td>\n",
       "      <td>-0.27</td>\n",
       "      <td>0.043101</td>\n",
       "      <td>0.128111</td>\n",
       "      <td>1.75</td>\n",
       "      <td>0.75</td>\n",
       "      <td>0.040747</td>\n",
       "      <td>13.990000</td>\n",
       "      <td>0.054905</td>\n",
       "      <td>0.000000</td>\n",
       "    </tr>\n",
       "    <tr>\n",
       "      <th>...</th>\n",
       "      <td>...</td>\n",
       "      <td>...</td>\n",
       "      <td>...</td>\n",
       "      <td>...</td>\n",
       "      <td>...</td>\n",
       "      <td>...</td>\n",
       "      <td>...</td>\n",
       "      <td>...</td>\n",
       "      <td>...</td>\n",
       "      <td>...</td>\n",
       "      <td>...</td>\n",
       "      <td>...</td>\n",
       "      <td>...</td>\n",
       "      <td>...</td>\n",
       "      <td>...</td>\n",
       "      <td>...</td>\n",
       "      <td>...</td>\n",
       "      <td>...</td>\n",
       "      <td>...</td>\n",
       "      <td>...</td>\n",
       "      <td>...</td>\n",
       "    </tr>\n",
       "    <tr>\n",
       "      <th>YDUQ3</th>\n",
       "      <td>2023-02-28</td>\n",
       "      <td>YDUQS PART</td>\n",
       "      <td>7.05</td>\n",
       "      <td>Consumo Cíclico</td>\n",
       "      <td>Diversos</td>\n",
       "      <td>Serviços Educacionais</td>\n",
       "      <td>0.0084</td>\n",
       "      <td>0.0092</td>\n",
       "      <td>5.2072</td>\n",
       "      <td>-0.317522</td>\n",
       "      <td>...</td>\n",
       "      <td>-0.317522</td>\n",
       "      <td>-3.28</td>\n",
       "      <td>0.399190</td>\n",
       "      <td>0.918683</td>\n",
       "      <td>9.49</td>\n",
       "      <td>-3.28</td>\n",
       "      <td>0.000000</td>\n",
       "      <td>8.690000</td>\n",
       "      <td>-0.317522</td>\n",
       "      <td>-0.317522</td>\n",
       "    </tr>\n",
       "    <tr>\n",
       "      <th>YDUQ3</th>\n",
       "      <td>2023-03-31</td>\n",
       "      <td>YDUQS PART</td>\n",
       "      <td>7.05</td>\n",
       "      <td>Consumo Cíclico</td>\n",
       "      <td>Diversos</td>\n",
       "      <td>Serviços Educacionais</td>\n",
       "      <td>0.0071</td>\n",
       "      <td>0.0117</td>\n",
       "      <td>5.0798</td>\n",
       "      <td>0.000000</td>\n",
       "      <td>...</td>\n",
       "      <td>-0.317522</td>\n",
       "      <td>-3.28</td>\n",
       "      <td>0.399190</td>\n",
       "      <td>0.918683</td>\n",
       "      <td>9.49</td>\n",
       "      <td>-3.28</td>\n",
       "      <td>0.224522</td>\n",
       "      <td>8.143333</td>\n",
       "      <td>-0.317522</td>\n",
       "      <td>-0.317522</td>\n",
       "    </tr>\n",
       "    <tr>\n",
       "      <th>YDUQ3</th>\n",
       "      <td>2023-04-30</td>\n",
       "      <td>YDUQS PART</td>\n",
       "      <td>8.12</td>\n",
       "      <td>Consumo Cíclico</td>\n",
       "      <td>Diversos</td>\n",
       "      <td>Serviços Educacionais</td>\n",
       "      <td>0.0061</td>\n",
       "      <td>0.0092</td>\n",
       "      <td>5.0001</td>\n",
       "      <td>0.151773</td>\n",
       "      <td>...</td>\n",
       "      <td>-0.317522</td>\n",
       "      <td>-3.28</td>\n",
       "      <td>0.399190</td>\n",
       "      <td>0.918683</td>\n",
       "      <td>9.49</td>\n",
       "      <td>-2.21</td>\n",
       "      <td>0.239476</td>\n",
       "      <td>8.137500</td>\n",
       "      <td>-0.213940</td>\n",
       "      <td>-0.213940</td>\n",
       "    </tr>\n",
       "    <tr>\n",
       "      <th>YDUQ3</th>\n",
       "      <td>2023-05-31</td>\n",
       "      <td>YDUQS PART</td>\n",
       "      <td>14.07</td>\n",
       "      <td>Consumo Cíclico</td>\n",
       "      <td>Diversos</td>\n",
       "      <td>Serviços Educacionais</td>\n",
       "      <td>0.0023</td>\n",
       "      <td>0.0112</td>\n",
       "      <td>5.0953</td>\n",
       "      <td>0.732759</td>\n",
       "      <td>...</td>\n",
       "      <td>-0.317522</td>\n",
       "      <td>-3.28</td>\n",
       "      <td>0.399190</td>\n",
       "      <td>0.918683</td>\n",
       "      <td>9.49</td>\n",
       "      <td>3.74</td>\n",
       "      <td>0.439854</td>\n",
       "      <td>9.324000</td>\n",
       "      <td>0.362052</td>\n",
       "      <td>0.000000</td>\n",
       "    </tr>\n",
       "    <tr>\n",
       "      <th>YDUQ3</th>\n",
       "      <td>2023-06-30</td>\n",
       "      <td>YDUQS PART</td>\n",
       "      <td>19.82</td>\n",
       "      <td>Consumo Cíclico</td>\n",
       "      <td>Diversos</td>\n",
       "      <td>Serviços Educacionais</td>\n",
       "      <td>-0.0008</td>\n",
       "      <td>0.0107</td>\n",
       "      <td>4.8186</td>\n",
       "      <td>0.408671</td>\n",
       "      <td>...</td>\n",
       "      <td>-0.317522</td>\n",
       "      <td>-3.28</td>\n",
       "      <td>0.399190</td>\n",
       "      <td>0.918683</td>\n",
       "      <td>9.49</td>\n",
       "      <td>9.49</td>\n",
       "      <td>0.399190</td>\n",
       "      <td>11.073333</td>\n",
       "      <td>0.918683</td>\n",
       "      <td>0.000000</td>\n",
       "    </tr>\n",
       "  </tbody>\n",
       "</table>\n",
       "<p>528 rows × 24 columns</p>\n",
       "</div>"
      ],
      "text/plain": [
       "             DATA        NOME  PREÇO (R$)      SETOR ECONÔMICO  SUBSETOR  \\\n",
       "PAPEL                                                                      \n",
       "ABEV3  2023-01-31   AMBEV S/A       13.66  Consumo não Cíclico   Bebidas   \n",
       "ABEV3  2023-02-28   AMBEV S/A       13.39  Consumo não Cíclico   Bebidas   \n",
       "ABEV3  2023-03-31   AMBEV S/A       14.33  Consumo não Cíclico   Bebidas   \n",
       "ABEV3  2023-04-30   AMBEV S/A       14.16  Consumo não Cíclico   Bebidas   \n",
       "ABEV3  2023-05-31   AMBEV S/A       14.41  Consumo não Cíclico   Bebidas   \n",
       "...           ...         ...         ...                  ...       ...   \n",
       "YDUQ3  2023-02-28  YDUQS PART        7.05      Consumo Cíclico  Diversos   \n",
       "YDUQ3  2023-03-31  YDUQS PART        7.05      Consumo Cíclico  Diversos   \n",
       "YDUQ3  2023-04-30  YDUQS PART        8.12      Consumo Cíclico  Diversos   \n",
       "YDUQ3  2023-05-31  YDUQS PART       14.07      Consumo Cíclico  Diversos   \n",
       "YDUQ3  2023-06-30  YDUQS PART       19.82      Consumo Cíclico  Diversos   \n",
       "\n",
       "                       SEGMENTO    IPCA   SELIC     USD  RETORNOS_SIMPLES  \\\n",
       "PAPEL                                                                       \n",
       "ABEV3  Cervejas e Refrigerantes  0.0053  0.0112  5.0987          0.000000   \n",
       "ABEV3  Cervejas e Refrigerantes  0.0084  0.0092  5.2072         -0.019766   \n",
       "ABEV3  Cervejas e Refrigerantes  0.0071  0.0117  5.0798          0.070202   \n",
       "ABEV3  Cervejas e Refrigerantes  0.0061  0.0092  5.0001         -0.011863   \n",
       "ABEV3  Cervejas e Refrigerantes  0.0023  0.0112  5.0953          0.017655   \n",
       "...                         ...     ...     ...     ...               ...   \n",
       "YDUQ3     Serviços Educacionais  0.0084  0.0092  5.2072         -0.317522   \n",
       "YDUQ3     Serviços Educacionais  0.0071  0.0117  5.0798          0.000000   \n",
       "YDUQ3     Serviços Educacionais  0.0061  0.0092  5.0001          0.151773   \n",
       "YDUQ3     Serviços Educacionais  0.0023  0.0112  5.0953          0.732759   \n",
       "YDUQ3     Serviços Educacionais -0.0008  0.0107  4.8186          0.408671   \n",
       "\n",
       "       ...  MÁXIMO DROW DOWN  MÁXIMO DROW DOWN bruto  VOLATILIDADE  \\\n",
       "PAPEL  ...                                                           \n",
       "ABEV3  ...         -0.019766                   -0.27      0.043101   \n",
       "ABEV3  ...         -0.019766                   -0.27      0.043101   \n",
       "ABEV3  ...         -0.019766                   -0.27      0.043101   \n",
       "ABEV3  ...         -0.019766                   -0.27      0.043101   \n",
       "ABEV3  ...         -0.019766                   -0.27      0.043101   \n",
       "...    ...               ...                     ...           ...   \n",
       "YDUQ3  ...         -0.317522                   -3.28      0.399190   \n",
       "YDUQ3  ...         -0.317522                   -3.28      0.399190   \n",
       "YDUQ3  ...         -0.317522                   -3.28      0.399190   \n",
       "YDUQ3  ...         -0.317522                   -3.28      0.399190   \n",
       "YDUQ3  ...         -0.317522                   -3.28      0.399190   \n",
       "\n",
       "       RENTABILIDADE  GANHO BRUTO R$  ACUM_GANHO BRUTO R$  ACUM_VOLATILIDADE  \\\n",
       "PAPEL                                                                          \n",
       "ABEV3       0.128111            1.75                 0.00           0.000000   \n",
       "ABEV3       0.128111            1.75                -0.27           0.000000   \n",
       "ABEV3       0.128111            1.75                 0.67           0.063617   \n",
       "ABEV3       0.128111            1.75                 0.50           0.049818   \n",
       "ABEV3       0.128111            1.75                 0.75           0.040747   \n",
       "...              ...             ...                  ...                ...   \n",
       "YDUQ3       0.918683            9.49                -3.28           0.000000   \n",
       "YDUQ3       0.918683            9.49                -3.28           0.224522   \n",
       "YDUQ3       0.918683            9.49                -2.21           0.239476   \n",
       "YDUQ3       0.918683            9.49                 3.74           0.439854   \n",
       "YDUQ3       0.918683            9.49                 9.49           0.399190   \n",
       "\n",
       "       ACUM_MÉDIA  ACUM_RENTABILIDADE  DROW_DOWN  \n",
       "PAPEL                                             \n",
       "ABEV3   13.660000            0.000000   0.000000  \n",
       "ABEV3   13.525000           -0.019766  -0.019766  \n",
       "ABEV3   13.793333            0.049048   0.000000  \n",
       "ABEV3   13.885000            0.036603  -0.011863  \n",
       "ABEV3   13.990000            0.054905   0.000000  \n",
       "...           ...                 ...        ...  \n",
       "YDUQ3    8.690000           -0.317522  -0.317522  \n",
       "YDUQ3    8.143333           -0.317522  -0.317522  \n",
       "YDUQ3    8.137500           -0.213940  -0.213940  \n",
       "YDUQ3    9.324000            0.362052   0.000000  \n",
       "YDUQ3   11.073333            0.918683   0.000000  \n",
       "\n",
       "[528 rows x 24 columns]"
      ]
     },
     "execution_count": 298,
     "metadata": {},
     "output_type": "execute_result"
    }
   ],
   "source": [
    "df['ACUM_GANHO BRUTO R$'] = df['PREÇO (R$)'].groupby(df.index).transform(lambda x : x - x.iloc[0])\n",
    "df['ACUM_VOLATILIDADE'] = df[['RETORNOS_SIMPLES']].groupby(df.index).expanding(min_periods=0).std().values# * 100\n",
    "df['ACUM_MÉDIA'] = df[['PREÇO (R$)']].groupby(df.index).expanding(min_periods=1).mean().values\n",
    "df['ACUM_RENTABILIDADE'] = df[['RETORNOS_SIMPLES']].groupby(df.index).transform(lambda x : ((x + 1).cumprod() - 1))# * 100 \n",
    "df['DROW_DOWN'] = drowdowns_neg.values# * 100\n",
    "# df['DATA'] = df['DATA'].dt.strftime('%b-%Y')\n",
    "df['DATA'] = pd.to_datetime(df['DATA']).dt.date\n",
    "df.fillna(0)\n"
   ]
  },
  {
   "cell_type": "code",
   "execution_count": 227,
   "metadata": {},
   "outputs": [
    {
     "data": {
      "text/html": [
       "<div>\n",
       "<style scoped>\n",
       "    .dataframe tbody tr th:only-of-type {\n",
       "        vertical-align: middle;\n",
       "    }\n",
       "\n",
       "    .dataframe tbody tr th {\n",
       "        vertical-align: top;\n",
       "    }\n",
       "\n",
       "    .dataframe thead th {\n",
       "        text-align: right;\n",
       "    }\n",
       "</style>\n",
       "<table border=\"1\" class=\"dataframe\">\n",
       "  <thead>\n",
       "    <tr style=\"text-align: right;\">\n",
       "      <th></th>\n",
       "      <th>DATA</th>\n",
       "      <th>NOME</th>\n",
       "      <th>PREÇO (R$)</th>\n",
       "      <th>SETOR ECONÔMICO</th>\n",
       "      <th>SUBSETOR</th>\n",
       "      <th>SEGMENTO</th>\n",
       "      <th>IPCA</th>\n",
       "      <th>SELIC</th>\n",
       "      <th>USD</th>\n",
       "      <th>RETORNOS_SIMPLES</th>\n",
       "      <th>...</th>\n",
       "      <th>MÁXIMO DROW DOWN</th>\n",
       "      <th>MÁXIMO DROW DOWN bruto</th>\n",
       "      <th>VOLATILIDADE</th>\n",
       "      <th>RENTABILIDADE</th>\n",
       "      <th>GANHO BRUTO R$</th>\n",
       "      <th>ACUM_GANHO BRUTO R$</th>\n",
       "      <th>ACUM_VOLATILIDADE</th>\n",
       "      <th>ACUM_MÉDIA</th>\n",
       "      <th>ACUM_RENTABILIDADE</th>\n",
       "      <th>ACUM_DROW_DOWN</th>\n",
       "    </tr>\n",
       "    <tr>\n",
       "      <th>PAPEL</th>\n",
       "      <th></th>\n",
       "      <th></th>\n",
       "      <th></th>\n",
       "      <th></th>\n",
       "      <th></th>\n",
       "      <th></th>\n",
       "      <th></th>\n",
       "      <th></th>\n",
       "      <th></th>\n",
       "      <th></th>\n",
       "      <th></th>\n",
       "      <th></th>\n",
       "      <th></th>\n",
       "      <th></th>\n",
       "      <th></th>\n",
       "      <th></th>\n",
       "      <th></th>\n",
       "      <th></th>\n",
       "      <th></th>\n",
       "      <th></th>\n",
       "      <th></th>\n",
       "    </tr>\n",
       "  </thead>\n",
       "  <tbody>\n",
       "    <tr>\n",
       "      <th>ABEV3</th>\n",
       "      <td>2023-01-31</td>\n",
       "      <td>AMBEV S/A</td>\n",
       "      <td>13.66</td>\n",
       "      <td>Consumo não Cíclico</td>\n",
       "      <td>Bebidas</td>\n",
       "      <td>Cervejas e Refrigerantes</td>\n",
       "      <td>0.0053</td>\n",
       "      <td>0.0112</td>\n",
       "      <td>5.0987</td>\n",
       "      <td>NaN</td>\n",
       "      <td>...</td>\n",
       "      <td>-0.019766</td>\n",
       "      <td>-0.27</td>\n",
       "      <td>0.043101</td>\n",
       "      <td>0.128111</td>\n",
       "      <td>1.75</td>\n",
       "      <td>0.00</td>\n",
       "      <td>NaN</td>\n",
       "      <td>13.660000</td>\n",
       "      <td>NaN</td>\n",
       "      <td>0.000000</td>\n",
       "    </tr>\n",
       "    <tr>\n",
       "      <th>ABEV3</th>\n",
       "      <td>2023-02-28</td>\n",
       "      <td>AMBEV S/A</td>\n",
       "      <td>13.39</td>\n",
       "      <td>Consumo não Cíclico</td>\n",
       "      <td>Bebidas</td>\n",
       "      <td>Cervejas e Refrigerantes</td>\n",
       "      <td>0.0084</td>\n",
       "      <td>0.0092</td>\n",
       "      <td>5.2072</td>\n",
       "      <td>-0.019766</td>\n",
       "      <td>...</td>\n",
       "      <td>-0.019766</td>\n",
       "      <td>-0.27</td>\n",
       "      <td>0.043101</td>\n",
       "      <td>0.128111</td>\n",
       "      <td>1.75</td>\n",
       "      <td>-0.27</td>\n",
       "      <td>NaN</td>\n",
       "      <td>13.525000</td>\n",
       "      <td>-0.019766</td>\n",
       "      <td>-0.019766</td>\n",
       "    </tr>\n",
       "    <tr>\n",
       "      <th>ABEV3</th>\n",
       "      <td>2023-03-31</td>\n",
       "      <td>AMBEV S/A</td>\n",
       "      <td>14.33</td>\n",
       "      <td>Consumo não Cíclico</td>\n",
       "      <td>Bebidas</td>\n",
       "      <td>Cervejas e Refrigerantes</td>\n",
       "      <td>0.0071</td>\n",
       "      <td>0.0117</td>\n",
       "      <td>5.0798</td>\n",
       "      <td>0.070202</td>\n",
       "      <td>...</td>\n",
       "      <td>-0.019766</td>\n",
       "      <td>-0.27</td>\n",
       "      <td>0.043101</td>\n",
       "      <td>0.128111</td>\n",
       "      <td>1.75</td>\n",
       "      <td>0.67</td>\n",
       "      <td>0.063617</td>\n",
       "      <td>13.793333</td>\n",
       "      <td>0.049048</td>\n",
       "      <td>0.000000</td>\n",
       "    </tr>\n",
       "    <tr>\n",
       "      <th>ABEV3</th>\n",
       "      <td>2023-04-30</td>\n",
       "      <td>AMBEV S/A</td>\n",
       "      <td>14.16</td>\n",
       "      <td>Consumo não Cíclico</td>\n",
       "      <td>Bebidas</td>\n",
       "      <td>Cervejas e Refrigerantes</td>\n",
       "      <td>0.0061</td>\n",
       "      <td>0.0092</td>\n",
       "      <td>5.0001</td>\n",
       "      <td>-0.011863</td>\n",
       "      <td>...</td>\n",
       "      <td>-0.019766</td>\n",
       "      <td>-0.27</td>\n",
       "      <td>0.043101</td>\n",
       "      <td>0.128111</td>\n",
       "      <td>1.75</td>\n",
       "      <td>0.50</td>\n",
       "      <td>0.049818</td>\n",
       "      <td>13.885000</td>\n",
       "      <td>0.036603</td>\n",
       "      <td>-0.011863</td>\n",
       "    </tr>\n",
       "    <tr>\n",
       "      <th>ABEV3</th>\n",
       "      <td>2023-05-31</td>\n",
       "      <td>AMBEV S/A</td>\n",
       "      <td>14.41</td>\n",
       "      <td>Consumo não Cíclico</td>\n",
       "      <td>Bebidas</td>\n",
       "      <td>Cervejas e Refrigerantes</td>\n",
       "      <td>0.0023</td>\n",
       "      <td>0.0112</td>\n",
       "      <td>5.0953</td>\n",
       "      <td>0.017655</td>\n",
       "      <td>...</td>\n",
       "      <td>-0.019766</td>\n",
       "      <td>-0.27</td>\n",
       "      <td>0.043101</td>\n",
       "      <td>0.128111</td>\n",
       "      <td>1.75</td>\n",
       "      <td>0.75</td>\n",
       "      <td>0.040747</td>\n",
       "      <td>13.990000</td>\n",
       "      <td>0.054905</td>\n",
       "      <td>0.000000</td>\n",
       "    </tr>\n",
       "    <tr>\n",
       "      <th>ABEV3</th>\n",
       "      <td>2023-06-30</td>\n",
       "      <td>AMBEV S/A</td>\n",
       "      <td>15.41</td>\n",
       "      <td>Consumo não Cíclico</td>\n",
       "      <td>Bebidas</td>\n",
       "      <td>Cervejas e Refrigerantes</td>\n",
       "      <td>-0.0008</td>\n",
       "      <td>0.0107</td>\n",
       "      <td>4.8186</td>\n",
       "      <td>0.069396</td>\n",
       "      <td>...</td>\n",
       "      <td>-0.019766</td>\n",
       "      <td>-0.27</td>\n",
       "      <td>0.043101</td>\n",
       "      <td>0.128111</td>\n",
       "      <td>1.75</td>\n",
       "      <td>1.75</td>\n",
       "      <td>0.043101</td>\n",
       "      <td>14.226667</td>\n",
       "      <td>0.128111</td>\n",
       "      <td>0.000000</td>\n",
       "    </tr>\n",
       "    <tr>\n",
       "      <th>AESB3</th>\n",
       "      <td>2023-01-31</td>\n",
       "      <td>AES BRASIL</td>\n",
       "      <td>10.10</td>\n",
       "      <td>Utilidade Pública</td>\n",
       "      <td>Energia Elétrica</td>\n",
       "      <td>Energia Elétrica</td>\n",
       "      <td>0.0053</td>\n",
       "      <td>0.0112</td>\n",
       "      <td>5.0987</td>\n",
       "      <td>NaN</td>\n",
       "      <td>...</td>\n",
       "      <td>-0.017822</td>\n",
       "      <td>-0.18</td>\n",
       "      <td>0.065634</td>\n",
       "      <td>0.212871</td>\n",
       "      <td>2.15</td>\n",
       "      <td>0.00</td>\n",
       "      <td>NaN</td>\n",
       "      <td>10.100000</td>\n",
       "      <td>NaN</td>\n",
       "      <td>0.000000</td>\n",
       "    </tr>\n",
       "    <tr>\n",
       "      <th>AESB3</th>\n",
       "      <td>2023-02-28</td>\n",
       "      <td>AES BRASIL</td>\n",
       "      <td>9.92</td>\n",
       "      <td>Utilidade Pública</td>\n",
       "      <td>Energia Elétrica</td>\n",
       "      <td>Energia Elétrica</td>\n",
       "      <td>0.0084</td>\n",
       "      <td>0.0092</td>\n",
       "      <td>5.2072</td>\n",
       "      <td>-0.017822</td>\n",
       "      <td>...</td>\n",
       "      <td>-0.017822</td>\n",
       "      <td>-0.18</td>\n",
       "      <td>0.065634</td>\n",
       "      <td>0.212871</td>\n",
       "      <td>2.15</td>\n",
       "      <td>-0.18</td>\n",
       "      <td>NaN</td>\n",
       "      <td>10.010000</td>\n",
       "      <td>-0.017822</td>\n",
       "      <td>-0.017822</td>\n",
       "    </tr>\n",
       "    <tr>\n",
       "      <th>AESB3</th>\n",
       "      <td>2023-03-31</td>\n",
       "      <td>AES BRASIL</td>\n",
       "      <td>9.94</td>\n",
       "      <td>Utilidade Pública</td>\n",
       "      <td>Energia Elétrica</td>\n",
       "      <td>Energia Elétrica</td>\n",
       "      <td>0.0071</td>\n",
       "      <td>0.0117</td>\n",
       "      <td>5.0798</td>\n",
       "      <td>0.002016</td>\n",
       "      <td>...</td>\n",
       "      <td>-0.017822</td>\n",
       "      <td>-0.18</td>\n",
       "      <td>0.065634</td>\n",
       "      <td>0.212871</td>\n",
       "      <td>2.15</td>\n",
       "      <td>-0.16</td>\n",
       "      <td>0.014028</td>\n",
       "      <td>9.986667</td>\n",
       "      <td>-0.015842</td>\n",
       "      <td>-0.015842</td>\n",
       "    </tr>\n",
       "    <tr>\n",
       "      <th>AESB3</th>\n",
       "      <td>2023-04-30</td>\n",
       "      <td>AES BRASIL</td>\n",
       "      <td>10.68</td>\n",
       "      <td>Utilidade Pública</td>\n",
       "      <td>Energia Elétrica</td>\n",
       "      <td>Energia Elétrica</td>\n",
       "      <td>0.0061</td>\n",
       "      <td>0.0092</td>\n",
       "      <td>5.0001</td>\n",
       "      <td>0.074447</td>\n",
       "      <td>...</td>\n",
       "      <td>-0.017822</td>\n",
       "      <td>-0.18</td>\n",
       "      <td>0.065634</td>\n",
       "      <td>0.212871</td>\n",
       "      <td>2.15</td>\n",
       "      <td>0.58</td>\n",
       "      <td>0.048568</td>\n",
       "      <td>10.160000</td>\n",
       "      <td>0.057426</td>\n",
       "      <td>0.000000</td>\n",
       "    </tr>\n",
       "    <tr>\n",
       "      <th>AESB3</th>\n",
       "      <td>2023-05-31</td>\n",
       "      <td>AES BRASIL</td>\n",
       "      <td>12.18</td>\n",
       "      <td>Utilidade Pública</td>\n",
       "      <td>Energia Elétrica</td>\n",
       "      <td>Energia Elétrica</td>\n",
       "      <td>0.0023</td>\n",
       "      <td>0.0112</td>\n",
       "      <td>5.0953</td>\n",
       "      <td>0.140449</td>\n",
       "      <td>...</td>\n",
       "      <td>-0.017822</td>\n",
       "      <td>-0.18</td>\n",
       "      <td>0.065634</td>\n",
       "      <td>0.212871</td>\n",
       "      <td>2.15</td>\n",
       "      <td>2.08</td>\n",
       "      <td>0.072297</td>\n",
       "      <td>10.564000</td>\n",
       "      <td>0.205941</td>\n",
       "      <td>0.000000</td>\n",
       "    </tr>\n",
       "    <tr>\n",
       "      <th>AESB3</th>\n",
       "      <td>2023-06-30</td>\n",
       "      <td>AES BRASIL</td>\n",
       "      <td>12.25</td>\n",
       "      <td>Utilidade Pública</td>\n",
       "      <td>Energia Elétrica</td>\n",
       "      <td>Energia Elétrica</td>\n",
       "      <td>-0.0008</td>\n",
       "      <td>0.0107</td>\n",
       "      <td>4.8186</td>\n",
       "      <td>0.005747</td>\n",
       "      <td>...</td>\n",
       "      <td>-0.017822</td>\n",
       "      <td>-0.18</td>\n",
       "      <td>0.065634</td>\n",
       "      <td>0.212871</td>\n",
       "      <td>2.15</td>\n",
       "      <td>2.15</td>\n",
       "      <td>0.065634</td>\n",
       "      <td>10.845000</td>\n",
       "      <td>0.212871</td>\n",
       "      <td>0.000000</td>\n",
       "    </tr>\n",
       "    <tr>\n",
       "      <th>ALPA4</th>\n",
       "      <td>2023-01-31</td>\n",
       "      <td>ALPARGATAS</td>\n",
       "      <td>13.61</td>\n",
       "      <td>Consumo Cíclico</td>\n",
       "      <td>Tecidos e Vestuário e Calçados</td>\n",
       "      <td>Calçados</td>\n",
       "      <td>0.0053</td>\n",
       "      <td>0.0112</td>\n",
       "      <td>5.0987</td>\n",
       "      <td>NaN</td>\n",
       "      <td>...</td>\n",
       "      <td>-0.455547</td>\n",
       "      <td>-6.20</td>\n",
       "      <td>0.268876</td>\n",
       "      <td>-0.316679</td>\n",
       "      <td>-4.31</td>\n",
       "      <td>0.00</td>\n",
       "      <td>NaN</td>\n",
       "      <td>13.610000</td>\n",
       "      <td>NaN</td>\n",
       "      <td>0.000000</td>\n",
       "    </tr>\n",
       "    <tr>\n",
       "      <th>ALPA4</th>\n",
       "      <td>2023-02-28</td>\n",
       "      <td>ALPARGATAS</td>\n",
       "      <td>9.43</td>\n",
       "      <td>Consumo Cíclico</td>\n",
       "      <td>Tecidos e Vestuário e Calçados</td>\n",
       "      <td>Calçados</td>\n",
       "      <td>0.0084</td>\n",
       "      <td>0.0092</td>\n",
       "      <td>5.2072</td>\n",
       "      <td>-0.307127</td>\n",
       "      <td>...</td>\n",
       "      <td>-0.455547</td>\n",
       "      <td>-6.20</td>\n",
       "      <td>0.268876</td>\n",
       "      <td>-0.316679</td>\n",
       "      <td>-4.31</td>\n",
       "      <td>-4.18</td>\n",
       "      <td>NaN</td>\n",
       "      <td>11.520000</td>\n",
       "      <td>-0.307127</td>\n",
       "      <td>-0.307127</td>\n",
       "    </tr>\n",
       "    <tr>\n",
       "      <th>ALPA4</th>\n",
       "      <td>2023-03-31</td>\n",
       "      <td>ALPARGATAS</td>\n",
       "      <td>8.15</td>\n",
       "      <td>Consumo Cíclico</td>\n",
       "      <td>Tecidos e Vestuário e Calçados</td>\n",
       "      <td>Calçados</td>\n",
       "      <td>0.0071</td>\n",
       "      <td>0.0117</td>\n",
       "      <td>5.0798</td>\n",
       "      <td>-0.135737</td>\n",
       "      <td>...</td>\n",
       "      <td>-0.455547</td>\n",
       "      <td>-6.20</td>\n",
       "      <td>0.268876</td>\n",
       "      <td>-0.316679</td>\n",
       "      <td>-4.31</td>\n",
       "      <td>-5.46</td>\n",
       "      <td>0.121191</td>\n",
       "      <td>10.396667</td>\n",
       "      <td>-0.401176</td>\n",
       "      <td>-0.401176</td>\n",
       "    </tr>\n",
       "  </tbody>\n",
       "</table>\n",
       "<p>15 rows × 24 columns</p>\n",
       "</div>"
      ],
      "text/plain": [
       "            DATA        NOME  PREÇO (R$)      SETOR ECONÔMICO  \\\n",
       "PAPEL                                                           \n",
       "ABEV3 2023-01-31   AMBEV S/A       13.66  Consumo não Cíclico   \n",
       "ABEV3 2023-02-28   AMBEV S/A       13.39  Consumo não Cíclico   \n",
       "ABEV3 2023-03-31   AMBEV S/A       14.33  Consumo não Cíclico   \n",
       "ABEV3 2023-04-30   AMBEV S/A       14.16  Consumo não Cíclico   \n",
       "ABEV3 2023-05-31   AMBEV S/A       14.41  Consumo não Cíclico   \n",
       "ABEV3 2023-06-30   AMBEV S/A       15.41  Consumo não Cíclico   \n",
       "AESB3 2023-01-31  AES BRASIL       10.10    Utilidade Pública   \n",
       "AESB3 2023-02-28  AES BRASIL        9.92    Utilidade Pública   \n",
       "AESB3 2023-03-31  AES BRASIL        9.94    Utilidade Pública   \n",
       "AESB3 2023-04-30  AES BRASIL       10.68    Utilidade Pública   \n",
       "AESB3 2023-05-31  AES BRASIL       12.18    Utilidade Pública   \n",
       "AESB3 2023-06-30  AES BRASIL       12.25    Utilidade Pública   \n",
       "ALPA4 2023-01-31  ALPARGATAS       13.61      Consumo Cíclico   \n",
       "ALPA4 2023-02-28  ALPARGATAS        9.43      Consumo Cíclico   \n",
       "ALPA4 2023-03-31  ALPARGATAS        8.15      Consumo Cíclico   \n",
       "\n",
       "                             SUBSETOR                  SEGMENTO    IPCA  \\\n",
       "PAPEL                                                                     \n",
       "ABEV3                         Bebidas  Cervejas e Refrigerantes  0.0053   \n",
       "ABEV3                         Bebidas  Cervejas e Refrigerantes  0.0084   \n",
       "ABEV3                         Bebidas  Cervejas e Refrigerantes  0.0071   \n",
       "ABEV3                         Bebidas  Cervejas e Refrigerantes  0.0061   \n",
       "ABEV3                         Bebidas  Cervejas e Refrigerantes  0.0023   \n",
       "ABEV3                         Bebidas  Cervejas e Refrigerantes -0.0008   \n",
       "AESB3                Energia Elétrica          Energia Elétrica  0.0053   \n",
       "AESB3                Energia Elétrica          Energia Elétrica  0.0084   \n",
       "AESB3                Energia Elétrica          Energia Elétrica  0.0071   \n",
       "AESB3                Energia Elétrica          Energia Elétrica  0.0061   \n",
       "AESB3                Energia Elétrica          Energia Elétrica  0.0023   \n",
       "AESB3                Energia Elétrica          Energia Elétrica -0.0008   \n",
       "ALPA4  Tecidos e Vestuário e Calçados                  Calçados  0.0053   \n",
       "ALPA4  Tecidos e Vestuário e Calçados                  Calçados  0.0084   \n",
       "ALPA4  Tecidos e Vestuário e Calçados                  Calçados  0.0071   \n",
       "\n",
       "        SELIC     USD  RETORNOS_SIMPLES  ...  MÁXIMO DROW DOWN  \\\n",
       "PAPEL                                    ...                     \n",
       "ABEV3  0.0112  5.0987               NaN  ...         -0.019766   \n",
       "ABEV3  0.0092  5.2072         -0.019766  ...         -0.019766   \n",
       "ABEV3  0.0117  5.0798          0.070202  ...         -0.019766   \n",
       "ABEV3  0.0092  5.0001         -0.011863  ...         -0.019766   \n",
       "ABEV3  0.0112  5.0953          0.017655  ...         -0.019766   \n",
       "ABEV3  0.0107  4.8186          0.069396  ...         -0.019766   \n",
       "AESB3  0.0112  5.0987               NaN  ...         -0.017822   \n",
       "AESB3  0.0092  5.2072         -0.017822  ...         -0.017822   \n",
       "AESB3  0.0117  5.0798          0.002016  ...         -0.017822   \n",
       "AESB3  0.0092  5.0001          0.074447  ...         -0.017822   \n",
       "AESB3  0.0112  5.0953          0.140449  ...         -0.017822   \n",
       "AESB3  0.0107  4.8186          0.005747  ...         -0.017822   \n",
       "ALPA4  0.0112  5.0987               NaN  ...         -0.455547   \n",
       "ALPA4  0.0092  5.2072         -0.307127  ...         -0.455547   \n",
       "ALPA4  0.0117  5.0798         -0.135737  ...         -0.455547   \n",
       "\n",
       "       MÁXIMO DROW DOWN bruto  VOLATILIDADE  RENTABILIDADE  GANHO BRUTO R$  \\\n",
       "PAPEL                                                                        \n",
       "ABEV3                   -0.27      0.043101       0.128111            1.75   \n",
       "ABEV3                   -0.27      0.043101       0.128111            1.75   \n",
       "ABEV3                   -0.27      0.043101       0.128111            1.75   \n",
       "ABEV3                   -0.27      0.043101       0.128111            1.75   \n",
       "ABEV3                   -0.27      0.043101       0.128111            1.75   \n",
       "ABEV3                   -0.27      0.043101       0.128111            1.75   \n",
       "AESB3                   -0.18      0.065634       0.212871            2.15   \n",
       "AESB3                   -0.18      0.065634       0.212871            2.15   \n",
       "AESB3                   -0.18      0.065634       0.212871            2.15   \n",
       "AESB3                   -0.18      0.065634       0.212871            2.15   \n",
       "AESB3                   -0.18      0.065634       0.212871            2.15   \n",
       "AESB3                   -0.18      0.065634       0.212871            2.15   \n",
       "ALPA4                   -6.20      0.268876      -0.316679           -4.31   \n",
       "ALPA4                   -6.20      0.268876      -0.316679           -4.31   \n",
       "ALPA4                   -6.20      0.268876      -0.316679           -4.31   \n",
       "\n",
       "       ACUM_GANHO BRUTO R$  ACUM_VOLATILIDADE  ACUM_MÉDIA  ACUM_RENTABILIDADE  \\\n",
       "PAPEL                                                                           \n",
       "ABEV3                 0.00                NaN   13.660000                 NaN   \n",
       "ABEV3                -0.27                NaN   13.525000           -0.019766   \n",
       "ABEV3                 0.67           0.063617   13.793333            0.049048   \n",
       "ABEV3                 0.50           0.049818   13.885000            0.036603   \n",
       "ABEV3                 0.75           0.040747   13.990000            0.054905   \n",
       "ABEV3                 1.75           0.043101   14.226667            0.128111   \n",
       "AESB3                 0.00                NaN   10.100000                 NaN   \n",
       "AESB3                -0.18                NaN   10.010000           -0.017822   \n",
       "AESB3                -0.16           0.014028    9.986667           -0.015842   \n",
       "AESB3                 0.58           0.048568   10.160000            0.057426   \n",
       "AESB3                 2.08           0.072297   10.564000            0.205941   \n",
       "AESB3                 2.15           0.065634   10.845000            0.212871   \n",
       "ALPA4                 0.00                NaN   13.610000                 NaN   \n",
       "ALPA4                -4.18                NaN   11.520000           -0.307127   \n",
       "ALPA4                -5.46           0.121191   10.396667           -0.401176   \n",
       "\n",
       "       ACUM_DROW_DOWN  \n",
       "PAPEL                  \n",
       "ABEV3        0.000000  \n",
       "ABEV3       -0.019766  \n",
       "ABEV3        0.000000  \n",
       "ABEV3       -0.011863  \n",
       "ABEV3        0.000000  \n",
       "ABEV3        0.000000  \n",
       "AESB3        0.000000  \n",
       "AESB3       -0.017822  \n",
       "AESB3       -0.015842  \n",
       "AESB3        0.000000  \n",
       "AESB3        0.000000  \n",
       "AESB3        0.000000  \n",
       "ALPA4        0.000000  \n",
       "ALPA4       -0.307127  \n",
       "ALPA4       -0.401176  \n",
       "\n",
       "[15 rows x 24 columns]"
      ]
     },
     "execution_count": 227,
     "metadata": {},
     "output_type": "execute_result"
    }
   ],
   "source": [
    "df.head(15)"
   ]
  },
  {
   "cell_type": "code",
   "execution_count": 297,
   "metadata": {},
   "outputs": [],
   "source": [
    "df.to_excel('df_completo2.xlsx')\n",
    "# df.to_excel('df_completo.xlsx')"
   ]
  },
  {
   "cell_type": "code",
   "execution_count": 156,
   "metadata": {},
   "outputs": [],
   "source": [
    "# df = pd.read_excel('df_completo.xlsx', index_col='DATA')\n",
    "# df.to_excel('df_completo.xlsx')"
   ]
  },
  {
   "cell_type": "code",
   "execution_count": 235,
   "metadata": {},
   "outputs": [],
   "source": [
    "from plotly.subplots import make_subplots   \n",
    "from plotly import graph_objects as go "
   ]
  },
  {
   "cell_type": "code",
   "execution_count": 236,
   "metadata": {},
   "outputs": [
    {
     "data": {
      "text/html": [
       "<div>\n",
       "<style scoped>\n",
       "    .dataframe tbody tr th:only-of-type {\n",
       "        vertical-align: middle;\n",
       "    }\n",
       "\n",
       "    .dataframe tbody tr th {\n",
       "        vertical-align: top;\n",
       "    }\n",
       "\n",
       "    .dataframe thead th {\n",
       "        text-align: right;\n",
       "    }\n",
       "</style>\n",
       "<table border=\"1\" class=\"dataframe\">\n",
       "  <thead>\n",
       "    <tr style=\"text-align: right;\">\n",
       "      <th></th>\n",
       "      <th>DATA</th>\n",
       "      <th>NOME</th>\n",
       "      <th>PREÇO (R$)</th>\n",
       "      <th>SETOR ECONÔMICO</th>\n",
       "      <th>SUBSETOR</th>\n",
       "      <th>SEGMENTO</th>\n",
       "      <th>IPCA</th>\n",
       "      <th>SELIC</th>\n",
       "      <th>USD</th>\n",
       "      <th>RETORNOS_SIMPLES</th>\n",
       "      <th>...</th>\n",
       "      <th>MÁXIMO DROW DOWN</th>\n",
       "      <th>MÁXIMO DROW DOWN bruto</th>\n",
       "      <th>VOLATILIDADE</th>\n",
       "      <th>RENTABILIDADE</th>\n",
       "      <th>GANHO BRUTO R$</th>\n",
       "      <th>ACUM_GANHO BRUTO R$</th>\n",
       "      <th>ACUM_VOLATILIDADE</th>\n",
       "      <th>ACUM_MÉDIA</th>\n",
       "      <th>ACUM_RENTABILIDADE</th>\n",
       "      <th>DROW_DOWN</th>\n",
       "    </tr>\n",
       "    <tr>\n",
       "      <th>PAPEL</th>\n",
       "      <th></th>\n",
       "      <th></th>\n",
       "      <th></th>\n",
       "      <th></th>\n",
       "      <th></th>\n",
       "      <th></th>\n",
       "      <th></th>\n",
       "      <th></th>\n",
       "      <th></th>\n",
       "      <th></th>\n",
       "      <th></th>\n",
       "      <th></th>\n",
       "      <th></th>\n",
       "      <th></th>\n",
       "      <th></th>\n",
       "      <th></th>\n",
       "      <th></th>\n",
       "      <th></th>\n",
       "      <th></th>\n",
       "      <th></th>\n",
       "      <th></th>\n",
       "    </tr>\n",
       "  </thead>\n",
       "  <tbody>\n",
       "    <tr>\n",
       "      <th>ABEV3</th>\n",
       "      <td>2023-01-31</td>\n",
       "      <td>AMBEV S/A</td>\n",
       "      <td>13.66</td>\n",
       "      <td>Consumo não Cíclico</td>\n",
       "      <td>Bebidas</td>\n",
       "      <td>Cervejas e Refrigerantes</td>\n",
       "      <td>0.0053</td>\n",
       "      <td>0.0112</td>\n",
       "      <td>5.0987</td>\n",
       "      <td>NaN</td>\n",
       "      <td>...</td>\n",
       "      <td>-0.019766</td>\n",
       "      <td>-0.27</td>\n",
       "      <td>0.043101</td>\n",
       "      <td>0.128111</td>\n",
       "      <td>1.75</td>\n",
       "      <td>0.00</td>\n",
       "      <td>NaN</td>\n",
       "      <td>13.660000</td>\n",
       "      <td>NaN</td>\n",
       "      <td>0.000000</td>\n",
       "    </tr>\n",
       "    <tr>\n",
       "      <th>ABEV3</th>\n",
       "      <td>2023-02-28</td>\n",
       "      <td>AMBEV S/A</td>\n",
       "      <td>13.39</td>\n",
       "      <td>Consumo não Cíclico</td>\n",
       "      <td>Bebidas</td>\n",
       "      <td>Cervejas e Refrigerantes</td>\n",
       "      <td>0.0084</td>\n",
       "      <td>0.0092</td>\n",
       "      <td>5.2072</td>\n",
       "      <td>-0.019766</td>\n",
       "      <td>...</td>\n",
       "      <td>-0.019766</td>\n",
       "      <td>-0.27</td>\n",
       "      <td>0.043101</td>\n",
       "      <td>0.128111</td>\n",
       "      <td>1.75</td>\n",
       "      <td>-0.27</td>\n",
       "      <td>NaN</td>\n",
       "      <td>13.525000</td>\n",
       "      <td>-0.019766</td>\n",
       "      <td>-0.019766</td>\n",
       "    </tr>\n",
       "    <tr>\n",
       "      <th>ABEV3</th>\n",
       "      <td>2023-03-31</td>\n",
       "      <td>AMBEV S/A</td>\n",
       "      <td>14.33</td>\n",
       "      <td>Consumo não Cíclico</td>\n",
       "      <td>Bebidas</td>\n",
       "      <td>Cervejas e Refrigerantes</td>\n",
       "      <td>0.0071</td>\n",
       "      <td>0.0117</td>\n",
       "      <td>5.0798</td>\n",
       "      <td>0.070202</td>\n",
       "      <td>...</td>\n",
       "      <td>-0.019766</td>\n",
       "      <td>-0.27</td>\n",
       "      <td>0.043101</td>\n",
       "      <td>0.128111</td>\n",
       "      <td>1.75</td>\n",
       "      <td>0.67</td>\n",
       "      <td>0.063617</td>\n",
       "      <td>13.793333</td>\n",
       "      <td>0.049048</td>\n",
       "      <td>0.000000</td>\n",
       "    </tr>\n",
       "  </tbody>\n",
       "</table>\n",
       "<p>3 rows × 24 columns</p>\n",
       "</div>"
      ],
      "text/plain": [
       "            DATA       NOME  PREÇO (R$)      SETOR ECONÔMICO SUBSETOR  \\\n",
       "PAPEL                                                                   \n",
       "ABEV3 2023-01-31  AMBEV S/A       13.66  Consumo não Cíclico  Bebidas   \n",
       "ABEV3 2023-02-28  AMBEV S/A       13.39  Consumo não Cíclico  Bebidas   \n",
       "ABEV3 2023-03-31  AMBEV S/A       14.33  Consumo não Cíclico  Bebidas   \n",
       "\n",
       "                       SEGMENTO    IPCA   SELIC     USD  RETORNOS_SIMPLES  \\\n",
       "PAPEL                                                                       \n",
       "ABEV3  Cervejas e Refrigerantes  0.0053  0.0112  5.0987               NaN   \n",
       "ABEV3  Cervejas e Refrigerantes  0.0084  0.0092  5.2072         -0.019766   \n",
       "ABEV3  Cervejas e Refrigerantes  0.0071  0.0117  5.0798          0.070202   \n",
       "\n",
       "       ...  MÁXIMO DROW DOWN  MÁXIMO DROW DOWN bruto  VOLATILIDADE  \\\n",
       "PAPEL  ...                                                           \n",
       "ABEV3  ...         -0.019766                   -0.27      0.043101   \n",
       "ABEV3  ...         -0.019766                   -0.27      0.043101   \n",
       "ABEV3  ...         -0.019766                   -0.27      0.043101   \n",
       "\n",
       "       RENTABILIDADE  GANHO BRUTO R$  ACUM_GANHO BRUTO R$  ACUM_VOLATILIDADE  \\\n",
       "PAPEL                                                                          \n",
       "ABEV3       0.128111            1.75                 0.00                NaN   \n",
       "ABEV3       0.128111            1.75                -0.27                NaN   \n",
       "ABEV3       0.128111            1.75                 0.67           0.063617   \n",
       "\n",
       "       ACUM_MÉDIA  ACUM_RENTABILIDADE  DROW_DOWN  \n",
       "PAPEL                                             \n",
       "ABEV3   13.660000                 NaN   0.000000  \n",
       "ABEV3   13.525000           -0.019766  -0.019766  \n",
       "ABEV3   13.793333            0.049048   0.000000  \n",
       "\n",
       "[3 rows x 24 columns]"
      ]
     },
     "execution_count": 236,
     "metadata": {},
     "output_type": "execute_result"
    }
   ],
   "source": [
    "df.head(3)"
   ]
  },
  {
   "cell_type": "code",
   "execution_count": null,
   "metadata": {},
   "outputs": [],
   "source": [
    "figura = make_subplots(rows = 1, cols=1, subplot_titles=['RENTABILIDADE MENSAL'])#, 'RENTABILIDADE ACUMULADA', 'GANHO BRUTO ACUMULADO', 'DROW DOWN'])\n",
    "\n",
    "figura.add_trace(go.Scatter(x=df['DATA'].unique(), y=rent_max['RETORNOS_SIMPLES'], \n",
    "                            name=rent_max['NOME'].unique()), row=1, col=1)"
   ]
  },
  {
   "cell_type": "code",
   "execution_count": null,
   "metadata": {},
   "outputs": [],
   "source": [
    "figura = make_subplots(rows = 1, cols=1, subplot_titles=['', '', 'GANHO BRUTO ACUMULADO', 'DROW DOWN'])\n",
    "\n",
    "figura.add_trace(go.Scatter(x=df['DATA'], y=df['RETORNOS_SIMPLES'].loc[df.index == stock_compare_choose], name=stock_compare_choose), row=1, col=1)\n",
    "figura.add_trace(go.Scatter(x=df['DATA'], y=rent_max, \n",
    "                            name=rent_max.index.unique()), row=1, col=1)\n",
    "# figura.add_trace(go.Scatter(x=df['DATA'], y=df['Informacao2'], name='Melhor Ação'), row=1, col=2)\n",
    "# figura.add_trace(go.Bar(x=df['DATA'], y=df['Informacao3'], name='Ação'), row=2, col=1)\n",
    "# figura.add_trace(go.Bar(x=df['DATA'], y=df['Informacao4'], name='Melhor Ação'), row=2, col=2)"
   ]
  },
  {
   "cell_type": "markdown",
   "metadata": {},
   "source": [
    "# @@@@@@@@@@@@@@@@@@@@@@@@@@@@@@@@@@@@@@@"
   ]
  },
  {
   "cell_type": "code",
   "execution_count": 262,
   "metadata": {},
   "outputs": [
    {
     "data": {
      "text/plain": [
       "Index(['DATA', 'NOME', 'PREÇO (R$)', 'SETOR ECONÔMICO', 'SUBSETOR', 'SEGMENTO',\n",
       "       'IPCA', 'SELIC', 'USD', 'RETORNOS_SIMPLES', 'RETORNOS_LOGARITIMOS',\n",
       "       'RETORNOS_ACUMULADOS', 'SHARPE', 'MÉDIA', 'MÁXIMO DROW DOWN',\n",
       "       'MÁXIMO DROW DOWN bruto', 'VOLATILIDADE', 'RENTABILIDADE',\n",
       "       'GANHO BRUTO R$', 'ACUM_GANHO BRUTO R$', 'ACUM_VOLATILIDADE',\n",
       "       'ACUM_MÉDIA', 'ACUM_RENTABILIDADE', 'DROW_DOWN'],\n",
       "      dtype='object')"
      ]
     },
     "execution_count": 262,
     "metadata": {},
     "output_type": "execute_result"
    }
   ],
   "source": [
    "df.columns"
   ]
  },
  {
   "cell_type": "code",
   "execution_count": 264,
   "metadata": {},
   "outputs": [
    {
     "data": {
      "text/html": [
       "<div>\n",
       "<style scoped>\n",
       "    .dataframe tbody tr th:only-of-type {\n",
       "        vertical-align: middle;\n",
       "    }\n",
       "\n",
       "    .dataframe tbody tr th {\n",
       "        vertical-align: top;\n",
       "    }\n",
       "\n",
       "    .dataframe thead th {\n",
       "        text-align: right;\n",
       "    }\n",
       "</style>\n",
       "<table border=\"1\" class=\"dataframe\">\n",
       "  <thead>\n",
       "    <tr style=\"text-align: right;\">\n",
       "      <th></th>\n",
       "      <th>DATA</th>\n",
       "      <th>NOME</th>\n",
       "      <th>PREÇO (R$)</th>\n",
       "      <th>SETOR ECONÔMICO</th>\n",
       "      <th>SUBSETOR</th>\n",
       "      <th>SEGMENTO</th>\n",
       "      <th>IPCA</th>\n",
       "      <th>SELIC</th>\n",
       "      <th>USD</th>\n",
       "      <th>RETORNOS_SIMPLES</th>\n",
       "      <th>...</th>\n",
       "      <th>MÁXIMO DROW DOWN</th>\n",
       "      <th>MÁXIMO DROW DOWN bruto</th>\n",
       "      <th>VOLATILIDADE</th>\n",
       "      <th>RENTABILIDADE</th>\n",
       "      <th>GANHO BRUTO R$</th>\n",
       "      <th>ACUM_GANHO BRUTO R$</th>\n",
       "      <th>ACUM_VOLATILIDADE</th>\n",
       "      <th>ACUM_MÉDIA</th>\n",
       "      <th>ACUM_RENTABILIDADE</th>\n",
       "      <th>DROW_DOWN</th>\n",
       "    </tr>\n",
       "    <tr>\n",
       "      <th>PAPEL</th>\n",
       "      <th></th>\n",
       "      <th></th>\n",
       "      <th></th>\n",
       "      <th></th>\n",
       "      <th></th>\n",
       "      <th></th>\n",
       "      <th></th>\n",
       "      <th></th>\n",
       "      <th></th>\n",
       "      <th></th>\n",
       "      <th></th>\n",
       "      <th></th>\n",
       "      <th></th>\n",
       "      <th></th>\n",
       "      <th></th>\n",
       "      <th></th>\n",
       "      <th></th>\n",
       "      <th></th>\n",
       "      <th></th>\n",
       "      <th></th>\n",
       "      <th></th>\n",
       "    </tr>\n",
       "  </thead>\n",
       "  <tbody>\n",
       "    <tr>\n",
       "      <th>ABEV3</th>\n",
       "      <td>Jan-2023</td>\n",
       "      <td>AMBEV S/A</td>\n",
       "      <td>13.66</td>\n",
       "      <td>Consumo não Cíclico</td>\n",
       "      <td>Bebidas</td>\n",
       "      <td>Cervejas e Refrigerantes</td>\n",
       "      <td>0.0053</td>\n",
       "      <td>0.0112</td>\n",
       "      <td>5.0987</td>\n",
       "      <td>NaN</td>\n",
       "      <td>...</td>\n",
       "      <td>-0.019766</td>\n",
       "      <td>-0.27</td>\n",
       "      <td>0.043101</td>\n",
       "      <td>0.128111</td>\n",
       "      <td>1.75</td>\n",
       "      <td>0.0</td>\n",
       "      <td>NaN</td>\n",
       "      <td>13.66</td>\n",
       "      <td>NaN</td>\n",
       "      <td>0.0</td>\n",
       "    </tr>\n",
       "  </tbody>\n",
       "</table>\n",
       "<p>1 rows × 24 columns</p>\n",
       "</div>"
      ],
      "text/plain": [
       "           DATA       NOME  PREÇO (R$)      SETOR ECONÔMICO SUBSETOR  \\\n",
       "PAPEL                                                                  \n",
       "ABEV3  Jan-2023  AMBEV S/A       13.66  Consumo não Cíclico  Bebidas   \n",
       "\n",
       "                       SEGMENTO    IPCA   SELIC     USD  RETORNOS_SIMPLES  \\\n",
       "PAPEL                                                                       \n",
       "ABEV3  Cervejas e Refrigerantes  0.0053  0.0112  5.0987               NaN   \n",
       "\n",
       "       ...  MÁXIMO DROW DOWN  MÁXIMO DROW DOWN bruto  VOLATILIDADE  \\\n",
       "PAPEL  ...                                                           \n",
       "ABEV3  ...         -0.019766                   -0.27      0.043101   \n",
       "\n",
       "       RENTABILIDADE  GANHO BRUTO R$  ACUM_GANHO BRUTO R$  ACUM_VOLATILIDADE  \\\n",
       "PAPEL                                                                          \n",
       "ABEV3       0.128111            1.75                  0.0                NaN   \n",
       "\n",
       "       ACUM_MÉDIA  ACUM_RENTABILIDADE  DROW_DOWN  \n",
       "PAPEL                                             \n",
       "ABEV3       13.66                 NaN        0.0  \n",
       "\n",
       "[1 rows x 24 columns]"
      ]
     },
     "execution_count": 264,
     "metadata": {},
     "output_type": "execute_result"
    }
   ],
   "source": [
    "df.head(1)"
   ]
  },
  {
   "cell_type": "markdown",
   "metadata": {},
   "source": [
    "## Por SETOR ECONOMICO"
   ]
  },
  {
   "cell_type": "code",
   "execution_count": null,
   "metadata": {},
   "outputs": [],
   "source": [
    "df.groupby('SETOR ECONÔMICO')['PREÇO (R$)'].mean().sort_values(ascending=False)"
   ]
  },
  {
   "cell_type": "code",
   "execution_count": null,
   "metadata": {},
   "outputs": [],
   "source": [
    "df.groupby('SETOR ECONÔMICO')['SHARPE'].mean().sort_values(ascending=False)\n"
   ]
  },
  {
   "cell_type": "code",
   "execution_count": null,
   "metadata": {},
   "outputs": [],
   "source": [
    "df.groupby('SETOR ECONÔMICO')['VOLATILIDADE'].mean().sort_values(ascending=True)\n"
   ]
  },
  {
   "cell_type": "code",
   "execution_count": null,
   "metadata": {},
   "outputs": [],
   "source": [
    "df.groupby('SETOR ECONÔMICO')['VOLATILIDADE'].mean().sort_values(ascending=True)\n"
   ]
  },
  {
   "cell_type": "code",
   "execution_count": null,
   "metadata": {},
   "outputs": [],
   "source": []
  },
  {
   "cell_type": "code",
   "execution_count": null,
   "metadata": {},
   "outputs": [],
   "source": []
  },
  {
   "cell_type": "code",
   "execution_count": 276,
   "metadata": {},
   "outputs": [
    {
     "data": {
      "text/plain": [
       "0.03409090909090909"
      ]
     },
     "execution_count": 276,
     "metadata": {},
     "output_type": "execute_result"
    }
   ],
   "source": [
    "participacao = df['SEGMENTO'].value_counts(normalize=True).sort_values(ascending=False)\n",
    "participacao[participacao.index == 'Siderurgia'].values[0]"
   ]
  },
  {
   "cell_type": "code",
   "execution_count": 282,
   "metadata": {},
   "outputs": [
    {
     "data": {
      "text/plain": [
       "88.0"
      ]
     },
     "execution_count": 282,
     "metadata": {},
     "output_type": "execute_result"
    }
   ],
   "source": [
    "participacao = df['SEGMENTO'].value_counts(normalize=False).sort_values(ascending=False)\n",
    "participacao[participacao.index == 'Siderurgia']"
   ]
  },
  {
   "cell_type": "code",
   "execution_count": null,
   "metadata": {},
   "outputs": [],
   "source": []
  },
  {
   "cell_type": "markdown",
   "metadata": {},
   "source": [
    "## Por SUB SETOR "
   ]
  },
  {
   "cell_type": "code",
   "execution_count": null,
   "metadata": {},
   "outputs": [],
   "source": [
    "df.groupby('SUBSETOR')['PREÇO (R$)'].mean().sort_values(ascending=False)"
   ]
  },
  {
   "cell_type": "markdown",
   "metadata": {},
   "source": [
    "# TESTES GRAFICO DE BARRAS"
   ]
  },
  {
   "cell_type": "code",
   "execution_count": null,
   "metadata": {},
   "outputs": [],
   "source": []
  },
  {
   "cell_type": "code",
   "execution_count": null,
   "metadata": {},
   "outputs": [],
   "source": []
  },
  {
   "cell_type": "code",
   "execution_count": null,
   "metadata": {},
   "outputs": [],
   "source": []
  },
  {
   "cell_type": "code",
   "execution_count": null,
   "metadata": {},
   "outputs": [],
   "source": []
  },
  {
   "cell_type": "code",
   "execution_count": 66,
   "metadata": {},
   "outputs": [],
   "source": [
    "tickers = ['ABEV3', 'YDUQ3','AZUL4']\n",
    "best_tickers = df.loc[: , ['MÉDIA' ,'SHARPE', 'MÁXIMO DROW DOWN', 'MÁXIMO DROW DOWN bruto', 'VOLATILIDADE', 'RENTABILIDADE', 'GANHO BRUTO R$']].idxmax().values\n",
    "\n",
    "max_values = df.loc[: , ['MÉDIA' ,'SHARPE', 'MÁXIMO DROW DOWN', 'MÁXIMO DROW DOWN bruto', 'VOLATILIDADE', 'RENTABILIDADE', 'GANHO BRUTO R$']].max().values\n",
    "info = df.loc[: , ['MÉDIA' ,'SHARPE', 'MÁXIMO DROW DOWN', 'MÁXIMO DROW DOWN bruto', 'VOLATILIDADE', 'RENTABILIDADE', 'GANHO BRUTO R$']].max().index.values\n"
   ]
  },
  {
   "cell_type": "code",
   "execution_count": 67,
   "metadata": {},
   "outputs": [
    {
     "data": {
      "text/plain": [
       "(array(['VALE3', 'POMO4', 'POMO4', 'POMO4', 'AZUL4', 'YDUQ3', 'AZUL4'],\n",
       "       dtype=object),\n",
       " array(['MÉDIA', 'SHARPE', 'MÁXIMO DROW DOWN', 'MÁXIMO DROW DOWN bruto',\n",
       "        'VOLATILIDADE', 'RENTABILIDADE', 'GANHO BRUTO R$'], dtype=object),\n",
       " array([76.75833333,  6.3193426 ,  0.        ,  0.        ,  0.45179676,\n",
       "         0.91868345, 10.01      ]))"
      ]
     },
     "execution_count": 67,
     "metadata": {},
     "output_type": "execute_result"
    }
   ],
   "source": [
    "best_tickers, info, max_values"
   ]
  },
  {
   "cell_type": "code",
   "execution_count": 68,
   "metadata": {},
   "outputs": [],
   "source": [
    "tudu_juntu = zip(best_tickers, info, max_values)\n",
    "lista_tudu_junto = list(tudu_juntu)"
   ]
  },
  {
   "cell_type": "code",
   "execution_count": 69,
   "metadata": {},
   "outputs": [
    {
     "data": {
      "text/plain": [
       "[('VALE3', 'MÉDIA', 76.75833333333334),\n",
       " ('POMO4', 'SHARPE', 6.3193426033136655),\n",
       " ('POMO4', 'MÁXIMO DROW DOWN', 0.0),\n",
       " ('POMO4', 'MÁXIMO DROW DOWN bruto', 0.0),\n",
       " ('AZUL4', 'VOLATILIDADE', 0.45179675954297854),\n",
       " ('YDUQ3', 'RENTABILIDADE', 0.9186834462729913),\n",
       " ('AZUL4', 'GANHO BRUTO R$', 10.01)]"
      ]
     },
     "execution_count": 69,
     "metadata": {},
     "output_type": "execute_result"
    }
   ],
   "source": [
    "ltj = lista_tudu_junto\n",
    "ltj"
   ]
  },
  {
   "cell_type": "code",
   "execution_count": 158,
   "metadata": {},
   "outputs": [],
   "source": [
    "lista_acoes = ['AESB3', 'ABEV3']"
   ]
  },
  {
   "cell_type": "code",
   "execution_count": 171,
   "metadata": {},
   "outputs": [
    {
     "data": {
      "text/html": [
       "<div>\n",
       "<style scoped>\n",
       "    .dataframe tbody tr th:only-of-type {\n",
       "        vertical-align: middle;\n",
       "    }\n",
       "\n",
       "    .dataframe tbody tr th {\n",
       "        vertical-align: top;\n",
       "    }\n",
       "\n",
       "    .dataframe thead th {\n",
       "        text-align: right;\n",
       "    }\n",
       "</style>\n",
       "<table border=\"1\" class=\"dataframe\">\n",
       "  <thead>\n",
       "    <tr style=\"text-align: right;\">\n",
       "      <th></th>\n",
       "      <th>MÉDIA</th>\n",
       "      <th>SHARPE</th>\n",
       "      <th>MÁXIMO DROW DOWN</th>\n",
       "      <th>MÁXIMO DROW DOWN bruto</th>\n",
       "      <th>VOLATILIDADE</th>\n",
       "      <th>RENTABILIDADE</th>\n",
       "      <th>GANHO BRUTO R$</th>\n",
       "    </tr>\n",
       "    <tr>\n",
       "      <th>PAPEL</th>\n",
       "      <th></th>\n",
       "      <th></th>\n",
       "      <th></th>\n",
       "      <th></th>\n",
       "      <th></th>\n",
       "      <th></th>\n",
       "      <th></th>\n",
       "    </tr>\n",
       "  </thead>\n",
       "  <tbody>\n",
       "    <tr>\n",
       "      <th>ABEV3</th>\n",
       "      <td>14.226667</td>\n",
       "      <td>1.92827</td>\n",
       "      <td>-0.019766</td>\n",
       "      <td>-0.27</td>\n",
       "      <td>0.043101</td>\n",
       "      <td>0.128111</td>\n",
       "      <td>1.75</td>\n",
       "    </tr>\n",
       "    <tr>\n",
       "      <th>ABEV3</th>\n",
       "      <td>14.226667</td>\n",
       "      <td>1.92827</td>\n",
       "      <td>-0.019766</td>\n",
       "      <td>-0.27</td>\n",
       "      <td>0.043101</td>\n",
       "      <td>0.128111</td>\n",
       "      <td>1.75</td>\n",
       "    </tr>\n",
       "    <tr>\n",
       "      <th>ABEV3</th>\n",
       "      <td>14.226667</td>\n",
       "      <td>1.92827</td>\n",
       "      <td>-0.019766</td>\n",
       "      <td>-0.27</td>\n",
       "      <td>0.043101</td>\n",
       "      <td>0.128111</td>\n",
       "      <td>1.75</td>\n",
       "    </tr>\n",
       "    <tr>\n",
       "      <th>ABEV3</th>\n",
       "      <td>14.226667</td>\n",
       "      <td>1.92827</td>\n",
       "      <td>-0.019766</td>\n",
       "      <td>-0.27</td>\n",
       "      <td>0.043101</td>\n",
       "      <td>0.128111</td>\n",
       "      <td>1.75</td>\n",
       "    </tr>\n",
       "    <tr>\n",
       "      <th>ABEV3</th>\n",
       "      <td>14.226667</td>\n",
       "      <td>1.92827</td>\n",
       "      <td>-0.019766</td>\n",
       "      <td>-0.27</td>\n",
       "      <td>0.043101</td>\n",
       "      <td>0.128111</td>\n",
       "      <td>1.75</td>\n",
       "    </tr>\n",
       "    <tr>\n",
       "      <th>ABEV3</th>\n",
       "      <td>14.226667</td>\n",
       "      <td>1.92827</td>\n",
       "      <td>-0.019766</td>\n",
       "      <td>-0.27</td>\n",
       "      <td>0.043101</td>\n",
       "      <td>0.128111</td>\n",
       "      <td>1.75</td>\n",
       "    </tr>\n",
       "  </tbody>\n",
       "</table>\n",
       "</div>"
      ],
      "text/plain": [
       "           MÉDIA   SHARPE  MÁXIMO DROW DOWN  MÁXIMO DROW DOWN bruto  \\\n",
       "PAPEL                                                                 \n",
       "ABEV3  14.226667  1.92827         -0.019766                   -0.27   \n",
       "ABEV3  14.226667  1.92827         -0.019766                   -0.27   \n",
       "ABEV3  14.226667  1.92827         -0.019766                   -0.27   \n",
       "ABEV3  14.226667  1.92827         -0.019766                   -0.27   \n",
       "ABEV3  14.226667  1.92827         -0.019766                   -0.27   \n",
       "ABEV3  14.226667  1.92827         -0.019766                   -0.27   \n",
       "\n",
       "       VOLATILIDADE  RENTABILIDADE  GANHO BRUTO R$  \n",
       "PAPEL                                               \n",
       "ABEV3      0.043101       0.128111            1.75  \n",
       "ABEV3      0.043101       0.128111            1.75  \n",
       "ABEV3      0.043101       0.128111            1.75  \n",
       "ABEV3      0.043101       0.128111            1.75  \n",
       "ABEV3      0.043101       0.128111            1.75  \n",
       "ABEV3      0.043101       0.128111            1.75  "
      ]
     },
     "execution_count": 171,
     "metadata": {},
     "output_type": "execute_result"
    }
   ],
   "source": [
    "df.loc[df.index == 'ABEV3', info]"
   ]
  },
  {
   "cell_type": "code",
   "execution_count": 180,
   "metadata": {},
   "outputs": [
    {
     "data": {
      "application/vnd.plotly.v1+json": {
       "config": {
        "plotlyServerURL": "https://plot.ly"
       },
       "data": [
        {
         "marker": {
          "color": "blue"
         },
         "name": "AESB3",
         "type": "bar",
         "x": [
          "MÉDIA",
          "SHARPE",
          "MÁXIMO DROW DOWN",
          "MÁXIMO DROW DOWN bruto",
          "VOLATILIDADE",
          "RENTABILIDADE",
          "GANHO BRUTO R$"
         ],
         "y": [
          [
           10.84,
           2.56,
           -0.02,
           -0.18,
           0.07,
           0.21,
           2.15
          ],
          [
           10.84,
           2.56,
           -0.02,
           -0.18,
           0.07,
           0.21,
           2.15
          ],
          [
           10.84,
           2.56,
           -0.02,
           -0.18,
           0.07,
           0.21,
           2.15
          ],
          [
           10.84,
           2.56,
           -0.02,
           -0.18,
           0.07,
           0.21,
           2.15
          ],
          [
           10.84,
           2.56,
           -0.02,
           -0.18,
           0.07,
           0.21,
           2.15
          ],
          [
           10.84,
           2.56,
           -0.02,
           -0.18,
           0.07,
           0.21,
           2.15
          ]
         ]
        },
        {
         "marker": {
          "color": "blue"
         },
         "name": "ABEV3",
         "type": "bar",
         "x": [
          "MÉDIA",
          "SHARPE",
          "MÁXIMO DROW DOWN",
          "MÁXIMO DROW DOWN bruto",
          "VOLATILIDADE",
          "RENTABILIDADE",
          "GANHO BRUTO R$"
         ],
         "y": [
          [
           14.23,
           1.93,
           -0.02,
           -0.27,
           0.04,
           0.13,
           1.75
          ],
          [
           14.23,
           1.93,
           -0.02,
           -0.27,
           0.04,
           0.13,
           1.75
          ],
          [
           14.23,
           1.93,
           -0.02,
           -0.27,
           0.04,
           0.13,
           1.75
          ],
          [
           14.23,
           1.93,
           -0.02,
           -0.27,
           0.04,
           0.13,
           1.75
          ],
          [
           14.23,
           1.93,
           -0.02,
           -0.27,
           0.04,
           0.13,
           1.75
          ],
          [
           14.23,
           1.93,
           -0.02,
           -0.27,
           0.04,
           0.13,
           1.75
          ]
         ]
        }
       ],
       "layout": {
        "barmode": "group",
        "template": {
         "data": {
          "candlestick": [
           {
            "decreasing": {
             "line": {
              "color": "#000033"
             }
            },
            "increasing": {
             "line": {
              "color": "#000032"
             }
            },
            "type": "candlestick"
           }
          ],
          "contour": [
           {
            "colorscale": [
             [
              0,
              "#000011"
             ],
             [
              0.1111111111111111,
              "#000012"
             ],
             [
              0.2222222222222222,
              "#000013"
             ],
             [
              0.3333333333333333,
              "#000014"
             ],
             [
              0.4444444444444444,
              "#000015"
             ],
             [
              0.5555555555555556,
              "#000016"
             ],
             [
              0.6666666666666666,
              "#000017"
             ],
             [
              0.7777777777777778,
              "#000018"
             ],
             [
              0.8888888888888888,
              "#000019"
             ],
             [
              1,
              "#000020"
             ]
            ],
            "type": "contour"
           }
          ],
          "contourcarpet": [
           {
            "colorscale": [
             [
              0,
              "#000011"
             ],
             [
              0.1111111111111111,
              "#000012"
             ],
             [
              0.2222222222222222,
              "#000013"
             ],
             [
              0.3333333333333333,
              "#000014"
             ],
             [
              0.4444444444444444,
              "#000015"
             ],
             [
              0.5555555555555556,
              "#000016"
             ],
             [
              0.6666666666666666,
              "#000017"
             ],
             [
              0.7777777777777778,
              "#000018"
             ],
             [
              0.8888888888888888,
              "#000019"
             ],
             [
              1,
              "#000020"
             ]
            ],
            "type": "contourcarpet"
           }
          ],
          "heatmap": [
           {
            "colorscale": [
             [
              0,
              "#000011"
             ],
             [
              0.1111111111111111,
              "#000012"
             ],
             [
              0.2222222222222222,
              "#000013"
             ],
             [
              0.3333333333333333,
              "#000014"
             ],
             [
              0.4444444444444444,
              "#000015"
             ],
             [
              0.5555555555555556,
              "#000016"
             ],
             [
              0.6666666666666666,
              "#000017"
             ],
             [
              0.7777777777777778,
              "#000018"
             ],
             [
              0.8888888888888888,
              "#000019"
             ],
             [
              1,
              "#000020"
             ]
            ],
            "type": "heatmap"
           }
          ],
          "histogram2d": [
           {
            "colorscale": [
             [
              0,
              "#000011"
             ],
             [
              0.1111111111111111,
              "#000012"
             ],
             [
              0.2222222222222222,
              "#000013"
             ],
             [
              0.3333333333333333,
              "#000014"
             ],
             [
              0.4444444444444444,
              "#000015"
             ],
             [
              0.5555555555555556,
              "#000016"
             ],
             [
              0.6666666666666666,
              "#000017"
             ],
             [
              0.7777777777777778,
              "#000018"
             ],
             [
              0.8888888888888888,
              "#000019"
             ],
             [
              1,
              "#000020"
             ]
            ],
            "type": "histogram2d"
           }
          ],
          "icicle": [
           {
            "textfont": {
             "color": "white"
            },
            "type": "icicle"
           }
          ],
          "sankey": [
           {
            "textfont": {
             "color": "#000036"
            },
            "type": "sankey"
           }
          ],
          "scatter": [
           {
            "marker": {
             "line": {
              "width": 0
             }
            },
            "type": "scatter"
           }
          ],
          "table": [
           {
            "cells": {
             "fill": {
              "color": "#000038"
             },
             "font": {
              "color": "#000037"
             },
             "line": {
              "color": "#000039"
             }
            },
            "header": {
             "fill": {
              "color": "#000040"
             },
             "font": {
              "color": "#000036"
             },
             "line": {
              "color": "#000039"
             }
            },
            "type": "table"
           }
          ],
          "waterfall": [
           {
            "connector": {
             "line": {
              "color": "#000036",
              "width": 2
             }
            },
            "decreasing": {
             "marker": {
              "color": "#000033"
             }
            },
            "increasing": {
             "marker": {
              "color": "#000032"
             }
            },
            "totals": {
             "marker": {
              "color": "#000034"
             }
            },
            "type": "waterfall"
           }
          ]
         },
         "layout": {
          "coloraxis": {
           "colorscale": [
            [
             0,
             "#000011"
            ],
            [
             0.1111111111111111,
             "#000012"
            ],
            [
             0.2222222222222222,
             "#000013"
            ],
            [
             0.3333333333333333,
             "#000014"
            ],
            [
             0.4444444444444444,
             "#000015"
            ],
            [
             0.5555555555555556,
             "#000016"
            ],
            [
             0.6666666666666666,
             "#000017"
            ],
            [
             0.7777777777777778,
             "#000018"
            ],
            [
             0.8888888888888888,
             "#000019"
            ],
            [
             1,
             "#000020"
            ]
           ]
          },
          "colorscale": {
           "diverging": [
            [
             0,
             "#000021"
            ],
            [
             0.1,
             "#000022"
            ],
            [
             0.2,
             "#000023"
            ],
            [
             0.3,
             "#000024"
            ],
            [
             0.4,
             "#000025"
            ],
            [
             0.5,
             "#000026"
            ],
            [
             0.6,
             "#000027"
            ],
            [
             0.7,
             "#000028"
            ],
            [
             0.8,
             "#000029"
            ],
            [
             0.9,
             "#000030"
            ],
            [
             1,
             "#000031"
            ]
           ],
           "sequential": [
            [
             0,
             "#000011"
            ],
            [
             0.1111111111111111,
             "#000012"
            ],
            [
             0.2222222222222222,
             "#000013"
            ],
            [
             0.3333333333333333,
             "#000014"
            ],
            [
             0.4444444444444444,
             "#000015"
            ],
            [
             0.5555555555555556,
             "#000016"
            ],
            [
             0.6666666666666666,
             "#000017"
            ],
            [
             0.7777777777777778,
             "#000018"
            ],
            [
             0.8888888888888888,
             "#000019"
            ],
            [
             1,
             "#000020"
            ]
           ],
           "sequentialminus": [
            [
             0,
             "#000011"
            ],
            [
             0.1111111111111111,
             "#000012"
            ],
            [
             0.2222222222222222,
             "#000013"
            ],
            [
             0.3333333333333333,
             "#000014"
            ],
            [
             0.4444444444444444,
             "#000015"
            ],
            [
             0.5555555555555556,
             "#000016"
            ],
            [
             0.6666666666666666,
             "#000017"
            ],
            [
             0.7777777777777778,
             "#000018"
            ],
            [
             0.8888888888888888,
             "#000019"
            ],
            [
             1,
             "#000020"
            ]
           ]
          },
          "colorway": [
           "#000001",
           "#000002",
           "#000003",
           "#000004",
           "#000005",
           "#000006",
           "#000007",
           "#000008",
           "#000009",
           "#000010"
          ]
         }
        },
        "title": {
         "text": "Valores Máximos por Indicador e Ação"
        },
        "xaxis": {
         "title": {
          "text": "Informações"
         }
        },
        "yaxis": {
         "title": {
          "text": "Valor"
         }
        }
       }
      }
     },
     "metadata": {},
     "output_type": "display_data"
    }
   ],
   "source": [
    "figura = go.Figure()\n",
    "\n",
    "# Adiciona barras para cada indicador\n",
    "for acao in lista_acoes:\n",
    "    figura.add_trace(go.Bar(name=acao, x=info, \n",
    "                            y=round(df.loc[df.index == acao, info],2),\n",
    "                            marker_color='blue',)\n",
    "                            )\n",
    "    \n",
    "    \n",
    "# Layout do gráfico\n",
    "figura.update_layout(barmode='group', title='Valores Máximos por Indicador e Ação',\n",
    "                     xaxis_title='Informações', yaxis_title='Valor',)\n",
    "figura.show()"
   ]
  },
  {
   "cell_type": "code",
   "execution_count": 152,
   "metadata": {},
   "outputs": [
    {
     "data": {
      "application/vnd.plotly.v1+json": {
       "config": {
        "plotlyServerURL": "https://plot.ly"
       },
       "data": [
        {
         "marker": {
          "color": "blue"
         },
         "name": "VALE3",
         "type": "bar",
         "x": [
          "MÉDIA"
         ],
         "y": [
          76.76
         ]
        },
        {
         "marker": {
          "color": "blue"
         },
         "name": "POMO4",
         "type": "bar",
         "x": [
          "SHARPE"
         ],
         "y": [
          6.32
         ]
        },
        {
         "marker": {
          "color": "blue"
         },
         "name": "POMO4",
         "type": "bar",
         "x": [
          "MÁXIMO DROW DOWN"
         ],
         "y": [
          0
         ]
        },
        {
         "marker": {
          "color": "blue"
         },
         "name": "POMO4",
         "type": "bar",
         "x": [
          "MÁXIMO DROW DOWN bruto"
         ],
         "y": [
          0
         ]
        },
        {
         "marker": {
          "color": "blue"
         },
         "name": "AZUL4",
         "type": "bar",
         "x": [
          "VOLATILIDADE"
         ],
         "y": [
          0.45
         ]
        },
        {
         "marker": {
          "color": "blue"
         },
         "name": "YDUQ3",
         "type": "bar",
         "x": [
          "RENTABILIDADE"
         ],
         "y": [
          0.92
         ]
        },
        {
         "marker": {
          "color": "blue"
         },
         "name": "AZUL4",
         "type": "bar",
         "x": [
          "GANHO BRUTO R$"
         ],
         "y": [
          10.01
         ]
        }
       ],
       "layout": {
        "barmode": "group",
        "template": {
         "data": {
          "candlestick": [
           {
            "decreasing": {
             "line": {
              "color": "#000033"
             }
            },
            "increasing": {
             "line": {
              "color": "#000032"
             }
            },
            "type": "candlestick"
           }
          ],
          "contour": [
           {
            "colorscale": [
             [
              0,
              "#000011"
             ],
             [
              0.1111111111111111,
              "#000012"
             ],
             [
              0.2222222222222222,
              "#000013"
             ],
             [
              0.3333333333333333,
              "#000014"
             ],
             [
              0.4444444444444444,
              "#000015"
             ],
             [
              0.5555555555555556,
              "#000016"
             ],
             [
              0.6666666666666666,
              "#000017"
             ],
             [
              0.7777777777777778,
              "#000018"
             ],
             [
              0.8888888888888888,
              "#000019"
             ],
             [
              1,
              "#000020"
             ]
            ],
            "type": "contour"
           }
          ],
          "contourcarpet": [
           {
            "colorscale": [
             [
              0,
              "#000011"
             ],
             [
              0.1111111111111111,
              "#000012"
             ],
             [
              0.2222222222222222,
              "#000013"
             ],
             [
              0.3333333333333333,
              "#000014"
             ],
             [
              0.4444444444444444,
              "#000015"
             ],
             [
              0.5555555555555556,
              "#000016"
             ],
             [
              0.6666666666666666,
              "#000017"
             ],
             [
              0.7777777777777778,
              "#000018"
             ],
             [
              0.8888888888888888,
              "#000019"
             ],
             [
              1,
              "#000020"
             ]
            ],
            "type": "contourcarpet"
           }
          ],
          "heatmap": [
           {
            "colorscale": [
             [
              0,
              "#000011"
             ],
             [
              0.1111111111111111,
              "#000012"
             ],
             [
              0.2222222222222222,
              "#000013"
             ],
             [
              0.3333333333333333,
              "#000014"
             ],
             [
              0.4444444444444444,
              "#000015"
             ],
             [
              0.5555555555555556,
              "#000016"
             ],
             [
              0.6666666666666666,
              "#000017"
             ],
             [
              0.7777777777777778,
              "#000018"
             ],
             [
              0.8888888888888888,
              "#000019"
             ],
             [
              1,
              "#000020"
             ]
            ],
            "type": "heatmap"
           }
          ],
          "histogram2d": [
           {
            "colorscale": [
             [
              0,
              "#000011"
             ],
             [
              0.1111111111111111,
              "#000012"
             ],
             [
              0.2222222222222222,
              "#000013"
             ],
             [
              0.3333333333333333,
              "#000014"
             ],
             [
              0.4444444444444444,
              "#000015"
             ],
             [
              0.5555555555555556,
              "#000016"
             ],
             [
              0.6666666666666666,
              "#000017"
             ],
             [
              0.7777777777777778,
              "#000018"
             ],
             [
              0.8888888888888888,
              "#000019"
             ],
             [
              1,
              "#000020"
             ]
            ],
            "type": "histogram2d"
           }
          ],
          "icicle": [
           {
            "textfont": {
             "color": "white"
            },
            "type": "icicle"
           }
          ],
          "sankey": [
           {
            "textfont": {
             "color": "#000036"
            },
            "type": "sankey"
           }
          ],
          "scatter": [
           {
            "marker": {
             "line": {
              "width": 0
             }
            },
            "type": "scatter"
           }
          ],
          "table": [
           {
            "cells": {
             "fill": {
              "color": "#000038"
             },
             "font": {
              "color": "#000037"
             },
             "line": {
              "color": "#000039"
             }
            },
            "header": {
             "fill": {
              "color": "#000040"
             },
             "font": {
              "color": "#000036"
             },
             "line": {
              "color": "#000039"
             }
            },
            "type": "table"
           }
          ],
          "waterfall": [
           {
            "connector": {
             "line": {
              "color": "#000036",
              "width": 2
             }
            },
            "decreasing": {
             "marker": {
              "color": "#000033"
             }
            },
            "increasing": {
             "marker": {
              "color": "#000032"
             }
            },
            "totals": {
             "marker": {
              "color": "#000034"
             }
            },
            "type": "waterfall"
           }
          ]
         },
         "layout": {
          "coloraxis": {
           "colorscale": [
            [
             0,
             "#000011"
            ],
            [
             0.1111111111111111,
             "#000012"
            ],
            [
             0.2222222222222222,
             "#000013"
            ],
            [
             0.3333333333333333,
             "#000014"
            ],
            [
             0.4444444444444444,
             "#000015"
            ],
            [
             0.5555555555555556,
             "#000016"
            ],
            [
             0.6666666666666666,
             "#000017"
            ],
            [
             0.7777777777777778,
             "#000018"
            ],
            [
             0.8888888888888888,
             "#000019"
            ],
            [
             1,
             "#000020"
            ]
           ]
          },
          "colorscale": {
           "diverging": [
            [
             0,
             "#000021"
            ],
            [
             0.1,
             "#000022"
            ],
            [
             0.2,
             "#000023"
            ],
            [
             0.3,
             "#000024"
            ],
            [
             0.4,
             "#000025"
            ],
            [
             0.5,
             "#000026"
            ],
            [
             0.6,
             "#000027"
            ],
            [
             0.7,
             "#000028"
            ],
            [
             0.8,
             "#000029"
            ],
            [
             0.9,
             "#000030"
            ],
            [
             1,
             "#000031"
            ]
           ],
           "sequential": [
            [
             0,
             "#000011"
            ],
            [
             0.1111111111111111,
             "#000012"
            ],
            [
             0.2222222222222222,
             "#000013"
            ],
            [
             0.3333333333333333,
             "#000014"
            ],
            [
             0.4444444444444444,
             "#000015"
            ],
            [
             0.5555555555555556,
             "#000016"
            ],
            [
             0.6666666666666666,
             "#000017"
            ],
            [
             0.7777777777777778,
             "#000018"
            ],
            [
             0.8888888888888888,
             "#000019"
            ],
            [
             1,
             "#000020"
            ]
           ],
           "sequentialminus": [
            [
             0,
             "#000011"
            ],
            [
             0.1111111111111111,
             "#000012"
            ],
            [
             0.2222222222222222,
             "#000013"
            ],
            [
             0.3333333333333333,
             "#000014"
            ],
            [
             0.4444444444444444,
             "#000015"
            ],
            [
             0.5555555555555556,
             "#000016"
            ],
            [
             0.6666666666666666,
             "#000017"
            ],
            [
             0.7777777777777778,
             "#000018"
            ],
            [
             0.8888888888888888,
             "#000019"
            ],
            [
             1,
             "#000020"
            ]
           ]
          },
          "colorway": [
           "#000001",
           "#000002",
           "#000003",
           "#000004",
           "#000005",
           "#000006",
           "#000007",
           "#000008",
           "#000009",
           "#000010"
          ]
         }
        },
        "title": {
         "text": "Valores Máximos por Indicador e Ação"
        },
        "xaxis": {
         "title": {
          "text": "Indicadores"
         }
        },
        "yaxis": {
         "title": {
          "text": "Valor"
         }
        }
       }
      }
     },
     "metadata": {},
     "output_type": "display_data"
    }
   ],
   "source": [
    "info = ['MÉDIA', 'SHARPE', 'MÁXIMO DROW DOWN', 'MÁXIMO DROW DOWN bruto', 'VOLATILIDADE', 'RENTABILIDADE', 'GANHO BRUTO R$']\n",
    "best_tickers = ['VALE3', 'POMO4', 'POMO4', 'POMO4', 'AZUL4', 'YDUQ3', 'AZUL4']\n",
    "max_values = [76.76, 6.32, 0.0, 0.0, 0.45, 0.92, 10.01]\n",
    "\n",
    "# Criação do gráfico de barras empilhadas\n",
    "figura = go.Figure()\n",
    "\n",
    "# Adiciona barras para cada indicador\n",
    "for i, informacao in enumerate(info):\n",
    "    # Use best_tickers[i] como o valor para o eixo x\n",
    "    text_values = [f\"{informacao}: {value}\" for value in max_values]\n",
    "    figura.add_trace(go.Bar(name=best_tickers[i], x=[informacao], y=[max_values[i]], marker_color='blue'))\n",
    "\n",
    "# Layout do gráfico\n",
    "# figura.update_traces(hoverinfo='text+y+x')\n",
    "figura.update_layout(barmode='group', title='Valores Máximos por Indicador e Ação',\n",
    "                     xaxis_title='Indicadores', yaxis_title='Valor')\n",
    "\n",
    "# Exibe o gráfico\n",
    "figura.show()"
   ]
  },
  {
   "cell_type": "code",
   "execution_count": 184,
   "metadata": {},
   "outputs": [
    {
     "data": {
      "application/vnd.plotly.v1+json": {
       "config": {
        "plotlyServerURL": "https://plot.ly"
       },
       "data": [
        {
         "marker": {
          "color": "blue"
         },
         "name": "ABEV3",
         "type": "bar",
         "x": [
          "MÉDIA",
          "SHARPE",
          "MÁXIMO DROW DOWN",
          "MÁXIMO DROW DOWN bruto",
          "VOLATILIDADE",
          "RENTABILIDADE",
          "GANHO BRUTO R$"
         ],
         "y": [
          [
           14.23,
           1.93,
           -0.02,
           -0.27,
           0.04,
           0.13,
           1.75
          ],
          [
           14.23,
           1.93,
           -0.02,
           -0.27,
           0.04,
           0.13,
           1.75
          ],
          [
           14.23,
           1.93,
           -0.02,
           -0.27,
           0.04,
           0.13,
           1.75
          ],
          [
           14.23,
           1.93,
           -0.02,
           -0.27,
           0.04,
           0.13,
           1.75
          ],
          [
           14.23,
           1.93,
           -0.02,
           -0.27,
           0.04,
           0.13,
           1.75
          ],
          [
           14.23,
           1.93,
           -0.02,
           -0.27,
           0.04,
           0.13,
           1.75
          ]
         ]
        },
        {
         "marker": {
          "color": "blue"
         },
         "name": "YDUQ3",
         "type": "bar",
         "x": [
          "MÉDIA",
          "SHARPE",
          "MÁXIMO DROW DOWN",
          "MÁXIMO DROW DOWN bruto",
          "VOLATILIDADE",
          "RENTABILIDADE",
          "GANHO BRUTO R$"
         ],
         "y": [
          [
           11.07,
           2.19,
           -0.32,
           -3.28,
           0.4,
           0.92,
           9.49
          ],
          [
           11.07,
           2.19,
           -0.32,
           -3.28,
           0.4,
           0.92,
           9.49
          ],
          [
           11.07,
           2.19,
           -0.32,
           -3.28,
           0.4,
           0.92,
           9.49
          ],
          [
           11.07,
           2.19,
           -0.32,
           -3.28,
           0.4,
           0.92,
           9.49
          ],
          [
           11.07,
           2.19,
           -0.32,
           -3.28,
           0.4,
           0.92,
           9.49
          ],
          [
           11.07,
           2.19,
           -0.32,
           -3.28,
           0.4,
           0.92,
           9.49
          ]
         ]
        },
        {
         "marker": {
          "color": "blue"
         },
         "name": "AZUL4",
         "type": "bar",
         "x": [
          "MÉDIA",
          "SHARPE",
          "MÁXIMO DROW DOWN",
          "MÁXIMO DROW DOWN bruto",
          "VOLATILIDADE",
          "RENTABILIDADE",
          "GANHO BRUTO R$"
         ],
         "y": [
          [
           13.43,
           1.77,
           -0.4,
           -4.72,
           0.45,
           0.84,
           10.01
          ],
          [
           13.43,
           1.77,
           -0.4,
           -4.72,
           0.45,
           0.84,
           10.01
          ],
          [
           13.43,
           1.77,
           -0.4,
           -4.72,
           0.45,
           0.84,
           10.01
          ],
          [
           13.43,
           1.77,
           -0.4,
           -4.72,
           0.45,
           0.84,
           10.01
          ],
          [
           13.43,
           1.77,
           -0.4,
           -4.72,
           0.45,
           0.84,
           10.01
          ],
          [
           13.43,
           1.77,
           -0.4,
           -4.72,
           0.45,
           0.84,
           10.01
          ]
         ]
        }
       ],
       "layout": {
        "barmode": "group",
        "template": {
         "data": {
          "candlestick": [
           {
            "decreasing": {
             "line": {
              "color": "#000033"
             }
            },
            "increasing": {
             "line": {
              "color": "#000032"
             }
            },
            "type": "candlestick"
           }
          ],
          "contour": [
           {
            "colorscale": [
             [
              0,
              "#000011"
             ],
             [
              0.1111111111111111,
              "#000012"
             ],
             [
              0.2222222222222222,
              "#000013"
             ],
             [
              0.3333333333333333,
              "#000014"
             ],
             [
              0.4444444444444444,
              "#000015"
             ],
             [
              0.5555555555555556,
              "#000016"
             ],
             [
              0.6666666666666666,
              "#000017"
             ],
             [
              0.7777777777777778,
              "#000018"
             ],
             [
              0.8888888888888888,
              "#000019"
             ],
             [
              1,
              "#000020"
             ]
            ],
            "type": "contour"
           }
          ],
          "contourcarpet": [
           {
            "colorscale": [
             [
              0,
              "#000011"
             ],
             [
              0.1111111111111111,
              "#000012"
             ],
             [
              0.2222222222222222,
              "#000013"
             ],
             [
              0.3333333333333333,
              "#000014"
             ],
             [
              0.4444444444444444,
              "#000015"
             ],
             [
              0.5555555555555556,
              "#000016"
             ],
             [
              0.6666666666666666,
              "#000017"
             ],
             [
              0.7777777777777778,
              "#000018"
             ],
             [
              0.8888888888888888,
              "#000019"
             ],
             [
              1,
              "#000020"
             ]
            ],
            "type": "contourcarpet"
           }
          ],
          "heatmap": [
           {
            "colorscale": [
             [
              0,
              "#000011"
             ],
             [
              0.1111111111111111,
              "#000012"
             ],
             [
              0.2222222222222222,
              "#000013"
             ],
             [
              0.3333333333333333,
              "#000014"
             ],
             [
              0.4444444444444444,
              "#000015"
             ],
             [
              0.5555555555555556,
              "#000016"
             ],
             [
              0.6666666666666666,
              "#000017"
             ],
             [
              0.7777777777777778,
              "#000018"
             ],
             [
              0.8888888888888888,
              "#000019"
             ],
             [
              1,
              "#000020"
             ]
            ],
            "type": "heatmap"
           }
          ],
          "histogram2d": [
           {
            "colorscale": [
             [
              0,
              "#000011"
             ],
             [
              0.1111111111111111,
              "#000012"
             ],
             [
              0.2222222222222222,
              "#000013"
             ],
             [
              0.3333333333333333,
              "#000014"
             ],
             [
              0.4444444444444444,
              "#000015"
             ],
             [
              0.5555555555555556,
              "#000016"
             ],
             [
              0.6666666666666666,
              "#000017"
             ],
             [
              0.7777777777777778,
              "#000018"
             ],
             [
              0.8888888888888888,
              "#000019"
             ],
             [
              1,
              "#000020"
             ]
            ],
            "type": "histogram2d"
           }
          ],
          "icicle": [
           {
            "textfont": {
             "color": "white"
            },
            "type": "icicle"
           }
          ],
          "sankey": [
           {
            "textfont": {
             "color": "#000036"
            },
            "type": "sankey"
           }
          ],
          "scatter": [
           {
            "marker": {
             "line": {
              "width": 0
             }
            },
            "type": "scatter"
           }
          ],
          "table": [
           {
            "cells": {
             "fill": {
              "color": "#000038"
             },
             "font": {
              "color": "#000037"
             },
             "line": {
              "color": "#000039"
             }
            },
            "header": {
             "fill": {
              "color": "#000040"
             },
             "font": {
              "color": "#000036"
             },
             "line": {
              "color": "#000039"
             }
            },
            "type": "table"
           }
          ],
          "waterfall": [
           {
            "connector": {
             "line": {
              "color": "#000036",
              "width": 2
             }
            },
            "decreasing": {
             "marker": {
              "color": "#000033"
             }
            },
            "increasing": {
             "marker": {
              "color": "#000032"
             }
            },
            "totals": {
             "marker": {
              "color": "#000034"
             }
            },
            "type": "waterfall"
           }
          ]
         },
         "layout": {
          "coloraxis": {
           "colorscale": [
            [
             0,
             "#000011"
            ],
            [
             0.1111111111111111,
             "#000012"
            ],
            [
             0.2222222222222222,
             "#000013"
            ],
            [
             0.3333333333333333,
             "#000014"
            ],
            [
             0.4444444444444444,
             "#000015"
            ],
            [
             0.5555555555555556,
             "#000016"
            ],
            [
             0.6666666666666666,
             "#000017"
            ],
            [
             0.7777777777777778,
             "#000018"
            ],
            [
             0.8888888888888888,
             "#000019"
            ],
            [
             1,
             "#000020"
            ]
           ]
          },
          "colorscale": {
           "diverging": [
            [
             0,
             "#000021"
            ],
            [
             0.1,
             "#000022"
            ],
            [
             0.2,
             "#000023"
            ],
            [
             0.3,
             "#000024"
            ],
            [
             0.4,
             "#000025"
            ],
            [
             0.5,
             "#000026"
            ],
            [
             0.6,
             "#000027"
            ],
            [
             0.7,
             "#000028"
            ],
            [
             0.8,
             "#000029"
            ],
            [
             0.9,
             "#000030"
            ],
            [
             1,
             "#000031"
            ]
           ],
           "sequential": [
            [
             0,
             "#000011"
            ],
            [
             0.1111111111111111,
             "#000012"
            ],
            [
             0.2222222222222222,
             "#000013"
            ],
            [
             0.3333333333333333,
             "#000014"
            ],
            [
             0.4444444444444444,
             "#000015"
            ],
            [
             0.5555555555555556,
             "#000016"
            ],
            [
             0.6666666666666666,
             "#000017"
            ],
            [
             0.7777777777777778,
             "#000018"
            ],
            [
             0.8888888888888888,
             "#000019"
            ],
            [
             1,
             "#000020"
            ]
           ],
           "sequentialminus": [
            [
             0,
             "#000011"
            ],
            [
             0.1111111111111111,
             "#000012"
            ],
            [
             0.2222222222222222,
             "#000013"
            ],
            [
             0.3333333333333333,
             "#000014"
            ],
            [
             0.4444444444444444,
             "#000015"
            ],
            [
             0.5555555555555556,
             "#000016"
            ],
            [
             0.6666666666666666,
             "#000017"
            ],
            [
             0.7777777777777778,
             "#000018"
            ],
            [
             0.8888888888888888,
             "#000019"
            ],
            [
             1,
             "#000020"
            ]
           ]
          },
          "colorway": [
           "#000001",
           "#000002",
           "#000003",
           "#000004",
           "#000005",
           "#000006",
           "#000007",
           "#000008",
           "#000009",
           "#000010"
          ]
         }
        },
        "title": {
         "text": "Valores Máximos por Indicador e Ação"
        },
        "xaxis": {
         "title": {
          "text": "Informações"
         }
        },
        "yaxis": {
         "title": {
          "text": "Valor"
         }
        }
       }
      }
     },
     "metadata": {},
     "output_type": "display_data"
    }
   ],
   "source": [
    "tickers = ['ABEV3', 'YDUQ3','AZUL4']\n",
    "best_tickers = df.loc[: , ['MÉDIA' ,'SHARPE', 'MÁXIMO DROW DOWN', 'MÁXIMO DROW DOWN bruto', 'VOLATILIDADE', 'RENTABILIDADE', 'GANHO BRUTO R$']].idxmax().values\n",
    "\n",
    "max_values = df.loc[: , ['MÉDIA' ,'SHARPE', 'MÁXIMO DROW DOWN', 'MÁXIMO DROW DOWN bruto', 'VOLATILIDADE', 'RENTABILIDADE', 'GANHO BRUTO R$']].max().values\n",
    "info = df.loc[: , ['MÉDIA' ,'SHARPE', 'MÁXIMO DROW DOWN', 'MÁXIMO DROW DOWN bruto', 'VOLATILIDADE', 'RENTABILIDADE', 'GANHO BRUTO R$']].max().index.values\n",
    "\n",
    "acoes_selecionadas = tickers\n",
    "acoes_selecionadas\n",
    "info\n",
    "figura = go.Figure()\n",
    "\n",
    "# Adiciona barras para cada indicador\n",
    "for acao in acoes_selecionadas:\n",
    "    figura.add_trace(go.Bar(name=acao, x=info, \n",
    "                            y=round(df.loc[df.index == acao, info],2),\n",
    "                            marker_color='blue',)\n",
    "                            )\n",
    "    \n",
    "    \n",
    "# Layout do gráfico\n",
    "figura.update_layout(barmode='group', title='Valores Máximos por Indicador e Ação',\n",
    "                    xaxis_title='Informações', yaxis_title='Valor',)\n",
    "# st.plotly_chart(figura)\n",
    "figura.show()"
   ]
  },
  {
   "cell_type": "code",
   "execution_count": null,
   "metadata": {},
   "outputs": [],
   "source": [
    "todos_tickers = df.index\n",
    "todos_tickers = todos_tickers.value_counts().index\n",
    "todos_tickers"
   ]
  },
  {
   "cell_type": "code",
   "execution_count": 210,
   "metadata": {},
   "outputs": [
    {
     "data": {
      "text/html": [
       "<div>\n",
       "<style scoped>\n",
       "    .dataframe tbody tr th:only-of-type {\n",
       "        vertical-align: middle;\n",
       "    }\n",
       "\n",
       "    .dataframe tbody tr th {\n",
       "        vertical-align: top;\n",
       "    }\n",
       "\n",
       "    .dataframe thead th {\n",
       "        text-align: right;\n",
       "    }\n",
       "</style>\n",
       "<table border=\"1\" class=\"dataframe\">\n",
       "  <thead>\n",
       "    <tr style=\"text-align: right;\">\n",
       "      <th></th>\n",
       "      <th>DATA</th>\n",
       "      <th>NOME</th>\n",
       "      <th>PREÇO (R$)</th>\n",
       "      <th>SETOR ECONÔMICO</th>\n",
       "      <th>SUBSETOR</th>\n",
       "      <th>SEGMENTO</th>\n",
       "      <th>IPCA</th>\n",
       "      <th>SELIC</th>\n",
       "      <th>USD</th>\n",
       "      <th>RETORNOS_SIMPLES</th>\n",
       "      <th>RETORNOS_LOGARITIMOS</th>\n",
       "      <th>RETORNOS_ACUMULADOS</th>\n",
       "    </tr>\n",
       "    <tr>\n",
       "      <th>PAPEL</th>\n",
       "      <th></th>\n",
       "      <th></th>\n",
       "      <th></th>\n",
       "      <th></th>\n",
       "      <th></th>\n",
       "      <th></th>\n",
       "      <th></th>\n",
       "      <th></th>\n",
       "      <th></th>\n",
       "      <th></th>\n",
       "      <th></th>\n",
       "      <th></th>\n",
       "    </tr>\n",
       "  </thead>\n",
       "  <tbody>\n",
       "    <tr>\n",
       "      <th>ABEV3</th>\n",
       "      <td>2023-01-31</td>\n",
       "      <td>AMBEV S/A</td>\n",
       "      <td>13.66</td>\n",
       "      <td>Consumo não Cíclico</td>\n",
       "      <td>Bebidas</td>\n",
       "      <td>Cervejas e Refrigerantes</td>\n",
       "      <td>0.0053</td>\n",
       "      <td>0.0112</td>\n",
       "      <td>5.0987</td>\n",
       "      <td>NaN</td>\n",
       "      <td>NaN</td>\n",
       "      <td>NaN</td>\n",
       "    </tr>\n",
       "    <tr>\n",
       "      <th>ABEV3</th>\n",
       "      <td>2023-02-28</td>\n",
       "      <td>AMBEV S/A</td>\n",
       "      <td>13.39</td>\n",
       "      <td>Consumo não Cíclico</td>\n",
       "      <td>Bebidas</td>\n",
       "      <td>Cervejas e Refrigerantes</td>\n",
       "      <td>0.0084</td>\n",
       "      <td>0.0092</td>\n",
       "      <td>5.2072</td>\n",
       "      <td>-0.019766</td>\n",
       "      <td>-0.019964</td>\n",
       "      <td>-0.019766</td>\n",
       "    </tr>\n",
       "    <tr>\n",
       "      <th>ABEV3</th>\n",
       "      <td>2023-03-31</td>\n",
       "      <td>AMBEV S/A</td>\n",
       "      <td>14.33</td>\n",
       "      <td>Consumo não Cíclico</td>\n",
       "      <td>Bebidas</td>\n",
       "      <td>Cervejas e Refrigerantes</td>\n",
       "      <td>0.0071</td>\n",
       "      <td>0.0117</td>\n",
       "      <td>5.0798</td>\n",
       "      <td>0.070202</td>\n",
       "      <td>0.067847</td>\n",
       "      <td>0.049048</td>\n",
       "    </tr>\n",
       "    <tr>\n",
       "      <th>ABEV3</th>\n",
       "      <td>2023-04-30</td>\n",
       "      <td>AMBEV S/A</td>\n",
       "      <td>14.16</td>\n",
       "      <td>Consumo não Cíclico</td>\n",
       "      <td>Bebidas</td>\n",
       "      <td>Cervejas e Refrigerantes</td>\n",
       "      <td>0.0061</td>\n",
       "      <td>0.0092</td>\n",
       "      <td>5.0001</td>\n",
       "      <td>-0.011863</td>\n",
       "      <td>-0.011934</td>\n",
       "      <td>0.036603</td>\n",
       "    </tr>\n",
       "    <tr>\n",
       "      <th>ABEV3</th>\n",
       "      <td>2023-05-31</td>\n",
       "      <td>AMBEV S/A</td>\n",
       "      <td>14.41</td>\n",
       "      <td>Consumo não Cíclico</td>\n",
       "      <td>Bebidas</td>\n",
       "      <td>Cervejas e Refrigerantes</td>\n",
       "      <td>0.0023</td>\n",
       "      <td>0.0112</td>\n",
       "      <td>5.0953</td>\n",
       "      <td>0.017655</td>\n",
       "      <td>0.017501</td>\n",
       "      <td>0.054905</td>\n",
       "    </tr>\n",
       "    <tr>\n",
       "      <th>...</th>\n",
       "      <td>...</td>\n",
       "      <td>...</td>\n",
       "      <td>...</td>\n",
       "      <td>...</td>\n",
       "      <td>...</td>\n",
       "      <td>...</td>\n",
       "      <td>...</td>\n",
       "      <td>...</td>\n",
       "      <td>...</td>\n",
       "      <td>...</td>\n",
       "      <td>...</td>\n",
       "      <td>...</td>\n",
       "    </tr>\n",
       "    <tr>\n",
       "      <th>YDUQ3</th>\n",
       "      <td>2023-02-28</td>\n",
       "      <td>YDUQS PART</td>\n",
       "      <td>7.05</td>\n",
       "      <td>Consumo Cíclico</td>\n",
       "      <td>Diversos</td>\n",
       "      <td>Serviços Educacionais</td>\n",
       "      <td>0.0084</td>\n",
       "      <td>0.0092</td>\n",
       "      <td>5.2072</td>\n",
       "      <td>-0.317522</td>\n",
       "      <td>-0.382025</td>\n",
       "      <td>-0.317522</td>\n",
       "    </tr>\n",
       "    <tr>\n",
       "      <th>YDUQ3</th>\n",
       "      <td>2023-03-31</td>\n",
       "      <td>YDUQS PART</td>\n",
       "      <td>7.05</td>\n",
       "      <td>Consumo Cíclico</td>\n",
       "      <td>Diversos</td>\n",
       "      <td>Serviços Educacionais</td>\n",
       "      <td>0.0071</td>\n",
       "      <td>0.0117</td>\n",
       "      <td>5.0798</td>\n",
       "      <td>0.000000</td>\n",
       "      <td>0.000000</td>\n",
       "      <td>-0.317522</td>\n",
       "    </tr>\n",
       "    <tr>\n",
       "      <th>YDUQ3</th>\n",
       "      <td>2023-04-30</td>\n",
       "      <td>YDUQS PART</td>\n",
       "      <td>8.12</td>\n",
       "      <td>Consumo Cíclico</td>\n",
       "      <td>Diversos</td>\n",
       "      <td>Serviços Educacionais</td>\n",
       "      <td>0.0061</td>\n",
       "      <td>0.0092</td>\n",
       "      <td>5.0001</td>\n",
       "      <td>0.151773</td>\n",
       "      <td>0.141303</td>\n",
       "      <td>-0.213940</td>\n",
       "    </tr>\n",
       "    <tr>\n",
       "      <th>YDUQ3</th>\n",
       "      <td>2023-05-31</td>\n",
       "      <td>YDUQS PART</td>\n",
       "      <td>14.07</td>\n",
       "      <td>Consumo Cíclico</td>\n",
       "      <td>Diversos</td>\n",
       "      <td>Serviços Educacionais</td>\n",
       "      <td>0.0023</td>\n",
       "      <td>0.0112</td>\n",
       "      <td>5.0953</td>\n",
       "      <td>0.732759</td>\n",
       "      <td>0.549715</td>\n",
       "      <td>0.362052</td>\n",
       "    </tr>\n",
       "    <tr>\n",
       "      <th>YDUQ3</th>\n",
       "      <td>2023-06-30</td>\n",
       "      <td>YDUQS PART</td>\n",
       "      <td>19.82</td>\n",
       "      <td>Consumo Cíclico</td>\n",
       "      <td>Diversos</td>\n",
       "      <td>Serviços Educacionais</td>\n",
       "      <td>-0.0008</td>\n",
       "      <td>0.0107</td>\n",
       "      <td>4.8186</td>\n",
       "      <td>0.408671</td>\n",
       "      <td>0.342647</td>\n",
       "      <td>0.918683</td>\n",
       "    </tr>\n",
       "  </tbody>\n",
       "</table>\n",
       "<p>528 rows × 12 columns</p>\n",
       "</div>"
      ],
      "text/plain": [
       "            DATA        NOME  PREÇO (R$)      SETOR ECONÔMICO  SUBSETOR  \\\n",
       "PAPEL                                                                     \n",
       "ABEV3 2023-01-31   AMBEV S/A       13.66  Consumo não Cíclico   Bebidas   \n",
       "ABEV3 2023-02-28   AMBEV S/A       13.39  Consumo não Cíclico   Bebidas   \n",
       "ABEV3 2023-03-31   AMBEV S/A       14.33  Consumo não Cíclico   Bebidas   \n",
       "ABEV3 2023-04-30   AMBEV S/A       14.16  Consumo não Cíclico   Bebidas   \n",
       "ABEV3 2023-05-31   AMBEV S/A       14.41  Consumo não Cíclico   Bebidas   \n",
       "...          ...         ...         ...                  ...       ...   \n",
       "YDUQ3 2023-02-28  YDUQS PART        7.05      Consumo Cíclico  Diversos   \n",
       "YDUQ3 2023-03-31  YDUQS PART        7.05      Consumo Cíclico  Diversos   \n",
       "YDUQ3 2023-04-30  YDUQS PART        8.12      Consumo Cíclico  Diversos   \n",
       "YDUQ3 2023-05-31  YDUQS PART       14.07      Consumo Cíclico  Diversos   \n",
       "YDUQ3 2023-06-30  YDUQS PART       19.82      Consumo Cíclico  Diversos   \n",
       "\n",
       "                       SEGMENTO    IPCA   SELIC     USD  RETORNOS_SIMPLES  \\\n",
       "PAPEL                                                                       \n",
       "ABEV3  Cervejas e Refrigerantes  0.0053  0.0112  5.0987               NaN   \n",
       "ABEV3  Cervejas e Refrigerantes  0.0084  0.0092  5.2072         -0.019766   \n",
       "ABEV3  Cervejas e Refrigerantes  0.0071  0.0117  5.0798          0.070202   \n",
       "ABEV3  Cervejas e Refrigerantes  0.0061  0.0092  5.0001         -0.011863   \n",
       "ABEV3  Cervejas e Refrigerantes  0.0023  0.0112  5.0953          0.017655   \n",
       "...                         ...     ...     ...     ...               ...   \n",
       "YDUQ3     Serviços Educacionais  0.0084  0.0092  5.2072         -0.317522   \n",
       "YDUQ3     Serviços Educacionais  0.0071  0.0117  5.0798          0.000000   \n",
       "YDUQ3     Serviços Educacionais  0.0061  0.0092  5.0001          0.151773   \n",
       "YDUQ3     Serviços Educacionais  0.0023  0.0112  5.0953          0.732759   \n",
       "YDUQ3     Serviços Educacionais -0.0008  0.0107  4.8186          0.408671   \n",
       "\n",
       "       RETORNOS_LOGARITIMOS  RETORNOS_ACUMULADOS  \n",
       "PAPEL                                             \n",
       "ABEV3                   NaN                  NaN  \n",
       "ABEV3             -0.019964            -0.019766  \n",
       "ABEV3              0.067847             0.049048  \n",
       "ABEV3             -0.011934             0.036603  \n",
       "ABEV3              0.017501             0.054905  \n",
       "...                     ...                  ...  \n",
       "YDUQ3             -0.382025            -0.317522  \n",
       "YDUQ3              0.000000            -0.317522  \n",
       "YDUQ3              0.141303            -0.213940  \n",
       "YDUQ3              0.549715             0.362052  \n",
       "YDUQ3              0.342647             0.918683  \n",
       "\n",
       "[528 rows x 12 columns]"
      ]
     },
     "execution_count": 210,
     "metadata": {},
     "output_type": "execute_result"
    }
   ],
   "source": [
    "df_completo"
   ]
  },
  {
   "cell_type": "code",
   "execution_count": 223,
   "metadata": {},
   "outputs": [
    {
     "data": {
      "application/vnd.plotly.v1+json": {
       "config": {
        "plotlyServerURL": "https://plot.ly"
       },
       "data": [
        {
         "name": "gold",
         "type": "bar",
         "x": [
          "South Korea",
          "China",
          "Canada"
         ],
         "y": [
          24,
          10,
          9
         ]
        },
        {
         "name": "silver",
         "type": "bar",
         "x": [
          "South Korea",
          "China",
          "Canada"
         ],
         "y": [
          13,
          15,
          12
         ]
        },
        {
         "name": "bronze",
         "type": "bar",
         "x": [
          "South Korea",
          "China",
          "Canada"
         ],
         "y": [
          11,
          8,
          12
         ]
        }
       ],
       "layout": {
        "barcornerradius": 15,
        "template": {
         "data": {
          "candlestick": [
           {
            "decreasing": {
             "line": {
              "color": "#000033"
             }
            },
            "increasing": {
             "line": {
              "color": "#000032"
             }
            },
            "type": "candlestick"
           }
          ],
          "contour": [
           {
            "colorscale": [
             [
              0,
              "#000011"
             ],
             [
              0.1111111111111111,
              "#000012"
             ],
             [
              0.2222222222222222,
              "#000013"
             ],
             [
              0.3333333333333333,
              "#000014"
             ],
             [
              0.4444444444444444,
              "#000015"
             ],
             [
              0.5555555555555556,
              "#000016"
             ],
             [
              0.6666666666666666,
              "#000017"
             ],
             [
              0.7777777777777778,
              "#000018"
             ],
             [
              0.8888888888888888,
              "#000019"
             ],
             [
              1,
              "#000020"
             ]
            ],
            "type": "contour"
           }
          ],
          "contourcarpet": [
           {
            "colorscale": [
             [
              0,
              "#000011"
             ],
             [
              0.1111111111111111,
              "#000012"
             ],
             [
              0.2222222222222222,
              "#000013"
             ],
             [
              0.3333333333333333,
              "#000014"
             ],
             [
              0.4444444444444444,
              "#000015"
             ],
             [
              0.5555555555555556,
              "#000016"
             ],
             [
              0.6666666666666666,
              "#000017"
             ],
             [
              0.7777777777777778,
              "#000018"
             ],
             [
              0.8888888888888888,
              "#000019"
             ],
             [
              1,
              "#000020"
             ]
            ],
            "type": "contourcarpet"
           }
          ],
          "heatmap": [
           {
            "colorscale": [
             [
              0,
              "#000011"
             ],
             [
              0.1111111111111111,
              "#000012"
             ],
             [
              0.2222222222222222,
              "#000013"
             ],
             [
              0.3333333333333333,
              "#000014"
             ],
             [
              0.4444444444444444,
              "#000015"
             ],
             [
              0.5555555555555556,
              "#000016"
             ],
             [
              0.6666666666666666,
              "#000017"
             ],
             [
              0.7777777777777778,
              "#000018"
             ],
             [
              0.8888888888888888,
              "#000019"
             ],
             [
              1,
              "#000020"
             ]
            ],
            "type": "heatmap"
           }
          ],
          "histogram2d": [
           {
            "colorscale": [
             [
              0,
              "#000011"
             ],
             [
              0.1111111111111111,
              "#000012"
             ],
             [
              0.2222222222222222,
              "#000013"
             ],
             [
              0.3333333333333333,
              "#000014"
             ],
             [
              0.4444444444444444,
              "#000015"
             ],
             [
              0.5555555555555556,
              "#000016"
             ],
             [
              0.6666666666666666,
              "#000017"
             ],
             [
              0.7777777777777778,
              "#000018"
             ],
             [
              0.8888888888888888,
              "#000019"
             ],
             [
              1,
              "#000020"
             ]
            ],
            "type": "histogram2d"
           }
          ],
          "icicle": [
           {
            "textfont": {
             "color": "white"
            },
            "type": "icicle"
           }
          ],
          "sankey": [
           {
            "textfont": {
             "color": "#000036"
            },
            "type": "sankey"
           }
          ],
          "scatter": [
           {
            "marker": {
             "line": {
              "width": 0
             }
            },
            "type": "scatter"
           }
          ],
          "table": [
           {
            "cells": {
             "fill": {
              "color": "#000038"
             },
             "font": {
              "color": "#000037"
             },
             "line": {
              "color": "#000039"
             }
            },
            "header": {
             "fill": {
              "color": "#000040"
             },
             "font": {
              "color": "#000036"
             },
             "line": {
              "color": "#000039"
             }
            },
            "type": "table"
           }
          ],
          "waterfall": [
           {
            "connector": {
             "line": {
              "color": "#000036",
              "width": 2
             }
            },
            "decreasing": {
             "marker": {
              "color": "#000033"
             }
            },
            "increasing": {
             "marker": {
              "color": "#000032"
             }
            },
            "totals": {
             "marker": {
              "color": "#000034"
             }
            },
            "type": "waterfall"
           }
          ]
         },
         "layout": {
          "coloraxis": {
           "colorscale": [
            [
             0,
             "#000011"
            ],
            [
             0.1111111111111111,
             "#000012"
            ],
            [
             0.2222222222222222,
             "#000013"
            ],
            [
             0.3333333333333333,
             "#000014"
            ],
            [
             0.4444444444444444,
             "#000015"
            ],
            [
             0.5555555555555556,
             "#000016"
            ],
            [
             0.6666666666666666,
             "#000017"
            ],
            [
             0.7777777777777778,
             "#000018"
            ],
            [
             0.8888888888888888,
             "#000019"
            ],
            [
             1,
             "#000020"
            ]
           ]
          },
          "colorscale": {
           "diverging": [
            [
             0,
             "#000021"
            ],
            [
             0.1,
             "#000022"
            ],
            [
             0.2,
             "#000023"
            ],
            [
             0.3,
             "#000024"
            ],
            [
             0.4,
             "#000025"
            ],
            [
             0.5,
             "#000026"
            ],
            [
             0.6,
             "#000027"
            ],
            [
             0.7,
             "#000028"
            ],
            [
             0.8,
             "#000029"
            ],
            [
             0.9,
             "#000030"
            ],
            [
             1,
             "#000031"
            ]
           ],
           "sequential": [
            [
             0,
             "#000011"
            ],
            [
             0.1111111111111111,
             "#000012"
            ],
            [
             0.2222222222222222,
             "#000013"
            ],
            [
             0.3333333333333333,
             "#000014"
            ],
            [
             0.4444444444444444,
             "#000015"
            ],
            [
             0.5555555555555556,
             "#000016"
            ],
            [
             0.6666666666666666,
             "#000017"
            ],
            [
             0.7777777777777778,
             "#000018"
            ],
            [
             0.8888888888888888,
             "#000019"
            ],
            [
             1,
             "#000020"
            ]
           ],
           "sequentialminus": [
            [
             0,
             "#000011"
            ],
            [
             0.1111111111111111,
             "#000012"
            ],
            [
             0.2222222222222222,
             "#000013"
            ],
            [
             0.3333333333333333,
             "#000014"
            ],
            [
             0.4444444444444444,
             "#000015"
            ],
            [
             0.5555555555555556,
             "#000016"
            ],
            [
             0.6666666666666666,
             "#000017"
            ],
            [
             0.7777777777777778,
             "#000018"
            ],
            [
             0.8888888888888888,
             "#000019"
            ],
            [
             1,
             "#000020"
            ]
           ]
          },
          "colorway": [
           "#000001",
           "#000002",
           "#000003",
           "#000004",
           "#000005",
           "#000006",
           "#000007",
           "#000008",
           "#000009",
           "#000010"
          ]
         }
        }
       }
      }
     },
     "metadata": {},
     "output_type": "display_data"
    }
   ],
   "source": [
    "import plotly.graph_objects as go\n",
    "from plotly import data\n",
    "\n",
    "df_teste = data.medals_wide()\n",
    "\n",
    "fig = go.Figure()\n",
    "\n",
    "# Iterar sobre as colunas do DataFrame\n",
    "for col in ['gold', 'silver', 'bronze']:\n",
    "    fig.add_trace(go.Bar(x=df_teste.nation, y=df_teste[col], name=col))\n",
    "\n",
    "fig.update_layout(barcornerradius=15)\n",
    "fig.show()"
   ]
  },
  {
   "cell_type": "code",
   "execution_count": 285,
   "metadata": {},
   "outputs": [
    {
     "data": {
      "text/html": [
       "<div>\n",
       "<style scoped>\n",
       "    .dataframe tbody tr th:only-of-type {\n",
       "        vertical-align: middle;\n",
       "    }\n",
       "\n",
       "    .dataframe tbody tr th {\n",
       "        vertical-align: top;\n",
       "    }\n",
       "\n",
       "    .dataframe thead th {\n",
       "        text-align: right;\n",
       "    }\n",
       "</style>\n",
       "<table border=\"1\" class=\"dataframe\">\n",
       "  <thead>\n",
       "    <tr style=\"text-align: right;\">\n",
       "      <th></th>\n",
       "      <th>PAPEL</th>\n",
       "      <th>DATA</th>\n",
       "      <th>NOME</th>\n",
       "      <th>PREÇO (R$)</th>\n",
       "      <th>SETOR ECONÔMICO</th>\n",
       "      <th>SUBSETOR</th>\n",
       "      <th>SEGMENTO</th>\n",
       "      <th>IPCA</th>\n",
       "      <th>SELIC</th>\n",
       "      <th>USD</th>\n",
       "      <th>RETORNOS_SIMPLES</th>\n",
       "      <th>RETORNOS_LOGARITIMOS</th>\n",
       "      <th>RETORNOS_ACUMULADOS</th>\n",
       "      <th>SHARPE</th>\n",
       "      <th>MÉDIA</th>\n",
       "      <th>MÁXIMO DROW DOWN</th>\n",
       "      <th>MÁXIMO DROW DOWN bruto</th>\n",
       "      <th>VOLATILIDADE</th>\n",
       "      <th>RENTABILIDADE</th>\n",
       "      <th>GANHO BRUTO R$</th>\n",
       "    </tr>\n",
       "  </thead>\n",
       "  <tbody>\n",
       "    <tr>\n",
       "      <th>0</th>\n",
       "      <td>ABEV3</td>\n",
       "      <td>2023-01-31</td>\n",
       "      <td>AMBEV S/A</td>\n",
       "      <td>13.66</td>\n",
       "      <td>Consumo não Cíclico</td>\n",
       "      <td>Bebidas</td>\n",
       "      <td>Cervejas e Refrigerantes</td>\n",
       "      <td>0.0053</td>\n",
       "      <td>0.0112</td>\n",
       "      <td>5.0987</td>\n",
       "      <td>NaN</td>\n",
       "      <td>NaN</td>\n",
       "      <td>NaN</td>\n",
       "      <td>1.928270</td>\n",
       "      <td>14.226667</td>\n",
       "      <td>-0.019766</td>\n",
       "      <td>-0.27</td>\n",
       "      <td>0.043101</td>\n",
       "      <td>0.128111</td>\n",
       "      <td>1.75</td>\n",
       "    </tr>\n",
       "    <tr>\n",
       "      <th>1</th>\n",
       "      <td>ABEV3</td>\n",
       "      <td>2023-02-28</td>\n",
       "      <td>AMBEV S/A</td>\n",
       "      <td>13.39</td>\n",
       "      <td>Consumo não Cíclico</td>\n",
       "      <td>Bebidas</td>\n",
       "      <td>Cervejas e Refrigerantes</td>\n",
       "      <td>0.0084</td>\n",
       "      <td>0.0092</td>\n",
       "      <td>5.2072</td>\n",
       "      <td>-0.019766</td>\n",
       "      <td>-0.019964</td>\n",
       "      <td>-0.019766</td>\n",
       "      <td>1.928270</td>\n",
       "      <td>14.226667</td>\n",
       "      <td>-0.019766</td>\n",
       "      <td>-0.27</td>\n",
       "      <td>0.043101</td>\n",
       "      <td>0.128111</td>\n",
       "      <td>1.75</td>\n",
       "    </tr>\n",
       "    <tr>\n",
       "      <th>2</th>\n",
       "      <td>ABEV3</td>\n",
       "      <td>2023-03-31</td>\n",
       "      <td>AMBEV S/A</td>\n",
       "      <td>14.33</td>\n",
       "      <td>Consumo não Cíclico</td>\n",
       "      <td>Bebidas</td>\n",
       "      <td>Cervejas e Refrigerantes</td>\n",
       "      <td>0.0071</td>\n",
       "      <td>0.0117</td>\n",
       "      <td>5.0798</td>\n",
       "      <td>0.070202</td>\n",
       "      <td>0.067847</td>\n",
       "      <td>0.049048</td>\n",
       "      <td>1.928270</td>\n",
       "      <td>14.226667</td>\n",
       "      <td>-0.019766</td>\n",
       "      <td>-0.27</td>\n",
       "      <td>0.043101</td>\n",
       "      <td>0.128111</td>\n",
       "      <td>1.75</td>\n",
       "    </tr>\n",
       "    <tr>\n",
       "      <th>3</th>\n",
       "      <td>ABEV3</td>\n",
       "      <td>2023-04-30</td>\n",
       "      <td>AMBEV S/A</td>\n",
       "      <td>14.16</td>\n",
       "      <td>Consumo não Cíclico</td>\n",
       "      <td>Bebidas</td>\n",
       "      <td>Cervejas e Refrigerantes</td>\n",
       "      <td>0.0061</td>\n",
       "      <td>0.0092</td>\n",
       "      <td>5.0001</td>\n",
       "      <td>-0.011863</td>\n",
       "      <td>-0.011934</td>\n",
       "      <td>0.036603</td>\n",
       "      <td>1.928270</td>\n",
       "      <td>14.226667</td>\n",
       "      <td>-0.019766</td>\n",
       "      <td>-0.27</td>\n",
       "      <td>0.043101</td>\n",
       "      <td>0.128111</td>\n",
       "      <td>1.75</td>\n",
       "    </tr>\n",
       "    <tr>\n",
       "      <th>4</th>\n",
       "      <td>ABEV3</td>\n",
       "      <td>2023-05-31</td>\n",
       "      <td>AMBEV S/A</td>\n",
       "      <td>14.41</td>\n",
       "      <td>Consumo não Cíclico</td>\n",
       "      <td>Bebidas</td>\n",
       "      <td>Cervejas e Refrigerantes</td>\n",
       "      <td>0.0023</td>\n",
       "      <td>0.0112</td>\n",
       "      <td>5.0953</td>\n",
       "      <td>0.017655</td>\n",
       "      <td>0.017501</td>\n",
       "      <td>0.054905</td>\n",
       "      <td>1.928270</td>\n",
       "      <td>14.226667</td>\n",
       "      <td>-0.019766</td>\n",
       "      <td>-0.27</td>\n",
       "      <td>0.043101</td>\n",
       "      <td>0.128111</td>\n",
       "      <td>1.75</td>\n",
       "    </tr>\n",
       "    <tr>\n",
       "      <th>...</th>\n",
       "      <td>...</td>\n",
       "      <td>...</td>\n",
       "      <td>...</td>\n",
       "      <td>...</td>\n",
       "      <td>...</td>\n",
       "      <td>...</td>\n",
       "      <td>...</td>\n",
       "      <td>...</td>\n",
       "      <td>...</td>\n",
       "      <td>...</td>\n",
       "      <td>...</td>\n",
       "      <td>...</td>\n",
       "      <td>...</td>\n",
       "      <td>...</td>\n",
       "      <td>...</td>\n",
       "      <td>...</td>\n",
       "      <td>...</td>\n",
       "      <td>...</td>\n",
       "      <td>...</td>\n",
       "      <td>...</td>\n",
       "    </tr>\n",
       "    <tr>\n",
       "      <th>523</th>\n",
       "      <td>YDUQ3</td>\n",
       "      <td>2023-02-28</td>\n",
       "      <td>YDUQS PART</td>\n",
       "      <td>7.05</td>\n",
       "      <td>Consumo Cíclico</td>\n",
       "      <td>Diversos</td>\n",
       "      <td>Serviços Educacionais</td>\n",
       "      <td>0.0084</td>\n",
       "      <td>0.0092</td>\n",
       "      <td>5.2072</td>\n",
       "      <td>-0.317522</td>\n",
       "      <td>-0.382025</td>\n",
       "      <td>-0.317522</td>\n",
       "      <td>2.188639</td>\n",
       "      <td>11.073333</td>\n",
       "      <td>-0.317522</td>\n",
       "      <td>-3.28</td>\n",
       "      <td>0.399190</td>\n",
       "      <td>0.918683</td>\n",
       "      <td>9.49</td>\n",
       "    </tr>\n",
       "    <tr>\n",
       "      <th>524</th>\n",
       "      <td>YDUQ3</td>\n",
       "      <td>2023-03-31</td>\n",
       "      <td>YDUQS PART</td>\n",
       "      <td>7.05</td>\n",
       "      <td>Consumo Cíclico</td>\n",
       "      <td>Diversos</td>\n",
       "      <td>Serviços Educacionais</td>\n",
       "      <td>0.0071</td>\n",
       "      <td>0.0117</td>\n",
       "      <td>5.0798</td>\n",
       "      <td>0.000000</td>\n",
       "      <td>0.000000</td>\n",
       "      <td>-0.317522</td>\n",
       "      <td>2.188639</td>\n",
       "      <td>11.073333</td>\n",
       "      <td>-0.317522</td>\n",
       "      <td>-3.28</td>\n",
       "      <td>0.399190</td>\n",
       "      <td>0.918683</td>\n",
       "      <td>9.49</td>\n",
       "    </tr>\n",
       "    <tr>\n",
       "      <th>525</th>\n",
       "      <td>YDUQ3</td>\n",
       "      <td>2023-04-30</td>\n",
       "      <td>YDUQS PART</td>\n",
       "      <td>8.12</td>\n",
       "      <td>Consumo Cíclico</td>\n",
       "      <td>Diversos</td>\n",
       "      <td>Serviços Educacionais</td>\n",
       "      <td>0.0061</td>\n",
       "      <td>0.0092</td>\n",
       "      <td>5.0001</td>\n",
       "      <td>0.151773</td>\n",
       "      <td>0.141303</td>\n",
       "      <td>-0.213940</td>\n",
       "      <td>2.188639</td>\n",
       "      <td>11.073333</td>\n",
       "      <td>-0.317522</td>\n",
       "      <td>-3.28</td>\n",
       "      <td>0.399190</td>\n",
       "      <td>0.918683</td>\n",
       "      <td>9.49</td>\n",
       "    </tr>\n",
       "    <tr>\n",
       "      <th>526</th>\n",
       "      <td>YDUQ3</td>\n",
       "      <td>2023-05-31</td>\n",
       "      <td>YDUQS PART</td>\n",
       "      <td>14.07</td>\n",
       "      <td>Consumo Cíclico</td>\n",
       "      <td>Diversos</td>\n",
       "      <td>Serviços Educacionais</td>\n",
       "      <td>0.0023</td>\n",
       "      <td>0.0112</td>\n",
       "      <td>5.0953</td>\n",
       "      <td>0.732759</td>\n",
       "      <td>0.549715</td>\n",
       "      <td>0.362052</td>\n",
       "      <td>2.188639</td>\n",
       "      <td>11.073333</td>\n",
       "      <td>-0.317522</td>\n",
       "      <td>-3.28</td>\n",
       "      <td>0.399190</td>\n",
       "      <td>0.918683</td>\n",
       "      <td>9.49</td>\n",
       "    </tr>\n",
       "    <tr>\n",
       "      <th>527</th>\n",
       "      <td>YDUQ3</td>\n",
       "      <td>2023-06-30</td>\n",
       "      <td>YDUQS PART</td>\n",
       "      <td>19.82</td>\n",
       "      <td>Consumo Cíclico</td>\n",
       "      <td>Diversos</td>\n",
       "      <td>Serviços Educacionais</td>\n",
       "      <td>-0.0008</td>\n",
       "      <td>0.0107</td>\n",
       "      <td>4.8186</td>\n",
       "      <td>0.408671</td>\n",
       "      <td>0.342647</td>\n",
       "      <td>0.918683</td>\n",
       "      <td>2.188639</td>\n",
       "      <td>11.073333</td>\n",
       "      <td>-0.317522</td>\n",
       "      <td>-3.28</td>\n",
       "      <td>0.399190</td>\n",
       "      <td>0.918683</td>\n",
       "      <td>9.49</td>\n",
       "    </tr>\n",
       "  </tbody>\n",
       "</table>\n",
       "<p>528 rows × 20 columns</p>\n",
       "</div>"
      ],
      "text/plain": [
       "     PAPEL       DATA        NOME  PREÇO (R$)      SETOR ECONÔMICO  SUBSETOR  \\\n",
       "0    ABEV3 2023-01-31   AMBEV S/A       13.66  Consumo não Cíclico   Bebidas   \n",
       "1    ABEV3 2023-02-28   AMBEV S/A       13.39  Consumo não Cíclico   Bebidas   \n",
       "2    ABEV3 2023-03-31   AMBEV S/A       14.33  Consumo não Cíclico   Bebidas   \n",
       "3    ABEV3 2023-04-30   AMBEV S/A       14.16  Consumo não Cíclico   Bebidas   \n",
       "4    ABEV3 2023-05-31   AMBEV S/A       14.41  Consumo não Cíclico   Bebidas   \n",
       "..     ...        ...         ...         ...                  ...       ...   \n",
       "523  YDUQ3 2023-02-28  YDUQS PART        7.05      Consumo Cíclico  Diversos   \n",
       "524  YDUQ3 2023-03-31  YDUQS PART        7.05      Consumo Cíclico  Diversos   \n",
       "525  YDUQ3 2023-04-30  YDUQS PART        8.12      Consumo Cíclico  Diversos   \n",
       "526  YDUQ3 2023-05-31  YDUQS PART       14.07      Consumo Cíclico  Diversos   \n",
       "527  YDUQ3 2023-06-30  YDUQS PART       19.82      Consumo Cíclico  Diversos   \n",
       "\n",
       "                     SEGMENTO    IPCA   SELIC     USD  RETORNOS_SIMPLES  \\\n",
       "0    Cervejas e Refrigerantes  0.0053  0.0112  5.0987               NaN   \n",
       "1    Cervejas e Refrigerantes  0.0084  0.0092  5.2072         -0.019766   \n",
       "2    Cervejas e Refrigerantes  0.0071  0.0117  5.0798          0.070202   \n",
       "3    Cervejas e Refrigerantes  0.0061  0.0092  5.0001         -0.011863   \n",
       "4    Cervejas e Refrigerantes  0.0023  0.0112  5.0953          0.017655   \n",
       "..                        ...     ...     ...     ...               ...   \n",
       "523     Serviços Educacionais  0.0084  0.0092  5.2072         -0.317522   \n",
       "524     Serviços Educacionais  0.0071  0.0117  5.0798          0.000000   \n",
       "525     Serviços Educacionais  0.0061  0.0092  5.0001          0.151773   \n",
       "526     Serviços Educacionais  0.0023  0.0112  5.0953          0.732759   \n",
       "527     Serviços Educacionais -0.0008  0.0107  4.8186          0.408671   \n",
       "\n",
       "     RETORNOS_LOGARITIMOS  RETORNOS_ACUMULADOS    SHARPE      MÉDIA  \\\n",
       "0                     NaN                  NaN  1.928270  14.226667   \n",
       "1               -0.019964            -0.019766  1.928270  14.226667   \n",
       "2                0.067847             0.049048  1.928270  14.226667   \n",
       "3               -0.011934             0.036603  1.928270  14.226667   \n",
       "4                0.017501             0.054905  1.928270  14.226667   \n",
       "..                    ...                  ...       ...        ...   \n",
       "523             -0.382025            -0.317522  2.188639  11.073333   \n",
       "524              0.000000            -0.317522  2.188639  11.073333   \n",
       "525              0.141303            -0.213940  2.188639  11.073333   \n",
       "526              0.549715             0.362052  2.188639  11.073333   \n",
       "527              0.342647             0.918683  2.188639  11.073333   \n",
       "\n",
       "     MÁXIMO DROW DOWN  MÁXIMO DROW DOWN bruto  VOLATILIDADE  RENTABILIDADE  \\\n",
       "0           -0.019766                   -0.27      0.043101       0.128111   \n",
       "1           -0.019766                   -0.27      0.043101       0.128111   \n",
       "2           -0.019766                   -0.27      0.043101       0.128111   \n",
       "3           -0.019766                   -0.27      0.043101       0.128111   \n",
       "4           -0.019766                   -0.27      0.043101       0.128111   \n",
       "..                ...                     ...           ...            ...   \n",
       "523         -0.317522                   -3.28      0.399190       0.918683   \n",
       "524         -0.317522                   -3.28      0.399190       0.918683   \n",
       "525         -0.317522                   -3.28      0.399190       0.918683   \n",
       "526         -0.317522                   -3.28      0.399190       0.918683   \n",
       "527         -0.317522                   -3.28      0.399190       0.918683   \n",
       "\n",
       "     GANHO BRUTO R$  \n",
       "0              1.75  \n",
       "1              1.75  \n",
       "2              1.75  \n",
       "3              1.75  \n",
       "4              1.75  \n",
       "..              ...  \n",
       "523            9.49  \n",
       "524            9.49  \n",
       "525            9.49  \n",
       "526            9.49  \n",
       "527            9.49  \n",
       "\n",
       "[528 rows x 20 columns]"
      ]
     },
     "execution_count": 285,
     "metadata": {},
     "output_type": "execute_result"
    }
   ],
   "source": [
    "df = t7.copy(deep=True)\n",
    "df.reset_index(inplace=True)\n",
    "df"
   ]
  },
  {
   "cell_type": "code",
   "execution_count": 264,
   "metadata": {},
   "outputs": [],
   "source": [
    "import time"
   ]
  },
  {
   "cell_type": "code",
   "execution_count": 322,
   "metadata": {},
   "outputs": [
    {
     "data": {
      "text/plain": [
       "array(['MÉDIA', 'SHARPE', 'MÁXIMO DROW DOWN', 'MÁXIMO DROW DOWN bruto',\n",
       "       'VOLATILIDADE', 'RENTABILIDADE', 'GANHO BRUTO R$'], dtype=object)"
      ]
     },
     "execution_count": 322,
     "metadata": {},
     "output_type": "execute_result"
    }
   ],
   "source": [
    "info"
   ]
  },
  {
   "cell_type": "code",
   "execution_count": 344,
   "metadata": {},
   "outputs": [
    {
     "data": {
      "text/html": [
       "<div>\n",
       "<style scoped>\n",
       "    .dataframe tbody tr th:only-of-type {\n",
       "        vertical-align: middle;\n",
       "    }\n",
       "\n",
       "    .dataframe tbody tr th {\n",
       "        vertical-align: top;\n",
       "    }\n",
       "\n",
       "    .dataframe thead th {\n",
       "        text-align: right;\n",
       "    }\n",
       "</style>\n",
       "<table border=\"1\" class=\"dataframe\">\n",
       "  <thead>\n",
       "    <tr style=\"text-align: right;\">\n",
       "      <th></th>\n",
       "      <th>PAPEL</th>\n",
       "      <th>DATA</th>\n",
       "      <th>NOME</th>\n",
       "      <th>PREÇO (R$)</th>\n",
       "      <th>SETOR ECONÔMICO</th>\n",
       "      <th>SUBSETOR</th>\n",
       "      <th>SEGMENTO</th>\n",
       "      <th>IPCA</th>\n",
       "      <th>SELIC</th>\n",
       "      <th>USD</th>\n",
       "      <th>RETORNOS_SIMPLES</th>\n",
       "      <th>RETORNOS_LOGARITIMOS</th>\n",
       "      <th>RETORNOS_ACUMULADOS</th>\n",
       "      <th>SHARPE</th>\n",
       "      <th>MÉDIA</th>\n",
       "      <th>MÁXIMO DROW DOWN</th>\n",
       "      <th>MÁXIMO DROW DOWN bruto</th>\n",
       "      <th>VOLATILIDADE</th>\n",
       "      <th>RENTABILIDADE</th>\n",
       "      <th>GANHO BRUTO R$</th>\n",
       "    </tr>\n",
       "  </thead>\n",
       "  <tbody>\n",
       "    <tr>\n",
       "      <th>0</th>\n",
       "      <td>ABEV3</td>\n",
       "      <td>2023-01-31</td>\n",
       "      <td>AMBEV S/A</td>\n",
       "      <td>13.66</td>\n",
       "      <td>Consumo não Cíclico</td>\n",
       "      <td>Bebidas</td>\n",
       "      <td>Cervejas e Refrigerantes</td>\n",
       "      <td>0.0053</td>\n",
       "      <td>0.0112</td>\n",
       "      <td>5.0987</td>\n",
       "      <td>NaN</td>\n",
       "      <td>NaN</td>\n",
       "      <td>NaN</td>\n",
       "      <td>1.928270</td>\n",
       "      <td>14.226667</td>\n",
       "      <td>-0.019766</td>\n",
       "      <td>-0.27</td>\n",
       "      <td>0.043101</td>\n",
       "      <td>0.128111</td>\n",
       "      <td>1.75</td>\n",
       "    </tr>\n",
       "    <tr>\n",
       "      <th>1</th>\n",
       "      <td>ABEV3</td>\n",
       "      <td>2023-02-28</td>\n",
       "      <td>AMBEV S/A</td>\n",
       "      <td>13.39</td>\n",
       "      <td>Consumo não Cíclico</td>\n",
       "      <td>Bebidas</td>\n",
       "      <td>Cervejas e Refrigerantes</td>\n",
       "      <td>0.0084</td>\n",
       "      <td>0.0092</td>\n",
       "      <td>5.2072</td>\n",
       "      <td>-0.019766</td>\n",
       "      <td>-0.019964</td>\n",
       "      <td>-0.019766</td>\n",
       "      <td>1.928270</td>\n",
       "      <td>14.226667</td>\n",
       "      <td>-0.019766</td>\n",
       "      <td>-0.27</td>\n",
       "      <td>0.043101</td>\n",
       "      <td>0.128111</td>\n",
       "      <td>1.75</td>\n",
       "    </tr>\n",
       "    <tr>\n",
       "      <th>2</th>\n",
       "      <td>ABEV3</td>\n",
       "      <td>2023-03-31</td>\n",
       "      <td>AMBEV S/A</td>\n",
       "      <td>14.33</td>\n",
       "      <td>Consumo não Cíclico</td>\n",
       "      <td>Bebidas</td>\n",
       "      <td>Cervejas e Refrigerantes</td>\n",
       "      <td>0.0071</td>\n",
       "      <td>0.0117</td>\n",
       "      <td>5.0798</td>\n",
       "      <td>0.070202</td>\n",
       "      <td>0.067847</td>\n",
       "      <td>0.049048</td>\n",
       "      <td>1.928270</td>\n",
       "      <td>14.226667</td>\n",
       "      <td>-0.019766</td>\n",
       "      <td>-0.27</td>\n",
       "      <td>0.043101</td>\n",
       "      <td>0.128111</td>\n",
       "      <td>1.75</td>\n",
       "    </tr>\n",
       "    <tr>\n",
       "      <th>3</th>\n",
       "      <td>ABEV3</td>\n",
       "      <td>2023-04-30</td>\n",
       "      <td>AMBEV S/A</td>\n",
       "      <td>14.16</td>\n",
       "      <td>Consumo não Cíclico</td>\n",
       "      <td>Bebidas</td>\n",
       "      <td>Cervejas e Refrigerantes</td>\n",
       "      <td>0.0061</td>\n",
       "      <td>0.0092</td>\n",
       "      <td>5.0001</td>\n",
       "      <td>-0.011863</td>\n",
       "      <td>-0.011934</td>\n",
       "      <td>0.036603</td>\n",
       "      <td>1.928270</td>\n",
       "      <td>14.226667</td>\n",
       "      <td>-0.019766</td>\n",
       "      <td>-0.27</td>\n",
       "      <td>0.043101</td>\n",
       "      <td>0.128111</td>\n",
       "      <td>1.75</td>\n",
       "    </tr>\n",
       "    <tr>\n",
       "      <th>4</th>\n",
       "      <td>ABEV3</td>\n",
       "      <td>2023-05-31</td>\n",
       "      <td>AMBEV S/A</td>\n",
       "      <td>14.41</td>\n",
       "      <td>Consumo não Cíclico</td>\n",
       "      <td>Bebidas</td>\n",
       "      <td>Cervejas e Refrigerantes</td>\n",
       "      <td>0.0023</td>\n",
       "      <td>0.0112</td>\n",
       "      <td>5.0953</td>\n",
       "      <td>0.017655</td>\n",
       "      <td>0.017501</td>\n",
       "      <td>0.054905</td>\n",
       "      <td>1.928270</td>\n",
       "      <td>14.226667</td>\n",
       "      <td>-0.019766</td>\n",
       "      <td>-0.27</td>\n",
       "      <td>0.043101</td>\n",
       "      <td>0.128111</td>\n",
       "      <td>1.75</td>\n",
       "    </tr>\n",
       "    <tr>\n",
       "      <th>...</th>\n",
       "      <td>...</td>\n",
       "      <td>...</td>\n",
       "      <td>...</td>\n",
       "      <td>...</td>\n",
       "      <td>...</td>\n",
       "      <td>...</td>\n",
       "      <td>...</td>\n",
       "      <td>...</td>\n",
       "      <td>...</td>\n",
       "      <td>...</td>\n",
       "      <td>...</td>\n",
       "      <td>...</td>\n",
       "      <td>...</td>\n",
       "      <td>...</td>\n",
       "      <td>...</td>\n",
       "      <td>...</td>\n",
       "      <td>...</td>\n",
       "      <td>...</td>\n",
       "      <td>...</td>\n",
       "      <td>...</td>\n",
       "    </tr>\n",
       "    <tr>\n",
       "      <th>523</th>\n",
       "      <td>YDUQ3</td>\n",
       "      <td>2023-02-28</td>\n",
       "      <td>YDUQS PART</td>\n",
       "      <td>7.05</td>\n",
       "      <td>Consumo Cíclico</td>\n",
       "      <td>Diversos</td>\n",
       "      <td>Serviços Educacionais</td>\n",
       "      <td>0.0084</td>\n",
       "      <td>0.0092</td>\n",
       "      <td>5.2072</td>\n",
       "      <td>-0.317522</td>\n",
       "      <td>-0.382025</td>\n",
       "      <td>-0.317522</td>\n",
       "      <td>2.188639</td>\n",
       "      <td>11.073333</td>\n",
       "      <td>-0.317522</td>\n",
       "      <td>-3.28</td>\n",
       "      <td>0.399190</td>\n",
       "      <td>0.918683</td>\n",
       "      <td>9.49</td>\n",
       "    </tr>\n",
       "    <tr>\n",
       "      <th>524</th>\n",
       "      <td>YDUQ3</td>\n",
       "      <td>2023-03-31</td>\n",
       "      <td>YDUQS PART</td>\n",
       "      <td>7.05</td>\n",
       "      <td>Consumo Cíclico</td>\n",
       "      <td>Diversos</td>\n",
       "      <td>Serviços Educacionais</td>\n",
       "      <td>0.0071</td>\n",
       "      <td>0.0117</td>\n",
       "      <td>5.0798</td>\n",
       "      <td>0.000000</td>\n",
       "      <td>0.000000</td>\n",
       "      <td>-0.317522</td>\n",
       "      <td>2.188639</td>\n",
       "      <td>11.073333</td>\n",
       "      <td>-0.317522</td>\n",
       "      <td>-3.28</td>\n",
       "      <td>0.399190</td>\n",
       "      <td>0.918683</td>\n",
       "      <td>9.49</td>\n",
       "    </tr>\n",
       "    <tr>\n",
       "      <th>525</th>\n",
       "      <td>YDUQ3</td>\n",
       "      <td>2023-04-30</td>\n",
       "      <td>YDUQS PART</td>\n",
       "      <td>8.12</td>\n",
       "      <td>Consumo Cíclico</td>\n",
       "      <td>Diversos</td>\n",
       "      <td>Serviços Educacionais</td>\n",
       "      <td>0.0061</td>\n",
       "      <td>0.0092</td>\n",
       "      <td>5.0001</td>\n",
       "      <td>0.151773</td>\n",
       "      <td>0.141303</td>\n",
       "      <td>-0.213940</td>\n",
       "      <td>2.188639</td>\n",
       "      <td>11.073333</td>\n",
       "      <td>-0.317522</td>\n",
       "      <td>-3.28</td>\n",
       "      <td>0.399190</td>\n",
       "      <td>0.918683</td>\n",
       "      <td>9.49</td>\n",
       "    </tr>\n",
       "    <tr>\n",
       "      <th>526</th>\n",
       "      <td>YDUQ3</td>\n",
       "      <td>2023-05-31</td>\n",
       "      <td>YDUQS PART</td>\n",
       "      <td>14.07</td>\n",
       "      <td>Consumo Cíclico</td>\n",
       "      <td>Diversos</td>\n",
       "      <td>Serviços Educacionais</td>\n",
       "      <td>0.0023</td>\n",
       "      <td>0.0112</td>\n",
       "      <td>5.0953</td>\n",
       "      <td>0.732759</td>\n",
       "      <td>0.549715</td>\n",
       "      <td>0.362052</td>\n",
       "      <td>2.188639</td>\n",
       "      <td>11.073333</td>\n",
       "      <td>-0.317522</td>\n",
       "      <td>-3.28</td>\n",
       "      <td>0.399190</td>\n",
       "      <td>0.918683</td>\n",
       "      <td>9.49</td>\n",
       "    </tr>\n",
       "    <tr>\n",
       "      <th>527</th>\n",
       "      <td>YDUQ3</td>\n",
       "      <td>2023-06-30</td>\n",
       "      <td>YDUQS PART</td>\n",
       "      <td>19.82</td>\n",
       "      <td>Consumo Cíclico</td>\n",
       "      <td>Diversos</td>\n",
       "      <td>Serviços Educacionais</td>\n",
       "      <td>-0.0008</td>\n",
       "      <td>0.0107</td>\n",
       "      <td>4.8186</td>\n",
       "      <td>0.408671</td>\n",
       "      <td>0.342647</td>\n",
       "      <td>0.918683</td>\n",
       "      <td>2.188639</td>\n",
       "      <td>11.073333</td>\n",
       "      <td>-0.317522</td>\n",
       "      <td>-3.28</td>\n",
       "      <td>0.399190</td>\n",
       "      <td>0.918683</td>\n",
       "      <td>9.49</td>\n",
       "    </tr>\n",
       "  </tbody>\n",
       "</table>\n",
       "<p>528 rows × 20 columns</p>\n",
       "</div>"
      ],
      "text/plain": [
       "     PAPEL       DATA        NOME  PREÇO (R$)      SETOR ECONÔMICO  SUBSETOR  \\\n",
       "0    ABEV3 2023-01-31   AMBEV S/A       13.66  Consumo não Cíclico   Bebidas   \n",
       "1    ABEV3 2023-02-28   AMBEV S/A       13.39  Consumo não Cíclico   Bebidas   \n",
       "2    ABEV3 2023-03-31   AMBEV S/A       14.33  Consumo não Cíclico   Bebidas   \n",
       "3    ABEV3 2023-04-30   AMBEV S/A       14.16  Consumo não Cíclico   Bebidas   \n",
       "4    ABEV3 2023-05-31   AMBEV S/A       14.41  Consumo não Cíclico   Bebidas   \n",
       "..     ...        ...         ...         ...                  ...       ...   \n",
       "523  YDUQ3 2023-02-28  YDUQS PART        7.05      Consumo Cíclico  Diversos   \n",
       "524  YDUQ3 2023-03-31  YDUQS PART        7.05      Consumo Cíclico  Diversos   \n",
       "525  YDUQ3 2023-04-30  YDUQS PART        8.12      Consumo Cíclico  Diversos   \n",
       "526  YDUQ3 2023-05-31  YDUQS PART       14.07      Consumo Cíclico  Diversos   \n",
       "527  YDUQ3 2023-06-30  YDUQS PART       19.82      Consumo Cíclico  Diversos   \n",
       "\n",
       "                     SEGMENTO    IPCA   SELIC     USD  RETORNOS_SIMPLES  \\\n",
       "0    Cervejas e Refrigerantes  0.0053  0.0112  5.0987               NaN   \n",
       "1    Cervejas e Refrigerantes  0.0084  0.0092  5.2072         -0.019766   \n",
       "2    Cervejas e Refrigerantes  0.0071  0.0117  5.0798          0.070202   \n",
       "3    Cervejas e Refrigerantes  0.0061  0.0092  5.0001         -0.011863   \n",
       "4    Cervejas e Refrigerantes  0.0023  0.0112  5.0953          0.017655   \n",
       "..                        ...     ...     ...     ...               ...   \n",
       "523     Serviços Educacionais  0.0084  0.0092  5.2072         -0.317522   \n",
       "524     Serviços Educacionais  0.0071  0.0117  5.0798          0.000000   \n",
       "525     Serviços Educacionais  0.0061  0.0092  5.0001          0.151773   \n",
       "526     Serviços Educacionais  0.0023  0.0112  5.0953          0.732759   \n",
       "527     Serviços Educacionais -0.0008  0.0107  4.8186          0.408671   \n",
       "\n",
       "     RETORNOS_LOGARITIMOS  RETORNOS_ACUMULADOS    SHARPE      MÉDIA  \\\n",
       "0                     NaN                  NaN  1.928270  14.226667   \n",
       "1               -0.019964            -0.019766  1.928270  14.226667   \n",
       "2                0.067847             0.049048  1.928270  14.226667   \n",
       "3               -0.011934             0.036603  1.928270  14.226667   \n",
       "4                0.017501             0.054905  1.928270  14.226667   \n",
       "..                    ...                  ...       ...        ...   \n",
       "523             -0.382025            -0.317522  2.188639  11.073333   \n",
       "524              0.000000            -0.317522  2.188639  11.073333   \n",
       "525              0.141303            -0.213940  2.188639  11.073333   \n",
       "526              0.549715             0.362052  2.188639  11.073333   \n",
       "527              0.342647             0.918683  2.188639  11.073333   \n",
       "\n",
       "     MÁXIMO DROW DOWN  MÁXIMO DROW DOWN bruto  VOLATILIDADE  RENTABILIDADE  \\\n",
       "0           -0.019766                   -0.27      0.043101       0.128111   \n",
       "1           -0.019766                   -0.27      0.043101       0.128111   \n",
       "2           -0.019766                   -0.27      0.043101       0.128111   \n",
       "3           -0.019766                   -0.27      0.043101       0.128111   \n",
       "4           -0.019766                   -0.27      0.043101       0.128111   \n",
       "..                ...                     ...           ...            ...   \n",
       "523         -0.317522                   -3.28      0.399190       0.918683   \n",
       "524         -0.317522                   -3.28      0.399190       0.918683   \n",
       "525         -0.317522                   -3.28      0.399190       0.918683   \n",
       "526         -0.317522                   -3.28      0.399190       0.918683   \n",
       "527         -0.317522                   -3.28      0.399190       0.918683   \n",
       "\n",
       "     GANHO BRUTO R$  \n",
       "0              1.75  \n",
       "1              1.75  \n",
       "2              1.75  \n",
       "3              1.75  \n",
       "4              1.75  \n",
       "..              ...  \n",
       "523            9.49  \n",
       "524            9.49  \n",
       "525            9.49  \n",
       "526            9.49  \n",
       "527            9.49  \n",
       "\n",
       "[528 rows x 20 columns]"
      ]
     },
     "execution_count": 344,
     "metadata": {},
     "output_type": "execute_result"
    }
   ],
   "source": [
    "df"
   ]
  },
  {
   "cell_type": "code",
   "execution_count": 342,
   "metadata": {},
   "outputs": [
    {
     "data": {
      "application/vnd.plotly.v1+json": {
       "config": {
        "plotlyServerURL": "https://plot.ly"
       },
       "data": [
        {
         "name": "gold",
         "type": "bar",
         "x": [
          "South Korea",
          "China",
          "Canada"
         ],
         "y": [
          24,
          10,
          9
         ]
        },
        {
         "name": "silver",
         "type": "bar",
         "x": [
          "South Korea",
          "China",
          "Canada"
         ],
         "y": [
          13,
          15,
          12
         ]
        },
        {
         "name": "bronze",
         "type": "bar",
         "x": [
          "South Korea",
          "China",
          "Canada"
         ],
         "y": [
          11,
          8,
          12
         ]
        }
       ],
       "layout": {
        "barcornerradius": 15,
        "template": {
         "data": {
          "candlestick": [
           {
            "decreasing": {
             "line": {
              "color": "#000033"
             }
            },
            "increasing": {
             "line": {
              "color": "#000032"
             }
            },
            "type": "candlestick"
           }
          ],
          "contour": [
           {
            "colorscale": [
             [
              0,
              "#000011"
             ],
             [
              0.1111111111111111,
              "#000012"
             ],
             [
              0.2222222222222222,
              "#000013"
             ],
             [
              0.3333333333333333,
              "#000014"
             ],
             [
              0.4444444444444444,
              "#000015"
             ],
             [
              0.5555555555555556,
              "#000016"
             ],
             [
              0.6666666666666666,
              "#000017"
             ],
             [
              0.7777777777777778,
              "#000018"
             ],
             [
              0.8888888888888888,
              "#000019"
             ],
             [
              1,
              "#000020"
             ]
            ],
            "type": "contour"
           }
          ],
          "contourcarpet": [
           {
            "colorscale": [
             [
              0,
              "#000011"
             ],
             [
              0.1111111111111111,
              "#000012"
             ],
             [
              0.2222222222222222,
              "#000013"
             ],
             [
              0.3333333333333333,
              "#000014"
             ],
             [
              0.4444444444444444,
              "#000015"
             ],
             [
              0.5555555555555556,
              "#000016"
             ],
             [
              0.6666666666666666,
              "#000017"
             ],
             [
              0.7777777777777778,
              "#000018"
             ],
             [
              0.8888888888888888,
              "#000019"
             ],
             [
              1,
              "#000020"
             ]
            ],
            "type": "contourcarpet"
           }
          ],
          "heatmap": [
           {
            "colorscale": [
             [
              0,
              "#000011"
             ],
             [
              0.1111111111111111,
              "#000012"
             ],
             [
              0.2222222222222222,
              "#000013"
             ],
             [
              0.3333333333333333,
              "#000014"
             ],
             [
              0.4444444444444444,
              "#000015"
             ],
             [
              0.5555555555555556,
              "#000016"
             ],
             [
              0.6666666666666666,
              "#000017"
             ],
             [
              0.7777777777777778,
              "#000018"
             ],
             [
              0.8888888888888888,
              "#000019"
             ],
             [
              1,
              "#000020"
             ]
            ],
            "type": "heatmap"
           }
          ],
          "histogram2d": [
           {
            "colorscale": [
             [
              0,
              "#000011"
             ],
             [
              0.1111111111111111,
              "#000012"
             ],
             [
              0.2222222222222222,
              "#000013"
             ],
             [
              0.3333333333333333,
              "#000014"
             ],
             [
              0.4444444444444444,
              "#000015"
             ],
             [
              0.5555555555555556,
              "#000016"
             ],
             [
              0.6666666666666666,
              "#000017"
             ],
             [
              0.7777777777777778,
              "#000018"
             ],
             [
              0.8888888888888888,
              "#000019"
             ],
             [
              1,
              "#000020"
             ]
            ],
            "type": "histogram2d"
           }
          ],
          "icicle": [
           {
            "textfont": {
             "color": "white"
            },
            "type": "icicle"
           }
          ],
          "sankey": [
           {
            "textfont": {
             "color": "#000036"
            },
            "type": "sankey"
           }
          ],
          "scatter": [
           {
            "marker": {
             "line": {
              "width": 0
             }
            },
            "type": "scatter"
           }
          ],
          "table": [
           {
            "cells": {
             "fill": {
              "color": "#000038"
             },
             "font": {
              "color": "#000037"
             },
             "line": {
              "color": "#000039"
             }
            },
            "header": {
             "fill": {
              "color": "#000040"
             },
             "font": {
              "color": "#000036"
             },
             "line": {
              "color": "#000039"
             }
            },
            "type": "table"
           }
          ],
          "waterfall": [
           {
            "connector": {
             "line": {
              "color": "#000036",
              "width": 2
             }
            },
            "decreasing": {
             "marker": {
              "color": "#000033"
             }
            },
            "increasing": {
             "marker": {
              "color": "#000032"
             }
            },
            "totals": {
             "marker": {
              "color": "#000034"
             }
            },
            "type": "waterfall"
           }
          ]
         },
         "layout": {
          "coloraxis": {
           "colorscale": [
            [
             0,
             "#000011"
            ],
            [
             0.1111111111111111,
             "#000012"
            ],
            [
             0.2222222222222222,
             "#000013"
            ],
            [
             0.3333333333333333,
             "#000014"
            ],
            [
             0.4444444444444444,
             "#000015"
            ],
            [
             0.5555555555555556,
             "#000016"
            ],
            [
             0.6666666666666666,
             "#000017"
            ],
            [
             0.7777777777777778,
             "#000018"
            ],
            [
             0.8888888888888888,
             "#000019"
            ],
            [
             1,
             "#000020"
            ]
           ]
          },
          "colorscale": {
           "diverging": [
            [
             0,
             "#000021"
            ],
            [
             0.1,
             "#000022"
            ],
            [
             0.2,
             "#000023"
            ],
            [
             0.3,
             "#000024"
            ],
            [
             0.4,
             "#000025"
            ],
            [
             0.5,
             "#000026"
            ],
            [
             0.6,
             "#000027"
            ],
            [
             0.7,
             "#000028"
            ],
            [
             0.8,
             "#000029"
            ],
            [
             0.9,
             "#000030"
            ],
            [
             1,
             "#000031"
            ]
           ],
           "sequential": [
            [
             0,
             "#000011"
            ],
            [
             0.1111111111111111,
             "#000012"
            ],
            [
             0.2222222222222222,
             "#000013"
            ],
            [
             0.3333333333333333,
             "#000014"
            ],
            [
             0.4444444444444444,
             "#000015"
            ],
            [
             0.5555555555555556,
             "#000016"
            ],
            [
             0.6666666666666666,
             "#000017"
            ],
            [
             0.7777777777777778,
             "#000018"
            ],
            [
             0.8888888888888888,
             "#000019"
            ],
            [
             1,
             "#000020"
            ]
           ],
           "sequentialminus": [
            [
             0,
             "#000011"
            ],
            [
             0.1111111111111111,
             "#000012"
            ],
            [
             0.2222222222222222,
             "#000013"
            ],
            [
             0.3333333333333333,
             "#000014"
            ],
            [
             0.4444444444444444,
             "#000015"
            ],
            [
             0.5555555555555556,
             "#000016"
            ],
            [
             0.6666666666666666,
             "#000017"
            ],
            [
             0.7777777777777778,
             "#000018"
            ],
            [
             0.8888888888888888,
             "#000019"
            ],
            [
             1,
             "#000020"
            ]
           ]
          },
          "colorway": [
           "#000001",
           "#000002",
           "#000003",
           "#000004",
           "#000005",
           "#000006",
           "#000007",
           "#000008",
           "#000009",
           "#000010"
          ]
         }
        }
       }
      }
     },
     "metadata": {},
     "output_type": "display_data"
    }
   ],
   "source": [
    "fig = go.Figure()\n",
    "\n",
    "# Iterar sobre as colunas do DataFrame\n",
    "for col in ['gold', 'silver', 'bronze']:\n",
    "    fig.add_trace(go.Bar(x=df_teste.nation, y=df_teste[col], name=col))\n",
    "\n",
    "fig.update_layout(barcornerradius=15)\n",
    "fig.show()"
   ]
  },
  {
   "cell_type": "code",
   "execution_count": 288,
   "metadata": {},
   "outputs": [
    {
     "data": {
      "application/vnd.plotly.v1+json": {
       "config": {
        "plotlyServerURL": "https://plot.ly"
       },
       "data": [
        {
         "name": "gold",
         "type": "bar",
         "x": [
          "South Korea",
          "China",
          "Canada"
         ],
         "xaxis": "x",
         "y": [
          24,
          10,
          9
         ],
         "yaxis": "y"
        },
        {
         "name": "silver",
         "type": "bar",
         "x": [
          "South Korea",
          "China",
          "Canada"
         ],
         "xaxis": "x2",
         "y": [
          13,
          15,
          12
         ],
         "yaxis": "y2"
        },
        {
         "name": "bronze",
         "type": "bar",
         "x": [
          "South Korea",
          "China",
          "Canada"
         ],
         "xaxis": "x3",
         "y": [
          11,
          8,
          12
         ],
         "yaxis": "y3"
        }
       ],
       "layout": {
        "template": {
         "data": {
          "candlestick": [
           {
            "decreasing": {
             "line": {
              "color": "#000033"
             }
            },
            "increasing": {
             "line": {
              "color": "#000032"
             }
            },
            "type": "candlestick"
           }
          ],
          "contour": [
           {
            "colorscale": [
             [
              0,
              "#000011"
             ],
             [
              0.1111111111111111,
              "#000012"
             ],
             [
              0.2222222222222222,
              "#000013"
             ],
             [
              0.3333333333333333,
              "#000014"
             ],
             [
              0.4444444444444444,
              "#000015"
             ],
             [
              0.5555555555555556,
              "#000016"
             ],
             [
              0.6666666666666666,
              "#000017"
             ],
             [
              0.7777777777777778,
              "#000018"
             ],
             [
              0.8888888888888888,
              "#000019"
             ],
             [
              1,
              "#000020"
             ]
            ],
            "type": "contour"
           }
          ],
          "contourcarpet": [
           {
            "colorscale": [
             [
              0,
              "#000011"
             ],
             [
              0.1111111111111111,
              "#000012"
             ],
             [
              0.2222222222222222,
              "#000013"
             ],
             [
              0.3333333333333333,
              "#000014"
             ],
             [
              0.4444444444444444,
              "#000015"
             ],
             [
              0.5555555555555556,
              "#000016"
             ],
             [
              0.6666666666666666,
              "#000017"
             ],
             [
              0.7777777777777778,
              "#000018"
             ],
             [
              0.8888888888888888,
              "#000019"
             ],
             [
              1,
              "#000020"
             ]
            ],
            "type": "contourcarpet"
           }
          ],
          "heatmap": [
           {
            "colorscale": [
             [
              0,
              "#000011"
             ],
             [
              0.1111111111111111,
              "#000012"
             ],
             [
              0.2222222222222222,
              "#000013"
             ],
             [
              0.3333333333333333,
              "#000014"
             ],
             [
              0.4444444444444444,
              "#000015"
             ],
             [
              0.5555555555555556,
              "#000016"
             ],
             [
              0.6666666666666666,
              "#000017"
             ],
             [
              0.7777777777777778,
              "#000018"
             ],
             [
              0.8888888888888888,
              "#000019"
             ],
             [
              1,
              "#000020"
             ]
            ],
            "type": "heatmap"
           }
          ],
          "histogram2d": [
           {
            "colorscale": [
             [
              0,
              "#000011"
             ],
             [
              0.1111111111111111,
              "#000012"
             ],
             [
              0.2222222222222222,
              "#000013"
             ],
             [
              0.3333333333333333,
              "#000014"
             ],
             [
              0.4444444444444444,
              "#000015"
             ],
             [
              0.5555555555555556,
              "#000016"
             ],
             [
              0.6666666666666666,
              "#000017"
             ],
             [
              0.7777777777777778,
              "#000018"
             ],
             [
              0.8888888888888888,
              "#000019"
             ],
             [
              1,
              "#000020"
             ]
            ],
            "type": "histogram2d"
           }
          ],
          "icicle": [
           {
            "textfont": {
             "color": "white"
            },
            "type": "icicle"
           }
          ],
          "sankey": [
           {
            "textfont": {
             "color": "#000036"
            },
            "type": "sankey"
           }
          ],
          "scatter": [
           {
            "marker": {
             "line": {
              "width": 0
             }
            },
            "type": "scatter"
           }
          ],
          "table": [
           {
            "cells": {
             "fill": {
              "color": "#000038"
             },
             "font": {
              "color": "#000037"
             },
             "line": {
              "color": "#000039"
             }
            },
            "header": {
             "fill": {
              "color": "#000040"
             },
             "font": {
              "color": "#000036"
             },
             "line": {
              "color": "#000039"
             }
            },
            "type": "table"
           }
          ],
          "waterfall": [
           {
            "connector": {
             "line": {
              "color": "#000036",
              "width": 2
             }
            },
            "decreasing": {
             "marker": {
              "color": "#000033"
             }
            },
            "increasing": {
             "marker": {
              "color": "#000032"
             }
            },
            "totals": {
             "marker": {
              "color": "#000034"
             }
            },
            "type": "waterfall"
           }
          ]
         },
         "layout": {
          "coloraxis": {
           "colorscale": [
            [
             0,
             "#000011"
            ],
            [
             0.1111111111111111,
             "#000012"
            ],
            [
             0.2222222222222222,
             "#000013"
            ],
            [
             0.3333333333333333,
             "#000014"
            ],
            [
             0.4444444444444444,
             "#000015"
            ],
            [
             0.5555555555555556,
             "#000016"
            ],
            [
             0.6666666666666666,
             "#000017"
            ],
            [
             0.7777777777777778,
             "#000018"
            ],
            [
             0.8888888888888888,
             "#000019"
            ],
            [
             1,
             "#000020"
            ]
           ]
          },
          "colorscale": {
           "diverging": [
            [
             0,
             "#000021"
            ],
            [
             0.1,
             "#000022"
            ],
            [
             0.2,
             "#000023"
            ],
            [
             0.3,
             "#000024"
            ],
            [
             0.4,
             "#000025"
            ],
            [
             0.5,
             "#000026"
            ],
            [
             0.6,
             "#000027"
            ],
            [
             0.7,
             "#000028"
            ],
            [
             0.8,
             "#000029"
            ],
            [
             0.9,
             "#000030"
            ],
            [
             1,
             "#000031"
            ]
           ],
           "sequential": [
            [
             0,
             "#000011"
            ],
            [
             0.1111111111111111,
             "#000012"
            ],
            [
             0.2222222222222222,
             "#000013"
            ],
            [
             0.3333333333333333,
             "#000014"
            ],
            [
             0.4444444444444444,
             "#000015"
            ],
            [
             0.5555555555555556,
             "#000016"
            ],
            [
             0.6666666666666666,
             "#000017"
            ],
            [
             0.7777777777777778,
             "#000018"
            ],
            [
             0.8888888888888888,
             "#000019"
            ],
            [
             1,
             "#000020"
            ]
           ],
           "sequentialminus": [
            [
             0,
             "#000011"
            ],
            [
             0.1111111111111111,
             "#000012"
            ],
            [
             0.2222222222222222,
             "#000013"
            ],
            [
             0.3333333333333333,
             "#000014"
            ],
            [
             0.4444444444444444,
             "#000015"
            ],
            [
             0.5555555555555556,
             "#000016"
            ],
            [
             0.6666666666666666,
             "#000017"
            ],
            [
             0.7777777777777778,
             "#000018"
            ],
            [
             0.8888888888888888,
             "#000019"
            ],
            [
             1,
             "#000020"
            ]
           ]
          },
          "colorway": [
           "#000001",
           "#000002",
           "#000003",
           "#000004",
           "#000005",
           "#000006",
           "#000007",
           "#000008",
           "#000009",
           "#000010"
          ]
         }
        },
        "xaxis": {
         "anchor": "y",
         "domain": [
          0,
          0.2888888888888889
         ]
        },
        "xaxis2": {
         "anchor": "y2",
         "domain": [
          0.35555555555555557,
          0.6444444444444445
         ]
        },
        "xaxis3": {
         "anchor": "y3",
         "domain": [
          0.7111111111111111,
          1
         ]
        },
        "yaxis": {
         "anchor": "x",
         "domain": [
          0,
          1
         ]
        },
        "yaxis2": {
         "anchor": "x2",
         "domain": [
          0,
          1
         ],
         "matches": "y",
         "showticklabels": false
        },
        "yaxis3": {
         "anchor": "x3",
         "domain": [
          0,
          1
         ],
         "matches": "y",
         "showticklabels": false
        }
       }
      }
     },
     "metadata": {},
     "output_type": "display_data"
    }
   ],
   "source": [
    "df_teste = data.medals_wide()\n",
    "\n",
    "fig = make_subplots(rows=1, cols=len(acoes_selecionadas), shared_yaxes=True)\n",
    "\n",
    "\n",
    "# Iterar sobre as colunas do DataFrame\n",
    "for i, col in enumerate(df_teste.columns[1:], start=1):\n",
    "    fig.add_trace(\n",
    "        go.Bar(x=df_teste.nation, y=df_teste[col], name=col, ),\n",
    "        row=1, col=i\n",
    "    )\n",
    "\n",
    "fig.show()"
   ]
  }
 ],
 "metadata": {
  "kernelspec": {
   "display_name": "base",
   "language": "python",
   "name": "python3"
  },
  "language_info": {
   "codemirror_mode": {
    "name": "ipython",
    "version": 3
   },
   "file_extension": ".py",
   "mimetype": "text/x-python",
   "name": "python",
   "nbconvert_exporter": "python",
   "pygments_lexer": "ipython3",
   "version": "3.11.3"
  }
 },
 "nbformat": 4,
 "nbformat_minor": 2
}
